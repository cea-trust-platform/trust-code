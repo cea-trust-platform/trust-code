{
 "cells": [
  {
   "cell_type": "markdown",
   "id": "inappropriate-lingerie",
   "metadata": {},
   "source": [
    "# Running a TRUST computation for big cases"
   ]
  },
  {
   "cell_type": "markdown",
   "id": "024b04f0",
   "metadata": {},
   "source": [
    "### Description: \n",
    "\n",
    "This form explains what needs to be done if you want to perform a TRUST simulation with a number of entities in your mesh (number of nodes, or number of elements) exceeding the 32b integer limits (typically above 1Bio entities)."
   ]
  },
  {
   "cell_type": "markdown",
   "id": "8790bfd4-a489-4fdc-a192-0d69040589e6",
   "metadata": {},
   "source": [
    "In TRUST, a typical data set looks like this:\n",
    "\n",
    "```c\n",
    "dimension 2\n",
    "Pb_Thermohydraulique pb\n",
    "\n",
    "Domaine dom\n",
    "\n",
    "Read_MED { domaine dom file ./MESH/geom.med }\n",
    "/* or :\n",
    "    Mailler dom {\n",
    "     Pave cavit {\n",
    "     ...\n",
    "    }\n",
    "} */\n",
    "\n",
    "/* Splitting instruction - only used when creating the sub-domains for parallel computation : */\n",
    "Partition dom\n",
    "{\n",
    "    Partition_tool Tranche { tranches 2 1 }\n",
    "    ...\n",
    "}\n",
    "\n",
    "/* Scatter instruction - only used when executing the test case in parallel : \n",
    "Scatter DOM1.Zones dom_solide \n",
    "*/\n",
    "\n",
    "Scheme_euler_explicit sch\n",
    "Read sch\n",
    "{\n",
    " ...\n",
    "}\n",
    "...\n",
    "\n",
    "```\n"
   ]
  },
  {
   "cell_type": "markdown",
   "id": "obvious-arrangement",
   "metadata": {},
   "source": [
    "The dataset above can be executed both in sequential and in parallel."
   ]
  },
  {
   "cell_type": "markdown",
   "id": "73257b54-396c-4778-89ff-55d9e4eef69d",
   "metadata": {},
   "source": [
    "## Transforming the partionning part for 64b"
   ]
  },
  {
   "cell_type": "markdown",
   "id": "growing-hundred",
   "metadata": {},
   "source": [
    "If you want to go above the 32b limit, **only the dataset used for partitionning needs to be amended**. Below is typically an extract of the above dataset, cut just before the 'Scatter' keyword.\n",
    "\n",
    "The dataset used for partitionning must now use the '_64' objects:\n",
    "\n",
    "```c\n",
    "dimension 2\n",
    "Pb_Thermohydraulique pb\n",
    "\n",
    "Domaine_64 dom\n",
    "\n",
    "Read_MED_64 { domaine dom file ./MESH/geom.med }\n",
    "/* or :\n",
    "    Mailler_64 dom {\n",
    "     Pave_64 cavit {\n",
    "     ...\n",
    "    }\n",
    "} */\n",
    "\n",
    "/* Splitting instruction - only used when creating the sub-domains for parallel computation : */\n",
    "Partition_64 dom\n",
    "{\n",
    "    Partition_tool Tranche_64 { tranches 2 1 }\n",
    "    ...\n",
    "}\n",
    "\n",
    "```"
   ]
  },
  {
   "cell_type": "markdown",
   "id": "8ada5df4-589a-4f93-a79e-cd5c6bf6141b",
   "metadata": {},
   "source": [
    "Notice how the following objects have been changed:\n",
    "- 'domaine_64'\n",
    "- 'read_med_64' (or 'Mailler_64' and 'Pave_64')\n",
    "- 'partition_64'\n",
    "- 'tranche_64' (the partitionning tool)\n",
    "\n",
    "These 64b version of the objects can only be used for partioning (and early geometric transformations). Notably you can **not** perform a computation with it (see below), and hence a classical sequential (non parallel) computation can not be done with them."
   ]
  },
  {
   "cell_type": "markdown",
   "id": "f625aa09-6b61-4e0e-9c6c-0bce1958ea3b",
   "metadata": {},
   "source": [
    "## Transforming the parallel dataset for execution"
   ]
  },
  {
   "cell_type": "markdown",
   "id": "565b7a96-cba7-4938-93db-4cf2477b03ff",
   "metadata": {},
   "source": [
    "The part of the dataset used for the parallel run itself remains unchanged compared to a standard TRUST computation, and looks like this:\n",
    "\n",
    "```c\n",
    "dimension 2\n",
    "Pb_Thermohydraulique pb\n",
    "\n",
    "Domaine dom\n",
    "\n",
    "Scatter DOM1.Zones dom_solide \n",
    "\n",
    "Scheme_euler_explicit sch\n",
    "Read sch\n",
    "{\n",
    " ...\n",
    "}\n",
    "...\n",
    "```"
   ]
  },
  {
   "cell_type": "markdown",
   "id": "97b0dca6-1cfa-495a-b15d-05808e475de6",
   "metadata": {},
   "source": [
    "Notice how we use a simple 'Domaine' again (not a 'Domaine_64') since this dataset now loads only part of the big domain on each proc, and this always smaller, and will fit within 32b."
   ]
  },
  {
   "cell_type": "markdown",
   "id": "6ba9290f-7105-4660-abb2-3a205046e462",
   "metadata": {},
   "source": [
    "## Test case\n",
    "In the TRUST test database, the test case \"MED_docond_64\" performs a 64b computation. The syntax of the dataset is a bit akward just so that it passes the automatic TRUST checks in both sequential and parallel."
   ]
  }
 ],
 "metadata": {
  "kernelspec": {
   "display_name": "Python 3 (ipykernel)",
   "language": "python",
   "name": "python3"
  },
  "language_info": {
   "codemirror_mode": {
    "name": "ipython",
    "version": 3
   },
   "file_extension": ".py",
   "mimetype": "text/x-python",
   "name": "python",
   "nbconvert_exporter": "python",
   "pygments_lexer": "ipython3",
   "version": "3.12.5"
  }
 },
 "nbformat": 4,
 "nbformat_minor": 5
}
