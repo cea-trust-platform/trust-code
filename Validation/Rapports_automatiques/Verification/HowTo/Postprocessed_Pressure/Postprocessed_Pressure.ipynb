{
 "cells": [
  {
   "cell_type": "markdown",
   "id": "inappropriate-lingerie",
   "metadata": {},
   "source": [
    "# 3D examples to post-process the pressure for incompressible flow"
   ]
  },
  {
   "cell_type": "code",
   "execution_count": null,
   "id": "87ed885d",
   "metadata": {},
   "outputs": [],
   "source": [
    "from trustutils import run \n",
    "\n",
    "run.introduction(\"MR\")\n",
    "\n",
    "run.TRUST_parameters(\"1.7.6\")"
   ]
  },
  {
   "cell_type": "markdown",
   "id": "69d64d8c",
   "metadata": {},
   "source": [
    "### Description: \n",
    "\n",
    "This report was made to show how to post-process the pressure field with TRUST. The idea is to know what is coded behind the keywords: pression, pression_Pa, pressure, P_star, pression_hydrostatique on an analytic case. At last, you can find a part about how to post-process the total pressure."
   ]
  },
  {
   "cell_type": "code",
   "execution_count": null,
   "id": "e53f3f1c-d660-49f5-b4be-a6d1c152f5a9",
   "metadata": {},
   "outputs": [],
   "source": [
    "from trustutils import run \n",
    "\n",
    "for i in [\"g\", \"gx\"]:\n",
    "    for j in [\"muscl\", \"negligeable\", \"ef_stab\"]:\n",
    "        run.addCase(f\"PAR_VEF_P0P1_{i}_{j}\",f\"PAR_VEF_P0P1_{i}_{j}.data\",nbProcs=3)\n",
    "        \n",
    "run.printCases()\n",
    "run.runCases()"
   ]
  },
  {
   "cell_type": "markdown",
   "id": "6a767b09",
   "metadata": {},
   "source": [
    "## General informations"
   ]
  },
  {
   "cell_type": "markdown",
   "id": "01ea4fad",
   "metadata": {},
   "source": [
    "### Poiseuille flow\n",
    "\n",
    "Consider a laminar flow ($Re<2000$) of a fluid of viscosity $\\mu$ and density $\\rho$, in a cylindrical pipe of radius $R=0.1$, placed horizontally. The next graph explains this configuration and m       akes it possible to define a cylindrical reference mark whose axis of revolution is that of the pipe and corresponds to the direction of the laminar flow. \n",
    "\n",
    "<img src=\"src/fig.png\">\n",
    "\n",
    "Under these conditions, since the flow is laminar, the velocity vector at every point is written: \n",
    "\n",
    "$$\\vec{V}=v_r \\vec{e}_r + v_{\\theta} \\vec{e}_{\\theta} + v_x\\vec{e}_x=u(r,\\theta,x) \\vec{e}_x$$ \n",
    "\n",
    "as here $v_r=v_{\\theta}=0$. \n",
    "\n",
    "Then in cylindrical coordinates: \n",
    "\n",
    "$$ \\nabla \\cdot \\vec{V} = 0 = \\frac{1}{r} \\frac{\\partial (r v_r)}       {\\partial r} + \\frac{1}{r} \\frac{\\partial v_{\\theta}}{\\partial \\theta} + \\frac{\\partial v_x}{\\partial x} = \\frac{\\partial u}{\\partial x}=0$$ \n",
    "\n",
    "So $ \\vec{V}=u(r,\\theta) \\vec{e}_x $. And by symmetry of revolution $ \\frac{\\partial v_{\\theta}}{\\partial \\theta} =0 $ so: \n",
    "\n",
    "$$ \\vec{V}=u(r) \\vec{e}_x$$ \n",
    "\n",
    "Now take the equation governing the evolution of the total pressure $P_t(=p+\\rho g z + \\frac{1}{2}\\rho v^2)$ along a laminar flow oriented along the axis $x$: \n",
    "\n",
    "$$\\frac{dP_t}{dx}=\\mu \\Delta u$$  \n",
    "\n",
    "And develop the expression of the Laplacian taking into account the    fact that $u$ depends only on $x$: \n",
    "\n",
    "$$\\frac{dP_t}{dx}=\\mu \\frac{1}{r} \\frac{\\partial}{\\partial r} \\left(r \\frac{\\partial u}{\\partial r}\\right)$$ \n",
    "\n",
    "Where the left-hand term depends only on $x$ and on the right-hand side only $r$. It follows that the members of this equation are equal to the same constant K. Thus, we have: \n",
    "\n",
    "$\\displaystyle{\\frac{dP_t}{dx}=K}$ reflecting the regular pressure drop;\n",
    "\n",
    "$\\displaystyle{\\mu \\frac{1}{r} \\frac{\\partial}{\\partial r} \\left(r \\frac{\\partial u}{\\partial r}\\right)}$ allowing the determination of the velocity profile.\n",
    "\n",
    "Solving the second equation, we have: \n",
    "\n",
    "$$u(r)=\\frac{K}{4 \\mu} r^2 + K^{'} ln(r) + K^{''}$$ \n",
    "\n",
    "Using $u(r=R)=0$ and $u(r=0)=u_{max}$ then: \n",
    "\n",
    "$$u(r)=\\frac{K}{4 \\mu} (r^2-R^2)$$ \n",
    "\n",
    "And we can write $u_{max}=u(0)=-\\frac{KR^2}{4\\mu}$ so \n",
    "\n",
    "$$K=-\\frac{4 \\mu}{R^2} u_{max}$$ \n",
    "\n",
    "The average velocity $V_{moy}=<u>$ can be expressed in function of the volume flow rate $Q_v$: \n",
    "\n",
    "$$<u>=\\frac{Q_v}{S}=\\frac{1}{\\pi R^2} \\iint V \\cdot \\vec{n} dS = \\frac{1}{\\pi R^2} \\iint u(r) dS=\\frac{1}{\\pi R^2} \\int_0^R u(r) 2 \\pi r dr= -\\frac{KR^2}{8\\mu}=-\\frac{u_{max}}{2}$$ \n",
    "\n",
    "with $S=\\pi R^2$ so $dS=2\\pi r dr$. So $\\displaystyle{Q_v=<u> S=<u>\\pi R^2 =-\\frac{K \\pi R^4}{8 \\mu}}$.\n",
    "\n",
    "Then $\\displaystyle{\\frac{dP_t}{dx}=K}$ leads to: \n",
    "\n",
    "$$\\Delta P_t =-\\frac{dP_t}{dx} \\Delta x=-K \\Delta x= \\frac{8 \\mu <u> L}{R^2}$$ \n",
    "\n",
    "with $L=\\Delta x$ the length of the pipe.\n",
    "\n",
    "Set $D=2R$ the height of the pipe (diameter) and $v=<u>$ the average velocity, then: \n",
    "\n",
    "$$\\Delta P_t=\\frac{8 \\mu v L}{(D/2)^2}=\\left(\\frac{1}{2}\\rho v^2\\right)\\left(\\frac{64 \\mu}{\\rho v D}\\right)\\frac{L}{D} = \\left(\\frac{1}{2}\\rho v^2\\right)\\left(\\frac{64}{Re}\\right)\\frac{L}{D}$$\n",
    "\n",
    "with $Re=\\frac{\\rho v D}{\\mu}$ the Reynolds number where $\\lambda=\\frac{64}{Re}$ is the coefficient of pressure loss.\n",
    "\n",
    "Reference: http://res-nlp.univ-lemans.fr/NLP_C_M02_G02/co/Contenu_29.html"
   ]
  },
  {
   "cell_type": "markdown",
   "id": "growing-hundred",
   "metadata": {},
   "source": [
    "### Geometry used: VEF mesh\n",
    "\n",
    "Here we made calculs on a column of water. \n",
    "\n",
    "Inlet mesh done with gmsh then extrude with TRUST."
   ]
  },
  {
   "cell_type": "code",
   "execution_count": null,
   "id": "9df44aee",
   "metadata": {},
   "outputs": [],
   "source": [
    "run.dumpText(\"PAR_VEF_P0P1_g_muscl/nb_elem_tot.txt\")"
   ]
  },
  {
   "cell_type": "code",
   "execution_count": null,
   "id": "7a494a92",
   "metadata": {},
   "outputs": [],
   "source": [
    "from trustutils import visit\n",
    "\n",
    "a = visit.Show(\"PAR_VEF_P0P1_g_muscl/PAR_VEF_P0P1_g_muscl.lata\",'Mesh','dom')\n",
    "a.normal3D([0.6,-0.81,0.07])\n",
    "a.up3D([-0.01,0.08,1])\n",
    "a.plot()\n"
   ]
  },
  {
   "cell_type": "markdown",
   "id": "e9571bac",
   "metadata": {},
   "source": [
    "### Probes localisation on Inlet and Outlet boundaries\n",
    "\n",
    "The meshes are the same on the Inlet and Outlet. \n",
    "\n"
   ]
  },
  {
   "cell_type": "markdown",
   "id": "a1813bfb",
   "metadata": {},
   "source": [
    "Coordinates of the <font color='red'>red</font> probe: "
   ]
  },
  {
   "cell_type": "code",
   "execution_count": null,
   "id": "ecd28b7e",
   "metadata": {},
   "outputs": [],
   "source": [
    "run.dumpText(\"PAR_VEF_P0P1_g_muscl/probe1.txt\")"
   ]
  },
  {
   "cell_type": "markdown",
   "id": "0eb3a82a",
   "metadata": {},
   "source": [
    "Coordinates of the <font color='green'>green</font> probe:"
   ]
  },
  {
   "cell_type": "code",
   "execution_count": null,
   "id": "cffaa118",
   "metadata": {},
   "outputs": [],
   "source": [
    "run.dumpText(\"PAR_VEF_P0P1_g_muscl/probe2.txt\")"
   ]
  },
  {
   "cell_type": "code",
   "execution_count": null,
   "id": "3035dd9f",
   "metadata": {},
   "outputs": [],
   "source": [
    "from trustutils import visit\n",
    "\n",
    "a = visit.Show(\"PAR_VEF_P0P1_g_muscl/PAR_VEF_P0P1_g_muscl_P_TOT1DRAWA.son\",\"Mesh\",\"MESH\")\n",
    "a.normal3D([-1,0.,0.])\n",
    "a.up3D([0.,0.,1])\n",
    "a.zoom3D([0.15,0.15,0.8])\n",
    "a.meshColor(\"red\")\n",
    "a.visitCommand('MeshAtts.pointSizePixels=10')\n",
    "a.visitCommand('SetPlotOptions(MeshAtts)')\n",
    "a.addField(\"PAR_VEF_P0P1_g_muscl/PAR_VEF_P0P1_g_muscl_P_TOT2DRAWA.son\",\"Mesh\",\"MESH\")\n",
    "a.meshColor(\"green\")\n",
    "a.visitCommand('MeshAtts.pointSizePixels=10')\n",
    "a.visitCommand('SetPlotOptions(MeshAtts)')\n",
    "a.addField(\"PAR_VEF_P0P1_g_muscl/PAR_VEF_P0P1_g_muscl.lata\",\"Mesh\",\"dom_boundaries/Inlet\")\n",
    "a.plot()\n"
   ]
  },
  {
   "cell_type": "markdown",
   "id": "4cc335d4",
   "metadata": {},
   "source": [
    "### Physical properties of the fluid\n"
   ]
  },
  {
   "cell_type": "code",
   "execution_count": null,
   "id": "e3df3ba5",
   "metadata": {},
   "outputs": [],
   "source": [
    "from trustutils import plot\n",
    "\n",
    "a = plot.Table([\"\"])\n",
    "data = plot.loadText(\"PAR_VEF_P0P1_g_muscl/propertiesGeometry.dat\")\n",
    "a.addLine([data[1]],'Density $\\rho$ ($kg/m^3$)')\n",
    "a.addLine([data[0]],'Dynamic viscosity $\\mu$ ($kg/(m.s)$)')\n",
    "a.df"
   ]
  },
  {
   "cell_type": "markdown",
   "id": "28fe86ff",
   "metadata": {},
   "source": [
    "### Flow characteristics\n"
   ]
  },
  {
   "cell_type": "code",
   "execution_count": null,
   "id": "7533f1dc",
   "metadata": {},
   "outputs": [],
   "source": [
    "a = plot.Table([\"\"])\n",
    "data = plot.loadText(\"PAR_VEF_P0P1_g_muscl/propertiesGeometry.dat\")\n",
    "a.addLine([data[2]],'u_{max}')\n",
    "a.addLine([data[3]],'u_{moy}')\n",
    "a.addLine([data[5]],'Reynolds number $Re$')\n",
    "a.addLine([data[4]],'Theoretical volume flow rate $Q_v$')\n",
    "a.addLine([data[6]],'$\\Delta P$ theoretical')\n",
    "display(a)"
   ]
  },
  {
   "cell_type": "markdown",
   "id": "76c18f20",
   "metadata": {},
   "source": [
    "### Initial conditions"
   ]
  },
  {
   "cell_type": "code",
   "execution_count": null,
   "id": "af08c7c8",
   "metadata": {},
   "outputs": [],
   "source": [
    "from trustutils import run\n",
    "run.dumpText('IC.txt',\n",
    "            [\"initial_conditions\", \n",
    "              \"boundary_conditions\", \n",
    "              \"vitesse\", \n",
    "              \"Champ_Uniforme\", \n",
    "              \"paroi_fixe\", \n",
    "              \"Frontiere_ouverte_vitesse_imposee\", \n",
    "              \"Champ_front_Uniforme\", \n",
    "              \"Frontiere_ouverte_pression_imposee\"])"
   ]
  },
  {
   "cell_type": "markdown",
   "id": "afafd8c4",
   "metadata": {},
   "source": [
    "### Boundary conditions"
   ]
  },
  {
   "cell_type": "code",
   "execution_count": null,
   "id": "39fada67",
   "metadata": {},
   "outputs": [],
   "source": [
    "from trustutils import run\n",
    "run.dumpText('CL.txt',\n",
    "             [\"initial_conditions\", \n",
    "              \"boundary_conditions\", \n",
    "              \"vitesse\", \n",
    "              \"Champ_Uniforme\", \n",
    "              \"paroi_fixe\", \n",
    "              \"Frontiere_ouverte_vitesse_imposee\", \n",
    "              \"Champ_front_Uniforme\", \n",
    "              \"Frontiere_ouverte_pression_imposee\"])"
   ]
  },
  {
   "cell_type": "markdown",
   "id": "9500a677",
   "metadata": {},
   "source": [
    "## Cylinder belong z axis and $\\vec{g}=-g \\vec{e}_z$ "
   ]
  },
  {
   "cell_type": "markdown",
   "id": "9d09c556",
   "metadata": {},
   "source": [
    "### Gravity vector"
   ]
  },
  {
   "cell_type": "code",
   "execution_count": null,
   "id": "2363c0ba",
   "metadata": {
    "scrolled": true
   },
   "outputs": [],
   "source": [
    "run.dumpText('gravity.txt',\n",
    "            [\"Champ_Uniforme\", \n",
    "              \"Read\"])"
   ]
  },
  {
   "cell_type": "markdown",
   "id": "9e115a84",
   "metadata": {},
   "source": [
    "### Initial state: Velocity field\n",
    "\n",
    "We impose in inlet: $$u(r)=\\frac{K}{4 \\mu} \\left(r^2-R^2\\right)=-\\frac{u_{max}}{R^2} \\left(r^2-R^2\\right)$$ with $u_{max}=u(0)=0.01$, $R=0.1$ and $r=y^2+z^2$"
   ]
  },
  {
   "cell_type": "code",
   "execution_count": null,
   "id": "cdbe5b7f",
   "metadata": {},
   "outputs": [],
   "source": [
    "a = visit.Show(\"PAR_VEF_P0P1_g_muscl/PAR_VEF_P0P1_g_muscl.lata\",\"Pseudocolor\",\"norme_VITESSE_FACES_dom_dual\")\n",
    "a.up3D([0, 1, -0.08])\n",
    "a.normal3D([-0.65,0.1,0.75])\n",
    "a.zoom3D([0.15,0.15,0.8])\n",
    "a.plot()"
   ]
  },
  {
   "cell_type": "markdown",
   "id": "531be600",
   "metadata": {},
   "source": [
    "### Initial state: Pressure field\n",
    "\n",
    "The imposed pressure in boundary condition correspond to the TRUST field named 'Pressure'.This is the Navier-Stokes pressure $P_{NS}$ in Pascals (for incompressible flow):\n",
    "\n",
    "   **$P_{NS}$ ='Pression\\_Pa'='Pressure' in [Pa]**."
   ]
  },
  {
   "cell_type": "code",
   "execution_count": null,
   "id": "fbaafa5c",
   "metadata": {},
   "outputs": [],
   "source": [
    "a = visit.Show(\"PAR_VEF_P0P1_g_muscl/PAR_VEF_P0P1_g_muscl.lata\",\"Pseudocolor\",\"PRESSION_PA_ELEM_dom\",iteration=0,min=0.01,max=10)\n",
    "a.up3D([0, 1, -0.08])\n",
    "a.normal3D([-0.65,0.1,0.75])\n",
    "a.zoom3D([0.15,0.15,0.8])\n",
    "a.plot()"
   ]
  },
  {
   "cell_type": "markdown",
   "id": "6fcfb4fb",
   "metadata": {},
   "source": [
    "and: **'Pression' = 'P\\_star' = $ \\frac{1}{\\rho} P_{NS}$ in $[m^2/s^2]$**. "
   ]
  },
  {
   "cell_type": "code",
   "execution_count": null,
   "id": "1731d5d1",
   "metadata": {},
   "outputs": [],
   "source": [
    "a = visit.Show(\"PAR_VEF_P0P1_g_muscl/PAR_VEF_P0P1_g_muscl.lata\",\"Pseudocolor\",\"PRESSION_ELEM_dom\",iteration=0,min=0.01,max=10)\n",
    "a.up3D([0, 1, -0.08])\n",
    "a.normal3D([-0.65,0.1,0.75])\n",
    "a.zoom3D([0.15,0.15,0.8])\n",
    "a.plot()"
   ]
  },
  {
   "cell_type": "markdown",
   "id": "9c058568",
   "metadata": {},
   "source": [
    "### Mean of the pressure field at the Outlet\n",
    "\n",
    "We want to verify the pressure at the outlet of the cylinder where we imposed the pressure field to be 10. For that we create a new field with the 'Definition_champ' TRUST keyword. \n",
    "\n",
    "Syntax of the Definition_champ block for the mean of the 'pression' field on the outlet in the data"
   ]
  },
  {
   "cell_type": "code",
   "execution_count": null,
   "id": "903e32a4",
   "metadata": {},
   "outputs": [],
   "source": [
    "run.dumpText(\"mean_pression_outlet.txt\",\n",
    "            [\"Reduction_0D\", \n",
    "             \"methode\", \n",
    "             \"moyenne\", \n",
    "             \"source\", \n",
    "             \"interpolation\", \n",
    "             \"domaine\", \n",
    "             \"localisation\", \n",
    "             \"elem\", \n",
    "             \"refChamp\",\n",
    "             \"Pb_champ, pression\", \n",
    "             \"pression_pa\"])"
   ]
  },
  {
   "cell_type": "code",
   "execution_count": null,
   "id": "25a44cf0",
   "metadata": {},
   "outputs": [],
   "source": [
    "run.dumpText(\"mean_pression_outlet_probe.txt\",[\"periode\", \"numero_elem_sur_maitre\"])"
   ]
  },
  {
   "cell_type": "markdown",
   "id": "c36969d6",
   "metadata": {},
   "source": [
    "The obtained values confirm that Navier-stokes pressure \n",
    "\n",
    "**$P_{NS}$ ='Pression\\_Pa'='Pressure'** in [Pa] and **'Pression' = 'P\\_star' = $ \\frac{1}{\\rho} P_{NS}$** in $[m^2/s^2]$ "
   ]
  },
  {
   "cell_type": "code",
   "execution_count": null,
   "id": "27252cac",
   "metadata": {},
   "outputs": [],
   "source": [
    "from trustutils import plot\n",
    "\n",
    "a = plot.Table([\"\"])\n",
    "data = plot.loadText(\"PAR_VEF_P0P1_g_muscl/mean_pressure.dat\")\n",
    "a.addLine([data[1]],\"Mean 'Pression_Pa' field in Pascals\")\n",
    "a.addLine([data[2]],\"Mean 'Pressure' field in Pascals\")\n",
    "a.addLine([data[0]],\"Mean 'Pression' field in $[m^2/s^2]$\")\n",
    "a.addLine([data[3]],\"Mean 'P_Star' field in $[m^2/s^2]$\")\n",
    "display(a)"
   ]
  },
  {
   "cell_type": "markdown",
   "id": "b7dfdaca",
   "metadata": {},
   "source": [
    "### Flow rate"
   ]
  },
  {
   "cell_type": "code",
   "execution_count": null,
   "id": "0c3757e3",
   "metadata": {},
   "outputs": [],
   "source": [
    "from trustutils import plot\n",
    "\n",
    "a = plot.Table([\"Theoretical volume flow rate\",\"TRUST volume flow rate\",\"Error on $Q_v$ in $\\%$\"])\n",
    "\n",
    "data = plot.loadText(\"PAR_VEF_P0P1_g_muscl/propertiesGeometry.dat\")\n",
    "a.addLine([[data[4],data[15],data[16]]],\"muscl\")\n",
    "\n",
    "data = plot.loadText(\"PAR_VEF_P0P1_g_ef_stab/propertiesGeometry.dat\")\n",
    "a.addLine([[data[4],data[15],data[16]]],\"Ef_Stab\")\n",
    "\n",
    "data = plot.loadText(\"PAR_VEF_P0P1_g_negligeable/propertiesGeometry.dat\")\n",
    "a.addLine([[data[4],data[15],data[16]]],\"Negligeable\")\n",
    "\n",
    "display(a)"
   ]
  },
  {
   "cell_type": "markdown",
   "id": "9cae2f2f",
   "metadata": {},
   "source": [
    "<!-- ### Velocity slice belong Y axis -->"
   ]
  },
  {
   "cell_type": "code",
   "execution_count": null,
   "id": "279ddaf5",
   "metadata": {},
   "outputs": [],
   "source": [
    "# from trustutils import visit\n",
    "\n",
    "# a = visit.Show(\"PAR_VEF_P0P1_g_muscl/PAR_VEF_P0P1_g_muscl.lata\",\"Pseudocolor\",\"norme_VITESSE_FACES_dom_dual\")\n",
    "# a.up3D([0, 1, -0.08])\n",
    "# a.normal3D([-0.65,0.1,0.75])\n",
    "# a.slice(origin=[0,0,0],normal=[0,1,0])\n",
    "# a.plot()"
   ]
  },
  {
   "cell_type": "markdown",
   "id": "bc85b1e0",
   "metadata": {},
   "source": [
    "### Velocity profile for a Poiseuille flow at final time step for $x=0.05$"
   ]
  },
  {
   "cell_type": "code",
   "execution_count": null,
   "id": "1eb08b19",
   "metadata": {},
   "outputs": [],
   "source": [
    "from trustutils import run\n",
    "run.dumpText(\"VITX_probe.txt\",[\"vitesseX\", \"segment\", \"periode\"])"
   ]
  },
  {
   "cell_type": "code",
   "execution_count": null,
   "id": "4840863f",
   "metadata": {},
   "outputs": [],
   "source": [
    "import numpy as np\n",
    "\n",
    "a = plot.Graph(\"Velocity profil for a Poiseuille flow at final time step for $x=0.05$\")\n",
    "x = np.linspace(-0.1,0.1,100)\n",
    "y = -0.01*(x*x-0.1*0.1)/(0.1*0.1)\n",
    "a.add(x,y,label='Analytic solution')\n",
    "a.addSegment(\"PAR_VEF_P0P1_g_muscl/PAR_VEF_P0P1_g_muscl_VITX.son\",compo=0,label=\"Muscl vitX probe\",marker=\"-x\")\n",
    "a.addSegment(\"PAR_VEF_P0P1_g_ef_stab/PAR_VEF_P0P1_g_ef_stab_VITX.son\",compo=0,label=\"Ef_stab vitX probe\",marker=\"-*\")\n",
    "a.addSegment(\"PAR_VEF_P0P1_g_negligeable/PAR_VEF_P0P1_g_negligeable_VITX.son\",compo=0,label=\"Negligeable vitX probe\",marker='-s',mfc='None')\n",
    "a.label(\"X (m)\",\"Velocity (m/s)\")"
   ]
  },
  {
   "cell_type": "markdown",
   "id": "3ac8d178",
   "metadata": {},
   "source": [
    "<!-- ### Pressure slice belong Y axis -->"
   ]
  },
  {
   "cell_type": "code",
   "execution_count": null,
   "id": "1bb4fe6c",
   "metadata": {},
   "outputs": [],
   "source": [
    "# a = visit.Show(\"PAR_VEF_P0P1_g_muscl/PAR_VEF_P0P1_g_muscl.lata\",\"Pseudocolor\",\"PRESSURE_TOT_ELEM_dom\")\n",
    "# a.up3D([0, 1, -0.08])\n",
    "# a.normal3D([-0.65,0.1,0.75])\n",
    "# a.slice(origin=[0,0,0],normal=[0,1,0])\n",
    "# a.plot()"
   ]
  },
  {
   "cell_type": "markdown",
   "id": "d31c67cd",
   "metadata": {},
   "source": [
    "### Total pressure profile\n",
    "\n",
    "Here we don't concider the hydrostatic pressure because in this configuration, the gravity pushes the flow."
   ]
  },
  {
   "cell_type": "code",
   "execution_count": null,
   "id": "3bb2994c",
   "metadata": {
    "scrolled": true
   },
   "outputs": [],
   "source": [
    "run.dumpText(\"pression_tot.txt\",\n",
    "            [\"Predefini\", \n",
    "             \"Transformation\", \n",
    "             \"methode\", \n",
    "             \"formule\", \n",
    "             \"expression\", \n",
    "             \"localisation\", \n",
    "             \"elem\", \n",
    "             \"sources_reference\", \n",
    "             \"energie_cinetique_elem\", \n",
    "             \"sources\", \n",
    "             \"RefChamp\", \n",
    "             \"Pb_champ\", \n",
    "             \"pression_pa\", \n",
    "             \"nom_source\", \n",
    "             \"pression_hydrostatique\", \n",
    "             \"masse_volumique\"])"
   ]
  },
  {
   "cell_type": "code",
   "execution_count": null,
   "id": "41801dae",
   "metadata": {},
   "outputs": [],
   "source": [
    "from trustutils import plot\n",
    "\n",
    "a = plot.Graph(\"Totale pressure profile\")\n",
    "\n",
    "a.addSegment(\"PAR_VEF_P0P1_g_muscl/PAR_VEF_P0P1_g_muscl_PTOT.son\",label=\"Muscl $P_{tot}$ probe\",marker=\"-x\")\n",
    "a.addSegment(\"PAR_VEF_P0P1_g_ef_stab/PAR_VEF_P0P1_g_ef_stab_PTOT.son\",label=\"Ef_stab $P_{tot}$ probe\",marker=\"-*\")\n",
    "a.addSegment(\"PAR_VEF_P0P1_g_negligeable/PAR_VEF_P0P1_g_negligeable_PTOT.son\",label=\"Negligeable $P_{tot}$ probe\",marker=\"-s\",mfc='None')\n",
    "a.label(\"X (m)\",\"pressure (Pa)\")"
   ]
  },
  {
   "cell_type": "markdown",
   "id": "5c1171f5",
   "metadata": {},
   "source": [
    "### Pressure profil"
   ]
  },
  {
   "cell_type": "code",
   "execution_count": null,
   "id": "2a5e1de6",
   "metadata": {},
   "outputs": [],
   "source": [
    "a = plot.Graph(\"Pressure profile\")\n",
    "x = np.linspace(0,0.1,100)\n",
    "y = -4*0.001002*0.01*(x-0.1)/(0.1*0.1)+10\n",
    "a.add(x,y,label='Analytic solution')\n",
    "a.addSegment(\"PAR_VEF_P0P1_g_muscl/PAR_VEF_P0P1_g_muscl_P_PA.son\",label=\"Muscl P PA probe\",marker='-x')\n",
    "a.addSegment(\"PAR_VEF_P0P1_g_ef_stab/PAR_VEF_P0P1_g_ef_stab_P_PA.son\",label=\"Ef_stab P PA probe\",marker=\"-*\")\n",
    "a.addSegment(\"PAR_VEF_P0P1_g_negligeable/PAR_VEF_P0P1_g_negligeable_P_PA.son\",label=\"Negligeable P PA probe\",marker=\"-s\",mfc='None')\n",
    "a.label(\"X (m)\",\"pressure (Pa)\")"
   ]
  },
  {
   "cell_type": "markdown",
   "id": "9e09ac87",
   "metadata": {},
   "source": [
    "### Pressure hydrostatique profil"
   ]
  },
  {
   "cell_type": "code",
   "execution_count": null,
   "id": "64efdf00",
   "metadata": {},
   "outputs": [],
   "source": [
    "a = plot.Graph(\"Pressure hydrostatic profile\")\n",
    "x = np.linspace(0,0.1,100)\n",
    "y = 0.*x\n",
    "a.add(x,y,label='Analytic solution')\n",
    "a.addSegment(\"PAR_VEF_P0P1_g_muscl/PAR_VEF_P0P1_g_muscl_PRESSION_HYDRO.son\",label=\"Muscl pression hydro probe\",marker='-x')\n",
    "a.addSegment(\"PAR_VEF_P0P1_g_ef_stab/PAR_VEF_P0P1_g_ef_stab_PRESSION_HYDRO.son\",label=\"Ef_stab pression hydro probe\",marker=\"-*\")\n",
    "a.addSegment(\"PAR_VEF_P0P1_g_negligeable/PAR_VEF_P0P1_g_negligeable_PRESSION_HYDRO.son\",label=\"Negligeable pression hydro probe\",marker=\"-s\",mfc='None')\n",
    "a.label(\"X (m)\",\"pressure (Pa)\")"
   ]
  },
  {
   "cell_type": "markdown",
   "id": "02bf1415",
   "metadata": {},
   "source": [
    "### Kinetic energy profile"
   ]
  },
  {
   "cell_type": "code",
   "execution_count": null,
   "id": "8d0a9031",
   "metadata": {},
   "outputs": [],
   "source": [
    "a = plot.Graph(\"Kinetic energy profile\")\n",
    "x = np.linspace(0,0.1,100)\n",
    "y = [0.05]*100\n",
    "a.add(x,y,label='Analytic solution')\n",
    "a.addSegment(\"PAR_VEF_P0P1_g_muscl/PAR_VEF_P0P1_g_muscl_EC.son\",label=\"Muscl ec probe\",marker='-x')\n",
    "a.addSegment(\"PAR_VEF_P0P1_g_ef_stab/PAR_VEF_P0P1_g_ef_stab_EC.son\",label=\"Ef_stab ec probe\",marker=\"-*\")\n",
    "a.addSegment(\"PAR_VEF_P0P1_g_negligeable/PAR_VEF_P0P1_g_negligeable_EC.son\",label=\"Negligeable ec probe\",marker=\"-s\",mfc='None')\n",
    "a.label(\"X (m)\",\"pressure (Pa)\")"
   ]
  },
  {
   "cell_type": "markdown",
   "id": "a536922f",
   "metadata": {},
   "source": [
    "### Pressure drop on the mean of the pressure at the inlet and outlet"
   ]
  },
  {
   "cell_type": "code",
   "execution_count": null,
   "id": "24181ec7",
   "metadata": {},
   "outputs": [],
   "source": [
    "from trustutils import plot\n",
    "\n",
    "a = plot.Table([\"$\\Delta P$ Theoretical\",\"$\\Delta P$ TRUST\",\"Error on $\\Delta P$ in $\\%$\"])\n",
    "\n",
    "data = plot.loadText(\"PAR_VEF_P0P1_g_muscl/propertiesGeometry.dat\")\n",
    "a.addLine([[data[6],data[13],data[14]]],\"muscl\")\n",
    "\n",
    "data = plot.loadText(\"PAR_VEF_P0P1_g_ef_stab/propertiesGeometry.dat\")\n",
    "a.addLine([[data[6],data[13],data[14]]],\"Ef_Stab\")\n",
    "\n",
    "data = plot.loadText(\"PAR_VEF_P0P1_g_negligeable/propertiesGeometry.dat\")\n",
    "a.addLine([[data[6],data[13],data[14]]],\"Negligeable\")\n",
    "\n",
    "display(a)"
   ]
  },
  {
   "cell_type": "markdown",
   "id": "ef66ec76",
   "metadata": {},
   "source": [
    "### Pressure drop between the two symmetrical points of the probe 1"
   ]
  },
  {
   "cell_type": "code",
   "execution_count": null,
   "id": "26ae2000",
   "metadata": {},
   "outputs": [],
   "source": [
    "from trustutils import plot\n",
    "\n",
    "a = plot.Table([\"$\\Delta P$ Theoretical\",\"$\\Delta P$ TRUST\",\"Error on $\\Delta P$ in $\\%$\"])\n",
    "\n",
    "data = plot.loadText(\"PAR_VEF_P0P1_g_muscl/propertiesGeometry.dat\")\n",
    "a.addLine([[data[6],data[7],data[8]]],\"muscl\")\n",
    "\n",
    "data = plot.loadText(\"PAR_VEF_P0P1_g_ef_stab/propertiesGeometry.dat\")\n",
    "a.addLine([[data[6],data[7],data[8]]],\"Ef_Stab\")\n",
    "\n",
    "data = plot.loadText(\"PAR_VEF_P0P1_g_negligeable/propertiesGeometry.dat\")\n",
    "a.addLine([[data[6],data[7],data[8]]],\"Negligeable\")\n",
    "\n",
    "display(a)"
   ]
  },
  {
   "cell_type": "markdown",
   "id": "c347eb24",
   "metadata": {},
   "source": [
    "### Pressure drop between the two symmetrical points of the probe 3"
   ]
  },
  {
   "cell_type": "code",
   "execution_count": null,
   "id": "6be05885",
   "metadata": {},
   "outputs": [],
   "source": [
    "from trustutils import plot\n",
    "\n",
    "a = plot.Table([\"$\\Delta P$ Theoretical\",\"$\\Delta P$ TRUST\",\"Error on $\\Delta P$ in $\\%$\"])\n",
    "\n",
    "data = plot.loadText(\"PAR_VEF_P0P1_g_muscl/propertiesGeometry.dat\")\n",
    "a.addLine([[data[6],data[11],data[12]]],\"muscl\")\n",
    "\n",
    "data = plot.loadText(\"PAR_VEF_P0P1_g_ef_stab/propertiesGeometry.dat\")\n",
    "a.addLine([[data[6],data[11],data[12]]],\"Ef_Stab\")\n",
    "\n",
    "data = plot.loadText(\"PAR_VEF_P0P1_g_negligeable/propertiesGeometry.dat\")\n",
    "a.addLine([[data[6],data[11],data[12]]],\"Negligeable\")\n",
    "\n",
    "display(a)"
   ]
  },
  {
   "cell_type": "markdown",
   "id": "6aab02b0",
   "metadata": {},
   "source": [
    "## Cylinder belong x axis and $\\vec{g}=-g \\vec{e}_x$ "
   ]
  },
  {
   "cell_type": "markdown",
   "id": "afe3c426",
   "metadata": {},
   "source": [
    "### Gravity vector"
   ]
  },
  {
   "cell_type": "code",
   "execution_count": null,
   "id": "907ff772",
   "metadata": {
    "scrolled": true
   },
   "outputs": [],
   "source": [
    "run.dumpText('gravity_gx.txt',\n",
    "             [\"Champ_Uniforme\", \n",
    "              \"Read\"])"
   ]
  },
  {
   "cell_type": "markdown",
   "id": "7cac20ca",
   "metadata": {},
   "source": [
    "### Initial state: Velocity field\n",
    "\n",
    "We impose in inlet: $$u(r)=-\\frac{u_{max}}{R^2} \\left(r^2-R^2\\right)$$ with $u_{max}=u(0)=0.01$, $R=0.1$ and $r=y^2+z^2$"
   ]
  },
  {
   "cell_type": "code",
   "execution_count": null,
   "id": "a5c4c4fb",
   "metadata": {},
   "outputs": [],
   "source": [
    "a = visit.Show(\"PAR_VEF_P0P1_gx_muscl/PAR_VEF_P0P1_gx_muscl.lata\",\"Pseudocolor\",\"norme_VITESSE_FACES_dom_dual\")\n",
    "a.up3D([0, 1, -0.08])\n",
    "a.normal3D([-0.65,0.1,0.75])\n",
    "a.zoom3D([0.15,0.15,0.8])\n",
    "a.plot()"
   ]
  },
  {
   "cell_type": "markdown",
   "id": "ee6d00fa",
   "metadata": {},
   "source": [
    "### Initial state: Pressure field\n",
    "\n",
    "The imposed pressure in boundary condition correspond to the TRUST field named 'Pressure'.This is the Navier-Stokes pressure $P_{NS}$ in Pascals (for incompressible flow):\n",
    "\n",
    "   **$P_{NS}$ ='Pression\\_Pa'='Pressure' in [Pa]**.\n",
    "   \n",
    "<!--    and: **'Pression' = 'P\\_star' = $ \\frac{1}{\\rho} P_{NS}$ in $[m^2/s^2]$** -->"
   ]
  },
  {
   "cell_type": "code",
   "execution_count": null,
   "id": "2018e393",
   "metadata": {},
   "outputs": [],
   "source": [
    "a = visit.Show(\"PAR_VEF_P0P1_gx_muscl/PAR_VEF_P0P1_gx_muscl.lata\",\"Pseudocolor\",\"PRESSION_PA_ELEM_dom\",iteration=0,min=0.01,max=10)\n",
    "a.up3D([0, 1, -0.08])\n",
    "a.normal3D([-0.65,0.1,0.75])\n",
    "a.zoom3D([0.15,0.15,0.8])\n",
    "a.plot()"
   ]
  },
  {
   "cell_type": "markdown",
   "id": "0bf70235",
   "metadata": {},
   "source": [
    "and: **'Pression' = 'P\\_star' = $ \\frac{1}{\\rho} P_{NS}$ in $[m^2/s^2]$**. "
   ]
  },
  {
   "cell_type": "code",
   "execution_count": null,
   "id": "d7b85f2c",
   "metadata": {},
   "outputs": [],
   "source": [
    "a = visit.Show(\"PAR_VEF_P0P1_gx_muscl/PAR_VEF_P0P1_gx_muscl.lata\",\"Pseudocolor\",\"PRESSION_ELEM_dom\",iteration=0,min=0.01,max=10)\n",
    "a.up3D([0, 1, -0.08])\n",
    "a.normal3D([-0.65,0.1,0.75])\n",
    "a.zoom3D([0.15,0.15,0.8])\n",
    "a.plot()"
   ]
  },
  {
   "cell_type": "markdown",
   "id": "2643656d",
   "metadata": {},
   "source": [
    "### Mean of the pressure field at the Outlet\n",
    "\n",
    "We want to verify the pressure at the outlet of the cylinder where we imposed the pressure field to be 10. For that we create a new field with the 'Definition_champ' TRUST keyword. \n",
    "\n",
    "Syntax of the Definition_champ block for the mean of the 'pression' field on the outlet in the data"
   ]
  },
  {
   "cell_type": "code",
   "execution_count": null,
   "id": "b4cdf09e",
   "metadata": {},
   "outputs": [],
   "source": [
    "run.dumpText(\"mean_pression_outlet.txt\",\n",
    "            [\"Reduction_0D\", \n",
    "             \"methode\", \n",
    "             \"moyenne\", \n",
    "             \"source\", \n",
    "             \"interpolation\", \n",
    "             \"domaine\", \n",
    "             \"localisation\", \n",
    "             \"elem\", \n",
    "             \"refChamp\",\n",
    "             \"Pb_champ, pression\", \n",
    "             \"pression_pa\"])"
   ]
  },
  {
   "cell_type": "code",
   "execution_count": null,
   "id": "574d176f",
   "metadata": {},
   "outputs": [],
   "source": [
    "run.dumpText(\"mean_pression_outlet_probe.txt\",[\"periode\", \"numero_elem_sur_maitre\"])"
   ]
  },
  {
   "cell_type": "markdown",
   "id": "2eaa9ff6",
   "metadata": {},
   "source": [
    "The obtained values confirm that Navier-stokes pressure \n",
    "\n",
    "**$P_{NS}$ ='Pression\\_Pa'='Pressure'** in [Pa] and **'Pression' = 'P\\_star' = $ \\frac{1}{\\rho} P_{NS}$** in $[m^2/s^2]$ "
   ]
  },
  {
   "cell_type": "code",
   "execution_count": null,
   "id": "c36ba3cb",
   "metadata": {},
   "outputs": [],
   "source": [
    "from trustutils import plot\n",
    "\n",
    "a = plot.Table([\"\"])\n",
    "data = plot.loadText(\"PAR_VEF_P0P1_gx_muscl/mean_pressure.dat\")\n",
    "a.addLine([data[1]],\"Mean 'Pression_Pa' field in Pascals\")\n",
    "a.addLine([data[2]],\"Mean 'Pressure' field in Pascals\")\n",
    "a.addLine([data[0]],\"Mean 'Pression' field in $[m^2/s^2]$\")\n",
    "a.addLine([data[3]],\"Mean 'P_Star' field in $[m^2/s^2]$\")\n",
    "display(a)"
   ]
  },
  {
   "cell_type": "markdown",
   "id": "22aa0e86",
   "metadata": {},
   "source": [
    "### Flow rate"
   ]
  },
  {
   "cell_type": "code",
   "execution_count": null,
   "id": "52aa953e",
   "metadata": {},
   "outputs": [],
   "source": [
    "from trustutils import plot\n",
    "\n",
    "a = plot.Table([\"Theoretical volume flow rate\",\"TRUST volume flow rate\",\"Error on $Q_v$ in $\\%$\"])\n",
    "\n",
    "data = plot.loadText(\"PAR_VEF_P0P1_gx_muscl/propertiesGeometry.dat\")\n",
    "a.addLine([[data[4],data[15],data[16]]],\"muscl\")\n",
    "\n",
    "data = plot.loadText(\"PAR_VEF_P0P1_gx_ef_stab/propertiesGeometry.dat\")\n",
    "a.addLine([[data[4],data[15],data[16]]],\"Ef_Stab\")\n",
    "\n",
    "data = plot.loadText(\"PAR_VEF_P0P1_gx_negligeable/propertiesGeometry.dat\")\n",
    "a.addLine([[data[4],data[15],data[16]]],\"Negligeable\")\n",
    "\n",
    "display(a)"
   ]
  },
  {
   "cell_type": "markdown",
   "id": "ad48686d",
   "metadata": {},
   "source": [
    "<!-- ### Velocity slice belong Y axis -->"
   ]
  },
  {
   "cell_type": "code",
   "execution_count": null,
   "id": "a5465c44",
   "metadata": {},
   "outputs": [],
   "source": [
    "# from trustutils import visit\n",
    "\n",
    "# a = visit.Show(\"PAR_VEF_P0P1_gx_muscl/PAR_VEF_P0P1_gx_muscl.lata\",\"Pseudocolor\",\"norme_VITESSE_FACES_dom_dual\")\n",
    "# a.up3D([0, 1, -0.08])\n",
    "# a.normal3D([-0.65,0.1,0.75])\n",
    "# a.slice(origin=[0,0,0],normal=[0,1,0])\n",
    "# a.plot()"
   ]
  },
  {
   "cell_type": "markdown",
   "id": "a85ad927",
   "metadata": {},
   "source": [
    "### Velocity profile for a Poiseuille flow at final time step for $x=0.05$\n",
    "\n",
    "<!-- We impose in inlet: $$u(r)=\\frac{K}{4 \\mu} \\left(r^2-R^2\\right)=-\\frac{u_{max}}{R^2} \\left(r^2-R^2\\right)$$ with $u_{max}=u(0)=0.01$, $R=0.1$ and $r=y^2+z^2$. -->"
   ]
  },
  {
   "cell_type": "code",
   "execution_count": null,
   "id": "afba8e27",
   "metadata": {},
   "outputs": [],
   "source": [
    "from trustutils import run\n",
    "run.dumpText(\"VITX_probe.txt\",[\"vitesseX\", \"segment\", \"periode\"])"
   ]
  },
  {
   "cell_type": "code",
   "execution_count": null,
   "id": "ddcbd567",
   "metadata": {},
   "outputs": [],
   "source": [
    "import numpy as np\n",
    "\n",
    "a = plot.Graph(\"Velocity profil for a Poiseuille flow at final time step for $x=0.05$\")\n",
    "x = np.linspace(-0.1,0.1,100)\n",
    "y = -0.01*(x*x-0.1*0.1)/(0.1*0.1)\n",
    "a.add(x,y,label='Analytic solution')\n",
    "a.addSegment(\"PAR_VEF_P0P1_gx_muscl/PAR_VEF_P0P1_gx_muscl_VITX.son\",compo=0,label=\"Muscl vitX probe\",marker=\"-x\")\n",
    "a.addSegment(\"PAR_VEF_P0P1_gx_ef_stab/PAR_VEF_P0P1_gx_ef_stab_VITX.son\",compo=0,label=\"Ef_stab vitX probe\",marker=\"-*\")\n",
    "a.addSegment(\"PAR_VEF_P0P1_gx_negligeable/PAR_VEF_P0P1_gx_negligeable_VITX.son\",compo=0,label=\"Negligeable vitX probe\",marker='-s',mfc='None')\n",
    "a.label(\"X (m)\",\"Velocity (m/s)\")"
   ]
  },
  {
   "cell_type": "markdown",
   "id": "d1f8da0f",
   "metadata": {},
   "source": [
    "<!-- ### Pressure slice belong Y axis -->"
   ]
  },
  {
   "cell_type": "code",
   "execution_count": null,
   "id": "ef531ccd",
   "metadata": {},
   "outputs": [],
   "source": [
    "# a = visit.Show(\"PAR_VEF_P0P1_g_muscl/PAR_VEF_P0P1_g_muscl.lata\",\"Pseudocolor\",\"PRESSURE_TOT_ELEM_dom\")\n",
    "# a.up3D([0, 1, -0.08])\n",
    "# a.normal3D([-0.65,0.1,0.75])\n",
    "# a.slice(origin=[0,0,0],normal=[0,1,0])\n",
    "# a.plot()"
   ]
  },
  {
   "cell_type": "markdown",
   "id": "d453d9cd",
   "metadata": {},
   "source": [
    "### Total pressure profile"
   ]
  },
  {
   "cell_type": "code",
   "execution_count": null,
   "id": "852effb6",
   "metadata": {
    "scrolled": true
   },
   "outputs": [],
   "source": [
    "run.dumpText(\"pression_tot_gx.txt\",\n",
    "            [\"Predefini\", \n",
    "             \"Transformation\", \n",
    "             \"methode\", \n",
    "             \"formule\", \n",
    "             \"expression\", \n",
    "             \"localisation\", \n",
    "             \"elem\", \n",
    "             \"sources_reference\", \n",
    "             \"energie_cinetique_elem\", \n",
    "             \"sources\", \n",
    "             \"RefChamp\", \n",
    "             \"Pb_champ\", \n",
    "             \"pression_pa\", \n",
    "             \"nom_source\", \n",
    "             \"pression_hydrostatique\", \n",
    "             \"masse_volumique\"])"
   ]
  },
  {
   "cell_type": "code",
   "execution_count": null,
   "id": "cda29e80",
   "metadata": {},
   "outputs": [],
   "source": [
    "import numpy as np\n",
    "\n",
    "a = plot.Graph(\"Totale pressure profile\")\n",
    "a.addSegment(\"PAR_VEF_P0P1_gx_muscl/PAR_VEF_P0P1_gx_muscl_PTOT.son\",label=\"Muscl $P_{tot}$ probe\",marker=\"-x\")\n",
    "a.addSegment(\"PAR_VEF_P0P1_gx_ef_stab/PAR_VEF_P0P1_gx_ef_stab_PTOT.son\",label=\"Ef_stab $P_{tot}$ probe\",marker=\"-*\")\n",
    "a.addSegment(\"PAR_VEF_P0P1_gx_negligeable/PAR_VEF_P0P1_gx_negligeable_PTOT.son\",label=\"Negligeable $P_{tot}$ probe\",marker=\"-s\",mfc='None')\n",
    "a.label(\"X (m)\",\"pressure (Pa)\")"
   ]
  },
  {
   "cell_type": "markdown",
   "id": "9408e6b0",
   "metadata": {},
   "source": [
    "### Pressure profil"
   ]
  },
  {
   "cell_type": "code",
   "execution_count": null,
   "id": "44d44925",
   "metadata": {},
   "outputs": [],
   "source": [
    "a = plot.Graph(\"Pressure profile\")\n",
    "x = np.linspace(0,0.1,100)\n",
    "y = -4*0.001002*0.01*(x-0.1)/(0.1*0.1)+10\n",
    "a.add(x,y,label='Analytic solution')\n",
    "a.addSegment(\"PAR_VEF_P0P1_gx_muscl/PAR_VEF_P0P1_gx_muscl_P_PA.son\",label=\"Muscl P PA probe\",marker='-x')\n",
    "a.addSegment(\"PAR_VEF_P0P1_gx_ef_stab/PAR_VEF_P0P1_gx_ef_stab_P_PA.son\",label=\"Ef_stab P PA probe\",marker=\"-*\")\n",
    "a.addSegment(\"PAR_VEF_P0P1_gx_negligeable/PAR_VEF_P0P1_gx_negligeable_P_PA.son\",label=\"Negligeable P PA probe\",marker=\"-s\",mfc='None')\n",
    "a.label(\"X (m)\",\"pressure (Pa)\")"
   ]
  },
  {
   "cell_type": "markdown",
   "id": "e3e055a4",
   "metadata": {},
   "source": [
    "### Pressure hydrostatique profil"
   ]
  },
  {
   "cell_type": "code",
   "execution_count": null,
   "id": "323718d1",
   "metadata": {},
   "outputs": [],
   "source": [
    "a = plot.Graph(\"Pressure hydrostatic profile\")\n",
    "x = np.linspace(0,0.1,100)\n",
    "y = -1000*9.81*x\n",
    "a.add(x,y,label='Analytic solution')\n",
    "a.addSegment(\"PAR_VEF_P0P1_gx_muscl/PAR_VEF_P0P1_gx_muscl_PRESSION_HYDRO.son\",label=\"Muscl pression hydro probe\",marker='-x')\n",
    "a.addSegment(\"PAR_VEF_P0P1_gx_ef_stab/PAR_VEF_P0P1_gx_ef_stab_PRESSION_HYDRO.son\",label=\"Ef_stab pression hydro probe\",marker=\"-*\")\n",
    "a.addSegment(\"PAR_VEF_P0P1_gx_negligeable/PAR_VEF_P0P1_gx_negligeable_PRESSION_HYDRO.son\",label=\"Negligeable pression hydro probe\",marker=\"-s\",mfc='None')\n",
    "a.label(\"X (m)\",\"pressure (Pa)\")"
   ]
  },
  {
   "cell_type": "markdown",
   "id": "58397510",
   "metadata": {},
   "source": [
    "### Kinetic energy profile"
   ]
  },
  {
   "cell_type": "code",
   "execution_count": null,
   "id": "c3cd8610",
   "metadata": {},
   "outputs": [],
   "source": [
    "a = plot.Graph(\"Kinetic energy profile\")\n",
    "x = np.linspace(0,0.1,100)\n",
    "y = [0.05]*100\n",
    "a.add(x,y,label='Analytic solution')\n",
    "a.addSegment(\"PAR_VEF_P0P1_gx_muscl/PAR_VEF_P0P1_gx_muscl_EC.son\",label=\"Muscl ec probe\",marker='-x')\n",
    "a.addSegment(\"PAR_VEF_P0P1_gx_ef_stab/PAR_VEF_P0P1_gx_ef_stab_EC.son\",label=\"Ef_stab ec probe\",marker=\"-*\")\n",
    "a.addSegment(\"PAR_VEF_P0P1_gx_negligeable/PAR_VEF_P0P1_gx_negligeable_EC.son\",label=\"Negligeable ec probe\",marker=\"-s\",mfc='None')\n",
    "a.label(\"X (m)\",\"pressure (Pa)\")"
   ]
  },
  {
   "cell_type": "markdown",
   "id": "9754f8a2",
   "metadata": {},
   "source": [
    "### Pressure drop on the mean of the pressure at the inlet and outlet"
   ]
  },
  {
   "cell_type": "code",
   "execution_count": null,
   "id": "8e4d7427",
   "metadata": {},
   "outputs": [],
   "source": [
    "from trustutils import plot\n",
    "\n",
    "a = plot.Table([\"$\\Delta P$ Theoretical\",\"$\\Delta P$ TRUST\",\"Error on $\\Delta P$ in $\\%$\"])\n",
    "\n",
    "data = plot.loadText(\"PAR_VEF_P0P1_gx_muscl/propertiesGeometry.dat\")\n",
    "a.addLine([[data[6],data[13],data[14]]],\"muscl\")\n",
    "\n",
    "data = plot.loadText(\"PAR_VEF_P0P1_gx_ef_stab/propertiesGeometry.dat\")\n",
    "a.addLine([[data[6],data[13],data[14]]],\"Ef_Stab\")\n",
    "\n",
    "data = plot.loadText(\"PAR_VEF_P0P1_gx_negligeable/propertiesGeometry.dat\")\n",
    "a.addLine([[data[6],data[13],data[14]]],\"Negligeable\")\n",
    "\n",
    "display(a)"
   ]
  },
  {
   "cell_type": "markdown",
   "id": "cb898dfd",
   "metadata": {},
   "source": [
    "### Pressure drop between the two symmetrical points of the probe 1"
   ]
  },
  {
   "cell_type": "code",
   "execution_count": null,
   "id": "91a97bec",
   "metadata": {},
   "outputs": [],
   "source": [
    "from trustutils import plot\n",
    "\n",
    "a = plot.Table([\"$\\Delta P$ Theoretical\",\"$\\Delta P$ TRUST\",\"Error on $\\Delta P$ in $\\%$\"])\n",
    "\n",
    "data = plot.loadText(\"PAR_VEF_P0P1_gx_muscl/propertiesGeometry.dat\")\n",
    "a.addLine([[data[6],data[7],data[8]]],\"muscl\")\n",
    "\n",
    "data = plot.loadText(\"PAR_VEF_P0P1_gx_ef_stab/propertiesGeometry.dat\")\n",
    "a.addLine([[data[6],data[7],data[8]]],\"Ef_Stab\")\n",
    "\n",
    "data = plot.loadText(\"PAR_VEF_P0P1_gx_negligeable/propertiesGeometry.dat\")\n",
    "a.addLine([[data[6],data[7],data[8]]],\"Negligeable\")\n",
    "\n",
    "display(a)"
   ]
  },
  {
   "cell_type": "markdown",
   "id": "7d61ee7d",
   "metadata": {},
   "source": [
    "### Pressure drop between the two symmetrical points of the probe 3"
   ]
  },
  {
   "cell_type": "code",
   "execution_count": null,
   "id": "b9fc518a",
   "metadata": {},
   "outputs": [],
   "source": [
    "from trustutils import plot\n",
    "\n",
    "a = plot.Table([\"$\\Delta P$ Theoretical\",\"$\\Delta P$ TRUST\",\"Error on $\\Delta P$ in $\\%$\"])\n",
    "\n",
    "data = plot.loadText(\"PAR_VEF_P0P1_gx_muscl/propertiesGeometry.dat\")\n",
    "a.addLine([[data[6],data[11],data[12]]],\"muscl\")\n",
    "\n",
    "data = plot.loadText(\"PAR_VEF_P0P1_gx_ef_stab/propertiesGeometry.dat\")\n",
    "a.addLine([[data[6],data[11],data[12]]],\"Ef_Stab\")\n",
    "\n",
    "data = plot.loadText(\"PAR_VEF_P0P1_gx_negligeable/propertiesGeometry.dat\")\n",
    "a.addLine([[data[6],data[11],data[12]]],\"Negligeable\")\n",
    "\n",
    "display(a)"
   ]
  },
  {
   "cell_type": "markdown",
   "id": "d9e2756d",
   "metadata": {},
   "source": [
    "## Data Files\n",
    "\n",
    "### PAR_VEF_P0P1_g_muscl"
   ]
  },
  {
   "cell_type": "code",
   "execution_count": null,
   "id": "50fa4aa2",
   "metadata": {},
   "outputs": [],
   "source": [
    "run.dumpDataset(\"PAR_VEF_P0P1_g_muscl/PAR_VEF_P0P1_g_muscl\")"
   ]
  }
 ],
 "metadata": {},
 "nbformat": 4,
 "nbformat_minor": 5
}
