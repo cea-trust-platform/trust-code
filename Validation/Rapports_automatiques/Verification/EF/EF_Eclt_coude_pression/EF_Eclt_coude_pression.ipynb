{
 "cells": [
  {
   "cell_type": "markdown",
   "id": "inappropriate-lingerie",
   "metadata": {},
   "source": [
    "# Ecoulement laminaire dans un coude"
   ]
  },
  {
   "cell_type": "code",
   "execution_count": null,
   "id": "cf84ce99",
   "metadata": {},
   "outputs": [],
   "source": [
    "from trustutils import run \n",
    "\n",
    "run.introduction('D. Jamet')"
   ]
  },
  {
   "cell_type": "markdown",
   "id": "adopted-auditor",
   "metadata": {},
   "source": [
    "### Description"
   ]
  },
  {
   "cell_type": "markdown",
   "id": "imperial-shield",
   "metadata": {},
   "source": [
    "On calcule l'ecoulement  bidimensionnel  dans  un  coude. L'écoulement est laminaire et on néglige la convection. Les parois  du domaine  sont fixes  et  une  condition  d'adhérence y est imposée. Une solution analytique à ce problème existe et on compare les résultats calculés par GENEPI à cette solution analytique. "
   ]
  },
  {
   "cell_type": "code",
   "execution_count": null,
   "id": "022bf3d8",
   "metadata": {},
   "outputs": [],
   "source": [
    "run.TRUST_parameters()"
   ]
  },
  {
   "cell_type": "code",
   "execution_count": null,
   "id": "6729c231-27f7-4fc9-9b61-4dc58e90721b",
   "metadata": {},
   "outputs": [],
   "source": [
    "run.addCase(\".\",\"eclt_coude_pression.data\")\n",
    "\n",
    "run.printCases()\n",
    "run.runCases()"
   ]
  },
  {
   "cell_type": "markdown",
   "id": "growing-hundred",
   "metadata": {},
   "source": [
    "## Champs de pression et de vitesse\n",
    "\n",
    "Dans cette partie, on compare le champ de pression calculé par GENEPI et le champ de pression analytique.\n",
    "\n",
    "### Champs de pression et de vitesse calculés\n",
    "\n",
    "Le champ de pression calculé par GENEPI est tracé et le champ de pression analytique est donné pardes iso-valeurs."
   ]
  },
  {
   "cell_type": "code",
   "execution_count": null,
   "id": "3d153261-0a30-493d-a78d-fc5a9ed9d392",
   "metadata": {},
   "outputs": [],
   "source": [
    "from trustutils import visit\n",
    "\n",
    "Graphique=visit.Show(\"./eclt_coude_pression.lata\",\"Pseudocolor\",\"PRESSION_PA_ELEM_dom\")\n",
    "Graphique.visitCommand(\"DefineScalarExpression(\\\"P_ANALYTIQUE_ELEM_dom\\\",\\\"(-0.225E1*acos(coord(dom)[0]/sqrt(coord(dom)[0]*coord(dom)[0]+coord(dom)[1]*coord(dom)[1]))/ln(2.0)+0.1125E1*0.3141592653589793E1/ln(2.0))\\\")\")\n",
    "Graphique.addField(\"./eclt_coude_pression.lata\",\"Vector\",\"VITESSE_SOM_dom\")\n",
    "Graphique.plot() "
   ]
  },
  {
   "cell_type": "markdown",
   "id": "91fbb7e6-9af3-4472-9ee7-e332fd224070",
   "metadata": {},
   "source": [
    "### Champs de pression et de vitesse analytiques\n",
    "\n",
    "Le champ de pression analytique est tracé et le champ de pression calculé par GENEPI est donné par des iso-valeurs."
   ]
  },
  {
   "cell_type": "code",
   "execution_count": null,
   "id": "fe1013ae-4612-41d9-8fac-0b4782572b36",
   "metadata": {},
   "outputs": [],
   "source": [
    "from trustutils import visit\n",
    "\n",
    "Graphique=visit.Show(\"./eclt_coude_pression.lata\",\"Mesh\",\"dom\",plotmesh=False)\n",
    "Graphique.visitCommand(\"DefineScalarExpression(\\\"P_ANALYTIQUE_ELEM_dom\\\",\\\"(-0.225E1*acos(coord(dom)[0]/sqrt(coord(dom)[0]*coord(dom)[0]+coord(dom)[1]*coord(dom)[1]))/ln(2.0)+0.1125E1*0.3141592653589793E1/ln(2.0))\\\")\")\n",
    "Graphique.visitCommand(\"DefineVectorExpression(\\\"V_ANALYTIQUE_SOM_dom\\\",\\\"{(-(8.0*ln(2.0)*coord(dom)[0]*coord(dom)[0]+8.0*ln(2.0)*coord(dom)[1]*coord(dom)[1]-8.0*ln(2.0)-3.0*ln(coord(dom)[0]*coord(dom)[0]+coord(dom)[1]*coord(dom)[1])*coord(dom)[0]*coord(dom)[0]-3.0*ln(coord(dom)[0]*coord(dom)[0]+coord(dom)[1]*coord(dom)[1])*coord(dom)[1]*coord(dom)[1])*sqrt(coord(dom)[1]*coord(dom)[1]/(coord(dom)[0]*coord(dom)[0]+coord(dom)[1]*coord(dom)[1]))/sqrt(coord(dom)[0]*coord(dom)[0]+coord(dom)[1]*coord(dom)[1])/ln(2.0)/8.0),((8.0*ln(2.0)*coord(dom)[0]*coord(dom)[0]+8.0*ln(2.0)*coord(dom)[1]*coord(dom)[1]-8.0*ln(2.0)-3.0*ln(coord(dom)[0]*coord(dom)[0]+coord(dom)[1]*coord(dom)[1])*coord(dom)[0]*coord(dom)[0]-3.0*ln(coord(dom)[0]*coord(dom)[0]+coord(dom)[1]*coord(dom)[1])*coord(dom)[1]*coord(dom)[1])*coord(dom)[0]/(coord(dom)[0]*coord(dom)[0]+coord(dom)[1]*coord(dom)[1])/ln(2.0)/8.0)}\\\")\")\n",
    "Graphique.addField(\"./eclt_coude_pression.lata\",\"Pseudocolor\",\"P_ANALYTIQUE_ELEM_dom\")\n",
    "Graphique.addField(\"./eclt_coude_pression.lata\",\"Vector\",\"V_ANALYTIQUE_SOM_dom\")\n",
    "Graphique.plot() "
   ]
  },
  {
   "cell_type": "markdown",
   "id": "4227cd23-36f8-4207-9245-071ef10a102f",
   "metadata": {},
   "source": [
    "## Erreurs sur les champs de pression et de vitesse\n",
    "\n",
    "On trace l'erreur entre le champ de pression calculé par GENEPI et le champ de pression analytique. Sont superposés le champ de l'erreur et les iso-valeurs de l'erreur (pour plus de clarté, le maillage n'est pas tracé)."
   ]
  },
  {
   "cell_type": "code",
   "execution_count": null,
   "id": "8afa9b5f-ad77-48d6-b557-38fd2607f7ca",
   "metadata": {},
   "outputs": [],
   "source": [
    "Graphique=visit.Show(empty=True)\n",
    "Graphique.visitCommand(\"DefineScalarExpression(\\\"ERREUR_P_ELEM_dom\\\",\\\"PRESSION_PA_ELEM_dom-(-0.225E1*acos(coord(dom)[0]/sqrt(coord(dom)[0]*coord(dom)[0]+coord(dom)[1]*coord(dom)[1]))/ln(2.0)+0.1125E1*0.3141592653589793E1/ln(2.0))\\\")\")\n",
    "Graphique.visitCommand(\"DefineVectorExpression(\\\"V_ANALYTIQUE_SOM_dom\\\",\\\"{(-(8.0*ln(2.0)*coord(dom)[0]*coord(dom)[0]+8.0*ln(2.0)*coord(dom)[1]*coord(dom)[1]-8.0*ln(2.0)-3.0*ln(coord(dom)[0]*coord(dom)[0]+coord(dom)[1]*coord(dom)[1])*coord(dom)[0]*coord(dom)[0]-3.0*ln(coord(dom)[0]*coord(dom)[0]+coord(dom)[1]*coord(dom)[1])*coord(dom)[1]*coord(dom)[1])*sqrt(coord(dom)[1]*coord(dom)[1]/(coord(dom)[0]*coord(dom)[0]+coord(dom)[1]*coord(dom)[1]))/sqrt(coord(dom)[0]*coord(dom)[0]+coord(dom)[1]*coord(dom)[1])/ln(2.0)/8.0),((8.0*ln(2.0)*coord(dom)[0]*coord(dom)[0]+8.0*ln(2.0)*coord(dom)[1]*coord(dom)[1]-8.0*ln(2.0)-3.0*ln(coord(dom)[0]*coord(dom)[0]+coord(dom)[1]*coord(dom)[1])*coord(dom)[0]*coord(dom)[0]-3.0*ln(coord(dom)[0]*coord(dom)[0]+coord(dom)[1]*coord(dom)[1])*coord(dom)[1]*coord(dom)[1])*coord(dom)[0]/(coord(dom)[0]*coord(dom)[0]+coord(dom)[1]*coord(dom)[1])/ln(2.0)/8.0)}\\\")\")\n",
    "Graphique.visitCommand(\"DefineVectorExpression(\\\"ERREUR_V_SOM_dom\\\",\\\"VITESSE_SOM_dom-V_ANALYTIQUE_SOM_dom\\\")\")\n",
    "Graphique.addField(\"./eclt_coude_pression.lata\",\"Pseudocolor\",\"ERREUR_P_ELEM_dom\")\n",
    "Graphique.addField(\"./eclt_coude_pression.lata\",\"Vector\",\"ERREUR_V_SOM_dom\")\n",
    "Graphique.plot() "
   ]
  },
  {
   "cell_type": "markdown",
   "id": "c151ef6f-6a50-4571-b151-de2dcd32194d",
   "metadata": {},
   "source": [
    "## Débit dans la conduite\n",
    "\n",
    "Le champ de vitesse étant connu analytiquement,  on peut calculer la valeur analytique du débit et la comparer à la valeur calculée par GENEPI. Ces valeurs sont donnés dans le tableau suivant ainsi quel’erreur correspondante.\n",
    "\n",
    "### Comparaison théorie/numérique"
   ]
  },
  {
   "cell_type": "code",
   "execution_count": null,
   "id": "1661af4e-671c-4b85-933f-19679347ea4e",
   "metadata": {},
   "outputs": [],
   "source": [
    "from trustutils import plot\n",
    "\n",
    "Tableau=plot.Table([\"Perte de pression\"])\n",
    "Tableau.addLine([0.118369],\"Analytique\")\n",
    "data=plot.loadText(\"./eclt_coude_pression_fin.out\")\n",
    "data=data[4]\n",
    "Tableau.addLine([data],\"Calcul\")\n",
    "Tableau.addLine([abs((0.118369-data)/0.118369)*100],r\"Erreur en $\\%$\")\n",
    "display(Tableau)"
   ]
  },
  {
   "cell_type": "markdown",
   "id": "c25502ea-580a-45a1-8c73-4af28d009160",
   "metadata": {},
   "source": [
    "## Data Files\n",
    "### eclt_coude_pression"
   ]
  },
  {
   "cell_type": "code",
   "execution_count": null,
   "id": "15fd47b5-5015-41c4-b5b5-1a2ec787d071",
   "metadata": {
    "scrolled": true
   },
   "outputs": [],
   "source": [
    "run.dumpDataset(\"./eclt_coude_pression.data\")"
   ]
  }
 ],
 "metadata": {
  "kernelspec": {
   "display_name": "Python 3 (ipykernel)",
   "language": "python",
   "name": "python3"
  },
  "language_info": {
   "codemirror_mode": {
    "name": "ipython",
    "version": 3
   },
   "file_extension": ".py",
   "mimetype": "text/x-python",
   "name": "python",
   "nbconvert_exporter": "python",
   "pygments_lexer": "ipython3",
   "version": "3.7.9"
  }
 },
 "nbformat": 4,
 "nbformat_minor": 5
}
