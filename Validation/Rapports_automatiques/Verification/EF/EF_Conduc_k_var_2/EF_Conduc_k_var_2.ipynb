{
 "cells": [
  {
   "cell_type": "markdown",
   "id": "inappropriate-lingerie",
   "metadata": {},
   "source": [
    "# Vérification de la conduction thermique stationnaire à conductivité thermique variable :  conductivité thermique quadratique"
   ]
  },
  {
   "cell_type": "code",
   "execution_count": null,
   "id": "2678fa51",
   "metadata": {},
   "outputs": [],
   "source": [
    "from trustutils import run \n",
    "\n",
    "run.introduction(\"D. Jamet\")"
   ]
  },
  {
   "cell_type": "markdown",
   "id": "adopted-auditor",
   "metadata": {},
   "source": [
    "### Description"
   ]
  },
  {
   "cell_type": "markdown",
   "id": "imperial-shield",
   "metadata": {},
   "source": [
    "On considère une conductivité thermique qui varie quadratiquement suivant la direction $x$.  On compare la solution obtenue par GENEPI à la solution analytique.  La température est imposée en entrée et sortie du domaine (cf.  jeu de données).  On compare le profil de température dans la direction $x$ ainsi que le champ de température bidimensionnel. On compare ́egalement les flux conductifs sur les parois en entrée et sortie."
   ]
  },
  {
   "cell_type": "code",
   "execution_count": null,
   "id": "3aaf8bdc",
   "metadata": {},
   "outputs": [],
   "source": [
    "run.TRUST_parameters()"
   ]
  },
  {
   "cell_type": "code",
   "execution_count": null,
   "id": "6729c231-27f7-4fc9-9b61-4dc58e90721b",
   "metadata": {},
   "outputs": [],
   "source": [
    "run.addCase(\".\",\"conduc_genepi_k_var_2.data\")\n",
    "\n",
    "run.printCases()\n",
    "run.runCases()"
   ]
  },
  {
   "cell_type": "markdown",
   "id": "growing-hundred",
   "metadata": {},
   "source": [
    "## Champs de température\n",
    "\n",
    "On compare les champs de température calculé par GENEPI et analytique.  Cette comparaison se fait sur un profil en $y=cte$ et sur le champ 2D.\n",
    "\n",
    "### Comparaison des profils calculé et analytique"
   ]
  },
  {
   "cell_type": "code",
   "execution_count": null,
   "id": "50748224-0c5d-4461-89e7-13083c8911e1",
   "metadata": {
    "tags": []
   },
   "outputs": [],
   "source": [
    "from trustutils import plot\n",
    "import numpy as np\n",
    "\n",
    "Graphique=plot.Graph(\"Comparaison des profils calcule et analytique\")\n",
    "Graphique.addSegment(\"./conduc_genepi_k_var_2_TEMPERATURE_X.son\",marker=\"-|\",time=1.34622987e+01,color=\"r\",label=\"EF\")\n",
    "x=np.linspace(0,2,100)\n",
    "y=2.+(4.-2.)/(np.arctan(np.sqrt(0.5625/0.25)*2.))*np.arctan(np.sqrt(0.5625/0.25)*x)\n",
    "Graphique.add(x,y,label=\"analytique\")\n",
    "Graphique.label(\"X\", \"Temperature\")\n",
    "Graphique.visu()"
   ]
  },
  {
   "cell_type": "markdown",
   "id": "therapeutic-converter",
   "metadata": {},
   "source": [
    "### Comparaison des champs 2D calculé et analytique \n",
    "\n",
    "On trace le champ d’écart entre la température calculée et la solution analytique.  La solution analytique est représentée par des isovaleurs du champ de température."
   ]
  },
  {
   "cell_type": "code",
   "execution_count": null,
   "id": "adequate-twist",
   "metadata": {},
   "outputs": [],
   "source": [
    "from trustutils import visit\n",
    "\n",
    "plot=visit.Show(\"./conduc_genepi_k_var_2.lata\",\"Contour\",\"TEMPERATURE_SOM_dom\")\n",
    "plot.visitCommand(\"DefineScalarExpression(\\\"ERREUR_SOM_dom\\\",\\\"TEMPERATURE_SOM_dom-(2.+(4.-2.)/(atan(sqrt(0.5625/0.25)*2.))*atan(sqrt(0.5625/0.25)*(coord(dom)[0])))\\\")\")\n",
    "plot.addField(\"./conduc_genepi_k_var_2.lata\",\"Pseudocolor\",\"ERREUR_SOM_dom\") \n",
    "plot.plot()"
   ]
  },
  {
   "cell_type": "markdown",
   "id": "a5d52e19-07d1-4403-bb6b-f68ac91affd9",
   "metadata": {},
   "source": [
    "## Flux conductifs aux frontières du domaine\n",
    "\n",
    "Les flux conductifs calculés par GENEPI en $x= 0$ et $x=L$ sont comparés aux flux théoriques.  L’erreur correspondante est  également donnée.\n",
    "\n",
    "### Comparaison théorie/numérique"
   ]
  },
  {
   "cell_type": "code",
   "execution_count": null,
   "id": "c3067c48-c416-4f3e-9f6b-e2127d18a1ce",
   "metadata": {},
   "outputs": [],
   "source": [
    "from trustutils import plot\n",
    "\n",
    "tableau=plot.Table([\"flux gauche\",\"flux droit\"])\n",
    "ref = [-0.6005,0.6005]\n",
    "tableau.addLine([ref],\"theorie\")\n",
    "data=plot.loadText(\"./conduc_genepi_k_var_2_fin.out\")\n",
    "tableau.addLine([data[[1,4]]],\"calcul\")\n",
    "error=[int((ref[0]-data[1])*10000)/(100.*ref[0]),int((ref[1]-data[4])*10000)/(100*ref[1])]\n",
    "tableau.addLine([error],r\"erreur en $\\%$\")\n",
    "display(tableau)"
   ]
  },
  {
   "cell_type": "markdown",
   "id": "da1e2235-770b-4f30-a430-eda253dc0531",
   "metadata": {},
   "source": [
    "## Data Files\n",
    "\n",
    "### conduc_genepi_k_var_2"
   ]
  },
  {
   "cell_type": "code",
   "execution_count": null,
   "id": "15fd47b5-5015-41c4-b5b5-1a2ec787d071",
   "metadata": {},
   "outputs": [],
   "source": [
    "run.dumpText(\"./conduc_genepi_k_var_2.data\")"
   ]
  }
 ],
 "metadata": {
  "kernelspec": {
   "display_name": "Python 3 (ipykernel)",
   "language": "python",
   "name": "python3"
  },
  "language_info": {
   "codemirror_mode": {
    "name": "ipython",
    "version": 3
   },
   "file_extension": ".py",
   "mimetype": "text/x-python",
   "name": "python",
   "nbconvert_exporter": "python",
   "pygments_lexer": "ipython3",
   "version": "3.7.9"
  }
 },
 "nbformat": 4,
 "nbformat_minor": 5
}
