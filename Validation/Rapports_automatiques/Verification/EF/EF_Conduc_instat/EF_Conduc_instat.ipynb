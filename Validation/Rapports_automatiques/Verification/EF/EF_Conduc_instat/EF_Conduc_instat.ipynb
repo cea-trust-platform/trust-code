{
 "cells": [
  {
   "cell_type": "markdown",
   "id": "judicial-directive",
   "metadata": {},
   "source": [
    "# Vérification de la conduction thermique instationnaire"
   ]
  },
  {
   "cell_type": "code",
   "execution_count": null,
   "id": "3d9a81d2",
   "metadata": {},
   "outputs": [],
   "source": [
    "from trustutils import run\n",
    "\n",
    "run.introduction(\"D.Jamet\",\"13/04/2021\")\n",
    "\n",
    "run.TRUST_parameters()"
   ]
  },
  {
   "cell_type": "markdown",
   "id": "8767c5dd",
   "metadata": {},
   "source": [
    "### Description: \n",
    "\n",
    "On considère un problème de conduction thermique instationnaire. On compare la solution obtenue par GENEPI à la solution analytique. La température est imposée en entrée et sortie du domaine (cf. jeu de données). On compare le profil de température dans la direction $x$ ainsi que le champ de température bidimensionnel. On compare également les flux conductifs sur les parois en entrée et sortie."
   ]
  },
  {
   "cell_type": "code",
   "execution_count": null,
   "id": "0344b454-36ba-4bcb-9c0e-e7780ee334f5",
   "metadata": {},
   "outputs": [],
   "source": [
    "run.addCase(\".\",\"conduc_genepi_instat.data\")\n",
    "run.printCases()\n",
    "run.runCases( )"
   ]
  },
  {
   "cell_type": "markdown",
   "id": "freelance-strap",
   "metadata": {},
   "source": [
    "## Champs de température\n",
    "\n",
    "On compare les champs de température calculé par GENEPI et analytique.  Cette comparaison se fait sur un profil en $y=cte$ et sur le champ 2D."
   ]
  },
  {
   "cell_type": "markdown",
   "id": "protecting-frederick",
   "metadata": {},
   "source": [
    "### Comparaison des profils calculé et analytique"
   ]
  },
  {
   "cell_type": "code",
   "execution_count": null,
   "id": "descending-butterfly",
   "metadata": {
    "scrolled": false
   },
   "outputs": [],
   "source": [
    "from trustutils import plot \n",
    "\n",
    "a=plot.Graph(\"Comparaison des profils calcules et analytiques\",size=[15,10])\n",
    "data = plot.loadText(\"ref_values.dat\",skiprows=418)\n",
    "a.add(data[0],data[1],label='analytique')\n",
    "a.addSegment(\"./conduc_genepi_instat_TEMPERATURE_X.son\",time=0.0,label=\"Ef t=0.0\",marker='r-|')   \n",
    "a.addSegment(\"./conduc_genepi_instat_TEMPERATURE_X.son\",time=0.5,label=\"Ef t=0.5\",marker='b-x')  \n",
    "a.addSegment(\"./conduc_genepi_instat_TEMPERATURE_X.son\",time=1.0,label=\"Ef t=1.0\",marker='k-*') \n",
    "a.addSegment(\"./conduc_genepi_instat_TEMPERATURE_X.son\",time=1.5,label=\"Ef t=1.5\",marker='g-s') \n",
    "a.addSegment(\"./conduc_genepi_instat_TEMPERATURE_X.son\",time=2.0,label=\"Ef t=2.0\",marker='y-D') \n",
    "a.addSegment(\"./conduc_genepi_instat_TEMPERATURE_X.son\",time=10.0,label=\"Ef t=10.0\",marker='-o',color='pink') \n",
    "a.label(\"X\", \"Temperature\")\n",
    "a.visu(0,0.05,-10,15)\n"
   ]
  },
  {
   "cell_type": "markdown",
   "id": "arabic-trinity",
   "metadata": {},
   "source": [
    "### Champ de température à $t=0.5$\n",
    "\n",
    "On trace le champ d'écart entre la température calculée et la solution analytique.  La solution analytique est représentée par des isovaleurs du champ de température."
   ]
  },
  {
   "cell_type": "code",
   "execution_count": null,
   "id": "serious-stationery",
   "metadata": {},
   "outputs": [],
   "source": [
    "from trustutils import visit \n",
    "\n",
    "Plot=visit.showField(\"./conduc_genepi_instat.lata\",\"Pseudocolor\",\"TEMPERATURE_SOM_dom\",iteration=1) "
   ]
  },
  {
   "cell_type": "markdown",
   "id": "handled-willow",
   "metadata": {},
   "source": [
    "## Flux conductifs aux frontières du domaine\n",
    "\n",
    "Les flux conductifs calculés par GENEPI en $x=0$ et $x=L$ sont comparés aux flux théoriques.  L'erreur correspondante est également donnée."
   ]
  },
  {
   "cell_type": "markdown",
   "id": "velvet-operator",
   "metadata": {},
   "source": [
    "### Comparaison théorie/numérique"
   ]
  },
  {
   "cell_type": "code",
   "execution_count": null,
   "id": "rolled-works",
   "metadata": {},
   "outputs": [],
   "source": [
    "columns=[\"flux gauche\",'flux droit']\n",
    "Tableau=plot.Table(columns)  \n",
    "ref=[5.,-5.]\n",
    "Tableau.addLine([ref],\"theorie\")\n",
    "data=plot.loadText(\"./conduc_genepi_instat_fin.out\")\n",
    "Tableau.addLine([data[[1,4]]],\"calcul\") \n",
    "error=[int((ref[0]-data[1])*10000)/(100.*ref[0]),int((ref[1]-data[4])*10000)/(100*ref[1])]\n",
    "Tableau.addLine([error],r\"error en $\\%$\") \n",
    "display(Tableau)"
   ]
  },
  {
   "cell_type": "markdown",
   "id": "informal-female",
   "metadata": {},
   "source": [
    "### Comparaison des profils calculé et analytique"
   ]
  },
  {
   "cell_type": "code",
   "execution_count": null,
   "id": "executive-telescope",
   "metadata": {},
   "outputs": [],
   "source": [
    "from trustutils import plot\n",
    "\n",
    "a = plot.Graph(\"Comparaison des profils calcules et analytique\")\n",
    "\n",
    "x=plot.loadText(\"./conduc_genepi_instat_pb_Diffusion_chaleur.out\")\n",
    "a.add(x[0],x[1],marker=\"-|\",label=\"EF\",color='r')   \n",
    "\n",
    "\n",
    "x=plot.loadText(\"./conduc_genepi_instat_pb_Diffusion_chaleur.out\")\n",
    "a.add(x[0],x[1],marker=\"-x\",label=\"analytique\",color='g')   \n",
    "\n",
    "a.label(\"x\",\"flux\")\n",
    "a.visu(0,10,-12,6)"
   ]
  },
  {
   "cell_type": "markdown",
   "id": "enclosed-appreciation",
   "metadata": {},
   "source": [
    "## Data Files\n",
    "\n",
    "### conduc_genepi_instat"
   ]
  },
  {
   "cell_type": "code",
   "execution_count": null,
   "id": "advised-settlement",
   "metadata": {
    "scrolled": true,
    "tags": []
   },
   "outputs": [],
   "source": [
    "run.dumpDataset(\"./conduc_genepi_instat.data\") "
   ]
  }
 ],
 "metadata": {},
 "nbformat": 4,
 "nbformat_minor": 5
}
