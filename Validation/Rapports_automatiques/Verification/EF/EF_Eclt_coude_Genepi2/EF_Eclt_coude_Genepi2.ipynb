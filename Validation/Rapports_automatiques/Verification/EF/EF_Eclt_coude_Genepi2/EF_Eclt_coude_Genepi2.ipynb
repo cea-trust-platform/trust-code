{
 "cells": [
  {
   "cell_type": "markdown",
   "id": "inappropriate-lingerie",
   "metadata": {},
   "source": [
    "# Ecoulement laminaire dans un coude"
   ]
  },
  {
   "cell_type": "code",
   "execution_count": null,
   "id": "9a49df53",
   "metadata": {},
   "outputs": [],
   "source": [
    "from trustutils import run \n",
    "\n",
    "run.introduction('D. Jamet')"
   ]
  },
  {
   "cell_type": "markdown",
   "id": "adopted-auditor",
   "metadata": {},
   "source": [
    "### Description"
   ]
  },
  {
   "cell_type": "markdown",
   "id": "imperial-shield",
   "metadata": {},
   "source": [
    "On  calcule  l'écoulement  bidimensionnel  dans  un  coude. L'écoulement  est  laminaire  et  on  néglige  la convection. Les  parois  du  domaine  sont  fixes  et  une  condition  d'adhérence  y  est  imposée.   Une solution analytique à ce problème existe et on compare les résultats calculés par GENEPI à cette solution analytique."
   ]
  },
  {
   "cell_type": "code",
   "execution_count": null,
   "id": "0e8c77a0",
   "metadata": {},
   "outputs": [],
   "source": [
    "run.TRUST_parameters()"
   ]
  },
  {
   "cell_type": "code",
   "execution_count": null,
   "id": "6729c231-27f7-4fc9-9b61-4dc58e90721b",
   "metadata": {},
   "outputs": [],
   "source": [
    "from trustutils import run \n",
    "import os\n",
    "run.addCase(\".\",\"eclt_coude_Genepi2.data\") \n",
    "run.printCases()\n",
    "run.runCases()"
   ]
  },
  {
   "cell_type": "markdown",
   "id": "growing-hundred",
   "metadata": {},
   "source": [
    "## Champs de pression et de vitesse\n",
    "\n",
    "Dans cette partie, on compare le champ de pression calculé par GENEPI et le champ de pression analytique.\n",
    "\n",
    "### Champs de pression et de vitesse calculés\n",
    "\n",
    "Le champ de pression calculé par GENEPI est tracé et le champ de pression analytique est donné par des isovaleurs."
   ]
  },
  {
   "cell_type": "code",
   "execution_count": null,
   "id": "3d153261-0a30-493d-a78d-fc5a9ed9d392",
   "metadata": {},
   "outputs": [],
   "source": [
    "from trustutils import visit\n",
    "\n",
    "Graphique=visit.Show(\"./eclt_coude_Genepi2.lata\",\"Pseudocolor\",\"PRESSION_PA_ELEM_dom\")\n",
    "Graphique.visitCommand(\"DefineScalarExpression(\\\"P_ANALYTIQUE_ELEM_dom\\\",\\\"(-0.225E1*acos(coord(dom)[0]/sqrt(coord(dom)[0]*coord(dom)[0]+coord(dom)[1]*coord(dom)[1]))/ln(2.0)+0.1125E1*0.3141592653589793E1/ln(2.0))\\\")\")\n",
    "Graphique.addField(\"./eclt_coude_Genepi2.lata\",\"Vector\",\"VITESSE_SOM_dom\")\n",
    "Graphique.plot() "
   ]
  },
  {
   "cell_type": "markdown",
   "id": "therapeutic-converter",
   "metadata": {},
   "source": [
    "### Champs de pression et de vitesse analytiques\n",
    "\n",
    "Le champ de pression analytique est tracé et le champ de pression calculé par GENEPI est donné par des iso-valeurs."
   ]
  },
  {
   "cell_type": "code",
   "execution_count": null,
   "id": "41b3dfc8-01c5-45bf-a30c-4b89a9bac063",
   "metadata": {},
   "outputs": [],
   "source": [
    "from trustutils import visit\n",
    "\n",
    "Graphique=visit.Show(\"./eclt_coude_Genepi2.lata\",\"Mesh\",\"dom\",plotmesh=False)\n",
    "Graphique.visitCommand(\"DefineScalarExpression(\\\"P_ANALYTIQUE_ELEM_dom\\\",\\\"(-0.225E1*acos(coord(dom)[0]/sqrt(coord(dom)[0]*coord(dom)[0]+coord(dom)[1]*coord(dom)[1]))/ln(2.0)+0.1125E1*0.3141592653589793E1/ln(2.0))\\\")\")\n",
    "Graphique.visitCommand(\"DefineVectorExpression(\\\"V_ANALYTIQUE_SOM_dom\\\",\\\"{(-(8.0*ln(2.0)*coord(dom)[0]*coord(dom)[0]+8.0*ln(2.0)*coord(dom)[1]*coord(dom)[1]-8.0*ln(2.0)-3.0*ln(coord(dom)[0]*coord(dom)[0]+coord(dom)[1]*coord(dom)[1])*coord(dom)[0]*coord(dom)[0]-3.0*ln(coord(dom)[0]*coord(dom)[0]+coord(dom)[1]*coord(dom)[1])*coord(dom)[1]*coord(dom)[1])*sqrt(coord(dom)[1]*coord(dom)[1]/(coord(dom)[0]*coord(dom)[0]+coord(dom)[1]*coord(dom)[1]))/sqrt(coord(dom)[0]*coord(dom)[0]+coord(dom)[1]*coord(dom)[1])/ln(2.0)/8.0),((8.0*ln(2.0)*coord(dom)[0]*coord(dom)[0]+8.0*ln(2.0)*coord(dom)[1]*coord(dom)[1]-8.0*ln(2.0)-3.0*ln(coord(dom)[0]*coord(dom)[0]+coord(dom)[1]*coord(dom)[1])*coord(dom)[0]*coord(dom)[0]-3.0*ln(coord(dom)[0]*coord(dom)[0]+coord(dom)[1]*coord(dom)[1])*coord(dom)[1]*coord(dom)[1])*coord(dom)[0]/(coord(dom)[0]*coord(dom)[0]+coord(dom)[1]*coord(dom)[1])/ln(2.0)/8.0)}\\\")\")\n",
    "Graphique.addField(\"./eclt_coude_Genepi2.lata\",\"Pseudocolor\",\"P_ANALYTIQUE_ELEM_dom\")\n",
    "Graphique.addField(\"./eclt_coude_Genepi2.lata\",\"Vector\",\"V_ANALYTIQUE_SOM_dom\")\n",
    "Graphique.plot() "
   ]
  },
  {
   "cell_type": "markdown",
   "id": "3188ee40-6073-40bf-9d7a-3e61ddc48f92",
   "metadata": {},
   "source": [
    "### Erreurs sur les champs de pression et de vitesse\n",
    "\n",
    "On trace l’erreur entre le champ de pression calculé par GENEPI et le champ de pression analytique. Sont superposés le champ de l’erreur et les iso-valeurs de l’erreur (pour plus de clarté, le maillage n’est pas tracé)."
   ]
  },
  {
   "cell_type": "code",
   "execution_count": null,
   "id": "a9d63002-1723-4032-ada1-e9f0fd83bee8",
   "metadata": {},
   "outputs": [],
   "source": [
    "from trustutils import visit\n",
    "\n",
    "Graphique=visit.Show(empty=True)\n",
    "Graphique.visitCommand(\"DefineScalarExpression(\\\"ERREUR_P_ELEM_dom\\\",\\\"PRESSION_PA_ELEM_dom-(-0.225E1*acos(coord(dom)[0]/sqrt(coord(dom)[0]*coord(dom)[0]+coord(dom)[1]*coord(dom)[1]))/ln(2.0)+0.1125E1*0.3141592653589793E1/ln(2.0))\\\")\")\n",
    "Graphique.visitCommand(\"DefineVectorExpression(\\\"V_ANALYTIQUE_SOM_dom\\\",\\\"{(-(8.0*ln(2.0)*coord(dom)[0]*coord(dom)[0]+8.0*ln(2.0)*coord(dom)[1]*coord(dom)[1]-8.0*ln(2.0)-3.0*ln(coord(dom)[0]*coord(dom)[0]+coord(dom)[1]*coord(dom)[1])*coord(dom)[0]*coord(dom)[0]-3.0*ln(coord(dom)[0]*coord(dom)[0]+coord(dom)[1]*coord(dom)[1])*coord(dom)[1]*coord(dom)[1])*sqrt(coord(dom)[1]*coord(dom)[1]/(coord(dom)[0]*coord(dom)[0]+coord(dom)[1]*coord(dom)[1]))/sqrt(coord(dom)[0]*coord(dom)[0]+coord(dom)[1]*coord(dom)[1])/ln(2.0)/8.0),((8.0*ln(2.0)*coord(dom)[0]*coord(dom)[0]+8.0*ln(2.0)*coord(dom)[1]*coord(dom)[1]-8.0*ln(2.0)-3.0*ln(coord(dom)[0]*coord(dom)[0]+coord(dom)[1]*coord(dom)[1])*coord(dom)[0]*coord(dom)[0]-3.0*ln(coord(dom)[0]*coord(dom)[0]+coord(dom)[1]*coord(dom)[1])*coord(dom)[1]*coord(dom)[1])*coord(dom)[0]/(coord(dom)[0]*coord(dom)[0]+coord(dom)[1]*coord(dom)[1])/ln(2.0)/8.0)}\\\")\")\n",
    "Graphique.visitCommand(\"DefineVectorExpression(\\\"ERREUR_V_SOM_dom\\\",\\\"VITESSE_SOM_dom-V_ANALYTIQUE_SOM_dom\\\")\")\n",
    "Graphique.addField(\"./eclt_coude_Genepi2.lata\",\"Pseudocolor\",\"ERREUR_P_ELEM_dom\",plotmesh=False)\n",
    "Graphique.addField(\"./eclt_coude_Genepi2.lata\",\"Vector\",\"ERREUR_V_SOM_dom\",plotmesh=False)\n",
    "Graphique.plot() "
   ]
  },
  {
   "cell_type": "markdown",
   "id": "22df26ff-a3b2-443e-b9a9-7bf007e0bfe2",
   "metadata": {},
   "source": [
    "## Perte de pression dans la conduite\n",
    "\n",
    "La pression étant connue analytiquement, on peut comparer les pertes de pression analytique et calculée par GENEPI. Ces valeurs sont donnés dans le tableau suivant ainsi que l’erreur correspondante.\n",
    "\n",
    "### Comparaison théorie/numérique"
   ]
  },
  {
   "cell_type": "code",
   "execution_count": null,
   "id": "c88ae0ad-5da9-471f-851f-53c3e5f213fd",
   "metadata": {},
   "outputs": [],
   "source": [
    "from trustutils import plot\n",
    "import numpy as np\n",
    "\n",
    "Tableau=plot.Table([\"Perte de pression\"])\n",
    "Tableau.addLine([5.099],\"Analytique\")\n",
    "data=plot.loadText(\"./eclt_coude_Genepi2_fin.out\")\n",
    "data=data[7]-data[6]\n",
    "Tableau.addLine([data],\"Calcul\")\n",
    "Tableau.addLine([abs((5.099-data)/5.099)*100],r\"Erreur en $\\%$\")\n",
    "display(Tableau)"
   ]
  },
  {
   "cell_type": "markdown",
   "id": "da1e2235-770b-4f30-a430-eda253dc0531",
   "metadata": {},
   "source": [
    "## Data Files\n",
    "\n",
    "### eclt_coude_Genepi2"
   ]
  },
  {
   "cell_type": "code",
   "execution_count": null,
   "id": "15fd47b5-5015-41c4-b5b5-1a2ec787d071",
   "metadata": {
    "scrolled": true
   },
   "outputs": [],
   "source": [
    "run.dumpDataset(\"./eclt_coude_Genepi2.data\")"
   ]
  }
 ],
 "metadata": {
  "kernelspec": {
   "display_name": "Python 3 (ipykernel)",
   "language": "python",
   "name": "python3"
  },
  "language_info": {
   "codemirror_mode": {
    "name": "ipython",
    "version": 3
   },
   "file_extension": ".py",
   "mimetype": "text/x-python",
   "name": "python",
   "nbconvert_exporter": "python",
   "pygments_lexer": "ipython3",
   "version": "3.7.9"
  }
 },
 "nbformat": 4,
 "nbformat_minor": 5
}
