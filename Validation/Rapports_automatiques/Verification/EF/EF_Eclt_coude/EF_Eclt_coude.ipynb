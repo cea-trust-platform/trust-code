{
 "cells": [
  {
   "cell_type": "markdown",
   "id": "inappropriate-lingerie",
   "metadata": {},
   "source": [
    "# Ecoulement laminaire dans un coude"
   ]
  },
  {
   "cell_type": "code",
   "execution_count": null,
   "id": "e75ef842",
   "metadata": {},
   "outputs": [],
   "source": [
    "from trustutils import run\n",
    "\n",
    "run.introduction('D. Jamet')"
   ]
  },
  {
   "cell_type": "markdown",
   "id": "adopted-auditor",
   "metadata": {},
   "source": [
    "### Description"
   ]
  },
  {
   "cell_type": "markdown",
   "id": "imperial-shield",
   "metadata": {},
   "source": [
    "On  calcule  l’écoulement  bidimensionnel  dans  un  coude.   L’écoulement  est  laminaire  et  on  néglige  la convection.   Les  parois  du  domaine  sont  fixes  et  une condition d'adhérence y est imposée. Une  solution analytique à ce problème existe et on compare les résultats calculés par GENEPI à cette solution analytique."
   ]
  },
  {
   "cell_type": "code",
   "execution_count": null,
   "id": "dce36cef",
   "metadata": {},
   "outputs": [],
   "source": [
    "run.TRUST_parameters()"
   ]
  },
  {
   "cell_type": "code",
   "execution_count": null,
   "id": "6729c231-27f7-4fc9-9b61-4dc58e90721b",
   "metadata": {},
   "outputs": [],
   "source": [
    "run.addCase(\".\",\"eclt_coude.data\")\n",
    "run.printCases()\n",
    "run.runCases()"
   ]
  },
  {
   "cell_type": "markdown",
   "id": "growing-hundred",
   "metadata": {},
   "source": [
    "## Champs de pression et de vitesse\n",
    "\n",
    "Dans cette partie, on compare le champ de pression calculé par GENEPI et le champ de pression analytique.\n",
    "\n",
    "### Champs de pression et de vitesse calculés\n",
    "\n",
    "Le champ de pression calculé par GENEPI est tracé et le champ de pression analytique est donné pardes iso-valeurs."
   ]
  },
  {
   "cell_type": "code",
   "execution_count": null,
   "id": "3d153261-0a30-493d-a78d-fc5a9ed9d392",
   "metadata": {},
   "outputs": [],
   "source": [
    "from trustutils import visit\n",
    "\n",
    "Graph=visit.Show(\"./eclt_coude.lata\",\"Pseudocolor\",\"PRESSION_PA_ELEM_dom\")\n",
    "Graph.addField(\"./eclt_coude.lata\",\"Vector\",\"VITESSE_SOM_dom\")\n",
    "Graph.plot()\n"
   ]
  },
  {
   "cell_type": "markdown",
   "id": "therapeutic-converter",
   "metadata": {},
   "source": [
    "### Champs de pression et de vitesse analytiques\n",
    "\n",
    "Le champ de pression analytique est tracé et le champ de pression calculé par GENEPI est donné pardes iso-valeurs."
   ]
  },
  {
   "cell_type": "code",
   "execution_count": null,
   "id": "adequate-twist",
   "metadata": {},
   "outputs": [],
   "source": [
    "Graph=visit.Show(\"./eclt_coude.lata\",\"Mesh\",'dom')\n",
    "\n",
    "Graph.visitCommand(\"DefineScalarExpression(\\\"P_ANALYTIQUE_ELEM_dom\\\",\\\"(-0.225E1*acos(coord(dom)[0]/sqrt(coord(dom)[0]*coord(dom)[0]+coord(dom)[1]*coord(dom)[1]))/ln(2.0)+0.1125E1*0.3141592653589793E1/ln(2.0))\\\")\")\n",
    "Graph.addField(\"./eclt_coude.lata\",\"Pseudocolor\",\"P_ANALYTIQUE_ELEM_dom\")\n",
    "\n",
    "Graph.visitCommand(\"DefineVectorExpression(\\\"V_ANALYTIQUE_SOM_dom\\\",\\\"{(-(8.0*ln(2.0)*coord(dom)[0]*coord(dom)[0]+8.0*ln(2.0)*coord(dom)[1]*coord(dom)[1]-8.0*ln(2.0)-3.0*ln(coord(dom)[0]*coord(dom)[0]+coord(dom)[1]*coord(dom)[1])*coord(dom)[0]*coord(dom)[0]-3.0*ln(coord(dom)[0]*coord(dom)[0]+coord(dom)[1]*coord(dom)[1])*coord(dom)[1]*coord(dom)[1])*sqrt(coord(dom)[1]*coord(dom)[1]/(coord(dom)[0]*coord(dom)[0]+coord(dom)[1]*coord(dom)[1]))/sqrt(coord(dom)[0]*coord(dom)[0]+coord(dom)[1]*coord(dom)[1])/ln(2.0)/8.0),((8.0*ln(2.0)*coord(dom)[0]*coord(dom)[0]+8.0*ln(2.0)*coord(dom)[1]*coord(dom)[1]-8.0*ln(2.0)-3.0*ln(coord(dom)[0]*coord(dom)[0]+coord(dom)[1]*coord(dom)[1])*coord(dom)[0]*coord(dom)[0]-3.0*ln(coord(dom)[0]*coord(dom)[0]+coord(dom)[1]*coord(dom)[1])*coord(dom)[1]*coord(dom)[1])*coord(dom)[0]/(coord(dom)[0]*coord(dom)[0]+coord(dom)[1]*coord(dom)[1])/ln(2.0)/8.0)}\\\")\")\n",
    "\n",
    "Graph.addField(\"./eclt_coude.lata\",\"Vector\",\"V_ANALYTIQUE_SOM_dom\")\n",
    "Graph.plot()"
   ]
  },
  {
   "cell_type": "markdown",
   "id": "760fc940-fa04-4381-ab1c-9750244fbea5",
   "metadata": {},
   "source": [
    "### Erreurs sur les champs de pression et de vitesse\n",
    "\n",
    "On trace l’erreur entre le champ de pression calculé par GENEPI et le champ de pression analytique. Sont superposés le champ de l’erreur et les iso-valeurs de l’erreur (pour plus de clarté, le maillage n’est pas tracé)."
   ]
  },
  {
   "cell_type": "code",
   "execution_count": null,
   "id": "b9a7a11b-887a-4f09-b8ab-e70e8f332944",
   "metadata": {},
   "outputs": [],
   "source": [
    "Graph=visit.Show(empty=True)\n",
    "\n",
    "Graph.visitCommand(\"DefineScalarExpression(\\\"ERREUR_P_ELEM_dom\\\",\\\"PRESSION_PA_ELEM_dom-(-0.225E1*acos(coord(dom)[0]/sqrt(coord(dom)[0]*coord(dom)[0]+coord(dom)[1]*coord(dom)[1]))/ln(2.0)+0.1125E1*0.3141592653589793E1/ln(2.0))\\\")\")\n",
    "Graph.addField(\"./eclt_coude.lata\",\"Pseudocolor\",\"ERREUR_P_ELEM_dom\")\n",
    "\n",
    "Graph.visitCommand(\"DefineVectorExpression(\\\"V_ANALYTIQUE_SOM_dom\\\",\\\"{(-(8.0*ln(2.0)*coord(dom)[0]*coord(dom)[0]+8.0*ln(2.0)*coord(dom)[1]*coord(dom)[1]-8.0*ln(2.0)-3.0*ln(coord(dom)[0]*coord(dom)[0]+coord(dom)[1]*coord(dom)[1])*coord(dom)[0]*coord(dom)[0]-3.0*ln(coord(dom)[0]*coord(dom)[0]+coord(dom)[1]*coord(dom)[1])*coord(dom)[1]*coord(dom)[1])*sqrt(coord(dom)[1]*coord(dom)[1]/(coord(dom)[0]*coord(dom)[0]+coord(dom)[1]*coord(dom)[1]))/sqrt(coord(dom)[0]*coord(dom)[0]+coord(dom)[1]*coord(dom)[1])/ln(2.0)/8.0),((8.0*ln(2.0)*coord(dom)[0]*coord(dom)[0]+8.0*ln(2.0)*coord(dom)[1]*coord(dom)[1]-8.0*ln(2.0)-3.0*ln(coord(dom)[0]*coord(dom)[0]+coord(dom)[1]*coord(dom)[1])*coord(dom)[0]*coord(dom)[0]-3.0*ln(coord(dom)[0]*coord(dom)[0]+coord(dom)[1]*coord(dom)[1])*coord(dom)[1]*coord(dom)[1])*coord(dom)[0]/(coord(dom)[0]*coord(dom)[0]+coord(dom)[1]*coord(dom)[1])/ln(2.0)/8.0)}\\\")\")\n",
    "Graph.visitCommand(\"DefineVectorExpression(\\\"ERREUR_V_SOM_dom\\\",\\\"VITESSE_SOM_dom-V_ANALYTIQUE_SOM_dom\\\")\")\n",
    "Graph.addField(\"./eclt_coude.lata\",\"Vector\",\"ERREUR_V_SOM_dom\")\n",
    "Graph.plot()"
   ]
  },
  {
   "cell_type": "markdown",
   "id": "77e30923-27b4-4724-8a6b-ee9487b1dc5b",
   "metadata": {},
   "source": [
    "## Perte de pression dans la conduite\n",
    "\n",
    "La pression étant connue analytiquement, on peut comparer les pertes de pression analytique et calculée par GENEPI. Ces valeurs sont donnés dans le tableau suivant ainsi que l'erreur correspondante.\n",
    "\n",
    "### Comparaison théorie/numérique"
   ]
  },
  {
   "cell_type": "code",
   "execution_count": null,
   "id": "849eed01-6276-4f6f-814b-aaca8bb09143",
   "metadata": {},
   "outputs": [],
   "source": [
    "from trustutils import plot\n",
    "\n",
    "data=plot.loadText(\"./eclt_coude_fin.out\")\n",
    "data=data[7]-data[6]\n",
    "\n",
    "Tableau=plot.Table([\"Perte de pression\"])\n",
    "Tableau.addLine(5.099,\"Analytique\")\n",
    "Tableau.addLine(data,\"Calcul\")\n",
    "Tableau.addLine(int((5.099-data)*10000)/(100*data),r\"erreur en $\\%$\") # difference formule erreur ref int(v1*10000)/100.????\n",
    "display(Tableau)"
   ]
  },
  {
   "cell_type": "markdown",
   "id": "da1e2235-770b-4f30-a430-eda253dc0531",
   "metadata": {},
   "source": [
    "## Data Files\n",
    "### eclt_coude"
   ]
  },
  {
   "cell_type": "code",
   "execution_count": null,
   "id": "15fd47b5-5015-41c4-b5b5-1a2ec787d071",
   "metadata": {},
   "outputs": [],
   "source": [
    "run.dumpDataset(\"./eclt_coude.data\")"
   ]
  }
 ],
 "metadata": {
  "kernelspec": {
   "display_name": "Python 3 (ipykernel)",
   "language": "python",
   "name": "python3"
  },
  "language_info": {
   "codemirror_mode": {
    "name": "ipython",
    "version": 3
   },
   "file_extension": ".py",
   "mimetype": "text/x-python",
   "name": "python",
   "nbconvert_exporter": "python",
   "pygments_lexer": "ipython3",
   "version": "3.7.9"
  }
 },
 "nbformat": 4,
 "nbformat_minor": 5
}
