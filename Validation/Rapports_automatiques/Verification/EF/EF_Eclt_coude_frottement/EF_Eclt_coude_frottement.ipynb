{
 "cells": [
  {
   "cell_type": "markdown",
   "id": "inappropriate-lingerie",
   "metadata": {},
   "source": [
    "# Ecoulement dans un coude avec frottement en volume"
   ]
  },
  {
   "cell_type": "code",
   "execution_count": null,
   "id": "32585003",
   "metadata": {},
   "outputs": [],
   "source": [
    "from trustutils import run  \n",
    "\n",
    "run.introduction('D. Jamet')\n",
    "\n",
    "run.TRUST_parameters()"
   ]
  },
  {
   "cell_type": "markdown",
   "id": "da7573ff",
   "metadata": {},
   "source": [
    "### Description: \n",
    "\n"
   ]
  },
  {
   "cell_type": "code",
   "execution_count": null,
   "id": "6729c231-27f7-4fc9-9b61-4dc58e90721b",
   "metadata": {},
   "outputs": [],
   "source": [
    "from trustutils import run\n",
    "\n",
    "run.addCase(\".\",\"eclt_coude_frottement.data\") \n",
    "run.addCase(\".\",\"eclt_coude_frottement2.data\") \n",
    "run.addCase(\".\",\"eclt_coude_frottement3.data\")\n",
    "\n",
    "run.printCases()\n",
    "run.runCases()"
   ]
  },
  {
   "cell_type": "markdown",
   "id": "6e73a371-0c05-4754-93aa-5bd5d90cef8c",
   "metadata": {},
   "source": [
    "## Coefficient de frottement constant\n",
    "\n",
    "### Champs de pression et de vitesse calculés\n",
    "\n",
    "Les champs de pression et de vitesse calculés par GENEPI sont tracés."
   ]
  },
  {
   "cell_type": "code",
   "execution_count": null,
   "id": "1111d278-e4ba-46fe-b6fe-c51eb0249d82",
   "metadata": {},
   "outputs": [],
   "source": [
    "from trustutils import visit\n",
    "\n",
    "Graphique=visit.Show(\"./eclt_coude_frottement.lata\",\"Pseudocolor\",\"PRESSION_PA_ELEM_dom\")\n",
    "Graphique.addField(\"./eclt_coude_frottement.lata\",\"Vector\",\"VITESSE_SOM_dom\")\n",
    "Graphique.plot() "
   ]
  },
  {
   "cell_type": "markdown",
   "id": "7754f881-7b1f-4f92-b9a5-5a1cd227273b",
   "metadata": {},
   "source": [
    "### Erreur sur le champ de vitesse"
   ]
  },
  {
   "cell_type": "code",
   "execution_count": null,
   "id": "e1af344a-1b83-407c-87fa-24a8de466e01",
   "metadata": {},
   "outputs": [],
   "source": [
    "Graphique=visit.Show(\"./eclt_coude_frottement.lata\",\"Mesh\",\"dom\",plotmesh=False)\n",
    "Graphique.visitCommand(\"DefineVectorExpression(\\\"V_ANALYTIQUE_SOM_dom\\\",\\\"{10.*(-coord(dom)[1]/sqrt(coord(dom)[0]*coord(dom)[0]+coord(dom)[1]*coord(dom)[1])/sqrt(sqrt(coord(dom)[0]*coord(dom)[0]+coord(dom)[1]*coord(dom)[1]))),10.*(coord(dom)[0]/sqrt(coord(dom)[0]*coord(dom)[0]+coord(dom)[1]*coord(dom)[1])/sqrt(sqrt(coord(dom)[0]*coord(dom)[0]+coord(dom)[1]*coord(dom)[1])))}\\\") \")\n",
    "Graphique.visitCommand(\"DefineVectorExpression(\\\"ERREUR_VITESSE_SOM_dom\\\",\\\"VITESSE_SOM_dom-V_ANALYTIQUE_SOM_dom\\\")\")\n",
    "Graphique.addField(\"./eclt_coude_frottement.lata\",\"Vector\",\"ERREUR_VITESSE_SOM_dom\")\n",
    "Graphique.plot()"
   ]
  },
  {
   "cell_type": "markdown",
   "id": "cddce1f1-02d1-4665-ad1f-5524c3a3a94d",
   "metadata": {},
   "source": [
    "### Comparaison théorie/numérique"
   ]
  },
  {
   "cell_type": "code",
   "execution_count": null,
   "id": "37796cf0-d7e8-43fc-a51f-057d18409332",
   "metadata": {},
   "outputs": [],
   "source": [
    "from trustutils import plot\n",
    "import numpy as np\n",
    "\n",
    "Tableau=plot.Table([\"Perte de pression\"])\n",
    "Tableau.addLine([1571],\"Analytique\")\n",
    "data=plot.loadText(\"./eclt_coude_frottement_fin.out\")\n",
    "data=data[7]-data[6]\n",
    "Tableau.addLine([data],\"Calcul\")\n",
    "Tableau.addLine([((1571-data)/1571)*100],r\"Erreur en $\\%$\")\n",
    "display(Tableau)"
   ]
  },
  {
   "cell_type": "markdown",
   "id": "57642c32-2b1a-4a55-a38b-3c25994de3d1",
   "metadata": {},
   "source": [
    "## Coefficient de frottement inversement proportionnel au rayon\n",
    "\n",
    "### Champs de pression et de vitesse calculés\n",
    "\n",
    "Les champs de pression et de vitesse calculés par GENEPI sont tracés."
   ]
  },
  {
   "cell_type": "code",
   "execution_count": null,
   "id": "789a0341-7b78-4603-8fed-c54c794b6f2e",
   "metadata": {},
   "outputs": [],
   "source": [
    "Graphique=visit.Show(\"./eclt_coude_frottement2.lata\",\"Pseudocolor\",\"PRESSION_PA_ELEM_dom\")\n",
    "Graphique.addField(\"./eclt_coude_frottement2.lata\",\"Vector\",\"VITESSE_SOM_dom\")\n",
    "Graphique.plot()"
   ]
  },
  {
   "cell_type": "markdown",
   "id": "a4e506b5-e20a-4113-82ca-29c8d33c2f39",
   "metadata": {},
   "source": [
    "### Erreur sur le champ de vitesse"
   ]
  },
  {
   "cell_type": "code",
   "execution_count": null,
   "id": "aefa526b-f9fa-4466-8bb5-15c307dbe623",
   "metadata": {
    "tags": []
   },
   "outputs": [],
   "source": [
    "Graphique=visit.Show(\"./eclt_coude_frottement2.lata\",\"Mesh\",\"dom\",plotmesh=False)\n",
    "Graphique.visitCommand(\"DefineVectorExpression(\\\"V_ANALYTIQUE_SOM_dom\\\",\\\"{10.*(-coord(dom)[1]/sqrt(coord(dom)[0]*coord(dom)[0]+coord(dom)[1]*coord(dom)[1])),10.*(coord(dom)[0]/sqrt(coord(dom)[0]*coord(dom)[0]+coord(dom)[1]*coord(dom)[1]))}\\\") \")\n",
    "Graphique.visitCommand(\"DefineVectorExpression(\\\"ERREUR_VITESSE_SOM_dom\\\",\\\"VITESSE_SOM_dom-V_ANALYTIQUE_SOM_dom\\\")\")\n",
    "Graphique.addField(\"./eclt_coude_frottement2.lata\",\"Vector\",\"ERREUR_VITESSE_SOM_dom\")\n",
    "Graphique.plot()"
   ]
  },
  {
   "cell_type": "markdown",
   "id": "b29f1ffe-36a6-4b32-85a6-d94262b5e7a9",
   "metadata": {},
   "source": [
    "### Comparaison théorie/numérique"
   ]
  },
  {
   "cell_type": "code",
   "execution_count": null,
   "id": "7827785f-34fb-4feb-b54c-a16c119f61ad",
   "metadata": {},
   "outputs": [],
   "source": [
    "Tableau=plot.Table([\"Perte de pression\"])\n",
    "Tableau.addLine([1571],\"Analytique\")\n",
    "data=plot.loadText(\"./eclt_coude_frottement2_fin.out\")\n",
    "data=data[7]-data[6]\n",
    "Tableau.addLine([data],\"Calcul\")\n",
    "Tableau.addLine([((1571-data)/1571)*100],r\"Erreur en $\\%$\")\n",
    "display(Tableau)"
   ]
  },
  {
   "cell_type": "markdown",
   "id": "1c0e291f-f7fe-40b9-8436-371b75b16286",
   "metadata": {},
   "source": [
    "## Coefficient de frottement inversement proportionnel au cube du rayon\n",
    "\n",
    "### Champs de pression et de vitesse calculés\n",
    "\n",
    "Les champs de pression et de vitesse calculés par GENEPI sont tracés."
   ]
  },
  {
   "cell_type": "code",
   "execution_count": null,
   "id": "ab17897d-c4cd-4f59-8e00-b444a5733eef",
   "metadata": {},
   "outputs": [],
   "source": [
    "Graphique=visit.Show(\"./eclt_coude_frottement3.lata\",\"Pseudocolor\",\"PRESSION_PA_ELEM_dom\")\n",
    "Graphique.addField(\"./eclt_coude_frottement3.lata\",\"Vector\",\"VITESSE_SOM_dom\")\n",
    "Graphique.plot()"
   ]
  },
  {
   "cell_type": "markdown",
   "id": "19441d01-84a5-4880-9bea-1642c73cb3c3",
   "metadata": {},
   "source": [
    "### Erreur sur le champ de vitesse"
   ]
  },
  {
   "cell_type": "code",
   "execution_count": null,
   "id": "0bfa8251-8e18-43d1-9291-9d84989163dc",
   "metadata": {},
   "outputs": [],
   "source": [
    "Graphique=visit.Show(\"./eclt_coude_frottement3.lata\",\"Mesh\",\"dom\",plotmesh=False)\n",
    "Graphique.visitCommand(\"DefineVectorExpression(\\\"V_ANALYTIQUE_SOM_dom\\\",\\\"{10.*(-coord(dom)[1]),10.*(coord(dom)[0])}\\\") \")\n",
    "Graphique.visitCommand(\"DefineVectorExpression(\\\"ERREUR_VITESSE_SOM_dom\\\",\\\"VITESSE_SOM_dom-V_ANALYTIQUE_SOM_dom\\\")\")\n",
    "Graphique.addField(\"./eclt_coude_frottement3.lata\",\"Vector\",\"ERREUR_VITESSE_SOM_dom\")\n",
    "Graphique.plot()"
   ]
  },
  {
   "cell_type": "markdown",
   "id": "1b03e7f6-d779-4742-963a-111ee3c7f018",
   "metadata": {},
   "source": [
    "### Comparaison théorie/numérique"
   ]
  },
  {
   "cell_type": "code",
   "execution_count": null,
   "id": "35164589-9beb-45d5-83f5-3bd472f2bd66",
   "metadata": {},
   "outputs": [],
   "source": [
    "Tableau=plot.Table([\"Perte de pression\"])\n",
    "Tableau.addLine([1571],\"Analytique\")\n",
    "data=plot.loadText(\"./eclt_coude_frottement3_fin.out\")\n",
    "data=data[7]-data[6]\n",
    "Tableau.addLine([data],\"Calcul\")\n",
    "Tableau.addLine([((1571-data)/1571)*100],r\"Erreur en $\\%$\")\n",
    "display(Tableau)"
   ]
  },
  {
   "cell_type": "markdown",
   "id": "13259c3c-ea45-4c72-af61-300332b3d6ad",
   "metadata": {},
   "source": [
    "## Data Files\n",
    "\n",
    "### eclt_coude_frottement"
   ]
  },
  {
   "cell_type": "code",
   "execution_count": null,
   "id": "74f6d6c2-003e-4087-97b6-58ba60c32130",
   "metadata": {
    "tags": []
   },
   "outputs": [],
   "source": [
    "run.dumpDataset(\"./eclt_coude_frottement.data\")"
   ]
  },
  {
   "cell_type": "markdown",
   "id": "527c64da-283d-4693-a22f-37ab93c5c052",
   "metadata": {},
   "source": [
    "### eclt_coude_frottement2"
   ]
  },
  {
   "cell_type": "code",
   "execution_count": null,
   "id": "a59e4951-3962-4758-84c0-edc353c81b10",
   "metadata": {},
   "outputs": [],
   "source": [
    "run.dumpText(\"./eclt_coude_frottement2.data\")"
   ]
  },
  {
   "cell_type": "markdown",
   "id": "75930dcc-df5a-4eec-95a9-4d1d9db605d7",
   "metadata": {},
   "source": [
    "### eclt_coude_frottement3"
   ]
  },
  {
   "cell_type": "code",
   "execution_count": null,
   "id": "e420a707-9bc0-4487-a703-a9c8745272cb",
   "metadata": {},
   "outputs": [],
   "source": [
    "run.dumpText(\"./eclt_coude_frottement3.data\")"
   ]
  }
 ],
 "metadata": {},
 "nbformat": 4,
 "nbformat_minor": 5
}
