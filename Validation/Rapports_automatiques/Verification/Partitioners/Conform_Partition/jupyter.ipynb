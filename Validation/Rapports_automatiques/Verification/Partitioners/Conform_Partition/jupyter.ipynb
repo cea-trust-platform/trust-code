{
 "cells": [
  {
   "cell_type": "markdown",
   "id": "gross-patent",
   "metadata": {},
   "source": [
    "# Generalize Fichier_MED partitioner"
   ]
  },
  {
   "cell_type": "code",
   "execution_count": null,
   "id": "1aae48d4",
   "metadata": {},
   "outputs": [],
   "source": [
    "from trustutils import run \n",
    "\n",
    "run.introduction(\"P. Ledac\",\"04/12/2023\")\n",
    "\n",
    "run.TRUST_parameters(\"1.9.3\")\n"
   ]
  },
  {
   "cell_type": "markdown",
   "id": "be4dd946",
   "metadata": {},
   "source": [
    "### Description: \n",
    "\n",
    "Create conform partitioned meshes. The partition of a first mesh (exported as a field into a MED file) will be used to partition a second mesh, partially or totally included in the first one. If the problems solved on each mesh communicate, the parallelization of the algorithms will be easier as each included mesh cell share the same process (useful for TRUST-NK and Flica5 applications)."
   ]
  },
  {
   "cell_type": "markdown",
   "id": "2b813f3c-e933-430b-baf7-769736e8fffd",
   "metadata": {},
   "source": [
    "## Description\n"
   ]
  },
  {
   "cell_type": "code",
   "execution_count": null,
   "id": "15189bb2-352d-48f9-85fa-64c4323e0f88",
   "metadata": {
    "scrolled": true
   },
   "outputs": [],
   "source": [
    "run.reset()\n",
    "c1 = run.addCase(\"inner_domain\" ,\"inner_domain.data\",nbProcs=3)\n",
    "c1.partition()\n",
    "c2 = run.addCase(\"superposed_domain\",\"superposed_domain.data\",nbProcs=3)\n",
    "c2.partition()\n",
    "run.printCases()\n",
    "run.runCases()"
   ]
  },
  {
   "cell_type": "markdown",
   "id": "44a58344",
   "metadata": {},
   "source": [
    "## First example\n",
    "The inner domain (VEF) is smaller than the outer domain (VDF): the partition (2 zones only) of the inner domain is conform with the outer domain (3 zones):"
   ]
  },
  {
   "cell_type": "code",
   "execution_count": null,
   "id": "ea873754-f777-46f2-bbfe-b89b52ac5bf0",
   "metadata": {
    "scrolled": true
   },
   "outputs": [],
   "source": [
    "from trustutils import visit\n",
    "\n",
    "#Graph=visit.Show(\"inner_domain/outer_domain_0000.med\",\"Pseudocolor\",\"partition_ELEM_outer_domain\",nY=2,nX=1)\n",
    "Graph=visit.Show(\"inner_domain/outer_domain_0000.med\",\"Pseudocolor\",\"partition_ELEM_outer_domain\")\n",
    "Graph.addField(\"inner_domain/inner_domain_0000.med\",\"Pseudocolor\",\"partition_ELEM_inner_domain\",max=2)\n",
    "Graph.plot()"
   ]
  },
  {
   "cell_type": "markdown",
   "id": "b52efb29-a07b-478a-9804-63cfe672aca6",
   "metadata": {},
   "source": [
    "## Second example\n",
    "Now the geometry of the 2 domains are the same, but the inner domain (VEF) is coarse compared to the outer domain (VDF) and the cells don't match exactly. Nevertheless, the VEF partition is conform (cells center of gravity) with the VDF one."
   ]
  },
  {
   "cell_type": "code",
   "execution_count": null,
   "id": "e106c158",
   "metadata": {},
   "outputs": [],
   "source": [
    "from trustutils import visit\n",
    "Graph=visit.Show(\"superposed_domain/outer_domain_0000.med\",\"Pseudocolor\",\"partition_ELEM_outer_domain\")\n",
    "Graph.addField(\"superposed_domain/inner_domain_0000.med\",\"Pseudocolor\",\"partition_ELEM_inner_domain\")\n",
    "#Graph=visit.Show(\"superposed_domain/outer_domain_0000.med\",\"Pseudocolor\",\"partition_ELEM_outer_domain\",nY=2,nX=1)\n",
    "#Graph.add(\"superposed_domain/inner_domain_0000.med\",\"Pseudocolor\",\"partition_ELEM_inner_domain\",xIndice=0,yIndice=1)\n",
    "Graph.plot()"
   ]
  },
  {
   "cell_type": "markdown",
   "id": "d790c272-5cf0-46be-b29f-44125985a695",
   "metadata": {},
   "source": [
    "##  Data files:"
   ]
  },
  {
   "cell_type": "code",
   "execution_count": null,
   "id": "129481c1-9f53-47df-be8b-448b7f975565",
   "metadata": {},
   "outputs": [],
   "source": [
    "run.dumpText(\"inner_domain/inner_domain.data\",[\"fichier_med\",\"file\"])"
   ]
  },
  {
   "cell_type": "code",
   "execution_count": null,
   "id": "adaf52e9",
   "metadata": {},
   "outputs": [],
   "source": [
    "run.dumpText(\"superposed_domain/superposed_domain.data\",[\"fichier_med\",\"file\"])"
   ]
  }
 ],
 "metadata": {},
 "nbformat": 4,
 "nbformat_minor": 5
}
