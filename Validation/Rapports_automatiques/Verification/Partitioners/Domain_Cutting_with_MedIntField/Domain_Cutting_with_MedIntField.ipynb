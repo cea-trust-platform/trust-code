{
 "cells": [
  {
   "cell_type": "markdown",
   "id": "f00c33c7",
   "metadata": {},
   "source": [
    "# Read partition from MED file \n"
   ]
  },
  {
   "cell_type": "code",
   "execution_count": null,
   "id": "6b6114bf",
   "metadata": {},
   "outputs": [],
   "source": [
    "from trustutils import run\n",
    "\n",
    "run.introduction(\"Luc Lecointre\",\"28/03/2022\") \n",
    "\n",
    "run.TRUST_parameters(\"1.9.0\")"
   ]
  },
  {
   "cell_type": "markdown",
   "id": "6e68373c",
   "metadata": {},
   "source": [
    "### Description: \n",
    "\n",
    "Read partition from MED file"
   ]
  },
  {
   "cell_type": "markdown",
   "id": "5d32e53f",
   "metadata": {},
   "source": [
    "## Generation of mesh with Thread field"
   ]
  },
  {
   "cell_type": "code",
   "execution_count": null,
   "id": "6545b3b2",
   "metadata": {},
   "outputs": [],
   "source": [
    "case = run.addCase(\".\",\"test.data\",4) \n",
    "case.partition()\n",
    "run.printCases()\n",
    "run.runCases()"
   ]
  },
  {
   "cell_type": "markdown",
   "id": "5c57ed84",
   "metadata": {},
   "source": [
    "## Partitionnement"
   ]
  },
  {
   "cell_type": "code",
   "execution_count": null,
   "id": "2b7a8bf3",
   "metadata": {},
   "outputs": [],
   "source": [
    "from trustutils import visit\n",
    "\n",
    "fig=visit.Show(\"PAR_test.lata\",\"Subset\",\"blocks(dom)\",nX=1,nY=1,title=\"\",iteration=-1)\n",
    "fig.rotation3D([45,45,45])\n",
    "fig.plot()"
   ]
  },
  {
   "cell_type": "markdown",
   "id": "899d0a15",
   "metadata": {},
   "source": [
    "## Pressure"
   ]
  },
  {
   "cell_type": "code",
   "execution_count": null,
   "id": "21fefdab",
   "metadata": {
    "scrolled": false
   },
   "outputs": [],
   "source": [
    "fig=visit.Show(\"PAR_test.lata\",\"Pseudocolor\",\"PRESSION_ELEM_dom\",nX=1,nY=1,title=\"\",iteration=-1)\n",
    "fig.rotation3D([45,45,45])\n",
    "fig.plot()"
   ]
  },
  {
   "cell_type": "markdown",
   "id": "invisible-subscriber",
   "metadata": {},
   "source": [
    "## Computer performance"
   ]
  },
  {
   "cell_type": "code",
   "execution_count": null,
   "id": "favorite-sullivan",
   "metadata": {},
   "outputs": [],
   "source": [
    "run.tablePerf()"
   ]
  }
 ],
 "metadata": {},
 "nbformat": 4,
 "nbformat_minor": 5
}
