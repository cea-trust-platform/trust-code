{
 "cells": [
  {
   "cell_type": "markdown",
   "id": "gross-patent",
   "metadata": {},
   "source": [
    "# 'SousDomaine' and 'Union' partitioners"
   ]
  },
  {
   "cell_type": "code",
   "execution_count": null,
   "id": "e6d6e9e5",
   "metadata": {},
   "outputs": [],
   "source": [
    "from trustutils import run \n",
    "\n",
    "run.introduction(\"A.Gerschenfeld / A.Bruneton\",\"13/04/2021\")\n",
    "\n",
    "run.TRUST_parameters(\"1.8.0\")\n"
   ]
  },
  {
   "cell_type": "markdown",
   "id": "6e6ee9bc",
   "metadata": {},
   "source": [
    "### Description: \n",
    "\n",
    "Illustration of partitioners Sous_domaine and Union"
   ]
  },
  {
   "cell_type": "code",
   "execution_count": null,
   "id": "15189bb2-352d-48f9-85fa-64c4323e0f88",
   "metadata": {},
   "outputs": [],
   "source": [
    "c1 = run.addCase(\"sous_dom\" ,\"jdd_sous_dom.data\") \n",
    "c2 = run.addCase(\"union\" ,\"jdd_union.data\") \n",
    "run.printCases()\n",
    "run.runCases()"
   ]
  },
  {
   "cell_type": "markdown",
   "id": "2b813f3c-e933-430b-baf7-769736e8fffd",
   "metadata": {},
   "source": [
    "## Sous_domaine\n",
    "Let D be a global domain and two sub-domains D1 and D2 created from sub-zones of D. A global partition of D can be forwarded to the two sub-domains D1 and D2 in a conform fashion thanks to the 'Sous_domaine' partitioner.\n",
    "### Global domain partition"
   ]
  },
  {
   "cell_type": "code",
   "execution_count": null,
   "id": "ea873754-f777-46f2-bbfe-b89b52ac5bf0",
   "metadata": {},
   "outputs": [],
   "source": [
    "from trustutils import visit\n",
    "\n",
    "visit.showField(\"sous_dom/domaine_glob_decoup.lata\",\"Pseudocolor\",\"PARTITION_ELEM_domaine_glob\")"
   ]
  },
  {
   "cell_type": "markdown",
   "id": "b52efb29-a07b-478a-9804-63cfe672aca6",
   "metadata": {},
   "source": [
    "### Sub-domain 1 and 2\n",
    "The mesh is only shown for the sub-domain 1. We see the match on the allocated proc numbers with theinitial splitting of the global domain."
   ]
  },
  {
   "cell_type": "code",
   "execution_count": null,
   "id": "b4ecd680",
   "metadata": {},
   "outputs": [],
   "source": [
    "Graph=visit.Show(\"sous_dom/domaine1_decoup.lata\",\"Pseudocolor\",\"PARTITION_ELEM_domaine1\",min=0,max=2)\n",
    "Graph.addField(\"sous_dom/domaine2_decoup.lata\",\"Pseudocolor\",\"PARTITION_ELEM_domaine2\")\n",
    "Graph.plot()"
   ]
  },
  {
   "cell_type": "markdown",
   "id": "17a1dd03-bd5a-4874-a719-da2fbe2ba139",
   "metadata": {},
   "source": [
    "## Union\n",
    "The other way around: from a splitting of D1 and D2 create a global partioning of D which is the unionof the D1 and D2 splitting.\n",
    "### D1 partition"
   ]
  },
  {
   "cell_type": "code",
   "execution_count": null,
   "id": "da9f3074-5b59-449a-b047-0f1a63e9ec2f",
   "metadata": {},
   "outputs": [],
   "source": [
    "visit.showField(\"union/domaine1_decoup.lata\",\"Pseudocolor\",\"PARTITION_ELEM_domaine1\")"
   ]
  },
  {
   "cell_type": "markdown",
   "id": "8f628431-7ca8-4b19-bd20-2985b21bd69d",
   "metadata": {},
   "source": [
    "### D2 partition"
   ]
  },
  {
   "cell_type": "code",
   "execution_count": null,
   "id": "16b13389-b933-4dbb-980a-fcd77b00ad89",
   "metadata": {},
   "outputs": [],
   "source": [
    "visit.showField(\"union/domaine2_decoup.lata\",\"Pseudocolor\",\"PARTITION_ELEM_domaine2\")"
   ]
  },
  {
   "cell_type": "markdown",
   "id": "bf44f1cd-6594-4a60-b939-a5b11830932d",
   "metadata": {},
   "source": [
    "### Global partition"
   ]
  },
  {
   "cell_type": "code",
   "execution_count": null,
   "id": "efc41edb-cc19-4917-a3cd-950c81452ab1",
   "metadata": {},
   "outputs": [],
   "source": [
    "visit.showField(\"union/domaine_glob_decoup.lata\",\"Pseudocolor\",\"PARTITION_ELEM_domaine_glob\")"
   ]
  },
  {
   "cell_type": "markdown",
   "id": "d790c272-5cf0-46be-b29f-44125985a695",
   "metadata": {},
   "source": [
    "##  'Sousdomaine' data file examp"
   ]
  },
  {
   "cell_type": "code",
   "execution_count": null,
   "id": "129481c1-9f53-47df-be8b-448b7f975565",
   "metadata": {},
   "outputs": [],
   "source": [
    "run.dumpDataset(\"sous_dom/jdd_sous_dom.data\",[\"partitionneur\",\"sous_domaine\"])"
   ]
  },
  {
   "cell_type": "markdown",
   "id": "8c48ceb9-4788-4bdb-95e7-791e937f8c9a",
   "metadata": {},
   "source": [
    "##   'Union' data file example"
   ]
  },
  {
   "cell_type": "code",
   "execution_count": null,
   "id": "90de995f-65b9-43f3-a4f0-e5c41460cc40",
   "metadata": {},
   "outputs": [],
   "source": [
    "run.dumpDataset(\"union/jdd_union.data\",[\"partitionneur\",\"union\"])"
   ]
  }
 ],
 "metadata": {},
 "nbformat": 4,
 "nbformat_minor": 5
}
