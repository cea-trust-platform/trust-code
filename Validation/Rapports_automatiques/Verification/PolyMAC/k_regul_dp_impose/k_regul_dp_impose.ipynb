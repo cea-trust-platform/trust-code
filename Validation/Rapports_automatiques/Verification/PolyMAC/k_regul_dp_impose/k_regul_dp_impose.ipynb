{
 "cells": [
  {
   "cell_type": "markdown",
   "id": "czech-cloud",
   "metadata": {},
   "source": [
    "# Test des fonctionnalités DP_impose et K regul"
   ]
  },
  {
   "cell_type": "code",
   "execution_count": null,
   "id": "669aa2da",
   "metadata": {},
   "outputs": [],
   "source": [
    "from trustutils import run\n",
    "run.introduction(\"A. Gerschenfeld, Y. Gorsse\")\n",
    "\n",
    "run.TRUST_parameters()"
   ]
  },
  {
   "cell_type": "markdown",
   "id": "c77f67a7",
   "metadata": {},
   "source": [
    "### Description: \n",
    "\n"
   ]
  },
  {
   "cell_type": "code",
   "execution_count": null,
   "id": "70d9a8e0",
   "metadata": {},
   "outputs": [],
   "source": [
    "from trustutils import run\n",
    "run.useMEDCoupling()\n",
    "from src.bmesh import build_mesh\n",
    "\n",
    "run.reset()\n",
    "cases = {\"ns\" : [\"PolyMAC_P0P1NC\", \"PolyMAC_P0\", \"VEFPreP1b\"], \"multi\" : [\"PolyMAC_P0P1NC\", \"PolyMAC_P0\"]}\n",
    "sources = {\"dp_k_regul\": \"DP_Impose { dp Champ_uniforme 3 100 0 0 surface { face_group surf2 orientation Champ_Uniforme 3 0 0 -1 } } , perte_Charge_Singuliere { dir K regul { K0 7.0 deb -5 eps 0.5*(t>1) } surface { face_group surf1 orientation Champ_Uniforme 3 0 0 -1 } }\",\n",
    "           \"dp_regul\": \"DP_Impose { dp_regul { DP0 100 deb 5 eps 0.5*(t>1) } surface { face_group surf2 orientation Champ_Uniforme 3 0 0 -1 } }\"}\n",
    "\n",
    "run.initBuildDirectory()\n",
    "for nom_s, s in sources.items():\n",
    "    for pb, dis in cases.items():\n",
    "        for d in dis:\n",
    "            run.addCaseFromTemplate(f\"jdd_{pb}.data\", f\"{pb}/{d}/{nom_s}\",\n",
    "                                    {\"dis\" : d,\n",
    "                                     \"sources\" : s,\n",
    "                                     \"poly\" : \"\" if d == \"VEFPreP1b\" else \"convertalltopoly\"\n",
    "                                     })\n",
    "            build_mesh(d == \"VEFPreP1b\", f\"{run.BUILD_DIRECTORY}/mesh_hexa.med\", f\"{run.BUILD_DIRECTORY}/{pb}/{d}/{nom_s}/mesh.med\")\n",
    "\n",
    "run.printCases()\n",
    "run.runCases()"
   ]
  },
  {
   "cell_type": "markdown",
   "id": "governing-honolulu",
   "metadata": {},
   "source": [
    "## Description\n",
    "Domaine fermé avec une frontiere interne (en gris sur la figure), et deux surfaces permettant d'imposer les termes source testés. En bleu, la régulation sur le débit, et en orange le DP imposé. Une circulation du fluide apparait, et le débit généré se régule sur la valeur cible.\n",
    "\n",
    "![](src/domaine.png)"
   ]
  },
  {
   "cell_type": "code",
   "execution_count": null,
   "id": "moderate-cream",
   "metadata": {},
   "outputs": [],
   "source": [
    "from trustutils import plot\n",
    "\n",
    "a = plot.Graph()\n",
    "b = plot.Graph()\n",
    "c = plot.Graph()\n",
    "for nom_s, s in sources.items():\n",
    "    for pb, dis in cases.items():\n",
    "        for i, d in enumerate(dis):\n",
    "            data_DP = plot.loadText(f\"{pb}/{d}/{nom_s}/jdd_{pb}_pb_DP_surf2.out\", skiprows=3)\n",
    "            # plot K\n",
    "            if nom_s == \"dp_k_regul\":\n",
    "                data = plot.loadText(f\"{pb}/{d}/{nom_s}/jdd_{pb}_pb_K_surf1.out\", skiprows=3)\n",
    "                a.add(data[0], data[1], label=f\"K - {pb} - {d}\")\n",
    "\n",
    "            # plot Q\n",
    "            if i == 0 and pb == \"ns\" and nom_s == \"dp_k_regul\":\n",
    "                b.add(data[0], data[3], label=\"debit cible\")\n",
    "            if nom_s == \"dp_k_regul\":\n",
    "                b.add(data[0], data[2], label=f\"{pb} - {d} - {nom_s}\")\n",
    "            else:\n",
    "                b.add(data_DP[0], data_DP[2], label=f\"{pb} - {d} - {nom_s}\")\n",
    "\n",
    "            # plot DP\n",
    "            c.add(data_DP[0], data_DP[1], label=f\"DP impose - {pb} - {d} - {nom_s}\")\n",
    "\n",
    "a.label(\"Time\", \"Coeff de perte de charge\")\n",
    "b.label(\"Time\", \"Debit\")\n",
    "c.label(\"Time\", \"DeltaP\")"
   ]
  }
 ],
 "metadata": {
  "kernelspec": {
   "display_name": "Python 3",
   "language": "python",
   "name": "python3"
  },
  "language_info": {
   "codemirror_mode": {
    "name": "ipython",
    "version": 3
   },
   "file_extension": ".py",
   "mimetype": "text/x-python",
   "name": "python",
   "nbconvert_exporter": "python",
   "pygments_lexer": "ipython3",
   "version": "3.8.19"
  }
 },
 "nbformat": 4,
 "nbformat_minor": 5
}
