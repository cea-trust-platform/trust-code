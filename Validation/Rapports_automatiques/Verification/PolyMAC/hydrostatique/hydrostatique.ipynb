{
 "cells": [
  {
   "attachments": {},
   "cell_type": "markdown",
   "id": "9b8d9cf0-4b50-46ae-a69a-3ee6c355b2ab",
   "metadata": {},
   "source": [
    "# Hydrostatics\n",
    "\n",
    "One consider a box with imposed pressure at the top, and initial zero velocity field. The purpose is to evaluate the ability of the numerical schemes to preserve the hydrostatic state.\n",
    "\n",
    "The simulations are run on 2D and 3D FVCA meshes. The error is mesured on $\\vec{v}$ and $P$."
   ]
  },
  {
   "cell_type": "code",
   "execution_count": null,
   "id": "fd504980",
   "metadata": {},
   "outputs": [],
   "source": [
    "from trustutils import run\n",
    "\n",
    "run.introduction('Y.G')\n",
    "run.TRUST_parameters()"
   ]
  },
  {
   "cell_type": "code",
   "execution_count": null,
   "id": "959d7f18",
   "metadata": {},
   "outputs": [],
   "source": [
    "run.useMEDCoupling()\n",
    "import medcoupling as mc\n",
    "\n",
    "def change_boundaries(med_path, D, poly):\n",
    "    eps = 1e-6\n",
    "    mcum = mc.ReadUMeshFromFile(med_path)\n",
    "    if not poly: mcum.unPolyze()\n",
    "    bb = mcum.getBoundingBox()\n",
    "\n",
    "    mfum = mc.MEDFileUMesh.New()\n",
    "    mfum.setMeshAtLevel(0, mcum)\n",
    "\n",
    "    mf, _, _, _, _ = mcum.buildDescendingConnectivity()\n",
    "    mfum.setMeshAtLevel(-1, mf)\n",
    "\n",
    "    bf = mf.computeCellCenterOfMass()\n",
    "\n",
    "    noms_cl = [[\"left\", \"right\"]]\n",
    "    if D == 3: noms_cl.append([\"front\", \"back\"])\n",
    "    noms_cl.append([\"down\", \"up\"])\n",
    "    for i in range(D):  # frontieres en x puis y (puis en z si extr)\n",
    "        for j in range(2):  # min puis max\n",
    "            g = []\n",
    "            for idx, b in enumerate(bf):\n",
    "                if abs(b[i] - bb[i][j]) < eps:\n",
    "                    g.append(idx)\n",
    "            grp = mc.DataArrayInt.New(g)\n",
    "            grp.setName(noms_cl[i][j])\n",
    "            mfum.addGroup(-1, grp)\n",
    "    mfum.write(med_path, 2)"
   ]
  },
  {
   "cell_type": "code",
   "execution_count": null,
   "id": "7d75e90c",
   "metadata": {},
   "outputs": [],
   "source": [
    "from trustutils import run\n",
    "from string import Template\n",
    "import os, sys\n",
    "run.useMEDCoupling()\n",
    "import medcoupling as mc\n",
    "\n",
    "run.reset()\n",
    "m2d = {\n",
    "    # 2D meshes\n",
    "    \"Cartesian\":      [\"PolyMAC_P0P1NC\", \"PolyMAC_P0\", \"PolyMAC\"],\n",
    "    \"Triangles\":      [\"PolyMAC_P0P1NC\", \"PolyMAC_P0\", \"PolyMAC\"],\n",
    "    \"Locally_Refined\":[\"PolyMAC_P0P1NC\", \"PolyMAC_P0\", \"PolyMAC\"],\n",
    "    \"Quadrangles\":    [\"PolyMAC_P0P1NC\", \"PolyMAC_P0\", \"PolyMAC\"],\n",
    "    \"Kershaw2D\":      [\"PolyMAC_P0P1NC\", \"PolyMAC_P0\", \"PolyMAC\"],\n",
    "    \"Polygons\":       [\"PolyMAC_P0P1NC\", \"PolyMAC_P0\", \"PolyMAC\"],\n",
    "}\n",
    "m3d = {\n",
    "    # 3D meshes\n",
    "    \"Tetra\":          [\"PolyMAC_P0P1NC\", \"PolyMAC_P0\", \"PolyMAC\"],\n",
    "    \"Hexa\":           [\"PolyMAC_P0P1NC\", \"PolyMAC_P0\", \"PolyMAC\"],\n",
    "    \"Prism\":          [\"PolyMAC_P0P1NC\", \"PolyMAC_P0\", \"PolyMAC\"],\n",
    "    \"Kershaw\":        [\"PolyMAC_P0P1NC\", \"PolyMAC_P0\", \"PolyMAC\"],\n",
    "    \"CheckerBoard\":   [\"PolyMAC_P0P1NC\", \"PolyMAC_P0\", \"PolyMAC\"],\n",
    "    \"PrismHexa\":      [\"PolyMAC_P0P1NC\", \"PolyMAC_P0\", \"PolyMAC\"],\n",
    "    # \"Random\":         [\"PolyMAC_P0P1NC\", \"PolyMAC_P0\", \"PolyMAC\"],\n",
    "    \"LocRaf\":         [\"PolyMAC_P0P1NC\", \"PolyMAC_P0\", \"PolyMAC\"],\n",
    "    \"Voronoi\":        [\"PolyMAC_P0P1NC\", \"PolyMAC_P0\", \"PolyMAC\"],\n",
    "}\n",
    "mxd = { 2 : m2d, 3 : m3d }\n",
    "solvers = [\"solveur_U_P\", \"implicite\"]\n",
    "meshes_dir = os.environ[\"TRUST_ROOT\"] + \"/Validation/Rapports_automatiques/Verification/PolyMAC/share/meshes\"\n",
    "\n",
    "# Trigger the copy of the src directory into the build directory:\n",
    "run.initBuildDirectory()\n",
    "origin, build_dir = os.getcwd(), run.BUILD_DIRECTORY\n",
    "os.chdir(build_dir)\n",
    "\n",
    "for s in solvers:\n",
    "    for dim in [2, 3]:\n",
    "        for m, dis in mxd[dim].items():\n",
    "            for d in dis:\n",
    "                os.system(f\"mkdir -p {m}/{d}/{s}\")\n",
    "                with open(f\"jdd_{dim}D.data\", \"r\") as file: filedata = Template(file.read())\n",
    "                result = filedata.substitute({\"dis\" : d, \"solver\" : s})\n",
    "                with open(f\"{m}/{d}/{s}/jdd.data\", \"w\") as file: file.write(result)\n",
    "                os.system(f\"gunzip -c {meshes_dir}/{m}/jdd_1/mesh.med.gz >{m}/{d}/{s}/mesh.med\")\n",
    "                change_boundaries(f\"{m}/{d}/{s}/mesh.med\", dim, d.startswith(\"Poly\"))\n",
    "                run.addCase(f\"{m}/{d}/{s}\", f\"jdd.data\")\n",
    "\n",
    "os.chdir(origin)\n",
    "\n",
    "run.printCases()\n",
    "run.runCases()\n",
    "run.tablePerf()\n"
   ]
  },
  {
   "cell_type": "code",
   "execution_count": null,
   "id": "b62939e3",
   "metadata": {},
   "outputs": [],
   "source": [
    "from trustutils import plot\n",
    "import matplotlib.colors as mcolors\n",
    "import pandas as pd\n",
    "from matplotlib.lines import Line2D\n",
    "c = list(mcolors.TABLEAU_COLORS.keys())\n",
    "linestyle = {\"PolyMAC_P0P1NC\": (\"solid\", \"o\"), \"VDF\" : (\"dotted\", \"*\"), \"PolyMAC_P0\" : (\"dashed\", \"v\"), \"VEFPreP1B\" : (\"dashdot\", \"s\"), \"PolyMAC\" : (\"dashed\", \"d\")}\n",
    "\n",
    "lines_and_markers = {dim : [Line2D([0], [0], color=c[k]) for k, _ in enumerate(dic.items())] for dim, dic in [(2, m2d), (3, m3d)]}\n",
    "for i in [2, 3]: lines_and_markers[i] += [Line2D([0], [0], color=\"black\", marker=m, linestyle=s) for _, (s, m) in linestyle.items()]\n",
    "names_in_legend = {dim : list(dic.keys()) for dim, dic in [(2, m2d), (3, m3d)]}\n",
    "for i in [2, 3]: names_in_legend[i] += list(linestyle.keys())\n",
    "\n",
    "def make_custom_legend(graph, dim):\n",
    "    try:\n",
    "        for ax in graph.axs:\n",
    "            ax.legend(lines_and_markers[dim], names_in_legend[dim], loc='upper center', ncol=4, bbox_to_anchor=(0.5, -0.1))\n",
    "    except:\n",
    "        graph.subplot.legend(lines_and_markers[dim], names_in_legend[dim], loc='upper center', ncol=4, bbox_to_anchor=(0.5, -0.1))\n",
    "\n",
    "for s in solvers:\n",
    "    a = plot.Graph(f\"Residuals - {s}\")\n",
    "    for dim, dic in [(2, m2d), (3, m3d)]:\n",
    "        for k, (m, dis) in enumerate(dic.items()):\n",
    "            for d in dis:\n",
    "                a.addResidu(f\"{m}/{d}/{s}/jdd.dt_ev\", label=None, color=c[k], linestyle=linestyle[d][0], marker=linestyle[d][1], markersize=12)\n",
    "\n",
    "    a.scale(yscale='log')\n",
    "make_custom_legend(a, dim)"
   ]
  },
  {
   "cell_type": "code",
   "execution_count": null,
   "id": "2675af2f-fd66-4885-9e4d-b77f9e4b2b7a",
   "metadata": {},
   "outputs": [],
   "source": [
    "import pandas as pd\n",
    "def highlighter(cell_value):\n",
    "    if float(cell_value) > 1e-6:\n",
    "        return \"background-color: red\"\n",
    "\n",
    "max_errorV = {s : {} for s in solvers}\n",
    "max_errorP = {s : {} for s in solvers}\n",
    "\n",
    "for s in solvers:\n",
    "    for dim, dic in [(2, m2d), (3, m3d)]:\n",
    "        for k, (m, dis) in enumerate(dic.items()):\n",
    "            for d in dis:\n",
    "                errV = plot.loadText(f\"{m}/{d}/{s}/jdd_ERRV.son\")\n",
    "                errP = plot.loadText(f\"{m}/{d}/{s}/jdd_ERRP.son\")\n",
    "                if m in max_errorV[s]:\n",
    "                    max_errorV[s][m][d] = errV[-1][-1]\n",
    "                else:\n",
    "                    max_errorV[s][m] = {d : errV[-1][-1]}\n",
    "                if m in max_errorP[s]:\n",
    "                    max_errorP[s][m][d] = errP[-1][-1]\n",
    "                else:\n",
    "                    max_errorP[s][m] = {d : errP[-1][-1]}    "
   ]
  },
  {
   "cell_type": "code",
   "execution_count": null,
   "id": "2e9209be",
   "metadata": {},
   "outputs": [],
   "source": [
    "df = pd.DataFrame.from_dict(max_errorV[\"solveur_U_P\"]).T\n",
    "df.style.format(\"{:.2e}\".format).map(highlighter).set_caption(\"Max error on velocity - solveur_U_P\")"
   ]
  },
  {
   "cell_type": "code",
   "execution_count": null,
   "id": "5922c669",
   "metadata": {},
   "outputs": [],
   "source": [
    "df = pd.DataFrame.from_dict(max_errorV[\"implicite\"]).T\n",
    "df.style.format(\"{:.2e}\".format).map(highlighter).set_caption(\"Max error on velocity - implicite\")"
   ]
  },
  {
   "cell_type": "code",
   "execution_count": null,
   "id": "a4ec5a0b",
   "metadata": {},
   "outputs": [],
   "source": [
    "df = pd.DataFrame.from_dict(max_errorP[\"solveur_U_P\"]).T\n",
    "df.style.format(\"{:.2e}\".format).map(highlighter).set_caption(\"Max error on pressure - solveur_U_P\")"
   ]
  },
  {
   "cell_type": "code",
   "execution_count": null,
   "id": "f91978a9",
   "metadata": {},
   "outputs": [],
   "source": [
    "df = pd.DataFrame.from_dict(max_errorP[\"implicite\"]).T\n",
    "df.style.format(\"{:.2e}\".format).map(highlighter).set_caption(\"Max error on pressure - implicite\")"
   ]
  }
 ],
 "metadata": {
  "kernelspec": {
   "display_name": "Python 3 (ipykernel)",
   "language": "python",
   "name": "python3"
  },
  "language_info": {
   "codemirror_mode": {
    "name": "ipython",
    "version": 3
   },
   "file_extension": ".py",
   "mimetype": "text/x-python",
   "name": "python",
   "nbconvert_exporter": "python",
   "pygments_lexer": "ipython3",
   "version": "3.12.5"
  },
  "toc-autonumbering": true
 },
 "nbformat": 4,
 "nbformat_minor": 5
}
