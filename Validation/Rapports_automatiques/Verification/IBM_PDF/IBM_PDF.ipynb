{
 "cells": [
  {
   "cell_type": "markdown",
   "id": "gross-patent",
   "metadata": {},
   "source": [
    "# Validation of the immersed boundary module of TRUST"
   ]
  },
  {
   "cell_type": "code",
   "execution_count": null,
   "id": "6f1665cd",
   "metadata": {},
   "outputs": [],
   "source": [
    "from trustutils import run\n",
    "run.introduction(\"Georis Billo\")"
   ]
  },
  {
   "cell_type": "markdown",
   "id": "perfect-entrepreneur",
   "metadata": {},
   "source": [
    "### Description \n",
    "\n",
    "This report was made to run all validation case of the immersed boundary method implemented for the EF discretization in TRUST 1.8.2. The Immersed Boundary Method (IBM) involved is called Penalized Direct Forcing (PDF). It is used to take into account non moving infinetely rigid immersed obstacles. For the moment, the input volume mesh needs data from the immersed boundary (such as a normal vector field, projection of the nodes of the volume mesh on the immersed boundary, etc.) This methods involves a modification of the projection scheme (new time term + modification of the projection matrix). For the nodes located in the vicinity of the immmersed boundary, the velocity can be linearly interpolated. There are four variants for the interpolation: direct assignment (no interpolation), directional interpolation, multi-directional interpolation and a hybrid approach."
   ]
  },
  {
   "cell_type": "code",
   "execution_count": null,
   "id": "a61057b9",
   "metadata": {},
   "outputs": [],
   "source": [
    "run.TRUST_parameters(\"1.8.2\")"
   ]
  },
  {
   "cell_type": "code",
   "execution_count": null,
   "id": "dc32119f",
   "metadata": {},
   "outputs": [],
   "source": [
    "from trustutils import run\n",
    "import os\n",
    "\n",
    "run.initCaseSuite()\n",
    "origin, build_dir = os.getcwd(), run.BUILD_DIRECTORY\n",
    "os.chdir(build_dir)\n",
    "execfile(\"prepare.py\")    #  the various run.addCase() are called there, and the partitionning too.\n",
    "\n",
    "\n",
    "\n",
    "os.chdir(origin)\n",
    "\n",
    "run.printCases()"
   ]
  },
  {
   "cell_type": "code",
   "execution_count": null,
   "id": "15189bb2-352d-48f9-85fa-64c4323e0f88",
   "metadata": {},
   "outputs": [],
   "source": [
    "run.runCases()"
   ]
  },
  {
   "cell_type": "markdown",
   "id": "2b813f3c-e933-430b-baf7-769736e8fffd",
   "metadata": {},
   "source": [
    "## 2D Poiseuille flow with conforming immersed boundaries\n",
    "\n",
    "Poiseuille flow refers to a viscous fluid flow between two parallel plane plates, what we call channel, or within a cylindrical tube. In two dimension, which is our case of interest for verification purposes, both cases are equivalent. The distance between the plates is assumed widely smaller than the dimensions of the plates. So we can use the lubrication theory to obtain the analytical solution. We used this case with conforming immersed boundary so that we can use and validate the direct assignment approach. "
   ]
  },
  {
   "cell_type": "markdown",
   "id": "f701b992",
   "metadata": {},
   "source": [
    "### Schematic representation of the conforming Poiseuille test case"
   ]
  },
  {
   "cell_type": "markdown",
   "id": "12f77b81",
   "metadata": {},
   "source": [
    "![](src/figures/scheme_poiseuille_aligned.png)"
   ]
  },
  {
   "cell_type": "markdown",
   "id": "4cf635f6",
   "metadata": {},
   "source": [
    "### Geometrical parameters used for the 2D Poiseuille flow (channel aligned with the mesh)"
   ]
  },
  {
   "cell_type": "code",
   "execution_count": null,
   "id": "5728ff27",
   "metadata": {},
   "outputs": [],
   "source": [
    "from trustutils import plot\n",
    "\n",
    "a = plot.Table([r\"$w$ (m)\",r\"$l$ (m)\",r\"$U_{\\infty}$ (m.s${=1}$)\",r\"$\\rho$ (kg.m${-3}$)\",r\"$\\nu$ (m$^2$.s$^{-1}$)\",r\"$\\mathit{Re} =  U_{\\infty} w \\nu^{-1}$\"])\n",
    "\n",
    "a.addLine([[1,4,1,1,1,1]],\"Configuration 1\")\n",
    "display(a)"
   ]
  },
  {
   "cell_type": "markdown",
   "id": "6da73396",
   "metadata": {},
   "source": [
    "### Velocity vector and pressure map\n",
    "\n",
    "Reynolds = 1."
   ]
  },
  {
   "cell_type": "code",
   "execution_count": null,
   "id": "9b5f29b0",
   "metadata": {},
   "outputs": [],
   "source": [
    "from trustutils import visit\n",
    "\n",
    "a = visit.Show(\"poiseuille_pdf_align/PAR_poiseuille_pdf_align.lata\",\"Pseudocolor\",\"PRESSION_ELEM_dom\")\n",
    "a.addField(\"poiseuille_pdf_align/PAR_poiseuille_pdf_align.lata\",\"Vector\",\"VITESSE_SOM_dom\")\n",
    "a.visuOptions([\"no_databaseinfo\",\"no_triad\",\"no_axes\"])\n",
    "a.plot()"
   ]
  },
  {
   "cell_type": "markdown",
   "id": "162eef7c",
   "metadata": {},
   "source": [
    "## 2D Poiseuille flow with channel tilted\n",
    "\n",
    "Globally, this case is the same as the previous one (lubrification theory gives analytical solutions). However, this time the immersed boundaries are not conforming (the channel is tilted and three angles are tested: 11, 30 and 45°) and so a linear interpolation of the imposed velocity in the vicinity of the immersed boundaries is considered. Three interpolation techniques are available : directional, multi-directional and hybrid (directional where it is possible and multi-directional elsewhere)\n"
   ]
  },
  {
   "cell_type": "markdown",
   "id": "4e9a8090",
   "metadata": {},
   "source": [
    "### Schematic representation of the Poiseuille with tilted channel test case"
   ]
  },
  {
   "cell_type": "markdown",
   "id": "93aa336a",
   "metadata": {},
   "source": [
    "![](src/figures/scheme_poiseuille_tilted.png)"
   ]
  },
  {
   "cell_type": "markdown",
   "id": "9dd4c1a3",
   "metadata": {},
   "source": [
    "### Geometrical parameters used for the 2D Poiseuille flow (channel tilted)"
   ]
  },
  {
   "cell_type": "code",
   "execution_count": null,
   "id": "fb5588f5",
   "metadata": {},
   "outputs": [],
   "source": [
    "a = plot.Table([r\"$\\theta$ ($^\\circ$)\",r\"$w$ (m)\",r\"$l$ (m)\",r\"$U_{\\infty}$ (m.s${=1}$)\",r\"$\\rho$ (kg.m${-3}$)\",r\"$\\nu$ (m$^2$.s$^{-1}$)\",r\"$\\mathit{Re} =  U_{\\infty} w \\nu^{-1}$\"])\n",
    "\n",
    "a.addLine([[11,1,4,1,1,1,1]],\"Configuration 1\")\n",
    "a.addLine([[30,1,4,1,1,1,1]],\"Configuration 2\")\n",
    "a.addLine([[45,1,4,1,1,1,1]],\"Configuration 3\")\n",
    "\n",
    "display(a)"
   ]
  },
  {
   "cell_type": "markdown",
   "id": "fd0fc347",
   "metadata": {},
   "source": [
    "### Velocity vector and pressure map with a tilt angle of 11 degrees and directional interpolation\n",
    "\n",
    "Reynolds = 1, tilt angle = 11 degrees, directional interpolation."
   ]
  },
  {
   "cell_type": "code",
   "execution_count": null,
   "id": "b7f884e9",
   "metadata": {},
   "outputs": [],
   "source": [
    "a = visit.Show(\"poiseuille_pdf_tilt_11_dir/PAR_poiseuille_pdf_tilt_11_dir.lata\",\"Pseudocolor\",\"PRESSION_ELEM_dom\")\n",
    "a.addField(\"poiseuille_pdf_tilt_11_dir/PAR_poiseuille_pdf_tilt_11_dir.lata\",\"Vector\",\"VITESSE_SOM_dom\")\n",
    "a.visuOptions([\"no_databaseinfo\",\"no_triad\",\"no_axes\"])\n",
    "a.plot()"
   ]
  },
  {
   "cell_type": "markdown",
   "id": "b77d34fe",
   "metadata": {},
   "source": [
    "### Velocity vector and pressure map with a tilt angle of 11 degrees and multi-directional interpolation\n",
    "\n",
    "Reynolds = 1, tilt angle = 11 degrees, multi-directional interpolation."
   ]
  },
  {
   "cell_type": "code",
   "execution_count": null,
   "id": "e3df781e",
   "metadata": {},
   "outputs": [],
   "source": [
    "a = visit.Show(\"poiseuille_pdf_tilt_11_multi_dir/PAR_poiseuille_pdf_tilt_11_multi_dir.lata\",\"Pseudocolor\",\"PRESSION_ELEM_dom\")\n",
    "a.addField(\"poiseuille_pdf_tilt_11_multi_dir/PAR_poiseuille_pdf_tilt_11_multi_dir.lata\",\"Vector\",\"VITESSE_SOM_dom\")\n",
    "a.visuOptions([\"no_databaseinfo\",\"no_triad\",\"no_axes\"])\n",
    "a.plot()"
   ]
  },
  {
   "cell_type": "markdown",
   "id": "7ad0479b",
   "metadata": {},
   "source": [
    "### Velocity vector and pressure map with a tilt angle of 11 degrees and hybrid interpolation\n",
    "\n",
    "Reynolds = 1, tilt angle = 11 degrees, hybrid interpolation."
   ]
  },
  {
   "cell_type": "code",
   "execution_count": null,
   "id": "3e520ad5",
   "metadata": {},
   "outputs": [],
   "source": [
    "a = visit.Show(\"poiseuille_pdf_tilt_11_hybrid/PAR_poiseuille_pdf_tilt_11_hybrid.lata\",\"Pseudocolor\",\"PRESSION_ELEM_dom\")\n",
    "a.addField(\"poiseuille_pdf_tilt_11_hybrid/PAR_poiseuille_pdf_tilt_11_hybrid.lata\",\"Vector\",\"VITESSE_SOM_dom\")\n",
    "a.visuOptions([\"no_databaseinfo\",\"no_triad\",\"no_axes\"])\n",
    "a.plot()"
   ]
  },
  {
   "cell_type": "markdown",
   "id": "b4655709",
   "metadata": {},
   "source": [
    "### Velocity vector and pressure map with a tilt angle of 30 degrees and directional interpolation\n",
    "\n",
    "Reynolds = 1, tilt angle = 30 degrees, directional interpolation."
   ]
  },
  {
   "cell_type": "code",
   "execution_count": null,
   "id": "ffd9fd97",
   "metadata": {},
   "outputs": [],
   "source": [
    "a = visit.Show(\"poiseuille_pdf_tilt_30_dir/PAR_poiseuille_pdf_tilt_30_dir.lata\",\"Pseudocolor\",\"PRESSION_ELEM_dom\")\n",
    "a.addField(\"poiseuille_pdf_tilt_30_dir/PAR_poiseuille_pdf_tilt_30_dir.lata\",\"Vector\",\"VITESSE_SOM_dom\")\n",
    "a.visuOptions([\"no_databaseinfo\",\"no_triad\",\"no_axes\"])\n",
    "a.plot()"
   ]
  },
  {
   "cell_type": "markdown",
   "id": "17fb85e5",
   "metadata": {},
   "source": [
    "### Velocity vector and pressure map with a tilt angle of 30 degrees and multi-directional interpolation\n",
    "\n",
    "Reynolds = 1, tilt angle = 30 degrees, multi-directional interpolation."
   ]
  },
  {
   "cell_type": "code",
   "execution_count": null,
   "id": "eea25e4a",
   "metadata": {},
   "outputs": [],
   "source": [
    "a = visit.Show(\"poiseuille_pdf_tilt_30_multi_dir/PAR_poiseuille_pdf_tilt_30_multi_dir.lata\",\"Pseudocolor\",\"PRESSION_ELEM_dom\")\n",
    "a.addField(\"poiseuille_pdf_tilt_30_multi_dir/PAR_poiseuille_pdf_tilt_30_multi_dir.lata\",\"Vector\",\"VITESSE_SOM_dom\")\n",
    "a.visuOptions([\"no_databaseinfo\",\"no_triad\",\"no_axes\"])\n",
    "a.plot()"
   ]
  },
  {
   "cell_type": "markdown",
   "id": "e1cca4ad",
   "metadata": {},
   "source": [
    "### Velocity vector and pressure map with a tilt angle of 30 degrees and hybrid interpolation\n",
    "\n",
    "Reynolds = 1, tilt angle = 30 degrees, hybrid interpolation."
   ]
  },
  {
   "cell_type": "code",
   "execution_count": null,
   "id": "274d21f3",
   "metadata": {},
   "outputs": [],
   "source": [
    "a = visit.Show(\"poiseuille_pdf_tilt_30_hybrid/PAR_poiseuille_pdf_tilt_30_hybrid.lata\",\"Pseudocolor\",\"PRESSION_ELEM_dom\")\n",
    "a.addField(\"poiseuille_pdf_tilt_30_hybrid/PAR_poiseuille_pdf_tilt_30_hybrid.lata\",\"Vector\",\"VITESSE_SOM_dom\")\n",
    "a.visuOptions([\"no_databaseinfo\",\"no_triad\",\"no_axes\"])\n",
    "a.plot()"
   ]
  },
  {
   "cell_type": "markdown",
   "id": "d3d2f095",
   "metadata": {},
   "source": [
    "### Velocity vector and pressure map with a tilt angle of 45 degrees and directional interpolation\n",
    "\n",
    "Reynolds = 1, tilt angle = 45 degrees, directional interpolation."
   ]
  },
  {
   "cell_type": "code",
   "execution_count": null,
   "id": "4cddd7d0",
   "metadata": {},
   "outputs": [],
   "source": [
    "a = visit.Show(\"poiseuille_pdf_tilt_45_dir/PAR_poiseuille_pdf_tilt_45_dir.lata\",\"Pseudocolor\",\"PRESSION_ELEM_dom\")\n",
    "a.addField(\"poiseuille_pdf_tilt_45_dir/PAR_poiseuille_pdf_tilt_45_dir.lata\",\"Vector\",\"VITESSE_SOM_dom\")\n",
    "a.visuOptions([\"no_databaseinfo\",\"no_triad\",\"no_axes\"])\n",
    "a.plot()"
   ]
  },
  {
   "cell_type": "markdown",
   "id": "82dc603e",
   "metadata": {},
   "source": [
    "### Velocity vector and pressure map with a tilt angle of 45 degrees and multi-directional interpolation\n",
    "\n",
    "Reynolds = 1, tilt angle = 45 degrees, multi-directional interpolation."
   ]
  },
  {
   "cell_type": "code",
   "execution_count": null,
   "id": "7fff2f94",
   "metadata": {},
   "outputs": [],
   "source": [
    "a = visit.Show(\"poiseuille_pdf_tilt_45_multi_dir/PAR_poiseuille_pdf_tilt_45_multi_dir.lata\",\"Pseudocolor\",\"PRESSION_ELEM_dom\")\n",
    "a.addField(\"poiseuille_pdf_tilt_45_multi_dir/PAR_poiseuille_pdf_tilt_45_multi_dir.lata\",\"Vector\",\"VITESSE_SOM_dom\")\n",
    "a.visuOptions([\"no_databaseinfo\",\"no_triad\",\"no_axes\"])\n",
    "a.plot()"
   ]
  },
  {
   "cell_type": "markdown",
   "id": "73a6388b",
   "metadata": {},
   "source": [
    "### Velocity vector and pressure map with a tilt angle of 45 degrees and hybrid interpolation\n",
    "\n",
    "Reynolds = 1, tilt angle = 45 degrees, hybrid interpolation."
   ]
  },
  {
   "cell_type": "code",
   "execution_count": null,
   "id": "c6bfa287",
   "metadata": {},
   "outputs": [],
   "source": [
    "a = visit.Show(\"poiseuille_pdf_tilt_45_hybrid/PAR_poiseuille_pdf_tilt_45_hybrid.lata\",\"Pseudocolor\",\"PRESSION_ELEM_dom\")\n",
    "a.addField(\"poiseuille_pdf_tilt_45_hybrid/PAR_poiseuille_pdf_tilt_45_hybrid.lata\",\"Vector\",\"VITESSE_SOM_dom\")\n",
    "a.visuOptions([\"no_databaseinfo\",\"no_triad\",\"no_axes\"])\n",
    "a.plot()"
   ]
  },
  {
   "cell_type": "markdown",
   "id": "ad8c161b",
   "metadata": {},
   "source": [
    "## Taylor couette flow\n",
    "\n",
    "### Schematic representation of the Taylor Couette test case\n",
    "\n",
    "Taylor-Couette flow refers to the flow between two infinitely long concentric circular cylinders which are rotating at different angular velocities. The following Figure, paired with the following Table, gives the test case configuration where $\\Omega_f$ represents the physical domain, $\\Omega_s$ represents the non-physical domain ($\\Omega = \\Omega_f \\cup \\Omega_s$ is the computational or fictitious domain), $\\Gamma_1$ (resp. $\\Gamma_2$) is the immersed boundaries corresponding to the inner (resp. outer) cylinders (they correspond to a no-slip condition, which means a Dirichlet BC with the Dirichlet fluid velocities given by the cylinders velocities), $r_1$ (resp. $r       _2$) is the radius of the inner (resp. outer) cylinder, $l = 2r_2 + \\frac{1}{4}$ is the side of the square domain, $\\omega_1$ (resp. $\\omega_2$) is the inner (resp. outer) cylinder angular velocity and $(e_r,e_\\theta)$ is the polar frame. The stability of this flow in ensured by a condition on the Taylor number, denoted $\\mathit{Ta} := \\frac{{\\omega_1}^{2}r_1(r_2-r_1)^3}{\\nu^2} < \\mathit{Ta}_c$ where $\\mathit{Ta}_c \\approx 1.7$ is the critical Taylor number co       mputed by linear analysis. The numerical application gives, in our case, $\\mathit{Ta} = 1$, so the criterion is respected. This means that, using lubrication theory once again, we are able to compute a steady-state solution in which the fluid velocity is purely azimuthal."
   ]
  },
  {
   "cell_type": "markdown",
   "id": "981cf764",
   "metadata": {},
   "source": [
    "![](src/figures/scheme_taylor_couette.png)"
   ]
  },
  {
   "cell_type": "markdown",
   "id": "b9876e55",
   "metadata": {},
   "source": [
    "### Geometrical parameters used for the laminar Taylor-Couette flow"
   ]
  },
  {
   "cell_type": "code",
   "execution_count": null,
   "id": "93aaeaa7",
   "metadata": {},
   "outputs": [],
   "source": [
    "columns=[r\"$r_1$(m)\",r\"$r_2$(m)\",r\"$\\omega_1$(rad.s$^{-1}$)\",r\"$\\omega_2$(rad.s$^{-1}$)\",r\"$\\nu$(m$^2$.s$^{-1}$)\",r\"$\\mathit{Re} = \\lvert \\omega \\rvert r_1^2\\nu^{-1}$\"]\n",
    "\n",
    "a = plot.Table(columns)\n",
    "\n",
    "a.addLine([[0.5,1,1,-1,0.25,1]],\"Configuration 1\")\n",
    "display(a)"
   ]
  },
  {
   "cell_type": "markdown",
   "id": "6667e5a7",
   "metadata": {},
   "source": [
    "### Taylor Couette flow with directional interpolation\n",
    "\n",
    "Reynolds = 1, directional interpolation."
   ]
  },
  {
   "cell_type": "code",
   "execution_count": null,
   "id": "25069019",
   "metadata": {},
   "outputs": [],
   "source": [
    "a = visit.Show(\"taylor_couette_pdf_dir/PAR_taylor_couette_pdf_dir.lata\",\"Pseudocolor\",\"norme_VITESSE_SOM_dom\")\n",
    "a.visuOptions([\"no_databaseinfo\",\"no_triad\",\"no_axes\"])\n",
    "a.plot()"
   ]
  },
  {
   "cell_type": "markdown",
   "id": "6fe59ed2",
   "metadata": {},
   "source": [
    "### Taylor Couette flow with multi-directional interpolation\n",
    "\n",
    "Reynolds = 1, multi-directional interpolation."
   ]
  },
  {
   "cell_type": "code",
   "execution_count": null,
   "id": "28c5fbfd",
   "metadata": {},
   "outputs": [],
   "source": [
    "a = visit.Show(\"taylor_couette_pdf_multi_dir/PAR_taylor_couette_pdf_multi_dir.lata\",\"Pseudocolor\",\"norme_VITESSE_SOM_dom\")\n",
    "a.visuOptions([\"no_databaseinfo\",\"no_triad\",\"no_axes\"])\n",
    "a.plot()"
   ]
  },
  {
   "cell_type": "markdown",
   "id": "ebc9b861",
   "metadata": {},
   "source": [
    "### Taylor Couette flow with hybrid interpolation\n",
    "\n",
    "Reynolds = 1, hybrid interpolation."
   ]
  },
  {
   "cell_type": "code",
   "execution_count": null,
   "id": "e5f22580",
   "metadata": {},
   "outputs": [],
   "source": [
    "a = visit.Show(\"taylor_couette_pdf_hybrid/PAR_taylor_couette_pdf_hybrid.lata\",\"Pseudocolor\",\"norme_VITESSE_SOM_dom\")\n",
    "a.visuOptions([\"no_databaseinfo\",\"no_triad\",\"no_axes\"])\n",
    "a.plot()"
   ]
  },
  {
   "cell_type": "markdown",
   "id": "23368934",
   "metadata": {},
   "source": [
    "## Flow around a circular cylinder\n",
    "\n",
    "The flow around a circular cylinder is a widely studied problem in the field of fluid dynamics. The following Figure, paired with the following Table, gives the test case configuration where $\\Omega_f$ (resp. $\\Omega_s$) represents the physical domain (resp. the non-physical domaine), $\\Omega = \\Omega_f \\cup \\Omega_s$ is the computational or fictitious domain, $\\Gamma$ is the immersed boundaries corresponding to the surface of the cylinder, $r$ is the cylinder radius, $l = 120 r$ is the side of the square domain (it is large to avoid boundary effects), $\\mathbf{u}_{\\infty}$ represents the uniform inlet velocity field and $\\omega$ is the cylinder angular velocity. There is no analytical solution, but many experiments and simulations give macroscopic indicators, such as the drag and lift coefficients, as comparison elements in the static case (*i.e.* $\\omega = 0$). The rotating case haven't been studied so much. However, some experimental data are available. The results are presented in the following chapters."
   ]
  },
  {
   "cell_type": "markdown",
   "id": "a0b3edee",
   "metadata": {},
   "source": [
    "### Schematic representation of the flow around a circular cylinder"
   ]
  },
  {
   "cell_type": "markdown",
   "id": "c781c32c",
   "metadata": {},
   "source": [
    "![](src/figures/scheme_cylinder.png)"
   ]
  },
  {
   "cell_type": "markdown",
   "id": "fc05463a",
   "metadata": {},
   "source": [
    "### Geometrical parameters used for the 2D Poiseuille flow (channel tilted)"
   ]
  },
  {
   "cell_type": "code",
   "execution_count": null,
   "id": "7b1249ac",
   "metadata": {},
   "outputs": [],
   "source": [
    "columns=[r\"$r$ (m)\",r\"$U_{\\infty}$ (m.s$^{-1}$)\",r\"$\\omega$ (rad.s$^{-1}$)\",r\"$\\nu$ (m$^2$.s$^{-1}$)\",r\"$\\mathit{Re} = 2 U_{\\infty} r\\nu^{-1}$\"]\n",
    "\n",
    "a = plot.Table(columns)\n",
    "\n",
    "a.addLine([[0.5,1,0,0.05,20]],\"Configuration 1\")\n",
    "a.addLine([[0.5,1,0,0.01,100]],\"Configuration 2\")\n",
    "a.addLine([[0.5,1,2,0.05,20]],\"Configuration 3\")\n",
    "a.addLine([[0.5,1,2,0.01,100]],\"Configuration 4\")\n",
    "display(a)"
   ]
  },
  {
   "cell_type": "markdown",
   "id": "03b51228",
   "metadata": {},
   "source": [
    "## Steady flow around a static circular cylinder"
   ]
  },
  {
   "cell_type": "markdown",
   "id": "7cf9c7af",
   "metadata": {},
   "source": [
    "### Flow around a static circular cylinder at Reynolds = 20 with directional interpolation\n",
    "\n",
    "Reynolds = 20, directional interpolation."
   ]
  },
  {
   "cell_type": "code",
   "execution_count": null,
   "id": "46e58ba5",
   "metadata": {},
   "outputs": [],
   "source": [
    "def optionsVField(a):\n",
    "    a.normal3D([0.,0.,1.])\n",
    "    a.up3D([0.,1.,0.])\n",
    "    a.zoom3D([0,0,10])\n",
    "    a.visuOptions([\"no_databaseinfo\",\"no_triad\",\"no_axes\"])\n",
    "    a.visitCommand(\"SetActivePlots(1)\")\n",
    "    a.visitCommand(\"VectorAtts = VectorAttributes()\")\n",
    "    a.visitCommand(\"VectorAtts.useStride = 1\")\n",
    "    a.visitCommand(\"VectorAtts.stride = 1\")\n",
    "    a.visitCommand(\"VectorAtts.autoScale = 0\")\n",
    "    a.visitCommand(\"VectorAtts.scale = 0.5\")\n",
    "    a.visitCommand(\"SetPlotOptions(VectorAtts)\")\n",
    "\n",
    "a = visit.Show(\"cylinder_pdf_static_re_20_dir/PAR_cylinder_pdf_static_re_20_dir.lata\", \"Pseudocolor\",\"PRESSION_ELEM_dom\")\n",
    "a.addField(\"cylinder_pdf_static_re_20_dir/PAR_cylinder_pdf_static_re_20_dir.lata\",\"Vector\",\"VITESSE_SOM_dom\")\n",
    "optionsVField(a)\n",
    "a.plot()"
   ]
  },
  {
   "cell_type": "markdown",
   "id": "91157a79",
   "metadata": {},
   "source": [
    "### Pressure contour with directional interpolation\n",
    "\n",
    "Reynolds = 20, directional interpolation."
   ]
  },
  {
   "cell_type": "code",
   "execution_count": null,
   "id": "df16c54a",
   "metadata": {},
   "outputs": [],
   "source": [
    "def optionsContour(a, nbLev):\n",
    "    a.visuOptions([\"no_databaseinfo\",\"no_triad\",\"no_axes\"])\n",
    "    a.visitCommand(\"ContourAtts = ContourAttributes()\")\n",
    "    a.visitCommand(\"ContourAtts.lineWidth = 2\")\n",
    "    a.visitCommand(\"ContourAtts.wireframe = 1\")\n",
    "    a.visitCommand(\"ContourAtts.contourNLevels = %d\" % nbLev)\n",
    "    a.visitCommand(\"SetPlotOptions(ContourAtts)\")\n",
    "    a.visitCommand(\"View3DAtts = View3DAttributes()\")\n",
    "    a.visitCommand(\"View3DAtts.perspective = 0\")\n",
    "    a.visitCommand(\"SetView3D(View3DAtts)\")\n",
    "\n",
    "    a.normal3D([0.,0.,1.])\n",
    "    a.up3D([0.,1.,0.])\n",
    "    a.zoom3D([0,0,0.1])\n",
    "    \n",
    "\n",
    "a = visit.Show(\"cylinder_pdf_static_re_20_dir/PAR_cylinder_pdf_static_re_20_dir.lata\", \"Contour\",\"PRESSION_ELEM_dom\")\n",
    "optionsContour(a, 10)\n",
    "a.plot()"
   ]
  },
  {
   "cell_type": "markdown",
   "id": "c6122746",
   "metadata": {},
   "source": [
    "### Vorticity contour with directional interpolation\n",
    "\n",
    "Reynolds = 20, directional interpolation."
   ]
  },
  {
   "cell_type": "code",
   "execution_count": null,
   "id": "558e5bae",
   "metadata": {},
   "outputs": [],
   "source": [
    "a = visit.Show(\"cylinder_pdf_static_re_20_dir/PAR_cylinder_pdf_static_re_20_dir.lata\", \"Contour\",\"VORTICITE_Z_ELEM_dom\")\n",
    "optionsContour(a, 15)\n",
    "a.plot()"
   ]
  },
  {
   "cell_type": "markdown",
   "id": "f94add4c",
   "metadata": {},
   "source": [
    "### Flow around a static circular cylinder at Reynolds = 20 with multi-directional interpolation\n",
    "\n",
    "Reynolds = 20, multi-directional interpolation."
   ]
  },
  {
   "cell_type": "code",
   "execution_count": null,
   "id": "1acfc413",
   "metadata": {},
   "outputs": [],
   "source": [
    "a = visit.Show(\"cylinder_pdf_static_re_20_multi_dir/PAR_cylinder_pdf_static_re_20_multi_dir.lata\", \"Pseudocolor\",\"PRESSION_ELEM_dom\")\n",
    "a.addField(\"cylinder_pdf_static_re_20_multi_dir/PAR_cylinder_pdf_static_re_20_multi_dir.lata\",\"Vector\",\"VITESSE_SOM_dom\")\n",
    "optionsVField(a)\n",
    "a.plot()"
   ]
  },
  {
   "cell_type": "markdown",
   "id": "ff77e42b",
   "metadata": {},
   "source": [
    "### Pressure contour with multi-directional interpolation\n",
    "\n",
    "Reynolds = 20, multi-directional interpolation."
   ]
  },
  {
   "cell_type": "code",
   "execution_count": null,
   "id": "d5f41200",
   "metadata": {},
   "outputs": [],
   "source": [
    "a = visit.Show(\"cylinder_pdf_static_re_20_multi_dir/PAR_cylinder_pdf_static_re_20_multi_dir.lata\", \"Contour\",\"PRESSION_ELEM_dom\")\n",
    "optionsContour(a, 10)\n",
    "a.plot()"
   ]
  },
  {
   "cell_type": "markdown",
   "id": "512f82d8",
   "metadata": {},
   "source": [
    "### Vorticity contour with multi-directional interpolation\n",
    "\n",
    "Reynolds = 20, multi-directional interpolation."
   ]
  },
  {
   "cell_type": "code",
   "execution_count": null,
   "id": "91e3be0e",
   "metadata": {},
   "outputs": [],
   "source": [
    "a = visit.Show(\"cylinder_pdf_static_re_20_multi_dir/PAR_cylinder_pdf_static_re_20_multi_dir.lata\", \"Contour\",\"VORTICITE_Z_ELEM_dom\")\n",
    "optionsContour(a, 15)\n",
    "a.plot()"
   ]
  },
  {
   "cell_type": "markdown",
   "id": "5ee32562",
   "metadata": {},
   "source": [
    "### Flow around a static circular cylinder at Reynolds = 20 with hybrid interpolation\n",
    "\n",
    "Reynolds = 20, hybrid interpolation."
   ]
  },
  {
   "cell_type": "code",
   "execution_count": null,
   "id": "367f9404",
   "metadata": {},
   "outputs": [],
   "source": [
    "a = visit.Show(\"cylinder_pdf_static_re_20_hybrid/PAR_cylinder_pdf_static_re_20_hybrid.lata\", \"Pseudocolor\",\"PRESSION_ELEM_dom\")\n",
    "a.addField(\"cylinder_pdf_static_re_20_hybrid/PAR_cylinder_pdf_static_re_20_hybrid.lata\",\"Vector\",\"VITESSE_SOM_dom\")\n",
    "optionsVField(a)\n",
    "a.plot()"
   ]
  },
  {
   "cell_type": "markdown",
   "id": "bd8ced18",
   "metadata": {},
   "source": [
    "### Pressure contour with hybrid interpolation\n",
    "\n",
    "Reynolds = 20, hybrid interpolation."
   ]
  },
  {
   "cell_type": "code",
   "execution_count": null,
   "id": "19bdc041",
   "metadata": {},
   "outputs": [],
   "source": [
    "a = visit.Show(\"cylinder_pdf_static_re_20_hybrid/PAR_cylinder_pdf_static_re_20_hybrid.lata\", \"Contour\",\"PRESSION_ELEM_dom\")\n",
    "optionsContour(a, 10)\n",
    "a.plot()"
   ]
  },
  {
   "cell_type": "markdown",
   "id": "d6c4ffe2",
   "metadata": {},
   "source": [
    "### Vorticity contour with hybrid interpolation\n",
    "\n",
    "Reynolds = 20, hybrid interpolation."
   ]
  },
  {
   "cell_type": "code",
   "execution_count": null,
   "id": "1f5ef312",
   "metadata": {},
   "outputs": [],
   "source": [
    "a = visit.Show(\"cylinder_pdf_static_re_20_hybrid/PAR_cylinder_pdf_static_re_20_hybrid.lata\", \"Contour\",\"VORTICITE_Z_ELEM_dom\")\n",
    "optionsContour(a, 15)\n",
    "a.plot()"
   ]
  },
  {
   "cell_type": "markdown",
   "id": "0635e1b1",
   "metadata": {},
   "source": [
    "## Steady flow around a rotating circular cylinder"
   ]
  },
  {
   "cell_type": "markdown",
   "id": "da9c6f42",
   "metadata": {},
   "source": [
    "### Flow around a rotating circular cylinder at Reynolds = 20 with directional interpolation\n",
    "\n",
    "Reynolds = 20, directional interpolation."
   ]
  },
  {
   "cell_type": "code",
   "execution_count": null,
   "id": "a9c56169",
   "metadata": {},
   "outputs": [],
   "source": [
    "a = visit.Show(\"cylinder_pdf_rotate_re_20_dir/PAR_cylinder_pdf_rotate_re_20_dir.lata\", \"Pseudocolor\",\"PRESSION_ELEM_dom\")\n",
    "a.addField(\"cylinder_pdf_rotate_re_20_dir/PAR_cylinder_pdf_rotate_re_20_dir.lata\",\"Vector\",\"VITESSE_SOM_dom\")\n",
    "optionsVField(a)\n",
    "a.plot()"
   ]
  },
  {
   "cell_type": "markdown",
   "id": "6ba6a360",
   "metadata": {},
   "source": [
    "### Pressure contour with directional interpolation\n",
    "\n",
    "Reynolds = 20, directional interpolation."
   ]
  },
  {
   "cell_type": "code",
   "execution_count": null,
   "id": "b006efb3",
   "metadata": {},
   "outputs": [],
   "source": [
    "a = visit.Show(\"cylinder_pdf_rotate_re_20_dir/PAR_cylinder_pdf_rotate_re_20_dir.lata\", \"Contour\",\"PRESSION_ELEM_dom\")\n",
    "optionsContour(a, 10)\n",
    "a.plot()"
   ]
  },
  {
   "cell_type": "markdown",
   "id": "2e7f60b1",
   "metadata": {},
   "source": [
    "### Vorticity contour with directional interpolation\n",
    "\n",
    "Reynolds = 20, directional interpolation."
   ]
  },
  {
   "cell_type": "code",
   "execution_count": null,
   "id": "f686f3d6",
   "metadata": {},
   "outputs": [],
   "source": [
    "a = visit.Show(\"cylinder_pdf_rotate_re_20_dir/PAR_cylinder_pdf_rotate_re_20_dir.lata\", \"Contour\",\"VORTICITE_Z_ELEM_dom\")\n",
    "optionsContour(a, 15)\n",
    "a.plot()"
   ]
  },
  {
   "cell_type": "markdown",
   "id": "24810c4a",
   "metadata": {},
   "source": [
    "### Flow around a rotating circular cylinder at Reynolds = 20 with multi-directional interpolation\n",
    "\n",
    "Reynolds = 20, multi-directional interpolation."
   ]
  },
  {
   "cell_type": "code",
   "execution_count": null,
   "id": "aed8dde1",
   "metadata": {},
   "outputs": [],
   "source": [
    "a = visit.Show(\"cylinder_pdf_rotate_re_20_multi_dir/PAR_cylinder_pdf_rotate_re_20_multi_dir.lata\", \"Pseudocolor\",\"PRESSION_ELEM_dom\")\n",
    "a.addField(\"cylinder_pdf_rotate_re_20_multi_dir/PAR_cylinder_pdf_rotate_re_20_multi_dir.lata\",\"Vector\",\"VITESSE_SOM_dom\")\n",
    "optionsVField(a)\n",
    "a.plot()"
   ]
  },
  {
   "cell_type": "markdown",
   "id": "01aeb033",
   "metadata": {},
   "source": [
    "### Pressure contour with multi-directional interpolation\n",
    "\n",
    "Reynolds = 20, multi-directional interpolation."
   ]
  },
  {
   "cell_type": "code",
   "execution_count": null,
   "id": "43ef5f6d",
   "metadata": {},
   "outputs": [],
   "source": [
    "a = visit.Show(\"cylinder_pdf_rotate_re_20_multi_dir/PAR_cylinder_pdf_rotate_re_20_multi_dir.lata\", \"Contour\",\"PRESSION_ELEM_dom\")\n",
    "optionsContour(a, 10)\n",
    "a.plot()"
   ]
  },
  {
   "cell_type": "markdown",
   "id": "487a69b5",
   "metadata": {},
   "source": [
    "### Vorticity contour with multi-directional interpolation\n",
    "\n",
    "Reynolds = 20, multi-directional interpolation."
   ]
  },
  {
   "cell_type": "code",
   "execution_count": null,
   "id": "ae7e36a2",
   "metadata": {},
   "outputs": [],
   "source": [
    "a = visit.Show(\"cylinder_pdf_rotate_re_20_multi_dir/PAR_cylinder_pdf_rotate_re_20_multi_dir.lata\", \"Contour\",\"VORTICITE_Z_ELEM_dom\")\n",
    "optionsContour(a, 15)\n",
    "a.plot()"
   ]
  },
  {
   "cell_type": "markdown",
   "id": "2f908f41",
   "metadata": {},
   "source": [
    "### Flow around a rotating circular cylinder at Reynolds = 20 with hybrid interpolation\n",
    "\n",
    "Reynolds = 20, hybrid interpolation."
   ]
  },
  {
   "cell_type": "code",
   "execution_count": null,
   "id": "cb982211",
   "metadata": {},
   "outputs": [],
   "source": [
    "a = visit.Show(\"cylinder_pdf_rotate_re_20_hybrid/PAR_cylinder_pdf_rotate_re_20_hybrid.lata\", \"Pseudocolor\",\"PRESSION_ELEM_dom\")\n",
    "a.addField(\"cylinder_pdf_rotate_re_20_hybrid/PAR_cylinder_pdf_rotate_re_20_hybrid.lata\",\"Vector\",\"VITESSE_SOM_dom\")\n",
    "optionsVField(a)\n",
    "a.plot()"
   ]
  },
  {
   "cell_type": "markdown",
   "id": "d2a708e8",
   "metadata": {},
   "source": [
    "### Pressure contour with hybrid interpolation\n",
    "\n",
    "Reynolds = 20, hybrid interpolation."
   ]
  },
  {
   "cell_type": "code",
   "execution_count": null,
   "id": "eff16217",
   "metadata": {},
   "outputs": [],
   "source": [
    "a = visit.Show(\"cylinder_pdf_rotate_re_20_hybrid/PAR_cylinder_pdf_rotate_re_20_hybrid.lata\", \"Contour\",\"PRESSION_ELEM_dom\")\n",
    "optionsContour(a, 10)\n",
    "a.plot()"
   ]
  },
  {
   "cell_type": "markdown",
   "id": "1327bdcd",
   "metadata": {},
   "source": [
    "### Vorticity contour with hybrid interpolation\n",
    "\n",
    "Reynolds = 20, hybrid interpolation."
   ]
  },
  {
   "cell_type": "code",
   "execution_count": null,
   "id": "a7654bd6",
   "metadata": {},
   "outputs": [],
   "source": [
    "a = visit.Show(\"cylinder_pdf_rotate_re_20_hybrid/PAR_cylinder_pdf_rotate_re_20_hybrid.lata\", \"Contour\",\"VORTICITE_Z_ELEM_dom\")\n",
    "optionsContour(a, 15)\n",
    "a.plot()"
   ]
  },
  {
   "cell_type": "markdown",
   "id": "886b3779",
   "metadata": {},
   "source": [
    "## Unsteady flow around a static circular cylinder"
   ]
  },
  {
   "cell_type": "markdown",
   "id": "5605e3c7",
   "metadata": {},
   "source": [
    "### Flow around a static circular cylinder at Reynolds = 100 with directional interpolation\n",
    "\n",
    "Reynolds = 100, directional interpolation."
   ]
  },
  {
   "cell_type": "code",
   "execution_count": null,
   "id": "c59bbd02",
   "metadata": {},
   "outputs": [],
   "source": [
    "a = visit.Show(\"cylinder_pdf_static_re_100_dir/PAR_cylinder_pdf_static_re_100_dir.lata\", \"Pseudocolor\",\"PRESSION_ELEM_dom\")\n",
    "a.addField(\"cylinder_pdf_static_re_100_dir/PAR_cylinder_pdf_static_re_100_dir.lata\",\"Vector\",\"VITESSE_SOM_dom\")\n",
    "optionsVField(a)\n",
    "a.plot()"
   ]
  },
  {
   "cell_type": "markdown",
   "id": "8914f5ea",
   "metadata": {},
   "source": [
    "### Pressure contour with directional interpolation\n",
    "\n",
    "Reynolds = 100, directional interpolation."
   ]
  },
  {
   "cell_type": "code",
   "execution_count": null,
   "id": "f083afaa",
   "metadata": {},
   "outputs": [],
   "source": [
    "a = visit.Show(\"cylinder_pdf_static_re_100_dir/PAR_cylinder_pdf_static_re_100_dir.lata\", \"Contour\",\"PRESSION_ELEM_dom\")\n",
    "optionsContour(a, 10)\n",
    "a.plot()"
   ]
  },
  {
   "cell_type": "markdown",
   "id": "6d77b651",
   "metadata": {},
   "source": [
    "### Vorticity contour with directional interpolation\n",
    "\n",
    "Reynolds = 100, directional interpolation."
   ]
  },
  {
   "cell_type": "code",
   "execution_count": null,
   "id": "7eb4d188",
   "metadata": {},
   "outputs": [],
   "source": [
    "a = visit.Show(\"cylinder_pdf_static_re_100_dir/PAR_cylinder_pdf_static_re_100_dir.lata\", \"Contour\",\"VORTICITE_Z_ELEM_dom\")\n",
    "optionsContour(a, 15)\n",
    "a.plot()"
   ]
  },
  {
   "cell_type": "markdown",
   "id": "b1f601bc",
   "metadata": {},
   "source": [
    "### Flow around a static circular cylinder at Reynolds = 100 with multi-directional interpolation\n",
    "\n",
    "Reynolds = 100, multi-directional interpolation."
   ]
  },
  {
   "cell_type": "code",
   "execution_count": null,
   "id": "f0defb28",
   "metadata": {},
   "outputs": [],
   "source": [
    "a = visit.Show(\"cylinder_pdf_static_re_100_multi_dir/PAR_cylinder_pdf_static_re_100_multi_dir.lata\", \"Pseudocolor\",\"PRESSION_ELEM_dom\")\n",
    "a.addField(\"cylinder_pdf_static_re_100_multi_dir/PAR_cylinder_pdf_static_re_100_multi_dir.lata\",\"Vector\",\"VITESSE_SOM_dom\")\n",
    "optionsVField(a)\n",
    "a.plot()"
   ]
  },
  {
   "cell_type": "markdown",
   "id": "95e4b6a5",
   "metadata": {},
   "source": [
    "### Pressure contour with multi-directional interpolation\n",
    "\n",
    "Reynolds = 100, multi-directional interpolation."
   ]
  },
  {
   "cell_type": "code",
   "execution_count": null,
   "id": "43cfa383",
   "metadata": {},
   "outputs": [],
   "source": [
    "a = visit.Show(\"cylinder_pdf_static_re_100_multi_dir/PAR_cylinder_pdf_static_re_100_multi_dir.lata\", \"Contour\",\"PRESSION_ELEM_dom\")\n",
    "optionsContour(a, 10)\n",
    "a.plot()"
   ]
  },
  {
   "cell_type": "markdown",
   "id": "506ccd91",
   "metadata": {},
   "source": [
    "### Vorticity contour with multi-directional interpolation\n",
    "\n",
    "Reynolds = 100, multi-directional interpolation."
   ]
  },
  {
   "cell_type": "code",
   "execution_count": null,
   "id": "4a0e6369",
   "metadata": {},
   "outputs": [],
   "source": [
    "a = visit.Show(\"cylinder_pdf_static_re_100_multi_dir/PAR_cylinder_pdf_static_re_100_multi_dir.lata\", \"Contour\",\"VORTICITE_Z_ELEM_dom\")\n",
    "optionsContour(a, 15)\n",
    "a.plot()"
   ]
  },
  {
   "cell_type": "markdown",
   "id": "8d2b03ad",
   "metadata": {},
   "source": [
    "### Flow around a static circular cylinder at Reynolds = 100 with hybrid interpolation\n",
    "\n",
    "Reynolds = 100, hybrid interpolation."
   ]
  },
  {
   "cell_type": "code",
   "execution_count": null,
   "id": "9b0907dc",
   "metadata": {},
   "outputs": [],
   "source": [
    "a = visit.Show(\"cylinder_pdf_static_re_100_hybrid/PAR_cylinder_pdf_static_re_100_hybrid.lata\", \"Pseudocolor\",\"PRESSION_ELEM_dom\")\n",
    "a.addField(\"cylinder_pdf_static_re_100_hybrid/PAR_cylinder_pdf_static_re_100_hybrid.lata\",\"Vector\",\"VITESSE_SOM_dom\")\n",
    "optionsVField(a)\n",
    "a.plot()"
   ]
  },
  {
   "cell_type": "markdown",
   "id": "9fed9b39",
   "metadata": {},
   "source": [
    "### Pressure contour with hybrid interpolation\n",
    "\n",
    "Reynolds = 20, hybrid interpolation."
   ]
  },
  {
   "cell_type": "code",
   "execution_count": null,
   "id": "5760867d",
   "metadata": {},
   "outputs": [],
   "source": [
    "a = visit.Show(\"cylinder_pdf_static_re_100_hybrid/PAR_cylinder_pdf_static_re_100_hybrid.lata\", \"Contour\",\"PRESSION_ELEM_dom\")\n",
    "optionsContour(a, 10)\n",
    "a.plot()"
   ]
  },
  {
   "cell_type": "markdown",
   "id": "176c3527",
   "metadata": {},
   "source": [
    "### Vorticity contour with hybrid interpolation\n",
    "\n",
    "Reynolds = 100, hybrid interpolation."
   ]
  },
  {
   "cell_type": "code",
   "execution_count": null,
   "id": "84c37c0f",
   "metadata": {},
   "outputs": [],
   "source": [
    "a = visit.Show(\"cylinder_pdf_static_re_100_hybrid/PAR_cylinder_pdf_static_re_100_hybrid.lata\", \"Contour\",\"VORTICITE_Z_ELEM_dom\")\n",
    "optionsContour(a, 15)\n",
    "a.plot()"
   ]
  },
  {
   "cell_type": "markdown",
   "id": "1db0a4d1",
   "metadata": {},
   "source": [
    "## Steady flow around a rotating circular cylinder"
   ]
  },
  {
   "cell_type": "markdown",
   "id": "7e159cf7",
   "metadata": {},
   "source": [
    "### Flow around a rotating circular cylinder at Reynolds = 100 with directional interpolation\n",
    "\n",
    "Reynolds = 100, directional interpolation."
   ]
  },
  {
   "cell_type": "code",
   "execution_count": null,
   "id": "db51c980",
   "metadata": {},
   "outputs": [],
   "source": [
    "a = visit.Show(\"cylinder_pdf_rotate_re_100_dir/PAR_cylinder_pdf_rotate_re_100_dir.lata\", \"Pseudocolor\",\"PRESSION_ELEM_dom\")\n",
    "a.addField(\"cylinder_pdf_rotate_re_100_dir/PAR_cylinder_pdf_rotate_re_100_dir.lata\",\"Vector\",\"VITESSE_SOM_dom\")\n",
    "optionsVField(a)\n",
    "a.plot()"
   ]
  },
  {
   "cell_type": "markdown",
   "id": "410a8d19",
   "metadata": {},
   "source": [
    "### Pressure contour with directional interpolation\n",
    "\n",
    "Reynolds = 100, directional interpolation."
   ]
  },
  {
   "cell_type": "code",
   "execution_count": null,
   "id": "a0ce45f9",
   "metadata": {},
   "outputs": [],
   "source": [
    "a = visit.Show(\"cylinder_pdf_rotate_re_100_dir/PAR_cylinder_pdf_rotate_re_100_dir.lata\", \"Contour\",\"PRESSION_ELEM_dom\")\n",
    "optionsContour(a, 10)\n",
    "a.plot()"
   ]
  },
  {
   "cell_type": "markdown",
   "id": "bd6ed54c",
   "metadata": {},
   "source": [
    "### Vorticity contour with directional interpolation\n",
    "\n",
    "Reynolds = 100, directional interpolation."
   ]
  },
  {
   "cell_type": "code",
   "execution_count": null,
   "id": "4a85b65a",
   "metadata": {},
   "outputs": [],
   "source": [
    "a = visit.Show(\"cylinder_pdf_rotate_re_100_dir/PAR_cylinder_pdf_rotate_re_100_dir.lata\", \"Contour\",\"VORTICITE_Z_ELEM_dom\")\n",
    "optionsContour(a, 15)\n",
    "a.plot()"
   ]
  },
  {
   "cell_type": "markdown",
   "id": "ee5b14aa",
   "metadata": {},
   "source": [
    "### Flow around a rotating circular cylinder at Reynolds = 100 with multi-directional interpolation\n",
    "\n",
    "Reynolds = 100, multi-directional interpolation."
   ]
  },
  {
   "cell_type": "code",
   "execution_count": null,
   "id": "b9fd15a3",
   "metadata": {},
   "outputs": [],
   "source": [
    "a = visit.Show(\"cylinder_pdf_rotate_re_100_multi_dir/PAR_cylinder_pdf_rotate_re_100_multi_dir.lata\", \"Pseudocolor\",\"PRESSION_ELEM_dom\")\n",
    "a.addField(\"cylinder_pdf_rotate_re_100_multi_dir/PAR_cylinder_pdf_rotate_re_100_multi_dir.lata\",\"Vector\",\"VITESSE_SOM_dom\")\n",
    "optionsVField(a)\n",
    "a.plot()"
   ]
  },
  {
   "cell_type": "markdown",
   "id": "1a2b6380",
   "metadata": {},
   "source": [
    "### Pressure contour with multi-directional interpolation\n",
    "\n",
    "Reynolds = 100, multi-directional interpolation."
   ]
  },
  {
   "cell_type": "code",
   "execution_count": null,
   "id": "7c40458c",
   "metadata": {},
   "outputs": [],
   "source": [
    "a = visit.Show(\"cylinder_pdf_rotate_re_100_multi_dir/PAR_cylinder_pdf_rotate_re_100_multi_dir.lata\", \"Contour\",\"PRESSION_ELEM_dom\")\n",
    "optionsContour(a, 10)\n",
    "a.plot()"
   ]
  },
  {
   "cell_type": "markdown",
   "id": "593ad602",
   "metadata": {},
   "source": [
    "### Vorticity contour with multi-directional interpolation\n",
    "\n",
    "Reynolds = 100, multi-directional interpolation."
   ]
  },
  {
   "cell_type": "code",
   "execution_count": null,
   "id": "52afab32",
   "metadata": {},
   "outputs": [],
   "source": [
    "a = visit.Show(\"cylinder_pdf_rotate_re_100_multi_dir/PAR_cylinder_pdf_rotate_re_100_multi_dir.lata\", \"Contour\",\"VORTICITE_Z_ELEM_dom\")\n",
    "optionsContour(a, 15)\n",
    "a.plot()"
   ]
  },
  {
   "cell_type": "markdown",
   "id": "d8c7fe9e",
   "metadata": {},
   "source": [
    "### Flow around a rotating circular cylinder at Reynolds = 100 with hybrid interpolation\n",
    "\n",
    "Reynolds = 100, hybrid interpolation."
   ]
  },
  {
   "cell_type": "code",
   "execution_count": null,
   "id": "866eb05d",
   "metadata": {},
   "outputs": [],
   "source": [
    "a = visit.Show(\"cylinder_pdf_rotate_re_100_hybrid/PAR_cylinder_pdf_rotate_re_100_hybrid.lata\", \"Pseudocolor\",\"PRESSION_ELEM_dom\")\n",
    "a.addField(\"cylinder_pdf_rotate_re_100_hybrid/PAR_cylinder_pdf_rotate_re_100_hybrid.lata\",\"Vector\",\"VITESSE_SOM_dom\")\n",
    "optionsVField(a)\n",
    "a.plot()"
   ]
  },
  {
   "cell_type": "markdown",
   "id": "87a6c9ee",
   "metadata": {},
   "source": [
    "### Pressure contour with hybrid interpolation\n",
    "\n",
    "Reynolds = 100, hybrid interpolation."
   ]
  },
  {
   "cell_type": "code",
   "execution_count": null,
   "id": "5002d61d",
   "metadata": {},
   "outputs": [],
   "source": [
    "a = visit.Show(\"cylinder_pdf_rotate_re_100_hybrid/PAR_cylinder_pdf_rotate_re_100_hybrid.lata\", \"Contour\",\"PRESSION_ELEM_dom\")\n",
    "optionsContour(a, 10)\n",
    "a.plot()"
   ]
  },
  {
   "cell_type": "markdown",
   "id": "a909f214",
   "metadata": {},
   "source": [
    "### Vorticity contour with hybrid interpolation\n",
    "\n",
    "Reynolds = 100, hybrid interpolation."
   ]
  },
  {
   "cell_type": "code",
   "execution_count": null,
   "id": "2baa53d9",
   "metadata": {},
   "outputs": [],
   "source": [
    "a = visit.Show(\"cylinder_pdf_rotate_re_100_hybrid/PAR_cylinder_pdf_rotate_re_100_hybrid.lata\", \"Contour\",\"VORTICITE_Z_ELEM_dom\")\n",
    "optionsContour(a, 15)\n",
    "a.plot()"
   ]
  }
 ],
 "metadata": {
  "kernelspec": {
   "display_name": "Python 3 (ipykernel)",
   "language": "python",
   "name": "python3"
  },
  "language_info": {
   "codemirror_mode": {
    "name": "ipython",
    "version": 3
   },
   "file_extension": ".py",
   "mimetype": "text/x-python",
   "name": "python",
   "nbconvert_exporter": "python",
   "pygments_lexer": "ipython3",
   "version": "3.12.5"
  }
 },
 "nbformat": 4,
 "nbformat_minor": 5
}
