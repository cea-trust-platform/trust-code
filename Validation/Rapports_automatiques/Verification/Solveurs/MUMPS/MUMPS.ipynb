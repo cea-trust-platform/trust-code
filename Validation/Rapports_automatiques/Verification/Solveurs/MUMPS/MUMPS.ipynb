{
 "cells": [
  {
   "cell_type": "markdown",
   "id": "gross-patent",
   "metadata": {},
   "source": [
    "# MUMPS"
   ]
  },
  {
   "cell_type": "markdown",
   "id": "perfect-entrepreneur",
   "metadata": {},
   "source": [
    "### Description \n",
    "Test of BLR option of MUMPS solver. Syntax in the data file is:\n",
    "\n",
    "petsc cholesky_mumps_blr { dropping_parameter eps }\n",
    "\n",
    "The test case is run parallel with TRUST on 2 cores. The size of the pressure linear system is ~280 000 rows.\n",
    "\n",
    "NB: It will fully run with TRUST 1.9.1 version (a fix has been added recently for eps<1.e-6).\n"
   ]
  },
  {
   "cell_type": "code",
   "execution_count": null,
   "id": "53528cf8",
   "metadata": {},
   "outputs": [],
   "source": [
    "from trustutils import run\n",
    "run.TRUST_parameters()\n",
    "run.introduction('Pierre LEDAC')\n",
    "cases=[(\"mumps\",\"MUMPS BLR disabled\"),\n",
    "       (\"mumps_blr_12\",\"MUMPS BLR enabled (eps=1.e-12)\"),\n",
    "       (\"mumps_blr_8\",\"MUMPS BLR enabled (eps=1.e-8)\"),\n",
    "       (\"mumps_blr_4\",\"MUMPS BLR enabled (eps=1.e-4)\")\n",
    "      ]\n",
    "mesh=\"10x10x10\"\n",
    "for case,label in cases:\n",
    "    run.addCase(mesh ,\"%s.data\" % case, 2)\n",
    "run.printCases()"
   ]
  },
  {
   "cell_type": "code",
   "execution_count": null,
   "id": "15189bb2-352d-48f9-85fa-64c4323e0f88",
   "metadata": {},
   "outputs": [],
   "source": [
    "run.runCases()"
   ]
  },
  {
   "cell_type": "markdown",
   "id": "818473e8",
   "metadata": {},
   "source": [
    "# Mass balance with different solvers"
   ]
  },
  {
   "cell_type": "code",
   "execution_count": null,
   "id": "60506cb2",
   "metadata": {},
   "outputs": [],
   "source": [
    "from trustutils import plot\n",
    "a = plot.Graph(\"Relative mass error\",\"\",1,1,[10,5])\n",
    "for case,label in cases:\n",
    "    cols = plot.loadText(mesh+\"/%s_pb_Debit.out\" % case)\n",
    "    a.add(cols[0],abs(cols[5]/cols[1]),label=\"%s\" % label)\n",
    "a.label(\"Time [s]\",\"Relative mass error\")\n",
    "a.scale(yscale='log')"
   ]
  },
  {
   "cell_type": "markdown",
   "id": "7936faa8",
   "metadata": {},
   "source": [
    "The precision of the solve is reduced with BLR enabled. The relative mass error is linear with the BLR dropping parameter."
   ]
  },
  {
   "cell_type": "markdown",
   "id": "dd2c19e6",
   "metadata": {},
   "source": [
    "# Memory used for different solvers"
   ]
  },
  {
   "cell_type": "code",
   "execution_count": null,
   "id": "9d6096bd",
   "metadata": {
    "scrolled": true
   },
   "outputs": [],
   "source": [
    "a = plot.Graph(\"Maximal RAM per proc used during calculation:\",\"\",1,1,[10,5])\n",
    "for case,label in cases:\n",
    "    cols = plot.loadText(mesh+\"/%s.ram\" % case)\n",
    "    a.add(cols[0],cols[1],label=\"%s\" % label)\n",
    "a.label(\"Time step\",\"RAM [MB]\")\n",
    "a.subplot.set_xticks(range(1,4))"
   ]
  },
  {
   "cell_type": "markdown",
   "id": "fa45b1e5",
   "metadata": {},
   "source": [
    "# CPU time evolution for different solvers"
   ]
  },
  {
   "cell_type": "code",
   "execution_count": null,
   "id": "c6ad72e3",
   "metadata": {},
   "outputs": [],
   "source": [
    "a = plot.Graph(\"CPU time of pressure solve during calculation:\",\"\",1,1,[10,5])\n",
    "for case,label in cases:\n",
    "    cols = plot.loadText(mesh+\"/%s.cpu\" % case)\n",
    "    a.add(cols[0],cols[1],label=\"%s\" % label)\n",
    "a.label(\"Time step\",\"CPU [s]\")\n",
    "a.scale(yscale='log')\n",
    "a.subplot.set_ylim([0.1,10])\n",
    "a.subplot.set_xticks(range(1,6))"
   ]
  },
  {
   "cell_type": "markdown",
   "id": "a0813029",
   "metadata": {},
   "source": [
    "BLR option reduce time computation during factorization (here first time step) and successive solves."
   ]
  },
  {
   "cell_type": "markdown",
   "id": "db57dabc",
   "metadata": {},
   "source": [
    "# Conclusions\n",
    "\n",
    "Enabling BLR option of MUMPS solver is an effective way to reduce memory footprint and time computation. Parameters (e.g. dropping parameter) should be selected with care to maximize gains."
   ]
  },
  {
   "cell_type": "markdown",
   "id": "e8e31da8",
   "metadata": {},
   "source": [
    "### Computer performance:"
   ]
  },
  {
   "cell_type": "code",
   "execution_count": null,
   "id": "5505bee8",
   "metadata": {},
   "outputs": [],
   "source": [
    "run.tablePerf()"
   ]
  }
 ],
 "metadata": {
  "kernelspec": {
   "display_name": "Python 3 (ipykernel)",
   "language": "python",
   "name": "python3"
  },
  "language_info": {
   "codemirror_mode": {
    "name": "ipython",
    "version": 3
   },
   "file_extension": ".py",
   "mimetype": "text/x-python",
   "name": "python",
   "nbconvert_exporter": "python",
   "pygments_lexer": "ipython3",
   "version": "3.7.16"
  }
 },
 "nbformat": 4,
 "nbformat_minor": 5
}
