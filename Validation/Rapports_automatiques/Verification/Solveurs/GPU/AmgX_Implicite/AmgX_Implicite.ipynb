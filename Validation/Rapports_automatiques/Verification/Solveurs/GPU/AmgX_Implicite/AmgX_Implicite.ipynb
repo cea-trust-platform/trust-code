{
 "cells": [
  {
   "cell_type": "markdown",
   "id": "gross-patent",
   "metadata": {},
   "source": [
    "# AmgX_Implicite"
   ]
  },
  {
   "cell_type": "markdown",
   "id": "perfect-entrepreneur",
   "metadata": {},
   "source": [
    "### Description \n",
    "Convergence of Euler implicit scheme (facsec=1000) with different GPU solvers from AmgX library\n"
   ]
  },
  {
   "cell_type": "code",
   "execution_count": null,
   "id": "53528cf8",
   "metadata": {},
   "outputs": [],
   "source": [
    "from trustutils import run  \n",
    "run.TRUST_parameters()\n",
    "run.introduction('Pierre LEDAC')\n",
    "cases=[(\"amgx_fgmres_gs\",\"AmgX FGMRES/GS\"),(\"amgx_bicgstab_gs\",\"AmgX BICGStab/GS\"),(\"amgx_gc_gs\",\"AmgX CG/GS\"),(\"amgx_fgmres_c-amg\",\"AmgX FGMRES/C-AMG\")]\n",
    "mesh=\"10x10x10\"\n",
    "for case,label in cases:\n",
    "    run.addCase(mesh ,\"%s.data\" % case, 2)\n",
    "run.printCases()"
   ]
  },
  {
   "cell_type": "code",
   "execution_count": null,
   "id": "15189bb2-352d-48f9-85fa-64c4323e0f88",
   "metadata": {},
   "outputs": [],
   "source": [
    "run.runCases()"
   ]
  },
  {
   "cell_type": "markdown",
   "id": "c417736c",
   "metadata": {},
   "source": [
    "# Solver convergence with different solvers on mesh 40x10x10x10"
   ]
  },
  {
   "cell_type": "code",
   "execution_count": null,
   "id": "533d18d7",
   "metadata": {
    "scrolled": true
   },
   "outputs": [],
   "source": [
    "c=[]\n",
    "c.append(tuple(\"a\",\"b\"))\n",
    "c.append(tuple(\"c\",\"d\"))\n",
    "print(c)\n",
    "from trustutils import plot\n",
    "    \n",
    "a = plot.Graph(\"Relative residual ||Ax(it)-b||/||Ax(0)-b|| during the fist time step:\",\"\",1,1,[10,5])\n",
    "\n",
    "for case,label in cases:\n",
    "    cols = plot.loadText(mesh+\"/%s.res\" % case)\n",
    "    a.add(cols[0],cols[1],label=\"%s\" % label)\n",
    "\n",
    "a.label(\"Iteration\",\"Residual\")\n",
    "a.subplot.set_yscale('log')"
   ]
  },
  {
   "cell_type": "markdown",
   "id": "3a266a06",
   "metadata": {},
   "source": [
    "# Time convergence with different solvers on mesh 40x10x10x10"
   ]
  },
  {
   "cell_type": "code",
   "execution_count": null,
   "id": "8c692fdd",
   "metadata": {},
   "outputs": [],
   "source": [
    "a = plot.Graph(\"Relative residual ||dI(n)/dt||/||dI(0)/dt|| up to convergence:\",\"\",1,1,[10,5])\n",
    "\n",
    "for case,label in cases:\n",
    "    cols = plot.loadText(mesh+\"/%s.dt_ev\" % case)\n",
    "    a.add(cols[0],cols[3],label=\"%s\" % label)\n",
    "\n",
    "a.label(\"Time [s]\",\"Residual\")\n",
    "a.subplot.set_yscale('log')"
   ]
  },
  {
   "cell_type": "markdown",
   "id": "63e122ae",
   "metadata": {},
   "source": [
    "***The time convergence are identical for all GPU solvers compared to PETSc CPU versions.***"
   ]
  },
  {
   "cell_type": "markdown",
   "id": "818473e8",
   "metadata": {},
   "source": [
    "# Friction drag with different solvers on mesh 40x10x10x10"
   ]
  },
  {
   "cell_type": "code",
   "execution_count": null,
   "id": "60506cb2",
   "metadata": {},
   "outputs": [],
   "source": [
    "a = plot.Graph(\"Fx(Wall) up to convergence:\",\"\",1,1,[10,5])\n",
    "for case,label in cases:\n",
    "    cols = plot.loadText(mesh+\"/%s_pb_Contrainte_visqueuse.out\" % case)\n",
    "    a.add(cols[0],cols[4],label=\"%s\" % label)\n",
    "a.label(\"Time [s]\",\"Drag [N]\")"
   ]
  },
  {
   "cell_type": "markdown",
   "id": "dd2c19e6",
   "metadata": {},
   "source": [
    "# RAM evolution for different solvers on mesh 40x10x10x10"
   ]
  },
  {
   "cell_type": "code",
   "execution_count": null,
   "id": "9d6096bd",
   "metadata": {
    "scrolled": true
   },
   "outputs": [],
   "source": [
    "a = plot.Graph(\"RAM used during calculation:\",\"\",1,1,[10,5])\n",
    "for case,label in cases:\n",
    "    cols = plot.loadText(mesh+\"/%s.ram\" % case)\n",
    "    a.add(cols[0],cols[1],label=\"%s\" % label)\n",
    "a.label(\"Time [s]\",\"RAM [MB]\")"
   ]
  },
  {
   "cell_type": "markdown",
   "id": "d27efb55",
   "metadata": {},
   "source": [
    "## Time needed to copy and solve the linear system on GPU (during the last time step)"
   ]
  },
  {
   "cell_type": "code",
   "execution_count": null,
   "id": "f5945ca5",
   "metadata": {},
   "outputs": [],
   "source": [
    "headers=[\"Copy[s]\",\"Solve[s]\",\"Total[s]\"]\n",
    "a = plot.Table(headers)\n",
    "for case,label in cases:\n",
    "    a.load(mesh+\"/%s.cpu\" % case,\"%s\" % label)\n",
    "\n",
    "a.print()"
   ]
  },
  {
   "cell_type": "markdown",
   "id": "db57dabc",
   "metadata": {},
   "source": [
    "# Conclusions\n",
    "\n",
    "Solvers on GPU are validated and GC (or FGMRES) and GS are the optimal choice to use for a diffusive-implicited scheme. Warning: performance of GPU solvers indicated here are not relevant on this small test case and/or on a entry-level NVidia card (with minimal double precision support)."
   ]
  },
  {
   "cell_type": "markdown",
   "id": "e8e31da8",
   "metadata": {},
   "source": [
    "### Computer performance:"
   ]
  },
  {
   "cell_type": "code",
   "execution_count": null,
   "id": "5505bee8",
   "metadata": {},
   "outputs": [],
   "source": [
    "run.tablePerf()"
   ]
  }
 ],
 "metadata": {
  "kernelspec": {
   "display_name": "Python 3 (ipykernel)",
   "language": "python",
   "name": "python3"
  },
  "language_info": {
   "codemirror_mode": {
    "name": "ipython",
    "version": 3
   },
   "file_extension": ".py",
   "mimetype": "text/x-python",
   "name": "python",
   "nbconvert_exporter": "python",
   "pygments_lexer": "ipython3",
   "version": "3.12.5"
  }
 },
 "nbformat": 4,
 "nbformat_minor": 5
}
