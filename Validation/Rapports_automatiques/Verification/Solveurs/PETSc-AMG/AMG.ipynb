{
 "cells": [
  {
   "cell_type": "markdown",
   "id": "inappropriate-lingerie",
   "metadata": {},
   "source": [
    "# Algebric Multigrid Tests"
   ]
  },
  {
   "cell_type": "code",
   "execution_count": null,
   "id": "4f70ebda",
   "metadata": {},
   "outputs": [],
   "source": [
    "from trustutils import run\n",
    "\n",
    "run.introduction(\"Pierre Ledac\")\n",
    "\n",
    "run.TRUST_parameters(\"1.9.4\")"
   ]
  },
  {
   "cell_type": "markdown",
   "id": "c1c1bf6d",
   "metadata": {},
   "source": [
    "### Description: \n",
    "\n",
    "Tests of precondition method after PETSc upgrade to 3.20. There is enough time-steps to amortize the setup of multigrid methods."
   ]
  },
  {
   "cell_type": "code",
   "execution_count": null,
   "id": "7483ee8e",
   "metadata": {},
   "outputs": [],
   "source": []
  },
  {
   "cell_type": "code",
   "execution_count": null,
   "id": "687d21fd-6887-4818-a9f4-ed42aa1dae65",
   "metadata": {},
   "outputs": [],
   "source": [
    "from trustutils import run \n",
    "import os\n",
    "c1 = run.addCase(\".\",\"petsc_gcp_ssor.data\",nbProcs=4)\n",
    "c2 = run.addCase(\".\",\"petsc_gcp_c-amg.data\",nbProcs=4) \n",
    "c3 = run.addCase(\".\",\"petsc_gcp_ua-amg.data\",nbProcs=4) \n",
    "c4 = run.addCase(\".\",\"petsc_gcp_sa-amg.data\",nbProcs=4) \n",
    "c5 = run.addCase(\".\",\"petsc_gcp_boomeramg.data\",nbProcs=4) \n",
    "run.printCases()\n",
    "run.runCases()"
   ]
  },
  {
   "cell_type": "markdown",
   "id": "growing-hundred",
   "metadata": {},
   "source": [
    "## Geometry\n",
    "\n",
    "### Partitioned mesh (4 MPI)"
   ]
  },
  {
   "cell_type": "code",
   "execution_count": null,
   "id": "de6f9473-acdd-47c6-a8de-477bfc52a36a",
   "metadata": {},
   "outputs": [],
   "source": [
    "from trustutils import visit\n",
    "\n",
    "fig = visit.Show(\"./mesh.lata\",\"Pseudocolor\",\"PARTITION_ELEM_interass\")\n",
    "fig.normal3D([-0.75, -0.38, 0.53])\n",
    "fig.up3D([-0.25,-0.57,-0.77])\n",
    "\n",
    "fig.plot()"
   ]
  },
  {
   "cell_type": "markdown",
   "id": "1e22bfee-1a08-42b6-b05f-65558908559c",
   "metadata": {},
   "source": [
    "## Solver convergence with different preconditionner\n",
    "\n",
    "### Residuals"
   ]
  },
  {
   "cell_type": "code",
   "execution_count": null,
   "id": "227ea8c5-9474-4499-b778-d6c43f328482",
   "metadata": {},
   "outputs": [],
   "source": [
    "from trustutils import plot \n",
    "import numpy as np\n",
    "import matplotlib.pyplot as plt \n",
    "\n",
    "a=plot.Graph(\"Residuals\",size=[15,8])\n",
    "\n",
    "x=plot.loadText(\"./petsc_gcp_ssor.res\")\n",
    "a.add(x[0],x[1],marker=\"-|\",color=\"r\",label=\"ssor\")\n",
    "\n",
    "x=plot.loadText(\"./petsc_gcp_c-amg.res\")\n",
    "a.add(x[0],x[1],marker=\"-x\",color=\"g\",label=\"c-amg\")\n",
    "\n",
    "x=plot.loadText(\"./petsc_gcp_ua-amg.res\")\n",
    "a.add(x[0],x[1],marker=\"-*\",color=\"y\",label=\"ua-amg\")\n",
    "\n",
    "x=plot.loadText(\"./petsc_gcp_sa-amg.res\")\n",
    "a.add(x[0],x[1],marker=\"-*\",color=\"b\",label=\"sa-amg\")\n",
    "\n",
    "x=plot.loadText(\"./petsc_gcp_boomeramg.res\")\n",
    "a.add(x[0],x[1],marker=\"-*\",color=\"black\",label=\"boomeramg\")\n",
    "\n",
    "a.label(\"Iteration\",\"Residual\")\n",
    "a.scale(yscale=\"log\")"
   ]
  },
  {
   "cell_type": "markdown",
   "id": "a6d24a89",
   "metadata": {},
   "source": [
    "## Computer performance"
   ]
  },
  {
   "cell_type": "code",
   "execution_count": null,
   "id": "11aee151",
   "metadata": {},
   "outputs": [],
   "source": [
    "from trustutils import run\n",
    "run.tablePerf()"
   ]
  }
 ],
 "metadata": {
  "kernelspec": {
   "display_name": "Python 3 (ipykernel)",
   "language": "python",
   "name": "python3"
  },
  "language_info": {
   "codemirror_mode": {
    "name": "ipython",
    "version": 3
   },
   "file_extension": ".py",
   "mimetype": "text/x-python",
   "name": "python",
   "nbconvert_exporter": "python",
   "pygments_lexer": "ipython3",
   "version": "3.12.5"
  }
 },
 "nbformat": 4,
 "nbformat_minor": 5
}
