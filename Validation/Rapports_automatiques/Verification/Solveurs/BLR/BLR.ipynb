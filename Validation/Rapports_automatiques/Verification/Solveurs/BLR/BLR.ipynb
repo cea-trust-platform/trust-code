{
 "cells": [
  {
   "cell_type": "markdown",
   "id": "inappropriate-lingerie",
   "metadata": {},
   "source": [
    "# Preconditioners with low rank compression"
   ]
  },
  {
   "cell_type": "code",
   "execution_count": null,
   "id": "4205c255",
   "metadata": {},
   "outputs": [],
   "source": [
    "from trustutils import run\n",
    "\n",
    "run.introduction(\"Pierre Ledac\")\n",
    "run.TRUST_parameters(\"1.9.4\")"
   ]
  },
  {
   "cell_type": "code",
   "execution_count": null,
   "id": "687d21fd-6887-4818-a9f4-ed42aa1dae65",
   "metadata": {},
   "outputs": [],
   "source": [
    "from trustutils import run \n",
    "import os\n",
    "cases=[(\"strumpack\",\"STRUMPACK CG/LU\",1),(\"PAR_strumpack\",\"STRUMPACK CG/LU\",3),(\"PAR_mumps\",\"MUMPS CG/LU\", 3),(\"PAR_boomeramg\",\"HYPRE CG/BOOMERAMG\",3)]\n",
    "for case,label,n in cases:\n",
    "    run.addCase(\".\" ,\"%s.data\" % case, nbProcs=n)\n",
    "run.printCases()\n",
    "run.runCases()"
   ]
  },
  {
   "cell_type": "markdown",
   "id": "growing-hundred",
   "metadata": {},
   "source": [
    "## Geometry\n",
    "\n",
    "### Partitioned mesh"
   ]
  },
  {
   "cell_type": "code",
   "execution_count": null,
   "id": "de6f9473-acdd-47c6-a8de-477bfc52a36a",
   "metadata": {},
   "outputs": [],
   "source": [
    "from trustutils import visit\n",
    "\n",
    "fig = visit.Show(\"./mesh.lata\",\"Pseudocolor\",\"PARTITION_ELEM_interass\")\n",
    "fig.normal3D([-0.75, -0.38, 0.53])\n",
    "fig.up3D([-0.25,-0.57,-0.77])\n",
    "\n",
    "fig.plot()"
   ]
  },
  {
   "cell_type": "markdown",
   "id": "1e22bfee-1a08-42b6-b05f-65558908559c",
   "metadata": {},
   "source": [
    "## Solver convergence with different preconditionner\n",
    "\n",
    "### Residuals"
   ]
  },
  {
   "cell_type": "code",
   "execution_count": null,
   "id": "227ea8c5-9474-4499-b778-d6c43f328482",
   "metadata": {},
   "outputs": [],
   "source": [
    "from trustutils import plot \n",
    "import numpy as np\n",
    "import matplotlib.pyplot as plt \n",
    "\n",
    "a=plot.Graph(\"Residuals\",size=[15,8])\n",
    "for case,label,n in cases:\n",
    "    cols = plot.loadText(\"./%s.res\" % case)\n",
    "    a.add(cols[0],cols[1],label=\"%s\" % label+\" (#\"+str(n)+\" MPI)\" )\n",
    "\n",
    "a.label(\"Iteration\",\"Residual\")\n",
    "a.scale(yscale=\"log\")"
   ]
  },
  {
   "cell_type": "markdown",
   "id": "a6d24a89",
   "metadata": {},
   "source": [
    "## Computer performance"
   ]
  },
  {
   "cell_type": "code",
   "execution_count": null,
   "id": "11aee151",
   "metadata": {},
   "outputs": [],
   "source": [
    "from trustutils import run\n",
    "run.tablePerf()"
   ]
  }
 ],
 "metadata": {
  "kernelspec": {
   "display_name": "Python 3 (ipykernel)",
   "language": "python",
   "name": "python3"
  },
  "language_info": {
   "codemirror_mode": {
    "name": "ipython",
    "version": 3
   },
   "file_extension": ".py",
   "mimetype": "text/x-python",
   "name": "python",
   "nbconvert_exporter": "python",
   "pygments_lexer": "ipython3",
   "version": "3.12.5"
  }
 },
 "nbformat": 4,
 "nbformat_minor": 5
}
