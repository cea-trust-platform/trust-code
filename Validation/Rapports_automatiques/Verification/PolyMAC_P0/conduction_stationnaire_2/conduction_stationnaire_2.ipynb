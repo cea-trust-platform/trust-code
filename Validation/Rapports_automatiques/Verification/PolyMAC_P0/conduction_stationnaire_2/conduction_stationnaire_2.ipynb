{
 "cells": [
  {
   "cell_type": "markdown",
   "id": "inappropriate-lingerie",
   "metadata": {},
   "source": [
    "# Vérification de la conduction thermique stationnaire avec terme source :  terme source linéaire"
   ]
  },
  {
   "cell_type": "code",
   "execution_count": null,
   "id": "9dde3104",
   "metadata": {},
   "outputs": [],
   "source": [
    "from trustutils import run \n",
    "run.introduction(\"D.Jamet, Y.Gorsse\",\"25/05/2021\")\n",
    "\n",
    "run.TRUST_parameters()"
   ]
  },
  {
   "cell_type": "markdown",
   "id": "53194d1b",
   "metadata": {},
   "source": [
    "### Description: \n",
    "\n",
    "On considere un probleme de conduction thermique stationnaire avec un terme source volumique variant linéairement dans la direction 𝑥. On compare la solution obtenue par PolyMAC_P0 à la solution analytique. La température est imposée en entrée et sortie du domaine (cf. jeu de données). On compare le profil de température dans la direction 𝑥 ainsi que le champ de température bidimensionnel. On compare également les flux conductifs sur les parois en entrée et sortie"
   ]
  },
  {
   "cell_type": "code",
   "execution_count": null,
   "id": "079d201b-67de-4f90-8493-a2a38d65de78",
   "metadata": {},
   "outputs": [],
   "source": [
    "from trustutils import run \n",
    "run.addCase(\"cartesian\",\"jdd.data\")\n",
    "run.addCase(\"triangle\",\"jdd.data\")\n",
    "run.addCase(\"non_conformal\",\"jdd.data\")\n",
    "run.printCases()\n",
    "run.runCases()"
   ]
  },
  {
   "cell_type": "markdown",
   "id": "growing-hundred",
   "metadata": {},
   "source": [
    "## Champs de température\n",
    "\n",
    "On compare les champs de température calculé par PolyMAC_P0P1NC et analytique.  Cette comparaison se fait sur un profil en y=cte et sur le champ 2D.\n",
    "\n",
    "### Comparaison des profils calculé et analytique"
   ]
  },
  {
   "cell_type": "code",
   "execution_count": null,
   "id": "f40cb3e7-1663-4687-be50-9463c6c27e02",
   "metadata": {},
   "outputs": [],
   "source": [
    "from trustutils import plot\n",
    "import numpy as np\n",
    "\n",
    "Graphique=plot.Graph(\"Comparaison des profils calcule et analytique\")\n",
    "Graphique.addSegment(\"./cartesian/jdd_TEMPERATURE_X.son\"    ,label=\"cartesian\"    ,color=\"r\",marker=\"-|\")\n",
    "Graphique.addSegment(\"./triangle/jdd_TEMPERATURE_X.son\"     ,label=\"triangle\"     ,color=\"g\",marker=\"-x\")\n",
    "Graphique.addSegment(\"./non_conformal/jdd_TEMPERATURE_X.son\",label=\"non_conformal\",color=\"b\",marker=\"-*\")\n",
    "x=np.linspace(0,2,100)\n",
    "y=-3./(6.*0.25)*x/2.*((x*x-2.*2.))\n",
    "Graphique.add(x,y,label=\"analytique\",color=\"pink\")"
   ]
  },
  {
   "cell_type": "markdown",
   "id": "6f9f320b-3b5a-4f98-82f0-b9badb13272b",
   "metadata": {},
   "source": [
    "### Comparaison des champs 2D calculé et analytique\n",
    "\n",
    "On trace le champ d’écart entre la température calculée et la solution analytique. La solution analytique est représentée par des isovaleurs du champ de température."
   ]
  },
  {
   "cell_type": "code",
   "execution_count": null,
   "id": "2faf4e02-41d2-47aa-8187-7383949aa8f9",
   "metadata": {},
   "outputs": [],
   "source": [
    "from trustutils import visit\n",
    "plot=visit.showField(\"./cartesian/jdd.lata\",\"Contour\",\"TEMPERATURE_ELEM_dom\") "
   ]
  },
  {
   "cell_type": "markdown",
   "id": "9b2477a4-ce61-4a5f-b903-3aeea844adc3",
   "metadata": {},
   "source": [
    "## Flux conductifs aux frontieres du domaine\n",
    "\n",
    "Les flux conductifs calculés par GENEPI en $x= 0$ et $x=L$ sont comparés aux flux théoriques.  L'erreur correspondante est également donnée."
   ]
  },
  {
   "cell_type": "markdown",
   "id": "60192e45-175b-4907-b452-fe3e9c85c53a",
   "metadata": {},
   "source": [
    "### Comparaison théorie/numérique"
   ]
  },
  {
   "cell_type": "code",
   "execution_count": null,
   "id": "66e4b877-5c04-4c25-9e99-8e8dca23115a",
   "metadata": {},
   "outputs": [],
   "source": [
    "from trustutils import plot\n",
    "import numpy as np\n",
    "\n",
    "ref = [-1,-2]\n",
    "\n",
    "Tableau=plot.Table([\"flux  gauche\"  , \"flux droit\"])\n",
    "Tableau.addLine([ref],\"theorie\")\n",
    "\n",
    "data=plot.loadText(\"cartesian/cond_fin.out\")\n",
    "Tableau.addLine([data[1:3]],\"cartesian\")\n",
    "err_cart = list(map(lambda a,b: int((b - a)/b*10000)/100., data[1:3],ref))\n",
    "Tableau.addLine([err_cart],r\"erreur en %\")\n",
    "\n",
    "data=plot.loadText(\"triangle/cond_fin.out\")\n",
    "Tableau.addLine([data[1:3]],\"triangle\")\n",
    "err_cart = list(map(lambda a,b: int((b - a)/b*10000)/100., data[1:3],ref))\n",
    "Tableau.addLine([err_cart],r\"erreur en %\")\n",
    "\n",
    "data=plot.loadText(\"non_conformal/cond_fin.out\")\n",
    "Tableau.addLine([data[1:3]],\"non_conformal\")\n",
    "err_cart = list(map(lambda a,b: int((b - a)/b*10000)/100., data[1:3],ref))\n",
    "Tableau.addLine([err_cart],r\"erreur en $\\%$\")\n",
    "\n",
    "display(Tableau)"
   ]
  },
  {
   "cell_type": "markdown",
   "id": "c545b5d0-47cb-48f9-bda5-1873f92ce808",
   "metadata": {},
   "source": [
    "## Data Files\n",
    "\n",
    "### jdd"
   ]
  },
  {
   "cell_type": "code",
   "execution_count": null,
   "id": "aa14b107-aa05-4471-848d-f06039f93639",
   "metadata": {},
   "outputs": [],
   "source": [
    "run.dumpDataset(\"./cartesian/jdd.data\")"
   ]
  },
  {
   "cell_type": "markdown",
   "id": "f63ec7bb-9159-439d-8b1b-5f779d6131d5",
   "metadata": {},
   "source": [
    "### jdd"
   ]
  },
  {
   "cell_type": "code",
   "execution_count": null,
   "id": "61f2251c-0305-4182-9d7f-01ee214ae1a2",
   "metadata": {},
   "outputs": [],
   "source": [
    "run.dumpDataset(\"./triangle/jdd.data\")"
   ]
  },
  {
   "cell_type": "markdown",
   "id": "720b7773-0fe4-483d-8e2b-81abcbd550ec",
   "metadata": {},
   "source": [
    "### jdd"
   ]
  },
  {
   "cell_type": "code",
   "execution_count": null,
   "id": "0cb198ef-dfbc-48b0-85b5-64db1df7ccb1",
   "metadata": {},
   "outputs": [],
   "source": [
    "run.dumpDataset(\"./non_conformal/jdd.data\")"
   ]
  }
 ],
 "metadata": {
  "kernelspec": {
   "display_name": "Python 3 (ipykernel)",
   "language": "python",
   "name": "python3"
  },
  "language_info": {
   "codemirror_mode": {
    "name": "ipython",
    "version": 3
   },
   "file_extension": ".py",
   "mimetype": "text/x-python",
   "name": "python",
   "nbconvert_exporter": "python",
   "pygments_lexer": "ipython3",
   "version": "3.12.5"
  }
 },
 "nbformat": 4,
 "nbformat_minor": 5
}
