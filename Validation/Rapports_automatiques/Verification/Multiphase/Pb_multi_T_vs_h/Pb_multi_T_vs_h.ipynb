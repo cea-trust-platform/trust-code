{
 "cells": [
  {
   "attachments": {},
   "cell_type": "markdown",
   "id": "boolean-earth",
   "metadata": {},
   "source": [
    "# Pb_Multiphase_Enthalpie"
   ]
  },
  {
   "cell_type": "code",
   "execution_count": null,
   "id": "c50babfc",
   "metadata": {
    "scrolled": true
   },
   "outputs": [],
   "source": [
    "from trustutils import run\n",
    "\n",
    "run.introduction(\"Elie Saikali\")\n",
    "run.TRUST_parameters()"
   ]
  },
  {
   "cell_type": "code",
   "execution_count": null,
   "id": "balanced-boating",
   "metadata": {
    "scrolled": false
   },
   "outputs": [],
   "source": [
    "import pandas as pd\n",
    "import os, sys\n",
    "from string import Template\n",
    "\n",
    "run.reset()\n",
    "\n",
    "run.initBuildDirectory()\n",
    "cases = [(\"jdd_f5\", \"o\"), (\"jdd_pb_multi_h\", \"x\"), (\"jdd_pb_multi_T\", \"+\")]\n",
    "dis = [(\"VDF\", \"\"), (\"Polymac_P0\", \"polyedriser dom\")]\n",
    "\n",
    "for c, _ in cases:\n",
    "    for d, p in dis:\n",
    "        run.addCaseFromTemplate(f\"{c}.data\", d, {\"poly\" : p, \"dis\" : d})\n",
    "        \n",
    "run.printCases()\n",
    "run.runCases()\n",
    "run.tablePerf()"
   ]
  },
  {
   "cell_type": "code",
   "execution_count": null,
   "id": "747bc2d8",
   "metadata": {},
   "outputs": [],
   "source": [
    "from trustutils import plot\n",
    "\n",
    "a = plot.Graph(label_size=22, title_size=24, legend_size=24)\n",
    "for c, m in cases:\n",
    "    for d, _ in dis:\n",
    "        if d == \"VDF\":\n",
    "            a.addResidu(f\"{run.BUILD_DIRECTORY}/{d}/{c}.dt_ev\", label=f\"{d}/{c}\", marker=\"-\")\n",
    "        else:\n",
    "            a.addResidu(f\"{run.BUILD_DIRECTORY}/{d}/{c}.dt_ev\", label=f\"{d}/{c}\", marker=m)\n",
    "\n",
    "a.scale(yscale=\"log\")\n",
    "\n",
    "a = plot.Graph(label_size=22, title_size=24, legend_size=24)\n",
    "for c, m in cases:\n",
    "    for d, _ in dis:\n",
    "        data = plot.loadText(f\"{run.BUILD_DIRECTORY}/{d}/{c}.dt_ev\")\n",
    "        if d == \"VDF\":\n",
    "            a.add(data[0], data[1], label=f\"{d}/{c}\", marker=\"-\")\n",
    "        else:\n",
    "            a.add(data[0], data[1], label=f\"{d}/{c}\", marker=m)"
   ]
  },
  {
   "cell_type": "code",
   "execution_count": null,
   "id": "ffef54b8",
   "metadata": {},
   "outputs": [],
   "source": [
    "\n",
    "for son_name in [\"P\", \"VL\", \"A\", \"RHOL\", \"TL\", \"HL\", \"MU\", \"LAM\", \"CP\", \"E\"]:\n",
    "    a = plot.Graph(title=son_name, label_size=22, title_size=24, legend_size=24)\n",
    "    for c, m in cases:\n",
    "        for d, _ in dis:\n",
    "            if d == \"VDF\":\n",
    "                a.addSegment(f\"{run.BUILD_DIRECTORY}/{d}/{c}_SONDE_{son_name}.son\", label=f\"{d}/{c}\", marker=\"-\")\n",
    "            else:\n",
    "                a.addSegment(f\"{run.BUILD_DIRECTORY}/{d}/{c}_SONDE_{son_name}.son\", label=f\"{d}/{c}\", marker=m)"
   ]
  }
 ],
 "metadata": {
  "interpreter": {
   "hash": "1537131699a4702934b0bbeb7bf8e1e2847b4eeadfb820bc8606fe24d700d9f1"
  },
  "kernelspec": {
   "display_name": "Python 3.7.9 ('base')",
   "language": "python",
   "name": "python3"
  },
  "language_info": {
   "codemirror_mode": {
    "name": "ipython",
    "version": 3
   },
   "file_extension": ".py",
   "mimetype": "text/x-python",
   "name": "python",
   "nbconvert_exporter": "python",
   "pygments_lexer": "ipython3",
   "version": "3.8.19"
  },
  "toc-autonumbering": true
 },
 "nbformat": 4,
 "nbformat_minor": 5
}
