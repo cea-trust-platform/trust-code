{
 "cells": [
  {
   "attachments": {},
   "cell_type": "markdown",
   "id": "boolean-earth",
   "metadata": {},
   "source": [
    "# Pb_Multiphase_Enthalpie"
   ]
  },
  {
   "cell_type": "code",
   "execution_count": null,
   "id": "c50babfc",
   "metadata": {
    "scrolled": true
   },
   "outputs": [],
   "source": [
    "from trustutils import run\n",
    "\n",
    "run.introduction(\"Elie Saikali & Yannick Gorsse\")\n",
    "run.TRUST_parameters()"
   ]
  },
  {
   "cell_type": "code",
   "execution_count": null,
   "id": "balanced-boating",
   "metadata": {
    "scrolled": false
   },
   "outputs": [],
   "source": [
    "import pandas as pd\n",
    "import os, sys\n",
    "from string import Template\n",
    "\n",
    "run.reset()\n",
    "run.initBuildDirectory()\n",
    "\n",
    "cp = 1000.0\n",
    "conduc = 0.1\n",
    "R = 8.31446261815324\n",
    "gamma = 4.4\n",
    "T = 231.44325100000003 # en C\n",
    "\n",
    "dis = [(\"VDF\", \"\", \"-\"), (\"Polymac_P0\", \"polyedriser dom\", \"o\")]\n",
    "fluids = [(\"Incompressible\", f\"Fluide_Incompressible {{ rho Champ_Uniforme 1 1000 mu Champ_Uniforme 1 1e-3 lambda Champ_Uniforme 1 {conduc} Cp Champ_Uniforme 1 {cp} }}\", cp * T ),\n",
    "           (\"Stiffened\", f\"StiffenedGas {{ gamma {gamma} pinf 6e8 lambda {conduc} mu 1e-3 }}\", gamma * R / (gamma - 1.0) * (T + 273.15))]\n",
    "cases = {\"pb_multiphase\" : [\"energie_multiphase\", \"temperature\"], \"pb_multiphase_h\" : [\"energie_multiphase_enthalpie\", \"enthalpie\"]}\n",
    "\n",
    "for pb, (eq, ch) in cases.items():\n",
    "    for d, p, _ in dis:\n",
    "        for f, ff, h in fluids:\n",
    "            val = T if pb == \"pb_multiphase\" else h\n",
    "            run.addCaseFromTemplate(\"jdd.data\", f\"{d}/{f}/{pb}\", {\"poly\" : p, \"dis\" : d, \"fld\" : ff, \"pb\" : pb, \"eq\" : eq, \"champ\" : ch, \"val\" : val})\n",
    "        \n",
    "run.printCases()\n",
    "run.runCases()\n",
    "run.tablePerf()"
   ]
  },
  {
   "cell_type": "markdown",
   "id": "ae7c7189",
   "metadata": {},
   "source": [
    "# Convergence"
   ]
  },
  {
   "cell_type": "code",
   "execution_count": null,
   "id": "747bc2d8",
   "metadata": {},
   "outputs": [],
   "source": [
    "from trustutils import plot\n",
    "a = plot.Graph(label_size=16, title_size=24, legend_size=16, nY=2)\n",
    "for i, (f, _, _) in enumerate(fluids):\n",
    "    a.addPlot(i,f\"Convergence {f}\")\n",
    "    for pb, (eq, ch) in cases.items():\n",
    "        for d, _, m in dis:\n",
    "            a.addResidu(f\"{run.BUILD_DIRECTORY}/{d}/{f}/{pb}/jdd.dt_ev\", label=f\"{d}/{pb}\", marker=m)\n",
    "    a.scale(yscale=\"log\")\n"
   ]
  },
  {
   "cell_type": "markdown",
   "id": "adcde7e6",
   "metadata": {},
   "source": [
    "# Newton iterations"
   ]
  },
  {
   "cell_type": "code",
   "execution_count": null,
   "id": "7ef0a05c",
   "metadata": {},
   "outputs": [],
   "source": [
    "import numpy as np\n",
    "a = plot.Graph(label_size=16, title_size=24, legend_size=16, nY=2)\n",
    "\n",
    "for i, (f, _, _) in enumerate(fluids):\n",
    "    a.addPlot(i,f\"Newton iterations {f}\")\n",
    "    for pb, (eq, ch) in cases.items():\n",
    "        for d, _, m in dis:\n",
    "            data = np.loadtxt(f\"{run.BUILD_DIRECTORY}/{d}/{f}/{pb}/jdd.newton_evol\", usecols=(0, 2))\n",
    "            a.add(data[:,0], data[:,1], label=f\"{d}/{pb}\", marker=m)\n",
    "\n",
    "    a.label(\"time\",\"Itr Newton\")\n"
   ]
  },
  {
   "cell_type": "markdown",
   "id": "63b30166",
   "metadata": {},
   "source": [
    "# Time step evolution (in seconds)"
   ]
  },
  {
   "cell_type": "code",
   "execution_count": null,
   "id": "f19551be",
   "metadata": {},
   "outputs": [],
   "source": [
    "a = plot.Graph(label_size=16, title_size=24, legend_size=16, nY=2)\n",
    "\n",
    "for i, (f, _, _) in enumerate(fluids):\n",
    "    a.addPlot(i,f\"Time step {f}\")\n",
    "    for pb, (eq, ch) in cases.items():\n",
    "        for d, _, m in dis:\n",
    "            data = plot.loadText(f\"{run.BUILD_DIRECTORY}/{d}/{f}/{pb}/jdd.dt_ev\")\n",
    "            a.add(data[0], data[1], label=f\"{d}/{pb}\", marker=m)\n",
    "    a.label(\"time\",\"dt\")\n"
   ]
  },
  {
   "cell_type": "markdown",
   "id": "b27ab94e",
   "metadata": {},
   "source": [
    "# Vertical profiles "
   ]
  },
  {
   "cell_type": "code",
   "execution_count": null,
   "id": "ffef54b8",
   "metadata": {},
   "outputs": [],
   "source": [
    "for son_name in [\"P\", \"VL\", \"A\", \"RHOL\", \"TL\", \"HL\", \"MU\", \"LAM\", \"CP\", \"E\"]:\n",
    "    a = plot.Graph(title=son_name, label_size=16, title_size=24, legend_size=16, nY=2)\n",
    "    for i, (f, _, _) in enumerate(fluids):\n",
    "        a.addPlot(i,f\"Vertical profiles {f}\")\n",
    "        for pb, (eq, ch) in cases.items():\n",
    "            for d, _, m in dis:\n",
    "                a.addSegment(f\"{run.BUILD_DIRECTORY}/{d}/{f}/{pb}/jdd_SONDE_{son_name}.son\", label=f\"{d}/{pb}\", marker=m)"
   ]
  }
 ],
 "metadata": {
  "interpreter": {
   "hash": "1537131699a4702934b0bbeb7bf8e1e2847b4eeadfb820bc8606fe24d700d9f1"
  },
  "kernelspec": {
   "display_name": "Python 3.7.9 ('base')",
   "language": "python",
   "name": "python3"
  },
  "language_info": {
   "codemirror_mode": {
    "name": "ipython",
    "version": 3
   },
   "file_extension": ".py",
   "mimetype": "text/x-python",
   "name": "python",
   "nbconvert_exporter": "python",
   "pygments_lexer": "ipython3",
   "version": "3.8.19"
  },
  "toc-autonumbering": true
 },
 "nbformat": 4,
 "nbformat_minor": 5
}
