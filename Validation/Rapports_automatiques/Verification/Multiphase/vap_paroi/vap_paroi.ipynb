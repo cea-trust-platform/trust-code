{
 "cells": [
  {
   "attachments": {},
   "cell_type": "markdown",
   "id": "boolean-earth",
   "metadata": {},
   "source": [
    "# Canal bouillant - wall vaporisation sodium\n",
    "\n",
    "See canal.data for comments. Not easy for sodium (no laws). See the EOS notebook (EOS_vap_paroi.ipynb) if you have eos and if you want to understand teh perpose of this notebook."
   ]
  },
  {
   "cell_type": "code",
   "execution_count": null,
   "id": "c50babfc",
   "metadata": {
    "scrolled": true
   },
   "outputs": [],
   "source": [
    "from trustutils import run\n",
    "\n",
    "run.introduction(\"Yannick Gorsse & Elie Saikali\")"
   ]
  },
  {
   "cell_type": "code",
   "execution_count": null,
   "id": "balanced-boating",
   "metadata": {
    "scrolled": false
   },
   "outputs": [],
   "source": [
    "import os\n",
    "\n",
    "run.reset()\n",
    "run.initBuildDirectory()\n",
    "\n",
    "dis = [ (\"PolyMAC_P0\", \"Polyedriser dom\", \"option_polymac { }\",\"o\"),\n",
    "       (\"VDF\", \"\", \"option_vdf { all_options }\",\"-\") ]\n",
    "\n",
    "for d, dd, ddd, _ in dis:\n",
    "    run.addCaseFromTemplate(\"canal.data\", f\"{d}\", {\"dis\" : d , \"poly\" : dd, \"opts\" : ddd})\n",
    "\n",
    "run.printCases()\n",
    "run.runCases()\n",
    "run.tablePerf()"
   ]
  },
  {
   "cell_type": "code",
   "execution_count": null,
   "id": "200e8132",
   "metadata": {},
   "outputs": [],
   "source": [
    "from trustutils import plot\n",
    "\n",
    "a=plot.Graph(\"Residus\")\n",
    "for d, _, _,m in dis:\n",
    "    a.addResidu(f\"{run.BUILD_DIRECTORY}/{d}/canal.dt_ev\",label=f\"{d}\",marker=m)\n",
    "\n",
    "a.scale(yscale=\"log\")"
   ]
  },
  {
   "cell_type": "markdown",
   "id": "66aa9e98",
   "metadata": {},
   "source": [
    "# Newton iterations"
   ]
  },
  {
   "cell_type": "code",
   "execution_count": null,
   "id": "a482f03f",
   "metadata": {},
   "outputs": [],
   "source": [
    "import numpy as np\n",
    "\n",
    "a = plot.Graph(\"Newton iterations\")\n",
    "\n",
    "for d, _, _, m in dis:\n",
    "    data = np.loadtxt(f\"{run.BUILD_DIRECTORY}/{d}/canal.newton_evol\", usecols=(0, 2))\n",
    "    a.add(data[:,0], data[:,1], label=f\"{d}\", marker=m)\n",
    "\n",
    "a.label(\"time\",\"Itr Newton\")"
   ]
  },
  {
   "cell_type": "code",
   "execution_count": null,
   "id": "ffef54b8",
   "metadata": {},
   "outputs": [],
   "source": [
    "for name, c in [\n",
    "    (\"TEMPERATURE_L\", 0),\n",
    "    (\"PRESSION\", 0),\n",
    "    (\"VITESSE_L\", 2),\n",
    "    (\"VITESSE_G\", 2),\n",
    "    (\"ALPHA\", 0),\n",
    "]:\n",
    "    a = plot.Graph(name)\n",
    "    for d, _, _, m in dis:\n",
    "        a.addSegment(f\"{run.BUILD_DIRECTORY}/{d}/canal_{name}_TRUST.son\", compo=c, label=f\"{d}\", marker=m)"
   ]
  }
 ],
 "metadata": {
  "kernelspec": {
   "display_name": "base",
   "language": "python",
   "name": "python3"
  },
  "language_info": {
   "codemirror_mode": {
    "name": "ipython",
    "version": 3
   },
   "file_extension": ".py",
   "mimetype": "text/x-python",
   "name": "python",
   "nbconvert_exporter": "python",
   "pygments_lexer": "ipython3",
   "version": "3.12.7"
  },
  "toc-autonumbering": true
 },
 "nbformat": 4,
 "nbformat_minor": 5
}
