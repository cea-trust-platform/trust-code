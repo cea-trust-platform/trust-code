{
 "cells": [
  {
   "attachments": {},
   "cell_type": "markdown",
   "id": "gross-patent",
   "metadata": {},
   "source": [
    "# Pb_Multiphase vs QC-WC models"
   ]
  },
  {
   "cell_type": "code",
   "execution_count": null,
   "id": "8dbc43a5",
   "metadata": {},
   "outputs": [],
   "source": [
    "from trustutils.jupyter import run\n",
    "\n",
    "run.introduction(\"Elie Saikali\")\n",
    "\n",
    "run.TRUST_parameters()"
   ]
  },
  {
   "cell_type": "markdown",
   "id": "82765f27",
   "metadata": {},
   "source": [
    "### Description: \n",
    "\n",
    "Driven cavity with cosine thermal power and thermal exchange with uniform external temperature"
   ]
  },
  {
   "cell_type": "code",
   "execution_count": null,
   "id": "15189bb2-352d-48f9-85fa-64c4323e0f88",
   "metadata": {},
   "outputs": [],
   "source": [
    "from trustutils.jupyter import run\n",
    "\n",
    "cases = [(\"WC\", \"fluide_weakly_compressible\", \"pression_thermo 1.E5 use_hydrostatic_pressure 1\", \"-\"), \n",
    "         (\"QC\", \"fluide_quasi_compressible\",\"pression 1.E5\", \"o\"),\n",
    "         (\"Pb_Multi\", \"\", \"\", \"x\")]\n",
    "\n",
    "run.reset()\n",
    "for c, f, p, _ in cases:\n",
    "    if c == \"Pb_Multi\":\n",
    "        run.addCaseFromTemplate(f\"jdd_multi.data\", f\"{c}\", { })\n",
    "    else:\n",
    "        run.addCaseFromTemplate(f\"jdd.data\", f\"{c}\", { \"type\" : c, \"fl\" : f, \"press\" : p})\n",
    "\n",
    "run.printCases()\n",
    "run.runCases()\n",
    "run.tablePerf()"
   ]
  },
  {
   "cell_type": "code",
   "execution_count": null,
   "id": "a4e5dc4c",
   "metadata": {},
   "outputs": [],
   "source": [
    "from trustutils import plot\n",
    "import numpy as np\n",
    "\n",
    "a = plot.Graph(\"Time steps\")\n",
    "\n",
    "for c, _, _, m in cases:\n",
    "    if c == \"Pb_Multi\":\n",
    "        dt_ev = np.loadtxt(f\"{run.BUILD_DIRECTORY}/{c}/jdd_multi.dt_ev\")\n",
    "    else:\n",
    "        dt_ev = np.loadtxt(f\"{run.BUILD_DIRECTORY}/{c}/jdd.dt_ev\")\n",
    "    a.add(dt_ev[:, 0], dt_ev[:, 1], label=f\"{c}\", marker=m)"
   ]
  },
  {
   "cell_type": "code",
   "execution_count": null,
   "id": "3c47cf9c",
   "metadata": {},
   "outputs": [],
   "source": [
    "a = plot.Graph(f\"Temperature \")\n",
    "a.addSegment(f\"{run.BUILD_DIRECTORY}/WC/jdd_EX_A.son\", label=\"Exact Soolution\", compo=0, marker=\"--\")\n",
    "for c, _, _, m in cases:\n",
    "    if c == \"Pb_Multi\":\n",
    "        a.addSegment(f\"{run.BUILD_DIRECTORY}/{c}/jdd_multi_T_A.son\", label=f\"{c}\", compo=0, marker=m)\n",
    "    else:\n",
    "        a.addSegment(f\"{run.BUILD_DIRECTORY}/{c}/jdd_T_A.son\", label=f\"{c}\", compo=0, marker=m)\n"
   ]
  },
  {
   "cell_type": "code",
   "execution_count": null,
   "id": "92a2bdd6",
   "metadata": {},
   "outputs": [],
   "source": [
    "from math import ceil\n",
    "\n",
    "vars = (\"R_A\", \"ER_A\", \"PT_A\")\n",
    "\n",
    "\n",
    "for j, var in enumerate(vars):\n",
    "    a = plot.Graph(f\"phase \", nY=1)\n",
    "    a.addPlot(j, f\"Variable {var}\")\n",
    "    for c, _, _, m in cases:\n",
    "        if c == \"Pb_Multi\":\n",
    "            a.addSegment(f\"{run.BUILD_DIRECTORY}/{c}/jdd_multi_{var}.son\", label=f\"{c}\", compo=0, marker=m)\n",
    "        else:\n",
    "            a.addSegment(f\"{run.BUILD_DIRECTORY}/{c}/jdd_{var}.son\", label=f\"{c}\", compo=0, marker=m)\n"
   ]
  }
 ],
 "metadata": {
  "kernelspec": {
   "display_name": "base",
   "language": "python",
   "name": "python3"
  },
  "language_info": {
   "codemirror_mode": {
    "name": "ipython",
    "version": 3
   },
   "file_extension": ".py",
   "mimetype": "text/x-python",
   "name": "python",
   "nbconvert_exporter": "python",
   "pygments_lexer": "ipython3",
   "version": "3.8.19"
  }
 },
 "nbformat": 4,
 "nbformat_minor": 5
}
