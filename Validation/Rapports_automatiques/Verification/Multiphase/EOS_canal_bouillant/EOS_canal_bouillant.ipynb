{
 "cells": [
  {
   "cell_type": "markdown",
   "id": "gross-patent",
   "metadata": {},
   "source": [
    "# Canal bouillant 1D\n",
    "\n",
    "Water vs Sodium uising EOS, VDF vs PolyMAC_P0.\n",
    "\n",
    "Sodium so complicated !"
   ]
  },
  {
   "cell_type": "code",
   "execution_count": null,
   "id": "15146516",
   "metadata": {},
   "outputs": [],
   "source": [
    "from trustutils import run\n",
    "run.introduction(\"Elie Saikali\")"
   ]
  },
  {
   "cell_type": "code",
   "execution_count": null,
   "id": "15189bb2-352d-48f9-85fa-64c4323e0f88",
   "metadata": {},
   "outputs": [],
   "source": [
    "run.reset()\n",
    "run.initBuildDirectory()\n",
    "\n",
    "fluids = [ (\"Water\", \"WaterLIQUID\", \"WaterVAPOR\", \"liquide_eau\", \"gaz_eau\", \"saturation_eau\", \"282.8\", \"335\", \"13734000.0\", \"1e9\"), \n",
    "            (\"Sodium\", \"SodiumLIQUID\", \"SodiumVAPOR\", \"liquide_sodium\", \"gaz_sodium\", \"saturation_sodium\", \"800\", \"879.9430097752451\", \"1.e5\", \"1e8\") ]\n",
    "\n",
    "dis = [ (\"PolyMAC_P0\", \"option_polymac { }\", \"o\"),\n",
    "       (\"VDF\", \"option_vdf { all_options }\", \"-\") ]\n",
    "\n",
    "for d, dd, _ in dis:\n",
    "    for f, eosfl, eosfv, lf, gf, sf, tl, tg, press, puiss in fluids:\n",
    "        run.addCaseFromTemplate(\"canal.data\", f\"{d}/{f}\", {\"dis\" : d , \"opt\" : dd,\n",
    "                                                                  \"eosfl\" : eosfl, \"eosfv\" : eosfv,\n",
    "                                                                  \"lf\" : lf, \"gf\" : gf, \"sf\" : sf, \n",
    "                                                                  \"tl\" : tl, \"tg\" : tg, \"press\" : press, \"puiss\" : puiss})\n",
    "\n",
    "run.printCases()\n",
    "run.runCases()\n",
    "run.tablePerf()"
   ]
  },
  {
   "cell_type": "markdown",
   "id": "8c26e9e2",
   "metadata": {},
   "source": [
    "# Residuals"
   ]
  },
  {
   "cell_type": "code",
   "execution_count": null,
   "id": "eb260ff2",
   "metadata": {},
   "outputs": [],
   "source": [
    "from trustutils import plot\n",
    "\n",
    "a = plot.Graph(\"Residuals  : Water vs Sodium \", nY=2)\n",
    "\n",
    "a.addPlot(0)\n",
    "for d, _, m in dis:\n",
    "    a.addResidu(f\"{run.BUILD_DIRECTORY}/{d}/Water/canal.dt_ev\",label=f\"{d} - Water\", marker=m)\n",
    "\n",
    "a.addPlot(1)\n",
    "for d, _, m in dis:\n",
    "    a.addResidu(f\"{run.BUILD_DIRECTORY}/{d}/Sodium/canal.dt_ev\",label=f\"{d} - Sodium\", marker=m)\n",
    "\n",
    "a.scale(yscale='log')"
   ]
  },
  {
   "cell_type": "markdown",
   "id": "f849fcf6",
   "metadata": {},
   "source": [
    "# Newton iterations & time step"
   ]
  },
  {
   "cell_type": "code",
   "execution_count": null,
   "id": "1b727d33",
   "metadata": {},
   "outputs": [],
   "source": [
    "import numpy as np\n",
    "\n",
    "# Newton iters\n",
    "a = plot.Graph(\"Newton Iterations\", nY=2)\n",
    "a.addPlot(0)\n",
    "for d, _, m in dis:\n",
    "    data = np.loadtxt(f\"{run.BUILD_DIRECTORY}/{d}/Water/canal.newton_evol\", usecols=(0, 2))\n",
    "    a.add(data[:,0], data[:,1], label=f\"{d} - Water\", marker=m)\n",
    "a.label(\"time\",\"Itr Newton\")\n",
    "\n",
    "a.addPlot(1)\n",
    "for d, _, m in dis:\n",
    "    data = np.loadtxt(f\"{run.BUILD_DIRECTORY}/{d}/Sodium/canal.newton_evol\", usecols=(0, 2))\n",
    "    a.add(data[:,0], data[:,1], label=f\"{d} - Sodium\", marker=m)\n",
    "a.label(\"time\",\"Itr Newton\")\n",
    "\n",
    "# dt evolution\n",
    "a = plot.Graph(\"Time step evolution\", nY=2)\n",
    "a.addPlot(0)\n",
    "for d, _, m in dis:\n",
    "    data = np.loadtxt(f\"{run.BUILD_DIRECTORY}/{d}/Water/canal.newton_evol\", usecols=(0, 1))\n",
    "    a.add(data[:,0], data[:,1], label=f\"{d} - Water\", marker=m)\n",
    "a.label(\"time\",\"Itr Newton\")\n",
    "\n",
    "a.addPlot(1)\n",
    "for d, _, m in dis:\n",
    "    data = np.loadtxt(f\"{run.BUILD_DIRECTORY}/{d}/Sodium/canal.newton_evol\", usecols=(0, 1))\n",
    "    a.add(data[:,0], data[:,1], label=f\"{d} - Sodium\", marker=m)\n",
    "a.label(\"time\",\"Time step in sec\")\n"
   ]
  },
  {
   "cell_type": "markdown",
   "id": "2b813f3c-e933-430b-baf7-769736e8fffd",
   "metadata": {},
   "source": [
    "# Results"
   ]
  },
  {
   "cell_type": "code",
   "execution_count": null,
   "id": "025147b0",
   "metadata": {},
   "outputs": [],
   "source": [
    "a = plot.Graph(\"TEMPERATURE_L\", nY=2)\n",
    "a.addPlot(0)\n",
    "for d, _, m in dis:\n",
    "    a.addSegment(f\"{run.BUILD_DIRECTORY}/{d}/Water/canal_TEMPERATURE_L_TRUST.son\", label=f\"{d} - Water\", marker=m)\n",
    "\n",
    "a.addPlot(1)\n",
    "for d, _, m in dis:\n",
    "    a.addSegment(f\"{run.BUILD_DIRECTORY}/{d}/Sodium/canal_TEMPERATURE_L_TRUST.son\", label=f\"{d} - Sodium\", marker=m)\n",
    "\n",
    "a = plot.Graph(\"TEMPERATURE_G\", nY=2)\n",
    "a.addPlot(0)\n",
    "for d, _, m in dis:\n",
    "    a.addSegment(f\"{run.BUILD_DIRECTORY}/{d}/Water/canal_TEMPERATURE_G_TRUST.son\", label=f\"{d} - Water\", marker=m)\n",
    "\n",
    "a.addPlot(1)\n",
    "for d, _, m in dis:\n",
    "    a.addSegment(f\"{run.BUILD_DIRECTORY}/{d}/Sodium/canal_TEMPERATURE_G_TRUST.son\", label=f\"{d} - Sodium\", marker=m)\n",
    "\n",
    "a = plot.Graph(\"PRESSION\", nY=2)\n",
    "a.addPlot(0)\n",
    "for d, _, m in dis:\n",
    "    a.addSegment(f\"{run.BUILD_DIRECTORY}/{d}/Water/canal_PRESSION_TRUST.son\", label=f\"{d} - Water\", marker=m)\n",
    "\n",
    "a.addPlot(1)\n",
    "for d, _, m in dis:\n",
    "    a.addSegment(f\"{run.BUILD_DIRECTORY}/{d}/Sodium/canal_PRESSION_TRUST.son\", label=f\"{d} - Sodium\", marker=m)\n",
    "\n",
    "a = plot.Graph(\"RHO_M\", nY=2)\n",
    "a.addPlot(0)\n",
    "for d, _, m in dis:\n",
    "    a.addSegment(f\"{run.BUILD_DIRECTORY}/{d}/Water/canal_RHO_M_TRUST.son\", label=f\"{d} - Water\", marker=m)\n",
    "\n",
    "a.addPlot(1)\n",
    "for d, _, m in dis:\n",
    "    a.addSegment(f\"{run.BUILD_DIRECTORY}/{d}/Sodium/canal_RHO_M_TRUST.son\", label=f\"{d} - Sodium\", marker=m)\n",
    "\n",
    "a = plot.Graph(\"ALPHA\", nY=2)\n",
    "a.addPlot(0)\n",
    "for d, _, m in dis:\n",
    "    a.addSegment(f\"{run.BUILD_DIRECTORY}/{d}/Water/canal_ALPHA_TRUST.son\", compo=0, label=f\"{d} - Water\", marker=m)\n",
    "\n",
    "a.addPlot(1)\n",
    "for d, _, m in dis:\n",
    "    a.addSegment(f\"{run.BUILD_DIRECTORY}/{d}/Sodium/canal_ALPHA_TRUST.son\", compo=0, label=f\"{d} - Sodium\", marker=m)\n",
    "\n",
    "a = plot.Graph(\"VITESSE_L\", nY=2)\n",
    "a.addPlot(0)\n",
    "for d, _, m in dis:\n",
    "    a.addSegment(f\"{run.BUILD_DIRECTORY}/{d}/Water/canal_VITESSE_L_TRUST.son\", compo=1, label=f\"{d} - Water\", marker=m)\n",
    "\n",
    "a.addPlot(1)\n",
    "for d, _, m in dis:\n",
    "    a.addSegment(f\"{run.BUILD_DIRECTORY}/{d}/Sodium/canal_VITESSE_L_TRUST.son\", compo=1, label=f\"{d} - Sodium\", marker=m)\n"
   ]
  }
 ],
 "metadata": {
  "kernelspec": {
   "display_name": "base",
   "language": "python",
   "name": "python3"
  },
  "language_info": {
   "codemirror_mode": {
    "name": "ipython",
    "version": 3
   },
   "file_extension": ".py",
   "mimetype": "text/x-python",
   "name": "python",
   "nbconvert_exporter": "python",
   "pygments_lexer": "ipython3",
   "version": "3.12.7"
  }
 },
 "nbformat": 4,
 "nbformat_minor": 5
}
