{
 "cells": [
  {
   "attachments": {},
   "cell_type": "markdown",
   "id": "boolean-earth",
   "metadata": {},
   "source": [
    "# Canal bouillant - wall vaporisation\n",
    "\n",
    "We simulate a 1D boiling channel with a heated wall to create vapor. We use a simple wall flux correlation diphasique_simple_lineaire to generate vapor. The idea is to check the flux repartition between the two phases is correctly computed by the polmac_P0 diffusion operator. (See canal.data for comments)\n",
    "\n",
    "We test mainly the wall flux correlation diphasique_simple_lineaire (simple since used in TRUST). \n",
    "\n",
    "        flux_interfacial coef_constant { \n",
    "                                        liquide_eau 1e4 /* coeff echange liquide-interface (interface tjrs a Tsat) => petit echange => liquide loin de Tsat */\n",
    "                                        gaz_eau 1e10 /* coeff echange gaz-interface (interface tjrs a Tsat) => grande echange => gaz toujours a Tsat */\n",
    "                                        }\n",
    "        flux_parietal diphasique_simple_lineaire { \n",
    "                                        coeff_echange_monophasique 5000 /* echange classique mono-phasique entre paroi et liquide */\n",
    "                                        coeff_osv 5e-5 /* vapeur produite en paroi quand Tl = Ts-phi*coef_osv, donc si petit, ca fait de la vapeur quand liquide est a Tsat, si grand, production de vapeur tot */\n",
    "                                        }"
   ]
  },
  {
   "cell_type": "code",
   "execution_count": null,
   "id": "c50babfc",
   "metadata": {
    "scrolled": true
   },
   "outputs": [],
   "source": [
    "from trustutils import run\n",
    "\n",
    "run.introduction(\"Yannick Gorsse & Elie Saikali\")"
   ]
  },
  {
   "cell_type": "code",
   "execution_count": null,
   "id": "balanced-boating",
   "metadata": {
    "scrolled": false
   },
   "outputs": [],
   "source": [
    "import os\n",
    "\n",
    "run.reset()\n",
    "run.initBuildDirectory()\n",
    "\n",
    "dis = [ (\"PolyMAC_P0\", \"Polyedriser dom\", \"option_polymac { }\"),\n",
    "       (\"VDF\", \"\", \"option_vdf { all_options }\") ]\n",
    "\n",
    "for d, dd, ddd in dis:\n",
    "    run.addCaseFromTemplate(\"canal.data\", f\"{d}\", {\"dis\" : d , \"poly\" : dd, \"opts\" : ddd})\n",
    "\n",
    "run.printCases()\n",
    "run.runCases()\n",
    "run.tablePerf()"
   ]
  },
  {
   "cell_type": "code",
   "execution_count": null,
   "id": "200e8132",
   "metadata": {},
   "outputs": [],
   "source": [
    "from trustutils import plot\n",
    "\n",
    "a=plot.Graph(\"Residus\")\n",
    "for d, _, _ in dis:\n",
    "    a.addResidu(f\"{run.BUILD_DIRECTORY}/{d}/canal.dt_ev\",label=f\"{d}\")\n",
    "\n",
    "a.scale(yscale=\"log\")"
   ]
  },
  {
   "cell_type": "code",
   "execution_count": null,
   "id": "ffef54b8",
   "metadata": {},
   "outputs": [],
   "source": [
    "for name, c in [\n",
    "    (\"TEMPERATURE_L\", 0),\n",
    "    (\"TEMPERATURE_G\", 0),\n",
    "    (\"PRESSION\", 0),\n",
    "    (\"VITESSE_L\", 2),\n",
    "    (\"VITESSE_G\", 2),\n",
    "    (\"ALPHA\", 0),\n",
    "]:\n",
    "    a = plot.Graph(name)\n",
    "    for d, _, _ in dis:\n",
    "        a.addSegment(f\"{run.BUILD_DIRECTORY}/{d}/canal_{name}_TRUST.son\", compo=c, label=f\"{d}\")"
   ]
  }
 ],
 "metadata": {
  "kernelspec": {
   "display_name": "base",
   "language": "python",
   "name": "python3"
  },
  "language_info": {
   "codemirror_mode": {
    "name": "ipython",
    "version": 3
   },
   "file_extension": ".py",
   "mimetype": "text/x-python",
   "name": "python",
   "nbconvert_exporter": "python",
   "pygments_lexer": "ipython3",
   "version": "3.12.7"
  },
  "toc-autonumbering": true
 },
 "nbformat": 4,
 "nbformat_minor": 5
}
