{
 "cells": [
  {
   "cell_type": "markdown",
   "id": "gross-patent",
   "metadata": {},
   "source": [
    "# Buoyant driven cavity"
   ]
  },
  {
   "cell_type": "code",
   "execution_count": null,
   "id": "08d0c88d",
   "metadata": {},
   "outputs": [],
   "source": [
    "from trustutils import run\n",
    "\n",
    "run.introduction(\"Yannick Gorsse\")\n",
    "\n",
    "run.TRUST_parameters()"
   ]
  },
  {
   "cell_type": "markdown",
   "id": "ed6905fc",
   "metadata": {},
   "source": [
    "### Description: \n",
    "\n",
    "Driven cavity with cosine thermal power and thermal exchange with uniform external temperature"
   ]
  },
  {
   "cell_type": "code",
   "execution_count": null,
   "id": "15189bb2-352d-48f9-85fa-64c4323e0f88",
   "metadata": {},
   "outputs": [],
   "source": [
    "from trustutils import run\n",
    "import os\n",
    "import sys\n",
    "\n",
    "run.reset()\n",
    "run.initBuildDirectory()\n",
    "sys.path.insert(1, f\"{run.BUILD_DIRECTORY}\")\n",
    "run.useMEDCoupling()\n",
    "from canal import build_mesh\n",
    "from eos_sodium import Tsat\n",
    "\n",
    "r = 0.02\n",
    "h = 1\n",
    "n = 15\n",
    "nz = 100\n",
    "flux = 4e5\n",
    "power = 0\n",
    "\n",
    "Tin = 800\n",
    "P = 1e5\n",
    "\n",
    "dis = [(\"VDF\", \"-+\")] #, (\"PolyMAC_P0\", \"x\")]\n",
    "for d, _ in dis:\n",
    "    run.addCaseFromTemplate(\n",
    "        f\"jdd_{d}.data\",\n",
    "        d,\n",
    "        {\n",
    "            \"dis\": d,\n",
    "            \"power\": power,\n",
    "            \"flux\": flux,\n",
    "            \"r\": r,\n",
    "            \"h\": h,\n",
    "            \"r_2\": r / 2.0,\n",
    "            \"h_2\": h / 2.0,\n",
    "            \"nr\": n + 1,\n",
    "            \"nz\": nz + 1,\n",
    "            \"Tin\": Tin,\n",
    "            \"Tsat\": Tsat(P),\n",
    "            \"p\": P,\n",
    "        },\n",
    "    )\n",
    "\n",
    "# build_mesh(r, h, n, nz, 2, f\"{run.BUILD_DIRECTORY}/PolyMAC_P0\", \"canal.med\")\n",
    "\n",
    "run.printCases()\n",
    "run.runCases()\n",
    "run.tablePerf()\n"
   ]
  },
  {
   "cell_type": "markdown",
   "id": "dbfdf6f8",
   "metadata": {},
   "source": [
    "## Pas de temps"
   ]
  },
  {
   "cell_type": "code",
   "execution_count": null,
   "id": "a4e5dc4c",
   "metadata": {},
   "outputs": [],
   "source": [
    "from trustutils import plot\n",
    "import numpy as np\n",
    "\n",
    "a = plot.Graph(\"\", nY=2)\n",
    "for d, _ in dis:\n",
    "    dt_ev = plot.loadText(f\"{d}/jdd_{d}.dt_ev\", transpose=False)\n",
    "    a.addPlot(0)\n",
    "    a.add(dt_ev[:, 0], dt_ev[:, 1], label=d, title=\"Time steps\")\n",
    "    a.addPlot(1)\n",
    "    a.addResidu(f\"{d}/jdd_{d}.dt_ev\", label=d)\n",
    "a.label(\"Time [s]\", \"Time steps [s]\")\n",
    "a.scale(xscale='log', yscale='log')"
   ]
  },
  {
   "cell_type": "markdown",
   "id": "63a47b43",
   "metadata": {},
   "source": [
    "## Profils"
   ]
  },
  {
   "cell_type": "code",
   "execution_count": null,
   "id": "92a2bdd6",
   "metadata": {},
   "outputs": [],
   "source": [
    "vars = (\"V\", \"T\", \"A\", \"TAX\")\n",
    "a = plot.Graph(\"\", nY=len(vars))\n",
    "for j, var in enumerate(vars):\n",
    "    a.addPlot(j, f\"Variable {var}\")\n",
    "    for d, marker in dis:\n",
    "        for phase, color in enumerate([\"red\", \"black\"]):\n",
    "            compo = 2 * (1 if var == \"V\" else 0) + phase\n",
    "            a.addSegment(f\"{d}/jdd_{d}_{var}.son\", label=f\"{d} - phase {phase}\", compo=compo, marker=marker, color=color, markersize=15)\n"
   ]
  },
  {
   "cell_type": "markdown",
   "id": "f3252380",
   "metadata": {},
   "source": [
    "## Puissance"
   ]
  },
  {
   "cell_type": "code",
   "execution_count": null,
   "id": "527ccda5",
   "metadata": {},
   "outputs": [],
   "source": [
    "# from math import pi\n",
    "\n",
    "# a = plot.Graph(\"Power\")\n",
    "\n",
    "# df = plot.read_csv(f\"{run.BUILD_DIRECTORY}/multi/jdd_pbt_Diffusion_chaleur.out\", , comment=\\\"#\\\", sep='\\\\s+')\n",
    "# for phase, nom_phase in enumerate([\"LIQUIDE_EAU\", \"GAZ_EAU\"]):\n",
    "#     a.add(df[\"Time\"].to_list(), df[f\"wall__{nom_phase}\"].to_list(), label=nom_phase, marker=\"-\" if phase == 0 else \"o\")\n",
    "# a.add(df[\"Time\"].to_list(), [flux * h * 2.0 * pi * r for _ in df[\"Time\"].to_list()], label=\"Analytique\", marker=\"--\")"
   ]
  }
 ],
 "metadata": {},
 "nbformat": 4,
 "nbformat_minor": 5
}
