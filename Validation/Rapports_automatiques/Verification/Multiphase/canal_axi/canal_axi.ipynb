{
 "cells": [
  {
   "cell_type": "markdown",
   "id": "gross-patent",
   "metadata": {},
   "source": [
    "# Canal axi"
   ]
  },
  {
   "cell_type": "code",
   "execution_count": null,
   "id": "04e9277a",
   "metadata": {},
   "outputs": [],
   "source": [
    "from trustutils import run\n",
    "\n",
    "run.introduction(\"Yannick Gorsse\")\n",
    "\n",
    "run.TRUST_parameters()"
   ]
  },
  {
   "cell_type": "markdown",
   "id": "fa96b11c",
   "metadata": {},
   "source": [
    "### Description: \n",
    "\n",
    "Driven cavity with cosine thermal power and thermal exchange with uniform external temperature"
   ]
  },
  {
   "cell_type": "code",
   "execution_count": null,
   "id": "15189bb2-352d-48f9-85fa-64c4323e0f88",
   "metadata": {},
   "outputs": [],
   "source": [
    "from trustutils import run\n",
    "import os\n",
    "\n",
    "run.reset()\n",
    "problems = [(\"ns\", \"-+\"), (\"pbmulti\", \"-x\")]\n",
    "flux = 1e5\n",
    "r = 0.1\n",
    "h = 1.0\n",
    "for pb, _ in problems:\n",
    "    for axi, nom_axi in [(\"\", \"2D\"), (\"bidim_axi\", \"2D_axi\")]:\n",
    "        run.addCaseFromTemplate(f\"jdd_{pb}.data\", f\"{pb}/{nom_axi}\", {\"flux\" : flux, \"r\" : r, \"h\" : h, \"h_2\" : h / 2.0, \"axi\" : axi})\n",
    "\n",
    "run.printCases()\n",
    "run.runCases()\n",
    "run.tablePerf()"
   ]
  },
  {
   "cell_type": "markdown",
   "id": "dbfdf6f8",
   "metadata": {},
   "source": [
    "## Pas de temps"
   ]
  },
  {
   "cell_type": "code",
   "execution_count": null,
   "id": "a4e5dc4c",
   "metadata": {},
   "outputs": [],
   "source": [
    "from trustutils import plot\n",
    "import numpy as np\n",
    "\n",
    "a = plot.Graph(\"Time steps\")\n",
    "\n",
    "for pb, marker in problems:\n",
    "    for nom_axi in [\"2D\", \"2D_axi\"]:\n",
    "        dt_ev = plot.loadText(f\"{pb}/{nom_axi}/jdd_{pb}.dt_ev\", transpose=False)\n",
    "        a.add(dt_ev[:, 0], dt_ev[:, 1], label=f\"{pb} {nom_axi}\", marker=marker)"
   ]
  },
  {
   "cell_type": "markdown",
   "id": "63a47b43",
   "metadata": {},
   "source": [
    "## Profils"
   ]
  },
  {
   "cell_type": "code",
   "execution_count": null,
   "id": "92a2bdd6",
   "metadata": {},
   "outputs": [],
   "source": [
    "vars = (\"V\", \"T\")\n",
    "a = plot.Graph(\"\", nY=len(vars))\n",
    "for j, var in enumerate(vars):\n",
    "    a.addPlot(j, f\"Variable {var}\")\n",
    "    for pb, marker in problems:\n",
    "        for nom_axi, color in [(\"2D\", \"red\"), (\"2D_axi\", \"black\")]:\n",
    "            a.addSegment(f\"{pb}/{nom_axi}/jdd_{pb}_{var}.son\", label=f\"{pb} {nom_axi}\", compo=(1 if var == \"V\" else 0), marker=marker, color=color, markersize=15)\n"
   ]
  },
  {
   "cell_type": "markdown",
   "id": "f3252380",
   "metadata": {},
   "source": [
    "## Puissance"
   ]
  },
  {
   "cell_type": "code",
   "execution_count": null,
   "id": "527ccda5",
   "metadata": {},
   "outputs": [],
   "source": [
    "from math import pi\n",
    "\n",
    "for nom_axi, color in [(\"2D\", \"red\"), (\"2D_axi\", \"black\")]:\n",
    "    for pb, marker in problems:\n",
    "        df = plot.read_csv(f\"{pb}/{nom_axi}/jdd_{pb}_pbt_Diffusion_chaleur.out\", comment=\"#\", sep='\\\\s+')\n",
    "        print(f\"{pb:8s} {nom_axi:6s} {df['wall'].to_list()[-1]:.1f}\")\n",
    "print(f\"Analytique      {flux * h * 2.0 * pi * r:.1f}\")"
   ]
  }
 ],
 "metadata": {},
 "nbformat": 4,
 "nbformat_minor": 5
}
