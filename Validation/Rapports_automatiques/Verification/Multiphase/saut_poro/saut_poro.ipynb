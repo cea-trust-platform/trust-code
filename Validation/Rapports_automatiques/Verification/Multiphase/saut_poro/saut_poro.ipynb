{
 "cells": [
  {
   "attachments": {},
   "cell_type": "markdown",
   "id": "boolean-earth",
   "metadata": {},
   "source": [
    "# Pb_Multiphase - saut de porosite en 1D : VDF vs PolyMAC_P0"
   ]
  },
  {
   "cell_type": "code",
   "execution_count": null,
   "id": "c50babfc",
   "metadata": {
    "scrolled": true
   },
   "outputs": [],
   "source": [
    "from trustutils import run\n",
    "run.introduction(\"Elie Saikali\")\n",
    "run.TRUST_parameters()"
   ]
  },
  {
   "cell_type": "code",
   "execution_count": null,
   "id": "balanced-boating",
   "metadata": {
    "scrolled": false
   },
   "outputs": [],
   "source": [
    "run.reset()\n",
    "run.initBuildDirectory()\n",
    "\n",
    "dis = [(\"VDF\", \"\", \"option_vdf { all_options }\"), (\"PolyMAC_P0\", \"Polyedriser dom\", \"option_polymac { maillage_vdf }\")]\n",
    "tanh = [(\"uniforme\", \"\"), (\"non_uniforme\", \"ztanh_dilatation 0 ztanh_taille_premiere_maille 0.025\")]\n",
    "fluids = [(\"StiffenedGas\" , \"StiffenedGas { gamma 1.58 pinf 353637173.0 }\" )\n",
    "          # , (\"EOS\" , \"Fluide_generique_EOS { model cathare2 fluid waterliquid }\") # A ACTIVER SI EOS COMPILE SUR VOTRE MACHINE\n",
    "          ]\n",
    "\n",
    "for d, dd, ddd in dis:\n",
    "    for t, tt in tanh:\n",
    "        for f, ff in fluids:\n",
    "            run.addCaseFromTemplate(\"jdd.data\", f\"{d}/{t}/{f}\", {\"dis\" : d, \"poly\" : dd, \"opts\" : ddd, \"tanh\" : tt , \"fld\" : ff})\n",
    "        \n",
    "run.printCases()\n",
    "run.runCases()\n",
    "run.tablePerf()"
   ]
  },
  {
   "cell_type": "code",
   "execution_count": null,
   "id": "5c747323",
   "metadata": {},
   "outputs": [],
   "source": [
    "from trustutils import plot\n",
    "a = plot.Graph(\"Residuals\")\n",
    "for d, _ , _ in dis:\n",
    "    for t, _ in tanh:\n",
    "        for f, _ in fluids:\n",
    "            a.addResidu(f\"{run.BUILD_DIRECTORY}/{d}/{t}/{f}/jdd.dt_ev\",label=f\"{d} - {t}\")\n",
    "\n",
    "a.scale(yscale='log')"
   ]
  },
  {
   "cell_type": "code",
   "execution_count": null,
   "id": "747bc2d8",
   "metadata": {},
   "outputs": [],
   "source": [
    "a = plot.Graph(\"Pressure\")\n",
    "for d, _ ,_ in dis:\n",
    "    for t, _ in tanh:\n",
    "        for f, _ in fluids:\n",
    "            a.addSegment(f\"{run.BUILD_DIRECTORY}/{d}/{t}/{f}/jdd_SONDE_CHANNEL_PRESSURE.son\", label=f\"{d} - {t}\")\n"
   ]
  },
  {
   "cell_type": "code",
   "execution_count": null,
   "id": "7a618ea6",
   "metadata": {},
   "outputs": [],
   "source": [
    "a = plot.Graph(\"Velocity Z\")\n",
    "for d, _ ,_ in dis:\n",
    "    for t, _ in tanh:\n",
    "        for f, _ in fluids:\n",
    "            a.addSegment(f\"{run.BUILD_DIRECTORY}/{d}/{t}/{f}/jdd_SONDE_CHANNEL_VITESSE.son\", compo=2, label=f\"{d} - {t}\")"
   ]
  },
  {
   "cell_type": "code",
   "execution_count": null,
   "id": "7ec4b276",
   "metadata": {},
   "outputs": [],
   "source": [
    "a = plot.Graph(\"Porosity\")\n",
    "for d, _, _ in dis:\n",
    "    for t, _ in tanh:\n",
    "        for f, _ in fluids:\n",
    "            a.addSegment(f\"{run.BUILD_DIRECTORY}/{d}/{t}/{f}/jdd_SONDE_CHANNEL_PORO.son\", label=f\"{d} - {t}\")\n"
   ]
  }
 ],
 "metadata": {
  "kernelspec": {
   "display_name": "base",
   "language": "python",
   "name": "python3"
  },
  "language_info": {
   "codemirror_mode": {
    "name": "ipython",
    "version": 3
   },
   "file_extension": ".py",
   "mimetype": "text/x-python",
   "name": "python",
   "nbconvert_exporter": "python",
   "pygments_lexer": "ipython3",
   "version": "3.12.7"
  },
  "toc-autonumbering": true
 },
 "nbformat": 4,
 "nbformat_minor": 5
}
