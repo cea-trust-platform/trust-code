{
 "cells": [
  {
   "cell_type": "markdown",
   "id": "gross-patent",
   "metadata": {},
   "source": [
    "# Robinet de Ransom 2D homogène"
   ]
  },
  {
   "cell_type": "code",
   "execution_count": null,
   "id": "2da72886",
   "metadata": {},
   "outputs": [],
   "source": [
    "from trustutils import run\n",
    "\n",
    "run.introduction('A. Drouillet (TMA), J. Francescatto (CEA)')\n",
    "\n"
   ]
  },
  {
   "cell_type": "markdown",
   "id": "5ca60e5b",
   "metadata": {},
   "source": [
    "### Description: \n",
    "\n",
    "Cas tests du robinet de Ramson avec découpage des phases GAZ et LIQUIDE."
   ]
  },
  {
   "cell_type": "markdown",
   "id": "perfect-entrepreneur",
   "metadata": {},
   "source": [
    "## Description du cas test\n",
    "Le probléme de Ransom 1D a été présenté par V.H. Ransom dans. Ce cas test \"raide\" permet de tester la stabilité du schéma, sa précision et l'interaction avec des termes sources simples. Il représente l'écoulement 1D d'une colonne d'eau verticale soumise à la force de gravité. L'eau accélérant sous l'effet de la gravité, le diamétre du jet doit diminue pour assurer la conservation du débit. Le cas test consiste en une collone de 12 m de hauteur et 1 m de largeur contenant de l'eau et de l'air, traités comme des fluides incompressibles. Ces fluides obeissent à la loi d'état Stiffened Gas avec pour :\n",
    "* l'air : Pinf=0 et gamma = 1.4\n",
    "* l'eau : Pinf=6 10^8 et gamma = 4.4\n",
    "\n",
    "\n",
    "Dans cette fiche de validation, il est regardé les résultats obtenus lorsque chaque phase (GAZ et LIQUIDE) est séparée en plusieurs sous-phases (4 pour GAZ et 8 pour LIQUIDE). Cela permet de valider la programmation informatique de la définition de sous phases dans le jeu de données. Cette base informatique servira pour la mise en place de d'une méthode multi groupes de type MUSIG."
   ]
  },
  {
   "cell_type": "code",
   "execution_count": null,
   "id": "a61057b9",
   "metadata": {},
   "outputs": [],
   "source": [
    "run.TRUST_parameters()"
   ]
  },
  {
   "cell_type": "code",
   "execution_count": null,
   "id": "15189bb2-352d-48f9-85fa-64c4323e0f88",
   "metadata": {},
   "outputs": [],
   "source": [
    "from trustutils import run\n",
    "import os\n",
    "\n",
    "run.reset()\n",
    "run.initBuildDirectory()\n",
    "\n",
    "liste_dis = [\"VDF\", \"PolyMAC_P0\"]\n",
    "for dis in liste_dis:\n",
    "    run.addCaseFromTemplate(f\"jdd.data\", dis, {\"dis\" : dis})\n",
    "    run.addCaseFromTemplate(f\"jdd_MUSIG.data\", dis, {\"dis\" : dis})\n",
    "    \n",
    "run.printCases()\n",
    "run.runCases()\n",
    "run.tablePerf()"
   ]
  },
  {
   "cell_type": "markdown",
   "id": "9a14df74",
   "metadata": {},
   "source": [
    "| | nb_Phases | nb_Proc |\n",
    "| :---:| :---: | :---: |\n",
    "| jdd ransom_StiffenedGas| 2 | 1 |\n",
    "| jdd ransom_StiffenedGas MUSIG | 12 | 1 |"
   ]
  },
  {
   "cell_type": "code",
   "execution_count": null,
   "id": "7533f3b2",
   "metadata": {},
   "outputs": [],
   "source": [
    "# Approximate exact solution \n",
    "import math\n",
    "import numpy as np\n",
    "\n",
    "def exactAlphaGas(x,t):\n",
    "    g = 10\n",
    "    L = 12\n",
    "    U0 = 10\n",
    "    alpha0 = 0.2\n",
    "    if(x<U0*t+0.5*g*t*t):\n",
    "        return 1-((1-alpha0)*U0)/(math.sqrt(U0*U0+2*g*x))\n",
    "    else:\n",
    "        return alpha0\n",
    "\n",
    "def exactVitesseLiquid(x,t):\n",
    "    g = 10\n",
    "    L = 12\n",
    "    U0 = 10\n",
    "    alpha0 = 0.2\n",
    "    if(x<U0*t+0.5*g*t*t):\n",
    "        return -math.sqrt(U0*U0+2*g*x)\n",
    "    else:\n",
    "        return -(U0+g*t)\n",
    "    \n",
    "def writeSolution(fichierName, Dt, function, N):\n",
    "    L = 12\n",
    "    xRange = np.linspace(0,L,N)\n",
    "    fichier = open(fichierName, \"w\")\n",
    "    for i in xRange :\n",
    "        x=L-i\n",
    "        ligne = str(x) + \" \" + str(function(i, Dt)) + \" \\n\" \n",
    "        fichier.write(ligne)\n",
    "    fichier.close()"
   ]
  },
  {
   "cell_type": "code",
   "execution_count": null,
   "id": "eedefb50",
   "metadata": {},
   "outputs": [],
   "source": [
    "import time\n",
    "from trustutils import plot\n",
    "import matplotlib.pyplot as plt\n",
    "\n",
    "#time step\n",
    "timeStep = [0.3, 0.6, 0.8]\n",
    "Ncases = len(timeStep)\n",
    "for Dt in timeStep : \n",
    "    fichierNameAlpha = run.BUILD_DIRECTORY + \"/AlphaExact\" + str(Dt) + \".txt\"\n",
    "    fichierNameVitesse = run.BUILD_DIRECTORY+\"/VitesseExact\" + str(Dt) + \".txt\"\n",
    "    writeSolution(fichierNameAlpha, Dt, exactAlphaGas, 50)\n",
    "    writeSolution(fichierNameVitesse, Dt, exactVitesseLiquid, 50)\n",
    "    \n",
    "a = plot.Graph(\"Resultats\", nX=Ncases, nY=2)\n",
    "\n",
    "line = 0\n",
    "\n",
    "alpha_son = \"SONDE_ALPHA_GAZ_HELIUM\"\n",
    "vit_son = \"SONDE_VITESSE_LIQUIDE_SODIUM\"\n",
    "\n",
    "for t in timeStep:\n",
    "    a.addPlot([line,0],\"Taux de vide à t = %s\" %t)\n",
    "    \n",
    "    for dis in liste_dis:\n",
    "        a.addSegment(f\"{dis}/jdd_{alpha_son}.son\",lw=3,time=t,label=f\"ransom {dis} nbPhases 2\")\n",
    "        for i in range (4):\n",
    "            a.addSegment(f\"{dis}/jdd_MUSIG_{alpha_son}_{i}.son\",lw=3,time=t,label=f\"ransom {dis} MUSIG nbPhases 12\")\n",
    "    \n",
    "    data = plot.loadText(\"AlphaExact\" + str(t) + \".txt\")\n",
    "    a.add(data[0],data[1],label=\"Analytique\",lw=3,marker='o',color='k')\n",
    "    a.label(\"y en m\",\"Taux de vide\")\n",
    "    \n",
    "    a.addPlot([line,1],\"Vitesse du fluide à t = %s\" %t)\n",
    "    \n",
    "    for dis in liste_dis:\n",
    "        a.addSegment(f\"{dis}/jdd_{vit_son}.son\",lw=3,compo=1,time=t,label=f\"ransom {dis} nbPhases 2\")\n",
    "        for i in range (8):\n",
    "            a.addSegment(f\"{dis}/jdd_MUSIG_{vit_son}_{i}.son\",lw=3,compo=1,time=t,label=f\"ransom {dis} MUSIG nbPhases 12\")\n",
    "        \n",
    "    data = plot.loadText(\"VitesseExact\" + str(t) + \".txt\")\n",
    "    a.add(data[0],data[1],label=\"Analytique\",lw=3,marker='o',color='k')\n",
    "    a.label(\"y en m\",\"Vitesse du fluide m/s\")\n",
    "    line += 1   \n",
    "  \n",
    "# a.legend(loc='upper center', bbox_to_anchor=(0.5, -0.1), fancybox=True, shadow=True, ncol=2)"
   ]
  }
 ],
 "metadata": {
  "kernelspec": {
   "display_name": "Python 3 (ipykernel)",
   "language": "python",
   "name": "python3"
  },
  "language_info": {
   "codemirror_mode": {
    "name": "ipython",
    "version": 3
   },
   "file_extension": ".py",
   "mimetype": "text/x-python",
   "name": "python",
   "nbconvert_exporter": "python",
   "pygments_lexer": "ipython3",
   "version": "3.12.5"
  }
 },
 "nbformat": 4,
 "nbformat_minor": 5
}
