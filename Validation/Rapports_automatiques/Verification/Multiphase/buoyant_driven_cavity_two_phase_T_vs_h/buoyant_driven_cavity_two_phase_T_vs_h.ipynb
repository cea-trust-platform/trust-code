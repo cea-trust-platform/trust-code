{
 "cells": [
  {
   "attachments": {},
   "cell_type": "markdown",
   "id": "gross-patent",
   "metadata": {},
   "source": [
    "# Buoyant driven cavity"
   ]
  },
  {
   "cell_type": "code",
   "execution_count": null,
   "id": "8dbc43a5",
   "metadata": {},
   "outputs": [],
   "source": [
    "from trustutils.jupyter import run\n",
    "\n",
    "run.introduction(\"Elie Saikali & Yannick Gorsse\")\n",
    "\n",
    "run.TRUST_parameters()"
   ]
  },
  {
   "cell_type": "markdown",
   "id": "82765f27",
   "metadata": {},
   "source": [
    "### Description: \n",
    "\n",
    "Driven cavity with cosine thermal power and thermal exchange with uniform external temperature"
   ]
  },
  {
   "cell_type": "code",
   "execution_count": null,
   "id": "15189bb2-352d-48f9-85fa-64c4323e0f88",
   "metadata": {},
   "outputs": [],
   "source": [
    "from trustutils.jupyter import run\n",
    "\n",
    "cp = 3075.0\n",
    "h = 1e6\n",
    "dis = [(\"VDF\", \"-\"), (\"Polymac_P0\", \"o\")]\n",
    "cases = {\"pb_multiphase\" : [\"energie_multiphase\", \"temperature\", 900, h], \"pb_multiphase_h\" : [\"energie_multiphase_h\", \"enthalpie\", cp * 900, h / cp]}\n",
    "\n",
    "run.reset()\n",
    "for pb, (eq, ch, val, h) in cases.items():\n",
    "    for d, _ in dis:\n",
    "        run.addCaseFromTemplate(f\"jdd.data\", f\"{d}/{pb}\", { \"dis\" : d, \"pb\" : pb, \"eq\" : eq, \"champ\" : ch, \"val\" : val, \"h\" : h, \"Text\" : val})\n",
    "\n",
    "run.printCases()\n",
    "run.runCases()\n",
    "run.tablePerf()"
   ]
  },
  {
   "cell_type": "code",
   "execution_count": null,
   "id": "a4e5dc4c",
   "metadata": {},
   "outputs": [],
   "source": [
    "from trustutils import plot\n",
    "import numpy as np\n",
    "\n",
    "a = plot.Graph(\"Time steps\")\n",
    "\n",
    "for pb in cases:\n",
    "    for d, m in dis:\n",
    "        dt_ev = np.loadtxt(f\"{run.BUILD_DIRECTORY}/{d}/{pb}/jdd.dt_ev\")\n",
    "        a.add(dt_ev[:, 0], dt_ev[:, 1], label=f\"{d}/{pb}\", marker=m)"
   ]
  },
  {
   "cell_type": "code",
   "execution_count": null,
   "id": "4ffbd79b",
   "metadata": {},
   "outputs": [],
   "source": [
    "import numpy as np\n",
    "a = plot.Graph(label_size=16, title_size=24, legend_size=16)\n",
    "\n",
    "for pb in cases:\n",
    "    for d, m in dis:\n",
    "        data = np.loadtxt(f\"{run.BUILD_DIRECTORY}/{d}/{pb}/jdd.newton_evol\", usecols=(0, 2))\n",
    "        a.add(data[:,0], data[:,1], label=f\"{d}/{pb}\", marker=m)\n",
    "\n",
    "        a.label(\"time\",\"Itr Newton\")\n"
   ]
  },
  {
   "cell_type": "code",
   "execution_count": null,
   "id": "92a2bdd6",
   "metadata": {},
   "outputs": [],
   "source": [
    "from math import ceil\n",
    "\n",
    "vars = (\"V\", \"T\", \"H\")\n",
    "for phase in [0, 1]:\n",
    "    a = plot.Graph(f\"phase {phase}\", nY=len(vars))\n",
    "    for j, var in enumerate(vars):\n",
    "        a.addPlot(j, f\"Variable {var}\")\n",
    "        for pos in [\"A\", \"B\"]:\n",
    "            for pb in cases:\n",
    "                for d, m in dis:\n",
    "                    compo = 2 * (1 if var == \"V\" else 0) + phase\n",
    "                    a.addSegment(f\"{run.BUILD_DIRECTORY}/{d}/{pb}/jdd_{var}_{pos}.son\", label=f\"{pos}, {d}/{pb}\", compo=compo, marker=\"o\" if pb == \"pb_multiphase\" else \"-\")\n"
   ]
  }
 ],
 "metadata": {
  "kernelspec": {
   "display_name": "Python 3 (ipykernel)",
   "language": "python",
   "name": "python3"
  },
  "language_info": {
   "codemirror_mode": {
    "name": "ipython",
    "version": 3
   },
   "file_extension": ".py",
   "mimetype": "text/x-python",
   "name": "python",
   "nbconvert_exporter": "python",
   "pygments_lexer": "ipython3",
   "version": "3.12.5"
  }
 },
 "nbformat": 4,
 "nbformat_minor": 5
}
