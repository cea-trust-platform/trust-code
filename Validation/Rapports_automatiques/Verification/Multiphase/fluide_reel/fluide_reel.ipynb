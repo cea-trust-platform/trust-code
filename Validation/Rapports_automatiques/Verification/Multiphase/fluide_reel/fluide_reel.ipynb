{
 "cells": [
  {
   "cell_type": "markdown",
   "id": "gross-patent",
   "metadata": {},
   "source": [
    "# Fluide reel"
   ]
  },
  {
   "cell_type": "code",
   "execution_count": null,
   "id": "a8bd1fc2",
   "metadata": {},
   "outputs": [],
   "source": [
    "from trustutils.jupyter import run\n",
    "\n",
    "run.introduction(\"Yannick Gorsse\")\n",
    "\n",
    "run.TRUST_parameters()"
   ]
  },
  {
   "cell_type": "markdown",
   "id": "91341980",
   "metadata": {},
   "source": [
    "### Description: \n",
    "\n",
    "Utilisation d'un fluide a (P, T) fixes comme un fluide incompressible dans un Pb_Thermohydraulique"
   ]
  },
  {
   "cell_type": "code",
   "execution_count": null,
   "id": "15189bb2-352d-48f9-85fa-64c4323e0f88",
   "metadata": {},
   "outputs": [],
   "source": [
    "from trustutils.jupyter import run\n",
    "\n",
    "run.reset()\n",
    "liste_dis = [\"VDF\", \"PolyMAC_P0P1NC\", \"PolyMAC_P0\"]\n",
    "for pb in [\"ThHyd\", \"Hyd\"]:\n",
    "    for dis in liste_dis:\n",
    "        run.addCaseFromTemplate(f\"jdd_{pb}.data\", dis, {\"dis\" : dis})\n",
    "\n",
    "run.printCases()\n",
    "run.runCases()"
   ]
  },
  {
   "cell_type": "code",
   "execution_count": null,
   "id": "92a2bdd6",
   "metadata": {},
   "outputs": [],
   "source": [
    "from trustutils import plot\n",
    "from math import ceil\n",
    "\n",
    "dvars = {\n",
    "    \"Hyd\": (\"V\", \"P\", \"RHO\", \"MU\", \"NU\"),\n",
    "    \"ThHyd\": (\"V\", \"P\", \"RHO\", \"MU\", \"NU\", \"LAMBDA\", \"CP\"),\n",
    "}\n",
    "\n",
    "for pb, vars in dvars.items():\n",
    "    a = plot.Graph(pb, nX=len(vars))\n",
    "    for i, var in enumerate(vars):\n",
    "        a.addPlot(i, f\"Variable {var}\")\n",
    "        for dis in liste_dis:\n",
    "            a.addSegment(\n",
    "                f\"{run.BUILD_DIRECTORY}/{dis}/jdd_{pb}_{var}.son\",\n",
    "                label=dis,\n",
    "                compo=(1 if var == \"V\" else 0),\n",
    "            )"
   ]
  }
 ],
 "metadata": {
  "kernelspec": {
   "display_name": "base",
   "language": "python",
   "name": "python3"
  },
  "language_info": {
   "codemirror_mode": {
    "name": "ipython",
    "version": 3
   },
   "file_extension": ".py",
   "mimetype": "text/x-python",
   "name": "python",
   "nbconvert_exporter": "python",
   "pygments_lexer": "ipython3",
   "version": "3.8.19"
  }
 },
 "nbformat": 4,
 "nbformat_minor": 5
}
