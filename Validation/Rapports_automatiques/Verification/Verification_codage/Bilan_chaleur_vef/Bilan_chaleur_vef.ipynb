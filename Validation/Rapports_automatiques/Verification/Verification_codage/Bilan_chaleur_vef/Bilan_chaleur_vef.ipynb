{
 "cells": [
  {
   "cell_type": "markdown",
   "id": "bigger-analysis",
   "metadata": {},
   "source": [
    "# 2D Channel flow with imposed Twall and volumetric power"
   ]
  },
  {
   "cell_type": "code",
   "execution_count": null,
   "id": "8ce508eb",
   "metadata": {},
   "outputs": [],
   "source": [
    "from trustutils import run\n",
    "run.introduction(\"Simone Vandroux\")"
   ]
  },
  {
   "cell_type": "markdown",
   "id": "37a61e2e",
   "metadata": {},
   "source": [
    "### Description\n",
    "\n",
    "2D Channel flow with imposed wall temperature and imposed volumetric power for tests on extended volumes for the thermal equation\n",
    "\n",
    "* Effect of the extended volumes for the diffusion terms and the mass terms of the heat conservation equation.\n",
    "* Effect of the mesh\n",
    "* Effect of the thermal convection scheme\n",
    "* Academic case with analytical solution\n"
   ]
  },
  {
   "cell_type": "code",
   "execution_count": null,
   "id": "fcdca297",
   "metadata": {},
   "outputs": [],
   "source": [
    "run.TRUST_parameters(\"1.5.4 + atelier volumes etendus\")"
   ]
  },
  {
   "cell_type": "code",
   "execution_count": null,
   "id": "55ea3860-80dd-44a3-b402-a0660ab8b39e",
   "metadata": {
    "tags": []
   },
   "outputs": [],
   "source": [
    "from trustutils import run\n",
    "run.addCase(\".\"    ,\"Canal_2D_grossier.data\")   \n",
    "run.addCase(\".\"    ,\"Canal_2D.data\")   \n",
    "run.addCase(\".\"    ,\"Canal_2D_fin.data\")   \n",
    "run.addCase(\".\"    ,\"Canal_2D_amont.data\")  \n",
    "run.addCase(\".\"    ,\"Canal_2D_muscl.data\")   \n",
    "run.addCase(\".\"    ,\"Canal_2D_EF_stab.data\")   \n",
    "run.addCase(\".\"    ,\"Canal_2D_negligeable.data\")\n",
    "run.printCases()\n",
    "run.runCases()\n",
    "run.executeScript(\"calcul_nb_mailles\")"
   ]
  },
  {
   "cell_type": "markdown",
   "id": "cc6a435a-ede9-4012-80b2-51856781d496",
   "metadata": {},
   "source": [
    "## Test Description\n",
    "\n",
    "**Tested options**\n",
    "\n",
    "Type of flow:\t\t            Thermohydraulic laminar 2D \\\n",
    "Time scheme:                    Euler explicite\\\n",
    "Convection schemes:             Amont, muscl, EF_stab {volumes_etendus} \\\n",
    "Discretization:                 VEFPreP1b            \\\n",
    "Type of boundary conditions:    Momentum: periodic and symetry\\\n",
    "                                Energy: periodic and imposed temperature \\\n",
    "Type of fluid:                  properties of helium gas at 700°C           \n",
    " \n",
    "**Physical properties**\n",
    "\n",
    "The physical properties correspond to the properties of Helium at 700°C\\\n",
    "$\\rho = 4.40684\\: kg\\cdot m^{-3}$\\\n",
    "$\\mu  = 4.46437e-05 Pa \\cdots$ \\\n",
    "$\\lambda = 0.344964 \\: W\\cdot m^{-1}\\cdot K^{-1}$\\\n",
    "$Cp = 5193 J/kg/K$\\\n",
    "$\\beta =  0.0014285714\\:  K^{-1}$\\\n",
    "Pr =  0.67 \n",
    "    \n",
    "**Boundary limits**\n",
    "\n",
    "Hydraulic: symetry at walls \\\n",
    "Energy: imposed temperature T=0 at walls, imposed volumetric power=1 in the calculation domain\n",
    "  \n",
    "**Initial conditions**\n",
    "\n",
    "For this periodic calculation, the exact temperature solution is a parabolic profile:\\\n",
    "$T(y)=\\frac{P}{\\lambda}\\cdot\\frac{y}{2}\\cdot(y-H)$ \\\n",
    "It is imposed as an initial temperature profile. \n",
    "  \n",
    "**Solving of equations**\n",
    "  \n",
    "**Equation Navier_Stokes_standard**\n",
    "\n",
    "**Pressure solver:** solveur_pression Gcp { precond ssor { omega 1.5 } seuil 1.e-10\\\n",
    "**Source term:**   Canal_perio { bord periox }  \n",
    "                \n",
    "**Equation convection_diffusion_temperature**\n",
    "Sources term: Puissance_Thermique Champ_Uniforme 1 1"
   ]
  },
  {
   "cell_type": "markdown",
   "id": "fd1a2685",
   "metadata": {},
   "source": [
    "### Geometry"
   ]
  },
  {
   "cell_type": "markdown",
   "id": "93d75335-4acf-4ec9-88c9-8ddfbcf5e724",
   "metadata": {},
   "source": [
    "![](src/cas_test_3.jpg)"
   ]
  },
  {
   "cell_type": "markdown",
   "id": "b7174af8-d604-45a3-aca6-1eec5424d3b4",
   "metadata": {},
   "source": [
    "### Coarse mesh"
   ]
  },
  {
   "cell_type": "code",
   "execution_count": null,
   "id": "41359364-1962-4278-baf5-04b8baa87e92",
   "metadata": {
    "tags": []
   },
   "outputs": [],
   "source": [
    "from trustutils import visit\n",
    "\n",
    "Graph=visit.Show(\"./Canal_2D_grossier.lata\",\"Pseudocolor\",\"TEMPERATURE_ELEM_dom_pb2\",mesh=\"dom_pb2\")\n",
    "Graph.addField(\"./Canal_2D_grossier.lata\",\"Vector\",\"VITESSE_ELEM_dom_pb2\")\n",
    "Graph.blackVector()\n",
    "Graph.plot()"
   ]
  },
  {
   "cell_type": "markdown",
   "id": "7a7e1a13-7ec5-43af-bddb-44ceb21e9010",
   "metadata": {},
   "source": [
    "### Standard mesh"
   ]
  },
  {
   "cell_type": "code",
   "execution_count": null,
   "id": "c7b17c0b-7a0d-4779-aca9-f8700fbaa42f",
   "metadata": {},
   "outputs": [],
   "source": [
    "Graph=visit.Show(\"./Canal_2D.lata\",\"Pseudocolor\",\"TEMPERATURE_ELEM_dom_pb2\",mesh=\"dom_pb2\")\n",
    "Graph.addField(\"./Canal_2D.lata\",\"Vector\",\"VITESSE_ELEM_dom_pb2\",mesh='dom_pb2')\n",
    "Graph.blackVector()\n",
    "Graph.plot()"
   ]
  },
  {
   "cell_type": "markdown",
   "id": "0ea0c00e-1358-4804-992f-e44d4e9776fd",
   "metadata": {},
   "source": [
    "### Refined mesh\n"
   ]
  },
  {
   "cell_type": "code",
   "execution_count": null,
   "id": "150fb441-cddf-4a4d-b6a8-e820e05ee6e0",
   "metadata": {},
   "outputs": [],
   "source": [
    "Graph=visit.Show(\"./Canal_2D_fin.lata\",\"Pseudocolor\",\"TEMPERATURE_ELEM_dom_pb2\",mesh=\"dom_pb2\")\n",
    "Graph.addField(\"./Canal_2D_fin.lata\",\"Vector\",\"VITESSE_ELEM_dom_pb2\")\n",
    "Graph.blackVector()\n",
    "Graph.plot()"
   ]
  },
  {
   "cell_type": "markdown",
   "id": "b1a958f2-622b-41ff-a41e-8e36629b1324",
   "metadata": {},
   "source": [
    "## Effect of the extended volumes on the mass terms\n",
    "\n",
    "The objective of the calculation is to test the energy conservation in the calculation domain.\\\n",
    "The  integration  of  the  energy  conservation  equation  on  the  calculation  domain  leads  to  the  following equality:\\\n",
    "Flux at the wall \\* Length of the wall = Imposed volumetric power  \\* Domain Volume. \\\n",
    "The Heat flux at the wall is taken from the file Diffusionchaleur.out\\\n",
    "The volumetric power is imposed in the input data set\\\n",
    "This calculation is an ’academic’ case, and is not supposed to have a real physical meaning.\\\n",
    "The calculations without the extended volumes will have errors on the heat flux calculation, as the volumeof the small cells next to the wall are not counted in the volume of the calculation domain. The more refined the mesh will be, the smaller this error will be."
   ]
  },
  {
   "cell_type": "markdown",
   "id": "63946e75-41a3-42c4-89bf-bf84b3ac1214",
   "metadata": {},
   "source": [
    "### Heat flux as a function of time for various meshings"
   ]
  },
  {
   "cell_type": "markdown",
   "id": "95b37ab4-e84e-4f8d-8931-1d5ac197ea68",
   "metadata": {},
   "source": [
    "The  graph  below  shows  the  heat  flux  as  a  function  of  time  for  the  various  meshes  studied.   They  are compared to the real power imposed in the input data set.\\\n",
    "The calculation stops when the calculation has reached a stationary sate."
   ]
  },
  {
   "cell_type": "code",
   "execution_count": null,
   "id": "67292381-c319-4315-8d93-681ff362c54b",
   "metadata": {},
   "outputs": [],
   "source": [
    "from trustutils import plot\n",
    "import numpy as np \n",
    "\n",
    "Graph=plot.Graph(\"Heat flux as a function of time for various meshings\")\n",
    "data=plot.loadText(\"./Canal_2D_grossier_pb2_Diffusion_chaleur.out\")\n",
    "Graph.add(data[0],-data[1],\"-|\",label=\"-Flux bord coarse mesh\")\n",
    "data=plot.loadText(\"./Canal_2D_pb2_Diffusion_chaleur.out\")\n",
    "Graph.add(data[0],-data[1],\"-x\",label=\"-Flux bord standard mesh\")\n",
    "data=plot.loadText(\"./Canal_2D_fin_pb2_Diffusion_chaleur.out\")\n",
    "Graph.add(data[0],-data[1],\"-s\",label=\"-Flux bord refined mesh\")\n",
    "data=plot.loadText(\"./Canal_2D_pb2_Puissance_Thermique.out\")\n",
    "Graph.add(data[0],data[1],\"-*\",label=\"Total power\")\n",
    "Graph.label(\"time (in s)\", \"Heat flux at the wall (in W)\")\n",
    "Graph.visu()"
   ]
  },
  {
   "cell_type": "markdown",
   "id": "c846d3f6-2b72-4bd4-90f0-ab2670047f4a",
   "metadata": {},
   "source": [
    "### Heat flux as a function of time for various thermal convective schemes\n",
    "The graph below shows the heat flux as a function of time for the various convective schemes studied.They are compared to the real power imposed in the input data set.\n",
    "\n",
    "The calculation stops when the calculation has reached a stationary sate."
   ]
  },
  {
   "cell_type": "code",
   "execution_count": null,
   "id": "eb121876-1845-47bc-a948-683d0b49cfe9",
   "metadata": {},
   "outputs": [],
   "source": [
    "Graph=plot.Graph(\"Heat flux as a function of time for various thermal convective schemes\")\n",
    "data=plot.loadText(\"./Canal_2D_amont_pb2_Diffusion_chaleur.out\")\n",
    "Graph.add(data[0],-data[1],\"-|\",label=\"-Flux_bord amont\")\n",
    "data=plot.loadText(\"./Canal_2D_muscl_pb2_Diffusion_chaleur.out\")\n",
    "Graph.add(data[0],-data[1],\"-x\",label=\"-Flux bord muscl\")\n",
    "data=plot.loadText(\"./Canal_2D_EF_stab_pb2_Diffusion_chaleur.out\")\n",
    "Graph.add(data[0],-data[1],\"-s\",label=\"-Flux bord EF_stab\")\n",
    "data=plot.loadText(\"./Canal_2D_negligeable_pb2_Diffusion_chaleur.out\")\n",
    "Graph.add(data[0],-data[1],\"-*\",label=\"-Flux bord negligeable\") \n",
    "data=plot.loadText(\"./Canal_2D_amont_pb2_Puissance_Thermique.out\")\n",
    "Graph.add(data[0],data[1],\"-*\",label=\"-Total Power\") \n",
    "Graph.label(\"time (in s)\", \"Heat flux at the wall (in W)\")\n",
    "Graph.visu()"
   ]
  },
  {
   "cell_type": "markdown",
   "id": "b32f5185-9b55-40dc-b580-04ae4119fcc1",
   "metadata": {},
   "source": [
    "### Temperature profile in the channel for various meshings\n",
    "The graph below shows the temperature profiles in the channel for the various meshes studied.  They are compared to the analytical solution."
   ]
  },
  {
   "cell_type": "code",
   "execution_count": null,
   "id": "9345965a-5b70-41d2-99cd-0e49c7e4cade",
   "metadata": {},
   "outputs": [],
   "source": [
    "Graph=plot.Graph(\"Temperature profile in the channel for various meshings\")  \n",
    "Graph.addSegment(\"./Canal_2D_grossier_PROF_SORTIE_T.son\",label=\"coarse mesh\",marker=\"-s\") \n",
    "Graph.addSegment(\"./Canal_2D_PROF_SORTIE_T.son\",label=\"standard mesh\",color=\"g\",marker=\"-*\") \n",
    "Graph.addSegment(\"./Canal_2D_fin_PROF_SORTIE_T.son\",label=\"refined mesh\",color=\"y\",marker=\"-+\") \n",
    "x=np.linspace(0,2,100)\n",
    "Graph.add(x,-1/0.344964*x/2.*(x-2),label=\"analytical solution\",color=\"r\")\n",
    "Graph.label(\"Height in the channel (in m)\", \"Temperature (in T)\")\n",
    "Graph.visu()"
   ]
  },
  {
   "cell_type": "markdown",
   "id": "5f38c169-068d-4d45-8d7e-d0351a0c8cec",
   "metadata": {},
   "source": [
    "### Temperature profile in the channel\n",
    "The graph below shows the temperature profiles in the channel for the various convective scheme studied.They are compared to the analytical solution."
   ]
  },
  {
   "cell_type": "code",
   "execution_count": null,
   "id": "5b2f2f9b-61ad-4b06-9786-a9ad65b1a271",
   "metadata": {},
   "outputs": [],
   "source": [
    "Graph=plot.Graph(\"Temperature profile in the channel\")  \n",
    "Graph.addSegment(\"./Canal_2D_amont_PROF_SORTIE_T.son\",label=\"amont\",marker=\"-s\") \n",
    "Graph.addSegment(\"./Canal_2D_muscl_PROF_SORTIE_T.son\",label=\"muscl\",color=\"g\",marker=\"-*\") \n",
    "Graph.addSegment(\"./Canal_2D_EF_stab_PROF_SORTIE_T.son\",label=\"EF_stab\",color=\"y\",marker=\"-+\") \n",
    "Graph.addSegment(\"./Canal_2D_negligeable_PROF_SORTIE_T.son\",label=\"negligeable\",color=\"m\",marker=\"-o\") \n",
    "x=np.linspace(0,2,100)\n",
    "Graph.add(x,-1/0.344964*x/2.*(x-2),label=\"analytical solution\",color=\"r\")\n",
    "Graph.label(\"Height in the channel (in m)\", \"Temperature (in T)\")\n",
    "Graph.visu()"
   ]
  },
  {
   "cell_type": "markdown",
   "id": "10df0801-60a2-4cdb-b5e8-ee0fd5358878",
   "metadata": {},
   "source": [
    "### Relative error on the heat flux function of the mesh refinement :  curve"
   ]
  },
  {
   "cell_type": "code",
   "execution_count": null,
   "id": "93c9938e-a734-4fa1-9295-130c3d61197c",
   "metadata": {},
   "outputs": [],
   "source": [
    "Graph=plot.Graph(\"Relative error on the heat flux function of the mesh refinement :  curve\")   \n",
    "x=plot.loadText(\"fin_total\")\n",
    "Graph.add(x[0],x[1],\"r+\",label=\"Error\")\n",
    "Graph.label(\"Number of cells in the mesh\", r\"Relative error in $\\%$\")\n",
    "Graph.visu()"
   ]
  },
  {
   "cell_type": "markdown",
   "id": "738514de-ce4d-469b-8781-34bb08f513ed",
   "metadata": {},
   "source": [
    "### Relative error on the heat flux function of the mesh refinement :  Table"
   ]
  },
  {
   "cell_type": "code",
   "execution_count": null,
   "id": "330ae3bd-7c72-428b-b4ee-9d757b7f50b1",
   "metadata": {
    "tags": []
   },
   "outputs": [],
   "source": [
    "Tableau=plot.Table([ r'Flux total en W',r'erreur en $\\%$'])\n",
    "data=plot.loadText(\"./fin_Canal_2D_grossier.out\")\n",
    "data=[data[1],(data[1]+10.)/(10.)*100]\n",
    "Tableau.addLine([data],\"coarse mesh\")\n",
    "\n",
    "data=plot.loadText(\"./fin_Canal_2D.out\")\n",
    "data=[data[1],(data[1]+10.)/(10.)*100]\n",
    "Tableau.addLine([data],\"standard mesh EF_stab\")\n",
    "\n",
    "data=plot.loadText(\"./fin_Canal_2D_amont.out\")\n",
    "data=[data[1],(data[1]+10.)/(10.)*100]\n",
    "Tableau.addLine([data],\"standard mesh amont\")\n",
    " \n",
    "data=plot.loadText(\"./fin_Canal_2D_muscl.out\")\n",
    "data=[data[1],(data[1]+10.)/(10.)*100]\n",
    "Tableau.addLine([data],\"standard mesh muscl\")\n",
    "\n",
    "data=plot.loadText(\"./fin_Canal_2D_negligeable.out\")\n",
    "data=[data[1],(data[1]+10.)/(10.)*100]\n",
    "Tableau.addLine([data],\"standard mesh negligeable\")\n",
    "\n",
    "data=plot.loadText(\"./fin_Canal_2D_fin.out\")\n",
    "data=[data[1],(data[1]+10.)/(10.)*100]\n",
    "Tableau.addLine([data],\"refined mesh\")\n",
    "\n",
    "display(Tableau)"
   ]
  }
 ],
 "metadata": {
  "kernelspec": {
   "display_name": "Python 3 (ipykernel)",
   "language": "python",
   "name": "python3"
  },
  "language_info": {
   "codemirror_mode": {
    "name": "ipython",
    "version": 3
   },
   "file_extension": ".py",
   "mimetype": "text/x-python",
   "name": "python",
   "nbconvert_exporter": "python",
   "pygments_lexer": "ipython3",
   "version": "3.12.5"
  },
  "toc-autonumbering": false,
  "toc-showmarkdowntxt": false,
  "toc-showtags": false
 },
 "nbformat": 4,
 "nbformat_minor": 5
}
