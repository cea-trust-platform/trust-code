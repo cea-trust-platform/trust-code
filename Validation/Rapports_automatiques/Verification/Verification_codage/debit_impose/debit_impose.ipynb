{
 "cells": [
  {
   "cell_type": "markdown",
   "id": "inappropriate-lingerie",
   "metadata": {},
   "source": [
    "# Cas test debit"
   ]
  },
  {
   "cell_type": "code",
   "execution_count": null,
   "id": "1225ffad",
   "metadata": {},
   "outputs": [],
   "source": [
    "from trustutils import run\n",
    "\n",
    "run.introduction(\"G. F.\")\n",
    "\n",
    "run.TRUST_parameters()"
   ]
  },
  {
   "cell_type": "markdown",
   "id": "b82bec11",
   "metadata": {},
   "source": [
    "### Description: \n",
    "\n",
    "Calculs menes en VEF ou VDF."
   ]
  },
  {
   "cell_type": "code",
   "execution_count": null,
   "id": "1181ad13-5719-4d65-aff3-a6f95a002976",
   "metadata": {},
   "outputs": [],
   "source": [
    "from trustutils import run\n",
    "import os\n",
    "\n",
    "cas1 = run.addCase(\".\",\"test_opt.data\")\n",
    "\n",
    "cas2 = cas1.copy(\"test_opt2.data\")\n",
    "cas2.substitute(\"champ_front_uniforme 1 5.\",\"ch_front_input_uniforme { probleme pb initial_value 1 5 nom debit nb_comp 1 }\")\n",
    "run.addCase(cas2)\n",
    "\n",
    "cas3 = cas1.copy(\"test_opt3.data\")\n",
    "cas3.substitute(\"champ_front_uniforme 1 5.\",\"champ_front_fonc_t 1 (1+4*t/10)\")\n",
    "run.addCase(cas3)\n",
    "\n",
    "cas4 = cas1.copy(\"champ_normal_var.data\")\n",
    "cas4.substitute(\"champ_front_debit champ_front_uniforme 1 5.\",\" Boundary_field_inward  { normal_value (1+4*t/10)/0.193136 }\")\n",
    "run.addCase(cas4)\n",
    "\n",
    "cas5 = run.addCase(\".\",\"Champ_front_debit.data\")\n",
    "\n",
    "run.runCases()\n",
    "\n",
    "cas6 = cas5.copy(\"testCL.data\")\n",
    "\n",
    "origin, build_dir = os.getcwd(), run.BUILD_DIRECTORY\n",
    "os.chdir(build_dir)\n",
    "f_data = open(\"Champ_front_debit.data\",\"r\")\n",
    "for line in f_data.readlines():\n",
    "    if line.find(\"dimension\") != -1:\n",
    "        dim = line.split()[-1]\n",
    "    if line.find(\"champ_front_debit\") != -1:\n",
    "        Q_inlet = line.split()[-1]\n",
    "f_data.close()\n",
    "\n",
    "f_err = open(\"Champ_front_debit.err\",\"r\")\n",
    "for line in f_err.readlines():\n",
    "    if line.find(\"Area of entree\") != -1:\n",
    "        A_inlet = line.split()[-1]\n",
    "f_err.close()\n",
    "os.chdir(origin)\n",
    "\n",
    "Vit_CLentree = float(Q_inlet)/float(A_inlet)\n",
    "\n",
    "cas6.substitute(\"entree frontiere_ouverte_vitesse_imposee champ_front_debit Champ_Front_Uniforme 1  5\",\n",
    "               r\"entree frontiere_ouverte_vitesse_imposee Champ_Front_Uniforme %s %.1f 0. \" %(dim,Vit_CLentree))\n",
    "\n",
    "cas6.runCase()\n",
    "\n",
    "run.addCase(cas6)\n",
    "run.printCases()\n"
   ]
  },
  {
   "cell_type": "markdown",
   "id": "7acf203c-c772-4788-9dc0-5ec609412431",
   "metadata": {},
   "source": [
    "### References\n",
    "* moi_meme"
   ]
  },
  {
   "cell_type": "markdown",
   "id": "55ab7e2f-905c-4260-8e54-0e30f96da064",
   "metadata": {},
   "source": [
    "## VEF test:  calculated flow rate"
   ]
  },
  {
   "cell_type": "code",
   "execution_count": null,
   "id": "c8f7a6e0",
   "metadata": {},
   "outputs": [],
   "source": [
    "from trustutils import plot\n",
    "import numpy as np\n",
    "\n",
    "columns=[\"temps\",'debit']\n",
    "Tableau=plot.Table(columns)  \n",
    "\n",
    "data=plot.loadText(\"test_opt_pb_Debit.out\",transpose=False)\n",
    "data[-1][4] = -data[-1][4]\n",
    "Tableau.addLine([data[-1][0:5:4]],\"Calcul\")\n",
    "\n",
    "data=plot.loadText(\"test_opt2_pb_Debit.out\",transpose=False)\n",
    "data[-1][4] = -data[-1][4]\n",
    "Tableau.addLine([data[-1][0:5:4]],\"Calcul avec champ_input\")\n",
    "\n",
    "data=plot.loadText(\"test_opt3_pb_Debit.out\",transpose=False)\n",
    "data[-1][4] = -data[-1][4]\n",
    "Tableau.addLine([data[-1][0:5:4]],\"Calcul avec champ_front_fonc_txyz\")\n",
    "\n",
    "data=plot.loadText(\"champ_normal_var_pb_Debit.out\",transpose=False)\n",
    "data[-1][4] = -data[-1][4]\n",
    "Tableau.addLine([data[-1][0:5:4]],\"Calcul avec Boundary_field_inward variable\")\n",
    "\n",
    "Tableau.addLine([[10,5.]],\"voulu\") \n",
    "display(Tableau)"
   ]
  },
  {
   "cell_type": "markdown",
   "id": "growing-hundred",
   "metadata": {},
   "source": [
    "### Visualization of the velocity field on boundary IN \n",
    "\n",
    "The velocity should be uniform even if the surfaces are different."
   ]
  },
  {
   "cell_type": "code",
   "execution_count": null,
   "id": "coated-fields",
   "metadata": {
    "tags": []
   },
   "outputs": [],
   "source": [
    "from trustutils import visit \n",
    "\n",
    "a = visit.Show(\"./test_opt.lata\",\"Vector\",\"VITESSE_ELEM_IN\")\n",
    "a.normal3D([-0.0543768,-0.677396,0.733606])\n",
    "a.up3D([-0.407612, 0.685749,0.602993])\n",
    "a.plot()"
   ]
  },
  {
   "cell_type": "code",
   "execution_count": null,
   "id": "25a44dd1-d08c-46fd-93fa-8c5da290a5b7",
   "metadata": {},
   "outputs": [],
   "source": [
    "from trustutils import plot\n",
    "import numpy as np\n",
    "\n",
    "Graphique=plot.Graph()\n",
    "data=plot.loadText(\"test_opt3_pb_Debit.out\")\n",
    "Graphique.add(data[0],-data[4],marker=\"-|\",color=\"r\",label=\"Calculation with imposed flow rate\")\n",
    "data=plot.loadText(\"champ_normal_var_pb_Debit.out\")\n",
    "Graphique.add(data[0],-data[4],marker=\"-x\",color=\"g\",label=\"Calculation with imposed velocity\")\n",
    "x=np.linspace(0,10,10)\n",
    "y = 1.+4.*x/10.\n",
    "Graphique.add(x,y,marker=\"-\",color=\"b\",label=\"(1+4*x/10)\")\n",
    "Graphique.label(\"t\",\"debit\")\n"
   ]
  },
  {
   "cell_type": "markdown",
   "id": "applicable-container",
   "metadata": {},
   "source": [
    "### VDF test:  calculated flow rate"
   ]
  },
  {
   "cell_type": "code",
   "execution_count": null,
   "id": "1d629754-466a-4170-a37e-060b21a6213d",
   "metadata": {},
   "outputs": [],
   "source": [
    "from trustutils import plot\n",
    "\n",
    "columns=[\"temps\",'debit']\n",
    "Tableau=plot.Table(columns)  \n",
    "data=plot.loadText(\"Champ_front_debit_pb_Debit.out\",transpose=False)\n",
    "data[2][1] = -data[2][1]\n",
    "Tableau.addLine([data[2][0:2]],\"Calculation with imposed flow rate\")\n",
    "data=plot.loadText(\"testCL_pb_Debit.out\",transpose=False) \n",
    "data[2][1] = -data[2][1]\n",
    "Tableau.addLine([data[2][0:2]],\"Calculation with imposed velocity\") \n",
    "Tableau.addLine([[1.2,5.]],\"voulu\") \n",
    "display(Tableau)"
   ]
  },
  {
   "cell_type": "markdown",
   "id": "4b6d10b4-98be-49ec-a817-af18c36bbdd1",
   "metadata": {},
   "source": [
    "## Data Files\n",
    "\n",
    "### test_opt"
   ]
  },
  {
   "cell_type": "code",
   "execution_count": null,
   "id": "embedded-colleague",
   "metadata": {
    "scrolled": true
   },
   "outputs": [],
   "source": [
    "run.dumpDataset(\"./test_opt.data\") "
   ]
  }
 ],
 "metadata": {
  "kernelspec": {
   "display_name": "Python 3 (ipykernel)",
   "language": "python",
   "name": "python3"
  },
  "language_info": {
   "codemirror_mode": {
    "name": "ipython",
    "version": 3
   },
   "file_extension": ".py",
   "mimetype": "text/x-python",
   "name": "python",
   "nbconvert_exporter": "python",
   "pygments_lexer": "ipython3",
   "version": "3.12.5"
  }
 },
 "nbformat": 4,
 "nbformat_minor": 5
}
