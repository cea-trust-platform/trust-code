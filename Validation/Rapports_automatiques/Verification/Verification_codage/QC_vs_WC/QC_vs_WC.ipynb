{
 "cells": [
  {
   "cell_type": "markdown",
   "id": "boolean-earth",
   "metadata": {},
   "source": [
    "# Validating the implementation of a weakly compressible model in TRUST"
   ]
  },
  {
   "cell_type": "code",
   "execution_count": null,
   "id": "e143f2ea",
   "metadata": {},
   "outputs": [],
   "source": [
    "from trustutils import run\n",
    "\n",
    "run.introduction(r\"Elie Saikali, Adrien Bruneton \\& Ulrich Bieder\")\n",
    "\n",
    "run.TRUST_parameters(\"1.8.4\")"
   ]
  },
  {
   "cell_type": "markdown",
   "id": "21d1d2f8",
   "metadata": {},
   "source": [
    "### Description: \n",
    "\n",
    "The present document aims at validating the weakly compressible problem implemented in TRUST. Unlike the quasi-compressible formulation, the weakly compressible approximation employs the total pressure in the equation of state (which is both time and space dependent). In this paper we show that such a formulation is necessary when the hydrostatic pressure is important as it can influence significantly the physical properties of the fluid; mainly the density which is calculated from a state equation. Such situation appears in a wide range of engineering applications; lets say the temperature stratification in the atmosphere or the underground gaz storage for example... We consider a simplified rectangular cavity of width 1m and height 100 m, filled with air at rest. A free outlet is considered at the bottom boundary $(y=0)$ to avoid any  pressurization phenomenon (fixed hydro-static pressure). The remaining boundaries are adiabatic (no-slip for NS). The thermo-dynamic pressure is fixed to 1 bar (10.e5 Pa). Four simulations are considered and thus described in what follows.\n"
   ]
  },
  {
   "cell_type": "code",
   "execution_count": null,
   "id": "balanced-boating",
   "metadata": {},
   "outputs": [],
   "source": [
    "from trustutils import run\n",
    "run.addCase(\"QC\", \"Cas_QC.data\") \n",
    "for a in [\"\", \"_vef\"]:\n",
    "    for b in [\"WC1\", \"WC2\", \"WC3\"]:\n",
    "        run.addCase(\"%s%s\" % (b, a), \"Cas_WC.data\")\n",
    "\n",
    "run.printCases()\n",
    "run.runCases()"
   ]
  },
  {
   "cell_type": "markdown",
   "id": "9a7e2ff9",
   "metadata": {},
   "source": [
    "## Quasi-compressible formulation\n",
    "\n",
    "In order to illustrate the limitation of the quasi-compressible formulation in such a problem, we consider a uniform temperature (T) distribution in the cavity (equals to 333.15 K). This leads to a uniform density at the initial state (see figures 2.1 and 2.2). Since in the QC problem the constant/uniform thermo-dynamic pressure is used in the state equation, the temperature and rho fields remain constant till the steady state (see figures 2.3 and 2.4). This is WRONG and clearly shows the limitation of the QC model. \n",
    "\n",
    "### QC: T initial"
   ]
  },
  {
   "cell_type": "code",
   "execution_count": null,
   "id": "alert-shock",
   "metadata": {},
   "outputs": [],
   "source": [
    "from trustutils import visit\n",
    "\n",
    "visit.showField(\"QC/Cas_QC.lata\",\"Pseudocolor\",\"TEMPERATURE_ELEM_dom\",iteration=0,plotmesh=False)"
   ]
  },
  {
   "cell_type": "markdown",
   "id": "7983132c",
   "metadata": {},
   "source": [
    "### QC: rho initial"
   ]
  },
  {
   "cell_type": "code",
   "execution_count": null,
   "id": "c2107472",
   "metadata": {},
   "outputs": [],
   "source": [
    "visit.showField(\"QC/Cas_QC.lata\",\"Pseudocolor\",\"MASSE_VOLUMIQUE_ELEM_dom\",iteration=0,plotmesh=False)"
   ]
  },
  {
   "cell_type": "markdown",
   "id": "9f203b03",
   "metadata": {},
   "source": [
    "### QC: T steady state"
   ]
  },
  {
   "cell_type": "code",
   "execution_count": null,
   "id": "a0d5238a",
   "metadata": {},
   "outputs": [],
   "source": [
    "visit.showField(\"QC/Cas_QC.lata\",\"Pseudocolor\",\"TEMPERATURE_ELEM_dom\",plotmesh=False)"
   ]
  },
  {
   "cell_type": "markdown",
   "id": "34743816",
   "metadata": {},
   "source": [
    "### QC: rho steady state"
   ]
  },
  {
   "cell_type": "code",
   "execution_count": null,
   "id": "738f32f3",
   "metadata": {},
   "outputs": [],
   "source": [
    "visit.showField(\"QC/Cas_QC.lata\",\"Pseudocolor\",\"MASSE_VOLUMIQUE_ELEM_dom\",plotmesh=False)"
   ]
  },
  {
   "cell_type": "markdown",
   "id": "buried-worse",
   "metadata": {},
   "source": [
    "## Weakly compressible formulation - Case 1\n",
    "\n",
    "In the WC problem, several options are available for the pressure used in the state equation. In this test case we show that the WC problem is identical to the QC problem when the user defines the pressure independent of the hydro-static one (i.e: constant/uniform as in the QC). See figures 3.1-3.4 and compare with section 2 (same initial conditions are considered). This is also WRONG !"
   ]
  },
  {
   "cell_type": "markdown",
   "id": "8cc9c5ac",
   "metadata": {},
   "source": [
    "### WC - Case 1: T initial"
   ]
  },
  {
   "cell_type": "code",
   "execution_count": null,
   "id": "37c45a59",
   "metadata": {},
   "outputs": [],
   "source": [
    "visit.showField(\"WC1/Cas_WC.lata\",\"Pseudocolor\",\"TEMPERATURE_ELEM_dom\",iteration=0,plotmesh=False)"
   ]
  },
  {
   "cell_type": "markdown",
   "id": "8ce99ac7",
   "metadata": {},
   "source": [
    "### WC - Case 1: rho initial"
   ]
  },
  {
   "cell_type": "code",
   "execution_count": null,
   "id": "2b463b82",
   "metadata": {},
   "outputs": [],
   "source": [
    "visit.showField(\"WC1/Cas_WC.lata\",\"Pseudocolor\",\"MASSE_VOLUMIQUE_ELEM_dom\",iteration=0,plotmesh=False)"
   ]
  },
  {
   "cell_type": "markdown",
   "id": "c6091258",
   "metadata": {},
   "source": [
    "### WC - Case 1: T steady state"
   ]
  },
  {
   "cell_type": "code",
   "execution_count": null,
   "id": "022564d3",
   "metadata": {},
   "outputs": [],
   "source": [
    "visit.showField(\"WC1/Cas_WC.lata\",\"Pseudocolor\",\"TEMPERATURE_ELEM_dom\",plotmesh=False)"
   ]
  },
  {
   "cell_type": "markdown",
   "id": "2909983a",
   "metadata": {},
   "source": [
    "### WC - Case 1: rho steady state"
   ]
  },
  {
   "cell_type": "code",
   "execution_count": null,
   "id": "b24aee88",
   "metadata": {},
   "outputs": [],
   "source": [
    "visit.showField(\"WC1/Cas_WC.lata\",\"Pseudocolor\",\"MASSE_VOLUMIQUE_ELEM_dom\",plotmesh=False)"
   ]
  },
  {
   "cell_type": "markdown",
   "id": "4436a731",
   "metadata": {},
   "source": [
    "## Weakly compressible formulation - Case 2\n",
    "\n",
    "In this test case, the pressure used in the state equation is the sum of the thermo-dynamic and the hydro-static ones. We consider the same initial conditions at the begining of the simulation (uniform T       and rho). As we see in figures 4.3 and 4.4, the expected solution is obtained, which is a perfect linear stratified profile (light at the top and heavier at the bottom. Clearly, the steady state is a bit longer compared to before (5000 vs 8 seconds !). The exact solution is depicted in figure 4.5 and the error (w.r.t. the temperature) in figure 4.6. The solution is now CORRECT !"
   ]
  },
  {
   "cell_type": "markdown",
   "id": "eb5786f7",
   "metadata": {},
   "source": [
    "### WC - Case 2: T initial"
   ]
  },
  {
   "cell_type": "code",
   "execution_count": null,
   "id": "7641d4d6",
   "metadata": {},
   "outputs": [],
   "source": [
    "visit.showField(\"WC2/Cas_WC.lata\",\"Pseudocolor\",\"TEMPERATURE_ELEM_dom\",iteration=0,plotmesh=False)"
   ]
  },
  {
   "cell_type": "markdown",
   "id": "52fed529",
   "metadata": {},
   "source": [
    "### WC - Case 2: rho initial"
   ]
  },
  {
   "cell_type": "code",
   "execution_count": null,
   "id": "96a0387f",
   "metadata": {},
   "outputs": [],
   "source": [
    "visit.showField(\"WC2/Cas_WC.lata\",\"Pseudocolor\",\"MASSE_VOLUMIQUE_ELEM_dom\",iteration=0,plotmesh=False)"
   ]
  },
  {
   "cell_type": "markdown",
   "id": "f0bc19c0",
   "metadata": {},
   "source": [
    "### WC - Case 2: T steady state"
   ]
  },
  {
   "cell_type": "code",
   "execution_count": null,
   "id": "ced7625a",
   "metadata": {},
   "outputs": [],
   "source": [
    "visit.showField(\"WC2/Cas_WC.lata\",\"Pseudocolor\",\"TEMPERATURE_ELEM_dom\",plotmesh=False)"
   ]
  },
  {
   "cell_type": "markdown",
   "id": "844df607",
   "metadata": {},
   "source": [
    "### WC - Case 2: rho steady state"
   ]
  },
  {
   "cell_type": "code",
   "execution_count": null,
   "id": "935c453d",
   "metadata": {},
   "outputs": [],
   "source": [
    "visit.showField(\"WC2/Cas_WC.lata\",\"Pseudocolor\",\"MASSE_VOLUMIQUE_ELEM_dom\",plotmesh=False)"
   ]
  },
  {
   "cell_type": "markdown",
   "id": "036bbc5c",
   "metadata": {},
   "source": [
    "### WC - Case 2: T exact solution"
   ]
  },
  {
   "cell_type": "code",
   "execution_count": null,
   "id": "35b22fb8",
   "metadata": {},
   "outputs": [],
   "source": [
    "visit.showField(\"WC2/Cas_WC.lata\",\"Pseudocolor\",\"EXACT_T_ELEM_dom\",plotmesh=False)"
   ]
  },
  {
   "cell_type": "markdown",
   "id": "3a43d29f",
   "metadata": {},
   "source": [
    "### WC - Case 2: T relative error"
   ]
  },
  {
   "cell_type": "code",
   "execution_count": null,
   "id": "39908dcb",
   "metadata": {},
   "outputs": [],
   "source": [
    "visit.showField(\"WC2/Cas_WC.lata\",\"Pseudocolor\",\"ERROR_T_ELEM_dom\",plotmesh=False)"
   ]
  },
  {
   "cell_type": "markdown",
   "id": "561280a5",
   "metadata": {},
   "source": [
    "## Weakly compressible formulation - Case 3\n",
    "\n",
    "In order to test further the WC problem, we consider in this test case a different initial condition (the pressure of the EOS is kept the same as the previous case). As shown in figure 5.1, a stratified initial condition is considered with a sharp gradient (100 K difference for the temperature). Note that this leads to a heavy fluid on the top of a light one at the initial state (see rho iso-contours in figure 5.2). Clearly, this will lead to instabilities (Reyleigh-Taylor) since the light fluid will move to the top. After a long steady state, we record the expected T and rho profiles shown in figures 5.3 and 5.4 (with the light fluid at the top !) Compared with the exact solution (figure 5.5) and the error (in 5.6), we can clearly note that the solution is now CORRECT ! This validates the weakly compressible formulation implemented in TRUST."
   ]
  },
  {
   "cell_type": "markdown",
   "id": "cbc2569a",
   "metadata": {},
   "source": [
    "### WC - Case 3: T initial"
   ]
  },
  {
   "cell_type": "code",
   "execution_count": null,
   "id": "9885d0a5",
   "metadata": {},
   "outputs": [],
   "source": [
    "visit.showField(\"WC3/Cas_WC.lata\",\"Pseudocolor\",\"TEMPERATURE_ELEM_dom\",iteration=0,plotmesh=False)"
   ]
  },
  {
   "cell_type": "markdown",
   "id": "a62eba57",
   "metadata": {},
   "source": [
    "### WC - Case 3: rho initial"
   ]
  },
  {
   "cell_type": "code",
   "execution_count": null,
   "id": "bf01e675",
   "metadata": {},
   "outputs": [],
   "source": [
    "visit.showField(\"WC3/Cas_WC.lata\",\"Pseudocolor\",\"MASSE_VOLUMIQUE_ELEM_dom\",iteration=0,plotmesh=False)"
   ]
  },
  {
   "cell_type": "markdown",
   "id": "8d693c5c",
   "metadata": {},
   "source": [
    "### WC - Case 3: T steady state"
   ]
  },
  {
   "cell_type": "code",
   "execution_count": null,
   "id": "ebf2a204",
   "metadata": {},
   "outputs": [],
   "source": [
    "visit.showField(\"WC3/Cas_WC.lata\",\"Pseudocolor\",\"TEMPERATURE_ELEM_dom\",plotmesh=False)"
   ]
  },
  {
   "cell_type": "markdown",
   "id": "3db3a121",
   "metadata": {},
   "source": [
    "### WC - Case 3: rho steady state"
   ]
  },
  {
   "cell_type": "code",
   "execution_count": null,
   "id": "44d13780",
   "metadata": {},
   "outputs": [],
   "source": [
    "visit.showField(\"WC3/Cas_WC.lata\",\"Pseudocolor\",\"MASSE_VOLUMIQUE_ELEM_dom\",plotmesh=False)"
   ]
  },
  {
   "cell_type": "markdown",
   "id": "759a7029",
   "metadata": {},
   "source": [
    "### WC - Case 3: T exact solution"
   ]
  },
  {
   "cell_type": "code",
   "execution_count": null,
   "id": "12d0d2e8",
   "metadata": {},
   "outputs": [],
   "source": [
    "visit.showField(\"WC3/Cas_WC.lata\",\"Pseudocolor\",\"EXACT_T_ELEM_dom\",plotmesh=False)"
   ]
  },
  {
   "cell_type": "markdown",
   "id": "246f36ef",
   "metadata": {},
   "source": [
    "### WC - Case 3: T relative error"
   ]
  },
  {
   "cell_type": "code",
   "execution_count": null,
   "id": "07ba5c1b",
   "metadata": {},
   "outputs": [],
   "source": [
    "visit.showField(\"WC3/Cas_WC.lata\",\"Pseudocolor\",\"ERROR_T_ELEM_dom\",plotmesh=False)"
   ]
  },
  {
   "cell_type": "markdown",
   "id": "b623a05b",
   "metadata": {},
   "source": [
    "## Weakly compressible formulation - Case 1_vef\n",
    "\n",
    "Same as Case 1 but in VEF."
   ]
  },
  {
   "cell_type": "markdown",
   "id": "f7c93842",
   "metadata": {},
   "source": [
    "### WC - Case 1_vef: T steady state"
   ]
  },
  {
   "cell_type": "code",
   "execution_count": null,
   "id": "fa74ca37",
   "metadata": {},
   "outputs": [],
   "source": [
    "visit.showField(\"WC1_vef/Cas_WC.lata\",\"Pseudocolor\",\"TEMPERATURE_ELEM_dom\",plotmesh=False)"
   ]
  },
  {
   "cell_type": "markdown",
   "id": "2f0d0073",
   "metadata": {},
   "source": [
    "### WC - Case 1_vef: rho steady state"
   ]
  },
  {
   "cell_type": "code",
   "execution_count": null,
   "id": "b454d0c1",
   "metadata": {},
   "outputs": [],
   "source": [
    "visit.showField(\"WC1_vef/Cas_WC.lata\",\"Pseudocolor\",\"MASSE_VOLUMIQUE_ELEM_dom\",plotmesh=False)"
   ]
  },
  {
   "cell_type": "markdown",
   "id": "7e8c44e3",
   "metadata": {},
   "source": [
    "## Weakly compressible formulation - Case 2_vef\n",
    "\n",
    "Same as Case 2 but in VEF."
   ]
  },
  {
   "cell_type": "markdown",
   "id": "8f3fef8a",
   "metadata": {},
   "source": [
    "### WC - Case 2_vef: T steady state"
   ]
  },
  {
   "cell_type": "code",
   "execution_count": null,
   "id": "ec8730c4",
   "metadata": {},
   "outputs": [],
   "source": [
    "visit.showField(\"WC2_vef/Cas_WC.lata\",\"Pseudocolor\",\"TEMPERATURE_ELEM_dom\",plotmesh=False)"
   ]
  },
  {
   "cell_type": "markdown",
   "id": "aa688c12",
   "metadata": {},
   "source": [
    "### WC - Case 2_vef: rho steady state"
   ]
  },
  {
   "cell_type": "code",
   "execution_count": null,
   "id": "3398b627",
   "metadata": {},
   "outputs": [],
   "source": [
    "visit.showField(\"WC2_vef/Cas_WC.lata\",\"Pseudocolor\",\"MASSE_VOLUMIQUE_ELEM_dom\",plotmesh=False)"
   ]
  },
  {
   "cell_type": "markdown",
   "id": "db62408f",
   "metadata": {},
   "source": [
    "### WC - Case 2_vef: T exact solution"
   ]
  },
  {
   "cell_type": "code",
   "execution_count": null,
   "id": "5732f93c",
   "metadata": {},
   "outputs": [],
   "source": [
    "visit.showField(\"WC2_vef/Cas_WC.lata\",\"Pseudocolor\",\"EXACT_T_ELEM_dom\",plotmesh=False)"
   ]
  },
  {
   "cell_type": "markdown",
   "id": "e1ba2c38",
   "metadata": {},
   "source": [
    "### WC - Case 2_vef: T relative error"
   ]
  },
  {
   "cell_type": "code",
   "execution_count": null,
   "id": "39722171",
   "metadata": {},
   "outputs": [],
   "source": [
    "visit.showField(\"WC2_vef/Cas_WC.lata\",\"Pseudocolor\",\"ERROR_T_ELEM_dom\",plotmesh=False)"
   ]
  },
  {
   "cell_type": "markdown",
   "id": "2da3b52d",
   "metadata": {},
   "source": [
    "## Weakly compressible formulation - Case 3_vef\n",
    "\n",
    "Same as Case 3 but in VEF. ATTENTION : STEADY STATE IS NOT YET REACHED !!!!!!!!!"
   ]
  },
  {
   "cell_type": "markdown",
   "id": "9f2afac3",
   "metadata": {},
   "source": [
    "### WC - Case 3_vef: T steady state"
   ]
  },
  {
   "cell_type": "code",
   "execution_count": null,
   "id": "df346705",
   "metadata": {},
   "outputs": [],
   "source": [
    "visit.showField(\"WC3_vef/Cas_WC.lata\",\"Pseudocolor\",\"TEMPERATURE_ELEM_dom\",plotmesh=False)"
   ]
  },
  {
   "cell_type": "markdown",
   "id": "27887b38",
   "metadata": {},
   "source": [
    "### WC - Case 3_vef: rho steady state"
   ]
  },
  {
   "cell_type": "code",
   "execution_count": null,
   "id": "78f600ae",
   "metadata": {},
   "outputs": [],
   "source": [
    "visit.showField(\"WC3_vef/Cas_WC.lata\",\"Pseudocolor\",\"MASSE_VOLUMIQUE_ELEM_dom\",plotmesh=False)"
   ]
  },
  {
   "cell_type": "markdown",
   "id": "40861a91",
   "metadata": {},
   "source": [
    "### WC - Case 3_vef: T exact solution"
   ]
  },
  {
   "cell_type": "code",
   "execution_count": null,
   "id": "49261ee1",
   "metadata": {},
   "outputs": [],
   "source": [
    "visit.showField(\"WC3_vef/Cas_WC.lata\",\"Pseudocolor\",\"EXACT_T_ELEM_dom\",plotmesh=False)"
   ]
  },
  {
   "cell_type": "markdown",
   "id": "64b5061c",
   "metadata": {},
   "source": [
    "### WC - Case 3_vef: T relative error"
   ]
  },
  {
   "cell_type": "code",
   "execution_count": null,
   "id": "671d12bf",
   "metadata": {},
   "outputs": [],
   "source": [
    "visit.showField(\"WC3_vef/Cas_WC.lata\",\"Pseudocolor\",\"ERROR_T_ELEM_dom\",plotmesh=False)"
   ]
  },
  {
   "cell_type": "markdown",
   "id": "55a0a44a",
   "metadata": {},
   "source": [
    "## Conclusions\n",
    "\n",
    "In this report we show that the weakly compressible formulation (implemented recently in TRUST) is required for simulations that deal with an important  hydro-static pressure (large altitudes). The results obtained in VDF and VEF match well with the exact solution even with different initial conditions for the temperature and density and thus validate the model implementation."
   ]
  },
  {
   "cell_type": "markdown",
   "id": "66734f93",
   "metadata": {},
   "source": [
    "## Computer performance"
   ]
  },
  {
   "cell_type": "code",
   "execution_count": null,
   "id": "f379e7bf",
   "metadata": {},
   "outputs": [],
   "source": [
    "run.tablePerf()"
   ]
  }
 ],
 "metadata": {
  "kernelspec": {
   "display_name": "Python 3 (ipykernel)",
   "language": "python",
   "name": "python3"
  },
  "language_info": {
   "codemirror_mode": {
    "name": "ipython",
    "version": 3
   },
   "file_extension": ".py",
   "mimetype": "text/x-python",
   "name": "python",
   "nbconvert_exporter": "python",
   "pygments_lexer": "ipython3",
   "version": "3.12.5"
  }
 },
 "nbformat": 4,
 "nbformat_minor": 5
}
