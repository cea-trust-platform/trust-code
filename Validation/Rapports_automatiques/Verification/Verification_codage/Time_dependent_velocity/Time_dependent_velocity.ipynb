{
 "cells": [
  {
   "cell_type": "markdown",
   "id": "shaped-valuable",
   "metadata": {},
   "source": [
    "# Validation of Champ_front_fonc_t keyword"
   ]
  },
  {
   "cell_type": "code",
   "execution_count": null,
   "id": "176a5ab9",
   "metadata": {},
   "outputs": [],
   "source": [
    "from trustutils import run\n",
    "\n",
    "run.introduction(\"N. DJATI\")"
   ]
  },
  {
   "cell_type": "markdown",
   "id": "personalized-chaos",
   "metadata": {},
   "source": [
    "### Description"
   ]
  },
  {
   "cell_type": "markdown",
   "id": "latter-sphere",
   "metadata": {},
   "source": [
    "**Champ_front_fonc_t** is a keyword allowing to set time-dependent boundary conditions for vector and scalar quantities such as velocity, temperature, flow rate,... , etc.\n",
    "\n",
    "The current validation form aims to validate its implementation in VEF and VDF in 2D and 3D config-urations."
   ]
  },
  {
   "cell_type": "code",
   "execution_count": null,
   "id": "e5c08682",
   "metadata": {},
   "outputs": [],
   "source": [
    "run.TRUST_parameters(\"1.7.7\")"
   ]
  },
  {
   "cell_type": "code",
   "execution_count": null,
   "id": "historical-albuquerque",
   "metadata": {
    "tags": []
   },
   "outputs": [],
   "source": [
    "from trustutils import run\n",
    "run.addCase(\"test1_VDF\"    ,\"test.data\")  \n",
    "run.addCase(\"test1_VEF\"    ,\"test.data\")   \n",
    "run.addCase(\"test2_VDF\"    ,\"test.data\")   \n",
    "run.addCase(\"test2_VEF\"    ,\"test.data\")   \n",
    "run.addCase(\"test_3D_VDF\"  ,\"test_3D.data\")  \n",
    "run.addCase(\"test_3D_VEF\"  ,\"test_3D.data\")\n",
    "run.printCases()\n",
    "run.runCases()"
   ]
  },
  {
   "cell_type": "markdown",
   "id": "changing-reduction",
   "metadata": {},
   "source": [
    "## Check if champ_front_debit accepts champ_front_fonc_txyz"
   ]
  },
  {
   "cell_type": "markdown",
   "id": "million-phase",
   "metadata": {},
   "source": [
    "The development of **Champ_front_fonc_t**  first motivated by blocking the usage of **champ_front_fonc_t**  with **champ_front_fonc_t**. In the following, we check on a simple test case that the usage of **Champ_front_fonc_t**  is NOT ALLOWED with **Champ_front_fonc_t** . Inlet boundary condition in Champfrontdebit.data datafile:"
   ]
  },
  {
   "cell_type": "code",
   "execution_count": null,
   "id": "dying-training",
   "metadata": {
    "tags": []
   },
   "outputs": [],
   "source": [
    "run.dumpText(\"./test1_VDF/my_text\")"
   ]
  },
  {
   "cell_type": "markdown",
   "id": "focused-french",
   "metadata": {},
   "source": [
    "## Test cases description"
   ]
  },
  {
   "cell_type": "markdown",
   "id": "entitled-activity",
   "metadata": {},
   "source": [
    "In the current validation form, we consider the flow inside a (2D and 3D) plane channel.  We set a time dependent velocity at the inlet of the channel.  In addition, we impose symmetry boundary conditions on lateral walls in order to not alterate the velocity profile near walls and a null outlet pressure.  Furthermore, we neglect convection.\n",
    "\n",
    "\n",
    "We distinguish three different configurations.  The first one concerns an imposed velocity following the x-direction  (i.e.: $u_x=f(t)$  and $u_y=  0$  )  while  in  the  second  one  we  impose  an  inlet  velocity  in  they-direction (i.e.: $u_x= 0$ and $u_y=f(t)$ ) in 2D. In the last one, we impose a time dependend inlet velocity in the z-direction (i.e.: $u_x= 0$, $u_y= 0$ and $u_z=f(t)$ ) in 3D.\n",
    "\n",
    "\n",
    "For  all  cases,  we  access  to  the  average  inlet  velocity  from  TRUST  by  means  of  keywords **Definition Champs** and **Reduction_0D**."
   ]
  },
  {
   "cell_type": "markdown",
   "id": "embedded-dividend",
   "metadata": {},
   "source": [
    "### Testcase 1: $\\vec{u}= (2t+1,0)^t$"
   ]
  },
  {
   "cell_type": "code",
   "execution_count": null,
   "id": "french-variable",
   "metadata": {
    "tags": []
   },
   "outputs": [],
   "source": [
    "from trustutils import visit\n",
    "\n",
    "a = visit.Show(\"./test1_VDF/test.lata\", \"Vector\", \"VITESSE_ELEM_dom\",nY=2,title=\"VDF\")\n",
    "a.add(\"./test1_VEF/test.lata\", \"Vector\", \"VITESSE_ELEM_dom\",yIndice=1,title=\"VEF\")\n",
    "a.plot()"
   ]
  },
  {
   "cell_type": "markdown",
   "id": "confirmed-norfolk",
   "metadata": {},
   "source": [
    "### Testcase 2:  $\\vec{u}=(0,2 t^2+0.1)^t$"
   ]
  },
  {
   "cell_type": "code",
   "execution_count": null,
   "id": "dedicated-wilson",
   "metadata": {
    "tags": []
   },
   "outputs": [],
   "source": [
    "from trustutils import visit\n",
    "\n",
    "a = visit.Show(\"./test2_VDF/test.lata\", \"Vector\", \"VITESSE_ELEM_dom\",nY=2,title=\"VDF\")\n",
    "a.add(\"./test2_VEF/test.lata\", \"Vector\", \"VITESSE_ELEM_dom\",yIndice=1,title=\"VEF\")\n",
    "a.plot()"
   ]
  },
  {
   "cell_type": "markdown",
   "id": "suffering-musical",
   "metadata": {},
   "source": [
    "### Testcase 3:  $\\vec{u}=(0,0,t/2+0.1)^t$"
   ]
  },
  {
   "cell_type": "code",
   "execution_count": null,
   "id": "strange-endorsement",
   "metadata": {
    "tags": []
   },
   "outputs": [],
   "source": [
    "from trustutils import visit\n",
    "\n",
    "a = visit.Show(\"./test_3D_VDF/test_3D.lata\", \"Vector\", \"VITESSE_ELEM_inlet\",nY=2,title=\"VDF\")\n",
    "a.rotation3D([-45,45,0])\n",
    "a.add(\"./test_3D_VEF/test_3D.lata\", \"Vector\", \"VITESSE_ELEM_inlet\",yIndice=1,title=\"VEF\")  \n",
    "a.rotation3D([-45,45,0])\n",
    "a.plot()"
   ]
  },
  {
   "cell_type": "markdown",
   "id": "rotary-purpose",
   "metadata": {},
   "source": [
    "## Time evolution of inlet velocity"
   ]
  },
  {
   "cell_type": "code",
   "execution_count": null,
   "id": "stuck-tutorial",
   "metadata": {
    "scrolled": false,
    "tags": []
   },
   "outputs": [],
   "source": [
    "from trustutils import plot\n",
    "import numpy as np\n",
    "\n",
    "x=np.linspace(0,5,100)\n",
    "\n",
    "graphique=plot.Graph(\"testcase 1:u(2t+1,0)\",nX=2,nY=2) \n",
    "graphique.addPoint('./test1_VDF/test_VITESSE_U.son',marker=\"-|\" ,color='r',compo=0 ,label=\"VDF\")  \n",
    "graphique.addPoint('./test1_VEF/test_VITESSE_U.son',marker=\"-x\" ,color='g',compo=0 ,label=\"VEF\")  \n",
    "graphique.add(x,2*x+1,color=\"k\",label=\"imposed ux\")\n",
    "graphique.visu(0,5,0,12)\n",
    "\n",
    "graphique.addPlot([0,1],\"testcase 2:0,2t^2+0.1\")\n",
    "graphique.addPoint('./test2_VDF/test_VITESSE_U.son',marker=\"-|\"   ,color='r'     ,compo=1 ,label=\"VDF\") \n",
    "graphique.addPoint('./test2_VEF/test_VITESSE_U.son',marker=\"-x\"   ,color='g'     ,compo=1 ,label=\"VEF\")  \n",
    "graphique.add(x,2*x**2+0.1,color=\"k\",label=\"imposed ux\")\n",
    "graphique.visu(0,5,0,60)\n",
    "\n",
    "graphique.addPlot([1,0],\"testcase 3:u(0,0,t/2+0.1)\") \n",
    "graphique.addPoint('./test_3D_VEF/test_3D_VITESSE_U.son',marker=\"-|\" , color='r'     ,compo=2 ,label=\"VDF\")  \n",
    "graphique.addPoint('./test_3D_VEF/test_3D_VITESSE_U.son',marker=\"-x\" , color='g'     ,compo=2 ,label=\"VEF\")  \n",
    "graphique.add(x, x/2+0.1,color=\"k\",label=\"imposed ux\")\n",
    "graphique.visu(0,5,0,3)"
   ]
  },
  {
   "cell_type": "markdown",
   "id": "monthly-compatibility",
   "metadata": {},
   "source": [
    "## Maximum error on inlet velocity"
   ]
  },
  {
   "cell_type": "markdown",
   "id": "informal-point",
   "metadata": {
    "tags": []
   },
   "source": [
    "At a given time $t_i$, the relative error on the inlet velocity is computed by:\n",
    "\n",
    "\\begin{equation}\n",
    "err(t_i) = \\frac{|u_{\\text{inlet}}^{\\text{imposed}}(t_i)-\\bar{u}_{\\text{inlet}}^{\\text{TRUST}}(t_i)|}{u_{\\text{inlet}}^{\\text{imposed}}(t_i)}\n",
    "\\end{equation}\n",
    "\n",
    "$u_{\\text{inlet}}^{\\text{imposed}}(t_i) = f(t_i)$ and $\\bar{u}_{\\text{inlet}}^{\\text{TRUST}}(t_i)$ is the averaged velocity on cells located at the inlet (inlet edge in 2D or inlet surface in 3D). \\\n",
    "The table below highlights that the maximum error (for which the time evolution is plotted in the previous subsection) is too small and is close to machine error."
   ]
  },
  {
   "cell_type": "code",
   "execution_count": null,
   "id": "smart-outside",
   "metadata": {},
   "outputs": [],
   "source": [
    "columns=[\" Total number of time steps\",\"t max\",\"max err\"]\n",
    "Tableau=plot.Table(columns)  \n",
    "\n",
    "data = plot.loadText(\"./test1_VDF/max.txt\")\n",
    "Tableau.addLine([data],\"2D VDF testcase 1\")\n",
    "data = plot.loadText(\"./test1_VEF/max.txt\")\n",
    "Tableau.addLine([data],\"2D VEF testcase 1\")\n",
    "\n",
    "data = plot.loadText(\"./test2_VDF/max.txt\")\n",
    "Tableau.addLine([data],\"2D VDF testcase 2\")\n",
    "data = plot.loadText(\"./test2_VEF/max.txt\")\n",
    "Tableau.addLine([data],\"2D VEF testcase 2\")\n",
    "\n",
    "data = plot.loadText(\"./test_3D_VDF/max.txt\")\n",
    "Tableau.addLine([data],\"3D VDF testcase 3\")\n",
    "data = plot.loadText(\"./test_3D_VEF/max.txt\")\n",
    "Tableau.addLine([data],\"3D VEF testcase 3\")\n",
    "\n",
    "display(Tableau)"
   ]
  }
 ],
 "metadata": {
  "kernelspec": {
   "display_name": "Python 3 (ipykernel)",
   "language": "python",
   "name": "python3"
  },
  "language_info": {
   "codemirror_mode": {
    "name": "ipython",
    "version": 3
   },
   "file_extension": ".py",
   "mimetype": "text/x-python",
   "name": "python",
   "nbconvert_exporter": "python",
   "pygments_lexer": "ipython3",
   "version": "3.7.9"
  }
 },
 "nbformat": 4,
 "nbformat_minor": 5
}
