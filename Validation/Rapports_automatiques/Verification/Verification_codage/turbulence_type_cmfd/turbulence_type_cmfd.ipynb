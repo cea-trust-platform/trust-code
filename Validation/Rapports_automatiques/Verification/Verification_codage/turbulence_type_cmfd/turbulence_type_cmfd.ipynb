{
 "cells": [
  {
   "cell_type": "markdown",
   "id": "inappropriate-lingerie",
   "metadata": {},
   "source": [
    "# Verification de l'implementation de la correlation de viscosité turbulente longueur de mélange"
   ]
  },
  {
   "cell_type": "code",
   "execution_count": null,
   "id": "d4dd1082",
   "metadata": {},
   "outputs": [],
   "source": [
    "from trustutils import run\n",
    "\n",
    "run.TRUST_parameters()"
   ]
  },
  {
   "cell_type": "code",
   "execution_count": null,
   "id": "1fb992d4",
   "metadata": {
    "scrolled": false
   },
   "outputs": [],
   "source": [
    "run.reset()\n",
    "for pb in [\"hydr\", \"multi\"]:\n",
    "    for d in [\"VDF\", \"PolyMAC_P0\"]:\n",
    "        run.addCaseFromTemplate(f\"jdd_{pb}.data\", d, {\"dis\" : d})\n",
    "run.printCases()\n",
    "run.runCases()\n",
    "run.tablePerf()"
   ]
  },
  {
   "cell_type": "code",
   "execution_count": null,
   "id": "3df67755",
   "metadata": {},
   "outputs": [],
   "source": [
    "from trustutils import plot\n",
    "\n",
    "a = plot.Graph()\n",
    "for pb in [\"hydr\", \"multi\"]:\n",
    "    for d in [\"VDF\", \"PolyMAC_P0\"]:\n",
    "        a.addResidu(f\"{run.BUILD_DIRECTORY}/{d}/jdd_{pb}.dt_ev\", label=f\"{d} {pb}\")\n",
    "\n",
    "a.scale(yscale=\"log\")"
   ]
  },
  {
   "cell_type": "code",
   "execution_count": null,
   "id": "4e171b8a",
   "metadata": {},
   "outputs": [],
   "source": [
    "for d in [\"VDF\", \"PolyMAC_P0\"]:\n",
    "    a = plot.Graph(d)\n",
    "    for i, pb in enumerate([\"hydr\", \"multi\"]):\n",
    "        a.addSegment(\n",
    "            f\"{run.BUILD_DIRECTORY}/{d}/jdd_{pb}_VITESSE.son\",\n",
    "            compo=0,\n",
    "            linestyle=\"solid\",\n",
    "            marker=\"x\" if i == 0 else \"+\",\n",
    "            markersize=12,\n",
    "            label=pb,\n",
    "        )\n",
    "    a.legend()\n",
    "    a.label(\"y [m]\", \"u [m/s]\")"
   ]
  },
  {
   "cell_type": "code",
   "execution_count": null,
   "id": "c4692569",
   "metadata": {},
   "outputs": [],
   "source": [
    "for d in [\"VDF\", \"PolyMAC_P0\"]:\n",
    "    a = plot.Graph(nY=2, title=d)\n",
    "    for i, var in enumerate([\"NUT\", \"MUT\"]):\n",
    "        for j, pb in enumerate([\"hydr\", \"multi\"]):\n",
    "            a.addPlot(i)\n",
    "            a.addSegment(\n",
    "                f\"{run.BUILD_DIRECTORY}/{d}/jdd_{pb}_{var}.son\",\n",
    "                compo=0,\n",
    "                linestyle=\"solid\",\n",
    "                marker=\"x\" if j == 0 else \"+\",\n",
    "                markersize=12,\n",
    "                label=f\"{d} {pb}\",\n",
    "            )"
   ]
  }
 ],
 "metadata": {
  "kernelspec": {
   "display_name": "Python 3 (ipykernel)",
   "language": "python",
   "name": "python3"
  },
  "language_info": {
   "codemirror_mode": {
    "name": "ipython",
    "version": 3
   },
   "file_extension": ".py",
   "mimetype": "text/x-python",
   "name": "python",
   "nbconvert_exporter": "python",
   "pygments_lexer": "ipython3",
   "version": "3.8.18"
  }
 },
 "nbformat": 4,
 "nbformat_minor": 5
}
