{
 "cells": [
  {
   "attachments": {},
   "cell_type": "markdown",
   "id": "boolean-earth",
   "metadata": {},
   "source": [
    "# Explicit_schemes\n",
    "\n",
    "This validation file aims at illustrating the importance of the stratagey used for explicit schemes (see comments in Schema_Euler_explicite.cpp, method faire_un_pas_de_temps_eqn_base)\n",
    "\n",
    "```\n",
    "  /*\n",
    "   * The strategy done in the explicit schemes is to prescribe CL at time n+1\n",
    "   *  at the begining of the time step, turning the wheel (avancer/reculer) to use\n",
    "   *  it in derivee_en_temps_inco (so that valeurs() points to futur() only for BC).\n",
    "   *\n",
    "   * It influences only two cases\n",
    "   *     - Time dependent BCs (champ_fonc_txyz ou ICoCo) or function (champ_fonc_fonction) => Here it only shifts the\n",
    "   *        applied BC by one time step, but does not change the order of the scheme\n",
    "   *\n",
    "   *     - Coupled cases (paroi contact) => Here it is mandatory to have the equality of the fluxes at the coupled boundary\n",
    "   *\n",
    "   *     See the out files of docond/docond_vef\n",
    "   */\n",
    "   ```\n",
    "   \n",
    "For that, we select a coupled solid/fluid problem and we test all explicit schemes, both in VDF and VEF. Both, the full explicit and the diffusion-implicit options are considered. The equality of the fluxes at the contact boundary is used to justify the strategy chosen. Additional temperature profiles in both problems are also used for comparisons.\n",
    "\n",
    "\n",
    "# Attention\n",
    "\n",
    "The schemes are explicit and the stability of the scheme is required. Attention if you miss-understood the facsec keyword. For simplicity, refer to it as a CFL condition. Thats why we use\n",
    "\n",
    "| Scheme | facsec (CFL) |\n",
    "|--------|--------------|\n",
    "| Euler  | 1            |\n",
    "| RRK2   | 0.5          |\n",
    "| RK2    | 0.5          |\n",
    "| RK2    | 0.4          |\n",
    "| RK4    | 0.3          |\n",
    "| AB2    | 0.25         |\n",
    "| AB3    | 0.1          |\n",
    "\n",
    "\n",
    "# Remember! A higher-order time scheme provides better accuracy, but it does not allow for larger time steps!"
   ]
  },
  {
   "cell_type": "code",
   "execution_count": null,
   "id": "c50babfc",
   "metadata": {
    "scrolled": true
   },
   "outputs": [],
   "source": [
    "from trustutils import run\n",
    "\n",
    "run.introduction(\"Elie Saikali & Adrien Bruneton\")\n",
    "run.TRUST_parameters()"
   ]
  },
  {
   "cell_type": "code",
   "execution_count": null,
   "id": "balanced-boating",
   "metadata": {
    "scrolled": false
   },
   "outputs": [],
   "source": [
    "import pandas as pd\n",
    "import os, sys\n",
    "from string import Template\n",
    "\n",
    "run.reset()\n",
    "run.initBuildDirectory()\n",
    "\n",
    "dis = [(\"VDF\", \"\", \"-\"), (\"VEF\", \"Trianguler_H dom_solide Trianguler_H dom_fluide\", \"--\")]\n",
    "diffusion = [(\"Explicit\", \"0\"), (\"Diffusion_implicit\", \"1\")]\n",
    "schema = [\n",
    "            (\"Euler\", \"Scheme_euler_explicit\", \"1\") \n",
    "          , (\"Rational_RK2\", \"Runge_Kutta_Rationnel_ordre_2\", \"0.5\")\n",
    "          , (\"RK2\", \"Runge_Kutta_ordre_2_classique\", \"0.5\")\n",
    "          , (\"RK3\", \"Runge_Kutta_ordre_3_classique\", \"0.4\")\n",
    "          , (\"RK4\", \"Runge_Kutta_ordre_4_classique\", \"0.3\")\n",
    "          , (\"RK4_38\", \"Runge_Kutta_ordre_4_classique_3_8\", \"0.3\")\n",
    "          , (\"AB2\", \"schema_adams_bashforth_order_2\", \"0.25\")\n",
    "          , (\"AB3\", \"schema_adams_bashforth_order_3\", \"0.1\")\n",
    "        # , (\"RK2_Low\", \"Runge_Kutta_ordre_2\", \"1.5\")\n",
    "        # , (\"RK3_Low\", \"Runge_Kutta_ordre_3\", \"1.5\")\n",
    "        # , (\"RK4_Low\", \"Runge_Kutta_ordre_4\", \"1.5\")\n",
    "          ]\n",
    "\n",
    "N_VDF = [\"8 22\", \"16 8\", \"16 16\"]\n",
    "N_VEF = [\"4 11\", \"8 4\", \"8 8\"]\n",
    "\n",
    "for d, p, _ in dis:\n",
    "    for sc, sch, fsc in schema:\n",
    "        for ex, di in diffusion:\n",
    "            if d == \"VDF\":\n",
    "                run.addCaseFromTemplate(\"jdd.data\", f\"{d}/{sc}/{ex}\", {\"trian\" : p, \"dis\" : d, \"diff\" : di, \"sch\" : sch, \"fsc\" : fsc, \"N1\": \"7 21\", \"N2\" : \"15 7\", \"N3\" : \"15 15\"})\n",
    "            else:\n",
    "                run.addCaseFromTemplate(\"jdd.data\", f\"{d}/{sc}/{ex}\", {\"trian\" : p, \"dis\" : d, \"diff\" : di, \"sch\" : sch, \"fsc\" : fsc, \"N1\": \"4 11\", \"N2\" : \"8 4\", \"N3\" : \"8 8\"})\n",
    "        \n",
    "run.printCases()\n",
    "run.runCases()\n",
    "run.tablePerf()"
   ]
  },
  {
   "cell_type": "markdown",
   "id": "ae7c7189",
   "metadata": {},
   "source": [
    "# Convergence\n",
    "\n",
    "We plot the residu evolution. All simulations converge!"
   ]
  },
  {
   "cell_type": "code",
   "execution_count": null,
   "id": "747bc2d8",
   "metadata": {},
   "outputs": [],
   "source": [
    "from trustutils import plot\n",
    "import numpy as np\n",
    "\n",
    "a = plot.Graph(label_size=16, title_size=24, legend_size=14, nY=2)\n",
    "for i, (ex,_) in enumerate(diffusion):\n",
    "    a.addPlot(i,f\"Convergence: {ex}\")\n",
    "    for d, _, m in dis:\n",
    "        for sc, _, _ in schema:\n",
    "            a.addResidu(f\"{run.BUILD_DIRECTORY}/{d}/{sc}/{ex}/jdd.dt_ev\", label=f\"{d}/{sc}\", marker=m, linewidth=(2 if d == \"VDF\" else 1))\n",
    "    a.scale(yscale=\"log\")\n",
    "    a.legend(loc='upper center', bbox_to_anchor=(0.5, 1.), ncol=3, fancybox=True, shadow=True)"
   ]
  },
  {
   "cell_type": "markdown",
   "id": "63b30166",
   "metadata": {},
   "source": [
    "# Time step evolution (in seconds)"
   ]
  },
  {
   "cell_type": "code",
   "execution_count": null,
   "id": "f19551be",
   "metadata": {},
   "outputs": [],
   "source": [
    "a = plot.Graph(label_size=16, title_size=24, legend_size=14, nY=2)\n",
    "for i, (ex,_) in enumerate(diffusion):\n",
    "    a.addPlot(i,f\"Time steps: {ex}\")\n",
    "    for d, _, m in dis:\n",
    "        for sc, _, _ in schema:\n",
    "            dt_ev = np.loadtxt(f\"{run.BUILD_DIRECTORY}/{d}/{sc}/{ex}/jdd.dt_ev\")\n",
    "            a.add(dt_ev[:, 0], dt_ev[:, 1], label=f\"{d}/{sc}\", marker=m)\n",
    "            a.legend(loc='upper center', bbox_to_anchor=(0.5, 0.9), ncol=3, fancybox=True, shadow=True)\n",
    "            a.label(\"Time [s]\",\"Time step [s]\")"
   ]
  },
  {
   "cell_type": "markdown",
   "id": "b27ab94e",
   "metadata": {},
   "source": [
    "# Flux evolution on contact boundary: both fluid/solid problems\n",
    "\n",
    "In all cases the equality of the fluxes is seen for each time scheme.\n",
    "\n",
    "Much better agreement with full explicit schemes. In VEF, attention to the result analysis when using a diffusion-implicit scheme."
   ]
  },
  {
   "cell_type": "code",
   "execution_count": null,
   "id": "ffef54b8",
   "metadata": {},
   "outputs": [],
   "source": [
    "a = plot.Graph(label_size=16, title_size=24, legend_size=14, nY=2)\n",
    "for i, (ex,_) in enumerate(diffusion):\n",
    "    a.addPlot(i,f\"Flux pb1 vs pb2: {ex}\")\n",
    "    for d, _, m in dis:\n",
    "        for sc, _, _ in schema:\n",
    "            fpb2 = np.loadtxt(f\"{run.BUILD_DIRECTORY}/{d}/{sc}/{ex}/jdd_pb2_Diffusion_chaleur.out\")\n",
    "            a.add(fpb2[:, 0], fpb2[:, 4], label=f\"{d}/{sc} - pb 2\", marker=m, linewidth=(2 if d == \"VDF\" else 1) )\n",
    "    \n",
    "            fpb1 = np.loadtxt(f\"{run.BUILD_DIRECTORY}/{d}/{sc}/{ex}/jdd_pb1_Diffusion_chaleur.out\")\n",
    "            a.add(fpb1[:, 0], -1*fpb1[:, 3], label=f\"{d}/{sc} pb 1\", marker=m, linewidth=(2 if d == \"VDF\" else 1))\n",
    "            a.label(\"Time [s]\",\"Heat transfer rate [W]\")\n",
    "            a.legend(loc='upper center', bbox_to_anchor=(0.5, 1.5), ncol=3, fancybox=True, shadow=True)\n",
    "\n"
   ]
  },
  {
   "cell_type": "markdown",
   "id": "86d0a298",
   "metadata": {},
   "source": [
    "# Vertical profiles - Solid problem"
   ]
  },
  {
   "cell_type": "code",
   "execution_count": null,
   "id": "ff9f5010",
   "metadata": {},
   "outputs": [],
   "source": [
    "a = plot.Graph(label_size=16, title_size=24, legend_size=14, nY=2)\n",
    "for i, (ex,_) in enumerate(diffusion):\n",
    "    a.addPlot(i,f\"Temperature evolution pb solide : {ex}\")\n",
    "    for d, _, m in dis:\n",
    "        for sc, _, _ in schema:\n",
    "            a.addSegment(f\"{run.BUILD_DIRECTORY}/{d}/{sc}/{ex}/jdd_SOL1.son\",label=f\"{d}/{sc} - pb 1\", marker=m,compo=0, linewidth=(2 if d == \"VDF\" else 1))\n",
    "            a.legend(loc='upper center', bbox_to_anchor=(0.5, 1.3), ncol=3, fancybox=True, shadow=True)"
   ]
  },
  {
   "cell_type": "markdown",
   "id": "2b216aed",
   "metadata": {},
   "source": [
    "# Horizontal profiles - Solid problem"
   ]
  },
  {
   "cell_type": "code",
   "execution_count": null,
   "id": "f98d3735",
   "metadata": {},
   "outputs": [],
   "source": [
    "a = plot.Graph(label_size=16, title_size=24, legend_size=14, nY=2)\n",
    "for i, (ex,_) in enumerate(diffusion):\n",
    "    a.addPlot(i,f\"Temperature evolution pb solide : {ex}\")\n",
    "    for d, _, m in dis:\n",
    "        for sc, _, _ in schema:\n",
    "            a.addSegment(f\"{run.BUILD_DIRECTORY}/{d}/{sc}/{ex}/jdd_SOL2.son\",label=f\"{d}/{sc} - pb 1\", marker=m,compo=0, linewidth=(2 if d == \"VDF\" else 1))\n",
    "            a.legend(loc='upper center', bbox_to_anchor=(0.5, 1.3), ncol=3, fancybox=True, shadow=True)"
   ]
  },
  {
   "cell_type": "markdown",
   "id": "7608afa3",
   "metadata": {},
   "source": [
    "# Vertical profiles - Fluid problem"
   ]
  },
  {
   "cell_type": "code",
   "execution_count": null,
   "id": "1a35bfa1",
   "metadata": {},
   "outputs": [],
   "source": [
    "a = plot.Graph(label_size=16, title_size=24, legend_size=14, nY=2)\n",
    "for i, (ex,_) in enumerate(diffusion):\n",
    "    a.addPlot(i,f\"Temperature evolution pb solide : {ex}\")\n",
    "    for d, _, m in dis:\n",
    "        for sc, _, _ in schema:\n",
    "            a.addSegment(f\"{run.BUILD_DIRECTORY}/{d}/{sc}/{ex}/jdd_FL2.son\",label=f\"{d}/{sc} - pb 1\", marker=m,compo=0, linewidth=(2 if d == \"VDF\" else 1))\n",
    "            a.legend(loc='upper center', bbox_to_anchor=(0.5, 1.3), ncol=3, fancybox=True, shadow=True)"
   ]
  },
  {
   "cell_type": "markdown",
   "id": "a48cf331",
   "metadata": {},
   "source": [
    "# Horizontal profiles - Fluid problem"
   ]
  },
  {
   "cell_type": "code",
   "execution_count": null,
   "id": "30239173",
   "metadata": {},
   "outputs": [],
   "source": [
    "a = plot.Graph(label_size=16, title_size=24, legend_size=14, nY=2)\n",
    "for i, (ex,_) in enumerate(diffusion):\n",
    "    a.addPlot(i,f\"Temperature evolution pb solide : {ex}\")\n",
    "    for d, _, m in dis:\n",
    "        for sc, _, _ in schema:\n",
    "            a.addSegment(f\"{run.BUILD_DIRECTORY}/{d}/{sc}/{ex}/jdd_FL1.son\",label=f\"{d}/{sc} - pb 1\", marker=m,compo=0, linewidth=(2 if d == \"VDF\" else 1))\n",
    "            a.legend(loc='upper center', bbox_to_anchor=(0.5, 1.3), ncol=3, fancybox=True, shadow=True)"
   ]
  }
 ],
 "metadata": {
  "kernelspec": {
   "display_name": "base",
   "language": "python",
   "name": "python3"
  },
  "language_info": {
   "codemirror_mode": {
    "name": "ipython",
    "version": 3
   },
   "file_extension": ".py",
   "mimetype": "text/x-python",
   "name": "python",
   "nbconvert_exporter": "python",
   "pygments_lexer": "ipython3",
   "version": "3.12.5"
  },
  "toc-autonumbering": true
 },
 "nbformat": 4,
 "nbformat_minor": 5
}
