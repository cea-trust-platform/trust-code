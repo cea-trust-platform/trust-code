{
 "cells": [
  {
   "attachments": {},
   "cell_type": "markdown",
   "id": "boolean-earth",
   "metadata": {},
   "source": [
    "# Pb_Multiphase_Enthalpie"
   ]
  },
  {
   "cell_type": "code",
   "execution_count": null,
   "id": "c50babfc",
   "metadata": {
    "scrolled": true
   },
   "outputs": [],
   "source": [
    "from trustutils import run\n",
    "\n",
    "run.introduction(\"Elie Saikali & Adrien Bruneton\")\n",
    "run.TRUST_parameters()"
   ]
  },
  {
   "cell_type": "code",
   "execution_count": null,
   "id": "balanced-boating",
   "metadata": {
    "scrolled": false
   },
   "outputs": [],
   "source": [
    "import pandas as pd\n",
    "import os, sys\n",
    "from string import Template\n",
    "\n",
    "run.reset()\n",
    "run.initBuildDirectory()\n",
    "\n",
    "dis = [(\"VDF\", \"\", \"-\"), (\"VEF\", \"Trianguler_H dom_solide Trianguler_H dom_fluide\", \"--\")]\n",
    "diffusion = [(\"Diff_explicite\", \"0\"), (\"Diff_implicite\", \"1\")]\n",
    "schema = [\n",
    "          (\"Euler\", \"Scheme_euler_explicit\", \"1\") \n",
    "          , (\"RRK2\", \"Runge_Kutta_Rationnel_ordre_2\", \"1.5\")\n",
    "          , (\"RK2\", \"Runge_Kutta_ordre_2_classique\", \"1.5\")\n",
    "          , (\"RK3\", \"Runge_Kutta_ordre_3_classique\", \"1.5\")\n",
    "          , (\"RK4\", \"Runge_Kutta_ordre_4_classique\", \"1.5\")\n",
    "          #, (\"RK2\", \"Runge_Kutta_ordre_2\", \"1.5\")\n",
    "          ]\n",
    "\n",
    "N_VDF = [\"8 22\", \"16 8\", \"16 16\"]\n",
    "N_VEF = [\"4 11\", \"8 4\", \"8 8\"]\n",
    "\n",
    "for d, p, _ in dis:\n",
    "    for sc, sch, fsc in schema:\n",
    "        for ex, di in diffusion:\n",
    "            if d == \"VDF\":\n",
    "                run.addCaseFromTemplate(\"jdd.data\", f\"{d}/{sc}/{ex}\", {\"trian\" : p, \"dis\" : d, \"diff\" : di, \"sch\" : sch, \"fsc\" : fsc, \"N1\": \"7 21\", \"N2\" : \"15 7\", \"N3\" : \"15 15\"})\n",
    "            else:\n",
    "                run.addCaseFromTemplate(\"jdd.data\", f\"{d}/{sc}/{ex}\", {\"trian\" : p, \"dis\" : d, \"diff\" : di, \"sch\" : sch, \"fsc\" : fsc, \"N1\": \"4 11\", \"N2\" : \"8 4\", \"N3\" : \"8 8\"})\n",
    "        \n",
    "run.printCases()\n",
    "run.runCases()\n",
    "run.tablePerf()"
   ]
  },
  {
   "cell_type": "markdown",
   "id": "ae7c7189",
   "metadata": {},
   "source": [
    "# Convergence"
   ]
  },
  {
   "cell_type": "code",
   "execution_count": null,
   "id": "747bc2d8",
   "metadata": {},
   "outputs": [],
   "source": [
    "from trustutils import plot\n",
    "import numpy as np\n",
    "\n",
    "a = plot.Graph(label_size=16, title_size=24, legend_size=12, nY=2)\n",
    "for i, (ex,_) in enumerate(diffusion):\n",
    "    a.addPlot(i,f\"Convergence: {ex}\")\n",
    "    for d, _, m in dis:\n",
    "        for sc, _, _ in schema:\n",
    "            a.addResidu(f\"{run.BUILD_DIRECTORY}/{d}/{sc}/{ex}/jdd.dt_ev\", label=f\"{d}/{sc}\", marker=m, linewidth=(2 if d == \"VDF\" else 1))\n",
    "    a.scale(yscale=\"log\")"
   ]
  },
  {
   "cell_type": "markdown",
   "id": "63b30166",
   "metadata": {},
   "source": [
    "# Time step evolution (in seconds)"
   ]
  },
  {
   "cell_type": "code",
   "execution_count": null,
   "id": "f19551be",
   "metadata": {},
   "outputs": [],
   "source": [
    "a = plot.Graph(label_size=16, title_size=24, legend_size=12, nY=2)\n",
    "for i, (ex,_) in enumerate(diffusion):\n",
    "    a.addPlot(i,f\"Time steps: {ex}\")\n",
    "    for d, _, m in dis:\n",
    "        for sc, _, _ in schema:\n",
    "            dt_ev = np.loadtxt(f\"{run.BUILD_DIRECTORY}/{d}/{sc}/{ex}/jdd.dt_ev\")\n",
    "            a.add(dt_ev[:, 0], dt_ev[:, 1], label=f\"{d}/{sc}\", marker=m)"
   ]
  },
  {
   "cell_type": "markdown",
   "id": "b27ab94e",
   "metadata": {},
   "source": [
    "# Vertical profiles "
   ]
  },
  {
   "cell_type": "code",
   "execution_count": null,
   "id": "ffef54b8",
   "metadata": {},
   "outputs": [],
   "source": [
    "a = plot.Graph(label_size=16, title_size=24, legend_size=12, nY=2)\n",
    "for i, (ex,_) in enumerate(diffusion):\n",
    "    a.addPlot(i,f\"Flux pb1 vs pb2: {ex}\")\n",
    "    for d, _, m in dis:\n",
    "        for sc, _, _ in schema:\n",
    "            fpb2 = np.loadtxt(f\"{run.BUILD_DIRECTORY}/{d}/{sc}/{ex}/jdd_pb2_Diffusion_chaleur.out\")\n",
    "            a.add(fpb2[:, 0], fpb2[:, 4], label=f\"{d}/{sc} - pb 2\", marker=m, linewidth=(2 if d == \"VDF\" else 1) )\n",
    "    \n",
    "            fpb1 = np.loadtxt(f\"{run.BUILD_DIRECTORY}/{d}/{sc}/{ex}/jdd_pb1_Diffusion_chaleur.out\")\n",
    "            a.add(fpb1[:, 0], -1*fpb1[:, 3], label=f\"{d}/{sc} pb 1\", marker=m, linewidth=(2 if d == \"VDF\" else 1))\n",
    "\n"
   ]
  },
  {
   "cell_type": "code",
   "execution_count": null,
   "id": "ff9f5010",
   "metadata": {},
   "outputs": [],
   "source": []
  }
 ],
 "metadata": {
  "kernelspec": {
   "display_name": "base",
   "language": "python",
   "name": "python3"
  },
  "language_info": {
   "codemirror_mode": {
    "name": "ipython",
    "version": 3
   },
   "file_extension": ".py",
   "mimetype": "text/x-python",
   "name": "python",
   "nbconvert_exporter": "python",
   "pygments_lexer": "ipython3",
   "version": "3.12.7"
  },
  "toc-autonumbering": true
 },
 "nbformat": 4,
 "nbformat_minor": 5
}
