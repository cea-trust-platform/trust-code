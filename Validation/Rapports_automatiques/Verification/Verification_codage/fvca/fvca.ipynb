{
 "cells": [
  {
   "cell_type": "markdown",
   "id": "boolean-earth",
   "metadata": {},
   "source": [
    "# FVCA"
   ]
  },
  {
   "cell_type": "code",
   "execution_count": null,
   "id": "19f997e3",
   "metadata": {},
   "outputs": [],
   "source": [
    "from trustutils import run\n",
    "\n",
    "run.introduction(\"Yannick Gorsse\")\n",
    "\n",
    "run.TRUST_parameters()"
   ]
  },
  {
   "cell_type": "markdown",
   "id": "a715f733",
   "metadata": {},
   "source": [
    "### Description: \n",
    "\n"
   ]
  },
  {
   "cell_type": "code",
   "execution_count": null,
   "id": "balanced-boating",
   "metadata": {
    "scrolled": false
   },
   "outputs": [],
   "source": [
    "from trustutils import run\n",
    "from string import Template\n",
    "import os, sys\n",
    "run.useMEDCoupling()\n",
    "import medcoupling as mc\n",
    "\n",
    "seq = True\n",
    "nb_meshes_max = 10 # mettre a 10 si on veut faire tous les maillages\n",
    "\n",
    "run.reset()\n",
    "m2d = {\n",
    "    # 2D meshes\n",
    "    \"Cartesian\":      ([\"PolyMAC_P0P1NC\", \"PolyMAC_P0\", \"PolyMAC\", \"PolyVEF_P0\"], 7),\n",
    "    \"Triangles\":      ([\"PolyMAC_P0P1NC\", \"PolyMAC_P0\", \"PolyMAC\", \"PolyVEF_P0\"], 6),\n",
    "    \"Locally_Refined\":([\"PolyMAC_P0P1NC\", \"PolyMAC_P0\", \"PolyMAC\", \"PolyVEF_P0\"], 7),\n",
    "    \"Quadrangles\":    ([\"PolyMAC_P0P1NC\", \"PolyMAC_P0\", \"PolyMAC\", \"PolyVEF_P0\"], 7),\n",
    "    \"Kershaw2D\":      ([\"PolyMAC_P0P1NC\", \"PolyMAC_P0\", \"PolyMAC\", \"PolyVEF_P0\"], 6),\n",
    "    \"Polygons\":       ([\"PolyMAC_P0P1NC\", \"PolyMAC_P0\", \"PolyMAC\", \"PolyVEF_P0\"], 6),\n",
    "}\n",
    "m3d = {\n",
    "    # 3D meshes\n",
    "    \"Tetra\":          ([\"PolyMAC_P0P1NC\", \"PolyMAC_P0\", \"PolyMAC\"], 7),\n",
    "    \"Hexa\":           ([\"PolyMAC_P0P1NC\", \"PolyMAC_P0\", \"PolyMAC\"], 5), # TODO : ajouter VDF, mais veut pas unpolyze...\n",
    "    \"Prism\":          ([\"PolyMAC_P0P1NC\", \"PolyMAC_P0\", \"PolyMAC\"], 4),\n",
    "    \"Kershaw\":        ([\"PolyMAC_P0P1NC\", \"PolyMAC_P0\", \"PolyMAC\"], 4),\n",
    "    \"CheckerBoard\":   ([\"PolyMAC_P0P1NC\", \"PolyMAC_P0\", \"PolyMAC\"], 5),\n",
    "    \"PrismHexa\":      ([\"PolyMAC_P0P1NC\", \"PolyMAC_P0\", \"PolyMAC\"], 4),\n",
    "    # \"Random\":         ([\"PolyMAC_P0P1NC\", \"PolyMAC_P0\", \"PolyMAC\"], 4),\n",
    "    \"LocRaf\":         ([\"PolyMAC_P0P1NC\", \"PolyMAC_P0\", \"PolyMAC\"], 5),\n",
    "    \"Voronoi\":        ([\"PolyMAC_P0P1NC\", \"PolyMAC_P0\", \"PolyMAC\"], 5),\n",
    "}\n",
    "mxd = { 2 : m2d, 3 : m3d }\n",
    "tests = {\n",
    "    \"bercovier_engelman\" : 2,\n",
    "    # \"taylor_green_3d\" : 3,\n",
    "    # \"navier_stokes_2d\" : 2,\n",
    "    # \"navier_stokes_3d\" : 3\n",
    "}\n",
    "\n",
    "meshes_dir = os.environ[\"TRUST_ROOT\"] + \"/Validation/Rapports_automatiques/Verification/PolyMAC/share/meshes\"\n",
    "\n",
    "# Trigger the copy of the src directory into the build directory:\n",
    "run.initBuildDirectory()\n",
    "origin, build_dir = os.getcwd(), run.BUILD_DIRECTORY\n",
    "os.chdir(build_dir)\n",
    "list_dis = []\n",
    "for test, dim in tests.items():\n",
    "    for m, (dis, ns) in mxd[dim].items():\n",
    "        for d in dis:\n",
    "            for n in range(1, min(ns, nb_meshes_max) + 1):\n",
    "                os.system(f\"mkdir -p {test}/{m}/{d}/{n}\")\n",
    "                with open(f\"{test}.data\", \"r\") as file: filedata = Template(file.read())\n",
    "                result = filedata.substitute({\"dis\" : d})\n",
    "                with open(f\"{test}/{m}/{d}/{n}/jdd.data\", \"w\") as file: file.write(result)\n",
    "                if not d.startswith(\"Poly\"):\n",
    "                    os.system(f\"gunzip -c {meshes_dir}/{m}/jdd_{n}/mesh.med.gz >{test}/{m}/{d}/{n}/mesh.med\")\n",
    "                    meshname = f\"{test}/{m}/{d}/{n}/mesh.med\"\n",
    "                    mfum = mc.MEDFileUMesh(meshname)\n",
    "                    mfum.getMeshAtLevel(0).unPolyze()\n",
    "                    mfum.write(f\"{test}/{m}/{d}/{n}/mesh.med\", 2)\n",
    "                else: os.system(f\"gunzip -c {meshes_dir}/{m}/jdd_{n}/mesh.med.gz >{test}/{m}/{d}/{n}/mesh.med\")\n",
    "                np = 1 if seq else min(int(os.environ[\"TRUST_NB_PROCS\"]), 8 if n < 2 else 128)\n",
    "                os.system(f\"cp post_run {test}/{m}/{d}/{n}/\")\n",
    "                if not seq: os.system(f\"cd {test}/{m}/{d}/{n}/; make_PAR.data jdd {np} >/dev/null 2>&1\")\n",
    "                #echo $mesh/jdd_${n}/cas.data >> ll\n",
    "                cas = run.addCase(f\"{test}/{m}/{d}/{n}\", f\"{'' if seq else 'PAR_'}jdd.data\", np)\n",
    "                # PolyMAC discretization is portability-sensitive #\n",
    "                if d==\"PolyMAC\":\n",
    "                    cas.substitute(\"_lance_test_\",\"# lance_test 8 ecarts #\")\n",
    "                else:\n",
    "                    cas.substitute(\"_lance_test_\",\"\")\n",
    "                list_dis.append(f\"{test}/{m}/{d}\")\n",
    "\n",
    "with open(\"extract_convergence\", \"r\") as file: fileconv = Template(file.read())\n",
    "result = fileconv.safe_substitute(list_dis=\" \".join(sorted(list(set(list(list_dis))))))\n",
    "with open(\"extract_convergence\", \"w\") as file: file.write(result)\n",
    "os.chdir(origin)\n",
    "\n",
    "# run.printCases()\n",
    "run.runCases()\n",
    "run.executeScript(\"extract_convergence\")"
   ]
  },
  {
   "cell_type": "code",
   "execution_count": null,
   "id": "f027b633",
   "metadata": {},
   "outputs": [],
   "source": [
    "from trustutils import plot\n",
    "import matplotlib.colors as mcolors\n",
    "import pandas as pd\n",
    "from matplotlib.lines import Line2D\n",
    "c = list(mcolors.TABLEAU_COLORS.keys())\n",
    "linestyle = {\"PolyMAC_P0P1NC\": (\"-\", \"o\"), \"PolyMAC_P0\" : (\"-.\", \"v\"), \"PolyVEF_P0\" : (\"dashdot\", \"s\"), \"PolyMAC\" : (\"dashed\", \"d\")}\n",
    "\n",
    "lines_and_markers = {test : [Line2D([0], [0], color=c[k]) for k, _ in enumerate(mxd[dim].items())] for test, dim in tests.items()}\n",
    "for test in tests.keys(): lines_and_markers[test] += [Line2D([0], [0], color=\"black\", marker=m, linestyle=s) for _, (s, m) in linestyle.items()]\n",
    "names_in_legend = {test : list(mxd[dim].keys()) for test, dim in tests.items()}\n",
    "for test in tests.keys(): names_in_legend[test] += list(linestyle.keys())\n",
    "\n",
    "def make_custom_legend(graph, test):\n",
    "    try:\n",
    "        for ax in graph.axs:\n",
    "            ax.legend(lines_and_markers[test], names_in_legend[test], loc='upper center', ncol=4, bbox_to_anchor=(0.5, -0.1))\n",
    "    except:\n",
    "        graph.subplot.legend(lines_and_markers[test], names_in_legend[test], loc='upper center', ncol=4, bbox_to_anchor=(0.5, -0.1))\n"
   ]
  },
  {
   "cell_type": "markdown",
   "id": "9a7e2ff9",
   "metadata": {},
   "source": [
    "## Ordres de convergence"
   ]
  },
  {
   "cell_type": "code",
   "execution_count": null,
   "id": "alert-shock",
   "metadata": {
    "scrolled": false
   },
   "outputs": [],
   "source": [
    "import numpy as np\n",
    "from scipy.optimize import curve_fit\n",
    "\n",
    "def func(x, a, b): return a * x ** b\n",
    "for test, dim in tests.items():\n",
    "    a = plot.Graph(f\"{test}\", nY=2)\n",
    "    for k, (m, (dis, ns)) in enumerate(mxd[dim].items()):\n",
    "        for d in dis:\n",
    "            for i, var in enumerate([\"v\", \"p\"]):\n",
    "                a.addPlot(i)\n",
    "                x_ = plot.loadText(f\"{test}/{m}/{d}/conv_glob_{var}\")\n",
    "                x, y = (np.power(x_[0], 1.0 / dim)).tolist(), x_[1].tolist()\n",
    "                try: (_, b), _ = curve_fit(func, x, y)\n",
    "                except: b = 0\n",
    "                a.add(x, y, label=None, color=c[k], linestyle=linestyle[d][0], marker=linestyle[d][1], markersize=12)\n",
    "\n",
    "                a.label(f\"$N_i^{{1/{dim}}}$\",f\"erreur L2 - {var}\")\n",
    "                a.scale(xscale='log',yscale='log')\n",
    "    make_custom_legend(a, test)\n"
   ]
  },
  {
   "cell_type": "markdown",
   "id": "acea00d9",
   "metadata": {},
   "source": [
    "## Temps de calcul"
   ]
  },
  {
   "cell_type": "code",
   "execution_count": null,
   "id": "a301a576",
   "metadata": {},
   "outputs": [],
   "source": [
    "for test, dim in tests.items():\n",
    "    a = plot.Graph(f\"{test}\", nY=2)\n",
    "    for k, (m, (dis, _)) in enumerate(mxd[dim].items()):\n",
    "        for d in dis:\n",
    "            for i, var in enumerate([\"v\", \"p\"]):\n",
    "                a.addPlot(i)\n",
    "                x_ = plot.loadText(f\"{test}/{m}/{d}/conv_glob_{var}\")\n",
    "                x, y = x_[2].tolist(), x_[1].tolist()\n",
    "                a.add(x, y, label=None, color=c[k], linestyle=linestyle[d][0], marker=linestyle[d][1], markersize=12)\n",
    "\n",
    "                a.label(f\"Temps de calcul\", f\"erreur L2 - {var}\")\n",
    "                a.scale(xscale='log',yscale='log')\n",
    "    make_custom_legend(a, test)\n"
   ]
  }
 ],
 "metadata": {
  "kernelspec": {
   "display_name": "Python 3 (ipykernel)",
   "language": "python",
   "name": "python3"
  },
  "language_info": {
   "codemirror_mode": {
    "name": "ipython",
    "version": 3
   },
   "file_extension": ".py",
   "mimetype": "text/x-python",
   "name": "python",
   "nbconvert_exporter": "python",
   "pygments_lexer": "ipython3",
   "version": "3.7.16"
  }
 },
 "nbformat": 4,
 "nbformat_minor": 5
}
