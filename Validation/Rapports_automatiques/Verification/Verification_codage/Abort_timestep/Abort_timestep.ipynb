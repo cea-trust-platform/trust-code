{
 "cells": [
  {
   "cell_type": "markdown",
   "id": "inappropriate-lingerie",
   "metadata": {},
   "source": [
    "# Test de abort time step"
   ]
  },
  {
   "cell_type": "code",
   "execution_count": null,
   "id": "23c81538",
   "metadata": {},
   "outputs": [],
   "source": [
    "from trustutils import run\n",
    "\n",
    "run.introduction(\"Fauchet Perdu\")\n",
    "\n",
    "run.TRUST_parameters()"
   ]
  },
  {
   "cell_type": "markdown",
   "id": "024b04f0",
   "metadata": {},
   "source": [
    "### Description: \n",
    "\n",
    "On regarde si suite a un abort time step la pression reste bien continue."
   ]
  },
  {
   "cell_type": "markdown",
   "id": "obvious-arrangement",
   "metadata": {},
   "source": [
    "### Test Cases\n",
    "* ./abort_QC.data :\n",
    "* ./abort_QC_Pimp.data :"
   ]
  },
  {
   "cell_type": "code",
   "execution_count": null,
   "id": "687d21fd-6887-4818-a9f4-ed42aa1dae65",
   "metadata": {},
   "outputs": [],
   "source": [
    "from trustutils import run \n",
    "import os\n",
    "run.addCase(\".\",\"abort_QC.data\")\n",
    "run.addCase(\".\",\"abort_QC_Pimp.data\") \n",
    "run.runCases()"
   ]
  },
  {
   "cell_type": "markdown",
   "id": "growing-hundred",
   "metadata": {},
   "source": [
    "## Visus des champs de pression\n",
    "On espere que l’image du milieu soit semblable aux deux autres.\n",
    "\n",
    "### abort_QC teste surtout milieu::abort_time_step "
   ]
  },
  {
   "cell_type": "code",
   "execution_count": null,
   "id": "de6f9473-acdd-47c6-a8de-477bfc52a36a",
   "metadata": {},
   "outputs": [],
   "source": [
    "from trustutils import visit\n",
    "\n",
    "plot = visit.Show(\n",
    "    \"./abort_QC.lata\",\n",
    "    \"Pseudocolor\", \"PRESSION_ELEM_dom_fluid\",\n",
    "    iteration=2, nY=2, nX=2, plotmesh=False) \n",
    "\n",
    "plot.add(\"./abort_QC.lata\",\n",
    "         \"Pseudocolor\", \"PRESSION_ELEM_dom_fluid\",\n",
    "         yIndice=1, iteration=3, plotmesh=False)\n",
    "\n",
    "plot.add(\"./abort_QC.lata\",\n",
    "         \"Pseudocolor\", \"PRESSION_ELEM_dom_fluid\",\n",
    "         xIndice=1, iteration=4, plotmesh=False)\n",
    "\n",
    "plot.plot()"
   ]
  },
  {
   "cell_type": "markdown",
   "id": "1e22bfee-1a08-42b6-b05f-65558908559c",
   "metadata": {},
   "source": [
    "### abort_QC_Pimp teste surtout N_S::abort_time_step"
   ]
  },
  {
   "cell_type": "code",
   "execution_count": null,
   "id": "227ea8c5-9474-4499-b778-d6c43f328482",
   "metadata": {},
   "outputs": [],
   "source": [
    "from trustutils import visit\n",
    "plot=visit.Show(\"./abort_QC_Pimp_DP.lata\",\n",
    "                \"Pseudocolor\", \"DELTA_PRESSION_ELEM_dom_fluid\",\n",
    "                iteration=2, nX=2, nY=2, plotmesh=False) \n",
    "\n",
    "plot.add(\"./abort_QC_Pimp_DP.lata\",\n",
    "         \"Pseudocolor\", \"DELTA_PRESSION_ELEM_dom_fluid\",\n",
    "         yIndice=1, iteration=3, plotmesh=False)\n",
    "\n",
    "plot.add(\"./abort_QC_Pimp_DP.lata\",\n",
    "         \"Pseudocolor\", \"DELTA_PRESSION_ELEM_dom_fluid\",\n",
    "         xIndice=1, iteration=4, plotmesh=False) \n",
    "\n",
    "plot.plot() "
   ]
  }
 ],
 "metadata": {},
 "nbformat": 4,
 "nbformat_minor": 5
}
