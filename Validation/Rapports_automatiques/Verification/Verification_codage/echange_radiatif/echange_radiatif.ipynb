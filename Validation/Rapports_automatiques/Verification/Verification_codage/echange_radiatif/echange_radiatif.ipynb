{
 "cells": [
  {
   "cell_type": "markdown",
   "id": "inappropriate-lingerie",
   "metadata": {},
   "source": [
    "# Verification de l'implementation de la CL Echange_Externe_Radiatif"
   ]
  },
  {
   "cell_type": "code",
   "execution_count": null,
   "id": "d4dd1082",
   "metadata": {},
   "outputs": [],
   "source": [
    "from trustutils import run\n",
    "import numpy as np\n",
    "\n",
    "run.introduction(\"Elie Saikali & Yannick Gorsse\")\n",
    "\n",
    "run.TRUST_parameters()\n",
    "run.reset()\n",
    "\n",
    "def newton_T_paroi_VDF(eps, h, T_ext, flux, T0):\n",
    "    Tb = T0\n",
    "    it_max = 100\n",
    "    tolerance = 1e-8\n",
    "    for i in range(it_max):\n",
    "        f = 5.67e-8 * eps * (Tb**4 - T_ext**4) + h * (Tb - T_ext) - flux\n",
    "        f_p = 4 * 5.67e-8 * eps * Tb**3 + h\n",
    "        Tb_new = Tb - f / f_p\n",
    "        if abs(Tb_new - Tb) < tolerance:\n",
    "            return Tb_new\n",
    "        Tb = Tb_new\n",
    "    raise RuntimeError(\"newton_T_paroi_VDF : newton did not converge !\")\n",
    "\n",
    "Text = 500\n",
    "eps = [0, 0.7]\n",
    "hs = [0, 100]\n",
    "\n",
    "parameters = {\n",
    "    \"Text\": Text,\n",
    "    \"dt\" : 0.1,\n",
    "}\n",
    "dis = {\"VDF\" : (\"\", 11), \"VEF\" : (\"trianguler_h dom\", 11)}\n",
    "fluxes = np.linspace(0, 1e5, 5)\n",
    "\n",
    "nb_proc = 1\n",
    "for d, (mesh, ny) in dis.items():\n",
    "    for flux in fluxes:\n",
    "        for e in eps:\n",
    "            for h in hs:\n",
    "                if e == 0 and h == 0: continue\n",
    "                parameters[\"ny\"] = ny\n",
    "                parameters[\"e\"] = e\n",
    "                parameters[\"h\"] = h\n",
    "                parameters[\"flux\"] = flux\n",
    "                parameters[\"mesh\"] = mesh\n",
    "                parameters[\"dis\"] = d\n",
    "                tc = run.addCaseFromTemplate(f\"jdd.data\", f\"{d}/e_{e}/h_{h}/flux_{flux:.1e}\", {**parameters}, nb_proc)\n",
    "                if nb_proc > 1: tc.partition()\n",
    "run.printCases()\n",
    "run.runCases()\n",
    "run.tablePerf()"
   ]
  },
  {
   "cell_type": "code",
   "execution_count": null,
   "id": "3df67755",
   "metadata": {},
   "outputs": [],
   "source": [
    "from trustutils import plot\n",
    "\n",
    "a = plot.Graph()\n",
    "for d in dis:\n",
    "    for flux in fluxes:\n",
    "        for e in eps:\n",
    "            for h in hs:\n",
    "                if e == 0 and h == 0: continue\n",
    "                a.addResidu(f\"{run.BUILD_DIRECTORY}/{d}/e_{e}/h_{h}/flux_{flux:.1e}/jdd.dt_ev\", label=f\"{d} - h={h} - flux_{flux:.1e}\")\n",
    "\n",
    "a.scale(yscale=\"log\")"
   ]
  },
  {
   "cell_type": "code",
   "execution_count": null,
   "id": "4e171b8a",
   "metadata": {},
   "outputs": [],
   "source": [
    "for h in hs:\n",
    "    for e in eps:\n",
    "        if e == 0 and h == 0: continue\n",
    "        a = plot.Graph(f\"h = {h}, eps = {e}\")\n",
    "        for d in dis:\n",
    "            temperatures = []\n",
    "            exact = []\n",
    "            for flux in fluxes:\n",
    "                T = plot.loadText(f\"{run.BUILD_DIRECTORY}/{d}/e_{e}/h_{h}/flux_{flux:.1e}/jdd_T.son\")[-1][-1]\n",
    "                temperatures.append(T)\n",
    "                exact.append(newton_T_paroi_VDF(e, h, Text, flux, T))\n",
    "\n",
    "            a.add(fluxes, temperatures, label=d)\n",
    "        a.add(fluxes, exact, label=\"Analytique\", marker=\"o\")\n",
    "        a.label(\"Flux (W/m2)\", \"Température\")\n",
    "\n",
    "for h in hs:\n",
    "    for e in eps:\n",
    "        if e == 0 and h == 0: continue\n",
    "        a = plot.Graph(f\"h = {h}, eps = {e}\")\n",
    "        for d in dis:\n",
    "            a.addSegment(f\"{run.BUILD_DIRECTORY}/{d}/e_{e}/h_{h}/flux_{fluxes[-1]:.1e}/jdd_T_PROF.son\", label=d, marker=\"o\" if d ==\"VDF\" else \"-\")"
   ]
  }
 ],
 "metadata": {
  "kernelspec": {
   "display_name": "base",
   "language": "python",
   "name": "python3"
  },
  "language_info": {
   "codemirror_mode": {
    "name": "ipython",
    "version": 3
   },
   "file_extension": ".py",
   "mimetype": "text/x-python",
   "name": "python",
   "nbconvert_exporter": "python",
   "pygments_lexer": "ipython3",
   "version": "3.12.7"
  }
 },
 "nbformat": 4,
 "nbformat_minor": 5
}
