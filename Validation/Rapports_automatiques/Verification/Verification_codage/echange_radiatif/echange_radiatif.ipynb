{
 "cells": [
  {
   "cell_type": "markdown",
   "id": "inappropriate-lingerie",
   "metadata": {},
   "source": [
    "# Verification de l'implementation de la CL Echange_Externe_Radiatif"
   ]
  },
  {
   "cell_type": "code",
   "execution_count": null,
   "id": "d4dd1082",
   "metadata": {},
   "outputs": [],
   "source": [
    "from trustutils import run\n",
    "import numpy as np\n",
    "\n",
    "run.introduction(\"Elie Saikali & Yannick Gorsse\")\n",
    "\n",
    "run.TRUST_parameters()\n",
    "run.reset()\n",
    "\n",
    "Text = 500\n",
    "eps = 0.7\n",
    "\n",
    "parameters = {\n",
    "    \"Text\": Text,\n",
    "    \"eps\": eps,\n",
    "    \"dt\" : 1,\n",
    "}\n",
    "dis = {\"VDF\" : \"\", \"VEF\" : \"trianguler_h dom\"}\n",
    "fluxes = np.linspace(0, 1e6, 10)\n",
    "\n",
    "nb_proc = 1\n",
    "for d, mesh in dis.items():\n",
    "    for flux in fluxes:\n",
    "        parameters[\"flux\"] = flux\n",
    "        parameters[\"mesh\"] = mesh\n",
    "        parameters[\"dis\"] = d\n",
    "        tc = run.addCaseFromTemplate(f\"jdd.data\", f\"{d}/flux_{flux:.1e}\", {**parameters}, nb_proc)\n",
    "        if nb_proc > 1: tc.partition()\n",
    "run.printCases()\n",
    "run.runCases()\n",
    "run.tablePerf()"
   ]
  },
  {
   "cell_type": "code",
   "execution_count": null,
   "id": "3df67755",
   "metadata": {},
   "outputs": [],
   "source": [
    "from trustutils import plot\n",
    "\n",
    "a = plot.Graph()\n",
    "for d in dis:\n",
    "    for flux in fluxes:\n",
    "        a.addResidu(f\"{run.BUILD_DIRECTORY}/{d}/flux_{flux:.1e}/jdd.dt_ev\", label=f\"{d} - flux_{flux:.1e}\")\n",
    "\n",
    "a.scale(yscale=\"log\")"
   ]
  },
  {
   "cell_type": "code",
   "execution_count": null,
   "id": "4e171b8a",
   "metadata": {},
   "outputs": [],
   "source": [
    "a = plot.Graph()\n",
    "for d in dis:\n",
    "    temperatures = []\n",
    "    exact = []\n",
    "    for flux in fluxes:\n",
    "        T = plot.loadText(f\"{run.BUILD_DIRECTORY}/{d}/flux_{flux:.1e}/jdd_T.son\")[-1][-1]\n",
    "        temperatures.append(T)\n",
    "        exact.append(pow(flux / eps / 5.67e-8 + Text**4, 0.25))\n",
    "\n",
    "    a.add(fluxes, temperatures, label=d)\n",
    "a.add(fluxes, exact, label=\"Analytique\", marker=\"o\")\n",
    "\n",
    "a = plot.Graph()\n",
    "for d in dis:\n",
    "    a.addSegment(f\"{run.BUILD_DIRECTORY}/{d}/flux_{fluxes[-1]:.1e}/jdd_T_PROF.son\", label=d, marker=\"o\" if d ==\"VDF\" else \"-\")"
   ]
  }
 ],
 "metadata": {
  "kernelspec": {
   "display_name": "base",
   "language": "python",
   "name": "python3"
  },
  "language_info": {
   "codemirror_mode": {
    "name": "ipython",
    "version": 3
   },
   "file_extension": ".py",
   "mimetype": "text/x-python",
   "name": "python",
   "nbconvert_exporter": "python",
   "pygments_lexer": "ipython3",
   "version": "3.12.7"
  }
 },
 "nbformat": 4,
 "nbformat_minor": 5
}
