{
 "cells": [
  {
   "attachments": {},
   "cell_type": "markdown",
   "id": "gross-patent",
   "metadata": {},
   "source": [
    "# Volumetric Heat-Exchange Source Term Verification\n",
    "\n",
    "This Jupyter notebook documents and verifies the implementation of **echange\\_thermique\\_volumique**.  \n",
    "The demonstration problem is a simplified **plate heat exchanger** made of three coupled domains:\n",
    "\n",
    "1. **Primary fluid channel** – hot, single-phase thermo-hydraulic flow (heat donor)  \n",
    "2. **Steel plates** – solid conduction domain separating the two fluids  \n",
    "3. **Secondary fluid channel** – cold, single-phase thermo-hydraulic flow (heat receiver)"
   ]
  },
  {
   "cell_type": "code",
   "execution_count": null,
   "id": "50d4a841",
   "metadata": {},
   "outputs": [],
   "source": [
    "from trustutils.jupyter import run\n",
    "\n",
    "run.introduction(\"Yannick Gorsse\")\n",
    "run.TRUST_parameters()"
   ]
  },
  {
   "cell_type": "code",
   "execution_count": null,
   "id": "15189bb2-352d-48f9-85fa-64c4323e0f88",
   "metadata": {},
   "outputs": [],
   "source": [
    "run.reset()\n",
    "run.initBuildDirectory()\n",
    "\n",
    "Lx = 0.5\n",
    "Ly = 1\n",
    "ep_plaque = 1e-3\n",
    "ep_sec  = 5e-3\n",
    "ep_prim = 5e-3\n",
    "np = Lx / (2 * ep_plaque + ep_sec + ep_prim)\n",
    "phi1 = (np * ep_prim) / Lx\n",
    "phic = (2 * np * ep_plaque) / Lx\n",
    "phi2 = 1 - phi1 - phic\n",
    "ai1 = 2 * np / Lx\n",
    "ai2 = 2 * np / Lx\n",
    "dh1 = 2 * ep_prim\n",
    "dh2 = 2 * ep_sec\n",
    "\n",
    "\n",
    "subs = {\"phi1\" : phi1, \"phic\" : phic, \"phi2\" : phi2, \"ai1\" : ai1, \"ai2\" : ai2, \"dh1\" : dh1, \"dh2\" : dh2, \"epaisseur_acier\" : ep_plaque}\n",
    "\n",
    "dis = [(\"PolyMAC_P0\", \"-\"), (\"PolyMAC_P0P1NC\", \"-x\"), (\"VDF\", \"-+\")]\n",
    "# single domain case\n",
    "for d, _ in dis:\n",
    "    tc = run.addCaseFromTemplate(\"jdd.data\", d, {**subs, **{\"dis\": d}})\n",
    "\n",
    "run.runCases()\n",
    "run.tablePerf()"
   ]
  },
  {
   "cell_type": "code",
   "execution_count": null,
   "id": "a4e5dc4c",
   "metadata": {},
   "outputs": [],
   "source": [
    "from trustutils import plot\n",
    "\n",
    "a = plot.Graph(\"Residuals\")\n",
    "for d, m in dis:\n",
    "    a.addResidu(f\"{run.BUILD_DIRECTORY}/{d}/jdd.dt_ev\", label=d, marker=m)\n",
    "\n",
    "a.scale(yscale=\"log\")"
   ]
  },
  {
   "cell_type": "code",
   "execution_count": null,
   "id": "18034e5d",
   "metadata": {},
   "outputs": [],
   "source": [
    "a = plot.Graph(\"Temperatures\")\n",
    "\n",
    "for d, m in dis:\n",
    "    for c in [\"PRIM\", \"SOL\", \"SEC\"]:\n",
    "        a.addSegment(f\"{run.BUILD_DIRECTORY}/{d}/jdd_T{c}.son\", label=f\"{d}, {c}\", marker=m)\n"
   ]
  }
 ],
 "metadata": {
  "kernelspec": {
   "display_name": "Python 3",
   "language": "python",
   "name": "python3"
  },
  "language_info": {
   "codemirror_mode": {
    "name": "ipython",
    "version": 3
   },
   "file_extension": ".py",
   "mimetype": "text/x-python",
   "name": "python",
   "nbconvert_exporter": "python",
   "pygments_lexer": "ipython3",
   "version": "3.12.5"
  }
 },
 "nbformat": 4,
 "nbformat_minor": 5
}
