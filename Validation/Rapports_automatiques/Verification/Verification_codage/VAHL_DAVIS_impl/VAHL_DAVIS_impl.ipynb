{
 "cells": [
  {
   "cell_type": "markdown",
   "id": "9cf2955a",
   "metadata": {},
   "source": [
    "# Convection Vahl Davis implicite"
   ]
  },
  {
   "cell_type": "markdown",
   "id": "ed816f14",
   "metadata": {},
   "source": [
    "## Introduction\n",
    " \n",
    " Validation made by: M. Elmo\n",
    " \n",
    " Report generated 31/10/2024"
   ]
  },
  {
   "cell_type": "markdown",
   "id": "d26411e8",
   "metadata": {},
   "source": [
    "### Description\n",
    " \n",
    "Here the VAHL\\_DAVIS test case is considered in a 2D laminar regime to assess the implicit time scheme.\n",
    "The calculations are performed with the Piso, Implicite and Simple algorithms as well as with the Euler explicit time scheme for VEFPreP1b and VDF discretization.\n",
    " The amont convection scheme is considered for the Navier\\_Stokes and Convection\\_Diffusion\\_Temperature equations.\n",
    " \n",
    " The calculations are compared with explicite resolution\n",
    " \n"
   ]
  },
  {
   "cell_type": "markdown",
   "id": "15b75edc",
   "metadata": {},
   "source": [
    "### TRUST parameters\n",
    " \n",
    "* Version TRUST :  \n",
    "* Type of problem : Thermal hydraulic \n",
    "* Time scheme : Euler_implicite (Piso - Implicite - Simple) and Euler_explicite \n",
    "* Convection scheme :  hydraulic and temperature: amont \n",
    "* Discretization : VEFPreP1B and VDF \n",
    "* Type of boundary conditions : no slip at solid interface \n",
    "* Type of fluid : incompressible with boussinesq source terms \n"
   ]
  },
  {
   "cell_type": "code",
   "execution_count": null,
   "id": "78759371",
   "metadata": {},
   "outputs": [],
   "source": [
    "from trustutils import run\n",
    " \n",
    "run.reset() \n",
    "run.addCase(\"VAHL_DAVIS_VEFPreP1B\",\"VAHL_DAVIS_VEFPreP1B_explicite.data\")\n",
    "run.addCase(\"VAHL_DAVIS_VEFPreP1B\",\"VAHL_DAVIS_VEFPreP1B_piso.data\")\n",
    "run.addCase(\"VAHL_DAVIS_VEFPreP1B\",\"VAHL_DAVIS_VEFPreP1B_implicite.data\")\n",
    "# /* data set in annex */ \n",
    "run.addCase(\"VAHL_DAVIS_VEFPreP1B\",\"VAHL_DAVIS_VEFPreP1B_simple.data\")\n",
    "run.addCase(\"VAHL_DAVIS_VEFPreP1B\",\"VAHL_DAVIS_VEFPreP1B_piso_facsecmax500.data\")\n",
    "run.addCase(\"VAHL_DAVIS_VEFPreP1B\",\"VAHL_DAVIS_VEFPreP1B_implicite_facsecmax500.data\")\n",
    "run.addCase(\"VAHL_DAVIS_VEFPreP1B\",\"VAHL_DAVIS_VEFPreP1B_simple_facsecmax500.data\")\n",
    "run.addCase(\"VAHL_DAVIS_VEFPreP1B\",\"VAHL_DAVIS_VEFPreP1B_simple_relax0.2.data\")\n",
    "run.addCase(\"VAHL_DAVIS_VEFPreP1B\",\"VAHL_DAVIS_VEFPreP1B_simple_relax0.01.data\")\n",
    "run.addCase(\"VAHL_DAVIS_VEFPreP1B\",\"VAHL_DAVIS_VEFPreP1B_simple_relax0.001.data\")\n",
    "run.addCase(\"VAHL_DAVIS_VEFPreP1B\",\"VAHL_DAVIS_VEFPreP1B_piso_nb_proj2.data\")\n",
    "run.addCase(\"VAHL_DAVIS_VDF\",\"VAHL_DAVIS_VDF_explicite.data\")\n",
    "run.addCase(\"VAHL_DAVIS_VDF\",\"VAHL_DAVIS_VDF_piso.data\")\n",
    "run.addCase(\"VAHL_DAVIS_VDF\",\"VAHL_DAVIS_VDF_implicite.data\")\n",
    "run.addCase(\"VAHL_DAVIS_VDF\",\"VAHL_DAVIS_VDF_simple.data\")\n",
    "run.addCase(\"VAHL_DAVIS_VDF\",\"VAHL_DAVIS_VDF_piso_facsecmax500.data\")\n",
    "run.addCase(\"VAHL_DAVIS_VDF\",\"VAHL_DAVIS_VDF_implicite_facsecmax500.data\")\n",
    "run.addCase(\"VAHL_DAVIS_VDF\",\"VAHL_DAVIS_VDF_simple_facsecmax500.data\")\n",
    "run.addCase(\"VAHL_DAVIS_VDF\",\"VAHL_DAVIS_VDF_simple_relax0.2.data\")\n",
    "run.addCase(\"VAHL_DAVIS_VDF\",\"VAHL_DAVIS_VDF_simple_relax0.01.data\")\n",
    "run.addCase(\"VAHL_DAVIS_VDF\",\"VAHL_DAVIS_VDF_simple_relax0.001.data\")\n",
    "run.addCase(\"VAHL_DAVIS_VDF\",\"VAHL_DAVIS_VDF_piso_nb_proj2.data\")\n",
    "run.printCases()\n",
    "run.runCases()"
   ]
  },
  {
   "cell_type": "markdown",
   "id": "ffeb316c",
   "metadata": {},
   "source": [
    "## Tests Description\n",
    " \n"
   ]
  },
  {
   "cell_type": "markdown",
   "id": "4eace076",
   "metadata": {},
   "source": [
    "### mesh VEF\n",
    " \n",
    " Mesh : VEF : (41 x 41) + Trianguler\\_H\n",
    "\n"
   ]
  },
  {
   "cell_type": "code",
   "execution_count": null,
   "id": "f0415703",
   "metadata": {},
   "outputs": [],
   "source": [
    "from trustutils import visit\n",
    " \n",
    "visu = visit.Show(\"./VAHL_DAVIS_VEFPreP1B/VAHL_DAVIS_VEFPreP1B_explicite.lata\",\"Mesh\",\"dom\")\n",
    "visu.visuOptions([\"no_axes\"])\n",
    "visu.plot()"
   ]
  },
  {
   "cell_type": "markdown",
   "id": "b3ed9b9a",
   "metadata": {},
   "source": [
    "### mesh VDF\n",
    " \n",
    " Mesh : VDF : (101 x 101)\n",
    "\n"
   ]
  },
  {
   "cell_type": "code",
   "execution_count": null,
   "id": "819a0ae6",
   "metadata": {},
   "outputs": [],
   "source": [
    "from trustutils import visit\n",
    " \n",
    "visu = visit.Show(\"./VAHL_DAVIS_VDF/VAHL_DAVIS_VDF_explicite.lata\",\"Mesh\",\"dom\")\n",
    "visu.visuOptions([\"no_axes\"])\n",
    "visu.plot()"
   ]
  },
  {
   "cell_type": "markdown",
   "id": "3a9c6ab5",
   "metadata": {},
   "source": [
    "### Time schemes parameters\n",
    " \n",
    " Notice that value -1 here indicates that the the specified variable has no sense for the algorithm.\n",
    "\n"
   ]
  },
  {
   "cell_type": "code",
   "execution_count": null,
   "id": "28e93a97",
   "metadata": {},
   "outputs": [],
   "source": [
    "from trustutils import plot \n",
    " \n",
    "columns=['Initial facsec ', r\" seuil solveur \", r' seuil implicite ', r' seuil statio'] \n",
    "tab = plot.Table(columns)\n",
    "tab.addLine([[1, -1, -1, 5.3e-08]],r\"Euler explicite\")\n",
    "tab.addLine([[1, 1e-08, 1000000.0, 1e-05]],r\"Piso\")\n",
    "tab.addLine([[1, 1e-08, 1000000.0, 1e-05]],r\"Implicite\")\n",
    "tab.addLine([[1, 1e-08, 1000000.0, 1e-05]],r\"Simple\")\n",
    "tab.setTitle(\"Time schemes parameters\")\n",
    "display(tab)"
   ]
  },
  {
   "cell_type": "markdown",
   "id": "6b51f920",
   "metadata": {},
   "source": [
    "## Results for the default case (VEFPreP1B)\n",
    " \n",
    "For the default case, the value of the facsec\\_max parameter is fixed to 30 and the value of the relax\\_pression parameter is set to 0.1 when the Simple algorithm is considered.\n",
    "\n"
   ]
  },
  {
   "cell_type": "markdown",
   "id": "6ed35820",
   "metadata": {},
   "source": [
    "The figure shows the cell convection.\n",
    "\n"
   ]
  },
  {
   "cell_type": "code",
   "execution_count": null,
   "id": "f1d2e980",
   "metadata": {},
   "outputs": [],
   "source": [
    "from trustutils import visit\n",
    " \n",
    "visu = visit.Show(\"./VAHL_DAVIS_VEFPreP1B/VAHL_DAVIS_VEFPreP1B_explicite.lata\",\"Pseudocolor\",\"TEMPERATURE_SOM_dom\")\n",
    "visu.addField(\"./VAHL_DAVIS_VEFPreP1B/VAHL_DAVIS_VEFPreP1B_explicite.lata\",\"Vector\",\"VITESSE_SOM_dom\")\n",
    "visu.plot()"
   ]
  },
  {
   "cell_type": "markdown",
   "id": "029698ae",
   "metadata": {},
   "source": [
    "\n",
    "\n"
   ]
  },
  {
   "cell_type": "code",
   "execution_count": null,
   "id": "4cbf9fe5",
   "metadata": {},
   "outputs": [],
   "source": [
    "from trustutils import plot \n",
    " \n",
    "fig = plot.Graph(r\"Velocity profile at y = 0.005 m\") \n",
    "fig.addSegment(\"./VAHL_DAVIS_VEFPreP1B/VAHL_DAVIS_VEFPreP1B_explicite_SONDE_VITY.son\",label=r\"Euler explicite\",marker='-x') \n",
    "fig.addSegment(\"./VAHL_DAVIS_VEFPreP1B/VAHL_DAVIS_VEFPreP1B_piso_SONDE_VITY.son\",label=r\"Piso\",marker='-x') \n",
    "fig.addSegment(\"./VAHL_DAVIS_VEFPreP1B/VAHL_DAVIS_VEFPreP1B_implicite_SONDE_VITY.son\",label=r\"Implicite\",marker='-x') \n",
    "fig.addSegment(\"./VAHL_DAVIS_VEFPreP1B/VAHL_DAVIS_VEFPreP1B_simple_SONDE_VITY.son\",label=r\"Simple\",marker='-x') \n",
    "\n",
    "fig.label(r\"x (m)\",r\"V (m/s)\")\n",
    "\n",
    "fig.visu(xmin=0,xmax=0.01)\n"
   ]
  },
  {
   "cell_type": "markdown",
   "id": "f3190e6a",
   "metadata": {},
   "source": [
    "\n",
    "\n"
   ]
  },
  {
   "cell_type": "code",
   "execution_count": null,
   "id": "cbe72b73",
   "metadata": {},
   "outputs": [],
   "source": [
    "from trustutils import plot \n",
    " \n",
    "fig = plot.Graph(r\"Temperature profile at y = 0.005 m\") \n",
    "fig.addSegment(\"./VAHL_DAVIS_VEFPreP1B/VAHL_DAVIS_VEFPreP1B_explicite_SONDE_TEMPY.son\",label=r\"Euler explicite\",marker='-x') \n",
    "fig.addSegment(\"./VAHL_DAVIS_VEFPreP1B/VAHL_DAVIS_VEFPreP1B_piso_SONDE_TEMPY.son\",label=r\"Piso\",marker='-x') \n",
    "fig.addSegment(\"./VAHL_DAVIS_VEFPreP1B/VAHL_DAVIS_VEFPreP1B_implicite_SONDE_TEMPY.son\",label=r\"Implicite\",marker='-x') \n",
    "fig.addSegment(\"./VAHL_DAVIS_VEFPreP1B/VAHL_DAVIS_VEFPreP1B_simple_SONDE_TEMPY.son\",label=r\"Simple\",marker='-x') \n",
    "\n",
    "fig.label(r\"x (m)\",r\"T (°K)\")\n",
    "\n",
    "fig.visu(xmin=0,xmax=0.01)\n"
   ]
  },
  {
   "cell_type": "markdown",
   "id": "4e12176c",
   "metadata": {},
   "source": [
    "\n",
    "\n"
   ]
  },
  {
   "cell_type": "code",
   "execution_count": null,
   "id": "987b0bbb",
   "metadata": {},
   "outputs": [],
   "source": [
    "from trustutils import plot \n",
    " \n",
    "fig = plot.Graph(r\"Time evolution of the residu\") \n",
    "data = plot.loadText(\"./VAHL_DAVIS_VEFPreP1B/VAHL_DAVIS_VEFPreP1B_explicite.dt_ev\")\n",
    "fig.add(data[0],data[3],label=r\"Euler explicite\",marker='-x')\n",
    "data = plot.loadText(\"./VAHL_DAVIS_VEFPreP1B/VAHL_DAVIS_VEFPreP1B_piso.dt_ev\")\n",
    "fig.add(data[0],data[3],label=r\"Piso\",marker='-x')\n",
    "data = plot.loadText(\"./VAHL_DAVIS_VEFPreP1B/VAHL_DAVIS_VEFPreP1B_implicite.dt_ev\")\n",
    "fig.add(data[0],data[3],label=r\"Implicite\",marker='-x')\n",
    "data = plot.loadText(\"./VAHL_DAVIS_VEFPreP1B/VAHL_DAVIS_VEFPreP1B_simple.dt_ev\")\n",
    "fig.add(data[0],data[3],label=r\"Simple\",marker='-x')\n",
    "\n",
    "fig.label(r\"Time (s)\",r\"Residu\")\n",
    "\n",
    "fig.visu(xmin=0,xmax=2)\n",
    "fig.visu(ymin=1.e-4,ymax=1e4)\n",
    "fig.scale(yscale='log')\n"
   ]
  },
  {
   "cell_type": "markdown",
   "id": "7af31192",
   "metadata": {},
   "source": [
    "\n",
    "\n"
   ]
  },
  {
   "cell_type": "code",
   "execution_count": null,
   "id": "1c4809a0",
   "metadata": {},
   "outputs": [],
   "source": [
    "from trustutils import plot \n",
    " \n",
    "fig = plot.Graph(r\"Time evolution of the facsec\") \n",
    "data = plot.loadText(\"./VAHL_DAVIS_VEFPreP1B/VAHL_DAVIS_VEFPreP1B_explicite.dt_ev\")\n",
    "fig.add(data[0],data[2],label=r\"Euler explicite\",marker='-x')\n",
    "data = plot.loadText(\"./VAHL_DAVIS_VEFPreP1B/VAHL_DAVIS_VEFPreP1B_piso.dt_ev\")\n",
    "fig.add(data[0],data[2],label=r\"Piso\",marker='-x')\n",
    "data = plot.loadText(\"./VAHL_DAVIS_VEFPreP1B/VAHL_DAVIS_VEFPreP1B_implicite.dt_ev\")\n",
    "fig.add(data[0],data[2],label=r\"Implicite\",marker='-x')\n",
    "data = plot.loadText(\"./VAHL_DAVIS_VEFPreP1B/VAHL_DAVIS_VEFPreP1B_simple.dt_ev\")\n",
    "fig.add(data[0],data[2],label=r\"Simple\",marker='-x')\n",
    "\n",
    "fig.label(r\"Time (s)\",r\"facsec\")\n",
    "\n",
    "fig.visu(0,2,0,40)\n"
   ]
  },
  {
   "cell_type": "markdown",
   "id": "69328301",
   "metadata": {},
   "source": [
    "## Influence of the facsec parameter\n",
    " \n",
    "In this chapter the influence of the facsec parameter is tested. The value retained for the facsec\\_max is 500 and the results are still compared to the explicit ones.\n",
    "The relax\\_pression parameter is set to 0.01 when the Simple algorithm is considered.\n",
    " \n"
   ]
  },
  {
   "cell_type": "markdown",
   "id": "1db1fc40",
   "metadata": {},
   "source": [
    "\n",
    "\n"
   ]
  },
  {
   "cell_type": "code",
   "execution_count": null,
   "id": "efe47af0",
   "metadata": {},
   "outputs": [],
   "source": [
    "from trustutils import plot \n",
    " \n",
    "fig = plot.Graph(r\"Velocity profile at y = 0.005 m\") \n",
    "fig.addSegment(\"./VAHL_DAVIS_VEFPreP1B/VAHL_DAVIS_VEFPreP1B_explicite_SONDE_VITY.son\",label=r\"Euler explicite\",marker='-x') \n",
    "fig.addSegment(\"./VAHL_DAVIS_VEFPreP1B/VAHL_DAVIS_VEFPreP1B_piso_facsecmax500_SONDE_VITY.son\",label=r\"Piso\",marker='-x') \n",
    "fig.addSegment(\"./VAHL_DAVIS_VEFPreP1B/VAHL_DAVIS_VEFPreP1B_implicite_facsecmax500_SONDE_VITY.son\",label=r\"Implicite\",marker='-x') \n",
    "fig.addSegment(\"./VAHL_DAVIS_VEFPreP1B/VAHL_DAVIS_VEFPreP1B_simple_facsecmax500_SONDE_VITY.son\",label=r\"Simple\",marker='-x') \n",
    "\n",
    "fig.label(r\"x (m)\",r\"V (m/s)\")\n",
    "\n",
    "fig.visu(xmin=0,xmax=0.01)\n"
   ]
  },
  {
   "cell_type": "markdown",
   "id": "0e4a0ea2",
   "metadata": {},
   "source": [
    "\n",
    "\n"
   ]
  },
  {
   "cell_type": "code",
   "execution_count": null,
   "id": "77ada696",
   "metadata": {},
   "outputs": [],
   "source": [
    "from trustutils import plot \n",
    " \n",
    "fig = plot.Graph(r\"Temperature profile at y = 0.005 m\") \n",
    "fig.addSegment(\"./VAHL_DAVIS_VEFPreP1B/VAHL_DAVIS_VEFPreP1B_explicite_SONDE_TEMPY.son\",label=r\"Euler explicite\",marker='-x') \n",
    "fig.addSegment(\"./VAHL_DAVIS_VEFPreP1B/VAHL_DAVIS_VEFPreP1B_piso_facsecmax500_SONDE_TEMPY.son\",label=r\"Piso\",marker='-x') \n",
    "fig.addSegment(\"./VAHL_DAVIS_VEFPreP1B/VAHL_DAVIS_VEFPreP1B_implicite_facsecmax500_SONDE_TEMPY.son\",label=r\"Implicite\",marker='-x') \n",
    "fig.addSegment(\"./VAHL_DAVIS_VEFPreP1B/VAHL_DAVIS_VEFPreP1B_simple_facsecmax500_SONDE_TEMPY.son\",label=r\"Simple\",marker='-x') \n",
    "\n",
    "fig.label(r\"x (m)\",r\"T (°K)\")\n",
    "\n",
    "fig.visu(xmin=0,xmax=0.01)\n"
   ]
  },
  {
   "cell_type": "markdown",
   "id": "dd610ac5",
   "metadata": {},
   "source": [
    "\n",
    "\n"
   ]
  },
  {
   "cell_type": "code",
   "execution_count": null,
   "id": "7800f7f5",
   "metadata": {},
   "outputs": [],
   "source": [
    "from trustutils import plot \n",
    " \n",
    "fig = plot.Graph(r\"Time evolution of the residu\") \n",
    "data = plot.loadText(\"./VAHL_DAVIS_VEFPreP1B/VAHL_DAVIS_VEFPreP1B_explicite.dt_ev\")\n",
    "fig.add(data[0],data[3],label=r\"Euler explicite\",marker='-x')\n",
    "data = plot.loadText(\"./VAHL_DAVIS_VEFPreP1B/VAHL_DAVIS_VEFPreP1B_piso_facsecmax500.dt_ev\")\n",
    "fig.add(data[0],data[3],label=r\"Piso\",marker='-x')\n",
    "data = plot.loadText(\"./VAHL_DAVIS_VEFPreP1B/VAHL_DAVIS_VEFPreP1B_implicite_facsecmax500.dt_ev\")\n",
    "fig.add(data[0],data[3],label=r\"Implicite\",marker='-x')\n",
    "data = plot.loadText(\"./VAHL_DAVIS_VEFPreP1B/VAHL_DAVIS_VEFPreP1B_simple_facsecmax500.dt_ev\")\n",
    "fig.add(data[0],data[3],label=r\"Simple\",marker='-x')\n",
    "\n",
    "fig.label(r\"Time (s)\",r\"Residu\")\n",
    "\n",
    "fig.visu(xmin=0,xmax=2)\n",
    "fig.visu(ymin=1.e-4,ymax=1e4)\n",
    "fig.scale(yscale='log')\n"
   ]
  },
  {
   "cell_type": "markdown",
   "id": "79ae6ce9",
   "metadata": {},
   "source": [
    "\n",
    "\n"
   ]
  },
  {
   "cell_type": "code",
   "execution_count": null,
   "id": "dca95bc2",
   "metadata": {},
   "outputs": [],
   "source": [
    "from trustutils import plot \n",
    " \n",
    "fig = plot.Graph(r\"Time evolution of the facsec\") \n",
    "data = plot.loadText(\"./VAHL_DAVIS_VEFPreP1B/VAHL_DAVIS_VEFPreP1B_explicite.dt_ev\")\n",
    "fig.add(data[0],data[2],label=r\"Euler explicite\",marker='-x')\n",
    "data = plot.loadText(\"./VAHL_DAVIS_VEFPreP1B/VAHL_DAVIS_VEFPreP1B_piso_facsecmax500.dt_ev\")\n",
    "fig.add(data[0],data[2],label=r\"Piso\",marker='-x')\n",
    "data = plot.loadText(\"./VAHL_DAVIS_VEFPreP1B/VAHL_DAVIS_VEFPreP1B_implicite_facsecmax500.dt_ev\")\n",
    "fig.add(data[0],data[2],label=r\"Implicite\",marker='-x')\n",
    "data = plot.loadText(\"./VAHL_DAVIS_VEFPreP1B/VAHL_DAVIS_VEFPreP1B_simple_facsecmax500.dt_ev\")\n",
    "fig.add(data[0],data[2],label=r\"Simple\",marker='-x')\n",
    "\n",
    "fig.label(r\"Time (s)\",r\"facsec\")\n",
    "\n",
    "fig.visu(0,2,0,600)\n"
   ]
  },
  {
   "cell_type": "markdown",
   "id": "7df06b95",
   "metadata": {},
   "source": [
    "## Influence of the relax\\_pression parameter for the Simple algorithm\n",
    " \n",
    "In this chapter the influence of the relax\\_pression parameter for the Simple algorithm is tested. The calculations have been performed for the following values of this parameter : 0.2, 0.1, 0.01 and 0.001. The results are compared to the explicit ones.\n",
    "The value of the facsec\\_max parameter is set to 30.\n",
    " \n"
   ]
  },
  {
   "cell_type": "markdown",
   "id": "64bdd9ab",
   "metadata": {},
   "source": [
    "\n",
    "\n"
   ]
  },
  {
   "cell_type": "code",
   "execution_count": null,
   "id": "cea9a37f",
   "metadata": {},
   "outputs": [],
   "source": [
    "from trustutils import plot \n",
    " \n",
    "fig = plot.Graph(r\"Velocity profile at y = 0.005 m\") \n",
    "fig.addSegment(\"./VAHL_DAVIS_VEFPreP1B/VAHL_DAVIS_VEFPreP1B_explicite_SONDE_VITY.son\",label=r\"Euler explicite\",marker='-x') \n",
    "fig.addSegment(\"./VAHL_DAVIS_VEFPreP1B/VAHL_DAVIS_VEFPreP1B_simple_relax0.2_SONDE_VITY.son\",label=r\"relax_pression = 0.2\",marker='-x') \n",
    "fig.addSegment(\"./VAHL_DAVIS_VEFPreP1B/VAHL_DAVIS_VEFPreP1B_simple_SONDE_VITY.son\",label=r\"relax_pression = 0.1\",marker='-x') \n",
    "fig.addSegment(\"./VAHL_DAVIS_VEFPreP1B/VAHL_DAVIS_VEFPreP1B_simple_relax0.01_SONDE_VITY.son\",label=r\"relax_pression = 0.01\",marker='-x') \n",
    "fig.addSegment(\"./VAHL_DAVIS_VEFPreP1B/VAHL_DAVIS_VEFPreP1B_simple_relax0.001_SONDE_VITY.son\",label=r\"relax_pression = 0.001\",marker='-x') \n",
    "\n",
    "fig.label(r\"x (m)\",r\"V (m/s)\")\n",
    "\n",
    "fig.visu(xmin=0,xmax=0.01)\n"
   ]
  },
  {
   "cell_type": "markdown",
   "id": "b06217fb",
   "metadata": {},
   "source": [
    "\n",
    "\n"
   ]
  },
  {
   "cell_type": "code",
   "execution_count": null,
   "id": "6423d277",
   "metadata": {},
   "outputs": [],
   "source": [
    "from trustutils import plot \n",
    " \n",
    "fig = plot.Graph(r\"Temperature profile at y = 0.005 m\") \n",
    "fig.addSegment(\"./VAHL_DAVIS_VEFPreP1B/VAHL_DAVIS_VEFPreP1B_explicite_SONDE_TEMPY.son\",label=r\"Euler explicite\",marker='-x') \n",
    "fig.addSegment(\"./VAHL_DAVIS_VEFPreP1B/VAHL_DAVIS_VEFPreP1B_simple_relax0.2_SONDE_TEMPY.son\",label=r\"relax_pression = 0.2\",marker='-x') \n",
    "fig.addSegment(\"./VAHL_DAVIS_VEFPreP1B/VAHL_DAVIS_VEFPreP1B_simple_SONDE_TEMPY.son\",label=r\"relax_pression = 0.1\",marker='-x') \n",
    "fig.addSegment(\"./VAHL_DAVIS_VEFPreP1B/VAHL_DAVIS_VEFPreP1B_simple_relax0.01_SONDE_TEMPY.son\",label=r\"relax_pression = 0.01\",marker='-x') \n",
    "fig.addSegment(\"./VAHL_DAVIS_VEFPreP1B/VAHL_DAVIS_VEFPreP1B_simple_relax0.001_SONDE_TEMPY.son\",label=r\"relax_pression = 0.001\",marker='-x') \n",
    "\n",
    "fig.label(r\"x (m)\",r\"T (°K)\")\n",
    "\n",
    "fig.visu(xmin=0,xmax=0.01)\n"
   ]
  },
  {
   "cell_type": "markdown",
   "id": "0d5e9c4e",
   "metadata": {},
   "source": [
    "\n",
    "\n"
   ]
  },
  {
   "cell_type": "code",
   "execution_count": null,
   "id": "5cd42389",
   "metadata": {},
   "outputs": [],
   "source": [
    "from trustutils import plot \n",
    " \n",
    "fig = plot.Graph(r\"Time evolution of the residu\") \n",
    "data = plot.loadText(\"./VAHL_DAVIS_VEFPreP1B/VAHL_DAVIS_VEFPreP1B_explicite.dt_ev\")\n",
    "fig.add(data[0],data[3],label=r\"Euler explicite\",marker='-x')\n",
    "data = plot.loadText(\"./VAHL_DAVIS_VEFPreP1B/VAHL_DAVIS_VEFPreP1B_simple_relax0.2.dt_ev\")\n",
    "fig.add(data[0],data[3],label=r\"relax_pression = 0.2\",marker='-x')\n",
    "data = plot.loadText(\"./VAHL_DAVIS_VEFPreP1B/VAHL_DAVIS_VEFPreP1B_simple.dt_ev\")\n",
    "fig.add(data[0],data[3],label=r\"relax_pression = 0.1\",marker='-x')\n",
    "data = plot.loadText(\"./VAHL_DAVIS_VEFPreP1B/VAHL_DAVIS_VEFPreP1B_simple_relax0.01.dt_ev\")\n",
    "fig.add(data[0],data[3],label=r\"relax_pression = 0.01\",marker='-x')\n",
    "data = plot.loadText(\"./VAHL_DAVIS_VEFPreP1B/VAHL_DAVIS_VEFPreP1B_simple_relax0.001.dt_ev\")\n",
    "fig.add(data[0],data[3],label=r\"relax_pression = 0.001\",marker='-x')\n",
    "\n",
    "fig.label(r\"Time (s)\",r\"Residu\")\n",
    "\n",
    "fig.visu(xmin=0,xmax=3)\n",
    "fig.visu(ymin=1.e-4,ymax=1e4)\n",
    "fig.scale(yscale='log')\n"
   ]
  },
  {
   "cell_type": "markdown",
   "id": "86972fe6",
   "metadata": {},
   "source": [
    "## Influence of the number of corrections for the PISO algorithm\n",
    " \n",
    "In this chapter the influence of the number of corrections applied in the PISO algorithm is tested. In a first case the maximum number of corrections is set to 21 and in a second case it is fixed to 2.\n",
    "The value of the facsec\\_max parameter is set to 30.\n",
    " \n"
   ]
  },
  {
   "cell_type": "markdown",
   "id": "ae6b183c",
   "metadata": {},
   "source": [
    "\n",
    "\n"
   ]
  },
  {
   "cell_type": "code",
   "execution_count": null,
   "id": "927557ef",
   "metadata": {},
   "outputs": [],
   "source": [
    "from trustutils import plot \n",
    " \n",
    "fig = plot.Graph(r\"Velocity profile at y = 0.005 m\") \n",
    "fig.addSegment(\"./VAHL_DAVIS_VEFPreP1B/VAHL_DAVIS_VEFPreP1B_explicite_SONDE_VITY.son\",label=r\"Euler explicite\",marker='-x') \n",
    "fig.addSegment(\"./VAHL_DAVIS_VEFPreP1B/VAHL_DAVIS_VEFPreP1B_piso_SONDE_VITY.son\",label=r\"nb corrections max = 21\",marker='-x') \n",
    "fig.addSegment(\"./VAHL_DAVIS_VEFPreP1B/VAHL_DAVIS_VEFPreP1B_piso_nb_proj2_SONDE_VITY.son\",label=r\"nb corrections max = 2\",marker='-x') \n",
    "\n",
    "fig.label(r\"x (m)\",r\"V (m/s)\")\n",
    "\n",
    "fig.visu(xmin=0,xmax=0.01)\n"
   ]
  },
  {
   "cell_type": "markdown",
   "id": "88cab1da",
   "metadata": {},
   "source": [
    "\n",
    "\n"
   ]
  },
  {
   "cell_type": "code",
   "execution_count": null,
   "id": "59161221",
   "metadata": {},
   "outputs": [],
   "source": [
    "from trustutils import plot \n",
    " \n",
    "fig = plot.Graph(r\"Temperature profile at y = 0.005 m\") \n",
    "fig.addSegment(\"./VAHL_DAVIS_VEFPreP1B/VAHL_DAVIS_VEFPreP1B_explicite_SONDE_TEMPY.son\",label=r\"Euler explicite\",marker='-x') \n",
    "fig.addSegment(\"./VAHL_DAVIS_VEFPreP1B/VAHL_DAVIS_VEFPreP1B_piso_SONDE_TEMPY.son\",label=r\"nb corrections max = 21\",marker='-x') \n",
    "fig.addSegment(\"./VAHL_DAVIS_VEFPreP1B/VAHL_DAVIS_VEFPreP1B_piso_nb_proj2_SONDE_TEMPY.son\",label=r\"nb corrections max = 2\",marker='-x') \n",
    "\n",
    "fig.label(r\"x (m)\",r\"T (°K)\")\n",
    "\n",
    "fig.visu(xmin=0,xmax=0.01)\n"
   ]
  },
  {
   "cell_type": "markdown",
   "id": "c7aa5be2",
   "metadata": {},
   "source": [
    "\n",
    "\n"
   ]
  },
  {
   "cell_type": "code",
   "execution_count": null,
   "id": "c167c2f8",
   "metadata": {},
   "outputs": [],
   "source": [
    "from trustutils import plot \n",
    " \n",
    "fig = plot.Graph(r\"Time evolution of the residu\") \n",
    "data = plot.loadText(\"./VAHL_DAVIS_VEFPreP1B/VAHL_DAVIS_VEFPreP1B_explicite.dt_ev\")\n",
    "fig.add(data[0],data[3],label=r\"Euler explicite\",marker='-x')\n",
    "data = plot.loadText(\"./VAHL_DAVIS_VEFPreP1B/VAHL_DAVIS_VEFPreP1B_piso.dt_ev\")\n",
    "fig.add(data[0],data[3],label=r\"nb corrections max = 21\",marker='-x')\n",
    "data = plot.loadText(\"./VAHL_DAVIS_VEFPreP1B/VAHL_DAVIS_VEFPreP1B_piso_nb_proj2.dt_ev\")\n",
    "fig.add(data[0],data[3],label=r\"nb corrections max = 2\",marker='-x')\n",
    "\n",
    "fig.label(r\"Time (s)\",r\"Residu\")\n",
    "\n",
    "fig.visu(xmin=0,xmax=2)\n",
    "fig.visu(ymin=1.e-4,ymax=1e4)\n",
    "fig.scale(yscale='log')\n"
   ]
  },
  {
   "cell_type": "markdown",
   "id": "cd2ec8ea",
   "metadata": {},
   "source": [
    "## Conclusion\n",
    " \n",
    "It is first observed that the three implicit algorithms lead to identical results in comparison to those obtained with the explicit time scheme.\n",
    "It may also be noticed that the three implicit algorithms reach the stationnarity threshold value when the facsec is allowed to increase to values larger than 30.\n",
    " -PISO : The efficiency of the algorithm is strongly improved when the maximum corrections is reduced to 2. This fact is observed for facsec\\_max = 30.\n",
    " \n",
    " -Simple : The relaxation pressure factor affects the residu evolution since for the larger value (0.2) the requested convergency is not reached and moreover the velocity and temperature profiles are strongly affected.\n",
    " Finally the more efficient algorithm to obtain satisfactory results with the requested convergency criteria is the Implicite. The big advantage of this algorithm is that there is no need to provide other parameters, which is more user friendly and gives results which are less user dependant.\n",
    " \n"
   ]
  },
  {
   "cell_type": "markdown",
   "id": "dbeda10c",
   "metadata": {},
   "source": [
    "## Results for the default case (VDF)\n",
    " \n",
    "For the default case, the value of the facsec\\_max parameter is fixed to 30 and the value of the relax\\_pression parameter is set to 0.1 when the Simple algorithm is considered.\n",
    "\n"
   ]
  },
  {
   "cell_type": "markdown",
   "id": "7b6c648d",
   "metadata": {},
   "source": [
    "The figure shows the cell convection.\n",
    "\n"
   ]
  },
  {
   "cell_type": "code",
   "execution_count": null,
   "id": "acac6f49",
   "metadata": {},
   "outputs": [],
   "source": [
    "from trustutils import visit\n",
    " \n",
    "visu = visit.Show(\"./VAHL_DAVIS_VDF/VAHL_DAVIS_VDF_explicite.lata\",\"Pseudocolor\",\"TEMPERATURE_SOM_dom\")\n",
    "visu.addField(\"./VAHL_DAVIS_VDF/VAHL_DAVIS_VDF_explicite.lata\",\"Vector\",\"VITESSE_SOM_dom\")\n",
    "visu.plot()"
   ]
  },
  {
   "cell_type": "markdown",
   "id": "a1be22fb",
   "metadata": {},
   "source": [
    "\n",
    "\n"
   ]
  },
  {
   "cell_type": "code",
   "execution_count": null,
   "id": "92ad0411",
   "metadata": {},
   "outputs": [],
   "source": [
    "from trustutils import plot \n",
    " \n",
    "fig = plot.Graph(r\"Velocity profile at y = 0.005 m\") \n",
    "fig.addSegment(\"./VAHL_DAVIS_VDF/VAHL_DAVIS_VDF_explicite_SONDE_VITY.son\",label=r\"Euler explicite\",marker='-x') \n",
    "fig.addSegment(\"./VAHL_DAVIS_VDF/VAHL_DAVIS_VDF_piso_SONDE_VITY.son\",label=r\"Piso\",marker='-x') \n",
    "fig.addSegment(\"./VAHL_DAVIS_VDF/VAHL_DAVIS_VDF_implicite_SONDE_VITY.son\",label=r\"Implicite\",marker='-x') \n",
    "fig.addSegment(\"./VAHL_DAVIS_VDF/VAHL_DAVIS_VDF_simple_SONDE_VITY.son\",label=r\"Simple\",marker='-x') \n",
    "\n",
    "fig.label(r\"x (m)\",r\"V (m/s)\")\n",
    "\n",
    "fig.visu(xmin=0,xmax=0.01)\n"
   ]
  },
  {
   "cell_type": "markdown",
   "id": "2caeffb5",
   "metadata": {},
   "source": [
    "\n",
    "\n"
   ]
  },
  {
   "cell_type": "code",
   "execution_count": null,
   "id": "f2a99ccc",
   "metadata": {},
   "outputs": [],
   "source": [
    "from trustutils import plot \n",
    " \n",
    "fig = plot.Graph(r\"Temperature profile at y = 0.005 m\") \n",
    "fig.addSegment(\"./VAHL_DAVIS_VDF/VAHL_DAVIS_VDF_explicite_SONDE_TEMPY.son\",label=r\"Euler explicite\",marker='-x') \n",
    "fig.addSegment(\"./VAHL_DAVIS_VDF/VAHL_DAVIS_VDF_piso_SONDE_TEMPY.son\",label=r\"Piso\",marker='-x') \n",
    "fig.addSegment(\"./VAHL_DAVIS_VDF/VAHL_DAVIS_VDF_implicite_SONDE_TEMPY.son\",label=r\"Implicite\",marker='-x') \n",
    "fig.addSegment(\"./VAHL_DAVIS_VDF/VAHL_DAVIS_VDF_simple_SONDE_TEMPY.son\",label=r\"Simple\",marker='-x') \n",
    "\n",
    "fig.label(r\"x (m)\",r\"T (°K)\")\n",
    "\n",
    "fig.visu(xmin=0,xmax=0.01)\n"
   ]
  },
  {
   "cell_type": "markdown",
   "id": "e086f651",
   "metadata": {},
   "source": [
    "\n",
    "\n"
   ]
  },
  {
   "cell_type": "code",
   "execution_count": null,
   "id": "49beddee",
   "metadata": {},
   "outputs": [],
   "source": [
    "from trustutils import plot \n",
    " \n",
    "fig = plot.Graph(r\"Time evolution of the residu\") \n",
    "data = plot.loadText(\"./VAHL_DAVIS_VDF/VAHL_DAVIS_VDF_explicite.dt_ev\")\n",
    "fig.add(data[0],data[3],label=r\"Euler explicite\",marker='-x')\n",
    "data = plot.loadText(\"./VAHL_DAVIS_VDF/VAHL_DAVIS_VDF_piso.dt_ev\")\n",
    "fig.add(data[0],data[3],label=r\"Piso\",marker='-x')\n",
    "data = plot.loadText(\"./VAHL_DAVIS_VDF/VAHL_DAVIS_VDF_implicite.dt_ev\")\n",
    "fig.add(data[0],data[3],label=r\"Implicite\",marker='-x')\n",
    "data = plot.loadText(\"./VAHL_DAVIS_VDF/VAHL_DAVIS_VDF_simple.dt_ev\")\n",
    "fig.add(data[0],data[3],label=r\"Simple\",marker='-x')\n",
    "\n",
    "fig.label(r\"Time (s)\",r\"Residu\")\n",
    "\n",
    "fig.visu(xmin=0,xmax=3)\n",
    "fig.visu(ymin=1.e-4,ymax=1e4)\n",
    "fig.scale(yscale='log')\n"
   ]
  },
  {
   "cell_type": "markdown",
   "id": "2f657375",
   "metadata": {},
   "source": [
    "\n",
    "\n"
   ]
  },
  {
   "cell_type": "code",
   "execution_count": null,
   "id": "f4ad8d1f",
   "metadata": {},
   "outputs": [],
   "source": [
    "from trustutils import plot \n",
    " \n",
    "fig = plot.Graph(r\"Time evolution of the facsec\") \n",
    "data = plot.loadText(\"./VAHL_DAVIS_VDF/VAHL_DAVIS_VDF_explicite.dt_ev\")\n",
    "fig.add(data[0],data[2],label=r\"Euler explicite\",marker='-x')\n",
    "data = plot.loadText(\"./VAHL_DAVIS_VDF/VAHL_DAVIS_VDF_piso.dt_ev\")\n",
    "fig.add(data[0],data[2],label=r\"Piso\",marker='-x')\n",
    "data = plot.loadText(\"./VAHL_DAVIS_VDF/VAHL_DAVIS_VDF_implicite.dt_ev\")\n",
    "fig.add(data[0],data[2],label=r\"Implicite\",marker='-x')\n",
    "data = plot.loadText(\"./VAHL_DAVIS_VDF/VAHL_DAVIS_VDF_simple.dt_ev\")\n",
    "fig.add(data[0],data[2],label=r\"Simple\",marker='-x')\n",
    "\n",
    "fig.label(r\"Time (s)\",r\"facsec\")\n",
    "\n",
    "fig.visu(0,3,0,40)\n"
   ]
  },
  {
   "cell_type": "markdown",
   "id": "fe4467e4",
   "metadata": {},
   "source": [
    "## Influence of the facsec parameter\n",
    " \n",
    "In this chapter the influence of the facsec parameter is tested. The value retained for the facsec\\_max is 500 and the results are still compared to the explicit ones.\n",
    "The relax\\_pression parameter is set to 0.01 when the Simple algorithm is considered.\n",
    " \n"
   ]
  },
  {
   "cell_type": "markdown",
   "id": "0d59cc9e",
   "metadata": {},
   "source": [
    "\n",
    "\n"
   ]
  },
  {
   "cell_type": "code",
   "execution_count": null,
   "id": "360e469f",
   "metadata": {},
   "outputs": [],
   "source": [
    "from trustutils import plot \n",
    " \n",
    "fig = plot.Graph(r\"Velocity profile at y = 0.005 m\") \n",
    "fig.addSegment(\"./VAHL_DAVIS_VDF/VAHL_DAVIS_VDF_explicite_SONDE_VITY.son\",label=r\"Euler explicite\",marker='-x') \n",
    "fig.addSegment(\"./VAHL_DAVIS_VDF/VAHL_DAVIS_VDF_piso_facsecmax500_SONDE_VITY.son\",label=r\"Piso\",marker='-x') \n",
    "fig.addSegment(\"./VAHL_DAVIS_VDF/VAHL_DAVIS_VDF_implicite_facsecmax500_SONDE_VITY.son\",label=r\"Implicite\",marker='-x') \n",
    "fig.addSegment(\"./VAHL_DAVIS_VDF/VAHL_DAVIS_VDF_simple_facsecmax500_SONDE_VITY.son\",label=r\"Simple\",marker='-x') \n",
    "\n",
    "fig.label(r\"x (m)\",r\"V (m/s)\")\n",
    "\n",
    "fig.visu(xmin=0,xmax=0.01)\n"
   ]
  },
  {
   "cell_type": "markdown",
   "id": "63524609",
   "metadata": {},
   "source": [
    "\n",
    "\n"
   ]
  },
  {
   "cell_type": "code",
   "execution_count": null,
   "id": "c72d6b30",
   "metadata": {},
   "outputs": [],
   "source": [
    "from trustutils import plot \n",
    " \n",
    "fig = plot.Graph(r\"Temperature profile at y = 0.005 m\") \n",
    "fig.addSegment(\"./VAHL_DAVIS_VDF/VAHL_DAVIS_VDF_explicite_SONDE_TEMPY.son\",label=r\"Euler explicite\",marker='-x') \n",
    "fig.addSegment(\"./VAHL_DAVIS_VDF/VAHL_DAVIS_VDF_piso_facsecmax500_SONDE_TEMPY.son\",label=r\"Piso\",marker='-x') \n",
    "fig.addSegment(\"./VAHL_DAVIS_VDF/VAHL_DAVIS_VDF_implicite_facsecmax500_SONDE_TEMPY.son\",label=r\"Implicite\",marker='-x') \n",
    "fig.addSegment(\"./VAHL_DAVIS_VDF/VAHL_DAVIS_VDF_simple_facsecmax500_SONDE_TEMPY.son\",label=r\"Simple\",marker='-x') \n",
    "\n",
    "fig.label(r\"x (m)\",r\"T (°K)\")\n",
    "\n",
    "fig.visu(xmin=0,xmax=0.01)\n"
   ]
  },
  {
   "cell_type": "markdown",
   "id": "93feab62",
   "metadata": {},
   "source": [
    "\n",
    "\n"
   ]
  },
  {
   "cell_type": "code",
   "execution_count": null,
   "id": "fec71c3d",
   "metadata": {},
   "outputs": [],
   "source": [
    "from trustutils import plot \n",
    " \n",
    "fig = plot.Graph(r\"Time evolution of the residu\") \n",
    "data = plot.loadText(\"./VAHL_DAVIS_VDF/VAHL_DAVIS_VDF_explicite.dt_ev\")\n",
    "fig.add(data[0],data[3],label=r\"Euler explicite\",marker='-x')\n",
    "data = plot.loadText(\"./VAHL_DAVIS_VDF/VAHL_DAVIS_VDF_piso_facsecmax500.dt_ev\")\n",
    "fig.add(data[0],data[3],label=r\"Piso\",marker='-x')\n",
    "data = plot.loadText(\"./VAHL_DAVIS_VDF/VAHL_DAVIS_VDF_implicite_facsecmax500.dt_ev\")\n",
    "fig.add(data[0],data[3],label=r\"Implicite\",marker='-x')\n",
    "data = plot.loadText(\"./VAHL_DAVIS_VDF/VAHL_DAVIS_VDF_simple_facsecmax500.dt_ev\")\n",
    "fig.add(data[0],data[3],label=r\"Simple\",marker='-x')\n",
    "\n",
    "fig.label(r\"Time (s)\",r\"Residu\")\n",
    "\n",
    "fig.visu(xmin=0,xmax=2)\n",
    "fig.visu(ymin=1.e-4,ymax=1e4)\n",
    "fig.scale(yscale='log')\n"
   ]
  },
  {
   "cell_type": "markdown",
   "id": "9f3b91b3",
   "metadata": {},
   "source": [
    "\n",
    "\n"
   ]
  },
  {
   "cell_type": "code",
   "execution_count": null,
   "id": "a7c443a7",
   "metadata": {},
   "outputs": [],
   "source": [
    "from trustutils import plot \n",
    " \n",
    "fig = plot.Graph(r\"Time evolution of the facsec\") \n",
    "data = plot.loadText(\"./VAHL_DAVIS_VDF/VAHL_DAVIS_VDF_explicite.dt_ev\")\n",
    "fig.add(data[0],data[2],label=r\"Euler explicite\",marker='-x')\n",
    "data = plot.loadText(\"./VAHL_DAVIS_VDF/VAHL_DAVIS_VDF_piso_facsecmax500.dt_ev\")\n",
    "fig.add(data[0],data[2],label=r\"Piso\",marker='-x')\n",
    "data = plot.loadText(\"./VAHL_DAVIS_VDF/VAHL_DAVIS_VDF_implicite_facsecmax500.dt_ev\")\n",
    "fig.add(data[0],data[2],label=r\"Implicite\",marker='-x')\n",
    "data = plot.loadText(\"./VAHL_DAVIS_VDF/VAHL_DAVIS_VDF_simple_facsecmax500.dt_ev\")\n",
    "fig.add(data[0],data[2],label=r\"Simple\",marker='-x')\n",
    "\n",
    "fig.label(r\"Time (s)\",r\"facsec\")\n",
    "\n",
    "fig.visu(xmin=0,xmax=2)\n"
   ]
  },
  {
   "cell_type": "markdown",
   "id": "1ec6b854",
   "metadata": {},
   "source": [
    "## Influence of the relax\\_pression parameter for the Simple algorithm\n",
    " \n",
    "In this chapter the influence of the relax\\_pression parameter for the Simple algorithm is tested. The calculations have been performed for the following values of this parameter : 0.2, 0.1, 0.01 and 0.001. The results are compared to the explicit ones.\n",
    "The value of the facsec\\_max parameter is set to 30.\n",
    " \n"
   ]
  },
  {
   "cell_type": "markdown",
   "id": "ad947115",
   "metadata": {},
   "source": [
    "\n",
    "\n"
   ]
  },
  {
   "cell_type": "code",
   "execution_count": null,
   "id": "3ecfa83d",
   "metadata": {},
   "outputs": [],
   "source": [
    "from trustutils import plot \n",
    " \n",
    "fig = plot.Graph(r\"Velocity profile at y = 0.005 m\") \n",
    "fig.addSegment(\"./VAHL_DAVIS_VDF/VAHL_DAVIS_VDF_explicite_SONDE_VITY.son\",label=r\"Euler explicite\",marker='-x') \n",
    "fig.addSegment(\"./VAHL_DAVIS_VDF/VAHL_DAVIS_VDF_simple_relax0.2_SONDE_VITY.son\",label=r\"relax_pression = 0.2\",marker='-x') \n",
    "fig.addSegment(\"./VAHL_DAVIS_VDF/VAHL_DAVIS_VDF_simple_SONDE_VITY.son\",label=r\"relax_pression = 0.1\",marker='-x') \n",
    "fig.addSegment(\"./VAHL_DAVIS_VDF/VAHL_DAVIS_VDF_simple_relax0.01_SONDE_VITY.son\",label=r\"relax_pression = 0.01\",marker='-x') \n",
    "fig.addSegment(\"./VAHL_DAVIS_VDF/VAHL_DAVIS_VDF_simple_relax0.001_SONDE_VITY.son\",label=r\"relax_pression = 0.001\",marker='-x') \n",
    "\n",
    "fig.label(r\"x (m)\",r\"V (m/s)\")\n",
    "\n",
    "fig.visu(xmin=0,xmax=0.01)\n"
   ]
  },
  {
   "cell_type": "markdown",
   "id": "cb33a9d5",
   "metadata": {},
   "source": [
    "\n",
    "\n"
   ]
  },
  {
   "cell_type": "code",
   "execution_count": null,
   "id": "e77d01a0",
   "metadata": {},
   "outputs": [],
   "source": [
    "from trustutils import plot \n",
    " \n",
    "fig = plot.Graph(r\"Temperature profile at y = 0.005 m\") \n",
    "fig.addSegment(\"./VAHL_DAVIS_VDF/VAHL_DAVIS_VDF_explicite_SONDE_TEMPY.son\",label=r\"Euler explicite\",marker='-x') \n",
    "fig.addSegment(\"./VAHL_DAVIS_VDF/VAHL_DAVIS_VDF_simple_relax0.2_SONDE_TEMPY.son\",label=r\"relax_pression = 0.2\",marker='-x') \n",
    "fig.addSegment(\"./VAHL_DAVIS_VDF/VAHL_DAVIS_VDF_simple_SONDE_TEMPY.son\",label=r\"relax_pression = 0.1\",marker='-x') \n",
    "fig.addSegment(\"./VAHL_DAVIS_VDF/VAHL_DAVIS_VDF_simple_relax0.01_SONDE_TEMPY.son\",label=r\"relax_pression = 0.01\",marker='-x') \n",
    "fig.addSegment(\"./VAHL_DAVIS_VDF/VAHL_DAVIS_VDF_simple_relax0.001_SONDE_TEMPY.son\",label=r\"relax_pression = 0.001\",marker='-x') \n",
    "\n",
    "fig.label(r\"x (m)\",r\"T (°K)\")\n",
    "\n",
    "fig.visu(xmin=0,xmax=0.01)\n"
   ]
  },
  {
   "cell_type": "markdown",
   "id": "28060459",
   "metadata": {},
   "source": [
    "\n",
    "\n"
   ]
  },
  {
   "cell_type": "code",
   "execution_count": null,
   "id": "7f6e1a19",
   "metadata": {},
   "outputs": [],
   "source": [
    "from trustutils import plot \n",
    " \n",
    "fig = plot.Graph(r\"Time evolution of the residu\") \n",
    "data = plot.loadText(\"./VAHL_DAVIS_VDF/VAHL_DAVIS_VDF_explicite.dt_ev\")\n",
    "fig.add(data[0],data[3],label=r\"Euler explicite\",marker='-x')\n",
    "data = plot.loadText(\"./VAHL_DAVIS_VDF/VAHL_DAVIS_VDF_simple_relax0.2.dt_ev\")\n",
    "fig.add(data[0],data[3],label=r\"relax_pression = 0.2\",marker='-x')\n",
    "data = plot.loadText(\"./VAHL_DAVIS_VDF/VAHL_DAVIS_VDF_simple.dt_ev\")\n",
    "fig.add(data[0],data[3],label=r\"relax_pression = 0.1\",marker='-x')\n",
    "data = plot.loadText(\"./VAHL_DAVIS_VDF/VAHL_DAVIS_VDF_simple_relax0.01.dt_ev\")\n",
    "fig.add(data[0],data[3],label=r\"relax_pression = 0.01\",marker='-x')\n",
    "data = plot.loadText(\"./VAHL_DAVIS_VDF/VAHL_DAVIS_VDF_simple_relax0.001.dt_ev\")\n",
    "fig.add(data[0],data[3],label=r\"relax_pression = 0.001\",marker='-x')\n",
    "\n",
    "fig.label(r\"Time (s)\",r\"Residu\")\n",
    "\n",
    "fig.visu(xmin=0,xmax=3)\n",
    "fig.visu(ymin=1.e-4,ymax=1e4)\n",
    "fig.scale(yscale='log')\n"
   ]
  },
  {
   "cell_type": "markdown",
   "id": "44f73e37",
   "metadata": {},
   "source": [
    "## Influence of the number of corrections for the PISO algorithm\n",
    " \n",
    "In this chapter the influence of the number of corrections applied in the PISO algorithm is tested. In a first case the maximum number of corrections is set to 21 and in a second case it is fixed to 2.\n",
    "The value of the facsec\\_max parameter is set to 30.\n",
    " \n"
   ]
  },
  {
   "cell_type": "markdown",
   "id": "ba34a395",
   "metadata": {},
   "source": [
    "\n",
    "\n"
   ]
  },
  {
   "cell_type": "code",
   "execution_count": null,
   "id": "3baf2dee",
   "metadata": {},
   "outputs": [],
   "source": [
    "from trustutils import plot \n",
    " \n",
    "fig = plot.Graph(r\"Velocity profile at y = 0.005 m\") \n",
    "fig.addSegment(\"./VAHL_DAVIS_VDF/VAHL_DAVIS_VDF_explicite_SONDE_VITY.son\",label=r\"Euler explicite\",marker='-x') \n",
    "fig.addSegment(\"./VAHL_DAVIS_VDF/VAHL_DAVIS_VDF_piso_SONDE_VITY.son\",label=r\"nb corrections max = 21\",marker='-x') \n",
    "fig.addSegment(\"./VAHL_DAVIS_VDF/VAHL_DAVIS_VDF_piso_nb_proj2_SONDE_VITY.son\",label=r\"nb corrections max = 2\",marker='-x') \n",
    "\n",
    "fig.label(r\"x (m)\",r\"V (m/s)\")\n",
    "\n",
    "fig.visu(xmin=0,xmax=0.01)\n"
   ]
  },
  {
   "cell_type": "markdown",
   "id": "1e2d2396",
   "metadata": {},
   "source": [
    "\n",
    "\n"
   ]
  },
  {
   "cell_type": "code",
   "execution_count": null,
   "id": "a005f730",
   "metadata": {},
   "outputs": [],
   "source": [
    "from trustutils import plot \n",
    " \n",
    "fig = plot.Graph(r\"Temperature profile at y = 0.005 m\") \n",
    "fig.addSegment(\"./VAHL_DAVIS_VDF/VAHL_DAVIS_VDF_explicite_SONDE_TEMPY.son\",label=r\"Euler explicite\",marker='-x') \n",
    "fig.addSegment(\"./VAHL_DAVIS_VDF/VAHL_DAVIS_VDF_piso_SONDE_TEMPY.son\",label=r\"nb corrections max = 21\",marker='-x') \n",
    "fig.addSegment(\"./VAHL_DAVIS_VDF/VAHL_DAVIS_VDF_piso_nb_proj2_SONDE_TEMPY.son\",label=r\"nb corrections max = 2\",marker='-x') \n",
    "\n",
    "fig.label(r\"x (m)\",r\"T (°K)\")\n",
    "\n",
    "fig.visu(xmin=0,xmax=0.01)\n"
   ]
  },
  {
   "cell_type": "markdown",
   "id": "4b6ac352",
   "metadata": {},
   "source": [
    "\n",
    "\n"
   ]
  },
  {
   "cell_type": "code",
   "execution_count": null,
   "id": "bc84d69f",
   "metadata": {},
   "outputs": [],
   "source": [
    "from trustutils import plot \n",
    " \n",
    "fig = plot.Graph(r\"Time evolution of the residu\") \n",
    "data = plot.loadText(\"./VAHL_DAVIS_VDF/VAHL_DAVIS_VDF_explicite.dt_ev\")\n",
    "fig.add(data[0],data[3],label=r\"Euler explicite\",marker='-x')\n",
    "data = plot.loadText(\"./VAHL_DAVIS_VDF/VAHL_DAVIS_VDF_piso.dt_ev\")\n",
    "fig.add(data[0],data[3],label=r\"nb corrections max = 21\",marker='-x')\n",
    "data = plot.loadText(\"./VAHL_DAVIS_VDF/VAHL_DAVIS_VDF_piso_nb_proj2.dt_ev\")\n",
    "fig.add(data[0],data[3],label=r\"nb corrections max = 2\",marker='-x')\n",
    "\n",
    "fig.label(r\"Time (s)\",r\"Residu\")\n",
    "\n",
    "fig.visu(xmin=0,xmax=2)\n",
    "fig.visu(ymin=1.e-4,ymax=1e4)\n",
    "fig.scale(yscale='log')\n"
   ]
  },
  {
   "cell_type": "markdown",
   "id": "8c86b35e",
   "metadata": {},
   "source": [
    "## Conclusion\n",
    " \n",
    "It is first observed that the three implicit algorithms lead to identical results in comparison to those obtained with the explicit time scheme. Notice that the relaxation pressure factor must be set to 0.01 (or lower) for the Simple algorithm.\n",
    "This observation remains true when the facsec is allowed to increase to values larger than 30 (the relax\\_pression factor being fixed to 0.01 for the Simple algorithm).\n",
    " -PISO : The efficiency of the algorithm is strongly improved when the maximum corrections is reduced to 2. This fact is observed for facsec\\_max = 30.\n",
    " \n",
    " -Simple : The relaxation pressure factor affects the convergency and the results for the larger values considered (0.2 and 0.1).\n",
    " \n",
    " Finally the Implicite and Simple algorithms are the more efficient to obtain satisfactory results with the requested convergency criteria and they show indeed some very close performance for this test case. However, the recommended algorithm is the Implicite. The big advantage of this algorithm is that there is no need to provide other parameters, which is more user friendly and give results which are less user dependant.\n",
    " \n"
   ]
  },
  {
   "cell_type": "markdown",
   "id": "18e7c261",
   "metadata": {},
   "source": [
    "##  Recommandations for users \n",
    " \n",
    "When making implicit calculations, use the Implicite algorithm. It gives good results and  there is no need to provide other parameters, which is more user friendly and give results which are less user dependant.\n",
    "\n"
   ]
  },
  {
   "cell_type": "markdown",
   "id": "a93d591c",
   "metadata": {},
   "source": [
    "## Computer performance\n",
    " \n",
    "The performance data indicated in the array below corresponds to the values extracted from the .TU file.\n",
    "It has to be noticed that by default these data corresponds to the elapsed time to perform each calculation (method gettimeofday used in Statistiques).\n",
    " \n"
   ]
  },
  {
   "cell_type": "code",
   "execution_count": null,
   "id": "1f2d2c18",
   "metadata": {},
   "outputs": [],
   "source": [
    "run.tablePerf()"
   ]
  },
  {
   "cell_type": "markdown",
   "id": "4870347d",
   "metadata": {},
   "source": [
    "## Data Files"
   ]
  },
  {
   "cell_type": "markdown",
   "id": "10d2e3d9",
   "metadata": {},
   "source": [
    "### VAHL\\_DAVIS\\_VEFPreP1B\\_implicite"
   ]
  },
  {
   "cell_type": "code",
   "execution_count": null,
   "id": "419432f7",
   "metadata": {},
   "outputs": [],
   "source": [
    "run.dumpDatasetMD(\"VAHL_DAVIS_VEFPreP1B/VAHL_DAVIS_VEFPreP1B_implicite.data\")"
   ]
  }
 ],
 "metadata": {
  "kernelspec": {
   "display_name": "Python 3 (ipykernel)",
   "language": "python",
   "name": "python3"
  },
  "language_info": {
   "codemirror_mode": {
    "name": "ipython",
    "version": 3
   },
   "file_extension": ".py",
   "mimetype": "text/x-python",
   "name": "python",
   "nbconvert_exporter": "python",
   "pygments_lexer": "ipython3",
   "version": "3.12.5"
  },
  "title": "Convection Vahl Davis implicite"
 },
 "nbformat": 4,
 "nbformat_minor": 5
}
