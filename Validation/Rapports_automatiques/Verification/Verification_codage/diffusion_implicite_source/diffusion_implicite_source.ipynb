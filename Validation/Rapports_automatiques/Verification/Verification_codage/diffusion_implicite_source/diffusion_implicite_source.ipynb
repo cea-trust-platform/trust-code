{
 "cells": [
  {
   "cell_type": "markdown",
   "id": "inappropriate-lingerie",
   "metadata": {},
   "source": [
    "# Test implicitation of perte_charge_singuliere in diffusion_implicite"
   ]
  },
  {
   "cell_type": "code",
   "execution_count": null,
   "id": "1afaecd3",
   "metadata": {},
   "outputs": [],
   "source": [
    "from trustutils import run\n",
    "\n",
    "run.introduction(\"fauchet\")\n",
    "\n",
    "run.TRUST_parameters()"
   ]
  },
  {
   "cell_type": "markdown",
   "id": "1f11f71f",
   "metadata": {},
   "source": [
    "### Description: \n",
    "\n",
    "On verifie que les pertes de charge en VDF sont bien implicites en diffusion_implicite. Les calculs PCS_expl et PCR_impl divergent (K grand) et ne sont pas lances. Les calculs *10 *11 avec crank ne sont pas lances et sont à la limite de la convergence."
   ]
  },
  {
   "cell_type": "code",
   "execution_count": null,
   "id": "0868e968-9777-4954-80f4-46b58fe1b126",
   "metadata": {
    "tags": []
   },
   "outputs": [],
   "source": [
    "from trustutils import run  \n",
    "\n",
    "run.addCase(\"PCS\",\"PCS_impl.data\")  \n",
    "run.addCase(\"PCS\",\"PCS00.data\"   )  \n",
    "run.addCase(\"PCS\",\"PCS01.data\"   )  \n",
    "run.addCase(\"PCR\",\"PCR_impl.data\")  \n",
    "run.addCase(\"PCR\",\"PCR00.data\"   )  \n",
    "run.addCase(\"PCR\",\"PCR01.data\"   )\n",
    "run.printCases()\n",
    "run.runCases()"
   ]
  },
  {
   "cell_type": "code",
   "execution_count": null,
   "id": "67e00067",
   "metadata": {},
   "outputs": [],
   "source": [
    "# Post-run\n",
    "for d in [\"PCS\", \"PCR\"]:\n",
    "    for n in [\"00\", \"01\"]:\n",
    "        run.executeCommand(f\"compare_lata {d}/{d}{n}.lata {d}/{d}_impl.lata --dernier > {d}/diff_{d}{n}.out 2>&1\")"
   ]
  },
  {
   "cell_type": "markdown",
   "id": "e6c2c033-3d3d-40dd-9853-7ac2384d69d1",
   "metadata": {},
   "source": [
    "## Perte_charge_singuliere_vdf\n",
    "### Convergence of the residuals"
   ]
  },
  {
   "cell_type": "code",
   "execution_count": null,
   "id": "99cfbb88-a376-499f-b4e3-e7be34571270",
   "metadata": {},
   "outputs": [],
   "source": [
    "from trustutils import plot\n",
    "\n",
    "a = plot.Graph(\"Residuals\")\n",
    "a.addResidu(\"PCS/PCS_impl.dt_ev\",label=\"Euler implicite\")\n",
    "a.addResidu(\"PCS/PCS00.dt_ev\",label=\"Euler explicite, diffusion implicite\")\n",
    "a.addResidu(\"PCS/PCS01.dt_ev\",label=\"Euler explicite, diffusion implicite, precond diagonal\")\n",
    "a.scale(yscale='log')\n"
   ]
  },
  {
   "cell_type": "markdown",
   "id": "fbc380d8-b416-40a6-aff3-626088fe762e",
   "metadata": {},
   "source": [
    "Check that the results are coherent with PCS_impl"
   ]
  },
  {
   "cell_type": "code",
   "execution_count": null,
   "id": "9159ba2f-604c-477b-9b5e-65ec5e8ef290",
   "metadata": {},
   "outputs": [],
   "source": [
    "Tableau=plot.Table([\"Error\"])\n",
    "\n",
    "# On extrait les donnees\n",
    "data=plot.loadText(\"PCS/diff_PCS00.out\", dtype=\"str\", delimiter=\":\")\n",
    "Tableau.addLine([[data[1,1]]],\"Euler_explicite,diffusion_implicite\") \n",
    "\n",
    "data=plot.loadText(\"PCS/diff_PCS01.out\", dtype=\"str\", delimiter=\":\")\n",
    "Tableau.addLine([[data[1,1]]],\"Euler_explicite,diffusion_implicite, precond_diagonal\") \n",
    "\n",
    "display(Tableau)"
   ]
  },
  {
   "cell_type": "markdown",
   "id": "4616744c-7d37-4fe8-b4d5-e2767d7349fa",
   "metadata": {},
   "source": [
    "## Perte_charge_reguliere_vdf\n",
    "### Convergence of the residuals"
   ]
  },
  {
   "cell_type": "code",
   "execution_count": null,
   "id": "b6484591-bbad-4af2-b1da-62bde475d1c6",
   "metadata": {},
   "outputs": [],
   "source": [
    "a = plot.Graph(\"Residuals\")\n",
    "a.addResidu(\"PCR/PCR_impl.dt_ev\",label=\"Euler implicite\")\n",
    "a.addResidu(\"PCR/PCR00.dt_ev\",label=\"Euler explicite, diffusion implicite\")\n",
    "a.addResidu(\"PCR/PCR01.dt_ev\",label=\"Euler explicite, diffusion implicite, precond diagonal\")\n",
    "a.scale(yscale='log')"
   ]
  },
  {
   "cell_type": "markdown",
   "id": "43fd4474-c5ea-4c20-9f22-28bb01d3ff91",
   "metadata": {},
   "source": [
    "Check that the results are coherent with PCS_impl"
   ]
  },
  {
   "cell_type": "code",
   "execution_count": null,
   "id": "758deb60-c610-4589-925e-d5bf22310d66",
   "metadata": {},
   "outputs": [],
   "source": [
    "Tableau=plot.Table([\"Error\"])\n",
    "\n",
    "data=plot.loadText(\"PCR/diff_PCR00.out\", dtype=\"str\", delimiter=\":\")\n",
    "Tableau.addLine([[data[1,1]]],\"Euler_explicite,diffusion_implicite\") \n",
    "\n",
    "data=plot.loadText(\"PCR/diff_PCR01.out\", dtype=\"str\", delimiter=\":\")\n",
    "Tableau.addLine([[data[1,1]]],\"Euler_explicite,diffusion_implicite, precond_diagonal\") \n",
    "\n",
    "display(Tableau)"
   ]
  }
 ],
 "metadata": {
  "kernelspec": {
   "display_name": "Python 3 (ipykernel)",
   "language": "python",
   "name": "python3"
  },
  "language_info": {
   "codemirror_mode": {
    "name": "ipython",
    "version": 3
   },
   "file_extension": ".py",
   "mimetype": "text/x-python",
   "name": "python",
   "nbconvert_exporter": "python",
   "pygments_lexer": "ipython3",
   "version": "3.7.16"
  }
 },
 "nbformat": 4,
 "nbformat_minor": 5
}
