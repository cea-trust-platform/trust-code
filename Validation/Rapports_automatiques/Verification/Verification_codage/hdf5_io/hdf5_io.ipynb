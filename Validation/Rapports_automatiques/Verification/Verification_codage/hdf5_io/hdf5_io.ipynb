{
 "cells": [
  {
   "cell_type": "markdown",
   "id": "inappropriate-lingerie",
   "metadata": {},
   "source": [
    "# Input/Output with HDF5"
   ]
  },
  {
   "cell_type": "code",
   "execution_count": null,
   "id": "23022d7e",
   "metadata": {},
   "outputs": [],
   "source": [
    "from trustutils import run\n",
    "\n",
    "run.introduction(\"A. KHIZAR\")\n",
    "\n",
    "run.TRUST_parameters()"
   ]
  },
  {
   "cell_type": "markdown",
   "id": "a93e2e37",
   "metadata": {},
   "source": [
    "### Description: \n",
    "\n",
    "n this note, we check the use of the keyword 'single_hdf' which allows to generate and read files in HDF5 format"
   ]
  },
  {
   "cell_type": "code",
   "execution_count": null,
   "id": "0868e968-9777-4954-80f4-46b58fe1b126",
   "metadata": {
    "tags": []
   },
   "outputs": [],
   "source": [
    "from trustutils import run  \n",
    "run.addCase(\"Sauvegarde_hdf5\",\"hdf5_io.data\")  \n",
    "run.addCase(\"Sauvegarde_simple_hdf5\",\"hdf5_io.data\")  \n",
    "run.addCase(\"Logs_hdf5\",\"hdf5_io.data\") \n",
    "run.addCase(\"Zones_hdf5\",\"hdf5_io.data\",nbProcs=2)\n",
    "run.printCases()\n",
    "run.runCases(preventConcurrent=True)"
   ]
  },
  {
   "cell_type": "markdown",
   "id": "e6c2c033-3d3d-40dd-9853-7ac2384d69d1",
   "metadata": {},
   "source": [
    "## Backup file in HDF5 format\n",
    "We check that we can resume a calculation with an hdf5 backup file"
   ]
  },
  {
   "cell_type": "markdown",
   "id": "a75037eb-7e2c-42c0-9844-b0359e4fae71",
   "metadata": {},
   "source": [
    "###  Use of the keywords ’sauvegarde’ and ’reprise’\n",
    "\n",
    "Comparison of channel flow rate between a full calculation and a resumed calculation. \n",
    "\n",
    "The results of the resumed calculation must overlapped those of the full calculation."
   ]
  },
  {
   "cell_type": "code",
   "execution_count": null,
   "id": "fef6f591-bf74-4779-841f-41224b6753b4",
   "metadata": {
    "jupyter": {
     "source_hidden": true
    },
    "tags": []
   },
   "outputs": [],
   "source": [
    "from trustutils.jupyter import plot\n",
    "\n",
    "a = plot.Graph(\"test Keywords\", size=[15,8])\n",
    "\n",
    "x = plot.loadText(\"Sauvegarde_hdf5/hdf5_io_Channel_Flow_Rate_pb_periox\")\n",
    "a.add(x[0],x[1],marker=\"r-|\",label=\"Full calculation\",linewidth=2)\n",
    "\n",
    "x = plot.loadText(\"Sauvegarde_hdf5/sauvegarde_Channel_Flow_Rate_pb_periox\")\n",
    "a.add(x[0],x[1],marker=\"b-x\",label=\"First half of the calculation\")\n",
    "\n",
    "x = plot.loadText(\"Sauvegarde_hdf5/reprise_Channel_Flow_Rate_pb_periox\")\n",
    "a.add(x[0],x[1],marker=\"g-*\",label=\"Second half of the calculation\")\n",
    "\n",
    "a.label(\"Time\",\"Flow Rate\")\n",
    "\n",
    "a.visu()\n"
   ]
  },
  {
   "cell_type": "markdown",
   "id": "56d98a14-21bd-49e9-864c-cfe735c83c19",
   "metadata": {},
   "source": [
    "###  Use of the keywords ’sauvegarde’ and ’resume_last_time’\n",
    "\n",
    "Comparison of channel flow rate between a full calculation and a resumed calculation. \n",
    "\n",
    "The results of the resumed calculation must overlapped those of the full calculation."
   ]
  },
  {
   "cell_type": "code",
   "execution_count": null,
   "id": "dc6e61ad-a4a5-4f36-a074-3c274a2d2873",
   "metadata": {},
   "outputs": [],
   "source": [
    "a = plot.Graph(\"test Keywords\", size=[15,8])\n",
    "\n",
    "x = plot.loadText(\"Sauvegarde_hdf5/hdf5_io_Channel_Flow_Rate_pb_periox\")\n",
    "a.add(x[0],x[1],marker=\"r-|\",label=\"Full calculation\",linewidth=2)\n",
    "\n",
    "x = plot.loadText(\"Sauvegarde_hdf5/sauvegarde_Channel_Flow_Rate_pb_periox\")\n",
    "a.add(x[0],x[1],marker=\"b-x\",label=\"First half of the calculation\")\n",
    "\n",
    "x = plot.loadText(\"Sauvegarde_hdf5/resume_last_time_Channel_Flow_Rate_pb_periox\")\n",
    "a.add(x[0],x[1],marker=\"g-*\",label=\"Second half of the calculation\")\n",
    "\n",
    "a.label(\"Time\",\"Flow Rate\")\n",
    "\n",
    "a.visu()"
   ]
  },
  {
   "cell_type": "markdown",
   "id": "d934ebe6",
   "metadata": {},
   "source": [
    "###  Use of the keywords ’sauvegarde_simple’ and ’reprise’\n",
    "\n",
    "Comparison of channel flow rate between a full calculation and a resumed calculation. \n",
    "\n",
    "The results of the resumed calculation must overlapped those of the full calculation."
   ]
  },
  {
   "cell_type": "code",
   "execution_count": null,
   "id": "da17f2e8",
   "metadata": {},
   "outputs": [],
   "source": [
    "a = plot.Graph(\"test Keywords\", size=[15,8])\n",
    "\n",
    "x = plot.loadText(\"Sauvegarde_simple_hdf5/hdf5_io_Channel_Flow_Rate_pb_periox\")\n",
    "a.add(x[0],x[1],marker=\"r-|\",label=\"Full calculation\",linewidth=2)\n",
    "\n",
    "x = plot.loadText(\"Sauvegarde_simple_hdf5/sauvegarde_Channel_Flow_Rate_pb_periox\")\n",
    "a.add(x[0],x[1],marker=\"b-x\",label=\"First half of the calculation\")\n",
    "\n",
    "x = plot.loadText(\"Sauvegarde_simple_hdf5/reprise_Channel_Flow_Rate_pb_periox\")\n",
    "a.add(x[0],x[1],marker=\"g-*\",label=\"Second half of the calculation\")\n",
    "\n",
    "a.label(\"Time\",\"Flow Rate\")\n",
    "\n",
    "a.visu()"
   ]
  },
  {
   "cell_type": "markdown",
   "id": "bf469329",
   "metadata": {},
   "source": [
    "###  Use of the keywords ’sauvegarde’ and ’resume_last_time’\n",
    "\n",
    "Comparison of channel flow rate between a full calculation and a resumed calculation. \n",
    "\n",
    "The results of the resumed calculation must overlapped those of the full calculation."
   ]
  },
  {
   "cell_type": "code",
   "execution_count": null,
   "id": "1829d02b",
   "metadata": {},
   "outputs": [],
   "source": [
    "a = plot.Graph(\"test Keywords\", size=[15,8])\n",
    "\n",
    "x = plot.loadText(\"Sauvegarde_simple_hdf5/hdf5_io_Channel_Flow_Rate_pb_periox\")\n",
    "a.add(x[0],x[1],marker=\"-|\",label=\"Full calculation\",linewidth=2)\n",
    "\n",
    "x = plot.loadText(\"Sauvegarde_simple_hdf5/sauvegarde_Channel_Flow_Rate_pb_periox\")\n",
    "a.add(x[0],x[1],marker=\"-x\",label=\"First half of the calculation\")\n",
    "\n",
    "x = plot.loadText(\"Sauvegarde_simple_hdf5/resume_last_time_Channel_Flow_Rate_pb_periox\")\n",
    "a.add(x[0],x[1],marker=\"-*\",label=\"Second half of the calculation\")\n",
    "\n",
    "a.label(\"Time\",\"Flow Rate\")\n",
    "\n",
    "a.visu()"
   ]
  },
  {
   "cell_type": "markdown",
   "id": "d6135dc9-7cbf-4d82-af2f-91e07f1cdb7b",
   "metadata": {},
   "source": [
    "## Shared log file in HDF5 format "
   ]
  },
  {
   "cell_type": "code",
   "execution_count": null,
   "id": "ad299aa8-d5fe-4fcd-b2da-8431917819d9",
   "metadata": {},
   "outputs": [],
   "source": [
    "run.dumpText(\"Logs_hdf5/result.txt\")"
   ]
  },
  {
   "cell_type": "markdown",
   "id": "854b448c-2a25-4edc-9568-17a90c20d19b",
   "metadata": {},
   "source": [
    "## Partitionned zones in HDF5 format\n",
    "The domain should be divided into 2 equal parts:  one at the bottom and one at the top."
   ]
  },
  {
   "cell_type": "code",
   "execution_count": null,
   "id": "fcacdc71-e414-431b-9eb0-282afe01dcc9",
   "metadata": {},
   "outputs": [],
   "source": [
    "from trustutils import visit\n",
    "\n",
    "g=visit.Show(\"Zones_hdf5/hdf5_io.lata\",\"Subset\",\"blocks(dom)\",iteration=0,plotmesh=False)\n",
    "g.visitCommand(\"s = SubsetAttributes()\")\n",
    "g.visitCommand(\"s.SetMultiColor(0, (255, 0, 0, 255))\")\n",
    "g.visitCommand(\"s.SetMultiColor(1, (0, 0, 255, 255))\")\n",
    "g.visitCommand(\"s.subsetNames = (\\\"0\\\", \\\"1\\\")\")\n",
    "g.visitCommand(\"SetPlotOptions(s)\")\n",
    "g.visitCommand(\"DrawPlots()\") \n",
    "g.plot()"
   ]
  }
 ],
 "metadata": {
  "kernelspec": {
   "display_name": "Python 3 (ipykernel)",
   "language": "python",
   "name": "python3"
  },
  "language_info": {
   "codemirror_mode": {
    "name": "ipython",
    "version": 3
   },
   "file_extension": ".py",
   "mimetype": "text/x-python",
   "name": "python",
   "nbconvert_exporter": "python",
   "pygments_lexer": "ipython3",
   "version": "3.7.16"
  }
 },
 "nbformat": 4,
 "nbformat_minor": 5
}
