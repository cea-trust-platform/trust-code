{
 "cells": [
  {
   "cell_type": "markdown",
   "id": "standard-billion",
   "metadata": {},
   "source": [
    "# Time scheme test"
   ]
  },
  {
   "cell_type": "code",
   "execution_count": null,
   "id": "371d3412",
   "metadata": {},
   "outputs": [],
   "source": [
    "from trustutils import run \n",
    "\n",
    "run.introduction(\"Fauchet\")\n",
    "\n",
    "run.TRUST_parameters(\"1.8.0\")"
   ]
  },
  {
   "cell_type": "markdown",
   "id": "65ded042",
   "metadata": {},
   "source": [
    "### Description: \n",
    "\n",
    "On regarde l’ordre de convergence des differents schemas en temps."
   ]
  },
  {
   "cell_type": "code",
   "execution_count": null,
   "id": "electric-thong",
   "metadata": {},
   "outputs": [],
   "source": [
    "from trustutils import run \n",
    "run.addCase(\".\" ,\"test_schema_1.e-3.data\") \n",
    "run.addCase(\".\" ,\"test_schema_1.e-2.data\") \n",
    "run.addCase(\".\" ,\"test_schema_1.e-1.data\") \n",
    "run.addCase(\".\" ,\"test_schema_5.e-1.data\") \n",
    "run.addCase(\".\" ,\"test_schema_1.e0.data\") \n",
    "run.addCase(\".\" ,\"test_stab_schema_2.e0.data\") \n",
    "run.addCase(\".\" ,\"test_stab_schema_3.e0.data\") \n",
    "run.addCase(\".\" ,\"test_stab_schema_4.e0.data\") \n",
    "run.addCase(\".\" ,\"test_stab_schema_5.e0.data\") \n",
    "run.addCase(\".\" ,\"test_stab_schema_10.e0.data\") \n",
    "run.printCases()\n",
    "run.runCases()"
   ]
  },
  {
   "cell_type": "code",
   "execution_count": null,
   "id": "fa55b70e",
   "metadata": {},
   "outputs": [],
   "source": [
    "run.executeScript(\"get_erreur\")\n",
    "run.executeScript(\"get_stab\")"
   ]
  },
  {
   "cell_type": "markdown",
   "id": "digital-direction",
   "metadata": {},
   "source": [
    "## courbe de convergence\n",
    "On voit clairement que le schema explicite est d’ordre 1, que le RK2 est d’ordre 2, que le RK 3 d’ordre3.  Le RK4 semble etre d’ordre 2."
   ]
  },
  {
   "cell_type": "code",
   "execution_count": null,
   "id": "2e8a16cf",
   "metadata": {},
   "outputs": [],
   "source": [
    "from trustutils import plot\n",
    "import numpy as np\n",
    "\n",
    "a = plot.Graph(\"Courbe de convergence\")\n",
    "x = plot.loadText(\"erreur\")\n",
    "a.add(x[0],x[1],label=\"explicite\",marker='-|')\n",
    "a.add(x[0],x[2],label=\"RK2\",marker='-x')\n",
    "a.add(x[0],x[3],label=\"RK3\",marker='-*')\n",
    "a.add(x[0],x[4],label=\"RK4\",marker='-s')\n",
    "\n",
    "x = np.linspace(0.001,1,100)\n",
    "y = x*0.1\n",
    "a.add(x,y,label=\"ordre 1\")\n",
    "\n",
    "y = x*x*0.01\n",
    "a.add(x,y,label=\"ordre 2\")\n",
    "\n",
    "y = x*x*x*0.01\n",
    "a.add(x,y,label=\"ordre 3\")\n",
    "\n",
    "a.label(\"dt\",\"erreur\")\n",
    "a.scale(xscale='log',yscale='log')"
   ]
  },
  {
   "cell_type": "markdown",
   "id": "attached-thesaurus",
   "metadata": {},
   "source": [
    "Check that temperature stay between -100 and 100"
   ]
  },
  {
   "cell_type": "code",
   "execution_count": null,
   "id": "08de4a29",
   "metadata": {},
   "outputs": [],
   "source": [
    "Tableau=plot.Table([\"explicite\",\"RK2\",\"RK3\",\"RK4\"])\n",
    "stab=plot.loadText(\"stab\")\n",
    "Tableau.addLine([stab],\"dt_max\")\n",
    "\n",
    "display(Tableau)"
   ]
  },
  {
   "cell_type": "code",
   "execution_count": null,
   "id": "60fabd73",
   "metadata": {},
   "outputs": [],
   "source": []
  }
 ],
 "metadata": {
  "kernelspec": {
   "display_name": "Python 3 (ipykernel)",
   "language": "python",
   "name": "python3"
  },
  "language_info": {
   "codemirror_mode": {
    "name": "ipython",
    "version": 3
   },
   "file_extension": ".py",
   "mimetype": "text/x-python",
   "name": "python",
   "nbconvert_exporter": "python",
   "pygments_lexer": "ipython3",
   "version": "3.7.16"
  }
 },
 "nbformat": 4,
 "nbformat_minor": 5
}
