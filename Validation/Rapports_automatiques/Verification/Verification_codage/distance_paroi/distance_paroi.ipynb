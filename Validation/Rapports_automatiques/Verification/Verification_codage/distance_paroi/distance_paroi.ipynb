{
 "cells": [
  {
   "cell_type": "markdown",
   "id": "inappropriate-lingerie",
   "metadata": {},
   "source": [
    "# Vérification du codage de la distance au bord le plus proche"
   ]
  },
  {
   "cell_type": "code",
   "execution_count": null,
   "id": "a03f1a72",
   "metadata": {},
   "outputs": [],
   "source": [
    "from trustutils import run\n",
    "import os\n",
    "from string import Template\n",
    "\n",
    "run.introduction(\"C. Reiss\",\"29/04/2022\")\n",
    "\n",
    "\n",
    "run.TRUST_parameters()"
   ]
  },
  {
   "cell_type": "markdown",
   "id": "89a66211",
   "metadata": {},
   "source": [
    "### Description: \n",
    "\n",
    "On teste les fonctions qui permet de remplir le tableau de distance au bord le plus proche et de le post-traiter. Pour determiner cette distance, l\\'algorithme charge l\\'ensemble des coordonnees des centres des faces de bord, ainsi que les sommets et les aretes. Il echange ces informations entre processeurs. Il utilise ensuite la fonction findClosestTupleId de MEDcoupling pour faire une recherche efficace. Cette methode n\\'est pas exacte pour les maillages deformes ou de tetraedres car la projection du centre d\\'un element de volume sur une face peut ne pas etre pile sur un centre de gravite de face ou sur un sommet. Pour que les resultats soient exacts dans les elements de bord, on fait une boucle sur ceux-ci en fin d\\'iteration."
   ]
  },
  {
   "cell_type": "code",
   "execution_count": null,
   "id": "079d201b-67de-4f90-8493-a2a38d65de78",
   "metadata": {},
   "outputs": [],
   "source": [
    "maillage = {\n",
    "    2: {\"PolyMAC\": \" \", \"PolyMAC_P0\": \" \", \"PolyMAC_P0P1NC\": \" \", \"VDF\": \" \", \"VEFPreP1B\": \" trianguler_h dom \"},\n",
    "    3: {\n",
    "        \"PolyMAC\": \" polyedriser dom \",\n",
    "        \"PolyMAC_P0\": \" polyedriser dom \",\n",
    "        \"PolyMAC_P0P1NC\": \" polyedriser dom \",\n",
    "        \"VDF\": \"  \",\n",
    "        \"VEFPreP1B\": \" tetraedriser_homogene dom \",\n",
    "    },\n",
    "}"
   ]
  },
  {
   "cell_type": "code",
   "execution_count": null,
   "id": "14fe5b13",
   "metadata": {},
   "outputs": [],
   "source": [
    "force_recalculation = True\n",
    "number_of_partitions = 1\n",
    "build_dir = run.BUILD_DIRECTORY\n",
    "\n",
    "def GenerateInputFile(name,substitutions_dict, dim):\n",
    "    \n",
    "    with open(f\"{build_dir}/jdd_{dim}D.data\", \"r\") as file: \n",
    "        filedata = Template(file.read())\n",
    "    result = filedata.substitute(substitutions_dict)\n",
    "    with open(f\"{build_dir}/{name}.data\", \"w\") as file:\n",
    "        file.write(result)\n",
    "\n",
    "if (force_recalculation) :\n",
    "    run.reset()\n",
    "    run.initBuildDirectory()\n",
    "\n",
    "    for d, meshes in maillage.items():\n",
    "        for s, m in meshes.items():\n",
    "            name = f\"{s}_{d}D\"\n",
    "            os.system(f'mkdir -p {build_dir}/{name}')\n",
    "            substitutions_dict_2D = {\"schema\" : s, \"maillage\" : m}\n",
    "            GenerateInputFile(name,substitutions_dict_2D, d)\n",
    "            os.system(f'mv {build_dir}/{name}.data {build_dir}/{name}')\n",
    "            case = run.addCase(f\"./{name}\", f\"{name}.data\",nbProcs=number_of_partitions)\n",
    "            if number_of_partitions>1 :\n",
    "                case.partition()\n",
    "\n",
    "    run.addCase(\".\",\"jdd_triangle.data\")\n",
    "\n",
    "    run.printCases()\n",
    "    run.runCases()"
   ]
  },
  {
   "cell_type": "markdown",
   "id": "3af3d0ee",
   "metadata": {},
   "source": [
    "## Affichage de du lata de la distance a la paroi en 2D dans une geometrie compliquee sur des rectangles ou triangles suivant le schema"
   ]
  },
  {
   "cell_type": "code",
   "execution_count": null,
   "id": "026f698f",
   "metadata": {},
   "outputs": [],
   "source": [
    "from trustutils import visit\n",
    "from trustutils.jupyter import plot\n",
    "import numpy as np\n",
    "import matplotlib.pyplot as plt\n",
    "import pandas as pd\n",
    "\n",
    "for s, m in maillage[2].items():\n",
    "    name = f\"{s}_2D\"\n",
    "    par = \"\"\n",
    "    if (number_of_partitions > 1): par = \"PAR_\"\n",
    "    fig=visit.showField(f\"{name}/{par}{name}.lata\",\"Pseudocolor\",\"DISTANCE_PAROI_GLOBALE_ELEM_dom\",iteration=0)\n",
    "\n"
   ]
  },
  {
   "cell_type": "markdown",
   "id": "623ec9f5",
   "metadata": {},
   "source": [
    "## Affichage de comparaison de sondes en 2D et en 3D sur la geometrie precedente contre la solution analytique sur des rectangles, triangles ou tetrahedres suivant le schema"
   ]
  },
  {
   "cell_type": "markdown",
   "id": "4d325f0f",
   "metadata": {},
   "source": [
    "On affiche les distances le long de sondes pour tous les schemas en 2D, 3D, parallele et sequentiel. Le nom des positions depend de l'endroit du maillage dans lequelle elles ont ete tirees. Il y a moins de points dans le volume en 3D pour garder un temps de generation de la fiche correct. Les ecarts en VEF sont probablement dus au decalage des centres de gravite des mailles induits par les caractere tetrahedrique/triangulaire (voir ci-dessous)."
   ]
  },
  {
   "cell_type": "code",
   "execution_count": null,
   "id": "1f17898b",
   "metadata": {},
   "outputs": [],
   "source": [
    "fig = plt.figure(figsize=(12, 8))\n",
    "\n",
    "plt.subplots_adjust(hspace= 0.3)\n",
    "\n",
    "dic_subplots = { \"NORD\" : fig.add_subplot(2, 6, (1,2)) ,\n",
    "                 \"OUEST\": fig.add_subplot(2, 6, (3, 4)),\n",
    "                 \"SUD1\" : fig.add_subplot(2, 6, (5, 6)),\n",
    "                 \"SUD2\" : fig.add_subplot(2, 6, (7,9)) ,\n",
    "                 \"EST\"  : fig.add_subplot(2, 6, (10,12)) \n",
    "                }\n",
    "\n",
    "absc = { \"NORD\" : np.linspace(-.975, .975, 40) ,\n",
    "         \"OUEST\": np.linspace(-1.9, -1.1, 5),\n",
    "         \"SUD1\" : np.linspace(-1.9, -1.1, 5),\n",
    "         \"SUD2\" : np.linspace(.025, 4.975, 100),\n",
    "         \"EST\"  : np.linspace(2**0.5*2.95, 0, 60)\n",
    "        }\n",
    "\n",
    "absc = { \"NORD\" : np.linspace(-.975, .975, 40) ,\n",
    "         \"OUEST\": np.linspace(-1.9, -1.1, 5),\n",
    "         \"SUD1\" : np.linspace(-1.9, -1.1, 5),\n",
    "         \"SUD2\" : np.linspace(.025, 4.975, 100),\n",
    "         \"EST\"  : np.linspace(2**0.5*2.95, 0, 60)\n",
    "        }\n",
    "\n",
    "dict_marker = { \"PolyMAC\" : \":\", \"PolyMAC_P0\": \":\", \"PolyMAC_P0P1NC\": \":\", \"VDF\" : \"--\", \"VEFPreP1B\" : \"-\" }\n",
    "dict_linesize = { \"PolyMAC\" : 4, \"PolyMAC_P0\": 4, \"PolyMAC_P0P1NC\": 4, \"VDF\" : 3, \"VEFPreP1B\" : 2 }\n",
    "\n",
    "tab_color = [ 0, 0, \"blue\", \"red\"]\n",
    "\n",
    "xe_loc = 4.975-absc[\"EST\"]/2**.5\n",
    "ye_loc = -.975+absc[\"EST\"]/2**.5\n",
    "\n",
    "ana = { \"NORD\" : 0.5 - absc[\"NORD\"] + absc[\"NORD\"] ,\n",
    "         \"OUEST\": .5-np.abs(absc[\"OUEST\"]+1.5),\n",
    "         \"SUD1\" : np.abs(absc[\"SUD1\"]+1),\n",
    "         \"SUD2\" : np.minimum( 5-absc[\"SUD2\"] , ( np.maximum(absc[\"SUD2\"]-2, 0)**2 + 0.9**2)**.5 ),\n",
    "         \"EST\"  : np.minimum( ((xe_loc-5)**2+(ye_loc+1)**2)**.5 , xe_loc-2)\n",
    "        }\n",
    "\n",
    "dic_subplots[\"NORD\"].set_ylim(.4, .8)\n",
    "\n",
    "for loc in dic_subplots.keys():\n",
    "    for d, meshes in maillage.items():\n",
    "        for s, m in meshes.items():\n",
    "            name = f\"{s}_{d}D\"\n",
    "            par = \"\"\n",
    "            if (number_of_partitions > 1): par = \"PAR_\"\n",
    "            dist = np.array(plot.loadText(f\"{name}/{par}{name}_{loc}.son\")[1::])\n",
    "            dic_subplots[loc].plot(absc[loc], dist, dict_marker[s], linewidth = dict_linesize[s], color = tab_color[d] , label = name)\n",
    "    dic_subplots[loc].plot(absc[loc], ana[loc], color = \"k\", label = \"Analytique\")\n",
    "    dic_subplots[loc].legend(fontsize = 6, ncol = 2)\n",
    "    dic_subplots[loc].set_xlabel(\"x-position\")\n",
    "    dic_subplots[loc].set_ylabel(\"distance from wall\")\n",
    "    dic_subplots[loc].set_title(loc)\n",
    "\n",
    "plt.tight_layout()\n",
    "#plt.savefig(\"Distance_paroi_tous_schemas.pdf\")\n",
    "\n"
   ]
  },
  {
   "cell_type": "markdown",
   "id": "9d636585",
   "metadata": {},
   "source": [
    "## Affichage de la distance sur des tetras un peu tordus en proche paroi"
   ]
  },
  {
   "cell_type": "markdown",
   "id": "742041b7",
   "metadata": {},
   "source": [
    "On regarde les resultats dans un maillage triangulaire 2D et on les compare avec la theorie. On tire une sonde la les mailles proches de la paroi (Y=0.5). On voit que la solution exacte est trouvee dans l'element de bord grace a la boucle supplementaire sur ceux-ci, mais pas dans l'element suivant pour lequel la distance calculee est un peu elevee.\n"
   ]
  },
  {
   "cell_type": "code",
   "execution_count": null,
   "id": "ca2de031",
   "metadata": {},
   "outputs": [],
   "source": [
    "fig=visit.showField(\"jdd_triangle.lata\",\"Pseudocolor\",\"DISTANCE_PAROI_GLOBALE_ELEM_dom\")"
   ]
  },
  {
   "cell_type": "code",
   "execution_count": null,
   "id": "6f6a2c3d",
   "metadata": {},
   "outputs": [],
   "source": [
    "d = np.array(plot.loadText(\"jdd_triangle_DIST.son\")[1::])\n",
    "x = np.linspace(0.5, 9.5, 20)\n",
    "\n",
    "d_min = np.linspace(0.333333, 0.333333, 20)\n",
    "d_max = np.linspace(0.666666, 0.666666, 20)\n",
    "\n",
    "plt.plot(x, d_min, 'b', linewidth = 2, label = 'Possible low value')\n",
    "plt.plot(x, d_max, 'g', linewidth = 2, label = 'Possible high value')\n",
    "plt.plot(x,     d, 'or', label = 'trust output')\n",
    "plt.xlabel(\"position on the probe\")\n",
    "plt.ylabel(\"distance to the edge\")\n",
    "plt.legend()\n",
    "\n",
    "plt.ylim(0, 1)\n",
    "\n",
    "plt.show()"
   ]
  }
 ],
 "metadata": {
  "kernelspec": {
   "display_name": "Python 3 (ipykernel)",
   "language": "python",
   "name": "python3"
  },
  "language_info": {
   "codemirror_mode": {
    "name": "ipython",
    "version": 3
   },
   "file_extension": ".py",
   "mimetype": "text/x-python",
   "name": "python",
   "nbconvert_exporter": "python",
   "pygments_lexer": "ipython3",
   "version": "3.12.5"
  }
 },
 "nbformat": 4,
 "nbformat_minor": 5
}
