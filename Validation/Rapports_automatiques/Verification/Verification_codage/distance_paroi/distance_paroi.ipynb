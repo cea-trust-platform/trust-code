{
 "cells": [
  {
   "cell_type": "markdown",
   "id": "inappropriate-lingerie",
   "metadata": {},
   "source": [
    "# Vérification du codage de la distance au bord le plus proche"
   ]
  },
  {
   "cell_type": "code",
   "execution_count": null,
   "id": "a03f1a72",
   "metadata": {},
   "outputs": [],
   "source": [
    "from trustutils import run\n",
    "import os\n",
    "\n",
    "run.introduction(\"C. Reiss\",\"29/04/2022\")\n",
    "\n",
    "run.TRUST_parameters()"
   ]
  },
  {
   "cell_type": "markdown",
   "id": "89a66211",
   "metadata": {},
   "source": [
    "### Description: \n",
    "\n",
    "This form tests the functions that allow to fill the wall distance tables and post-process it. To determine this distance, the algorithm loads all the coordinates on the wall faces, vertices and edges. It exchanges this information between the processors. It uses the `findClosestTupleId` in MEDCoupling for an efficient search. This method is not exact on deformed meshes or with tetrahedrons because the center projection of a volume element on a face is not exactly on its center of gravity or a vertex. To ensure accurate results for edges, a loop must be executed at the end of the iteration."
   ]
  },
  {
   "cell_type": "code",
   "execution_count": null,
   "id": "079d201b-67de-4f90-8493-a2a38d65de78",
   "metadata": {},
   "outputs": [],
   "source": [
    "maillage = {\n",
    "    2: {\"PolyMAC\": \" \", \"PolyMAC_P0\": \" \", \"PolyMAC_P0P1NC\": \" \", \"VDF\": \" \", \"VEFPreP1B\": \" trianguler_h dom \"},\n",
    "    3: {\n",
    "        \"PolyMAC\": \" polyedriser dom \",\n",
    "        \"PolyMAC_P0\": \" polyedriser dom \",\n",
    "        \"PolyMAC_P0P1NC\": \" polyedriser dom \",\n",
    "        \"VDF\": \"  \",\n",
    "        \"VEFPreP1B\": \" tetraedriser_homogene dom \",\n",
    "    },\n",
    "}"
   ]
  },
  {
   "cell_type": "code",
   "execution_count": null,
   "id": "14fe5b13",
   "metadata": {},
   "outputs": [],
   "source": [
    "force_recalculation = True\n",
    "number_of_partitions = 1\n",
    "build_dir = run.BUILD_DIRECTORY\n",
    "\n",
    "if (force_recalculation) :\n",
    "    run.reset()\n",
    "    run.initBuildDirectory()\n",
    "\n",
    "    for dim, meshes in maillage.items():\n",
    "        for scheme, mesh in meshes.items():\n",
    "            name = f\"{scheme}_{dim}D\"\n",
    "            sub_dict = {\"schema\" : scheme, \"maillage\" : mesh}\n",
    "            case = run.addCaseFromTemplate(f\"jdd_{dim}D.data\", name, sub_dict, targetData=f\"{name}.data\", nbProcs=number_of_partitions)\n",
    "            if number_of_partitions > 1:\n",
    "                case.partition()\n",
    "\n",
    "    case = run.addCaseFromTemplate(\"jdd_triangle.data\", \"TRIANGLE\", {}, nbProcs=number_of_partitions)\n",
    "    if number_of_partitions > 1:\n",
    "        case.partition()\n",
    "\n",
    "    run.printCases()\n",
    "    run.runCases()"
   ]
  },
  {
   "cell_type": "markdown",
   "id": "3af3d0ee",
   "metadata": {},
   "source": [
    "## Display the wall distance field in 2D on a complicated geometry"
   ]
  },
  {
   "cell_type": "code",
   "execution_count": null,
   "id": "026f698f",
   "metadata": {},
   "outputs": [],
   "source": [
    "from trustutils import visit\n",
    "from trustutils.jupyter import plot\n",
    "import numpy as np\n",
    "import matplotlib.pyplot as plt\n",
    "import pandas as pd\n",
    "\n",
    "par = \"\"\n",
    "if (number_of_partitions > 1):\n",
    "    par = \"PAR_\"\n",
    "\n",
    "for scheme, mesh in maillage[2].items():\n",
    "    name = f\"{scheme}_2D\"\n",
    "    fig=visit.showField(f\"{name}/{par}{name}.lata\",\"Pseudocolor\",\"DISTANCE_PAROI_GLOBALE_ELEM_dom\",iteration=0)\n",
    "\n"
   ]
  },
  {
   "cell_type": "markdown",
   "id": "623ec9f5",
   "metadata": {},
   "source": [
    "## Comparison of probes in 2D and 3D against an analytical solution"
   ]
  },
  {
   "cell_type": "markdown",
   "id": "4d325f0f",
   "metadata": {},
   "source": [
    "The distance from the probes is plotted for every scheme in 2D and 3D. The name of the probe is related to its position in the mesh. We use less points in 3D to keep a reasonable computation time. The differences in VEF are probably due to the gravity centers shift resulting from the tetrahedron or triangular meshes."
   ]
  },
  {
   "cell_type": "code",
   "execution_count": null,
   "id": "1f17898b",
   "metadata": {},
   "outputs": [],
   "source": [
    "fig = plt.figure(figsize=(12, 8))\n",
    "\n",
    "plt.subplots_adjust(hspace= 0.3)\n",
    "\n",
    "dic_subplots = { \"NORD\" : fig.add_subplot(2, 6, (1,2)) ,\n",
    "                 \"OUEST\": fig.add_subplot(2, 6, (3, 4)),\n",
    "                 \"SUD1\" : fig.add_subplot(2, 6, (5, 6)),\n",
    "                 \"SUD2\" : fig.add_subplot(2, 6, (7,9)) ,\n",
    "                 \"EST\"  : fig.add_subplot(2, 6, (10,12)) \n",
    "                }\n",
    "\n",
    "absc = { \"NORD\" : np.linspace(-.975, .975, 40) ,\n",
    "         \"OUEST\": np.linspace(-1.9, -1.1, 5),\n",
    "         \"SUD1\" : np.linspace(-1.9, -1.1, 5),\n",
    "         \"SUD2\" : np.linspace(.025, 4.975, 100),\n",
    "         \"EST\"  : np.linspace(2**0.5*2.95, 0, 60)\n",
    "        }\n",
    "\n",
    "dict_marker = { \"PolyMAC\" : \":\", \n",
    "               \"PolyMAC_P0\": \":\", \n",
    "               \"PolyMAC_P0P1NC\": \":\", \n",
    "               \"VDF\" : \"--\", \n",
    "               \"VEFPreP1B\" : \"-\" }\n",
    "dict_linesize = { \"PolyMAC\" : 4, \n",
    "                 \"PolyMAC_P0\": 4, \n",
    "                 \"PolyMAC_P0P1NC\": 4, \n",
    "                 \"VDF\" : 3, \n",
    "                 \"VEFPreP1B\" : 2 }\n",
    "\n",
    "tab_color = [ 0, 0, \"blue\", \"red\"]\n",
    "\n",
    "xe_loc = 4.975-absc[\"EST\"]/2**.5\n",
    "ye_loc = -.975+absc[\"EST\"]/2**.5\n",
    "\n",
    "ana = { \"NORD\" : 0.5 - absc[\"NORD\"] + absc[\"NORD\"] ,\n",
    "         \"OUEST\": .5-np.abs(absc[\"OUEST\"]+1.5),\n",
    "         \"SUD1\" : np.abs(absc[\"SUD1\"]+1),\n",
    "         \"SUD2\" : np.minimum( 5-absc[\"SUD2\"] , ( np.maximum(absc[\"SUD2\"]-2, 0)**2 + 0.9**2)**.5 ),\n",
    "         \"EST\"  : np.minimum( ((xe_loc-5)**2+(ye_loc+1)**2)**.5 , xe_loc-2)\n",
    "        }\n",
    "\n",
    "dic_subplots[\"NORD\"].set_ylim(.4, .8)\n",
    "\n",
    "for loc in dic_subplots.keys():\n",
    "    for d, meshes in maillage.items():\n",
    "        for s, m in meshes.items():\n",
    "            name = f\"{s}_{d}D\"\n",
    "            par = \"\"\n",
    "            if (number_of_partitions > 1): par = \"PAR_\"\n",
    "            dist = np.array(plot.loadText(f\"{name}/{par}{name}_{loc}.son\")[1::])\n",
    "            dic_subplots[loc].plot(absc[loc], dist, dict_marker[s], linewidth = dict_linesize[s], color = tab_color[d] , label = name)\n",
    "    dic_subplots[loc].plot(absc[loc], ana[loc], color = \"k\", label = \"Analytique\")\n",
    "    dic_subplots[loc].legend(fontsize = 6, ncol = 2)\n",
    "    dic_subplots[loc].set_xlabel(\"x-position\")\n",
    "    dic_subplots[loc].set_ylabel(\"distance from wall\")\n",
    "    dic_subplots[loc].set_title(loc)\n",
    "\n",
    "plt.tight_layout()\n",
    "#plt.savefig(\"Distance_paroi_tous_schemas.pdf\")\n",
    "\n"
   ]
  },
  {
   "cell_type": "markdown",
   "id": "9d636585",
   "metadata": {},
   "source": [
    "## Wall distance on tetrahedron near the wall"
   ]
  },
  {
   "cell_type": "markdown",
   "id": "742041b7",
   "metadata": {},
   "source": [
    "We compare the wall distance on a 2D triangular mesh with theory. We use a probe on the cells closest to the wall at Y=0.5. We can see that the exact solution is found in the wall element thanks to an additional loop but not on the next one as the computed distance is greater."
   ]
  },
  {
   "cell_type": "code",
   "execution_count": null,
   "id": "ca2de031",
   "metadata": {},
   "outputs": [],
   "source": [
    "fig=visit.showField(f\"TRIANGLE/{par}jdd_triangle.lata\", \"Pseudocolor\", \"DISTANCE_PAROI_GLOBALE_ELEM_dom\")"
   ]
  },
  {
   "cell_type": "code",
   "execution_count": null,
   "id": "6f6a2c3d",
   "metadata": {},
   "outputs": [],
   "source": [
    "d = np.array(plot.loadText(f\"TRIANGLE/{par}jdd_triangle_DIST.son\")[1::])\n",
    "x = np.linspace(0.5, 9.5, 20)\n",
    "\n",
    "d_min = np.linspace(0.333333, 0.333333, 20)\n",
    "d_max = np.linspace(0.666666, 0.666666, 20)\n",
    "\n",
    "fig, ax = plt.subplots()\n",
    "\n",
    "ax.plot(x, d_min, 'b', linewidth = 2, label = 'Possible low value')\n",
    "ax.plot(x, d_max, 'g', linewidth = 2, label = 'Possible high value')\n",
    "ax.plot(x,     d, 'or', label = 'trust output')\n",
    "plt.xlabel(\"position on the probe\")\n",
    "plt.ylabel(\"distance to the edge\")\n",
    "plt.ylim(0, 1)\n",
    "ax.legend(bbox_to_anchor=(1.5, 0.75))\n",
    "\n",
    "plt.show()"
   ]
  }
 ],
 "metadata": {
  "kernelspec": {
   "display_name": "Python 3 (ipykernel)",
   "language": "python",
   "name": "python3"
  },
  "language_info": {
   "codemirror_mode": {
    "name": "ipython",
    "version": 3
   },
   "file_extension": ".py",
   "mimetype": "text/x-python",
   "name": "python",
   "nbconvert_exporter": "python",
   "pygments_lexer": "ipython3",
   "version": "3.12.5"
  }
 },
 "nbformat": 4,
 "nbformat_minor": 5
}
