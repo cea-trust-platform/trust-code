{
 "cells": [
  {
   "cell_type": "markdown",
   "id": "boolean-earth",
   "metadata": {},
   "source": [
    "# Validation of the mass source term implementation for a WC problem"
   ]
  },
  {
   "cell_type": "code",
   "execution_count": null,
   "id": "68a004ce",
   "metadata": {},
   "outputs": [],
   "source": [
    "from trustutils import run\n",
    "\n",
    "run.introduction(\"Elie Saikali & Adrien Bruneton\")\n",
    "run.TRUST_parameters(\"1.9.0\")"
   ]
  },
  {
   "cell_type": "markdown",
   "id": "89f8b0fe",
   "metadata": {},
   "source": [
    "## Description\n",
    "\n",
    "This jupyter notebook aims at validating the implementation of the mass loss source term for a WC multi-species problem. Both VDF and VEF discretizations are considered where for each we consider two simulations: either for two or three species ! \n",
    "\n",
    "In what follows we recall at first the classical WC governing equation and how the system is modified to take into account the mass loss from the system. Afterwards, we recall the pressure-projection algorithm used with the WC problem (thats for you Benoit) ! Test cases and results are finally presented."
   ]
  },
  {
   "cell_type": "code",
   "execution_count": null,
   "id": "balanced-boating",
   "metadata": {},
   "outputs": [],
   "source": [
    "import os, sys\n",
    "\n",
    "run.reset()\n",
    "run.initBuildDirectory()\n",
    "origin, build_dir = os.getcwd(), run.BUILD_DIRECTORY\n",
    "os.chdir(build_dir)"
   ]
  },
  {
   "cell_type": "markdown",
   "id": "9a7e2ff9",
   "metadata": {},
   "source": [
    "## Multi-species WC Governing equations\n",
    "\n",
    "\n",
    "In general, the dimensional WC system of governing equations reads as\n",
    "\n",
    "\\begin{align}\n",
    "&\\frac{\\partial {\\rho}}{\\partial t}+\\frac{\\partial }{\\partial x_i} \\bigg({\\rho} {u}_i\\bigg) = 0, \\label{mass}\\\\\n",
    "&\\frac{\\partial {\\rho}{ u}_j }{\\partial t}+ \\frac{\\partial }{\\partial x_i} \\bigg({\\rho} {u}_j {u}_i \\bigg) =-\\frac{\\partial{ P}}{\\partial x_j} + \\frac{\\partial{\\tau}_{ij}}{\\partial x_i}+{\\rho} g_j, \\label{mom}\\\\\n",
    "&\\rho c_p\\frac{\\partial T}{\\partial t}+  \\rho c_p {u}_i\\frac{\\partial T}{\\partial x_i}=\\frac{\\partial }{\\partial x_i}\\bigg( {\\rho} \\lambda \\frac{\\partial T}{\\partial x_i}\\bigg)+\\frac{dP_{tot}}{dt},\\\\\n",
    "&  \\rho\\frac{\\partial{ Y}_i}{\\partial t}+ \\rho {u}_i\\frac{\\partial Y_i}{\\partial x_i}=\\frac{\\partial }{\\partial x_i}\\bigg( {\\rho} \\  D \\frac{\\partial {Y }_i}{\\partial x_i}\\bigg),\\label{spec}\\\\\n",
    "&{\\rho}={M}_{mix}\\frac{P_{tot}}{RT}, \\label{state}\n",
    "\\end{align}\n",
    "\n",
    "where ${\\rho}$ is the mixture's density and ${u}_i$ the mass average component of the velocity vector ${\\textbf{u}}=({u}_1,{u}_2,{u}_3)$ and $g_j=(0,0,-g)$ the gravity vector. ${Y}_i$ is the mass fraction of species $i$ satisfying $\\sum {Y}_i=1$. \n",
    "\n",
    "$P_{tot}$ is the total pressure; ie: the sum of the thermo-dynamic pressure $p=1$ bar (in general) and the hydro-dynamic pressure $P$ that is an unknown of the NS equation. Recall here that this is the basic difference between the QC and WC formulations. Here, the pressure of the state equation can vary in space too !\n",
    "\n",
    "$D$ corresponds to the mixture diffusion coefficient of both species,  $R= 8.314$ J.K$^{-1}$.mol$^{-1}$ the specific gas constant and $M_{mix}=\\displaystyle\\left(\\sum_{i=1}^2  \\frac{{Y}_i}{M_i}\\right)^{-1}$ the mixing molar mass.\n",
    "\n",
    " ${\\tau}_{ij}= 2\\mu{e}_{ij}$ is the viscous stress tensor for Newtonian fluids with\n",
    "$${e}_{ij}= \\frac{1}{2}\\left(\\frac{\\partial  u_i}{\\partial x_j} + \\frac{\\partial u_j}{\\partial x_i}\\right) -\\frac{1}{3}\\delta_{ij}\\frac{\\partial u_k}{\\partial x_k},$$\n",
    "and $\\delta_{ij}$ the Kronecker symbol.  $\\mu$ denotes the mixture's dynamic viscosity calculated as a function of the mass fractions and fluids physical properties using the Wilke's formulation. \n",
    "\n",
    "For example, for the species the formula reads as follows\n",
    "\\begin{equation}\\label{wilke}\n",
    "        \\mu = \\frac{Y_1\\mu_1}{Y_1\\phi_{11}+Y_2\\phi_{12}}+\\frac{Y_2\\mu_2}{Y_1\\phi_{21}+Y_2\\phi_{22}},\n",
    "\\end{equation}\n",
    "        where $\\phi_{ij}$ is a set of dimensionless constants calculated as\n",
    "\\begin{equation}\n",
    "        \\phi_{ij}= \\displaystyle\\frac{\\displaystyle\\frac{\\textrm{M}_i}{\\textrm{M}_j}\\left[ 1+\\left(\\displaystyle\\frac{\\mu_i}{\\mu_j} \\right)^{1/2} \\left( \\displaystyle\\frac{\\textrm{M}_j}{\\textrm{M}_i} \\right)^{1/4}\\right]^2}{ \\left[ 8\\left(1+\\displaystyle\\frac{\\textrm{M}_i}{\\textrm{M}_j} \\right) \\right]^{1/2}}\\quad : \\quad i,j=\\{1,2\\}.\n",
    "\\end{equation}\n",
    "\n",
    "\n",
    "### Mass loss\n",
    "\n",
    "The mass conservation equation in its original form insures the mass balance in the system. Recall that this equation is not solved (explicitly) in the code but used in the projection algorithm on the RHS of the elliptic pressure Poisson's equation. This means that if a mass flux is prescribed at a considered boundary for a single species equation, the entire mixture is affected and not only the desired species.\n",
    "\n",
    "In order to control that (consumption of H2 only along a boundary in a PEMFC for example), a mass-loss source term should be considered. For that, the iso-thermal system of GE becomes (temperature equation not considered)\n",
    "\n",
    "\\begin{align}\n",
    "&\\frac{\\partial {\\rho}}{\\partial t}+\\frac{\\partial }{\\partial x_i} \\bigg({\\rho} {u}_i\\bigg) = -\\bf{S},\\\\\n",
    "&\\frac{\\partial {\\rho}{ u}_j }{\\partial t}+ \\frac{\\partial }{\\partial x_i} \\bigg({\\rho} {u}_j {u}_i \\bigg) =-\\frac{\\partial{ P}}{\\partial x_j} + \\frac{\\partial{\\tau}_{ij}}{\\partial x_i}+{\\rho} g_j,\\\\\n",
    "&  \\rho\\frac{\\partial{ Y}_i}{\\partial t}+ \\rho {u}_i\\frac{\\partial Y_i}{\\partial x_i}=\\frac{\\partial }{\\partial x_i}\\bigg( {\\rho} \\  D \\frac{\\partial {Y }_i}{\\partial x_i}\\bigg) + \\bf{Y_i S},\\\\\n",
    "&{\\rho}={M}_{mix}\\frac{P_{tot}}{RT}, \n",
    "\\end{align}\n",
    "\n",
    "where $\\textbf{S}$ [Kg.m$^{-3}$.s$^{-1}$] is a volumic source term applied on the first cell in contact with the boundary where the mass flux $\\mathcal{F}$ [Kg.m$^{-2}$.s$^{-1}$] is prescribed on the species equation. In particular, $$\\bf{S} = \\mathcal{F} \\times \\mathcal{S} / \\mathcal{V},$$\n",
    "where $\\mathcal{S}$ and $\\mathcal{V}$ are respectively the surface area and the voulme of the boundary element. Note that as far as we consider a single mixture velocity $u_i$, $\\mathcal{F}$ is considered as a pure diffusive flux (no convective contribution).\n",
    "\n",
    "We emphasize that the presented formulation is generic and works for cases where different mass fluxes are imposed for different species. For example, say we impose $\\mathcal{F}_1$ for species equation 1 and $\\mathcal{F}_2$ for species equation 2, the source term is considered as $$\\bf{S}=\\bf{S}_1+\\bf{S}_2,$$ where $\\bf{S}_1 = \\mathcal{F}_1 \\times \\mathcal{S} / \\mathcal{V}$ and $\\bf{S}_2 = \\mathcal{F}_2 \\times \\mathcal{S} /  \\mathcal{V}$.\n",
    "\n",
    "### TRUST implementation\n",
    "\n",
    "The new formulation is currently available for both VDF and VEF discretizations. In accordance with the previous system of GE, the code is modified basically in two places; for the projection algorithm to take into account $\\textbf{S}$ in the RHS of the Poisson equation, and for the species equations to add the contribution ! In what follows, we recall the incremental projection algorithm (Chorin) employed in the WC model.\n",
    "\n",
    "\n",
    "#### Chorin's algorithm \n",
    "\n",
    "Consider the WC NS equation \n",
    "\n",
    "$$\\frac{\\partial {\\rho}{ u}_j }{\\partial t}+ \\frac{\\partial }{\\partial x_i} \\bigg({\\rho} {u}_j {u}_i \\bigg) =-\\frac{\\partial{ P}}{\\partial x_j} + \\frac{\\partial{\\tau}_{ij}}{\\partial x_i}+{\\rho} g_j$$\n",
    "\n",
    "At the prediction step we have\n",
    "\n",
    "$$\\frac{ ({\\rho}{ u}_j)^{\\ast} - ({\\rho}{ u}_j)^{n} }{d t}+ \\frac{\\partial }{\\partial x_i} \\bigg({\\rho} {u}_j {u}_i \\bigg)\\bigg|^{n+1} =-\\frac{\\partial{ P}}{\\partial x_j}\\bigg|^{n} + \\frac{\\partial{\\tau}_{ij}}{\\partial x_i}\\bigg|^{n+1}+{\\rho} g_j\\bigg|^{n+1}$$\n",
    "\n",
    "At the correction we have\n",
    "\n",
    "$$\\frac{ ({\\rho}{ u}_j)^{n+1} - ({\\rho}{ u}_j)^{n} }{d t}+ \\frac{\\partial }{\\partial x_i} \\bigg({\\rho} {u}_j {u}_i \\bigg)\\bigg|^{n+1} =-\\frac{\\partial{ P}}{\\partial x_j}\\bigg|^{n+1} + \\frac{\\partial{\\tau}_{ij}}{\\partial x_i}\\bigg|^{n+1}+{\\rho} g_j\\bigg|^{n+1}$$\n",
    "\n",
    "Taking the difference we get \n",
    "\n",
    "$$ \\frac{ ({\\rho}{ u}_j)^{\\ast} - ({\\rho}{ u}_j)^{n+1} }{d t} = \\frac{\\partial{ \\Pi}}{\\partial x_j},$$\n",
    "\n",
    "where $\\Pi=P^{n+1}-P^{n}$ is the pressure increment. Finally, the Poisson equation is obtained by applying the divergence operator on both sides of the equation\n",
    "\n",
    "$$ \\frac{ \\frac{\\partial}{\\partial x_j}({\\rho}{ u}_j)^{\\ast} - \\frac{\\partial}{\\partial x_j} ({\\rho}{ u}_j)^{n+1} }{d t} =\\frac{\\partial}{\\partial x_j} \\frac{\\partial{ \\Pi}}{\\partial x_j}.$$\n",
    "\n",
    "Using the mass equation \n",
    "$$\\frac{\\partial {\\rho}}{\\partial t}+\\frac{\\partial }{\\partial x_i} \\bigg({\\rho} {u}_i\\bigg) = -\\bf{S}, $$\n",
    "\n",
    "the pressure Poisson equation becomes\n",
    "\n",
    "$$ \\displaystyle\\frac{ \\frac{\\partial}{\\partial x_j}({\\rho}{ u}_j)^{\\ast} +\\frac{\\partial {\\rho}}{\\partial t}\\bigg|^{n+1}+\\bf{S}\\bigg|^{n+1} }{d t} =\\frac{\\partial}{\\partial x_j} \\frac{\\partial{ \\Pi}}{\\partial x_j}.$$\n",
    "\n",
    "After solving this equation, the pressure and velocity fields at time $n+1$ are obtained as\n",
    "\n",
    "$$P^{n+1}=\\Pi + P^n$$\n",
    "$$u_j^{n+1} = \\frac{1}{\\rho^{n+1}}({\\rho}{ u}_j)^{n+1}$$"
   ]
  },
  {
   "cell_type": "markdown",
   "id": "71da178f",
   "metadata": {},
   "source": [
    "## Computation"
   ]
  },
  {
   "cell_type": "markdown",
   "id": "fe44be21",
   "metadata": {},
   "source": [
    "We consider three gases O$_2$, N$_2$ and H$_2$O (M1 = 32 e$^{-3}$, M2 = 28 e$^{-3}$ Kg.mol$^{-1}$ and M3 = 18 e$^{-3}$ Kg.mol$^{-1}$) injected in a channel (1x50x1 e$^{-3}$ m for VDF and 1x30x1 e$^{-3}$ m for VEF). See the meshes in the next figures. \n",
    "\n",
    "At the injection we fix $Y_1=0.5$ ($Y_2=0.2$ for multi-species case) and $\\rho u=0.63$ Kg.m$^{-2}$.s$^{-1}$.\n",
    "\n",
    "At the outlet, the hydrostatic pressure is fixed. On the wall boundaries (not in contact with the AME), a no-slip BC is used.\n",
    "\n",
    "At the AME boundary, a no-slip BC is for NS and a mass flux is imposed for the conservation equation of $Y_1$ (and $Y_2$ for multi-species case). The flux is calculated in order to consume along this boundary $\\textbf{all the injected}$ O$_2$ and H$_2$O."
   ]
  },
  {
   "cell_type": "code",
   "execution_count": null,
   "id": "cf3aeeb5",
   "metadata": {},
   "outputs": [],
   "source": [
    "class ValueSet:\n",
    "    def __init__(self):\n",
    "        self.rho_u = {}\n",
    "        self.rhoYO2_u = {}\n",
    "        self.rhoYH2O_u = {}\n",
    "        self.rhoYN2_u = {}\n",
    "\n",
    "\n",
    "def readout(path, name_file):\n",
    "    data=[]\n",
    "    file = os.path.join(path,name_file)\n",
    "    with open(file) as f:\n",
    "        for l in f:\n",
    "            if l.startswith('#'):\n",
    "                header=l[1:].split()\n",
    "            elif len(l.split())>1:\n",
    "                d={}\n",
    "                for i,j in zip(header,l.split()):\n",
    "                    d[i]=float(j)                    \n",
    "    return d\n",
    "\n",
    "def compute_surfaces(discretization):\n",
    "    if discretization == \"VDF\":\n",
    "        # num of nodes in mesh VDF\n",
    "        nx, ny, nz = 6, 51, 6\n",
    "        lx, ly, lz = 1.e-3, 50.e-3, 1.e-3\n",
    "    elif discretization == \"VEF\":\n",
    "        nx, ny, nz = 3, 13, 3\n",
    "        lx, ly, lz = 1.e-3, 30.e-3, 1.e-3\n",
    "            \n",
    "    S_inj = lx*lz # section entree\n",
    "    s_ame = lx*(ly-10e-3) # in m2\n",
    "        \n",
    "    return S_inj, s_ame\n",
    "\n",
    "P = 1e5  # pression gaz (Pa)\n",
    "T = 375.  # Temperature (K)\n",
    "R = 8.314472\n",
    "\n",
    "MO2 = 32.e-3 # O2 in kg/mol\n",
    "MN2 = 28.e-3 # N2 in kg/mol\n",
    "MH2O = 18.e-3 # H2O in kg/mol\n",
    "\n",
    "class CommonData:\n",
    "\n",
    "    def __init__(self, Y_O2, Y_H2O, ch):\n",
    "\n",
    "        self.ch = ch\n",
    "        self.Y_O2 = Y_O2\n",
    "        self.stoechio = 1.5\n",
    "        \n",
    "        if self.ch==\"binaire\":\n",
    "            self.Y_H2O = 0.\n",
    "        elif self.ch==\"multi\":\n",
    "            self.Y_H2O = Y_H2O\n",
    "        \n",
    "        self.Y_N2 = 1.-self.Y_O2-self.Y_H2O\n",
    "        self.rho_mix_init = 1./(R*T/P*(self.Y_O2/MO2+self.Y_N2/MN2+self.Y_H2O/MH2O))\n",
    "        \n",
    "\n",
    "    def compute_fluxes(self, rhou, discretization): \n",
    "        \n",
    "        S_inj, s_ame = compute_surfaces(discretization)\n",
    "        \n",
    "        self.v_inj = rhou/self.rho_mix_init\n",
    "    \n",
    "        self.debit_Y_O2_inj = self.v_inj * self.rho_mix_init * S_inj * self.Y_O2 # debit mass O2 en entree [kg/s]\n",
    "        flux_Y_O2_ame = -self.debit_Y_O2_inj / self.stoechio / s_ame # ./m2/s  \n",
    "    \n",
    "        if self.ch==\"multi\":\n",
    "            self.debit_Y_H2O_inj = self.v_inj * self.rho_mix_init * S_inj * self.Y_H2O # debit mass H2O en entree [kg/s]\n",
    "        else:\n",
    "            self.debit_Y_H2O_inj = 0.\n",
    "        \n",
    "        flux_Y_H2O_ame = -self.debit_Y_H2O_inj / self.stoechio / s_ame # ./m2/s\n",
    "        \n",
    "        return flux_Y_O2_ame, flux_Y_H2O_ame\n",
    "\n",
    "    def check_fluxes(self, path, discretization):\n",
    "        \n",
    "        S_inj, s_ame = compute_surfaces(discretization)\n",
    "\n",
    "        trust = ValueSet()\n",
    "        \n",
    "        boundaries=[\"in\",\"ame\",\"out\"]\n",
    "        \n",
    "        root_name = 'flux_'+discretization+'_'+self.ch\n",
    "        \n",
    "        trust.rho_u=readout(path, root_name+'_pb_Debit.out')\n",
    "        \n",
    "        # Convention: rho_u>0 => flux entrant\n",
    "        for i in boundaries:\n",
    "            trust.rho_u[i] *= -1\n",
    "\n",
    "\n",
    "        if self.ch==\"binaire\":\n",
    "            conv1=readout(path, root_name+'_pb_Convection_Espece_Binaire.out')\n",
    "            diff1=readout(path, root_name+'_pb_Diffusion_Espece_Binaire.out')\n",
    "        elif self.ch==\"multi\":\n",
    "            conv1=readout(path, root_name+'_pb_Convection_FRACTION_MASSIQUE0.out')\n",
    "            diff1=readout(path, root_name+'_pb_Diffusion_FRACTION_MASSIQUE0.out')\n",
    "            conv2=readout(path, root_name+'_pb_Convection_FRACTION_MASSIQUE1.out')\n",
    "            diff2=readout(path, root_name+'_pb_Diffusion_FRACTION_MASSIQUE1.out')\n",
    "\n",
    "        for i in boundaries:\n",
    "            trust.rhoYO2_u[i] = conv1[i] + diff1[i]\n",
    "            if self.ch==\"multi\":\n",
    "                trust.rhoYH2O_u[i] = conv2[i] + diff2[i]\n",
    "            else:\n",
    "                trust.rhoYH2O_u[i] = 0.\n",
    "\n",
    "        source_term = -trust.rhoYO2_u[\"in\"]/self.stoechio - trust.rhoYH2O_u[\"in\"]/self.stoechio        \n",
    "        trust.rho_u[\"ame\"] += source_term\n",
    "\n",
    "        for i in boundaries:\n",
    "            trust.rhoYN2_u[i] = trust.rho_u[i] - trust.rhoYO2_u[i] - trust.rhoYH2O_u[i]\n",
    "\n",
    "        # calcul des valeurs theoriques\n",
    "        theo=ValueSet()\n",
    "        theo.rho_u[\"in\"] = self.rho_mix_init*self.v_inj*S_inj\n",
    "        theo.rho_u[\"ame\"] = -self.debit_Y_O2_inj/self.stoechio-self.debit_Y_H2O_inj/self.stoechio\n",
    "        theo.rhoYO2_u[\"in\"] = self.debit_Y_O2_inj\n",
    "        theo.rhoYO2_u[\"ame\"] = -self.debit_Y_O2_inj/self.stoechio\n",
    "        theo.rhoYH2O_u[\"in\"] = self.debit_Y_H2O_inj\n",
    "        theo.rhoYH2O_u[\"ame\"] = -self.debit_Y_H2O_inj/self.stoechio\n",
    "        for i in [theo.rho_u,theo.rhoYO2_u,theo.rhoYH2O_u]:\n",
    "            i[\"out\"] = -i[\"in\"]-i[\"ame\"]\n",
    "\n",
    "        for i in boundaries:\n",
    "            theo.rhoYN2_u[i] = theo.rho_u[i] - theo.rhoYO2_u[i] - theo.rhoYH2O_u[i]\n",
    "\n",
    "        print (\"=================================================================\")\n",
    "        for i in boundaries:\n",
    "            i_affich = i\n",
    "            if i == \"ame\":\n",
    "                i_affich = \"ame + SOURCES\"\n",
    "            print(\"boundary: \"+ i_affich)\n",
    "            for j in [\"rho_u\",\"rhoYO2_u\", \"rhoYH2O_u\", \"rhoYN2_u\"]:\n",
    "               a=getattr(trust,j)[i]*1e9\n",
    "               b=getattr(theo,j)[i]*1e9\n",
    "               print(\"%4s %6s  trust: %12.5f   theo: %12.5f [1E-9kg/s]\"%(i,j,a,b))\n",
    "            a = (getattr(trust,\"rho_u\")[i] - getattr(trust,\"rhoYO2_u\")[i] - getattr(trust,\"rhoYH2O_u\")[i] - getattr(trust,\"rhoYN2_u\")[i]) *1e9\n",
    "            b = (getattr(theo,\"rho_u\")[i] - getattr(theo,\"rhoYO2_u\")[i] - getattr(theo,\"rhoYH2O_u\")[i] - getattr(theo,\"rhoYN2_u\")[i]) *1e9\n",
    "            print(\"\")\n",
    "            print(\"%4s TOTAL  trust: %12.5f   theo: %12.5f [1E-9kg/s]\"%(i,a,b))\n",
    "            print (\"=================================================================\")\n",
    "\n",
    "        print(\"\")\n",
    "        print (\"SUM OVER ALL BOUNDARIES PER VARIABLE\")\n",
    "\n",
    "        print (\"====================================\")\n",
    "\n",
    "        for j in [\"rho_u\",\"rhoYO2_u\", \"rhoYH2O_u\", \"rhoYN2_u\"]:\n",
    "            v_theo = 0.0\n",
    "            v_real = 0.0\n",
    "            for i in boundaries:\n",
    "               a=getattr(trust,j)[i]*1e9\n",
    "               b=getattr(theo,j)[i]*1e9\n",
    "               v_real += a\n",
    "               v_theo += b\n",
    "            print(\"Var \", j, \" trust: %12.5f  theo: %12.5f\" % (v_real, v_theo) )\n",
    "\n",
    "        \n",
    "\n",
    "        "
   ]
  },
  {
   "cell_type": "code",
   "execution_count": null,
   "id": "fe270b90",
   "metadata": {},
   "outputs": [],
   "source": [
    "Y_O2 = 0.5\n",
    "Y_H2O = 0.2 # ignored for the multi-species case\n",
    "\n",
    "rhou = 0.63\n",
    "\n",
    "mixture = {}\n",
    "\n",
    "for dis in [\"VDF\", \"VEF\"]:\n",
    "    for ch in [\"binaire\", \"multi\"]:\n",
    "        mixture[f\"{ch}\"] = CommonData(Y_O2, Y_H2O, f\"{ch}\")\n",
    "        flux_Y_O2_ame, flux_Y_H2O_ame = mixture[f\"{ch}\"].compute_fluxes(rhou, f\"{dis}\")\n",
    "        \n",
    "        os.system(f\"mkdir -p {dis}/{ch}\")\n",
    "        run.addCaseFromTemplate(f\"flux_{dis}_{ch}.data\",targetDirectory=f\"{dis}/{ch}\",dic={\"flux1_\": str(flux_Y_O2_ame), \"flux2_\": str(flux_Y_H2O_ame)})\n",
    "\n",
    "run.printCases()\n",
    "run.runCases()"
   ]
  },
  {
   "cell_type": "markdown",
   "id": "8b938fc4",
   "metadata": {},
   "source": [
    "## Binary mixture test cases"
   ]
  },
  {
   "cell_type": "markdown",
   "id": "d5ebf825",
   "metadata": {},
   "source": [
    "### VDF"
   ]
  },
  {
   "cell_type": "code",
   "execution_count": null,
   "id": "a2241005",
   "metadata": {
    "scrolled": false
   },
   "outputs": [],
   "source": [
    "from trustutils import visit\n",
    "\n",
    "a=visit.Show(\"./VDF/binaire/flux_VDF_binaire.lata\",\"Pseudocolor\",\"FRACTION_MASSIQUE_ELEM_dom\")\n",
    "a.normal3D([0.707549, -0.414716, 0.572175])\n",
    "a.plot()"
   ]
  },
  {
   "cell_type": "code",
   "execution_count": null,
   "id": "25a5e8b9",
   "metadata": {},
   "outputs": [],
   "source": [
    "mixture[\"binaire\"].check_fluxes(f'{run.BUILD_DIRECTORY}/VDF/binaire/', \"VDF\")"
   ]
  },
  {
   "cell_type": "markdown",
   "id": "6c85a054",
   "metadata": {},
   "source": [
    "As you can note, only species $Y_1$ is consumed on the AME boundary !"
   ]
  },
  {
   "cell_type": "markdown",
   "id": "425a6a8d",
   "metadata": {},
   "source": [
    "### VEF"
   ]
  },
  {
   "cell_type": "code",
   "execution_count": null,
   "id": "f2ca4570",
   "metadata": {},
   "outputs": [],
   "source": [
    "a=visit.Show(\"./VEF/binaire/flux_VEF_binaire.lata\",\"Pseudocolor\",\"FRACTION_MASSIQUE_ELEM_dom\")\n",
    "a.normal3D([0.707549, -0.414716, 0.572175])\n",
    "a.plot()"
   ]
  },
  {
   "cell_type": "code",
   "execution_count": null,
   "id": "8c03914e",
   "metadata": {},
   "outputs": [],
   "source": [
    "mixture[\"binaire\"].check_fluxes(f'{run.BUILD_DIRECTORY}/VEF/binaire/', \"VEF\")"
   ]
  },
  {
   "cell_type": "markdown",
   "id": "b10ddbc2",
   "metadata": {},
   "source": [
    "As you can note, only species $Y_1$ is consumed on the AME boundary !"
   ]
  },
  {
   "cell_type": "markdown",
   "id": "92cff25c",
   "metadata": {},
   "source": [
    "## Multi-species mixture test cases"
   ]
  },
  {
   "cell_type": "markdown",
   "id": "022325be",
   "metadata": {},
   "source": [
    "### VDF"
   ]
  },
  {
   "cell_type": "code",
   "execution_count": null,
   "id": "837871ab",
   "metadata": {},
   "outputs": [],
   "source": [
    "a=visit.Show(\"./VDF/multi/flux_VDF_multi.lata\",\"Pseudocolor\",\"FRACTION_MASSIQUE0_ELEM_dom\")\n",
    "a.normal3D([0.707549, -0.414716, 0.572175])\n",
    "a.plot()"
   ]
  },
  {
   "cell_type": "code",
   "execution_count": null,
   "id": "e5520f0e",
   "metadata": {},
   "outputs": [],
   "source": [
    "mixture[\"multi\"].check_fluxes(f'{run.BUILD_DIRECTORY}/VDF/multi/',\"VDF\")"
   ]
  },
  {
   "cell_type": "markdown",
   "id": "43fa892e",
   "metadata": {},
   "source": [
    "As you can note, only species $Y_1$ and $Y_2$ are consumed on the AME boundary ! The ratio is 2.5, which is equal to the ratio at the injection !! Thats perfect ..."
   ]
  },
  {
   "cell_type": "markdown",
   "id": "88c24e5f",
   "metadata": {},
   "source": [
    "### VEF"
   ]
  },
  {
   "cell_type": "code",
   "execution_count": null,
   "id": "4dc88133",
   "metadata": {},
   "outputs": [],
   "source": [
    "a=visit.Show(\"./VEF/multi/flux_VEF_multi.lata\",\"Pseudocolor\",\"FRACTION_MASSIQUE0_ELEM_dom\")\n",
    "a.normal3D([0.707549, -0.414716, 0.572175])\n",
    "a.plot()"
   ]
  },
  {
   "cell_type": "code",
   "execution_count": null,
   "id": "2a6cb1d7",
   "metadata": {},
   "outputs": [],
   "source": [
    "mixture[\"multi\"].check_fluxes(f'{run.BUILD_DIRECTORY}/VEF/multi/',\"VEF\")"
   ]
  },
  {
   "cell_type": "markdown",
   "id": "37be5b94",
   "metadata": {},
   "source": [
    "As you can note, only species $Y_1$ and $Y_2$ are consumed on the AME boundary ! The ratio is 2.5, which is equal to the ratio at the injection !! Thats perfect ..."
   ]
  },
  {
   "cell_type": "markdown",
   "id": "c8f4fda6",
   "metadata": {},
   "source": [
    "## Conclusions and advices for users\n",
    "\n",
    "We conclude that the mass source term is coded correctly for both VDF and VEF discretizations. It works with explicit, semi-implicit and fully implicit time schemes.\n",
    "\n",
    "### Advices\n",
    "\n",
    "- For VEF, use EF_Stab scheme for convection !\n",
    "\n",
    "- Make sure that the time scheme is stable ! large time steps can lead to bad results ... Attention for the facsec  (specially when using a fully-implicit scheme) !"
   ]
  }
 ],
 "metadata": {
  "kernelspec": {
   "display_name": "Python 3 (ipykernel)",
   "language": "python",
   "name": "python3"
  },
  "language_info": {
   "codemirror_mode": {
    "name": "ipython",
    "version": 3
   },
   "file_extension": ".py",
   "mimetype": "text/x-python",
   "name": "python",
   "nbconvert_exporter": "python",
   "pygments_lexer": "ipython3",
   "version": "3.7.16"
  },
  "toc-autonumbering": true
 },
 "nbformat": 4,
 "nbformat_minor": 5
}
