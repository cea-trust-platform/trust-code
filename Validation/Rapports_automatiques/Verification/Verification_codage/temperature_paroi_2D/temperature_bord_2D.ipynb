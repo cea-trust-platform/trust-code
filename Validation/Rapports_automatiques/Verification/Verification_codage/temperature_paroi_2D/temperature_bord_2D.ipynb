{
 "cells": [
  {
   "cell_type": "markdown",
   "id": "inappropriate-lingerie",
   "metadata": {},
   "source": [
    "# Verification de l'implementation du champ temperature_paroi_2D\n",
    "\n",
    "We test the implementation of the new post-processing field temperature_paroi (wall_temperature). We test both VDF and VEF cases. All BCs are considered for a conduction problem\n",
    "\n",
    "        - paroi_flux_impose\n",
    "        - echange_externe_radiatif\n",
    "        - paroi_adiabatique\n",
    "        - paroi_temperature_imposee\n",
    "        - paroi_echange_externe_impose\n",
    "\n",
    "\n",
    "**paroi_echange_global_impose** is not tested because there is no sense for a VEF calculation with this BC."
   ]
  },
  {
   "cell_type": "code",
   "execution_count": null,
   "id": "d4dd1082",
   "metadata": {},
   "outputs": [],
   "source": [
    "from trustutils import run\n",
    "import numpy as np\n",
    "\n",
    "run.introduction(\"Elie Saikali & Yannick Gorsse\")\n",
    "run.reset()\n",
    "\n",
    "dis = {\"VDF\" : (\"\", \"16 16\"), \"VEF\" : (\"trianguler_H dom\", \"16 16\")}\n",
    "\n",
    "for d, (mesh, nb) in dis.items():\n",
    "    tc = run.addCaseFromTemplate(f\"jdd.data\", f\"{d}\", {\"dis\" : d, \"mesh\" : mesh, \"Nb\" : nb})\n",
    "    tc = run.addCaseFromTemplate(f\"jdd_2.data\", f\"{d}\", {\"dis\" : d, \"mesh\" : mesh, \"Nb\" : nb})\n",
    "\n",
    "run.printCases()\n",
    "run.runCases()\n",
    "run.tablePerf()"
   ]
  },
  {
   "cell_type": "code",
   "execution_count": null,
   "id": "3df67755",
   "metadata": {},
   "outputs": [],
   "source": [
    "from trustutils import plot\n",
    "\n",
    "a = plot.Graph()\n",
    "for d in dis:\n",
    "    a.addResidu(f\"{run.BUILD_DIRECTORY}/{d}/jdd.dt_ev\", label=d)\n",
    "    a.addResidu(f\"{run.BUILD_DIRECTORY}/{d}/jdd_2.dt_ev\", label=d)\n",
    "\n",
    "a.scale(yscale=\"log\")"
   ]
  },
  {
   "cell_type": "markdown",
   "id": "7e0f5754",
   "metadata": {},
   "source": [
    "# Testing 1st jdd\n",
    "\n",
    "        - paroi_flux_impose\n",
    "        - echange_externe_radiatif\n",
    "        - paroi_adiabatique\n",
    "        - paroi_temperature_imposee"
   ]
  },
  {
   "cell_type": "code",
   "execution_count": null,
   "id": "4e171b8a",
   "metadata": {},
   "outputs": [],
   "source": [
    "bcs = {\"gauche\" : \"paroi_flux_impose\",\n",
    "        \"droite\": \"echange_externe_radiatif\", \n",
    "        \"bas\": \"paroi_adiabatique\",\n",
    "          \"haut\": \"paroi_temperature_imposee\" } \n",
    "\n",
    "for bc, bc_type in bcs.items():\n",
    "    a = plot.Graph(f\"{bc} - {bc_type}\")\n",
    "    for d in dis:\n",
    "       a.addSegment(f\"{run.BUILD_DIRECTORY}/{d}/jdd_T_{bc.upper()}.son\", label=d, marker=\"o\" if d ==\"VDF\" else \"+\")\n",
    "    \n",
    "    #plot.plt.xlim(0.05, 0.95)"
   ]
  },
  {
   "cell_type": "markdown",
   "id": "6656177c",
   "metadata": {},
   "source": [
    "# Testing 2nd jdd\n",
    "\n",
    "        - paroi_flux_impose\n",
    "        - echange_externe_radiatif\n",
    "        - paroi_temperature_imposee\n",
    "        - paroi_echange_externe_impose"
   ]
  },
  {
   "cell_type": "code",
   "execution_count": null,
   "id": "388e6d37",
   "metadata": {},
   "outputs": [],
   "source": [
    "bcs = {\"gauche\" : \"paroi_flux_impose\",\n",
    "        \"droite\": \"echange_externe_radiatif\", \n",
    "        \"bas\": \"paroi_echange_externe_impose\",\n",
    "          \"haut\": \"echange_externe_radiatif\" } \n",
    "\n",
    "for bc, bc_type in bcs.items():\n",
    "    a = plot.Graph(f\"{bc} - {bc_type}\")\n",
    "    for d in dis:\n",
    "       a.addSegment(f\"{run.BUILD_DIRECTORY}/{d}/jdd_2_T_{bc.upper()}.son\", label=d, marker=\"o\" if d ==\"VDF\" else \"+\")\n",
    "    \n",
    "    #plot.plt.xlim(0.05, 0.95)"
   ]
  }
 ],
 "metadata": {
  "kernelspec": {
   "display_name": "base",
   "language": "python",
   "name": "python3"
  },
  "language_info": {
   "codemirror_mode": {
    "name": "ipython",
    "version": 3
   },
   "file_extension": ".py",
   "mimetype": "text/x-python",
   "name": "python",
   "nbconvert_exporter": "python",
   "pygments_lexer": "ipython3",
   "version": "3.12.7"
  }
 },
 "nbformat": 4,
 "nbformat_minor": 5
}
