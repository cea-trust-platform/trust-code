{
 "cells": [
  {
   "cell_type": "markdown",
   "id": "boolean-earth",
   "metadata": {},
   "source": [
    "# Verification of 2D stationary laminar Navier-Stokes equation with variable density and viscosity"
   ]
  },
  {
   "cell_type": "code",
   "execution_count": null,
   "id": "90334874",
   "metadata": {},
   "outputs": [],
   "source": [
    "from trustutils import run\n",
    "\n",
    "run.introduction(r\"Pierre-Emmanuel Angeli \\& Elie Saikali\")"
   ]
  },
  {
   "cell_type": "markdown",
   "id": "objective-detection",
   "metadata": {},
   "source": [
    "### Description \n",
    "Calculs menes en VDF et VEF laminaire."
   ]
  },
  {
   "cell_type": "code",
   "execution_count": null,
   "id": "125b375c",
   "metadata": {},
   "outputs": [],
   "source": [
    "run.TRUST_parameters(\"1.9.0\")"
   ]
  },
  {
   "cell_type": "code",
   "execution_count": null,
   "id": "balanced-boating",
   "metadata": {},
   "outputs": [],
   "source": [
    "from trustutils import run\n",
    "run.reset()\n",
    "for i in range(1, 7):\n",
    "    for j in [\"1010\", \"1110\"]:\n",
    "        for scheme in [\"amont\", \"quick\", \"centre\"]:\n",
    "            run.addCase(f\"VDF_maillage_{i}_{j}_{scheme}\" ,\"Cas.data\")\n",
    "\n",
    "run.printCases()\n",
    "run.runCases(preventConcurrent=True)"
   ]
  },
  {
   "cell_type": "markdown",
   "id": "c499cf41",
   "metadata": {},
   "source": [
    "## Description\n",
    "\n",
    "* Mass conservation equation at the stationary state: \n",
    "\n",
    "\\begin{equation}\n",
    "    \\dfrac{\\partial \\rho u_i}{\\partial x_i}=0\n",
    "\\end{equation}  \n",
    "\n",
    "* Steady-state Navier-Stokes equation (without turbulence model) with a source term  $\\mathbf{R} = (R_1,R_2)$ : \n",
    "\n",
    "    \\begin{equation}\n",
    "    \\forall i \\in \\{1 ; 2\\}\\text{: } \\underbrace{\\dfrac{\\partial (\\rho u_i u_j)}{\\partial x_j}}_\\text{Conv} = - \\dfrac{\\partial p}{\\partial x_i} + \\underbrace{\\dfrac{\\partial}{\\partial x_j} \\left[ \\mu \\left( \\dfrac{\\partial u_i}{\\partial x_j} + \\dfrac{\\partial u_j}{\\partial x_i} - \\dfrac{2}{3} \\dfrac{\\partial u_k}{\\partial x_k} \\delta_{ij} \\right)\\right]}_\\text{Diff} + \\rho R_i\n",
    "    \\end{equation}  \n",
    "\n",
    "* The convection and diffusion terms are composed of several parts: \n",
    "\n",
    "\t \\begin{equation}\n",
    "     \\left\\{\\begin{array}{lcl}\\text{Conv} &=& \\underbrace{u_j \\dfrac{\\partial \\rho u_i}{\\partial x_j}}_\\text{Conv$_1$} + \\underbrace{\\rho u_i \\dfrac{\\partial u_j}{\\partial x_j}}_\\text{Conv$_2$} \\\\\\\\ \\text{Diff} &=& \\underbrace{\\dfrac{\\partial}{\\partial x_j} \\left( \\mu \\dfrac{\\partial u_i}{\\partial x_j} \\right)}_\\text{Diff$_1$} + \\underbrace{\\dfrac{\\partial}{\\partial x_j} \\left( \\mu \\dfrac{\\partial u_j}{\\partial x_i} \\right)}_\\text{Diff$_2$} + \\underbrace{\\dfrac{\\partial}{\\partial x_i} \\left( - \\dfrac{2}{3} \\mu \\dfrac{\\partial u_j}{\\partial x_j} \\right)}_\\text{Diff$_3$}\\end{array}\\right.\n",
    "     \\end{equation}  \n",
    "     \n",
    "* In order to check the different terms of the Navier-Stokes equation, we consider a model equation with coefficients  $\\alpha$, $\\beta$ et $\\gamma$  equal to 0 or 1: \n",
    " \n",
    "\t \\begin{equation}\n",
    "     \\boxed{\\text{Conv$_1$} + \\alpha \\text{Conv$_2$} = - \\dfrac{\\partial p}{\\partial x_i} + \\text{Diff$_1$} + \\beta \\text{Diff$_2$} + \\gamma \\text{Diff$_3$} + \\rho R_i^{(\\alpha\\beta\\gamma)}}\n",
    "     \\end{equation} \n",
    "     \n",
    "* The verification approach is as follows: we give ourselves a field of pressure, velocity and density verifying the mass conservation equation, and inject them into the model Navier-Stokes equation; this gives us an expression for the source  $\\mathbf{R}$ . Then the numerical solution of the equation with this expression for  $\\mathbf{R}$  must converge to the chosen analytical pressure and velocity, because they are the solution of the problem under consideration. \n",
    "\n",
    "* The normalized errors between the numerical solutions and their analytical expressions are defined as:\n",
    "\n",
    "\\begin{equation}\n",
    "\\left\\{\\begin{array}{ll}\\text{error on the pressure field: } & \\textbf{errp} = \\frac{\\displaystyle{\\Big( \\int_D \\left( p - p_\\text{ex} \\right)^2 \\Big)^{1/2}}}{\\displaystyle{\\Big( \\int_D p_\\text{ex}^2 \\Big)^{1/2}}} \\\\\\\\ \\text{error on the velocity field: } & \\textbf{erru} = \\frac{\\displaystyle{\\Big( \\int_D \\left\\Vert \\textbf{u} - \\textbf{u}_\\text{ex} \\right\\Vert^2 \\Big)^{1/2}}}{\\displaystyle{\\Big( \\int_D \\left\\Vert \\textbf{u}_\\text{ex} \\right\\Vert^2 \\Big)^{1/2}}}\\end{array}\\right.\n",
    "\\end{equation}  \n",
    "\n",
    "* We check the mesh convergence by plotting the normalized errors in function of the number of degrees of freedom for pressure and velocity: \n",
    "\n",
    "\\begin{equation}\n",
    "\\begin{array}{l}\n",
    "\\text{number of pressure unknowns: }\\textbf{npu} = \\text{(number of elements)} \\\\\\\\ \\text{number of velocity unknowns: }\\textbf{nuu} = \\text{(dimension) $\\times$ (number of faces)}  \n",
    "\\end{array}\n",
    "\\end{equation}  \n",
    "\n",
    "* The verification is performed in VDF. We consider a family of cartesian grids of the unit square [0 ; 1] x [0 ; 1], with  $N \\times N$  nodes, namely  $(N-1)^2$  cells. \n",
    "\n",
    "* We look for periodic fields satisfying the mass conservation equation (1), and such that the viscosity and the density are everywhere strictly positive. We choose the analytical fields as follows: \n",
    "\n",
    "\\begin{equation}\n",
    "\\left\\{\\begin{array}{lll}\\text{molecular viscosity: } & \\mu(x,y) = m \\cos(2\\pi x) \\cos(2\\pi y) + 2 & \\text{(with $m$ = 0 or 1)}\\\\\\\\ \\text{density: } & \\rho(x,y) = \\dfrac{1}{\\sin(2\\pi x) \\sin(2\\pi y) + 2} & \\\\\\\\ \\text{pressure: } & p_\\text{ex}(x,y) = \\cos(2\\pi x) \\cos(2\\pi y) & \\\\\\\\ \\text{velocity: } & \\textbf{u}_\\text{ex}(x,y) = \\displaystyle{ \\begin{pmatrix} \\sin(2\\pi x) \\sin(2\\pi y) + 2 \\\\\\\\ 0 \\end{pmatrix}} & \\end{array}\\right.\n",
    "\\end{equation}  \n",
    "\t\n",
    "* The expression of the source components  $R_i^{(\\alpha\\beta\\gamma)}$  can be arranged as shown below: \n",
    "\n",
    "\\begin{equation}\n",
    "\\begin{array}{lcl}\n",
    "\\rho R_i^{(\\alpha\\beta\\gamma)} &=& \\Big[ A_{i1} + B_{i1} \\cos(2 \\pi x) \\cos(2 \\pi y) \\Big] \\sin(2 \\pi x) \\sin(2 \\pi y) \\\\\\\\ &+& \\Big[ A_{i2} + B_{i2} \\sin(2 \\pi x) \\cos(2 \\pi y) \\Big] \\sin(2 \\pi x) \\cos(2 \\pi y) \\\\\\\\ &+& \\Big[ A_{i3} + B_{i3} \\cos(2 \\pi x) \\sin(2 \\pi y) \\Big] \\cos(2 \\pi x) \\sin(2 \\pi y) \\\\\\\\ &+& \\Big[ A_{i4} + B_{i4} \\cos(2 \\pi x) \\cos(2 \\pi y) \\Big] \\cos(2 \\pi x) \\cos(2 \\pi y)\\end{array}\\end{equation}  \n",
    "\n",
    "with the following coefficients: \n",
    "\n",
    "\\begin{equation}\n",
    "\\displaystyle{\\begin{bmatrix} A_{11} \\\\\\\\ A_{12} \\\\\\\\ A_{13} \\\\\\\\ A_{14} \\end{bmatrix} = \\begin{bmatrix} 8 \\pi^2 \\left( \\beta - 2/3 \\gamma + 2 \\right) \\\\\\\\ - 2 \\pi \\\\\\\\ 2 \\alpha \\pi \\\\\\\\ 0 \\end{bmatrix} \\text{, } \\begin{bmatrix} B_{11} \\\\\\\\ B_{12} \\\\\\\\ B_{13} \\\\\\\\ B_{14} \\end{bmatrix} = \\begin{bmatrix} m A_{11} \\\\\\\\ 0 \\\\\\\\ 0 \\\\\\\\ 0 \\end{bmatrix}}\n",
    "\\end{equation} \n",
    "\n",
    "and \n",
    "\n",
    "\\begin{equation}\n",
    "\\displaystyle{\\begin{bmatrix} A_{21} \\\\\\\\ A_{22} \\\\\\\\ A_{23} \\\\\\\\ A_{24} \\end{bmatrix} = \\begin{bmatrix} 0 \\\\\\\\ 0 \\\\\\\\ - 2 \\pi \\\\\\\\ - 8 \\pi^2 \\left( \\beta - 2/3 \\gamma \\right) \\end{bmatrix} \\text{, } \\begin{bmatrix} B_{21} \\\\\\\\ B_{22} \\\\\\\\ B_{23} \\\\\\\\ B_{24} \\end{bmatrix} = \\begin{bmatrix} 0 \\\\\\\\ 4 \\beta m \\pi^2 \\\\\\\\ -8/3 \\gamma m \\pi^2 \\\\\\\\ m A_{24} / 2 \\end{bmatrix}}\n",
    "\\end{equation} \n",
    "\n",
    "* We use periodic boundary conditions along with source terms of type   \\texttt{canal\\_perio}   in order to prescribe the mass flow rate in each direction (otherwise the simulation can't reach a steady-state, because the solution is not unique). \n",
    "\n",
    "* We use  $\\gamma = 0$ , because the third diffusive term is not available yet. We use  $\\alpha$  and  $\\beta$  equal to 0 or 1.  \n",
    "\t\n",
    "* In what follows, we reffer to the cases as  $m$ ,$\\alpha$ ,$\\beta$ and $\\gamma$ (for example the case 1110 means $m=1$, $\\alpha=1$, $\\beta=1$ and $\\gamma=0$).    "
   ]
  },
  {
   "cell_type": "markdown",
   "id": "9a7e2ff9",
   "metadata": {},
   "source": [
    "## Convergence results in the case 1010\n",
    "\n",
    "Case pure diffusion (no convection)"
   ]
  },
  {
   "cell_type": "code",
   "execution_count": null,
   "id": "alert-shock",
   "metadata": {},
   "outputs": [],
   "source": [
    "from trustutils import plot\n",
    "import numpy as np\n",
    "\n",
    "Graphique=plot.Graph(\"errp\")\n",
    "\n",
    "x=np.linspace(10,100000,100)\n",
    "y=1000*x**(-2)\n",
    "Graphique.add(x,y,label=\"ordre = 2\")\n",
    "\n",
    "x=plot.loadText('VDF_errp_1010_amont.dat')\n",
    "y=x[1]**2\n",
    "Graphique.add(x[0],y,label=\"1010_amont\",marker='-o')\n",
    "\n",
    "x=plot.loadText('VDF_errp_1010_quick.dat')\n",
    "y=x[1]**2\n",
    "Graphique.add(x[0],y,label=\"1010_quick\",marker='-D')\n",
    "\n",
    "x=plot.loadText('VDF_errp_1010_centre.dat')\n",
    "y=x[1]**2\n",
    "Graphique.add(x[0],y,label=\"1010_centre\",marker='-s')\n",
    "\n",
    "Graphique.label(\"npu\",\"errp^2\")\n",
    "Graphique.scale(xscale='log',yscale='log')\n"
   ]
  },
  {
   "cell_type": "code",
   "execution_count": null,
   "id": "0199a459",
   "metadata": {},
   "outputs": [],
   "source": [
    "Graphique=plot.Graph(\"erru\")\n",
    "\n",
    "x=np.linspace(50,50000,100)\n",
    "y=10*x**(-2)\n",
    "Graphique.add(x,y,label=\"ordre = 2\")\n",
    "\n",
    "for scheme, m in [(\"amont\", \"-o\"), (\"quick\", \"-D\"), (\"centre\", \"-s\")]:\n",
    "    x=plot.loadText(f\"VDF_erru_1010_{scheme}.dat\")\n",
    "    y=x[1]**2\n",
    "    Graphique.add(x[0],y,label=f\"1010_{scheme}\",marker=m)\n",
    "\n",
    "Graphique.scale(xscale='log',yscale='log')"
   ]
  },
  {
   "cell_type": "markdown",
   "id": "875d649e",
   "metadata": {},
   "source": [
    "## Convergence results in the case 1110\n",
    "\n",
    "Case convection/diffusion"
   ]
  },
  {
   "cell_type": "code",
   "execution_count": null,
   "id": "7c979269",
   "metadata": {},
   "outputs": [],
   "source": [
    "Graphique=plot.Graph(\"errp\")\n",
    "\n",
    "x=np.linspace(10,20000,100)\n",
    "y=1000*x**(-2)\n",
    "Graphique.add(x,y,label=\"ordre = 2\")\n",
    "\n",
    "for scheme, m in [(\"amont\", \"-o\"), (\"quick\", \"-D\"), (\"centre\", \"-s\")]:\n",
    "    x=plot.loadText(f\"VDF_errp_1110_{scheme}.dat\")\n",
    "    y=x[1]**2\n",
    "    Graphique.add(x[0],y,label=f\"1110_{scheme}\",marker=m)\n",
    "\n",
    "Graphique.label(\"npu\",\"errp^2\")\n",
    "Graphique.scale(xscale='log',yscale='log')\n"
   ]
  },
  {
   "cell_type": "code",
   "execution_count": null,
   "id": "681e35bb",
   "metadata": {},
   "outputs": [],
   "source": [
    "Graphique=plot.Graph(\"erru\")\n",
    "\n",
    "x=np.linspace(50,50000,100)\n",
    "y=10*x**(-2)\n",
    "Graphique.add(x,y,label=\"ordre = 2\")\n",
    "\n",
    "for scheme, m in [(\"amont\", \"-o\"), (\"quick\", \"-D\"), (\"centre\", \"-s\")]:\n",
    "    x=plot.loadText(f\"VDF_erru_1110_{scheme}.dat\")\n",
    "    y=x[1]**2\n",
    "    Graphique.add(x[0],y,label=f\"1110_{scheme}\",marker=m)\n",
    "\n",
    "Graphique.scale(xscale='log',yscale='log')"
   ]
  },
  {
   "cell_type": "markdown",
   "id": "1ad0e31a",
   "metadata": {},
   "source": [
    "## Computer performance"
   ]
  },
  {
   "cell_type": "code",
   "execution_count": null,
   "id": "09351c81",
   "metadata": {},
   "outputs": [],
   "source": [
    "run.tablePerf()"
   ]
  }
 ],
 "metadata": {
  "kernelspec": {
   "display_name": "Python 3 (ipykernel)",
   "language": "python",
   "name": "python3"
  },
  "language_info": {
   "codemirror_mode": {
    "name": "ipython",
    "version": 3
   },
   "file_extension": ".py",
   "mimetype": "text/x-python",
   "name": "python",
   "nbconvert_exporter": "python",
   "pygments_lexer": "ipython3",
   "version": "3.12.5"
  },
  "toc-autonumbering": true
 },
 "nbformat": 4,
 "nbformat_minor": 5
}
