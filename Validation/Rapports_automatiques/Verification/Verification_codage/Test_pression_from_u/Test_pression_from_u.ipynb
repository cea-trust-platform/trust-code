{
 "cells": [
  {
   "cell_type": "markdown",
   "id": "romantic-cincinnati",
   "metadata": {},
   "source": [
    "# Pression sortie dependant de la vitesse moyenne"
   ]
  },
  {
   "cell_type": "code",
   "execution_count": null,
   "id": "5dd6201b",
   "metadata": {},
   "outputs": [],
   "source": [
    "from trustutils import run \n",
    "\n",
    "run.introduction(\"G.F.\")\n",
    "\n",
    "run.TRUST_parameters(\"1.8.0\")\n"
   ]
  },
  {
   "cell_type": "markdown",
   "id": "a6c71847",
   "metadata": {},
   "source": [
    "### Description: \n",
    "\n"
   ]
  },
  {
   "cell_type": "code",
   "execution_count": null,
   "id": "baking-rebate",
   "metadata": {},
   "outputs": [],
   "source": [
    "from trustutils import run \n",
    "c1 = run.addCase(\".\" ,\"first.data\") \n",
    "c2 = run.addCase(\".\" ,\"second.data\") \n",
    "run.printCases()\n",
    "run.runCases()"
   ]
  },
  {
   "cell_type": "markdown",
   "id": "funny-configuration",
   "metadata": {},
   "source": [
    "## Cas avec champ_front_from_u\n",
    "### Tracé de la pression de sortie au cours du temps "
   ]
  },
  {
   "cell_type": "code",
   "execution_count": null,
   "id": "cosmetic-sight",
   "metadata": {
    "scrolled": false
   },
   "outputs": [],
   "source": [
    "from trustutils import plot\n",
    "import numpy as np\n",
    "\n",
    "a = plot.Graph(\"Trace de la pression de sortie au cours du temps\")\n",
    "x = plot.loadText(\"first.out1\",2,1,dtype=\"str\")\n",
    "x = x.astype(float).T\n",
    "y = plot.loadText(\"first.out1\",6,1,dtype=\"str\")\n",
    "y = y.astype(float).T\n",
    "\n",
    "a.add(x,y,label=\"first.out1\",marker='-|')\n",
    "\n",
    "x = plot.loadText(\"first.out2\",2,1,dtype=\"str\")\n",
    "x = x.astype(float).T\n",
    "y = plot.loadText(\"first.out2\",6,1,dtype=\"str\")\n",
    "y = y.astype(float).T\n",
    "\n",
    "a.add(x,y,label=\"first.out2\",marker='-x')\n",
    "\n",
    "a.label(\"t[s]\", \"P [Pa]\")\n"
   ]
  },
  {
   "cell_type": "markdown",
   "id": "complex-knife",
   "metadata": {},
   "source": [
    "### Tracé de la pression de sortie au cours du temps"
   ]
  },
  {
   "cell_type": "code",
   "execution_count": null,
   "id": "81c65b87",
   "metadata": {},
   "outputs": [],
   "source": [
    "a = plot.Graph(\"Trace de la pression de sortie au cours du temps\")\n",
    "x = plot.loadText(\"first.out1\",2,1,dtype=\"str\")\n",
    "x = x.astype(float).T\n",
    "y = plot.loadText(\"first.out1\",6,1,dtype=\"str\")\n",
    "y = y.astype(float).T\n",
    "\n",
    "a.add(x,y,label=\"first.out1\",marker='-|')\n",
    "\n",
    "x = plot.loadText(\"first.out2\",2,1,dtype=\"str\")\n",
    "x = x.astype(float).T\n",
    "y = plot.loadText(\"first.out2\",6,1,dtype=\"str\")\n",
    "y = y.astype(float).T\n",
    "\n",
    "a.add(x,y,label=\"first.out2\",marker='-x')\n",
    "a.label(\"t[s]\", \"P [Pa]\")\n",
    "\n",
    "a.visu(0,2)"
   ]
  },
  {
   "cell_type": "markdown",
   "id": "anonymous-cyprus",
   "metadata": {},
   "source": [
    "## Tracé de la vitesse moyenne de sortie au cours du temps"
   ]
  },
  {
   "cell_type": "code",
   "execution_count": null,
   "id": "45db6fa4",
   "metadata": {},
   "outputs": [],
   "source": [
    "a = plot.Graph(\"Trace de la vitesse moyenne au cours du temps\")\n",
    "x = plot.loadText(\"first.out1\",2,1,dtype=\"str\")\n",
    "x = x.astype(float).T\n",
    "y = plot.loadText(\"first.out1\",4,1,dtype=\"str\")\n",
    "y = y.astype(float).T\n",
    "\n",
    "a.add(x,y,label=\"first.out1\",marker='-|')\n",
    "\n",
    "x = plot.loadText(\"first.out2\",2,1,dtype=\"str\")\n",
    "x = x.astype(float).T\n",
    "y = plot.loadText(\"first.out2\",4,1,dtype=\"str\")\n",
    "y = y.astype(float).T\n",
    "a.add(x,y,label=\"first.out2\",marker='-x')\n",
    "\n",
    "a.label(\"t[s]\", \"u_moy [m/s]\")\n",
    "\n",
    "a.visu()"
   ]
  },
  {
   "cell_type": "markdown",
   "id": "9763ba22",
   "metadata": {},
   "source": [
    "## Tracé de la vitesse moyenne de sortie au cours du temps"
   ]
  },
  {
   "cell_type": "code",
   "execution_count": null,
   "id": "d22887de",
   "metadata": {},
   "outputs": [],
   "source": [
    "a = plot.Graph(\"Trace de la vitesse moyenne au cours du temps\")\n",
    "x = plot.loadText(\"first.out1\",2,1,dtype=\"str\")\n",
    "x = x.astype(float).T\n",
    "y = plot.loadText(\"first.out1\",4,1,dtype=\"str\")\n",
    "y = y.astype(float).T\n",
    "\n",
    "a.add(x,y,label=\"first.out1\",marker='-|')\n",
    "\n",
    "x = plot.loadText(\"first.out2\",2,1,dtype=\"str\")\n",
    "x = x.astype(float).T\n",
    "y = plot.loadText(\"first.out2\",4,1,dtype=\"str\")\n",
    "y = y.astype(float).T\n",
    "\n",
    "a.add(x,y,label=\"first.out2\",marker='-x')\n",
    "a.label(\"t[s]\", \"u_moy [m/s]\")\n",
    "a.visu(0,2)"
   ]
  },
  {
   "cell_type": "code",
   "execution_count": null,
   "id": "c12fb774",
   "metadata": {},
   "outputs": [],
   "source": [
    "from trustutils import visit\n",
    "\n",
    "visit.showField(\"first.lata\",\"Vector\",\"VITESSE_ELEM_DOM_DOM\",plotmesh=False)"
   ]
  },
  {
   "cell_type": "markdown",
   "id": "ac23cc3d",
   "metadata": {},
   "source": [
    "## Cas avec perte charge singulier\n",
    "\n",
    "### Tracé de la pression de sortie au cours du temps "
   ]
  },
  {
   "cell_type": "code",
   "execution_count": null,
   "id": "f554114b",
   "metadata": {
    "scrolled": false
   },
   "outputs": [],
   "source": [
    "a = plot.Graph(\"Trace de la pression de sortie au cours du temps\")\n",
    "x = plot.loadText(\"second.out1\",2,1,dtype=\"str\")\n",
    "x = x.astype(float).T\n",
    "y = plot.loadText(\"second.out1\",6,1,dtype=\"str\")\n",
    "y = y.astype(float).T\n",
    "\n",
    "a.add(x,y,label=\"second.out1\",marker='-|')\n",
    "\n",
    "x = plot.loadText(\"second.out2\",2,1,dtype=\"str\")\n",
    "x = x.astype(float).T\n",
    "y = plot.loadText(\"second.out2\",6,1,dtype=\"str\")\n",
    "y = y.astype(float).T\n",
    "\n",
    "a.add(x,y,label=\"second.out2\",marker='-x')\n",
    "\n",
    "a.label(\"t[s]\", \"P [Pa]\")\n"
   ]
  },
  {
   "cell_type": "markdown",
   "id": "5198a6b8",
   "metadata": {},
   "source": [
    "### Tracé de la pression de sortie au cours du temps"
   ]
  },
  {
   "cell_type": "code",
   "execution_count": null,
   "id": "46830f23",
   "metadata": {},
   "outputs": [],
   "source": [
    "a = plot.Graph(\"Trace de la pression de sortie au cours du temps\")\n",
    "x = plot.loadText(\"second.out1\",2,1,dtype=\"str\")\n",
    "x = x.astype(float).T\n",
    "y = plot.loadText(\"second.out1\",6,1,dtype=\"str\")\n",
    "y = y.astype(float).T\n",
    "\n",
    "a.add(x,y,label=\"second.out1\",marker='-|')\n",
    "\n",
    "x = plot.loadText(\"second.out2\",2,1,dtype=\"str\")\n",
    "x = x.astype(float).T\n",
    "y = plot.loadText(\"second.out2\",6,1,dtype=\"str\")\n",
    "y = y.astype(float).T\n",
    "\n",
    "a.add(x,y,label=\"second.out2\",marker='-x')\n",
    "a.label(\"t[s]\", \"P [Pa]\")\n",
    "\n",
    "a.visu(0,2)"
   ]
  },
  {
   "cell_type": "markdown",
   "id": "266d94f9",
   "metadata": {},
   "source": [
    "## Tracé de la vitesse moyenne de sortie au cours du temps"
   ]
  },
  {
   "cell_type": "code",
   "execution_count": null,
   "id": "a21150fa",
   "metadata": {},
   "outputs": [],
   "source": [
    "a = plot.Graph(\"Trace de la vitesse moyenne au cours du temps\")\n",
    "x = plot.loadText(\"second.out1\",2,1,dtype=\"str\")\n",
    "x = x.astype(float).T\n",
    "y = plot.loadText(\"second.out1\",4,1,dtype=\"str\")\n",
    "y = y.astype(float).T\n",
    "\n",
    "a.add(x,y,label=\"second.out1\",marker='-|')\n",
    "\n",
    "x = plot.loadText(\"second.out2\",2,1,dtype=\"str\")\n",
    "x = x.astype(float).T\n",
    "y = plot.loadText(\"second.out2\",4,1,dtype=\"str\")\n",
    "y = y.astype(float).T\n",
    "a.add(x,y,label=\"second.out2\",marker='-x')\n",
    "\n",
    "a.label(\"t[s]\", \"u_moy [m/s]\")\n",
    "\n",
    "a.visu()"
   ]
  },
  {
   "cell_type": "markdown",
   "id": "ecf5f998",
   "metadata": {},
   "source": [
    "## Tracé de la vitesse moyenne de sortie au cours du temps"
   ]
  },
  {
   "cell_type": "code",
   "execution_count": null,
   "id": "4fcc6d22",
   "metadata": {},
   "outputs": [],
   "source": [
    "a = plot.Graph(\"Trace de la vitesse moyenne au cours du temps\")\n",
    "x = plot.loadText(\"second.out1\",2,1,dtype=\"str\")\n",
    "x = x.astype(float).T\n",
    "y = plot.loadText(\"second.out1\",4,1,dtype=\"str\")\n",
    "y = y.astype(float).T\n",
    "\n",
    "a.add(x,y,label=\"second.out1\",marker='-|')\n",
    "\n",
    "x = plot.loadText(\"second.out2\",2,1,dtype=\"str\")\n",
    "x = x.astype(float).T\n",
    "y = plot.loadText(\"second.out2\",4,1,dtype=\"str\")\n",
    "y = y.astype(float).T\n",
    "\n",
    "a.add(x,y,label=\"second.out2\",marker='-x')\n",
    "a.label(\"t[s]\", \"u_moy [m/s]\")\n",
    "a.visu(0,2)"
   ]
  },
  {
   "cell_type": "code",
   "execution_count": null,
   "id": "bca78ce4",
   "metadata": {},
   "outputs": [],
   "source": [
    "visit.showField(\"second.lata\",\"Vector\",\"VITESSE_ELEM_DOM_DOM\",plotmesh=False)"
   ]
  },
  {
   "cell_type": "markdown",
   "id": "afraid-lodge",
   "metadata": {},
   "source": [
    "## Data Files\n",
    "### first"
   ]
  },
  {
   "cell_type": "code",
   "execution_count": null,
   "id": "assigned-range",
   "metadata": {
    "scrolled": true
   },
   "outputs": [],
   "source": [
    "c1.dumpDataset([\"dom\"])"
   ]
  },
  {
   "cell_type": "markdown",
   "id": "musical-growing",
   "metadata": {},
   "source": [
    "### second"
   ]
  },
  {
   "cell_type": "code",
   "execution_count": null,
   "id": "efficient-spencer",
   "metadata": {
    "jupyter": {
     "outputs_hidden": true
    },
    "tags": []
   },
   "outputs": [],
   "source": [
    "c2.dumpDataset([\"dom\"])"
   ]
  }
 ],
 "metadata": {},
 "nbformat": 4,
 "nbformat_minor": 5
}
