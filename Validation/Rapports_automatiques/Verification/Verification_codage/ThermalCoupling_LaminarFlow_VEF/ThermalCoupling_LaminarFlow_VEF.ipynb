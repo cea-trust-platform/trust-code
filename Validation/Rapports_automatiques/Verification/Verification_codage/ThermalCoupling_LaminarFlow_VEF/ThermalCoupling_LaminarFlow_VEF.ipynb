{
 "cells": [
  {
   "cell_type": "markdown",
   "id": "bigger-analysis",
   "metadata": {},
   "source": [
    "# Thermal coupling - Laminar flow"
   ]
  },
  {
   "cell_type": "code",
   "execution_count": null,
   "id": "8deff6d6",
   "metadata": {},
   "outputs": [],
   "source": [
    "from trustutils import run\n",
    "\n",
    "run.introduction(\"V. Blind, O. Cioni, U. Bieder.\")"
   ]
  },
  {
   "cell_type": "markdown",
   "id": "decimal-lingerie",
   "metadata": {},
   "source": [
    "### Description\n",
    "The case studies the thermal coupling between a fluid and a solid domains for a laminar flow.The mesh are created by TrioU. The thermal convection scheme EFStab is studied. The turbulent case is studied in another validation file.\n",
    "\n",
    "* Dimension:  3D.\n",
    "* Discretization:  VEFPrep1B.\n",
    "* Thermal coupling.\n",
    "* Convection scheme (hydraulic and thermal):  EFStab."
   ]
  },
  {
   "cell_type": "code",
   "execution_count": null,
   "id": "25e7978a",
   "metadata": {},
   "outputs": [],
   "source": [
    "run.TRUST_parameters(\"1.5.7\")"
   ]
  },
  {
   "cell_type": "code",
   "execution_count": null,
   "id": "15a49540-7a9b-45f9-b7f3-5e968dcccae7",
   "metadata": {},
   "outputs": [],
   "source": [
    "c1 = run.addCase(\"TrioU/alpha_1\"    ,\"laminar_coupled_pb.data\")   \n",
    "c2 = run.addCase(\"TrioU/alpha_02\"   ,\"laminar_coupled_pb.data\")\n",
    "run.printCases()\n",
    "run.runCases() "
   ]
  },
  {
   "cell_type": "markdown",
   "id": "subjective-sterling",
   "metadata": {},
   "source": [
    "## Presentation\n",
    "\n",
    "### Description\n",
    "\n",
    "The problem is defined as one fluid domain (thermo hydraulic problem) and one solid domain (conduction problem).  Both problems are thermally coupled. The fluid domain is a rectangular duct, for which the velocity profile is imposed. The  temperature  is  imposed  on  the  upper  boundary  of  the  fluid  domain.   Inside  the  solid  domain,  a constant volume thermal power $q$ is imposed.  A symmetry is applied on the lower boundary of the solid. The problem is a 3D problem, but the solutions are two-dimensional."
   ]
  },
  {
   "cell_type": "markdown",
   "id": "increased-instrument",
   "metadata": {},
   "source": [
    "### Geometry\n",
    "\n",
    "The geometry is a 3D geometry.  The figure below is a schema of the geometry used for the problem.\n",
    "\n",
    "![](src/schema_laminar.png)"
   ]
  },
  {
   "cell_type": "markdown",
   "id": "a3096042-e655-411b-909a-022a54c408b7",
   "metadata": {},
   "source": [
    "### Geometry dimensions\n",
    "\n",
    "The table below shows the geometrical dimensions for both domains."
   ]
  },
  {
   "cell_type": "code",
   "execution_count": null,
   "id": "d51c4938-c9ca-4681-abe0-db907ddc8953",
   "metadata": {},
   "outputs": [],
   "source": [
    "from trustutils import plot\n",
    "import numpy as np\n",
    "\n",
    "Tableau=plot.Table([\"Length(m)\",\"Thickness(m)\",\"Heigth(m)\",\"Other(m)\"])\n",
    "data=plot.loadText(\"./TrioU/alpha_1/solide_dim.dat\",dtype='str')\n",
    "Tableau.addLine([data],\"Solid domain\")\n",
    "data=plot.loadText(\"./TrioU/alpha_1/fluide_dim.dat\",dtype='str') \n",
    "Tableau.addLine([data],\"Fluid domain\")\n",
    "display(Tableau)"
   ]
  },
  {
   "cell_type": "markdown",
   "id": "1904fa69-1cb1-40e1-a29c-ea3de8b50654",
   "metadata": {},
   "source": [
    "### Fluid physical properties\n",
    "Fluid incompressible, constant physical properties. \\\n",
    "The parameters are chosen in order to obtain a Prandtl number $Pr=\\frac{\\mu \\cdot Cp}{\\lambda}$ equal to 1."
   ]
  },
  {
   "cell_type": "code",
   "execution_count": null,
   "id": "1a438902-b1e8-414f-8955-a108094ea07a",
   "metadata": {
    "tags": []
   },
   "outputs": [],
   "source": [
    "Tableau=plot.Table([\"Value\"])\n",
    "data=plot.loadText(\"./TrioU/alpha_1/rho_f.dat\")\n",
    "Tableau.addLine([data],r\"$\\rho  (kg/m^3)$\") \n",
    "data=plot.loadText(\"./TrioU/alpha_1/mu_f.dat\")\n",
    "Tableau.addLine([data],r\"$ \\mu  (kg/m/s)$\") \n",
    "data=plot.loadText(\"./TrioU/alpha_1/cp_f.dat\")\n",
    "Tableau.addLine([data],r\"$ Cp  (J/kg/K)$\") \n",
    "data=plot.loadText(\"./TrioU/alpha_1/lambda_f.dat\")\n",
    "Tableau.addLine([data],r\"$ \\lambda (W/m/K)$\")  \n",
    "Tableau.addLine([1],r\"$ \\beta(1/K)$\") \n",
    "data=plot.loadText(\"./TrioU/alpha_1/Prandtl.dat\")\n",
    "Tableau.addLine([data],r\"$Pr$\") \n",
    "display(Tableau)"
   ]
  },
  {
   "cell_type": "markdown",
   "id": "388c4f37-3a42-4d61-bea0-59e1f71597f7",
   "metadata": {},
   "source": [
    "### Solid physical properties\n",
    "Constant physical properties."
   ]
  },
  {
   "cell_type": "code",
   "execution_count": null,
   "id": "6403f44d-b65b-4867-a1ec-922fe5f718f9",
   "metadata": {},
   "outputs": [],
   "source": [
    "Tableau=plot.Table([\"Value\"])\n",
    "data=plot.loadText(\"./TrioU/alpha_1/rho_s.dat\")\n",
    "Tableau.addLine([data],r\"$\\rho  (kg/m^3)$\")  \n",
    "data=plot.loadText(\"./TrioU/alpha_1/cp_s.dat\")\n",
    "Tableau.addLine([data],r\"$Cp  (J/kg/K)$\") \n",
    "data=plot.loadText(\"./TrioU/alpha_1/lambda_s.dat\")\n",
    "Tableau.addLine([data],r\"$\\lambda (W/m/K)$\")  \n",
    "display(Tableau)"
   ]
  },
  {
   "cell_type": "markdown",
   "id": "33f4d90a-b95e-4927-a441-32004cf1993c",
   "metadata": {},
   "source": [
    "### Hydraulic boundary conditions\n",
    "Periodicity between inlet and outlet boundaries.  The velocity profile is imposed as an initial condition.The Reynolds number\n",
    "$Re=\\frac{U \\cdot Dh}{\\nu} = \\frac{U \\cdot (H-h)}{2 \\cdot \\nu}$ is equal to 100. \\\n",
    "Upper boundary:  wall.Front and back boundaries:  symmetries. \\\n",
    "The joint boundary of both domains is a wall."
   ]
  },
  {
   "cell_type": "markdown",
   "id": "f79b4cd4-5846-4c38-b359-6dca88f5e08b",
   "metadata": {},
   "source": [
    "### Fluid thermal boundary conditions\n",
    "Periodicity between inlet and outlet boundaries.\\\n",
    "Upper boundary:  imposed temperature $T_0= 0$.\\\n",
    "Front and back boundaries:  symmetries. \\\n",
    "The joint boundary of both domains is defined as a paroicontact."
   ]
  },
  {
   "cell_type": "markdown",
   "id": "6c3d422a-871b-4c1a-b87b-950f2df3507e",
   "metadata": {},
   "source": [
    "### Solid thermal boundary condtions\n",
    "Lower boundary:  symmetry.\\\n",
    "Lateral boundaries:  adiabatic walls.\\\n",
    "Volume thermal power: $q= 10W/m^3$.\\\n",
    "The joint boundary of both domains is defined as a paroi_contact."
   ]
  },
  {
   "cell_type": "markdown",
   "id": "6006f301-0a75-47aa-ab57-dc9898a68775",
   "metadata": {},
   "source": [
    "### TrioU fluid mesh\n",
    "The mesh is performed by a tetraedriser_homogene_fin. \\\n",
    "The figure below is a view of the fluid domain mesh."
   ]
  },
  {
   "cell_type": "code",
   "execution_count": null,
   "id": "ddaeadb6-c61e-4e6d-a8ec-ac6ce7a30908",
   "metadata": {},
   "outputs": [],
   "source": [
    "from trustutils import visit\n",
    "\n",
    "a = visit.Show(\"./TrioU/alpha_1/laminar_coupled_pb.lata\",'Mesh',\"dom_fluide\")\n",
    "a.normal3D([0.5,-0.5,0.5])\n",
    "a.up3D([0,0,1])\n",
    "a.plot()"
   ]
  },
  {
   "cell_type": "markdown",
   "id": "4d6811b3-152a-450a-b68b-28f3dfb8f40c",
   "metadata": {},
   "source": [
    "### TrioU solid mesh\n",
    "\n",
    "The mesh is performed by a tetraedriser_homogene_fin.The figure below is a view of the solid domain mesh."
   ]
  },
  {
   "cell_type": "code",
   "execution_count": null,
   "id": "0b18a1e4-681a-44a1-a76c-b54fa3852156",
   "metadata": {},
   "outputs": [],
   "source": [
    "a = visit.Show(\"./TrioU/alpha_1/laminar_coupled_pb.lata\",'Mesh',\"dom_solide\")\n",
    "a.normal3D([0.5,-0.5,0.5])\n",
    "a.up3D([0,0,1])\n",
    "a.plot()"
   ]
  },
  {
   "cell_type": "markdown",
   "id": "e216e6e4-f05f-4beb-b4b0-55c676f0dbcd",
   "metadata": {},
   "source": [
    "### Time scheme\n",
    "The conduction timestep inside the solid the limiting timestep.\\\n",
    "The time scheme is an implicit scheme, with a timestep smaller than the fluid timestep. Thus, only thesolid conduction equation is implicit.\\\n",
    "Time scheme:  Euler implicit. \\\n",
    "Solver:  implicit. \\\n",
    "Timestep limited by the fluid timestep."
   ]
  },
  {
   "cell_type": "markdown",
   "id": "b5d5bec2-2446-4706-8157-ae040f52ed71",
   "metadata": {},
   "source": [
    "### Numerical scheme"
   ]
  },
  {
   "cell_type": "markdown",
   "id": "249d8ee3-fd12-4f9b-8c0f-6e46a868f786",
   "metadata": {},
   "source": [
    "Thermal coupled problem.  Solid:  conduction problem.  Fluid:  thermohydraulic problem.\\\n",
    "Hydraulic convection scheme:  EFStab ($\\alpha$= 1).\\\n",
    "Thermal convection scheme:  EFStab: $\\alpha$= 1 and $\\alpha$= 0.2."
   ]
  },
  {
   "cell_type": "markdown",
   "id": "24973fd0-8ebb-435e-b5a4-fc7bdcf3f5bb",
   "metadata": {},
   "source": [
    "## Analytical solutions\n",
    "The problem can be fully solved for a stationnary state."
   ]
  },
  {
   "cell_type": "markdown",
   "id": "9d3c8b32-fa14-425a-ae5d-8e07237a4783",
   "metadata": {},
   "source": [
    "### Laminar velocity profile\n",
    "\n",
    "For a laminar flow, the velocity profile is given by:\n",
    "\n",
    "$$u(z)=U_{max}\\cdot\\left(1-\\dfrac{z^2}{D_h^2}\\right) \\qquad \\text{with} \\qquad U_{max}=\\dfrac{3.Q}{2.(H-h)}$$\n",
    "\n",
    "where $Q$ is the flowrate.  The inlet boundary condition is defined as the laminar velocity profile."
   ]
  },
  {
   "cell_type": "markdown",
   "id": "d4934de3-ddaa-4b62-9354-5db96de959c5",
   "metadata": {},
   "source": [
    "### Temperature profiles\n",
    "\n",
    "Inside the solid domain $(0<z<h)$, the thermal equation is\n",
    "\n",
    "$$\\dfrac{\\partial^2T_s}{\\partial z^2}=-\\dfrac{q}{\\lambda_s} \\qquad \\text{which gives} \\qquad T_s(z)=-\\dfrac{q}{2\\cdot\\lambda_s}\\cdot z^2+A\\cdot z+B$$\n",
    "\n",
    "where $q$ is the volume thermal power and $\\lambda_s$ the solid conductivity.\n",
    "\n",
    "Inside the fluid domain ($h$<$z$<$H$), the thermal equation is:\n",
    "\n",
    "$\\dfrac{\\partial^2T_f}{\\partial z^2}=0 \\qquad \\text{which gives} \\qquad T_f(z)=C\\cdot z+D$.\n",
    "\n",
    "The boundary conditions are:\n",
    "\n",
    "$z=0$, symmetry condition, $\\left. \\dfrac{d T_s}{dz} \\right|_0 =0$, \n",
    "\n",
    "$z=h$, temperature equality, $T_s(h)=T_f(h)$, \n",
    "\n",
    "$z=h$, heat flux equality, $\\lambda_s\\cdot \\left. \\dfrac{d T_s}{dz} \\right|_h=\\lambda_f\\cdot\\left. \\dfrac{d T_f}{dz} \\right|_h$,\n",
    "\n",
    "$z=H$, imposed temperature, $T_f(H)=T_0$.\n",
    "\n",
    "Finally, the thermal analytical solutions are:\n",
    "\n",
    "$T_s(z)=\\dfrac{q}{2\\cdot\\lambda_s}\\cdot(h^2-z^2)+\\dfrac{q\\cdot h}{\\lambda_f}\\cdot(H-h)+T_0 \\qquad \\text{and} \\qquad T_f(z)=\\dfrac{q\\cdot h}{\\lambda_f}\\cdot(H-z)+T_0$\n",
    "\n",
    "The thermal flux $\\varphi$ at the joint boundary and at the upper boundary of the fluid is equal to: $\\varphi=q\\cdot h$.\n",
    "\n",
    "The contact temperature $T_{c}$ is given by $T_{c}=T_s(h)=T_f(h)=\\dfrac{q\\cdot h}{\\lambda_f}\\cdot(H-h)+T_0$.\n",
    "\n",
    "Moreover, the maximal temperature inside the solid $T_{max}$ is located at $z=0$ and its value is:\n",
    "\n",
    "$T_{max}=T_s(0)=q\\cdot h\\cdot(\\dfrac{h}{2\\cdot\\lambda_s}+\\dfrac{H-h}{\\lambda_f})+T_0$."
   ]
  },
  {
   "cell_type": "markdown",
   "id": "e80372e7-e74f-40e8-ad3d-ea3836bca3d5",
   "metadata": {},
   "source": [
    "## Numerical results\n",
    "Two values $\\alpha$ of the thermal convection scheme are tested."
   ]
  },
  {
   "cell_type": "markdown",
   "id": "1f5a5cf8-3cda-4826-8670-d7e832c68574",
   "metadata": {},
   "source": [
    "### Velocity profile inside the fluid domain\n",
    "The velocity profile is a Poiseuille profile."
   ]
  },
  {
   "cell_type": "code",
   "execution_count": null,
   "id": "3bca6a1b-6260-41fe-87c0-c7f2b490527f",
   "metadata": {},
   "outputs": [],
   "source": [
    "from trustutils import plot\n",
    "import numpy as np\n",
    "\n",
    "Graphique=plot.Graph(\"Velocity (m/s)\")\n",
    "\n",
    "data=plot.loadText(\"./TrioU/alpha_1/profil_velocity.dat\")\n",
    "\n",
    "Graphique.add(data[0],data[1],\"r+\",label=\"Theory\")\n",
    "Graphique.addSegment(\"./TrioU/alpha_1/laminar_coupled_pb_SEG_VITESSE_FLUIDE.son\",marker=\"-x\",color=\"g\",label=\"alpha=1\")\n",
    "Graphique.addSegment(\"./TrioU/alpha_1/laminar_coupled_pb_SEG_VITESSE_FLUIDE.son\",marker=\"-*\",color=\"b\",label=\"alpha=0.2\")"
   ]
  },
  {
   "cell_type": "markdown",
   "id": "d3b801dc-e29b-49f1-b272-fe798ef35509",
   "metadata": {},
   "source": [
    "### Temporal evolution of the maximal temperature\n",
    "The figure below shows the temporal evolution of the maximal temperature for both calculations.When the temperatures are constants, the stationnary state is reached.\n"
   ]
  },
  {
   "cell_type": "code",
   "execution_count": null,
   "id": "3edaf6bf-3d5a-4751-966a-6d3d4e1e929e",
   "metadata": {},
   "outputs": [],
   "source": [
    "Graphique=plot.Graph(\"Temporal evolution of the maximal temperature\") \n",
    "Graphique.addPoint(\"./TrioU/alpha_1/laminar_coupled_pb_TEMP_MAX.son\", marker=\"-|\",color=\"r\",label=\"alpha=1\")\n",
    "Graphique.addPoint(\"./TrioU/alpha_02/laminar_coupled_pb_TEMP_MAX.son\",marker=\"-x\",color=\"g\",label=\"alpha=0.2\")"
   ]
  },
  {
   "cell_type": "markdown",
   "id": "6c5afc4a-0c3c-4776-9e6e-bdbd1f8b009f",
   "metadata": {},
   "source": [
    "### Thermal flux comparison\n",
    "The theory shows that the thermal flux at the joint boundary and at the upper boundary of the fluid areequal.\\\n",
    "For the calculations, the diffusionchaleur.out file gives the thermal flux for the boundaries.\\\n",
    "The table below compares the theoretical and the calculated flux, which shows that the thermal flux areequal."
   ]
  },
  {
   "cell_type": "code",
   "execution_count": null,
   "id": "21449567-df26-4c21-bc53-8af91578ef8d",
   "metadata": {},
   "outputs": [],
   "source": [
    "Tableau=plot.Table([\"Theory\" , \"Joint boundary\" , \"Upper boundary\" ])\n",
    "data=plot.loadText(\"./TrioU/alpha_1/flux.dat\")\n",
    "Tableau.addLine([data],r\"$\\alpha=1$\")  \n",
    "data=plot.loadText(\"./TrioU/alpha_02/flux.dat\")\n",
    "Tableau.addLine([data],r\"$\\alpha=0.2$\")  \n",
    "display(Tableau)"
   ]
  },
  {
   "cell_type": "markdown",
   "id": "9ff7801e-576e-4a67-9571-76bb5fccc0b9",
   "metadata": {},
   "source": [
    "### Temperature profile inside the fluid domain\n",
    "\n",
    "For the computations, the temperature profile are calculated with a probe (segment)."
   ]
  },
  {
   "cell_type": "code",
   "execution_count": null,
   "id": "788aefbe-dd7d-45d1-9609-6159a8111287",
   "metadata": {},
   "outputs": [],
   "source": [
    "Graphique=plot.Graph(\"Temperature profile inside the fluid domain\")\n",
    "data=plot.loadText(\"./TrioU/alpha_1/profil_temp_fluide.dat\")\n",
    "Graphique.add(data[0],data[1],\"r+\",label=\"Theory\")\n",
    "Graphique.addSegment(\"./TrioU/alpha_1/laminar_coupled_pb_SEG_TEMP_FLUIDE.son\",marker=\"-x\",color=\"g\",label=\"alpha=1\")\n",
    "Graphique.addSegment(\"./TrioU/alpha_02/laminar_coupled_pb_SEG_TEMP_FLUIDE.son\",marker=\"-*\",color=\"b\",label=\"alpha=0.2\")"
   ]
  },
  {
   "cell_type": "markdown",
   "id": "51995975-ef02-4157-9f09-82e44e02404e",
   "metadata": {},
   "source": [
    "### Temperature profile inside the solid domain\n",
    "For the computations, the solid temperature profiles are calculated with a probe (segment)."
   ]
  },
  {
   "cell_type": "code",
   "execution_count": null,
   "id": "7a253018-8f75-42d8-a1b9-4bcc4fda121a",
   "metadata": {},
   "outputs": [],
   "source": [
    "Graphique=plot.Graph(\"Temperature profile inside the solid domain\")\n",
    "data=plot.loadText(\"./TrioU/alpha_1/profil_temp_solide.dat\")\n",
    "Graphique.add(data[0],data[1],\"r+\",label=\"Theory\")\n",
    "Graphique.addSegment(\"./TrioU/alpha_1/laminar_coupled_pb_SEG_TEMP_SOLIDE.son\",marker=\"-x\",color=\"g\",label=\"alpha=1\")\n",
    "Graphique.addSegment(\"./TrioU/alpha_02/laminar_coupled_pb_SEG_TEMP_SOLIDE.son\",marker=\"-*\",color=\"b\",label=\"alpha=0.2\")"
   ]
  },
  {
   "cell_type": "markdown",
   "id": "c445c8af-b628-4a17-b64a-5d00ab1d6550",
   "metadata": {},
   "source": [
    "### Temperature difference inside the solid\n",
    "\n",
    "Inside the solid domain, the theory gives: $T_{max}-T_c=\\dfrac{q\\cdot h^2}{2\\cdot \\lambda_s}$. \\\n",
    "The maximal and contact temperatures are given by probes.\\\n",
    "The table below compares the differences for both calculations. The results show that the temperature differences are correctly solved."
   ]
  },
  {
   "cell_type": "code",
   "execution_count": null,
   "id": "37256a1c-3576-4c53-9171-7b1d36d5f9a4",
   "metadata": {},
   "outputs": [],
   "source": [
    "from trustutils import plot\n",
    "import numpy as np\n",
    "\n",
    "Tableau=plot.Table([\"Theory\" , \"Joint boundary\" , \"Upper boundary\" ])\n",
    "data=plot.loadText(\"./TrioU/alpha_1/delta.dat\")\n",
    "Tableau.addLine([data],r\"$\\alpha=1$\")  \n",
    "data=plot.loadText(\"./TrioU/alpha_02/delta.dat\")\n",
    "Tableau.addLine([data],r\"$\\alpha=0.2$\")   \n",
    "display(Tableau)"
   ]
  },
  {
   "cell_type": "markdown",
   "id": "e327db80-3e4c-4db8-abc8-31e1dd637a30",
   "metadata": {},
   "source": [
    "### Contact temperature comparison\n",
    "\n",
    "The contact temperature between fluid and solid domains can be analytically calculated. \\\n",
    "For the calculations, the contact temperatures are calculated with probes.\\\n",
    "The table below shows the contact temperatures between calculations and theory."
   ]
  },
  {
   "cell_type": "code",
   "execution_count": null,
   "id": "f3804b98-bb5f-4219-b3e5-859bca03ed8e",
   "metadata": {},
   "outputs": [],
   "source": [
    "Tableau=plot.Table([\"\",\"Theory\" , \"Joint boundary\" , \"Upper boundary\" ])\n",
    "data=plot.loadText(\"./TrioU/alpha_1/Tcs.dat\",dtype='str')\n",
    "Tableau.addLine([data],r\"$\\alpha=1$\")  \n",
    "data=plot.loadText(\"./TrioU/alpha_02/Tcs.dat\",dtype='str')\n",
    "Tableau.addLine([data],r\"$\\alpha=0.2$\")   \n",
    "display(Tableau)"
   ]
  },
  {
   "cell_type": "markdown",
   "id": "8ed8b484-3faf-4af2-b614-6c910c4e3f7a",
   "metadata": {},
   "source": [
    "### Maximal temperature comparison\n",
    "The maximal temperature in the solid is given by the theory.\\\n",
    "For the calculations, the maximal temperatures are calculated with probes.\\\n",
    "The error calculated on the maximal temperature is linked to the error calculated on the contact temperature.  The difference is smaller because the value of the maximal temperature is greater than thecontact temperature.\\\n",
    "The results between calculations and theory are gathered in the table below."
   ]
  },
  {
   "cell_type": "code",
   "execution_count": null,
   "id": "5fbadef9-e063-4a1c-9e2d-cd5813404851",
   "metadata": {},
   "outputs": [],
   "source": [
    "Tableau=plot.Table([\"\",\"Theory\" , \"Joint boundary\" , \"Upper boundary\" ])\n",
    "data=plot.loadText(\"./TrioU/alpha_1/Tmax.dat\",dtype='str')\n",
    "Tableau.addLine([data],r\"$\\alpha=1$\")  \n",
    "data=plot.loadText(\"./TrioU/alpha_02/Tmax.dat\",dtype='str')\n",
    "Tableau.addLine([data],r\"$\\alpha=0.2$\")   \n",
    "display(Tableau)"
   ]
  },
  {
   "cell_type": "markdown",
   "id": "0a8a3a34-2378-4b18-9dbb-e93d73c25f89",
   "metadata": {},
   "source": [
    "## Conclusions\n",
    "\n",
    "With the standard version used, the results are not in good accordance with the analytical results.\n",
    "$\\alpha = 0.2$ for the thermal convection scheme gives better results than $\\alpha = 1$."
   ]
  },
  {
   "cell_type": "markdown",
   "id": "93d4c202-0c6d-41ec-a272-6940edc693a4",
   "metadata": {},
   "source": [
    "## Performances"
   ]
  },
  {
   "cell_type": "code",
   "execution_count": null,
   "id": "434ddf58-d90d-4462-b941-2e6d332c004e",
   "metadata": {},
   "outputs": [],
   "source": [
    "run.tablePerf()"
   ]
  },
  {
   "cell_type": "markdown",
   "id": "a247d7b4-76d2-46c8-b42e-e0666e4cdcab",
   "metadata": {},
   "source": [
    "## Data Files"
   ]
  },
  {
   "cell_type": "markdown",
   "id": "56079446-6d0b-40af-acf9-63e5951be2fc",
   "metadata": {},
   "source": [
    "## laminar_coupled_pb"
   ]
  },
  {
   "cell_type": "code",
   "execution_count": null,
   "id": "d62669ff-d1d6-4d63-99b8-84faf93c5a81",
   "metadata": {
    "tags": []
   },
   "outputs": [],
   "source": [
    "run.dumpDataset(\"./laminar_coupled_pb.data\")"
   ]
  }
 ],
 "metadata": {
  "kernelspec": {
   "display_name": "Python 3 (ipykernel)",
   "language": "python",
   "name": "python3"
  },
  "language_info": {
   "codemirror_mode": {
    "name": "ipython",
    "version": 3
   },
   "file_extension": ".py",
   "mimetype": "text/x-python",
   "name": "python",
   "nbconvert_exporter": "python",
   "pygments_lexer": "ipython3",
   "version": "3.12.5"
  },
  "toc-autonumbering": false,
  "toc-showmarkdowntxt": false,
  "toc-showtags": false
 },
 "nbformat": 4,
 "nbformat_minor": 5
}
