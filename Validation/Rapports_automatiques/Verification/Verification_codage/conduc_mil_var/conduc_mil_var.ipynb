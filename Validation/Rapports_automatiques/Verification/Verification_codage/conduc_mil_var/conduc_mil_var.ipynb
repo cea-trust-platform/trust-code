{
 "cells": [
  {
   "cell_type": "markdown",
   "id": "improved-telescope",
   "metadata": {},
   "source": [
    "# Conduction avec parametres variables"
   ]
  },
  {
   "cell_type": "code",
   "execution_count": null,
   "id": "269d11cc",
   "metadata": {},
   "outputs": [],
   "source": [
    "from trustutils import run\n",
    "\n",
    "run.introduction(\"A. Bruneton\")\n",
    "\n",
    "run.TRUST_parameters()"
   ]
  },
  {
   "cell_type": "markdown",
   "id": "2b05d072",
   "metadata": {},
   "source": [
    "### Description: \n",
    "\n",
    "Validation de l'implementation des milieux variables pour l'equation de conduction en VDF. On montre tout d'abord que l'equation de conduction standard de TRUST permet de faire varier le coefficient $\\lambda$ aussi bien en temps qu'en espace, puis que, par contre, les nouveaux developpements de Conduction_Milieu_Variable permettent aussi de faire varier $\\rho$ et $C_p$ en espace"
   ]
  },
  {
   "cell_type": "code",
   "execution_count": null,
   "id": "northern-guide",
   "metadata": {
    "tags": []
   },
   "outputs": [],
   "source": [
    "from trustutils import run \n",
    "for typ in [\"\", \"_bar\", \"_bar_ef_ana\", \"_bar_var\"]:\n",
    "    run.addCase(\".\",\"conduc%s.data\" % typ)\n",
    "for typ in [\"\", \"_rhoCp_var\", \"_rhoCp_var_ef\", \"_rhoCp_var_vef\", \"_var\"]:\n",
    "    run.addCase(\".\",\"conduc_doublebar%s.data\" % typ)\n",
    "run.addCase(\".\",\"conduc_var.data\")\n",
    "run.printCases()\n",
    "run.runCases()"
   ]
  },
  {
   "cell_type": "markdown",
   "id": "streaming-avenue",
   "metadata": {},
   "source": [
    "## Quelques rappels theoriques\n",
    "\n",
    "L'equation de la chaleur s'écrit\n",
    "\n",
    "$$ \\rho C_p \\frac{\\partial T}{\\partial t} - \\nabla \\cdot (\\lambda \\nabla T)=S $$\n",
    "\n",
    "avec $\\lambda$ la conductivite thermique, $\\rho$ la masse volumique, $C_p$ la capacite calorifique, $T$ la temperature et $S$ un terme source volumique. \n",
    "\n",
    "Dans l'equation de conduction standard de TRUST, on suppose que $\\rho$ et $C_p$ sont uniformes (constants en espace), et  on calcule le terme de diffusivite de l’operateur de diffusion $D=\\lambda/(\\rho C_p)$ ce qui permetde reecrire l’equation de diffusion sous la forme:\n",
    "\n",
    "$$ \\frac{\\partial T}{\\partial t} - \\nabla \\cdot (D \\nabla T)=S\\frac{S}{\\rho C_p} $$\n",
    "\n",
    "Cela permet de faire appel directement a l’operateur de diffusion de TRUST. L’uniformite de $\\rho$ et $C_p$ est maintenant vérifiée dans la methode Conduction::associer_solide().  et ainsi la nouvelle classe Conduction_Milieu_Variable autorise implicitement des grandeurs $\\rho$ et/ou $C_p$ variables en espace, en reprenant la forme originale de l’equation de la chaleur. Le terme $\\rho C_p$ est replacé devant la dérivée partielle de $T$ et les termes sources par l’appel ’solveur_masse->set_name_of_coefficient_temporel(rho_cp_comme_T)’ dans la methode Conduction_Milieu_Variable::lire_mot_cle_non_standard.  Le coefficient de diffusivite pour l’equation de diffusion devient simplement la_conductivite mais reste la vraie diffusivite thermique ($D$) pour le calcul du pas de temps de stabilite. \n",
    "\n",
    "Cette fiche verifie la non regression des classes xxx_Milieu_Variable par rapport aux classes de Conduction standard. On illustre ensuite un exemple de $\\rho C_p$ variable en espace. "
   ]
  },
  {
   "cell_type": "markdown",
   "id": "abandoned-words",
   "metadata": {},
   "source": [
    "## Iso-fonctionalité avec l’équation de conduction standard\n",
    "\n",
    "On vérifie que pour des paramètres uniformes constants en temps on retrouve les résultats de l’équation de conduction standard de TRUST. Le cas traite est le cas ’conduction’ de la base de tests,  qui teste toutes les conditions limites de l’équation de conduction. Le domaine est le carré unité centre en (0.5,0.5)."
   ]
  },
  {
   "cell_type": "markdown",
   "id": "textile-andrews",
   "metadata": {},
   "source": [
    "### Température au milieu du domaine au cours du temps\n",
    "\n",
    "Ci-dessous l’evolution temporelle de la température pour un point situe à (0.45, 0.45) dans le domaine."
   ]
  },
  {
   "cell_type": "code",
   "execution_count": null,
   "id": "catholic-master",
   "metadata": {},
   "outputs": [],
   "source": [
    "from trustutils import plot\n",
    "\n",
    "a=plot.Graph(\"Température au milieu du domaine au cours du temps\")\n",
    "a.addPoint(\"./conduc_SONDE_POINT.son\",marker=\"-|\",color=\"r\",label=\"Standard\")  \n",
    "a.addPoint(\"./conduc_var_SONDE_POINT.son\",marker=\"--x\",color=\"g\",label=\"Milieu Variable\")  \n",
    "a.visu(0,300,0,4.5)"
   ]
  },
  {
   "cell_type": "markdown",
   "id": "verbal-healthcare",
   "metadata": {},
   "source": [
    "### Coupes horizontale et verticale"
   ]
  },
  {
   "cell_type": "markdown",
   "id": "impressed-supplement",
   "metadata": {},
   "source": [
    "Deux coupes horizontale et verticale en milieu de domaine, a t=10s dans le calcul.  Le coupe horizontale est obtenue via le segment [0.05,0.45]$\\times$[0.95,0.45] alors que la coupe verticale est obtenue via le segment [0.45,0.05]$\\times$[0.45,0.95] ."
   ]
  },
  {
   "cell_type": "code",
   "execution_count": null,
   "id": "recorded-therapy",
   "metadata": {},
   "outputs": [],
   "source": [
    "a=plot.Graph(\"Coupes horizontale et verticale\") \n",
    "    \n",
    "a.addSegment(\"./conduc_SONDE_HORIZ.son\",time=10 ,marker=\"-|\",color=\"r\",label=\"Standard - Horizontal\")  \n",
    "a.addSegment(\"./conduc_var_SONDE_HORIZ.son\",time=10 ,marker=\"-x\",color=\"g\",label=\"Milieu variable - Horizontal\")  \n",
    "a.addSegment(\"./conduc_SONDE_VERT.son\",time=10 ,marker=\"-x\",color=\"blue\",label=\"Standard - Vertical\")  \n",
    "a.addSegment(\"./conduc_var_SONDE_VERT.son\",time=10,marker=\"-s\",mfc='none',color=\"violet\",label=\"Milieu variable - Vertical\")  \n",
    " \n",
    "a.visu(0,1,0,5)"
   ]
  },
  {
   "cell_type": "markdown",
   "id": "indirect-catholic",
   "metadata": {},
   "source": [
    "## Variation en temps"
   ]
  },
  {
   "cell_type": "markdown",
   "id": "excited-peeing",
   "metadata": {},
   "source": [
    "Le domaine est maintenant une barre horizontale 1D s’etendant de x=0 a 1.  On verifie le comportement de l’equation pour une variation temporelle de $\\lambda$.\n",
    "\n",
    "Condition limite:  temperature imposee a gauche, flux impose a droite.\n",
    "\n",
    "A t=150s on multiplie la conductivite par 4 de 0.01 a 0.04. Cela fait chuter la temperature interne."
   ]
  },
  {
   "cell_type": "markdown",
   "id": "provincial-belief",
   "metadata": {},
   "source": [
    "### Coupes horizontales"
   ]
  },
  {
   "cell_type": "markdown",
   "id": "flush-jesus",
   "metadata": {},
   "source": [
    "Coupes horizontales effectuees a t=149s et t=250s, quand les deux regimes stationnaires sont atteints."
   ]
  },
  {
   "cell_type": "code",
   "execution_count": null,
   "id": "fitting-partition",
   "metadata": {},
   "outputs": [],
   "source": [
    "import numpy as np\n",
    "\n",
    "a=plot.Graph(\"Coupes horizontales\")    \n",
    "a.addSegment(\"./conduc_bar_SONDE_HORIZ.son\",time=149,color=\"r\"     ,marker=\"-|\",label=\"Standard - Horizontal - t=149s\") \n",
    "a.addSegment(\"./conduc_bar_var_SONDE_HORIZ.son\",time=149,color=\"g\"     ,marker=\"-x\",label=\"Milieu variable - Horizontal - t=149s\") \n",
    "a.addSegment(\"./conduc_bar_SONDE_HORIZ.son\",time=250,color=\"b\"     ,marker=\"-x\",label=\"Standard - Horizontal - t=250s\") \n",
    "a.addSegment(\"./conduc_bar_var_SONDE_HORIZ.son\",time=250,color=\"violet\",marker=\"-s\",markerfacecolor='none',label=\"Milieu variable - Horizontal - t=250s\")  \n",
    "x=np.linspace(-1,1,100) \n",
    "a.visu(0,1,10,15)"
   ]
  },
  {
   "cell_type": "markdown",
   "id": "organized-cleanup",
   "metadata": {},
   "source": [
    "### Evolution temporelle en un point\n",
    "\n",
    "Voici l’evolution temporelle de la temperature pour un point sur le bord droit du domaine. Le changement brutal de conductivite se voit sur le decrochage de la temperature interne du au plus grand flux de sortie."
   ]
  },
  {
   "cell_type": "code",
   "execution_count": null,
   "id": "graduate-rouge",
   "metadata": {},
   "outputs": [],
   "source": [
    "a=plot.Graph(\"Temperature au milieu du domaine au cours du temps\")\n",
    "a.addPoint(\"./conduc_bar_SONDE_POINT.son\",marker=\"-|\",color=\"r\",label=\"Standard\")  \n",
    "a.addPoint(\"./conduc_bar_var_SONDE_POINT.son\",marker=\"-x\",color=\"g\",label=\"Milieu Variable\")   \n",
    "a.visu(0,350,10,15)"
   ]
  },
  {
   "cell_type": "markdown",
   "id": "modular-musician",
   "metadata": {},
   "source": [
    "## Variation en espace"
   ]
  },
  {
   "cell_type": "markdown",
   "id": "exotic-spank",
   "metadata": {},
   "source": [
    "On prend le cas decrit dans [1].  La geometrie modelise une barre 1D infinie avec une temperature initiale $T_1$ en  $x<0$ et $T_2$ en $x>0$. Les  temperatures  a  gauche  et  a  droite  sont  imposees  a  20  et  10deg respectivement. \n",
    "\n",
    "Cela revient a la mise en contact de deux solides a des temperatures differentes.  Le domaine est cette fois charge depuis un fichier MED contenant N elements (N=30).  On utilise les sous-zones definies a partir des groupes d’elements MED, comme suggere par Antoine. \n",
    "\n",
    "Instantanement le contact est porte a une temperature constante $T_p$,  et pour $x>0$ (resp. $x<0$) la temperature varie de $T_p$ a $T_2$ (resp. de $T_p$ a $T_1$). \n",
    "\n",
    "Pour $x>0$, on a $T−T_p = (T_2−T_p)\\text{erf}(x/\\sqrt{4a_2t})$ avec $a_2=\\lambda_2/(\\rho_2 C_{p2})$ \n",
    "\n",
    "Pour $x<0$, on a $T−T_p = (T_1−T_p)\\text{erf}(x/\\sqrt{4a_1t})$ avec $a_1=\\lambda_1/(\\rho_1 C_{p1})$\n",
    "\n",
    "Et la temperature de contact $\\displaystyle{T_p = \\frac{b_1 T_1 +b_2 T_2}{b_1+b_2}}$ avec $b_1=\\sqrt{\\rho_1 \\lambda_1 c_1}$ \n",
    "\n",
    "Dans notre cas $T_1$ = 20, $T_2$ = 10, $\\rho_1 = \\rho_2 = 2$, $C_{p1} = C_{p2} = 0.5$, et finalement $\\lambda_1 = 0.01$ et $\\lambda_2 = 0.03$ ce qui donne $T_p= 13.66$ \n",
    "\n",
    "Sur le graphe ci-dessous,  on  retrouve  cette  temperature  de  joint  a  t=2s,  mais  plus  a  t  final,  car  a ce moment,  l’approximation du milieu infini n’est plus valable et l’on retrouve une rampe lineaire par morceaux a gauche et a droite. On effectue differentes validations en faisant soit varier $\\lambda$ par morceaux, soit $\\rho$ et $C_p$, et on montre ainsi quand l’utilisation de la nouvelle equation est necessaire."
   ]
  },
  {
   "cell_type": "markdown",
   "id": "listed-advisory",
   "metadata": {},
   "source": [
    "### Lambda variable\n",
    "\n",
    "Profil de temperature en transitoire pour unλvariable en espace.  Ce cas est traitable par l’equationstandard de conduction de TRUST. Comparaison a la solution analytique a t=2s.  La moitie gauche (x<0) a une temperature initiale de 20deg, a droite 10deg."
   ]
  },
  {
   "cell_type": "code",
   "execution_count": null,
   "id": "chief-ukraine",
   "metadata": {},
   "outputs": [],
   "source": [
    "from scipy import special\n",
    "\n",
    "a=plot.Graph(\"Lambda variable\") \n",
    " \n",
    "\n",
    "a.addSegment(\"./conduc_doublebar_SONDE_HORIZ.son\"    ,time=2.1 ,color=\"r\",marker=\"-|\",label=\"t=2s - standard\") \n",
    "a.addSegment(\"./conduc_doublebar_var_SONDE_HORIZ.son\",time=2.1 ,color=\"g\",marker=\"-x\",label=\"t=2s - variable\")   \n",
    "# Analytique avec erf\n",
    "\n",
    "x=np.linspace(-1,1,100)\n",
    "y=(13.66-20)*special.erf(x/np.sqrt(4*2*0.03))+13.66\n",
    "y[x>0]=((10-13.66)*special.erf(x/np.sqrt(4*2*0.03))+13.66)[x>0] \n",
    "y[x<=0]=((13.66-20)*special.erf(x/np.sqrt(4*2*0.01))+13.66)[x<=0] \n",
    "a.add(x,y,color=\"b\",label=\"t=2s - analytic\")\n",
    "\n",
    "a.addSegment(\"./conduc_doublebar_SONDE_HORIZ.son\",time=3.00099153e+02 ,color=\"violet\",marker=\"-s\",mfc='none',label=\"t=final - variable\")   \n",
    "a.addSegment(\"./conduc_doublebar_var_SONDE_HORIZ.son\",time=3.00099153e+02  ,color=\"cyan\",marker=\"-s\",label=\"t=final - variable\")   \n",
    "\n",
    "x=np.linspace(-1,1,100)\n",
    "y=13.66+0*x\n",
    "a.add(x,y,color=\"brown\",label=\"Temp. jonction analytic\")    \n",
    "\n",
    "a.visu(-1,1,10,20)"
   ]
  },
  {
   "cell_type": "markdown",
   "id": "liberal-failing",
   "metadata": {},
   "source": [
    "## $\\rho,C_p$ variables en espace\n",
    "\n",
    "Profil de temperature en transitoire,  cette fois pour $\\lambda$, $\\rho$ et $C_p$ variables en espace.  Ce cas n’est PAS traitable par l’equation standard de conduction de TRUST. Sur la moitie gauche $\\rho = 2$ et $C_p = 0.5$ tandis qu’a droite $\\rho = 0.5$ et $C_p = 2.0$.  On garde donc le produit des deux constant, ce qui nous ramene a la meme solution analytique que precedemment.  La comparaison est faite a t=2s."
   ]
  },
  {
   "cell_type": "code",
   "execution_count": null,
   "id": "other-renewal",
   "metadata": {},
   "outputs": [],
   "source": [
    "a=plot.Graph(r\"$\\rho$, $C_p$ variables en espace\") \n",
    "# Analitique avec erf\n",
    "\n",
    "x=np.linspace(-1,1,100)\n",
    "y=(13.66-20)*special.erf(x/np.sqrt(4*2*0.03))+13.66\n",
    "y[x>0]=((10-13.66)*special.erf(x/np.sqrt(4*2*0.03))+13.66)[x>0]\n",
    "y[x<=0]=((13.66-20)*special.erf(x/np.sqrt(4*2*0.01))+13.66)[x<=0]\n",
    "\n",
    "a.add(x,y,color=\"red\",label=\"t=2s - analytic\")  \n",
    "a.addSegment(\"./conduc_doublebar_rhoCp_var_SONDE_HORIZ.son\",time=2.1 ,marker=\"-x\",color=\"g\",label=\"t=2s - variable\")  \n",
    "x=np.linspace(-1,1,100)\n",
    "y=13.66+0*x\n",
    "a.add(x,y,color=\"b\",label=\"Temp. jonction analytic\") \n",
    "a.visu(-1,1,10,20)"
   ]
  },
  {
   "cell_type": "markdown",
   "id": "appreciated-muslim",
   "metadata": {},
   "source": [
    "## Validation en EF"
   ]
  },
  {
   "cell_type": "markdown",
   "id": "underlying-berlin",
   "metadata": {},
   "source": [
    "La double barre infinie en discretisation ’EF’ maintenant, pour avoir une situation similaire a ce que traite FLICA4 actuellement avec les maillages filaires 1D (meme si a terme on s’oriente vers une modelisation 3D de la thermique sur discretisation VDF). Pour rappel en EF, la temperature est localisee aux sommets, mais les proprietes physiques $\\lambda$, $\\rho$ et $C_p$ restent aux elements. \n",
    "\n",
    "Comme  precedemment  le  maillage  est  construit  de  telle  maniere  que  l’abscisse  $x$=0  coincide  avec  un noeud (la disconituite des proprietes physiques se produit donc exactement en $x$=0). \n",
    "\n",
    "On charge les proprietes physiques comme precedemment en utilisant les groupes d’elements definis dansle fichier MED, mais par contre la temperature initiale (definie aux sommets donc, et non aux elements comme en VDF) est chargee a partir d’un champ MED aux noeuds.  La temperature au sommet $x$=0 est definie a 15deg (les memes resultats sont obtenues en prenant comme temperature initiale $T_p$). \n",
    "\n",
    "Le meme calcul que precedemment est conduit, a savoir le produit $\\rho C_p$ constant et $\\lambda$ variable."
   ]
  },
  {
   "cell_type": "markdown",
   "id": "silver-oxide",
   "metadata": {},
   "source": [
    "### EF sur la double barre"
   ]
  },
  {
   "cell_type": "code",
   "execution_count": null,
   "id": "governmental-rogers",
   "metadata": {},
   "outputs": [],
   "source": [
    "a=plot.Graph(\"EF sur la double barre\")  \n",
    "# Analytique avec erf\n",
    "x=np.linspace(-1,1,100)\n",
    "y=(13.66-20)*special.erf(x/np.sqrt(4*2*0.03))+13.66\n",
    "y[x>0]=((10-13.66)*special.erf(x/np.sqrt(4*2*0.03))+13.66)[x>0]\n",
    "y[x<=0]=((13.66-20)*special.erf(x/np.sqrt(4*2*0.01))+13.66)[x<=0]\n",
    "a.add(x,y,color=\"r\",label=\"t=2s - analytic\")  \n",
    "a.addSegment(\"./conduc_doublebar_rhoCp_var_vef_SONDE_HORIZ.son\",time=0 ,marker=\"-x\",color=\"g\",label=\"t=0s - variable VEF\")  \n",
    "a.addSegment(\"./conduc_doublebar_rhoCp_var_vef_SONDE_HORIZ.son\",time=2 ,marker=\"-*\",color=\"b\",label=\"t=2s - variable VEF\")  \n",
    "x=np.linspace(-1,1,100)\n",
    "y=13.66+0*x\n",
    "a.add(x,y,color=\"violet\",label=\"Temp. jonction analytic\") \n",
    "a.visu(-1,1,10,20)"
   ]
  },
  {
   "cell_type": "markdown",
   "id": "regular-finance",
   "metadata": {},
   "source": [
    "### Validation en VEF\n",
    "\n",
    "Et  pour  finir,  la  double  barre  infinie  en  discretisation  ’VEF’  Pour  rappel  en  VEF,  la  temperature  est localisee aux faces, mais les proprietes physiques $\\lambda$, $\\rho$ et $C_p$ restent aux elements. \n",
    "\n",
    "Comme precedemment le maillage est construit de telle maniere que l’abscisse $x$=0 coincide avec un noeud(la disconituite des proprietes physiques se produit donc exactement en $x$=0). Pour ce cas, le maillage VDF a ete utilise et a ete triangularise avec la commande trianguler_h.\n",
    "\n",
    "On charge les proprietes physiques comme precedemment en utilisant les groupes d’elements definis dansle  fichier  MED,  mais  par  contre  la  temperature  initiale  (definie  aux  faces  donc,  et  non  aux  elements comme en VDF) est chargee a partir d’un champ MED aux noeuds.  La temperature a la face $x$=0 estdefinie a 15deg (les memes resultats sont obtenues en prenant comme temperature initiale $T_p$).\n",
    "\n",
    "Le meme calcul que precedemment est conduit, a savoir le produit $\\rho C_p$ constant et $\\lambda$ variable."
   ]
  },
  {
   "cell_type": "markdown",
   "id": "coastal-sphere",
   "metadata": {},
   "source": [
    "### VEF sur la double barre"
   ]
  },
  {
   "cell_type": "code",
   "execution_count": null,
   "id": "spare-awareness",
   "metadata": {},
   "outputs": [],
   "source": [
    "import math as m\n",
    "\n",
    "a=plot.Graph(\"VEF sur la double barre\") \n",
    "# Analytique avec erf\n",
    "x=np.linspace(-1,1,100)\n",
    "y=(13.66-20)*special.erf(x/np.sqrt(4*2*0.03))+13.66\n",
    "y[x>0]=((10-13.66)*special.erf(x/np.sqrt(4*2*0.03))+13.66)[x>0]\n",
    "y[x<=0]=((13.66-20)*special.erf(x/np.sqrt(4*2*0.01))+13.66)[x<=0]\n",
    "a.add(x,y,color=\"r\",label=\"t=2s - analytic\")  \n",
    "#a.addSegment(\"./build/conduc_doublebar_vef_SONDE_HORIZ.son\",time=0 ,marker=\"-|\")   \n",
    "a.addSegment(\"./conduc_doublebar_rhoCp_var_vef_SONDE_HORIZ.son\",time=0 ,marker=\"-x\",color=\"g\",label=\"t=0 - variable VEF\") \n",
    "a.addSegment(\"./conduc_doublebar_rhoCp_var_vef_SONDE_HORIZ.son\",time=2 ,marker=\"-|\",color=\"b\",label=\"t=2 - variable VEF\")  \n",
    "x=np.linspace(-1,1,100)\n",
    "y=13.66+0*x\n",
    "a.add(x,y,color=\"violet\",label=\"Temp. jonction analytic\") \n",
    "a.visu(-1,1,10,20)"
   ]
  },
  {
   "cell_type": "markdown",
   "id": "relevant-chess",
   "metadata": {},
   "source": [
    "### Cas avec source"
   ]
  },
  {
   "cell_type": "markdown",
   "id": "pressing-crime",
   "metadata": {},
   "source": [
    "On considere maintenant un cas completement analytique variable en espace et en temps.  Le domaine est une barre 1D s’etendant de 0 a 1 en $x$.  Les conditions limites sont en temperature imposee avec $T$($x$=0) = $T$($x$=1) = 0.  La condition initiale est aussi nulle uniformement.  On garde la discretisation EF utilisee precedemment.\n",
    "\n",
    "Soit la solution \n",
    "\n",
    "$$T= \\sin(\\pi x) \\sin t$$\n",
    "\n",
    "et les parametres physiques (strictement positifs) definis par\n",
    "\n",
    "$$ \\lambda = \\sin x \\sin t+ 1.5$$\n",
    "$$\\rho C_p= \\sin x \\sin t + 2$$\n",
    "\n",
    "Cette configuration conduit a\n",
    "\n",
    "$$−\\nabla \\cdot(\\lambda \\nabla T) = \\pi \\sin t(\\pi(\\sin x \\sin t+ 1.5) \\sin(\\pi x)− \\cos x \\cos(\\pi x) \\sin t)$$\n",
    "\n",
    "et a\n",
    "\n",
    "$$ \\rho C_p \\frac{\\partial T}{\\partial t} = (\\sin x \\sin t+ 2)(\\sin(\\pi x) \\cos t)$$\n",
    "\n",
    "Le terme source à employer est donc la somme des deux:\n",
    "\n",
    "$$ S = - \\nabla \\cdot (\\lambda \\nabla T) + \\rho C_p \\frac{\\partial T}{\\partial t}$$"
   ]
  },
  {
   "cell_type": "markdown",
   "id": "living-result",
   "metadata": {},
   "source": [
    "### EF avec source sur simple barre"
   ]
  },
  {
   "cell_type": "code",
   "execution_count": null,
   "id": "seventh-parliament",
   "metadata": {},
   "outputs": [],
   "source": [
    "a=plot.Graph(\"EF avec source sur simple barre\")\n",
    "a.addSegment(\"./conduc_bar_ef_ana_SONDE_HORIZ.son\",time=1 ,marker=\"-|\",label=\"t=1s\",color=\"r\")  \n",
    "a.addSegment(\"./conduc_bar_ef_ana_SONDE_HORIZ.son\",time=3 ,marker=\"-x\",label=\"t=3s\",color=\"g\") \n",
    "x=np.linspace(0,1,100)\n",
    "y=np.sin(3.1415926535898*x)*np.sin(1.0)\n",
    "a.add(x,y,color=\"blue\",label=\"t=1 - analytic\")\n",
    "y=np.sin(3.1415926535898*x)*np.sin(3.0)\n",
    "a.add(x,y,color=\"violet\",label=\"t=3 - analytic\")\n",
    "a.visu(0,1,-0.1,0.9)"
   ]
  },
  {
   "cell_type": "markdown",
   "id": "ambient-biotechnology",
   "metadata": {},
   "source": [
    "## Jeu de donnees illustrant l’utilisation des sous-zones en VDF\n",
    "Apres chargement du fichier MED on relit le fichier de sous-zones qui permet d’acceder a ’left_elem’ et 'right_elem’ les deux groupes d’elements definis dans MED"
   ]
  },
  {
   "cell_type": "code",
   "execution_count": null,
   "id": "cutting-convertible",
   "metadata": {
    "tags": []
   },
   "outputs": [],
   "source": [
    "run.dumpDataset(\"./conduc_doublebar.data\") "
   ]
  },
  {
   "cell_type": "markdown",
   "id": "composite-skirt",
   "metadata": {},
   "source": [
    "4# References\n",
    "[1] Lagree  -  Cours  sur  la  resolution  de  l  equation  de  la  chaleur  -  http://www.lmm.jussieu.fr/  lagree/-COURS/MECAVENIR/cours6eqchalresol.pdf"
   ]
  }
 ],
 "metadata": {
  "kernelspec": {
   "display_name": "Python 3 (ipykernel)",
   "language": "python",
   "name": "python3"
  },
  "language_info": {
   "codemirror_mode": {
    "name": "ipython",
    "version": 3
   },
   "file_extension": ".py",
   "mimetype": "text/x-python",
   "name": "python",
   "nbconvert_exporter": "python",
   "pygments_lexer": "ipython3",
   "version": "3.7.16"
  }
 },
 "nbformat": 4,
 "nbformat_minor": 5
}
