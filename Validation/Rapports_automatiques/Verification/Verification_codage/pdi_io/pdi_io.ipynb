{
 "cells": [
  {
   "cell_type": "markdown",
   "id": "inappropriate-lingerie",
   "metadata": {},
   "source": [
    "# Input/Output with PDI"
   ]
  },
  {
   "cell_type": "code",
   "execution_count": null,
   "id": "23022d7e",
   "metadata": {},
   "outputs": [],
   "source": [
    "from trustutils import run\n",
    "\n",
    "run.introduction(\"A. KHIZAR\")\n",
    "\n",
    "run.TRUST_parameters()"
   ]
  },
  {
   "cell_type": "markdown",
   "id": "a93e2e37",
   "metadata": {},
   "source": [
    "### Description: \n",
    "\n",
    "In this note, we check the use of the keyword 'pdi' which allows to generate and read files in HDF5 format, through the open-source PDI library."
   ]
  },
  {
   "cell_type": "code",
   "execution_count": null,
   "id": "e8daed6d",
   "metadata": {
    "tags": []
   },
   "outputs": [],
   "source": [
    "from trustutils import run  \n",
    "\n",
    "def prepare_pre_run(targetDir, nProcs, checkpoint, restart):\n",
    "    cmd = \"cp pre_run_reprise \" + targetDir + \"/pre_run;\"\n",
    "    if(nProcs > 1):\n",
    "        cmd = cmd + \"cp domaine.data \" + targetDir + \";\"\n",
    "    cmd = cmd + \"sed -i 's/nProcs=_TO_FILL_/nProcs=\" + str(nProcs) + \"/g' \" + targetDir + \"/pre_run;\" \n",
    "    cmd = cmd + \"sed -i 's/checkpoint_format=_TO_FILL_/checkpoint_format=\" + checkpoint + \"/g' \" + targetDir + \"/pre_run;\" \n",
    "    tinit = 0.06 if checkpoint == \"sauvegarde\" and restart == \"reprise\" else 0.08\n",
    "    cmd = cmd + \"sed -i 's/t0=_T0_/t0=\" + str(tinit) + \"/g' \" + targetDir + \"/pre_run;\"  \n",
    "    run.executeCommand(cmd)\n",
    "            \n",
    "def make_PAR_FILE(par, nProcs):\n",
    "    par.substitute(\"# BEGIN MESH #\",\"# BEGIN MESH \")\n",
    "    par.substitute(\"# END MESH #\",\"END MESH #\")\n",
    "    par.substitute(\"# BEGIN SCATTER\",\"# BEGIN SCATTER #\")\n",
    "    par.substitute(\"END SCATTER #\",\"# END SCATTER #\")\n",
    "    header = \"PARALLEL ONLY \" + str(nProcs)\n",
    "    par.substitute(\"PARALLEL NOT\", header)    \n",
    "            \n",
    "run.initBuildDirectory()\n",
    "\n",
    "# running reference computation\n",
    "run.executeScript(\"run_full_computation\") \n",
    "\n",
    "baseDir = \"CHECKPOINT_RESTART/\" \n",
    "for checkpoint in [\"sauvegarde\", \"sauvegarde_simple\"] : \n",
    "    for restart in [\"reprise\", \"resume_last_time\"] :\n",
    "        # sequential test case\n",
    "        nProcs = 1\n",
    "        targetDir = baseDir + \"SEQ\" + restart + \"_from_\" + \"SEQ\" + checkpoint\n",
    "        templates = {\"checkpoint_restart\": restart, \"PARALLEL_HEADER_\": \"PARALLEL NOT\"}\n",
    "        seq = run.addCaseFromTemplate(\"sauvegarde_reprise.data\",targetDirectory=targetDir,dic=templates)          \n",
    "        prepare_pre_run(targetDir, nProcs, checkpoint, restart)\n",
    "        \n",
    "        # parallel test case (not using partition() method as I want a pure parallel test case, not to generate a parallel file in addition to the sequential one)\n",
    "        nProcs = 2\n",
    "        targetDir = baseDir + \"PAR\" + restart + \"_from_\" + \"PAR\" + checkpoint\n",
    "        par = seq.copy(\"sauvegarde_reprise.data\", targetDirectory=targetDir, nbProcs=nProcs)\n",
    "        make_PAR_FILE(par, nProcs)\n",
    "        run.addCase(par)\n",
    "        prepare_pre_run(targetDir, nProcs, checkpoint, restart)\n",
    "            \n",
    "run.printCases()\n",
    "run.runCases(preventConcurrent=True)"
   ]
  },
  {
   "cell_type": "markdown",
   "id": "e6c2c033-3d3d-40dd-9853-7ac2384d69d1",
   "metadata": {},
   "source": [
    "## Backup file in HDF5 format\n",
    "We check that we can resume a calculation with an hdf5 backup file"
   ]
  },
  {
   "cell_type": "markdown",
   "id": "a75037eb-7e2c-42c0-9844-b0359e4fae71",
   "metadata": {},
   "source": [
    "###  Use of the keywords ’sauvegarde’ and ’reprise’\n",
    "\n",
    "Comparison of channel flow rate between a full calculation and a resumed calculation. \n",
    "\n",
    "The results of the resumed calculation must fully overlapped those of the full calculation (here, for the sequential computation, the second half of the computation takes place a little before the end of the first half). "
   ]
  },
  {
   "cell_type": "code",
   "execution_count": null,
   "id": "fef6f591-bf74-4779-841f-41224b6753b4",
   "metadata": {
    "tags": []
   },
   "outputs": [],
   "source": [
    "from trustutils.jupyter import plot\n",
    "\n",
    "a = plot.Graph(\"test Keywords\", size=[15,8])\n",
    "\n",
    "x = plot.loadText(\"CHECKPOINT_RESTART/REF/ref_Channel_Flow_Rate_pb_periox\")\n",
    "a.add(x[0],x[1],marker=\"r-|\",label=\"Full calculation\",linewidth=2)\n",
    "\n",
    "x = plot.loadText(\"CHECKPOINT_RESTART/SEQreprise_from_SEQsauvegarde/backup_Channel_Flow_Rate_pb_periox\")\n",
    "a.add(x[0],x[1],marker=\"b-x\",label=\"First half of the calculation\")\n",
    "\n",
    "x = plot.loadText(\"CHECKPOINT_RESTART/SEQreprise_from_SEQsauvegarde/sauvegarde_reprise_Channel_Flow_Rate_pb_periox\")\n",
    "a.add(x[0],x[1],marker=\"g-*\",label=\"Second half of the calculation\")\n",
    "\n",
    "x = plot.loadText(\"CHECKPOINT_RESTART/PARreprise_from_PARsauvegarde/backup_Channel_Flow_Rate_pb_periox\")\n",
    "a.add(x[0],x[1],marker=\"y-x\",label=\"Parallel first half of the calculation\")\n",
    "\n",
    "x = plot.loadText(\"CHECKPOINT_RESTART/PARreprise_from_PARsauvegarde/sauvegarde_reprise_Channel_Flow_Rate_pb_periox\")\n",
    "a.add(x[0],x[1],marker=\"k-*\",label=\"Parallel second half of the calculation\")\n",
    "\n",
    "a.label(\"Time\",\"Flow Rate\")\n",
    "\n",
    "a.visu()"
   ]
  },
  {
   "cell_type": "markdown",
   "id": "56d98a14-21bd-49e9-864c-cfe735c83c19",
   "metadata": {},
   "source": [
    "###  Use of the keywords ’sauvegarde’ and ’resume_last_time’\n",
    "\n",
    "Comparison of channel flow rate between a full calculation and a resumed calculation. \n",
    "\n",
    "The results of the resumed calculation must overlapped those of the full calculation."
   ]
  },
  {
   "cell_type": "code",
   "execution_count": null,
   "id": "dc6e61ad-a4a5-4f36-a074-3c274a2d2873",
   "metadata": {},
   "outputs": [],
   "source": [
    "from trustutils.jupyter import plot\n",
    "\n",
    "a = plot.Graph(\"test Keywords\", size=[15,8])\n",
    "\n",
    "x = plot.loadText(\"CHECKPOINT_RESTART/REF/ref_Channel_Flow_Rate_pb_periox\")\n",
    "a.add(x[0],x[1],marker=\"r-|\",label=\"Full calculation\",linewidth=2)\n",
    "\n",
    "x = plot.loadText(\"CHECKPOINT_RESTART/SEQresume_last_time_from_SEQsauvegarde/backup_Channel_Flow_Rate_pb_periox\")\n",
    "a.add(x[0],x[1],marker=\"b-x\",label=\"First half of the calculation\")\n",
    "\n",
    "x = plot.loadText(\"CHECKPOINT_RESTART/SEQresume_last_time_from_SEQsauvegarde/sauvegarde_reprise_Channel_Flow_Rate_pb_periox\")\n",
    "a.add(x[0],x[1],marker=\"g-*\",label=\"Second half of the calculation\")\n",
    "\n",
    "x = plot.loadText(\"CHECKPOINT_RESTART/PARresume_last_time_from_PARsauvegarde/backup_Channel_Flow_Rate_pb_periox\")\n",
    "a.add(x[0],x[1],marker=\"y-x\",label=\"Parallel first half of the calculation\")\n",
    "\n",
    "x = plot.loadText(\"CHECKPOINT_RESTART/PARresume_last_time_from_PARsauvegarde/sauvegarde_reprise_Channel_Flow_Rate_pb_periox\")\n",
    "a.add(x[0],x[1],marker=\"k-*\",label=\"Parallel second half of the calculation\")\n",
    "\n",
    "\n",
    "a.label(\"Time\",\"Flow Rate\")\n",
    "\n",
    "a.visu()"
   ]
  },
  {
   "cell_type": "markdown",
   "id": "d934ebe6",
   "metadata": {},
   "source": [
    "###  Use of the keywords ’sauvegarde_simple’ and ’reprise’\n",
    "\n",
    "Comparison of channel flow rate between a full calculation and a resumed calculation. \n",
    "\n",
    "The results of the resumed calculation must overlapped those of the full calculation."
   ]
  },
  {
   "cell_type": "code",
   "execution_count": null,
   "id": "da17f2e8",
   "metadata": {},
   "outputs": [],
   "source": [
    "from trustutils.jupyter import plot\n",
    "\n",
    "a = plot.Graph(\"test Keywords\", size=[15,8])\n",
    "\n",
    "x = plot.loadText(\"CHECKPOINT_RESTART/REF/ref_Channel_Flow_Rate_pb_periox\")\n",
    "a.add(x[0],x[1],marker=\"r-|\",label=\"Full calculation\",linewidth=2)\n",
    "\n",
    "x = plot.loadText(\"CHECKPOINT_RESTART/SEQreprise_from_SEQsauvegarde_simple/backup_Channel_Flow_Rate_pb_periox\")\n",
    "a.add(x[0],x[1],marker=\"b-x\",label=\"First half of the calculation\")\n",
    "\n",
    "x = plot.loadText(\"CHECKPOINT_RESTART/SEQreprise_from_SEQsauvegarde_simple/sauvegarde_reprise_Channel_Flow_Rate_pb_periox\")\n",
    "a.add(x[0],x[1],marker=\"g-*\",label=\"Second half of the calculation\")\n",
    "\n",
    "x = plot.loadText(\"CHECKPOINT_RESTART/PARreprise_from_PARsauvegarde_simple/backup_Channel_Flow_Rate_pb_periox\")\n",
    "a.add(x[0],x[1],marker=\"y-x\",label=\"Parallel first half of the calculation\")\n",
    "\n",
    "x = plot.loadText(\"CHECKPOINT_RESTART/PARreprise_from_PARsauvegarde_simple/sauvegarde_reprise_Channel_Flow_Rate_pb_periox\")\n",
    "a.add(x[0],x[1],marker=\"k-*\",label=\"Parallel second half of the calculation\")\n",
    "\n",
    "a.label(\"Time\",\"Flow Rate\")\n",
    "\n",
    "a.visu()"
   ]
  },
  {
   "cell_type": "markdown",
   "id": "bf469329",
   "metadata": {},
   "source": [
    "###  Use of the keywords ’sauvegarde_simple’ and ’resume_last_time’\n",
    "\n",
    "Comparison of channel flow rate between a full calculation and a resumed calculation. \n",
    "\n",
    "The results of the resumed calculation must overlapped those of the full calculation."
   ]
  },
  {
   "cell_type": "code",
   "execution_count": null,
   "id": "1829d02b",
   "metadata": {},
   "outputs": [],
   "source": [
    "from trustutils.jupyter import plot\n",
    "\n",
    "a = plot.Graph(\"test Keywords\", size=[15,8])\n",
    "\n",
    "x = plot.loadText(\"CHECKPOINT_RESTART/REF/ref_Channel_Flow_Rate_pb_periox\")\n",
    "a.add(x[0],x[1],marker=\"r-|\",label=\"Full calculation\",linewidth=2)\n",
    "\n",
    "x = plot.loadText(\"CHECKPOINT_RESTART/SEQresume_last_time_from_SEQsauvegarde_simple/backup_Channel_Flow_Rate_pb_periox\")\n",
    "a.add(x[0],x[1],marker=\"b-x\",label=\"First half of the calculation\")\n",
    "\n",
    "x = plot.loadText(\"CHECKPOINT_RESTART/SEQresume_last_time_from_SEQsauvegarde_simple/sauvegarde_reprise_Channel_Flow_Rate_pb_periox\")\n",
    "a.add(x[0],x[1],marker=\"g-*\",label=\"Second half of the calculation\")\n",
    "\n",
    "x = plot.loadText(\"CHECKPOINT_RESTART/PARresume_last_time_from_PARsauvegarde_simple/backup_Channel_Flow_Rate_pb_periox\")\n",
    "a.add(x[0],x[1],marker=\"y-x\",label=\"Parallel first half of the calculation\")\n",
    "\n",
    "x = plot.loadText(\"CHECKPOINT_RESTART/PARresume_last_time_from_PARsauvegarde_simple/sauvegarde_reprise_Channel_Flow_Rate_pb_periox\")\n",
    "a.add(x[0],x[1],marker=\"k-*\",label=\"Parallel second half of the calculation\")\n",
    "\n",
    "a.label(\"Time\",\"Flow Rate\")\n",
    "\n",
    "a.visu()"
   ]
  },
  {
   "cell_type": "code",
   "execution_count": null,
   "id": "922302ca",
   "metadata": {},
   "outputs": [],
   "source": []
  },
  {
   "cell_type": "code",
   "execution_count": null,
   "id": "57f41f82",
   "metadata": {},
   "outputs": [],
   "source": []
  }
 ],
 "metadata": {
  "kernelspec": {
   "display_name": "Python 3 (ipykernel)",
   "language": "python",
   "name": "python3"
  },
  "language_info": {
   "codemirror_mode": {
    "name": "ipython",
    "version": 3
   },
   "file_extension": ".py",
   "mimetype": "text/x-python",
   "name": "python",
   "nbconvert_exporter": "python",
   "pygments_lexer": "ipython3",
   "version": "3.12.5"
  }
 },
 "nbformat": 4,
 "nbformat_minor": 5
}
