{
 "cells": [
  {
   "cell_type": "markdown",
   "id": "boolean-earth",
   "metadata": {},
   "source": [
    "# Test Case for Implementing a Diffusion Operator Coupling Field Components\n",
    "### Objective\n",
    "We aim to implement a VDF discretization of a diffusion operator coupling the components of a field:\n",
    "$$\n",
    "\\nabla\\cdot(D(\\mathbf{x})\\nabla\\phi(\\mathbf{x})),\n",
    "$$\n",
    "where the component $a$ is given by:\n",
    "$$\n",
    "\\sum_{i=1}^d\\sum_{b=1}^{N}\\partial_i(D_{ab}(\\mathbf{x})\\partial_i\\phi_b(\\mathbf{x})),\n",
    "$$\n",
    "where $N$ is the number of components and $d$ is the dimension of the space.\n",
    "\n",
    "An appropriate test would be solving the equation:\n",
    "$$\n",
    "-\\nabla\\cdot(D\\nabla\\phi)=S\n",
    "$$\n",
    "in a simple case which has an analytical solution.\n",
    "\n",
    "### Test for uniform diffusion coefficients\n",
    "We could consider the following cases where:\n",
    "- the domain of resolution is $\\Omega=[-1,1]^d$, and we impose the boundary condition:\n",
    "  $$\n",
    "  \\phi=0 \\quad \\text{on} \\quad \\partial\\Omega;\n",
    "  $$\n",
    "- $D$ is uniform and invertible;\n",
    "- $S=DS'$ with\n",
    "  $$\n",
    "  S'_a = \\prod_{i=1}^d\\sin(\\pi k_ax_i),\n",
    "  $$\n",
    "  where the $k_a \\in \\mathbb{N}^*$.\n",
    "\n",
    "In this case, by multiplying the equation $\\nabla\\cdot(D\\nabla\\phi)=S$ by $D^{-1}$, we find that it is equivalent to a system of decoupled Poisson equations:\n",
    "$$\n",
    "\\Delta\\phi_a=-S'_a.\n",
    "$$\n",
    "It is known that with the boundary condition there is a unique solution for each Poisson equation, and thus a unique solution of the system. The form of the sources was chosen so that the solution is evident:\n",
    "$$\n",
    "\\phi_a = \\frac{S'_a}{d\\pi^2k_a^2}.\n",
    "$$"
   ]
  },
  {
   "cell_type": "code",
   "execution_count": null,
   "id": "557b143b",
   "metadata": {},
   "outputs": [],
   "source": [
    "from trustutils import run\n",
    "\n",
    "run.introduction(\"Yannick Gorsse, Ayoub Ouazzani\")\n",
    "run.TRUST_parameters()\n",
    "run.reset()"
   ]
  },
  {
   "cell_type": "markdown",
   "id": "de9ce8f2",
   "metadata": {},
   "source": [
    "### Test case\n",
    "\n",
    "Takes about 10s for default parameters."
   ]
  },
  {
   "cell_type": "code",
   "execution_count": null,
   "id": "0d892a56",
   "metadata": {},
   "outputs": [],
   "source": [
    "import numpy as np\n",
    "\n",
    "##### PARAMETERS #####\n",
    "# space_dim = 2\n",
    "nb_comp = 3\n",
    "nb_nodes = 100\n",
    "seuil_statio = 1e-3\n",
    "\n",
    "# diffusion matrix\n",
    "diagD = 1.0\n",
    "nondiagD = 0.1\n",
    "D = diagD * np.identity(nb_comp) + nondiagD * (np.ones((nb_comp, nb_comp)) - np.identity(nb_comp))\n",
    "\n",
    "# time scheme\n",
    "implicit = True\n",
    "#####################\n",
    "\n",
    "Dl = list(np.resize(D, (np.size(D),)))\n",
    "\n",
    "sch = \"sch_e\"\n",
    "if implicit:\n",
    "    sch = \"sch_i\"\n",
    "\n",
    "kv = [1 + i for i in range(nb_comp)]\n",
    "x = (\"x\", \"y\")\n",
    "\n",
    "source = str(nb_comp) + \" \"\n",
    "sol = str(nb_comp) + \" \"\n",
    "Sp = []\n",
    "for a in range(nb_comp):\n",
    "    Sap = \"*\".join([f\"sin(pi*{kv[a]}*{xj})\" for xj in x])\n",
    "    Sp.append(Sap)\n",
    "    sol += Sap + f\"/2/pi/pi/{kv[a]}/{kv[a]} \"\n",
    "for a in range(nb_comp):\n",
    "    source += \"+\".join([f\"{D[a,b]}*\" + Sp[b] for b in range(nb_comp)]) + \" \"\n",
    "\n",
    "himp = np.identity(nb_comp)\n",
    "himp *= 1e10\n",
    "flattened_list = himp.flatten().tolist()\n",
    "\n",
    "subs = {\n",
    "    \"nb_nodes\": nb_nodes,\n",
    "    \"sch\": sch,\n",
    "    \"seuil_statio\": seuil_statio,\n",
    "    \"Dcoeff\": \" \".join(map(str, [len(Dl)] + Dl)),\n",
    "    \"cond_init\": \" \".join(map(str, [nb_comp] + [0] * nb_comp)),\n",
    "    \"cond_lim\": \" \".join(map(str, [nb_comp] + [0] * nb_comp)),\n",
    "    \"h_imp\": \" \".join(map(str, [len(Dl)] + flattened_list)),\n",
    "    \"source\": source,\n",
    "    \"sol\": sol,\n",
    "}\n",
    "\n",
    "run.addCaseFromTemplate(\"jdd.data\", \"results\", subs)\n",
    "\n",
    "run.runCases()"
   ]
  },
  {
   "cell_type": "markdown",
   "id": "8a704d0f",
   "metadata": {},
   "source": [
    "### Plot of comparison to exact solution \n",
    "\n"
   ]
  },
  {
   "cell_type": "code",
   "execution_count": null,
   "id": "f027b633",
   "metadata": {},
   "outputs": [],
   "source": [
    "from trustutils import plot\n",
    "import matplotlib.colors as mcolors\n",
    "# c = list(mcolors.TABLEAU_COLORS.keys())\n",
    "\n",
    "for i in range(nb_comp):\n",
    "    a = plot.Graph()\n",
    "    a.addSegment(f\"{run.BUILD_DIRECTORY}/results/jdd_CONCENTRATION.son\", label=\"Numerical\", compo=i)\n",
    "    a.addSegment(f\"{run.BUILD_DIRECTORY}/results/jdd_CONCENTRATION_EX.son\", label=\"Exact\", compo=i)"
   ]
  }
 ],
 "metadata": {
  "kernelspec": {
   "display_name": "Python 3",
   "language": "python",
   "name": "python3"
  },
  "language_info": {
   "codemirror_mode": {
    "name": "ipython",
    "version": 3
   },
   "file_extension": ".py",
   "mimetype": "text/x-python",
   "name": "python",
   "nbconvert_exporter": "python",
   "pygments_lexer": "ipython3",
   "version": "3.12.7"
  }
 },
 "nbformat": 4,
 "nbformat_minor": 5
}
