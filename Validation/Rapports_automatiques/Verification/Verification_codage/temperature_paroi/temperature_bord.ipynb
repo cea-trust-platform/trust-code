{
 "cells": [
  {
   "cell_type": "markdown",
   "id": "inappropriate-lingerie",
   "metadata": {},
   "source": [
    "# Verification de l'implementation du chmp temperature_paroi"
   ]
  },
  {
   "cell_type": "code",
   "execution_count": null,
   "id": "d4dd1082",
   "metadata": {},
   "outputs": [],
   "source": [
    "from trustutils import run\n",
    "import numpy as np\n",
    "\n",
    "run.introduction(\"Elie Saikali & Yannick Gorsse\")\n",
    "\n",
    "run.TRUST_parameters()\n",
    "run.reset()\n",
    "\n",
    "dis = {\"VDF\" : (\"\", \"9 9 9\"), \"VEF\" : (\"tetraedriser_homogene dom\", \"5 5 5\")}\n",
    "\n",
    "nb_proc = 1\n",
    "\n",
    "par = \"\" if nb_proc == 1 else \"PAR_\"\n",
    "for d, (mesh, nb) in dis.items():\n",
    "    tc = run.addCaseFromTemplate(f\"jdd.data\", f\"{d}\", {\"dis\" : d, \"mesh\" : mesh, \"Nb\" : nb}, nb_proc)\n",
    "    if nb_proc > 1: tc.partition()\n",
    "\n",
    "run.printCases()\n",
    "run.runCases()\n",
    "run.tablePerf()"
   ]
  },
  {
   "cell_type": "code",
   "execution_count": null,
   "id": "3df67755",
   "metadata": {},
   "outputs": [],
   "source": [
    "from trustutils import plot\n",
    "\n",
    "a = plot.Graph()\n",
    "for d in dis:\n",
    "    a.addResidu(f\"{run.BUILD_DIRECTORY}/{d}/{par}jdd.dt_ev\", label=d)\n",
    "\n",
    "a.scale(yscale=\"log\")"
   ]
  },
  {
   "cell_type": "code",
   "execution_count": null,
   "id": "4e171b8a",
   "metadata": {},
   "outputs": [],
   "source": [
    "bcs = {\"gauche\" : \"paroi_flux_impose\",\n",
    "        \"droite\": \"echange_externe_radiatif\", \n",
    "        \"avant\": \"paroi_adiabatique\",\n",
    "          \"arriere\": \"paroi_temperature_imposee\", \n",
    "          \"bas\": \"paroi_echange_externe_impose\", \n",
    "          \"haut\": \"paroi_echange_global_impose\"}\n",
    "\n",
    "for bc, bc_type in bcs.items():\n",
    "    a = plot.Graph(f\"{bc} - {bc_type}\")\n",
    "    for d in dis:\n",
    "       a.addSegment(f\"{run.BUILD_DIRECTORY}/{d}/{par}jdd_T_{bc.upper()}.son\", label=d, marker=\"o\" if d ==\"VDF\" else \"-\")\n",
    "    \n",
    "    plot.plt.xlim(0.15, 0.85)"
   ]
  }
 ],
 "metadata": {
  "kernelspec": {
   "display_name": "base",
   "language": "python",
   "name": "python3"
  },
  "language_info": {
   "codemirror_mode": {
    "name": "ipython",
    "version": 3
   },
   "file_extension": ".py",
   "mimetype": "text/x-python",
   "name": "python",
   "nbconvert_exporter": "python",
   "pygments_lexer": "ipython3",
   "version": "3.12.7"
  }
 },
 "nbformat": 4,
 "nbformat_minor": 5
}
