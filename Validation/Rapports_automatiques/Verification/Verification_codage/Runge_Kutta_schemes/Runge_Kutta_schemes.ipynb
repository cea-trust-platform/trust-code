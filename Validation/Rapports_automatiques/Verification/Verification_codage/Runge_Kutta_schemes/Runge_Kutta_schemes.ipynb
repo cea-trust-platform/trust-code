{
 "cells": [
  {
   "cell_type": "markdown",
   "id": "inappropriate-lingerie",
   "metadata": {},
   "source": [
    "# Explicit time schemes convergence order"
   ]
  },
  {
   "cell_type": "code",
   "execution_count": null,
   "id": "6f95d420",
   "metadata": {},
   "outputs": [],
   "source": [
    "from trustutils import run\n",
    "\n",
    "run.introduction(\"Elie Saikali and Yannick Gorsse.\",\"29/04/2022\")"
   ]
  },
  {
   "cell_type": "markdown",
   "id": "imperial-shield",
   "metadata": {},
   "source": [
    "# Description\n",
    "\n",
    "We consider a classical 2D VDF conduction problem and we look to the order of convergence of 8 implemented Runge-Kutta schemes (low storage, rational and classical methods : RK2, RK2_classique, RRK2, RK3, RK3_classique, RK4, RK4_classique, RK4_classique_3_8), the two Adam Bashforth schemes and the Euler one. For each times scheme, we consider 5 calculations where the time step is fixed to 1, 0.1, 0.01, 0.001 and 0.0001 seconds respectively.\n",
    "\n",
    "\n",
    "# Validation case\n",
    "\n",
    "We consider a 1m x 1m domain with one cell, three symetrical bds and one Echange global at the top.\n",
    "```\n",
    "            Echange global\n",
    "         +-------------------+\n",
    "         |                   |\n",
    "         |                   |\n",
    "     Sym |                   | Sym\n",
    "         |                   |\n",
    "         |                   |\n",
    "         +-------------------+\n",
    "                  Sym\n",
    "```\n",
    "\n",
    "Assuming $\\rho = cp = 1$.\n",
    "\n",
    "$$\n",
    "\\int_{\\Omega} \\frac{\\partial T}{\\partial t} dv = - \\int_{\\Omega} D(\\lambda , DT) dv\n",
    "$$\n",
    "\n",
    "$$\n",
    "\\frac{\\partial T_i}{\\partial t} = - \\varepsilon \\sum_{f} S_f (\\lambda , DT)\n",
    "$$\n",
    "\n",
    "Expanding, we get:\n",
    "\n",
    "$$\n",
    "= 0 + 0 + 0 - h (T_i - T_{ext})\n",
    "$$\n",
    "\n",
    "Given $h=1$\n",
    "\n",
    "Solving\n",
    "\n",
    "$$\n",
    "\\frac{\\partial T_i}{\\partial t} + T_i = T_{ext}\n",
    "$$\n",
    "\n",
    "For a solution, let:\n",
    "\n",
    "$$\n",
    "T_i = C \\Rightarrow C = T_{ext}\n",
    "$$\n",
    "\n",
    "General Solution\n",
    "\n",
    "$$\n",
    "T_i = K e^{-t} + T_{ext}\n",
    "$$\n",
    "\n",
    "When $t = 0$, then $100 = K + 50 \\Rightarrow K = 50 = T_{ext}$.\n",
    "\n",
    "So,\n",
    "\n",
    "$$\n",
    "T_i = T_{ext} e^{-t} + T_{ext}\n",
    "$$\n",
    "\n"
   ]
  },
  {
   "cell_type": "code",
   "execution_count": null,
   "id": "50e8ea4f",
   "metadata": {},
   "outputs": [],
   "source": [
    "run.TRUST_parameters(\"1.9.0\")"
   ]
  },
  {
   "cell_type": "code",
   "execution_count": null,
   "id": "0868e968-9777-4954-80f4-46b58fe1b126",
   "metadata": {
    "tags": []
   },
   "outputs": [],
   "source": [
    "from trustutils import run \n",
    "\n",
    "run.reset()\n",
    "\n",
    "schemes = [\n",
    "            (\"RK2\", \"runge_kutta_ordre_2\"), \n",
    "            (\"RK2_Classique\", \"runge_kutta_ordre_2_classique\"), \n",
    "            (\"RRK2\", \"runge_kutta_Rationnel_ordre_2\"), \n",
    "            (\"RK3\", \"runge_kutta_ordre_3\"), \n",
    "            (\"RK3_Classique\", \"runge_kutta_ordre_3_classique\"),\n",
    "            (\"RK4\", \"runge_kutta_ordre_4\"),\n",
    "            (\"RK4_Classique\", \"runge_kutta_ordre_4_classique\"), \n",
    "            (\"RK4_Classique_3_8\", \"runge_kutta_ordre_4_classique_3_8\"),\n",
    "            (\"Euler\", \"schema_euler_explicite\") , \n",
    "            (\"AB2\", \"schema_adams_bashforth_order_2\") ,\n",
    "            (\"AB3\", \"schema_adams_bashforth_order_3\")\n",
    "        ]\n",
    "\n",
    "dt = [(\"1\", \"1.e0\"),(\"1e_1\", \"1.e-1\"), (\"1e_2\", \"1.e-2\"), (\"1e_3\", \"1.e-3\"), (\"1e_4\", \"1.e-4\")]\n",
    "\n",
    "for i, sch in schemes:\n",
    "    for j, dtmax in dt:\n",
    "        run.addCaseFromTemplate(\"jdd.data\", f\"{i}/{j}\", {\"dtmax\" : dtmax, \"sch\" : sch})\n",
    "\n",
    "run.printCases()\n",
    "run.runCases()\n",
    "run.tablePerf()"
   ]
  },
  {
   "cell_type": "code",
   "execution_count": null,
   "id": "7427b590",
   "metadata": {},
   "outputs": [],
   "source": [
    "run.executeScript(\"get_erreur\")"
   ]
  },
  {
   "cell_type": "markdown",
   "id": "ecef45dc",
   "metadata": {},
   "source": [
    "# Convergence"
   ]
  },
  {
   "cell_type": "code",
   "execution_count": null,
   "id": "3752bf5a",
   "metadata": {},
   "outputs": [],
   "source": [
    "from trustutils import plot\n",
    "import numpy as np\n",
    "time_steps = [float(value) for _, value in dt]\n",
    "x = np.linspace(0.0001,1,100)\n",
    "\n",
    "a = plot.Graph(label_size=16, title_size=24, legend_size=14, nY=2)\n",
    "a.addPlot(0,f\"Convergence order 1\")\n",
    "Eul = plot.loadText(\"erreur_Euler\")\n",
    "a.add(time_steps,Eul,label=\"Euler\",marker='-o')\n",
    "y = x*5\n",
    "a.add(x,y,label=\"ordre 1\", marker='--')\n",
    "a.label(\"dt\",\"erreur\")\n",
    "a.scale(xscale='log',yscale='log')\n",
    "\n",
    "a.addPlot(1,f\"Convergence order 2\")\n",
    "RK2 = plot.loadText(\"erreur_RK2\")\n",
    "RK2C = plot.loadText(\"erreur_RK2_Classique\")\n",
    "RRK2 = plot.loadText(\"erreur_RRK2\")\n",
    "AB2 = plot.loadText(\"erreur_AB2\")\n",
    "a.add(time_steps,RK2,label=\"RK2\",marker='-o')\n",
    "a.add(time_steps,RK2C,label=\"RK2_Classique\",marker='-x')\n",
    "a.add(time_steps,RRK2,label=\"RRK2\",marker='-*')\n",
    "a.add(time_steps,AB2,label=\"AB2\",marker='-s')\n",
    "y = x*x*1\n",
    "a.add(x,y,label=\"ordre 2\", marker='--')\n",
    "a.label(\"dt\",\"erreur\")\n",
    "a.scale(xscale='log',yscale='log')\n",
    "\n",
    "a = plot.Graph(label_size=16, title_size=24, legend_size=14, nY=2)\n",
    "a.addPlot(0,f\"Convergence order 3\")\n",
    "RK3 = plot.loadText(\"erreur_RK3\")\n",
    "RK3C = plot.loadText(\"erreur_RK3_Classique\")\n",
    "AB3 = plot.loadText(\"erreur_AB3\")\n",
    "a.add(time_steps,RK3,label=\"RK3\",marker='-o')\n",
    "a.add(time_steps,RK3C,label=\"RK3_Classique\",marker='-x')\n",
    "a.add(time_steps,AB3,label=\"AB3\",marker='-s')\n",
    "y = x*x*10\n",
    "a.add(x,y,label=\"ordre 2\", marker='--')\n",
    "y = x*x*x*0.5\n",
    "a.add(x,y,label=\"ordre 3\", marker='--')\n",
    "a.label(\"dt\",\"erreur\")\n",
    "a.scale(xscale='log',yscale='log')\n",
    "\n",
    "a.addPlot(1,f\"Convergence order 4\")\n",
    "RK4 = plot.loadText(\"erreur_RK4\")\n",
    "RK4C = plot.loadText(\"erreur_RK4_Classique\")\n",
    "RK4C38 = plot.loadText(\"erreur_RK4_Classique_3_8\")\n",
    "a.add(time_steps,RK4,label=\"RK4\",marker='-o')\n",
    "a.add(time_steps,RK4C,label=\"RK4_Classique\",marker='-x')\n",
    "a.add(time_steps,RK4C38,label=\"RK4_Classique_3_8\",marker='-*')\n",
    "y = x*x*1\n",
    "a.add(x,y,label=\"ordre 2\", marker='--')\n",
    "y = x*x*x*x*0.1\n",
    "a.add(x,y,label=\"ordre 4\", marker='--')\n",
    "a.label(\"dt\",\"erreur\")\n",
    "a.scale(xscale='log',yscale='log')"
   ]
  },
  {
   "cell_type": "markdown",
   "id": "2549067e",
   "metadata": {},
   "source": [
    "We note that the order of convergence is the same as the order of the schemes except for Adams Bashforth 3 and Low storage Runge-Kutta 4 where is order is only 2."
   ]
  },
  {
   "cell_type": "markdown",
   "metadata": {},
   "source": []
  }
 ],
 "metadata": {
  "kernelspec": {
   "display_name": "base",
   "language": "python",
   "name": "python3"
  },
  "language_info": {
   "codemirror_mode": {
    "name": "ipython",
    "version": 3
   },
   "file_extension": ".py",
   "mimetype": "text/x-python",
   "name": "python",
   "nbconvert_exporter": "python",
   "pygments_lexer": "ipython3",
   "version": "3.12.7"
  }
 },
 "nbformat": 4,
 "nbformat_minor": 5
}
