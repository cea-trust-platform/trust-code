{
 "cells": [
  {
   "cell_type": "markdown",
   "id": "inappropriate-lingerie",
   "metadata": {},
   "source": [
    "# Explicit vs semi-implicit time integration schemes: Periodic channel test case"
   ]
  },
  {
   "cell_type": "code",
   "execution_count": null,
   "id": "810fa862",
   "metadata": {},
   "outputs": [],
   "source": [
    "from trustutils import run\n",
    "\n",
    "run.introduction(\"Elie Saikali\")\n",
    "\n",
    "run.TRUST_parameters(\"1.8.3\")"
   ]
  },
  {
   "cell_type": "markdown",
   "id": "b3c0f33a",
   "metadata": {},
   "source": [
    "### Description: \n",
    "\n",
    "This document aims at providing comparisons between explicit and semi-implicit (diffusion implicit) schemes. Three time integration schemes are examined: Rational Runge-Kutta (RRK2, second order), Adam-Bashforth (AB2, second order) and Runge-Kutta (RK3, third order). A periodic channel test case is investigated. The physical time of the simulation is 1 second (a turbulent transitional zone is well reached but the steady state solution not established). Space-averaged RMS profiles of all velocity components are used for comparisons (NOTE: space and not time RMS)."
   ]
  },
  {
   "cell_type": "code",
   "execution_count": null,
   "id": "0868e968-9777-4954-80f4-46b58fe1b126",
   "metadata": {
    "tags": []
   },
   "outputs": [],
   "source": [
    "from trustutils import run  \n",
    "\n",
    "for a in [\"RRK2\", \"RK3\", \"AB2\"]:\n",
    "    for b in [\"\", \"_2\", \"_impl\", \"_impl_2\"]:\n",
    "        run.addCase(\"%s%s\" % (a, b),\"Cas.data\")  \n",
    "\n",
    "run.printCases()\n",
    "run.runCases()"
   ]
  },
  {
   "cell_type": "markdown",
   "id": "e6c2c033-3d3d-40dd-9853-7ac2384d69d1",
   "metadata": {},
   "source": [
    "## Numerical setup\n",
    "\n",
    "The data file is almost the same in all the calculations (hydraulic problem, VDF discretization with a 2nd order center scheme for the space derivatives). Three parameters only change depending on the considered case: the time scheme, the diffusion_implicit flag and the fac_sec. The mesh used is depicted in figure 2.1. In total 12 simulations are performed. For each scheme we consider a pure explicit and a semi-implicit simulation. In each case we consider 2 fac_sec parameters. Table 2.2 summarizes the facsec values used in the 12 calculations.\n",
    "\n"
   ]
  },
  {
   "cell_type": "code",
   "execution_count": null,
   "id": "99cfbb88-a376-499f-b4e3-e7be34571270",
   "metadata": {},
   "outputs": [],
   "source": [
    "from trustutils import visit\n",
    "\n",
    "a = visit.Show(\"RK3/Cas.lata\",\"Mesh\",\"dom\")\n",
    "a.normal3D([-0.708227, 0.361609, 0.606344])\n",
    "a.up3D([0.322195, 0.929759, -0.178153])\n",
    "#a.rotation3D([20,60,-20])\n",
    "a.visuOptions([\"no_databaseinfo\",\"no_legend\"])\n",
    "a.plot()\n"
   ]
  },
  {
   "cell_type": "markdown",
   "id": "fbc380d8-b416-40a6-aff3-626088fe762e",
   "metadata": {},
   "source": [
    "### Fac_sec used in all calculations"
   ]
  },
  {
   "cell_type": "code",
   "execution_count": null,
   "id": "9159ba2f-604c-477b-9b5e-65ec5e8ef290",
   "metadata": {},
   "outputs": [],
   "source": [
    "from trustutils import plot\n",
    "\n",
    "Tableau=plot.Table([\"facsec\",\"Result\"])\n",
    "Tableau.addLine([[1.4,\"OK\"]],r\"RRK2\")\n",
    "Tableau.addLine([[1.4,\"NO\"]],r\"RRK2_impl\")\n",
    "Tableau.addLine([[0.8,\"NO\"]],r\"AB2\")\n",
    "Tableau.addLine([[0.7,\"NO\"]],r\"AB2_impl\")\n",
    "Tableau.addLine([[1.8,\"OK\"]],r\"RK3\")\n",
    "Tableau.addLine([[1.8,\"NO\"]],r\"RK3_impl\")\n",
    "\n",
    "Tableau.addLine([[0.7,\"Improved\"]],r\"RRK2_2\")\n",
    "Tableau.addLine([[0.7,\"OK\"]],r\"RRK2_impl_2\")\n",
    "Tableau.addLine([[0.4,\"OK\"]],r\"AB2_2\")\n",
    "Tableau.addLine([[0.4,\"OK\"]],r\"AB2_impl_2\")\n",
    "Tableau.addLine([[0.9,\"Improved\"]],r\"RK3_2\")\n",
    "Tableau.addLine([[0.9,\"OK\"]],r\"RK3_impl_2\")\n",
    "\n",
    "\n",
    "display(Tableau)"
   ]
  },
  {
   "cell_type": "markdown",
   "id": "4616744c-7d37-4fe8-b4d5-e2767d7349fa",
   "metadata": {},
   "source": [
    "## RMS ux  comparisons\n",
    "\n",
    "We consider first the space-avaraged vertical profiles of the uy RMS values obtained with 6 calculations (facsec 0.8 AB2, 1.4 for RRK2 and 1.8 for RK3). We see that the profiles obtained with RRK2 and AB2 disagree with the other profiles obtained by RK3 (figure 3.1). We divide the facsec value by half in all cases. As a result, coherent profiles are reported in all cases (figure 3.2). This result confirms that the stability and the precision of the employed scheme should be carefully analyzed. RRK2 with a high time step blocks the transitional zone and leads to small RMS values. AB2 requires a small time step to predict a precise transitional solution."
   ]
  },
  {
   "cell_type": "markdown",
   "id": "87ff0add",
   "metadata": {},
   "source": [
    "### Large facsec values: wrong results"
   ]
  },
  {
   "cell_type": "code",
   "execution_count": null,
   "id": "b6484591-bbad-4af2-b1da-62bde475d1c6",
   "metadata": {},
   "outputs": [],
   "source": [
    "a = plot.Graph(\"RMS $u_x$\")\n",
    "\n",
    "x = plot.loadText(\"RRK2/Moyennes_spatiales_vitesse_rho_mu_fin\")\n",
    "a.add(x[0],x[4],label='RRK2, facsec=1.4')\n",
    "a.label(\"Y [m]\",'RMS $u_x$')\n",
    "\n",
    "x = plot.loadText(\"RRK2_impl/Moyennes_spatiales_vitesse_rho_mu_fin\")\n",
    "a.add(x[0],x[4],label='RRK2_impl, facsec=1.4')\n",
    "\n",
    "x = plot.loadText(\"AB2/Moyennes_spatiales_vitesse_rho_mu_fin\")\n",
    "a.add(x[0],x[4],label='AB2, facsec=0.8')\n",
    "\n",
    "x = plot.loadText(\"AB2_impl/Moyennes_spatiales_vitesse_rho_mu_fin\")\n",
    "a.add(x[0],x[4],label='AB2_impl, facsec=0.7')\n",
    "\n",
    "x = plot.loadText(\"RK3/Moyennes_spatiales_vitesse_rho_mu_fin\")\n",
    "a.add(x[0],x[4],label='RK3, facsec=1.8')\n",
    "\n",
    "x = plot.loadText(\"RK3_impl/Moyennes_spatiales_vitesse_rho_mu_fin\")\n",
    "a.add(x[0],x[4],label='RK3_impl, facsec=1.8')\n",
    "\n",
    "a.legend(loc='upper center', bbox_to_anchor=(0.5, -0.1),\n",
    "          fancybox=True, shadow=True, ncol=3)"
   ]
  },
  {
   "cell_type": "markdown",
   "id": "43fd4474-c5ea-4c20-9f22-28bb01d3ff91",
   "metadata": {},
   "source": [
    "### Smaller facsec values : OK"
   ]
  },
  {
   "cell_type": "code",
   "execution_count": null,
   "id": "758deb60-c610-4589-925e-d5bf22310d66",
   "metadata": {},
   "outputs": [],
   "source": [
    "a = plot.Graph(\"RMS $u_x$\")\n",
    "\n",
    "x = plot.loadText(\"RRK2_2/Moyennes_spatiales_vitesse_rho_mu_fin\")\n",
    "a.add(x[0],x[4],label='RRK2_2, facsec=0.7')\n",
    "a.label(\"Y [m]\",'RMS $u_x$')\n",
    "\n",
    "x = plot.loadText(\"RRK2_impl_2/Moyennes_spatiales_vitesse_rho_mu_fin\")\n",
    "a.add(x[0],x[4],label='RRK2_impl_2, facsec=0.7')\n",
    "\n",
    "x = plot.loadText(\"AB2_2/Moyennes_spatiales_vitesse_rho_mu_fin\")\n",
    "a.add(x[0],x[4],label='AB2_2, facsec=0.4')\n",
    "\n",
    "x = plot.loadText(\"AB2_impl_2/Moyennes_spatiales_vitesse_rho_mu_fin\")\n",
    "a.add(x[0],x[4],label='AB2_impl_2, facsec=0.4')\n",
    "\n",
    "x = plot.loadText(\"RK3_2/Moyennes_spatiales_vitesse_rho_mu_fin\")\n",
    "a.add(x[0],x[4],label='RK3_2, facsec=0.9')\n",
    "\n",
    "x = plot.loadText(\"RK3_impl_2/Moyennes_spatiales_vitesse_rho_mu_fin\")\n",
    "a.add(x[0],x[4],label='RK3_impl_2, facsec=0.9')\n",
    "\n",
    "a.legend(loc='upper center', bbox_to_anchor=(0.5, -0.1),\n",
    "          fancybox=True, shadow=True, ncol=3)"
   ]
  },
  {
   "cell_type": "markdown",
   "id": "e3e0dbc2",
   "metadata": {},
   "source": [
    "### Comparisons for RK3 : facsec 1.8 vs 0.9"
   ]
  },
  {
   "cell_type": "markdown",
   "id": "51ac3d48",
   "metadata": {},
   "source": [
    "We compare the results obtained by RK3 for both facsecs (see figure 3.3). We see in particular that a lower facsec is required when the diffusion is implicited. This can be justified as follows: when the scheme is explicit, the time step is selected as that of the viscous one (its more dominant than the convective one). As a result, the scheme is able to capture the turbulent transition because the time step is sufficiently small. In the other case, when the diffusion is implicit, the time step is selected from that corresponding to the convective term. As a result, for a facsec of 1.8, the time step is not sufficiently small and the transitional behavior of the flow is not reproduced (see figure 3.4). We report the same behavior with RRK2 (figures 3.5 and 3.6)."
   ]
  },
  {
   "cell_type": "code",
   "execution_count": null,
   "id": "44ee8c54",
   "metadata": {},
   "outputs": [],
   "source": [
    "a = plot.Graph(\"RMS $u_x$\")\n",
    "\n",
    "x = plot.loadText(\"RK3/Moyennes_spatiales_vitesse_rho_mu_fin\")\n",
    "a.add(x[0],x[4],label='RK3, facsec=1.8')\n",
    "a.label(\"Y [m]\",'RMS $u_x$')\n",
    "\n",
    "\n",
    "x = plot.loadText(\"RK3_impl/Moyennes_spatiales_vitesse_rho_mu_fin\")\n",
    "a.add(x[0],x[4],label='RK3_impl, facsec=1.8')\n",
    "\n",
    "\n",
    "x = plot.loadText(\"RK3_2/Moyennes_spatiales_vitesse_rho_mu_fin\")\n",
    "a.add(x[0],x[4],label='RK3_2, facsec=0.9')\n",
    "\n",
    "x = plot.loadText(\"RK3_impl_2/Moyennes_spatiales_vitesse_rho_mu_fin\")\n",
    "a.add(x[0],x[4],label='RK3_impl_2, facsec=0.9')\n",
    "\n",
    "a.legend(loc='upper center', bbox_to_anchor=(0.5, -0.1),\n",
    "          fancybox=True, shadow=True, ncol=3)"
   ]
  },
  {
   "cell_type": "markdown",
   "id": "37293bea",
   "metadata": {},
   "source": [
    "### Comparisons for RK3 : dt explicit vs semi-implicit"
   ]
  },
  {
   "cell_type": "code",
   "execution_count": null,
   "id": "656e0990",
   "metadata": {},
   "outputs": [],
   "source": [
    "a = plot.Graph()\n",
    "\n",
    "x = plot.loadText(\"RK3/Cas.dt_ev\")\n",
    "a.add(x[0],x[1],label='RK3, facsec=1.8')\n",
    "a.label(\"t [s]\",'dt [s]')\n",
    "\n",
    "x = plot.loadText(\"RK3_impl/Cas.dt_ev\")\n",
    "a.add(x[0],x[1],label='RK3_impl, facsec=1.8')\n"
   ]
  },
  {
   "cell_type": "markdown",
   "id": "554463a9",
   "metadata": {},
   "source": [
    "### Comparisons for RK2 : facsec 1.4 vs 0.7"
   ]
  },
  {
   "cell_type": "code",
   "execution_count": null,
   "id": "e8082ddc",
   "metadata": {},
   "outputs": [],
   "source": [
    "a = plot.Graph(\"RMS $u_x$\")\n",
    "\n",
    "x = plot.loadText(\"RRK2/Moyennes_spatiales_vitesse_rho_mu_fin\")\n",
    "a.add(x[0],x[4],label='RRK2, facsec=1.4')\n",
    "a.label(\"Y [m]\",'RMS $u_x$')\n",
    "\n",
    "x = plot.loadText(\"RRK2_impl/Moyennes_spatiales_vitesse_rho_mu_fin\")\n",
    "a.add(x[0],x[4],label='RRK2_impl, facsec=1.4')\n",
    "\n",
    "\n",
    "x = plot.loadText(\"RRK2_2/Moyennes_spatiales_vitesse_rho_mu_fin\")\n",
    "a.add(x[0],x[4],label='RRK2_2, facsec=0.7')\n",
    "\n",
    "x = plot.loadText(\"RRK2_impl_2/Moyennes_spatiales_vitesse_rho_mu_fin\")\n",
    "a.add(x[0],x[4],label='RRK2_impl_2, facsec=0.7')\n",
    "\n",
    "a.legend(loc='upper center', bbox_to_anchor=(0.5, -0.1),\n",
    "          fancybox=True, shadow=True, ncol=3)"
   ]
  },
  {
   "cell_type": "markdown",
   "id": "eda888b6",
   "metadata": {},
   "source": [
    "### Comparisons for RK3 : dt explicit vs semi-implicit"
   ]
  },
  {
   "cell_type": "code",
   "execution_count": null,
   "id": "40c7ed6a",
   "metadata": {},
   "outputs": [],
   "source": [
    "a = plot.Graph()\n",
    "\n",
    "x = plot.loadText(\"RRK2/Cas.dt_ev\")\n",
    "a.add(x[0],x[1],label='RRK2, facsec=1.4')\n",
    "a.label(\"t [s]\", 'dt [s]')\n",
    "\n",
    "x = plot.loadText(\"RRK2_impl/Cas.dt_ev\")\n",
    "a.add(x[0],x[1],label='RRK2_impl, facsec=1.4')\n"
   ]
  },
  {
   "cell_type": "markdown",
   "id": "88271b7a",
   "metadata": {},
   "source": [
    "## RMS uy comparisons\n",
    "\n",
    "Same observation as before ... Here, we see also that large facsec values for RRK2 and RK3 with a semi-implicit option predict zero RMS (transitional zone is blocked with large dt values for same reason as stated before)!!! Improved results are obtained when the facsec is divided by 2. NOTE: a convergence and a sensitivity analysis should be done (not considered here). "
   ]
  },
  {
   "cell_type": "markdown",
   "id": "85ba1cfc",
   "metadata": {},
   "source": [
    "### Large facsec values: wrong results"
   ]
  },
  {
   "cell_type": "code",
   "execution_count": null,
   "id": "dc385b70",
   "metadata": {},
   "outputs": [],
   "source": [
    "a = plot.Graph(\"RMS $u_y$\")\n",
    "\n",
    "x = plot.loadText(\"RRK2/Moyennes_spatiales_vitesse_rho_mu_fin\")\n",
    "a.add(x[0],x[5],label='RRK2, facsec=1.4')\n",
    "a.label(\"Y [m]\",'RMS $u_y$')\n",
    "\n",
    "x = plot.loadText(\"RRK2_impl/Moyennes_spatiales_vitesse_rho_mu_fin\")\n",
    "a.add(x[0],x[5],marker='x',label='RRK2_impl, facsec=1.4')\n",
    "\n",
    "x = plot.loadText(\"AB2/Moyennes_spatiales_vitesse_rho_mu_fin\")\n",
    "a.add(x[0],x[5],label='AB2, facsec=0.8')\n",
    "\n",
    "x = plot.loadText(\"AB2_impl/Moyennes_spatiales_vitesse_rho_mu_fin\")\n",
    "a.add(x[0],x[5],label='AB2_impl, facsec=0.7')\n",
    "\n",
    "x = plot.loadText(\"RK3/Moyennes_spatiales_vitesse_rho_mu_fin\")\n",
    "a.add(x[0],x[5],label='RK3, facsec=1.8')\n",
    "\n",
    "x = plot.loadText(\"RK3_impl/Moyennes_spatiales_vitesse_rho_mu_fin\")\n",
    "a.add(x[0],x[5],marker='*',label='RK3_impl, facsec=1.8')\n",
    "\n",
    "a.legend(loc='upper center', bbox_to_anchor=(0.5, -0.1),\n",
    "          fancybox=True, shadow=True, ncol=3)"
   ]
  },
  {
   "cell_type": "markdown",
   "id": "a81b417f",
   "metadata": {},
   "source": [
    "### Smaller facsec values : OK"
   ]
  },
  {
   "cell_type": "code",
   "execution_count": null,
   "id": "76edddc8",
   "metadata": {},
   "outputs": [],
   "source": [
    "a = plot.Graph(\"RMS $u_y$\")\n",
    "\n",
    "x = plot.loadText(\"RRK2_2/Moyennes_spatiales_vitesse_rho_mu_fin\")\n",
    "a.add(x[0],x[5],label='RRK2_2, facsec=0.7')\n",
    "a.label(\"Y [m]\",'RMS $u_y$')\n",
    "\n",
    "x = plot.loadText(\"RRK2_impl_2/Moyennes_spatiales_vitesse_rho_mu_fin\")\n",
    "a.add(x[0],x[5],label='RRK2_impl_2, facsec=0.7')\n",
    "\n",
    "x = plot.loadText(\"AB2_2/Moyennes_spatiales_vitesse_rho_mu_fin\")\n",
    "a.add(x[0],x[5],label='AB2_2, facsec=0.4')\n",
    "\n",
    "x = plot.loadText(\"AB2_impl_2/Moyennes_spatiales_vitesse_rho_mu_fin\")\n",
    "a.add(x[0],x[5],label='AB2_impl_2, facsec=0.4')\n",
    "\n",
    "x = plot.loadText(\"RK3_2/Moyennes_spatiales_vitesse_rho_mu_fin\")\n",
    "a.add(x[0],x[5],label='RK3_2, facsec=0.9')\n",
    "\n",
    "x = plot.loadText(\"RK3_impl_2/Moyennes_spatiales_vitesse_rho_mu_fin\")\n",
    "a.add(x[0],x[5],label='RK3_impl_2, facsec=0.9')\n",
    "\n",
    "a.legend(loc='upper center', bbox_to_anchor=(0.5, -0.1),\n",
    "          fancybox=True, shadow=True, ncol=3)"
   ]
  },
  {
   "cell_type": "markdown",
   "id": "434c040d",
   "metadata": {},
   "source": [
    "## RMS uz comparisons\n",
    "\n",
    "Nothing new to comment on..."
   ]
  },
  {
   "cell_type": "markdown",
   "id": "36a5a3b5",
   "metadata": {},
   "source": [
    "### Large facsec values: wrong results"
   ]
  },
  {
   "cell_type": "code",
   "execution_count": null,
   "id": "b656383f",
   "metadata": {},
   "outputs": [],
   "source": [
    "a = plot.Graph(\"RMS $u_z$\")\n",
    "\n",
    "x = plot.loadText(\"RRK2/Moyennes_spatiales_vitesse_rho_mu_fin\")\n",
    "a.add(x[0],x[6],label='RRK2, facsec=1.4')\n",
    "a.label(\"Y [m]\",'RMS $u_z$')\n",
    "\n",
    "x = plot.loadText(\"RRK2_impl/Moyennes_spatiales_vitesse_rho_mu_fin\")\n",
    "a.add(x[0],x[6],marker='x',label='RRK2_impl, facsec=1.4')\n",
    "\n",
    "x = plot.loadText(\"AB2/Moyennes_spatiales_vitesse_rho_mu_fin\")\n",
    "a.add(x[0],x[6],label='AB2, facsec=0.8')\n",
    "\n",
    "x = plot.loadText(\"AB2_impl/Moyennes_spatiales_vitesse_rho_mu_fin\")\n",
    "a.add(x[0],x[6],label='AB2_impl, facsec=0.7')\n",
    "\n",
    "x = plot.loadText(\"RK3/Moyennes_spatiales_vitesse_rho_mu_fin\")\n",
    "a.add(x[0],x[6],label='RK3, facsec=1.8')\n",
    "\n",
    "x = plot.loadText(\"RK3_impl/Moyennes_spatiales_vitesse_rho_mu_fin\")\n",
    "a.add(x[0],x[6],marker='*',label='RK3_impl, facsec=1.8')\n",
    "\n",
    "a.legend(loc='upper center', bbox_to_anchor=(0.5, -0.1),\n",
    "          fancybox=True, shadow=True, ncol=3)"
   ]
  },
  {
   "cell_type": "markdown",
   "id": "4f181175",
   "metadata": {},
   "source": [
    "### Smaller facsec values : OK"
   ]
  },
  {
   "cell_type": "code",
   "execution_count": null,
   "id": "b58a5a92",
   "metadata": {},
   "outputs": [],
   "source": [
    "a = plot.Graph(\"RMS $u_z$\")\n",
    "\n",
    "x = plot.loadText(\"RRK2_2/Moyennes_spatiales_vitesse_rho_mu_fin\")\n",
    "a.add(x[0],x[6],label='RRK2_2, facsec=0.7')\n",
    "a.label(\"Y [m]\",'RMS $u_z$')\n",
    "\n",
    "x = plot.loadText(\"RRK2_impl_2/Moyennes_spatiales_vitesse_rho_mu_fin\")\n",
    "a.add(x[0],x[6],label='RRK2_impl_2, facsec=0.7')\n",
    "\n",
    "x = plot.loadText(\"AB2_2/Moyennes_spatiales_vitesse_rho_mu_fin\")\n",
    "a.add(x[0],x[6],label='AB2_2, facsec=0.4')\n",
    "\n",
    "x = plot.loadText(\"AB2_impl_2/Moyennes_spatiales_vitesse_rho_mu_fin\")\n",
    "a.add(x[0],x[6],label='AB2_impl_2, facsec=0.4')\n",
    "\n",
    "x = plot.loadText(\"RK3_2/Moyennes_spatiales_vitesse_rho_mu_fin\")\n",
    "a.add(x[0],x[6],label='RK3_2, facsec=0.9')\n",
    "\n",
    "x = plot.loadText(\"RK3_impl_2/Moyennes_spatiales_vitesse_rho_mu_fin\")\n",
    "a.add(x[0],x[6],label='RK3_impl_2, facsec=0.9')\n",
    "\n",
    "a.legend(loc='upper center', bbox_to_anchor=(0.5, -0.1),\n",
    "          fancybox=True, shadow=True, ncol=3)"
   ]
  },
  {
   "cell_type": "markdown",
   "id": "fc18372a",
   "metadata": {},
   "source": [
    "## Comparisons of different quantities\n",
    "\n",
    "We provide comparisons in this section for the different quantities (see label of each axis in figures 6.1 - 6.3). Only the smaller facsec values are considered."
   ]
  },
  {
   "cell_type": "markdown",
   "id": "8d505046",
   "metadata": {},
   "source": [
    "### $<u_x>$"
   ]
  },
  {
   "cell_type": "code",
   "execution_count": null,
   "id": "1bd0bd9a",
   "metadata": {},
   "outputs": [],
   "source": [
    "a = plot.Graph(\"$u_x$\")\n",
    "\n",
    "x = plot.loadText(\"RRK2_2/Moyennes_spatiales_vitesse_rho_mu_fin\")\n",
    "a.add(x[0],x[1],label='RRK2_2, facsec=0.7')\n",
    "a.label(\"Y [m]\",'RMS $u_x$')\n",
    "\n",
    "x = plot.loadText(\"RRK2_impl_2/Moyennes_spatiales_vitesse_rho_mu_fin\")\n",
    "a.add(x[0],x[1],label='RRK2_impl_2, facsec=0.7')\n",
    "\n",
    "x = plot.loadText(\"AB2_2/Moyennes_spatiales_vitesse_rho_mu_fin\")\n",
    "a.add(x[0],x[1],label='AB2_2, facsec=0.4')\n",
    "\n",
    "x = plot.loadText(\"AB2_impl_2/Moyennes_spatiales_vitesse_rho_mu_fin\")\n",
    "a.add(x[0],x[1],label='AB2_impl_2, facsec=0.4')\n",
    "\n",
    "x = plot.loadText(\"RK3_2/Moyennes_spatiales_vitesse_rho_mu_fin\")\n",
    "a.add(x[0],x[1],label='RK3_2, facsec=0.9')\n",
    "\n",
    "x = plot.loadText(\"RK3_impl_2/Moyennes_spatiales_vitesse_rho_mu_fin\")\n",
    "a.add(x[0],x[1],label='RK3_impl_2, facsec=0.9')\n",
    "\n",
    "a.legend(loc='upper center', bbox_to_anchor=(0.5, -0.1),\n",
    "          fancybox=True, shadow=True, ncol=3)"
   ]
  },
  {
   "cell_type": "markdown",
   "id": "43b83d02",
   "metadata": {},
   "source": [
    "### $<u_x u_y> - <u_x> <u_y>$"
   ]
  },
  {
   "cell_type": "code",
   "execution_count": null,
   "id": "37c17de0",
   "metadata": {},
   "outputs": [],
   "source": [
    "a = plot.Graph(\"$<u_x u_y> - <u_x> <u_y>$\")\n",
    "\n",
    "x = plot.loadText(\"RRK2_2/Moyennes_spatiales_vitesse_rho_mu_fin\")\n",
    "a.add(x[0],x[7],label='RRK2_2, facsec=0.7')\n",
    "a.label(\"Y [m]\", '$<u_x u_y> - <u_x> <u_y>$')\n",
    "\n",
    "x = plot.loadText(\"RRK2_impl_2/Moyennes_spatiales_vitesse_rho_mu_fin\")\n",
    "a.add(x[0],x[7],label='RRK2_impl_2, facsec=0.7')\n",
    "\n",
    "x = plot.loadText(\"AB2_2/Moyennes_spatiales_vitesse_rho_mu_fin\")\n",
    "a.add(x[0],x[7],label='AB2_2, facsec=0.4')\n",
    "\n",
    "x = plot.loadText(\"AB2_impl_2/Moyennes_spatiales_vitesse_rho_mu_fin\")\n",
    "a.add(x[0],x[7],label='AB2_impl_2, facsec=0.4')\n",
    "\n",
    "x = plot.loadText(\"RK3_2/Moyennes_spatiales_vitesse_rho_mu_fin\")\n",
    "a.add(x[0],x[7],label='RK3_2, facsec=0.9')\n",
    "\n",
    "x = plot.loadText(\"RK3_impl_2/Moyennes_spatiales_vitesse_rho_mu_fin\")\n",
    "a.add(x[0],x[7],label='RK3_impl_2, facsec=0.9')\n",
    "\n",
    "a.legend(loc='upper center', bbox_to_anchor=(0.5, -0.1),\n",
    "          fancybox=True, shadow=True, ncol=3)"
   ]
  },
  {
   "cell_type": "markdown",
   "id": "95380fe4",
   "metadata": {},
   "source": [
    "### $<u_x u_z> - <u_x> <u_z>$"
   ]
  },
  {
   "cell_type": "code",
   "execution_count": null,
   "id": "89db292e",
   "metadata": {},
   "outputs": [],
   "source": [
    "a = plot.Graph(\"$<u_x u_z> - <u_x> <u_z>$\")\n",
    "\n",
    "x = plot.loadText(\"RRK2_2/Moyennes_spatiales_vitesse_rho_mu_fin\")\n",
    "a.add(x[0],x[8],label='RRK2_2, facsec=0.7')\n",
    "a.label(\"Y [m]\",'$<u_x u_z> - <u_x> <u_z>$')\n",
    "\n",
    "x = plot.loadText(\"RRK2_impl_2/Moyennes_spatiales_vitesse_rho_mu_fin\")\n",
    "a.add(x[0],x[8],label='RRK2_impl_2, facsec=0.7')\n",
    "\n",
    "x = plot.loadText(\"AB2_2/Moyennes_spatiales_vitesse_rho_mu_fin\")\n",
    "a.add(x[0],x[8],label='AB2_2, facsec=0.4')\n",
    "\n",
    "x = plot.loadText(\"AB2_impl_2/Moyennes_spatiales_vitesse_rho_mu_fin\")\n",
    "a.add(x[0],x[8],label='AB2_impl_2, facsec=0.4')\n",
    "\n",
    "x = plot.loadText(\"RK3_2/Moyennes_spatiales_vitesse_rho_mu_fin\")\n",
    "a.add(x[0],x[8],label='RK3_2, facsec=0.9')\n",
    "\n",
    "x = plot.loadText(\"RK3_impl_2/Moyennes_spatiales_vitesse_rho_mu_fin\")\n",
    "a.add(x[0],x[8],label='RK3_impl_2, facsec=0.9')\n",
    "\n",
    "a.legend(loc='upper center', bbox_to_anchor=(0.5, -0.1),\n",
    "          fancybox=True, shadow=True, ncol=3)\n"
   ]
  },
  {
   "cell_type": "markdown",
   "id": "a1c0e88a",
   "metadata": {},
   "source": [
    "## Conclusions\n",
    "\n",
    "In this report, comparisons between explicit and semi-implicit (diffusion implicit) schemes are presented.  A periodic channel test case is investigated in its laminar-to-turbulent transitional behavior. We show that the time step should be carefully controlled otherwise the transition is not reproduced. The **facsec** parameter of TRUST helps in reducing the timestep and thus can be used to control dt. We also show that results obtained with a semi-implicit scheme can match well with those predicted by a pure explicit one (if a good time-step is used). We note that the Adam-Bashforth scheme requires small time steps (facsec = 0.4 considered here for a particular mesh) in order to reproduce correctly the transition. Similarly for RRK2 and RK3 where the facsec should be 0.7 and 0.9 respectively (mainly when the viscous term is implicitly treated). A grid sensitivity analysis (not considered in this study) might also be interesting to analyze how the facsec behaves with the mesh refinement."
   ]
  },
  {
   "cell_type": "code",
   "execution_count": null,
   "id": "b7adf5ea",
   "metadata": {},
   "outputs": [],
   "source": [
    "run.tablePerf()"
   ]
  }
 ],
 "metadata": {
  "kernelspec": {
   "display_name": "Python 3 (ipykernel)",
   "language": "python",
   "name": "python3"
  },
  "language_info": {
   "codemirror_mode": {
    "name": "ipython",
    "version": 3
   },
   "file_extension": ".py",
   "mimetype": "text/x-python",
   "name": "python",
   "nbconvert_exporter": "python",
   "pygments_lexer": "ipython3",
   "version": "3.12.5"
  }
 },
 "nbformat": 4,
 "nbformat_minor": 5
}
