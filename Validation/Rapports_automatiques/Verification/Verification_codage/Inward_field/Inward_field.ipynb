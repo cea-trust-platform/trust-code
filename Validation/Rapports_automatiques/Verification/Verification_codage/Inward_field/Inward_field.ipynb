{
 "cells": [
  {
   "cell_type": "markdown",
   "id": "posted-craft",
   "metadata": {},
   "source": [
    "# Check Champ_front_normal fields"
   ]
  },
  {
   "cell_type": "code",
   "execution_count": null,
   "id": "f748bf12",
   "metadata": {},
   "outputs": [],
   "source": [
    "from trustutils import run\n",
    "\n",
    "run.introduction(\"Stephane Veys\",\"13/04/2021\")\n",
    "\n",
    "run.TRUST_parameters(\"1.8.0\")"
   ]
  },
  {
   "cell_type": "markdown",
   "id": "9c870e63",
   "metadata": {},
   "source": [
    "### Description: \n",
    "\n",
    "This is to check the keyword Boundary_field_inward using both VEF and VDF discretizations. We wantto check that vectors are those we expect."
   ]
  },
  {
   "cell_type": "code",
   "execution_count": null,
   "id": "nuclear-reproduction",
   "metadata": {},
   "outputs": [],
   "source": [
    "from trustutils import run \n",
    "      \n",
    "for dis in [\"VDF\", \"VEF\"]:\n",
    "    for dim in [\"2D\", \"3D\"]:\n",
    "        for s in [\"Left\", \"Right\", \"Top\", \"Bottom\"]:\n",
    "            run.addCase(\".\" ,f\"inward_field_{dis}_{dim}_{s}.data\") \n",
    "    for s in [\"Back\", \"Front\"]:\n",
    "        run.addCase(\".\" ,f\"inward_field_{dis}_3D_{s}.data\") \n",
    "\n",
    "run.printCases()\n",
    "run.runCases()"
   ]
  },
  {
   "cell_type": "markdown",
   "id": "worst-holder",
   "metadata": {},
   "source": [
    "## Visualization of the normal fields on the boundaries\n",
    "### 2D VDF discretization\n",
    "inward fields imposed on all boundaries"
   ]
  },
  {
   "cell_type": "code",
   "execution_count": null,
   "id": "official-blackjack",
   "metadata": {},
   "outputs": [],
   "source": [
    "from trustutils import visit\n",
    "\n",
    "a = visit.Show(\"inward_field_VDF_2D_Left_CHAMP_FRONT_NORMAL.lata\",\"Vector\",\"VELOCITY_TRIO_ELEM_boundary_Left\")\n",
    "a.visuOptions([\"no_databaseinfo\",\"no_legend\"])\n",
    "a.blackVector()\n",
    "a.addField(\"inward_field_VDF_2D_Left_VOLUMIC.lata\",\"Mesh\",\"dom\")\n",
    "a.addField(\"inward_field_VDF_2D_Right_CHAMP_FRONT_NORMAL.lata\",\"Vector\",\"VELOCITY_TRIO_ELEM_boundary_Right\")\n",
    "a.blackVector()\n",
    "a.addField(\"inward_field_VDF_2D_Top_CHAMP_FRONT_NORMAL.lata\",\"Vector\",\"VELOCITY_TRIO_ELEM_boundary_Top\")\n",
    "a.blackVector()\n",
    "a.addField(\"inward_field_VDF_2D_Bottom_CHAMP_FRONT_NORMAL.lata\",\"Vector\",\"VELOCITY_TRIO_ELEM_boundary_Bottom\")\n",
    "a.blackVector()\n",
    "\n",
    "a.plot()"
   ]
  },
  {
   "cell_type": "markdown",
   "id": "d15c4044",
   "metadata": {},
   "source": [
    "### 2D VEF discretization\n",
    "\n",
    "inward fields imposed on all boundaries"
   ]
  },
  {
   "cell_type": "code",
   "execution_count": null,
   "id": "fde2b9ce",
   "metadata": {},
   "outputs": [],
   "source": [
    "a = visit.Show(\"inward_field_VEF_2D_Left_CHAMP_FRONT_NORMAL.lata\",\"Vector\",\"VELOCITY_TRIO_ELEM_boundary_Left\")\n",
    "a.visuOptions([\"no_databaseinfo\",\"no_legend\"])\n",
    "a.blackVector()\n",
    "a.addField(\"inward_field_VEF_2D_Left_VOLUMIC.lata\",\"Mesh\",\"dom\")\n",
    "a.addField(\"inward_field_VEF_2D_Right_CHAMP_FRONT_NORMAL.lata\",\"Vector\",\"VELOCITY_TRIO_ELEM_boundary_Right\")\n",
    "a.blackVector()\n",
    "a.addField(\"inward_field_VEF_2D_Top_CHAMP_FRONT_NORMAL.lata\",\"Vector\",\"VELOCITY_TRIO_ELEM_boundary_Top\")\n",
    "a.blackVector()\n",
    "a.addField(\"inward_field_VEF_2D_Bottom_CHAMP_FRONT_NORMAL.lata\",\"Vector\",\"VELOCITY_TRIO_ELEM_boundary_Bottom\")\n",
    "a.blackVector()\n",
    "\n",
    "a.plot()"
   ]
  },
  {
   "cell_type": "markdown",
   "id": "9517b091",
   "metadata": {},
   "source": [
    "### 3D VDF discretization\n",
    "\n",
    "inward fields imposed on boundaries Back and Front"
   ]
  },
  {
   "cell_type": "code",
   "execution_count": null,
   "id": "9f63991b",
   "metadata": {},
   "outputs": [],
   "source": [
    "a = visit.Show(\"inward_field_VDF_3D_Back_CHAMP_FRONT_NORMAL.lata\",\"Vector\",\"VELOCITY_TRIO_ELEM_boundary_Back\")\n",
    "a.visuOptions([\"no_databaseinfo\",\"no_legend\"])\n",
    "a.blackVector()\n",
    "a.addField(\"inward_field_VDF_3D_Left_VOLUMIC.lata\",\"Mesh\",\"dom\")\n",
    "a.addField(\"inward_field_VDF_3D_Front_CHAMP_FRONT_NORMAL.lata\",\"Vector\",\"VELOCITY_TRIO_ELEM_boundary_Front\")\n",
    "a.blackVector()\n",
    "a.addField(\"inward_field_VDF_3D_Left_CHAMP_FRONT_NORMAL.lata\",\"Vector\",\"VELOCITY_TRIO_ELEM_boundary_Left\")\n",
    "a.blackVector()\n",
    "a.addField(\"inward_field_VDF_3D_Right_CHAMP_FRONT_NORMAL.lata\",\"Vector\",\"VELOCITY_TRIO_ELEM_boundary_Right\")\n",
    "a.blackVector()\n",
    "a.addField(\"inward_field_VDF_3D_Top_CHAMP_FRONT_NORMAL.lata\",\"Vector\",\"VELOCITY_TRIO_ELEM_boundary_Top\")\n",
    "a.blackVector()\n",
    "a.addField(\"inward_field_VDF_3D_Bottom_CHAMP_FRONT_NORMAL.lata\",\"Vector\",\"VELOCITY_TRIO_ELEM_boundary_Bottom\")\n",
    "a.blackVector()\n",
    "\n",
    "a.plot()"
   ]
  },
  {
   "cell_type": "markdown",
   "id": "d4aeb0d9",
   "metadata": {},
   "source": [
    "### 3D VEF discretization\n",
    "\n",
    "inward fields imposed on boundaries Back and Front"
   ]
  },
  {
   "cell_type": "code",
   "execution_count": null,
   "id": "62ac5533",
   "metadata": {},
   "outputs": [],
   "source": [
    "a = visit.Show(\"inward_field_VEF_3D_Back_CHAMP_FRONT_NORMAL.lata\",\"Vector\",\"VELOCITY_TRIO_ELEM_boundary_Back\")\n",
    "a.visuOptions([\"no_databaseinfo\",\"no_legend\"])\n",
    "a.blackVector()\n",
    "a.addField(\"inward_field_VEF_3D_Front_CHAMP_FRONT_NORMAL.lata\",\"Vector\",\"VELOCITY_TRIO_ELEM_boundary_Front\")\n",
    "a.blackVector()\n",
    "\n",
    "a.plot()"
   ]
  },
  {
   "cell_type": "markdown",
   "id": "def58f02",
   "metadata": {},
   "source": [
    "### 3D VEF discretization\n",
    "\n",
    "inward fields imposed on boundaries Top and Bottom"
   ]
  },
  {
   "cell_type": "code",
   "execution_count": null,
   "id": "ff13117c",
   "metadata": {},
   "outputs": [],
   "source": [
    "a = visit.Show(\"inward_field_VEF_3D_Top_CHAMP_FRONT_NORMAL.lata\",\"Vector\",\"VELOCITY_TRIO_ELEM_boundary_Top\")\n",
    "a.visuOptions([\"no_databaseinfo\",\"no_legend\"])\n",
    "a.blackVector()\n",
    "a.addField(\"inward_field_VEF_3D_Bottom_CHAMP_FRONT_NORMAL.lata\",\"Vector\",\"VELOCITY_TRIO_ELEM_boundary_Bottom\")\n",
    "a.blackVector()\n",
    "\n",
    "a.plot()"
   ]
  },
  {
   "cell_type": "markdown",
   "id": "0a329362",
   "metadata": {},
   "source": [
    "### 3D VEF discretization\n",
    "\n",
    "inward fields imposed on boundaries Left and Right"
   ]
  },
  {
   "cell_type": "code",
   "execution_count": null,
   "id": "006e9501",
   "metadata": {},
   "outputs": [],
   "source": [
    "from trustutils import visit\n",
    "\n",
    "a = visit.Show(\"inward_field_VEF_3D_Left_CHAMP_FRONT_NORMAL.lata\",\"Vector\",\"VELOCITY_TRIO_ELEM_boundary_Left\")\n",
    "a.visuOptions([\"no_databaseinfo\",\"no_legend\"])\n",
    "a.blackVector()\n",
    "a.addField(\"inward_field_VEF_3D_Right_CHAMP_FRONT_NORMAL.lata\",\"Vector\",\"VELOCITY_TRIO_ELEM_boundary_Right\")\n",
    "a.blackVector()\n",
    "\n",
    "a.plot()"
   ]
  },
  {
   "cell_type": "markdown",
   "id": "0b6d5601",
   "metadata": {},
   "source": [
    "## Check norms\n",
    "\n",
    "In this chapter we now check that we respect the norm given by users. If the histogram is empty then there is a problem because it means that we have an error > 1e-12 with the norms. On the contrary if the histogram is full that means we have no error, so it is ok."
   ]
  },
  {
   "cell_type": "markdown",
   "id": "4600238a",
   "metadata": {},
   "source": [
    "### Error on the norm the field on LEFT boundary (2D VDF)"
   ]
  },
  {
   "cell_type": "code",
   "execution_count": null,
   "id": "46741909",
   "metadata": {},
   "outputs": [],
   "source": [
    "a = visit.Show(\"inward_field_VDF_2D_Left_CHAMP_FRONT_NORMAL.lata\",\"Histogram\",\"ERROR_NORM_ELEM_boundary_Left\")\n",
    "a.visuHistogram(0,1e-12,1)\n",
    "a.plot()"
   ]
  },
  {
   "cell_type": "markdown",
   "id": "c9da033a",
   "metadata": {},
   "source": [
    "### Error on the norm the field on RIGHT boundary (2D VDF)"
   ]
  },
  {
   "cell_type": "code",
   "execution_count": null,
   "id": "f21b5978",
   "metadata": {},
   "outputs": [],
   "source": [
    "a = visit.Show(\"inward_field_VDF_2D_Right_CHAMP_FRONT_NORMAL.lata\",\"Histogram\",\"ERROR_NORM_ELEM_boundary_Right\")\n",
    "a.visuHistogram(0,1e-12,1)\n",
    "a.plot()"
   ]
  },
  {
   "cell_type": "markdown",
   "id": "485b6a76",
   "metadata": {},
   "source": [
    "### Error on the norm the field on TOP boundary (2D VDF)"
   ]
  },
  {
   "cell_type": "code",
   "execution_count": null,
   "id": "033efc2d",
   "metadata": {},
   "outputs": [],
   "source": [
    "a = visit.Show(\"inward_field_VDF_2D_Top_CHAMP_FRONT_NORMAL.lata\",\"Histogram\",\"ERROR_NORM_ELEM_boundary_Top\")\n",
    "a.visuHistogram(0,1e-12,1)\n",
    "a.plot()"
   ]
  },
  {
   "cell_type": "markdown",
   "id": "3e973a2d",
   "metadata": {},
   "source": [
    "### Error on the norm the field on BOTTOM boundary (2D VDF)"
   ]
  },
  {
   "cell_type": "code",
   "execution_count": null,
   "id": "b84ddc50",
   "metadata": {},
   "outputs": [],
   "source": [
    "a = visit.Show(\"inward_field_VDF_2D_Bottom_CHAMP_FRONT_NORMAL.lata\",\"Histogram\",\"ERROR_NORM_ELEM_boundary_Bottom\")\n",
    "a.visuHistogram(0,1e-12,1)\n",
    "a.plot()"
   ]
  },
  {
   "cell_type": "markdown",
   "id": "bf606161",
   "metadata": {},
   "source": [
    "### Error on the norm the field on LEFT boundary (2D VEF)"
   ]
  },
  {
   "cell_type": "code",
   "execution_count": null,
   "id": "f7806f66",
   "metadata": {},
   "outputs": [],
   "source": [
    "a = visit.Show(\"inward_field_VEF_2D_Left_CHAMP_FRONT_NORMAL.lata\",\"Histogram\",\"ERROR_NORM_ELEM_boundary_Left\")\n",
    "a.visuHistogram(0,1e-12,1)\n",
    "a.plot()"
   ]
  },
  {
   "cell_type": "markdown",
   "id": "241b668b",
   "metadata": {},
   "source": [
    "### Error on the norm the field on RIGHT boundary (2D VEF)"
   ]
  },
  {
   "cell_type": "code",
   "execution_count": null,
   "id": "43c9151b",
   "metadata": {},
   "outputs": [],
   "source": [
    "a = visit.Show(\"inward_field_VEF_2D_Right_CHAMP_FRONT_NORMAL.lata\",\"Histogram\",\"ERROR_NORM_ELEM_boundary_Right\")\n",
    "a.visuHistogram(0,1e-12,1)\n",
    "a.plot()"
   ]
  },
  {
   "cell_type": "markdown",
   "id": "28aacdfe",
   "metadata": {},
   "source": [
    "### Error on the norm the field on TOP boundary (2D VEF)"
   ]
  },
  {
   "cell_type": "code",
   "execution_count": null,
   "id": "0040a492",
   "metadata": {},
   "outputs": [],
   "source": [
    "a = visit.Show(\"inward_field_VEF_2D_Top_CHAMP_FRONT_NORMAL.lata\",\"Histogram\",\"ERROR_NORM_ELEM_boundary_Top\")\n",
    "a.visuHistogram(0,1e-12,1)\n",
    "a.plot()"
   ]
  },
  {
   "cell_type": "markdown",
   "id": "622e397f",
   "metadata": {},
   "source": [
    "### Error on the norm the field on BOTTOM boundary (2D VEF)"
   ]
  },
  {
   "cell_type": "code",
   "execution_count": null,
   "id": "9218246f",
   "metadata": {},
   "outputs": [],
   "source": [
    "a = visit.Show(\"inward_field_VEF_2D_Bottom_CHAMP_FRONT_NORMAL.lata\",\"Histogram\",\"ERROR_NORM_ELEM_boundary_Bottom\")\n",
    "a.visuHistogram(0,1e-12,1)\n",
    "a.plot()"
   ]
  },
  {
   "cell_type": "markdown",
   "id": "c9836caa",
   "metadata": {},
   "source": [
    "### Error on the norm the field on LEFT boundary (3D VDF)"
   ]
  },
  {
   "cell_type": "code",
   "execution_count": null,
   "id": "f8c5eda9",
   "metadata": {},
   "outputs": [],
   "source": [
    "a = visit.Show(\"inward_field_VDF_3D_Left_CHAMP_FRONT_NORMAL.lata\",\"Histogram\",\"ERROR_NORM_ELEM_boundary_Left\")\n",
    "a.visuHistogram(0,1e-12,1)\n",
    "a.plot()"
   ]
  },
  {
   "cell_type": "markdown",
   "id": "d5bf36ec",
   "metadata": {},
   "source": [
    "### Error on the norm the field on RIGHT boundary (3D VDF)"
   ]
  },
  {
   "cell_type": "code",
   "execution_count": null,
   "id": "f389dbfc",
   "metadata": {},
   "outputs": [],
   "source": [
    "a = visit.Show(\"inward_field_VDF_3D_Right_CHAMP_FRONT_NORMAL.lata\",\"Histogram\",\"ERROR_NORM_ELEM_boundary_Right\")\n",
    "a.visuHistogram(0,1e-12,1)\n",
    "a.plot()"
   ]
  },
  {
   "cell_type": "markdown",
   "id": "84810b3b",
   "metadata": {},
   "source": [
    "### Error on the norm the field on TOP boundary (3D VDF)"
   ]
  },
  {
   "cell_type": "code",
   "execution_count": null,
   "id": "72e15e16",
   "metadata": {},
   "outputs": [],
   "source": [
    "a = visit.Show(\"inward_field_VDF_3D_Top_CHAMP_FRONT_NORMAL.lata\",\"Histogram\",\"ERROR_NORM_ELEM_boundary_Top\")\n",
    "a.visuHistogram(0,1e-12,1)\n",
    "a.plot()"
   ]
  },
  {
   "cell_type": "markdown",
   "id": "c1c61f99",
   "metadata": {},
   "source": [
    "### Error on the norm the field on BOTTOM boundary (3D VDF)"
   ]
  },
  {
   "cell_type": "code",
   "execution_count": null,
   "id": "b16331e7",
   "metadata": {},
   "outputs": [],
   "source": [
    "a = visit.Show(\"inward_field_VDF_3D_Bottom_CHAMP_FRONT_NORMAL.lata\",\"Histogram\",\"ERROR_NORM_ELEM_boundary_Bottom\")\n",
    "a.visuHistogram(0,1e-12,1)\n",
    "a.plot()"
   ]
  },
  {
   "cell_type": "markdown",
   "id": "ea676bd3",
   "metadata": {},
   "source": [
    "### Error on the norm the field on BACK boundary (3D VDF)"
   ]
  },
  {
   "cell_type": "code",
   "execution_count": null,
   "id": "e303b3fb",
   "metadata": {},
   "outputs": [],
   "source": [
    "a = visit.Show(\"inward_field_VDF_3D_Back_CHAMP_FRONT_NORMAL.lata\",\"Histogram\",\"ERROR_NORM_ELEM_boundary_Back\")\n",
    "a.visuHistogram(0,1e-12,1)\n",
    "a.plot()"
   ]
  },
  {
   "cell_type": "markdown",
   "id": "b3372313",
   "metadata": {},
   "source": [
    "### Error on the norm the field on FRONT boundary (3D VDF)"
   ]
  },
  {
   "cell_type": "code",
   "execution_count": null,
   "id": "a7540474",
   "metadata": {},
   "outputs": [],
   "source": [
    "a = visit.Show(\"inward_field_VDF_3D_Front_CHAMP_FRONT_NORMAL.lata\",\"Histogram\",\"ERROR_NORM_ELEM_boundary_Front\")\n",
    "a.visuHistogram(0,1e-12,1)\n",
    "a.plot()"
   ]
  },
  {
   "cell_type": "markdown",
   "id": "aa097c17",
   "metadata": {},
   "source": [
    "### Error on the norm the field on LEFT boundary (3D VEF)"
   ]
  },
  {
   "cell_type": "code",
   "execution_count": null,
   "id": "fed63ee6",
   "metadata": {},
   "outputs": [],
   "source": [
    "a = visit.Show(\"inward_field_VEF_3D_Left_CHAMP_FRONT_NORMAL.lata\",\"Histogram\",\"ERROR_NORM_ELEM_boundary_Left\")\n",
    "a.visuHistogram(0,1e-12,1)\n",
    "a.plot()"
   ]
  },
  {
   "cell_type": "markdown",
   "id": "8861d7c2",
   "metadata": {},
   "source": [
    "### Error on the norm the field on RIGHT boundary (3D VEF)"
   ]
  },
  {
   "cell_type": "code",
   "execution_count": null,
   "id": "00d12fa1",
   "metadata": {},
   "outputs": [],
   "source": [
    "a = visit.Show(\"inward_field_VEF_3D_Right_CHAMP_FRONT_NORMAL.lata\",\"Histogram\",\"ERROR_NORM_ELEM_boundary_Right\")\n",
    "a.visuHistogram(0,1e-12,1)\n",
    "a.plot()"
   ]
  },
  {
   "cell_type": "markdown",
   "id": "c523715a",
   "metadata": {},
   "source": [
    "### Error on the norm the field on TOP boundary (3D VEF)"
   ]
  },
  {
   "cell_type": "code",
   "execution_count": null,
   "id": "9c54aaa9",
   "metadata": {},
   "outputs": [],
   "source": [
    "a = visit.Show(\"inward_field_VEF_3D_Top_CHAMP_FRONT_NORMAL.lata\",\"Histogram\",\"ERROR_NORM_ELEM_boundary_Top\")\n",
    "a.visuHistogram(0,1e-12,1)\n",
    "a.plot()"
   ]
  },
  {
   "cell_type": "markdown",
   "id": "bb0c9758",
   "metadata": {},
   "source": [
    "### Error on the norm the field on BOTTOM boundary (3D VEF)"
   ]
  },
  {
   "cell_type": "code",
   "execution_count": null,
   "id": "170dd56b",
   "metadata": {},
   "outputs": [],
   "source": [
    "a = visit.Show(\"inward_field_VEF_3D_Bottom_CHAMP_FRONT_NORMAL.lata\",\"Histogram\",\"ERROR_NORM_ELEM_boundary_Bottom\")\n",
    "a.visuHistogram(0,1e-12,1)\n",
    "a.plot()"
   ]
  },
  {
   "cell_type": "markdown",
   "id": "069545e4",
   "metadata": {},
   "source": [
    "### Error on the norm the field on BACK boundary (3D VEF)"
   ]
  },
  {
   "cell_type": "code",
   "execution_count": null,
   "id": "a9b86130",
   "metadata": {},
   "outputs": [],
   "source": [
    "a = visit.Show(\"inward_field_VEF_3D_Back_CHAMP_FRONT_NORMAL.lata\",\"Histogram\",\"ERROR_NORM_ELEM_boundary_Back\")\n",
    "a.visuHistogram(0,1e-12,1)\n",
    "a.plot()"
   ]
  },
  {
   "cell_type": "markdown",
   "id": "4671aac4",
   "metadata": {},
   "source": [
    "### Error on the norm the field on FRONT boundary (3D VEF)"
   ]
  },
  {
   "cell_type": "code",
   "execution_count": null,
   "id": "8082fb76",
   "metadata": {},
   "outputs": [],
   "source": [
    "a = visit.Show(\"inward_field_VEF_3D_Front_CHAMP_FRONT_NORMAL.lata\",\"Histogram\",\"ERROR_NORM_ELEM_boundary_Front\")\n",
    "a.visuHistogram(0,1e-12,1)\n",
    "a.plot()"
   ]
  }
 ],
 "metadata": {
  "kernelspec": {
   "display_name": "Python 3 (ipykernel)",
   "language": "python",
   "name": "python3"
  },
  "language_info": {
   "codemirror_mode": {
    "name": "ipython",
    "version": 3
   },
   "file_extension": ".py",
   "mimetype": "text/x-python",
   "name": "python",
   "nbconvert_exporter": "python",
   "pygments_lexer": "ipython3",
   "version": "3.12.5"
  }
 },
 "nbformat": 4,
 "nbformat_minor": 5
}
