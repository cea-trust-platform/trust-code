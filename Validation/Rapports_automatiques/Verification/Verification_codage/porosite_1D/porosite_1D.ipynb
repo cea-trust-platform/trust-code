{
 "cells": [
  {
   "cell_type": "markdown",
   "id": "boolean-earth",
   "metadata": {},
   "source": [
    "# Ecoulement avec saut de porosite en 1D"
   ]
  },
  {
   "cell_type": "code",
   "execution_count": null,
   "id": "adde1bab",
   "metadata": {},
   "outputs": [],
   "source": [
    "from trustutils import run\n",
    "\n",
    "run.introduction(\"Yannick Gorsse & Elie Saikali\")\n",
    "run.TRUST_parameters()"
   ]
  },
  {
   "cell_type": "markdown",
   "id": "f993c59d",
   "metadata": {},
   "source": [
    "### Description: \n",
    "\n",
    "Ecoulement unidirectional, sans diffusion. Le domaine est 1D. On compare VDF, PolyMAC_P0P1NC, PolyMAC_P0 et PolyMAC à la solution qui satisfait la conservation de la charge. Deux maillages utilisé."
   ]
  },
  {
   "cell_type": "code",
   "execution_count": null,
   "id": "balanced-boating",
   "metadata": {
    "scrolled": false
   },
   "outputs": [],
   "source": [
    "from trustutils import run\n",
    "\n",
    "run.reset()\n",
    "run.initBuildDirectory()\n",
    "\n",
    "dis = [(\"VDF\", \"\"), (\"PolyMAC_P0P1NC\", \"Polyedriser dom\"), (\"PolyMAC_P0\", \"Polyedriser dom\"), (\"PolyMAC\", \"Polyedriser dom\")]\n",
    "\n",
    "for d, p in dis:\n",
    "  run.addCaseFromTemplate(\"jdd.data\", f\"{d}\", {\"dis\" : d , \"poly\" : p})\n",
    "  run.addCaseFromTemplate(\"jdd_tanh.data\", f\"{d}\", {\"dis\" : d, \"poly\" : p })\n",
    "\n",
    "run.printCases()\n",
    "run.runCases()\n",
    "run.tablePerf()"
   ]
  },
  {
   "cell_type": "markdown",
   "id": "f03de334",
   "metadata": {},
   "source": [
    "## Residuals"
   ]
  },
  {
   "cell_type": "code",
   "execution_count": null,
   "id": "alert-shock",
   "metadata": {
    "scrolled": false
   },
   "outputs": [],
   "source": [
    "from trustutils import plot\n",
    "\n",
    "a=plot.Graph(\"Residus\")\n",
    "for i, _ in dis:\n",
    "    a.addResidu(f\"{run.BUILD_DIRECTORY}/{i}/jdd.dt_ev\",label=f\"{i} - uniforme\")\n",
    "    a.addResidu(f\"{run.BUILD_DIRECTORY}/{i}/jdd_tanh.dt_ev\",label=f\"{i} - non-uniforme\")\n",
    "\n",
    "a.scale(yscale='log')"
   ]
  },
  {
   "cell_type": "code",
   "execution_count": null,
   "id": "78364c0e",
   "metadata": {},
   "outputs": [],
   "source": [
    "a=plot.Graph(label_size=16, title_size=24, legend_size=16, nY=2)\n",
    "\n",
    "a.addPlot(0,\"Vitesse\")\n",
    "a.addSegment(\"VDF/jdd_V_EX.son\",label=\"Analytic\",compo=2,marker='D',markerfacecolor='none')\n",
    "for i, _ in dis:\n",
    "    a.addSegment(f\"{run.BUILD_DIRECTORY}/{i}/jdd_V.son\",label=f\"{i} - uniforme\",compo=2)\n",
    "    a.addSegment(f\"{run.BUILD_DIRECTORY}/{i}/jdd_tanh_V.son\",label=f\"{i} - non-uniforme\",compo=2)\n",
    "a.legend(loc='upper center', bbox_to_anchor=(1, 1.3), ncol=2, fancybox=True, shadow=True)\n",
    "\n",
    "a.addPlot(1,\"Pression\")\n",
    "a.addSegment(\"VDF/jdd_P_EX.son\",label=\"Analytic\",marker='D',markerfacecolor='none')\n",
    "for i, _ in dis:\n",
    "    a.addSegment(f\"{run.BUILD_DIRECTORY}/{i}/jdd_P.son\",label=f\"{i} - uniforme\")\n",
    "    a.addSegment(f\"{run.BUILD_DIRECTORY}/{i}/jdd_tanh_P.son\",label=f\"{i} - non-uniforme\")\n",
    "a.legend(loc='upper center', bbox_to_anchor=(-0.2, 1.3), ncol=2, fancybox=True, shadow=True)"
   ]
  }
 ],
 "metadata": {
  "kernelspec": {
   "display_name": "base",
   "language": "python",
   "name": "python3"
  },
  "language_info": {
   "codemirror_mode": {
    "name": "ipython",
    "version": 3
   },
   "file_extension": ".py",
   "mimetype": "text/x-python",
   "name": "python",
   "nbconvert_exporter": "python",
   "pygments_lexer": "ipython3",
   "version": "3.12.7"
  }
 },
 "nbformat": 4,
 "nbformat_minor": 5
}
