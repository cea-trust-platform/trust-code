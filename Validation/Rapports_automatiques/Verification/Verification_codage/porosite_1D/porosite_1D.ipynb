{
 "cells": [
  {
   "cell_type": "markdown",
   "id": "boolean-earth",
   "metadata": {},
   "source": [
    "# Ecoulement avec saut de porosite en 1D"
   ]
  },
  {
   "cell_type": "code",
   "execution_count": null,
   "id": "adde1bab",
   "metadata": {},
   "outputs": [],
   "source": [
    "from trustutils import run\n",
    "\n",
    "run.introduction(\"Yannick Gorsse & Elie Saikali\")\n",
    "run.TRUST_parameters()"
   ]
  },
  {
   "cell_type": "markdown",
   "id": "f993c59d",
   "metadata": {},
   "source": [
    "### Description: \n",
    "\n",
    "Ecoulement unidirectional, sans diffusion. Le domaine est 1D. On compare VDF, PolyMAC_P0P1NC, PolyMAC_P0 et PolyMAC à la solution qui satisfait la conservation de la charge. Deux maillages utilisé."
   ]
  },
  {
   "cell_type": "code",
   "execution_count": null,
   "id": "balanced-boating",
   "metadata": {
    "scrolled": false
   },
   "outputs": [],
   "source": [
    "run.reset()\n",
    "run.initBuildDirectory()\n",
    "\n",
    "dis = [(\"VDF\", \"\", \"option_vdf { all_options }\"), \n",
    "       (\"PolyMAC_P0P1NC\", \"Polyedriser dom\", \"option_polymac { maillage_vdf }\"), \n",
    "       (\"PolyMAC_P0\", \"Polyedriser dom\", \"option_polymac { maillage_vdf }\"), \n",
    "       (\"PolyMAC\", \"Polyedriser dom\", \"option_polymac { maillage_vdf }\")]\n",
    "\n",
    "tanh = [(\"uniforme\", \"\"), (\"non_uniforme\", \"ztanh_dilatation 0 ztanh_taille_premiere_maille 0.005\")]\n",
    "\n",
    "for d, dd, ddd in dis:\n",
    "    for t, tt in tanh:\n",
    "      run.addCaseFromTemplate(\"jdd.data\", f\"{d}/{t}\", {\"dis\" : d , \"poly\" : dd, \"opts\" : ddd, \"tanh\" : tt})\n",
    "\n",
    "run.printCases()\n",
    "run.runCases()\n",
    "run.tablePerf()"
   ]
  },
  {
   "cell_type": "markdown",
   "id": "f03de334",
   "metadata": {},
   "source": [
    "## Residuals"
   ]
  },
  {
   "cell_type": "code",
   "execution_count": null,
   "id": "alert-shock",
   "metadata": {
    "scrolled": false
   },
   "outputs": [],
   "source": [
    "from trustutils import plot\n",
    "\n",
    "a=plot.Graph(\"Residus\")\n",
    "for d, _, _ in dis:\n",
    "    for t, _ in tanh:\n",
    "        a.addResidu(f\"{run.BUILD_DIRECTORY}/{d}/{t}/jdd.dt_ev\",label=f\"{d} - {t}\")\n",
    "\n",
    "a.scale(yscale='log')"
   ]
  },
  {
   "cell_type": "code",
   "execution_count": null,
   "id": "78364c0e",
   "metadata": {},
   "outputs": [],
   "source": [
    "a = plot.Graph(\"Velocity Z\")\n",
    "a.addSegment(\"VDF/uniforme/jdd_V_EX.son\",label=\"Analytic\",compo=2,marker='D',markerfacecolor='none')\n",
    "for d, _, _ in dis:\n",
    "    for t, _ in tanh:\n",
    "        a.addSegment(f\"{run.BUILD_DIRECTORY}/{d}/{t}/jdd_V.son\",label=f\"{d} - {t}\",compo=2)\n",
    "\n",
    "a.legend(loc='upper center', bbox_to_anchor=(0.5, 1.3), ncol=2, fancybox=True, shadow=True)\n"
   ]
  },
  {
   "cell_type": "code",
   "execution_count": null,
   "id": "673545b6",
   "metadata": {},
   "outputs": [],
   "source": [
    "a = plot.Graph(\"Pressure\")\n",
    "a.addSegment(\"VDF/uniforme/jdd_P_EX.son\",label=\"Analytic\",marker='D',markerfacecolor='none')\n",
    "for d, _, _ in dis:\n",
    "    for t, _ in tanh:\n",
    "        a.addSegment(f\"{run.BUILD_DIRECTORY}/{d}/{t}/jdd_P.son\",label=f\"{d} - {t}\")\n",
    "\n",
    "a.legend(loc='upper center', bbox_to_anchor=(0.5, 1.3), ncol=2, fancybox=True, shadow=True)"
   ]
  },
  {
   "cell_type": "code",
   "execution_count": null,
   "id": "06127ea0",
   "metadata": {},
   "outputs": [],
   "source": [
    "a = plot.Graph(\"Porosity\")\n",
    "a.addSegment(f\"{run.BUILD_DIRECTORY}/VDF/uniforme/jdd_PORO.son\",label=f\"uniforme\")\n",
    "a.addSegment(f\"{run.BUILD_DIRECTORY}/VDF/non_uniforme/jdd_PORO.son\",label=f\"non_uniforme\")"
   ]
  }
 ],
 "metadata": {
  "kernelspec": {
   "display_name": "base",
   "language": "python",
   "name": "python3"
  },
  "language_info": {
   "codemirror_mode": {
    "name": "ipython",
    "version": 3
   },
   "file_extension": ".py",
   "mimetype": "text/x-python",
   "name": "python",
   "nbconvert_exporter": "python",
   "pygments_lexer": "ipython3",
   "version": "3.12.7"
  }
 },
 "nbformat": 4,
 "nbformat_minor": 5
}
