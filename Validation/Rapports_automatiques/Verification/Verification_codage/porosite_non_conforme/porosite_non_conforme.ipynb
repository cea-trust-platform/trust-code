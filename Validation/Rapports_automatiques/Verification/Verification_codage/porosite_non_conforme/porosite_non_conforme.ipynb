{
 "cells": [
  {
   "cell_type": "markdown",
   "id": "boolean-earth",
   "metadata": {},
   "source": [
    "# Ecoulement avec saut de porosite en 2D non conforme\n"
   ]
  },
  {
   "cell_type": "code",
   "execution_count": null,
   "id": "adde1bab",
   "metadata": {},
   "outputs": [],
   "source": [
    "from trustutils import run\n",
    "\n",
    "run.introduction(\"Yannick Gorsse & Elie Saikali\")"
   ]
  },
  {
   "cell_type": "markdown",
   "id": "f993c59d",
   "metadata": {},
   "source": [
    "### Description: \n",
    "\n",
    "Ecoulement unidirectional, sans diffusion. Le domaine est 2D, non conforme. On compare PolyMAC_P0P1NC, PolyMAC_P0 et PolyMAC à la solution qui satisfait la conservation de la charge. Deux maillages utilisé."
   ]
  },
  {
   "cell_type": "code",
   "execution_count": null,
   "id": "balanced-boating",
   "metadata": {},
   "outputs": [],
   "source": [
    "run.reset()\n",
    "run.initBuildDirectory()\n",
    "\n",
    "dis = [(\"PolyMAC_P0P1NC\", \"Polyedriser dom\", \"option_polymac { maillage_vdf }\",\"fixed\"), \n",
    "       (\"PolyMAC_P0\", \"Polyedriser dom\", \"option_polymac { maillage_vdf }\", \"fixed\"), \n",
    "       (\"PolyMAC\", \"Polyedriser dom\", \"option_polymac { maillage_vdf }\", \"fixed\"),\n",
    "      (\"PolyMAC_P0P1NC\", \"Polyedriser dom\", \"\", \"wo\"), \n",
    "       (\"PolyMAC_P0\", \"Polyedriser dom\", \"\", \"wo\"), \n",
    "       (\"PolyMAC\", \"Polyedriser dom\", \"\", \"wo\"),]\n",
    "\n",
    "\n",
    "for d, dd, ddd, dddd in dis:\n",
    "    run.addCaseFromTemplate(\"jdd.data\", f\"{d}/{dddd}\", {\"dis\" : d , \"opts\" : ddd})\n",
    "\n",
    "run.printCases()\n",
    "run.runCases()\n",
    "run.tablePerf()"
   ]
  },
  {
   "cell_type": "markdown",
   "id": "f03de334",
   "metadata": {},
   "source": [
    "## Residuals"
   ]
  },
  {
   "cell_type": "code",
   "execution_count": null,
   "id": "06127ea0",
   "metadata": {},
   "outputs": [],
   "source": [
    "from trustutils import plot"
   ]
  },
  {
   "cell_type": "code",
   "execution_count": null,
   "id": "alert-shock",
   "metadata": {},
   "outputs": [],
   "source": [
    "a=plot.Graph(\"Residus\")\n",
    "for d, _, _,dddd in dis:\n",
    "    a.addResidu(f\"{run.BUILD_DIRECTORY}/{d}/{dddd}/jdd.dt_ev\",label=f\"{d}-{dddd}\")\n",
    "\n",
    "a.scale(yscale='log')"
   ]
  },
  {
   "cell_type": "code",
   "execution_count": null,
   "id": "78364c0e",
   "metadata": {},
   "outputs": [],
   "source": [
    "a = plot.Graph(\"Velocity Z (with option VDF)\")\n",
    "\n",
    "for d, _, _,dddd in dis[0:3]:\n",
    "    a.addSegment(f\"{run.BUILD_DIRECTORY}/{d}/{dddd}/jdd_V.son\",label=f\"{d}\",compo=2)\n",
    "\n",
    "a.legend(loc='upper center', bbox_to_anchor=(0.5, 1.3), ncol=2, fancybox=True, shadow=True)\n",
    "\n"
   ]
  },
  {
   "cell_type": "code",
   "execution_count": null,
   "id": "3a71b904-6abc-4b12-baaf-364fe4df63eb",
   "metadata": {},
   "outputs": [],
   "source": [
    "a = plot.Graph(\"Velocity Z (without option VDF)\")\n",
    "for d, _, _,dddd in dis[3:6]:\n",
    "    a.addSegment(f\"{run.BUILD_DIRECTORY}/{d}/{dddd}/jdd_V.son\",label=f\"{d}\",compo=2)\n",
    "\n",
    "a.legend(loc='upper center', bbox_to_anchor=(0.5, 1.3), ncol=2, fancybox=True, shadow=True)\n",
    "\n"
   ]
  },
  {
   "cell_type": "code",
   "execution_count": null,
   "id": "673545b6",
   "metadata": {},
   "outputs": [],
   "source": [
    "a = plot.Graph(\"Pressure (with option vdf)\")\n",
    "for d, _, _,dddd in dis[0:3]:\n",
    "    a.addSegment(f\"{run.BUILD_DIRECTORY}/{d}/{dddd}/jdd_P.son\",label=f\"{d}\")\n",
    "\n",
    "a.legend(loc='upper center', bbox_to_anchor=(0.5, 1.3), ncol=2, fancybox=True, shadow=True)"
   ]
  },
  {
   "cell_type": "code",
   "execution_count": null,
   "id": "6ff6b7b1-0144-4126-9f2d-dbce4c0ae58e",
   "metadata": {},
   "outputs": [],
   "source": [
    "a = plot.Graph(\"Pressure (without option vdf)\")\n",
    "for d, _, _,dddd in dis[3:6]:\n",
    "    a.addSegment(f\"{run.BUILD_DIRECTORY}/{d}/{dddd}/jdd_P.son\",label=f\"{d}\")\n",
    "\n",
    "a.legend(loc='upper center', bbox_to_anchor=(0.5, 1.3), ncol=2, fancybox=True, shadow=True)"
   ]
  },
  {
   "cell_type": "code",
   "execution_count": null,
   "id": "232c2f7d-166b-43bd-9a74-ddaa5f6f736b",
   "metadata": {},
   "outputs": [],
   "source": []
  }
 ],
 "metadata": {
  "kernelspec": {
   "display_name": "Python 3 (ipykernel)",
   "language": "python",
   "name": "python3"
  },
  "language_info": {
   "codemirror_mode": {
    "name": "ipython",
    "version": 3
   },
   "file_extension": ".py",
   "mimetype": "text/x-python",
   "name": "python",
   "nbconvert_exporter": "python",
   "pygments_lexer": "ipython3",
   "version": "3.12.5"
  }
 },
 "nbformat": 4,
 "nbformat_minor": 5
}
