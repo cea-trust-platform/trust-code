{
 "cells": [
  {
   "cell_type": "markdown",
   "id": "boolean-earth",
   "metadata": {},
   "source": [
    "# Ecoulement mixte Poiseuille Couette plan."
   ]
  },
  {
   "cell_type": "code",
   "execution_count": null,
   "id": "49cd0b7f",
   "metadata": {},
   "outputs": [],
   "source": [
    "from trustutils import run\n",
    "\n",
    "run.introduction(\"Yannick Gorsse\")\n",
    "\n",
    "run.TRUST_parameters()"
   ]
  },
  {
   "cell_type": "markdown",
   "id": "1cb89bc1",
   "metadata": {},
   "source": [
    "### Description: \n",
    "\n"
   ]
  },
  {
   "cell_type": "code",
   "execution_count": null,
   "id": "balanced-boating",
   "metadata": {
    "scrolled": false
   },
   "outputs": [],
   "source": [
    "from trustutils import run\n",
    "import os, sys\n",
    "\n",
    "# Load MEDCoupling environment\n",
    "run.useMEDCoupling()\n",
    "\n",
    "# Trigger the copy of the src directory into the build directory:\n",
    "run.initBuildDirectory()\n",
    "\n",
    "# Path of weird mesh Python module\n",
    "sys.path.append(os.environ[\"TRUST_ROOT\"] + \"/Validation/Rapports_automatiques/Verification/PolyMAC/share/maquette_decapoly/src/\")\n",
    "\n",
    "# Invoke prepare_python.py (which structures the directories), and copy post_run script\n",
    "origin, build_dir = os.getcwd(), run.BUILD_DIRECTORY\n",
    "os.chdir(build_dir)\n",
    "exec(open( \"prepare_python.py\").read())  #  the various run.addCase() are called there\n",
    "!for cas in */*/maillage_* ; do cp post_run ${cas}/. ; done\n",
    "os.chdir(origin)\n",
    "\n",
    "run.printCases()\n",
    "run.runCases()\n",
    "run.executeScript(\"extract_convergence\")"
   ]
  },
  {
   "cell_type": "markdown",
   "id": "9a7e2ff9",
   "metadata": {},
   "source": [
    "## Ordres de convergence"
   ]
  },
  {
   "cell_type": "markdown",
   "id": "58af2bd8",
   "metadata": {},
   "source": [
    "### Ordres de convergence - v"
   ]
  },
  {
   "cell_type": "code",
   "execution_count": null,
   "id": "alert-shock",
   "metadata": {},
   "outputs": [],
   "source": [
    "from trustutils import plot\n",
    "\n",
    "a = plot.Graph(\"Ordres de convergence - v\")\n",
    "\n",
    "# Define the paths and markers in a list of dictionaries\n",
    "data = [\n",
    "    {\"path\": \"NCa/PolyMAC_P0/conv_glob_v\", \"marker\": '-|', \"label\": \"NCa/PolyMAC_P0\"},\n",
    "    {\"path\": \"NCa/PolyMAC_P0P1NC/conv_glob_v\", \"marker\": '-x', \"label\": \"NCa/PolyMAC_P0P1NC\"},\n",
    "    {\"path\": \"NCr/PolyMAC_P0/conv_glob_v\", \"marker\": '-*', \"label\": \"NCr/PolyMAC_P0\"},\n",
    "    {\"path\": \"NCr/PolyMAC_P0P1NC/conv_glob_v\", \"marker\": '-s', \"markerfacecolor\": 'None', \"label\": \"NCr/PolyMAC_P0P1NC\"},\n",
    "    {\"path\": \"cartesian/PolyMAC_P0/conv_glob_v\", \"marker\": '-s', \"label\": \"cartesian/PolyMAC_P0\"},\n",
    "    {\"path\": \"cartesian/PolyMAC_P0P1NC/conv_glob_v\", \"marker\": '-D', \"markerfacecolor\": 'None', \"label\": \"cartesian/PolyMAC_P0P1NC\"},\n",
    "    {\"path\": \"cartesian/VDF/conv_glob_v\", \"marker\": '-D', \"label\": \"cartesian/VDF\"},\n",
    "    {\"path\": \"triangle/PolyMAC_P0/conv_glob_v\", \"marker\": '-v', \"markerfacecolor\": 'None', \"label\": \"triangle/PolyMAC_P0\"},\n",
    "    {\"path\": \"triangle/PolyMAC_P0P1NC/conv_glob_v\", \"marker\": '-v', \"label\": \"triangle/PolyMAC_P0P1NC\"},\n",
    "    {\"path\": \"triangle/VEFPreP1B/conv_glob_v\", \"marker\": '-^', \"label\": \"triangle/VEFPreP1B\"},\n",
    "    {\"path\": \"cartesian/PolyVEF_P0/conv_glob_v\", \"marker\": '-o', \"label\": \"cartesian/PolyVEF_P0\"},\n",
    "    {\"path\": \"cartesian/PolyVEF_P0P1/conv_glob_v\", \"marker\": '-p', \"label\": \"cartesian/PolyVEF_P0P1\"}\n",
    "]\n",
    "\n",
    "# Loop through the data and add each to the graph\n",
    "for item in data:\n",
    "    x = plot.loadText(item[\"path\"])\n",
    "    a.add(x[0], x[1], marker=item[\"marker\"], label=item[\"label\"], \n",
    "          markerfacecolor=item.get(\"markerfacecolor\", None))\n",
    "\n",
    "a.label(r\"$Ne^{-1/2}$\", \"erreur L2\")\n",
    "a.scale(xscale='log', yscale='log')"
   ]
  },
  {
   "cell_type": "markdown",
   "id": "79159216",
   "metadata": {},
   "source": [
    "### Ordres de convergence - p"
   ]
  },
  {
   "cell_type": "code",
   "execution_count": null,
   "id": "594b533f",
   "metadata": {},
   "outputs": [],
   "source": [
    "from trustutils import plot\n",
    "\n",
    "a = plot.Graph(\"Ordres de convergence - p\")\n",
    "\n",
    "# Define the paths and markers in a list of dictionaries\n",
    "data = [\n",
    "    {\"path\": \"NCa/PolyMAC_P0/conv_glob_p\", \"marker\": '-|', \"label\": \"NCa/PolyMAC_P0\"},\n",
    "    {\"path\": \"NCa/PolyMAC_P0P1NC/conv_glob_p\", \"marker\": '-x', \"label\": \"NCa/PolyMAC_P0P1NC\"},\n",
    "    {\"path\": \"NCr/PolyMAC_P0/conv_glob_p\", \"marker\": '-*', \"label\": \"NCr/PolyMAC_P0\"},\n",
    "    {\"path\": \"NCr/PolyMAC_P0P1NC/conv_glob_p\", \"marker\": '-s', \"markerfacecolor\": 'None', \"label\": \"NCr/PolyMAC_P0P1NC\"},\n",
    "    {\"path\": \"cartesian/PolyMAC_P0/conv_glob_p\", \"marker\": '-s', \"label\": \"cartesian/PolyMAC_P0\"},\n",
    "    {\"path\": \"cartesian/PolyMAC_P0P1NC/conv_glob_p\", \"marker\": '-D', \"markerfacecolor\": 'None', \"label\": \"cartesian/PolyMAC_P0P1NC\"},\n",
    "    {\"path\": \"cartesian/VDF/conv_glob_p\", \"marker\": '-D', \"label\": \"cartesian/VDF\"},\n",
    "    {\"path\": \"triangle/PolyMAC_P0/conv_glob_p\", \"marker\": '-v', \"markerfacecolor\": 'None', \"label\": \"triangle/PolyMAC_P0\"},\n",
    "    {\"path\": \"triangle/PolyMAC_P0P1NC/conv_glob_p\", \"marker\": '-v', \"label\": \"triangle/PolyMAC_P0P1NC\"},\n",
    "    {\"path\": \"triangle/VEFPreP1B/conv_glob_p\", \"marker\": '-^', \"label\": \"triangle/VEFPreP1B\"},\n",
    "    {\"path\": \"cartesian/PolyVEF_P0/conv_glob_p\", \"marker\": '-o', \"label\": \"cartesian/PolyVEF_P0\"},\n",
    "    {\"path\": \"cartesian/PolyVEF_P0P1/conv_glob_p\", \"marker\": '-p', \"label\": \"cartesian/PolyVEF_P0P1\"}\n",
    "]\n",
    "\n",
    "# Loop through the data and add each to the graph\n",
    "for item in data:\n",
    "    x = plot.loadText(item[\"path\"])\n",
    "    a.add(x[0], x[1], marker=item[\"marker\"], label=item[\"label\"], \n",
    "          markerfacecolor=item.get(\"markerfacecolor\", None))\n",
    "\n",
    "a.label(r\"$Ne^{-1/2}$\", \"erreur L2\")\n",
    "a.scale(xscale='log', yscale='log')"
   ]
  }
 ],
 "metadata": {
  "kernelspec": {
   "display_name": "base",
   "language": "python",
   "name": "python3"
  },
  "language_info": {
   "codemirror_mode": {
    "name": "ipython",
    "version": 3
   },
   "file_extension": ".py",
   "mimetype": "text/x-python",
   "name": "python",
   "nbconvert_exporter": "python",
   "pygments_lexer": "ipython3",
   "version": "3.8.19"
  }
 },
 "nbformat": 4,
 "nbformat_minor": 5
}
