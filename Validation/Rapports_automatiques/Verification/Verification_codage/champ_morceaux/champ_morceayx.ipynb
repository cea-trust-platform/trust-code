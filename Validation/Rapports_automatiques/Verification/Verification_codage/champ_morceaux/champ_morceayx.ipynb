{
 "cells": [
  {
   "cell_type": "markdown",
   "id": "f00c33c7",
   "metadata": {},
   "source": [
    "## *Validation of the `champ_morceaux` field*\n",
    "\n",
    "This notebook tests the new `champ_morceaux` piecewise field in TRUST.\n",
    "It confirms that the composite field matches each original field within its designated zone.\n",
    "\n",
    "---\n",
    "\n",
    "### The test case\n",
    "\n",
    "1. **Syntax recap**  \n",
    "   ```text\n",
    "   champ_morceaux <pb>\n",
    "   {\n",
    "       defaut       <field_0>\n",
    "       <subdomain1> <field_1>\n",
    "       <subdomain2> <field_2>\n",
    "       …\n",
    "   }\n",
    "   ```  \n",
    "   Any `<field_i>` may be *any* existing TRUST field type (`champ_uniforme`, `champ_fonc_med`, `champ_input_P0`, *etc.*).\n",
    "\n",
    "2. **Numerical comparison** – cell‑by‑cell and zone‑by‑zone checks that  \n",
    "   `champ_morceaux(x) == field_i(x)` wherever `x ∈ subdomain_i`."
   ]
  },
  {
   "cell_type": "code",
   "execution_count": null,
   "id": "5d74583c",
   "metadata": {},
   "outputs": [],
   "source": [
    "from trustutils import run\n",
    "run.useMEDCoupling()\n",
    "import medcoupling as mc\n",
    "\n",
    "def build_mesh_and_field(nx, mesh_path):\n",
    "    x = mc.DataArrayDouble([i / nx for i in range(nx + 1)])\n",
    "    y = mc.DataArrayDouble([0, 1])\n",
    "    mccm = mc.MEDCouplingCMesh()\n",
    "    mccm.setCoords(x, y)\n",
    "    mcum = mccm.buildUnstructured()\n",
    "    mcum.setName(\"dom\")\n",
    "    mf, _, _, _, F_Ei = mcum.buildDescendingConnectivity()\n",
    "    mm = mc.MEDFileUMesh.New()\n",
    "    mm.setMeshAtLevel(0, mcum)\n",
    "    mm.setMeshAtLevel(-1, mf)\n",
    "\n",
    "    g = mc.DataArrayInt.New([i for i in range(mf.getNumberOfCells()) if F_Ei[i + 1] == F_Ei[i] + 1])\n",
    "    g.setName(\"bord\")\n",
    "    mm.addGroup(-1, g)\n",
    "\n",
    "    bc = mcum.computeIsoBarycenterOfNodesPerCell()\n",
    "    grps = {f\"z{i}\" : [] for i in range(4)}\n",
    "    for e, b in enumerate(bc):\n",
    "        for i in range(4):\n",
    "            if b[0] < (i + 1) * 0.25:\n",
    "                grps[f\"z{i}\"].append(e)\n",
    "                break\n",
    "\n",
    "    for z, cells in grps.items():\n",
    "        g = mc.DataArrayInt.New(cells)\n",
    "        g.setName(z)\n",
    "        mm.addGroup(0, g)\n",
    "\n",
    "    mm.write(mesh_path, 2)\n",
    "\n",
    "    field = mc.MEDCouplingFieldDouble(mc.ON_CELLS)\n",
    "    field.setMesh(mcum)\n",
    "    field.setName(\"linear_field\")\n",
    "    field.fillFromAnalytic(1,\"IVec * x\")\n",
    "    mc.WriteFieldUsingAlreadyWrittenMesh(mesh_path, field)\n",
    "\n",
    "run.introduction(\"Yannick Gorsse\")\n",
    "run.TRUST_parameters()\n",
    "run.initBuildDirectory()\n",
    "build_mesh_and_field(100, f\"{run.BUILD_DIRECTORY}/mesh.med\")\n"
   ]
  },
  {
   "cell_type": "code",
   "execution_count": null,
   "id": "wired-celtic",
   "metadata": {
    "tags": []
   },
   "outputs": [],
   "source": [
    "run.addCase(\".\",\"jdd.data\")\n",
    "run.runCases()"
   ]
  },
  {
   "cell_type": "code",
   "execution_count": null,
   "id": "9e6e4175",
   "metadata": {},
   "outputs": [],
   "source": [
    "from trustutils import plot\n",
    "\n",
    "fig = plot.Graph(\"Initial time\")\n",
    "xl = [(i + 0.5) / 100 for i in range(100)]\n",
    "exact = [1 if x < 0.25 else x if x < 0.5 else 5 if x < 0.75 else 10*x for x in xl]\n",
    "fig.add(xl, exact, label=\"Exact\")\n",
    "fig.addSegment(f\"{run.BUILD_DIRECTORY}/jdd_LAMBDA.son\", label=\"champ_morceaux\", marker=\"o\", time=0)\n",
    "\n",
    "fig = plot.Graph(\"Final time\")\n",
    "xl = [(i + 0.5) / 100 for i in range(100)]\n",
    "exact = [1 if x < 0.25 else x if x < 0.5 else 10 if x < 0.75 else 10*x+3 for x in xl]\n",
    "fig.add(xl, exact, label=\"Exact\")\n",
    "fig.addSegment(f\"{run.BUILD_DIRECTORY}/jdd_LAMBDA.son\", label=\"champ_morceaux\", marker=\"o\")"
   ]
  }
 ],
 "metadata": {
  "kernelspec": {
   "display_name": "base",
   "language": "python",
   "name": "python3"
  },
  "language_info": {
   "codemirror_mode": {
    "name": "ipython",
    "version": 3
   },
   "file_extension": ".py",
   "mimetype": "text/x-python",
   "name": "python",
   "nbconvert_exporter": "python",
   "pygments_lexer": "ipython3",
   "version": "3.12.5"
  }
 },
 "nbformat": 4,
 "nbformat_minor": 5
}
