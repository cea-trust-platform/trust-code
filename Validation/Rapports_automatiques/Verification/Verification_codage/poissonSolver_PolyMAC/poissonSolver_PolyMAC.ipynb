{
 "cells": [
  {
   "cell_type": "markdown",
   "id": "improved-telescope",
   "metadata": {},
   "source": [
    "# Conduction avec polyMAC"
   ]
  },
  {
   "cell_type": "code",
   "execution_count": null,
   "id": "269d11cc",
   "metadata": {},
   "outputs": [],
   "source": [
    "from trustutils import run\n",
    "\n",
    "run.introduction(\"G.Jomee & L. Lecointre\")\n",
    "\n",
    "run.TRUST_parameters()"
   ]
  },
  {
   "cell_type": "markdown",
   "id": "2b05d072",
   "metadata": {},
   "source": [
    "### Description: \n",
    "\n",
    "Test du solver de conduction avec les discrétisations polyMAC. Focus spécifique sur les conditions limites."
   ]
  },
  {
   "cell_type": "code",
   "execution_count": null,
   "id": "northern-guide",
   "metadata": {
    "tags": []
   },
   "outputs": [],
   "source": [
    "from trustutils import run \n",
    "import os, sys\n",
    "run.useMEDCoupling()\n",
    "import medcoupling as mc\n",
    "\n",
    "nb_meshes_max = {1,2} # niveaux de raffinement a tester 2 max\n",
    "\n",
    "run.reset()\n",
    "\n",
    "mesh = {\n",
    "    # 2D meshes\n",
    "    \"Cartesian\":      [ \"VDF\",\"PolyMAC\",\"PolyMAC_P0\",\"PolyMAC_P0P1NC\"],\n",
    "    \"Triangles\":      [\"VEF\",\"PolyMAC\",\"PolyMAC_P0\",\"PolyMAC_P0P1NC\"]\n",
    "}\n",
    "\n",
    "formules = {\n",
    "    \"trigo\":  [\"cos(x)*sin(y)\",\"2*cos(x)*sin(y)\",\"(-sin(x)*sin(y))\",\"cos(x)*cos(y)\" ],\n",
    "    \"Himmelblau\": [\"((x^2+y-11)^2+(x+y^2-7)^2)\",\"-(12*x^2+4*y-42+4*x+12*y^2-26)\",\"(4*x^3+4*x*y-42*x+2*y^2-14)\",\"(-22+2*x^2-26*y+4*x*y+4*y^3)\" ]\n",
    "}\n",
    "\n",
    "run.initBuildDirectory()\n",
    "origin, build_dir = os.getcwd(), run.BUILD_DIRECTORY\n",
    "os.chdir(build_dir)\n",
    "list_dis = []\n",
    "\n",
    "for m, dis in mesh.items():\n",
    "    for n in nb_meshes_max:\n",
    "        for d in dis:\n",
    "            for f, expr in formules.items():\n",
    "                if d == \"VEF\":\n",
    "                    loc = \"FACES\"\n",
    "                else:\n",
    "                    loc = \"elem\"\n",
    "                os.system(f\"mkdir -p {m}/{n}/{d}/{f}\")\n",
    "                run.addCaseFromTemplate(\"manufactured_solution.data\",targetDirectory=f\"{m}/{n}/{d}/{f}\",targetData=f\"{d}_{f}.data\", dic={\"dis_\": f\"{d}\",\"func_\":expr[0],\"source_\":expr[1],\"dx_\":expr[2],\"dy_\":expr[3],\"loc_\":loc})\n",
    "            \n",
    "os.chdir(origin)\n",
    "run.printCases()\n",
    "run.extractNRCases()"
   ]
  },
  {
   "cell_type": "code",
   "execution_count": null,
   "id": "561e740c",
   "metadata": {},
   "outputs": [],
   "source": [
    "from trustutils import plot\n",
    "a = plot.Table([\"function\", \"discretization\", \"mesh_type\", \"refinement\", r\"$L_1$(error)\", r\"$L_2$(error)\", r\"$L_{\\infty}$(error)\"])\n",
    "\n",
    "# If you want to load a file similar to a text file, \n",
    "# you can use the method plot.loadText(\"direction_of_file.txt\")\n",
    "for m, dis in mesh.items():\n",
    "    for d in dis:\n",
    "        for f, expr in formules.items():\n",
    "            for n in nb_meshes_max:\n",
    "                data1 = plot.loadText(f\"{m}/{n}/{d}/{f}/{d}_{f}_L1_NORM.son\")\n",
    "                data2 = plot.loadText(f\"{m}/{n}/{d}/{f}/{d}_{f}_L2_NORM.son\")\n",
    "                data3 = plot.loadText(f\"{m}/{n}/{d}/{f}/{d}_{f}_LINF_NORM.son\")\n",
    "                a.addLine([[f\"{f}\",f\"{d}\",f\"{m}\",f\"{n}\",data1[1][1],data2[1][1],data3[1][1]]],\"\")\n",
    "\n",
    "\n",
    "display(a)"
   ]
  },
  {
   "cell_type": "code",
   "execution_count": null,
   "id": "986423e3",
   "metadata": {
    "scrolled": false
   },
   "outputs": [],
   "source": [
    "from trustutils import visit\n",
    "\n",
    "for m, dis in mesh.items():\n",
    "    for d in dis:\n",
    "        if d == \"VEF\": \n",
    "            loc = \"FACES\"\n",
    "            dual = \"_dual\"\n",
    "        else:\n",
    "            loc = \"ELEM\"\n",
    "            dual = \"\"\n",
    "        for f, expr in formules.items():\n",
    "            fig=visit.Show(f\"{m}/1/{d}/{f}/{d}_{f}_ERROR.lata\",\"Pseudocolor\",f\"TEMPERATURE_{loc}_dom{dual}\",title=f\"{m}/1/{d}/{f}\",plotmesh=False,nY=2,nX=1)\n",
    "            fig.add(f\"{m}/1/{d}/{f}/{d}_{f}_ERROR.lata\",\"Pseudocolor\",f\"ERREUR_{loc}_dom{dual}\",plotmesh=False,xIndice=0,yIndice=1)\n",
    "            fig.plot()"
   ]
  },
  {
   "cell_type": "code",
   "execution_count": null,
   "id": "7652f18f",
   "metadata": {},
   "outputs": [],
   "source": [
    "run.tablePerf()"
   ]
  }
 ],
 "metadata": {
  "kernelspec": {
   "display_name": "Python 3 (ipykernel)",
   "language": "python",
   "name": "python3"
  },
  "language_info": {
   "codemirror_mode": {
    "name": "ipython",
    "version": 3
   },
   "file_extension": ".py",
   "mimetype": "text/x-python",
   "name": "python",
   "nbconvert_exporter": "python",
   "pygments_lexer": "ipython3",
   "version": "3.7.16"
  }
 },
 "nbformat": 4,
 "nbformat_minor": 5
}
