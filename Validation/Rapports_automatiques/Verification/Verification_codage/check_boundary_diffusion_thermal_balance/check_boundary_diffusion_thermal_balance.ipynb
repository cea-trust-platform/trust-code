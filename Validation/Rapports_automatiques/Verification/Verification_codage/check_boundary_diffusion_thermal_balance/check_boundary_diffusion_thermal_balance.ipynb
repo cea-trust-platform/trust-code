{
 "cells": [
  {
   "cell_type": "markdown",
   "id": "gross-patent",
   "metadata": {},
   "source": [
    "# Verification :\n",
    "\n",
    "Flux_bord of op_diff_elem in jdd_pb_diffusion_chaleur.out and reduction_0D fields (to check if PolyMAC_P0P1NC's auxiliary variables don't mess up the results)"
   ]
  },
  {
   "cell_type": "code",
   "execution_count": null,
   "id": "c9e1b584",
   "metadata": {},
   "outputs": [],
   "source": [
    "from trustutils import run\n",
    "import os\n",
    "\n",
    "run.introduction(\"Yannick Gorsse\")\n",
    "\n",
    "run.TRUST_parameters()"
   ]
  },
  {
   "cell_type": "markdown",
   "id": "3fee3322",
   "metadata": {},
   "source": [
    "### Description: \n",
    "\n",
    "Driven cavity with cosine thermal power and thermal exchange with uniform external temperature"
   ]
  },
  {
   "cell_type": "code",
   "execution_count": null,
   "id": "15189bb2-352d-48f9-85fa-64c4323e0f88",
   "metadata": {},
   "outputs": [],
   "source": [
    "from trustutils import run\n",
    "\n",
    "run.reset()\n",
    "dis = {\"VDF\" : \"x\", \"PolyMAC_P0P1NC\" : \"+\", \"PolyMAC_P0\" : \"-\"}\n",
    "for d in dis:\n",
    "    run.addCaseFromTemplate(\"jdd.data\", d, {\"dis\" : d})\n",
    "    os.system(f\"cp {run.BUILD_DIRECTORY}/verifie* {run.BUILD_DIRECTORY}/{d}\")\n",
    "\n",
    "run.printCases()\n",
    "run.runCases()\n",
    "run.tablePerf()"
   ]
  },
  {
   "cell_type": "code",
   "execution_count": null,
   "id": "a4e5dc4c",
   "metadata": {},
   "outputs": [],
   "source": [
    "from trustutils import plot\n",
    "\n",
    "a = plot.Graph(\"Residuals\")\n",
    "for d, m in dis.items():\n",
    "    a.addResidu(f\"{d}/jdd.dt_ev\", label=d, marker=m)\n",
    "a.scale(yscale=\"log\")"
   ]
  },
  {
   "cell_type": "code",
   "execution_count": null,
   "id": "b4d2c7df",
   "metadata": {},
   "outputs": [],
   "source": [
    "for b in [\"TMIN\", \"TMOY\", \"TMOYP\", \"TMAX\"]:\n",
    "    a = plot.Graph(b)\n",
    "    for d, m in dis.items():\n",
    "        a.addPoint(f\"{d}/jdd_{b}.son\", label=d, marker=m)\n",
    "        data = plot.read_csv(f\"{d}/jdd_{b}.son\", comment=\"#\", sep='\\\\s+')"
   ]
  },
  {
   "cell_type": "code",
   "execution_count": null,
   "id": "92a2bdd6",
   "metadata": {},
   "outputs": [],
   "source": [
    "for b in [\"haut\", \"droite\", \"bas\", \"gauche\"]:\n",
    "    a = plot.Graph(b)\n",
    "    for d, m in dis.items():\n",
    "        data = plot.read_csv(f\"{d}/jdd_pb_Diffusion_chaleur.out\", comment=\"#\", sep='\\\\s+')\n",
    "        a.add(data[\"Time\"], data[b], label=d, marker=m, title=b)"
   ]
  }
 ],
 "metadata": {
  "kernelspec": {
   "display_name": "Python 3 (ipykernel)",
   "language": "python",
   "name": "python3"
  },
  "language_info": {
   "codemirror_mode": {
    "name": "ipython",
    "version": 3
   },
   "file_extension": ".py",
   "mimetype": "text/x-python",
   "name": "python",
   "nbconvert_exporter": "python",
   "pygments_lexer": "ipython3",
   "version": "3.12.5"
  }
 },
 "nbformat": 4,
 "nbformat_minor": 5
}
