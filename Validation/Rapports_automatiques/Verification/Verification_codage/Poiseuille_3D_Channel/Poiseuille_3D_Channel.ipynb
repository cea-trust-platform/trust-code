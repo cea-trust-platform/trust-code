{
 "cells": [
  {
   "cell_type": "markdown",
   "id": "bigger-analysis",
   "metadata": {},
   "source": [
    "# Poiseuille flow in VEF 3D Channel - Re=1000 "
   ]
  },
  {
   "cell_type": "code",
   "execution_count": null,
   "id": "687a0d88",
   "metadata": {},
   "outputs": [],
   "source": [
    "from trustutils import run\n",
    "\n",
    "run.introduction(\"V. Barthel\")"
   ]
  },
  {
   "cell_type": "markdown",
   "id": "decimal-lingerie",
   "metadata": {},
   "source": [
    "### Description\n",
    "Basical laminar flow against several meshes. \\\n",
    "Influence of the effect of alpha factor in the EF_stab scheme \\\n",
    "Validated with analytic profile $U(y) = \\frac{0.3}{2} y(2-y)$ , theorical pressure loss and friction velocity."
   ]
  },
  {
   "cell_type": "markdown",
   "id": "durable-comparative",
   "metadata": {},
   "source": [
    "### Parameters TRUST\n",
    "\n",
    "* Version TRUST : 1.5.7\n",
    "* Binary:  (a faire)\n",
    "* Type of problem :  Hydraulique 3D\n",
    "* Discretization :  VEFPre1B\n",
    "* Time scheme :  Euler_Implicite\n",
    "* Solving of equations :  Navier_Stokes_standard\n",
    "* Convection scheme :  EF_stab, alpha=1 and alpha=0.2\n",
    "* Time scheme :  Euler implicite\n",
    "* Type of boundary conditions :  Periodicity in x and z directions, wall for y boundaries\n",
    "* Type of fluid :  ’virtual’"
   ]
  },
  {
   "cell_type": "code",
   "execution_count": null,
   "id": "55ea3860-80dd-44a3-b402-a0660ab8b39e",
   "metadata": {
    "tags": []
   },
   "outputs": [],
   "source": [
    "from trustutils import run\n",
    "for cas in [\"Ny9\", \"Ny17\", \"Ny25\", \"Ny25_02\"]:\n",
    "    run.addCase(f\"{cas}\",\"canalVEF.data\")\n",
    "\n",
    "run.printCases()\n",
    "run.runCases() "
   ]
  },
  {
   "cell_type": "markdown",
   "id": "subjective-sterling",
   "metadata": {},
   "source": [
    "## Test Description\n",
    "\n",
    "Geometry :  plane channel \\\n",
    "Dimensions :  Ly=2 (=h), Lx = Lz are depending on Ny to get isotropic cells \\\n",
    "Initial conditions :  vitesse Champ_Uniforme 3 0.1 0.  0. \\\n",
    "Boundary conditions :  The periodicity conditions need a source term to maintain the flow constant \\\n",
    "Canalperio { bord periox } \\\n",
    "Mesh :  3x9x3 3x17x3 and 3x25x3 with Tetraedriser \\\n",
    "Ny=9 , Ny=17 and Ny=25"
   ]
  },
  {
   "cell_type": "markdown",
   "id": "increased-instrument",
   "metadata": {},
   "source": [
    "### Mesh with Ny=9"
   ]
  },
  {
   "cell_type": "code",
   "execution_count": null,
   "id": "close-glance",
   "metadata": {
    "tags": []
   },
   "outputs": [],
   "source": [
    "from trustutils import visit \n",
    "\n",
    "a = visit.Show('./Ny9/canalVEF.lata', 'Mesh','dom')\n",
    "a.normal3D([-0.6,0.1,0.8])\n",
    "a.zoom3D([0,0,0.95])\n",
    "a.visuOptions([\"no_databaseinfo\",\"no_legend\"])\n",
    "a.plot()"
   ]
  },
  {
   "cell_type": "markdown",
   "id": "billion-queensland",
   "metadata": {},
   "source": [
    "### Mesh with Ny=17"
   ]
  },
  {
   "cell_type": "code",
   "execution_count": null,
   "id": "scenic-physiology",
   "metadata": {},
   "outputs": [],
   "source": [
    "a = visit.Show('./Ny17/canalVEF.lata', 'Mesh','dom')\n",
    "a.normal3D([-0.6,0.1,0.8])\n",
    "a.zoom3D([0,0,0.95])\n",
    "a.visuOptions([\"no_databaseinfo\",\"no_legend\"])\n",
    "a.plot()"
   ]
  },
  {
   "cell_type": "markdown",
   "id": "active-conference",
   "metadata": {},
   "source": [
    "### Mesh with Ny=25\n"
   ]
  },
  {
   "cell_type": "code",
   "execution_count": null,
   "id": "higher-cornell",
   "metadata": {},
   "outputs": [],
   "source": [
    "a = visit.Show('./Ny25/canalVEF.lata', 'Mesh','dom')\n",
    "a.normal3D([-0.6,0.1,0.8])\n",
    "a.zoom3D([0,0,0.95])\n",
    "a.visuOptions([\"no_databaseinfo\",\"no_legend\"])\n",
    "a.plot()"
   ]
  },
  {
   "cell_type": "markdown",
   "id": "guided-leave",
   "metadata": {},
   "source": [
    "## Physical properties\n",
    "\n",
    "Fluid domain:  Helium \\\n",
    "No Gravity effect "
   ]
  },
  {
   "cell_type": "code",
   "execution_count": null,
   "id": "given-agreement",
   "metadata": {},
   "outputs": [],
   "source": [
    "from trustutils import plot \n",
    "\n",
    "columns=[\"Valeur\"]\n",
    "t=plot.Table(columns)  \n",
    "rho=plot.loadText(\"rho.dat\") \n",
    "mu =plot.loadText(\"mu.dat\") \n",
    "t.addLine([[rho]],r\"$\\rho$ en kg/m\")   \n",
    "t.addLine([[mu ]],r\"$\\mu$ en N/m/s\")   \n",
    "display(t)"
   ]
  },
  {
   "cell_type": "markdown",
   "id": "systematic-identification",
   "metadata": {},
   "source": [
    "## Mean Vx velocity profile"
   ]
  },
  {
   "cell_type": "markdown",
   "id": "confirmed-olympus",
   "metadata": {},
   "source": [
    "### Velocity profile Vx\n",
    "The profiles given for each mesh is compared with the analytical one."
   ]
  },
  {
   "cell_type": "code",
   "execution_count": null,
   "id": "direct-thunder",
   "metadata": {
    "tags": []
   },
   "outputs": [],
   "source": [
    "import numpy as np\n",
    "\n",
    "a = plot.Graph('Velocity profile Vx')\n",
    "\n",
    "#Fonction analytique*\n",
    "x=np.linspace(0,2,50)\n",
    "y=(-0.3/2.)*x*(x-2)\n",
    "a.add(x,y,\"-s\",label=\"analytique\")  \n",
    "\n",
    "x=plot.loadText(\"./Ny9/Moyennes_spatiales_vitesse_rho_mu\")\n",
    "a.add(x[0],x[1],\"-\",label=\"Trio U Ny=9\")  \n",
    "\n",
    "x=plot.loadText(\"./Ny17/Moyennes_spatiales_vitesse_rho_mu\")\n",
    "a.add(x[0],x[1],\"-\",label=\"Trio U Ny=17\")  \n",
    "\n",
    "x=plot.loadText(\"./Ny25/Moyennes_spatiales_vitesse_rho_mu\")\n",
    "a.add(x[0],x[1],\"-\",label=\"Trio U Ny=25\")  \n",
    "\n",
    "a.label(\"y\",\"U\")\n",
    "a.visu()"
   ]
  },
  {
   "cell_type": "markdown",
   "id": "postal-coach",
   "metadata": {},
   "source": [
    "### Relative error on Vx maximal value\n",
    "\n",
    "The maximal value of x velocity is not totally reached because of the numericial schemes precision.But it is clear that the difference against the theorical value is very low for all the three meshes."
   ]
  },
  {
   "cell_type": "code",
   "execution_count": null,
   "id": "disciplinary-emergency",
   "metadata": {},
   "outputs": [],
   "source": [
    "tmp=visit.export_lata_base(\"./Ny9/canalVEF.lata\",\"Pseudocolor\",\"VITESSE_X_FACES_dom_dual\",\"N9\")\n",
    "tmp.maximum()  \n",
    "tmp=visit.export_lata_base(\"./Ny17/canalVEF.lata\",\"Pseudocolor\",\"VITESSE_X_FACES_dom_dual\",\"N17\")\n",
    "tmp.maximum()  \n",
    "tmp=visit.export_lata_base(\"./Ny25/canalVEF.lata\",\"Pseudocolor\",\"VITESSE_X_FACES_dom_dual\",\"N25\")\n",
    "tmp.maximum()  \n",
    "\n",
    "MaxN9 =plot.loadText(\"MaxN9\" )\n",
    "MaxN17=plot.loadText(\"MaxN17\")\n",
    "MaxN25=plot.loadText(\"MaxN25\")\n",
    "\n",
    "columns=[r\"Max analytic \",r\" Max Trio_U \",r\" Error($\\%$)\"]\n",
    "t=plot.Table(columns)  \n",
    "t.addLine([[0.15,MaxN9 ,100*(0.15-MaxN9 )/0.15]],\"Ny9 \")  \n",
    "t.addLine([[0.15,MaxN17,100*(0.15-MaxN17)/0.15]],\"Ny17\")  \n",
    "t.addLine([[0.15,MaxN25,100*(0.15-MaxN25)/0.15]],\"Ny25\")  \n",
    "display(t)"
   ]
  },
  {
   "cell_type": "markdown",
   "id": "endangered-victory",
   "metadata": {},
   "source": [
    "## Convergency"
   ]
  },
  {
   "cell_type": "markdown",
   "id": "pregnant-peoples",
   "metadata": {},
   "source": [
    "### Velocity at central point"
   ]
  },
  {
   "cell_type": "code",
   "execution_count": null,
   "id": "studied-gamma",
   "metadata": {},
   "outputs": [],
   "source": [
    "graphique=plot.Graph(\"Velocity at Central Point\") \n",
    "graphique.addPoint('./Ny9/canalVEF_SONDE_POINT.son' ,marker=\"|\",color='r'     ,compo=0 ,label=\"Trio U Ny9\") \n",
    "graphique.addPoint('./Ny17/canalVEF_SONDE_POINT.son',marker=\"|\",color='b'     ,compo=0 ,label=\"Trio U Ny17\") \n",
    "graphique.addPoint('./Ny25/canalVEF_SONDE_POINT.son',marker=\"|\",color='violet',compo=0 ,label=\"Trio U Ny25\")   \n",
    "graphique.visu(0,2500,0.10,0.16) "
   ]
  },
  {
   "cell_type": "markdown",
   "id": "international-agenda",
   "metadata": {},
   "source": [
    "## Pressure loss\n",
    "\n",
    "The next table shows the friction velocity u* and the pressure loss $\\Delta P/\\rho/\\Delta x$ for each mesh against thetheorical values.\n",
    "\n",
    "For theorical values\n",
    "\n",
    "- u* is given by laminar formula for a channel :  Cf=$\\frac{\\lambda}{4}$ and $\\lambda=\\frac{96}{Rehyd}$. \\\n",
    "As $u^*=\\sqrt{0.5 \\cdot Cf \\cdot Um^2}$, it comes $u^*=Um \\cdot \\sqrt{\\frac{12}{Rehyd}}$\n",
    "- $\\Delta P/\\rho/\\Delta x$ is deduced by the theorical formula $u^*=\\sqrt{\\Delta P/\\rho/\\Delta x V/S}$\n",
    "\n",
    "where V and S are respectively the volume and the wall area of the geometry.  For this bi-periodic channelgeometry, $\\frac{V}{S}=\\frac{h}{2}$.\n",
    "\n",
    "For TrioU calculations :\n",
    "\n",
    "- u* is taken as the established value given in the file u_tau.dat (in fact the last value), issued from the data command 'traitement_particulier_canal'\n",
    "\n",
    "- $\\Delta P/\\rho/\\Delta x$ is taken as the established value given in the file *Pressure_Gradient_pb_periox*\n",
    "\n",
    "The table below shows that even if the differences between the velocity profiles and maximum Ux value against the analytical ones are low,  they have a important effect on the pressure loss and the friction velocity distortion."
   ]
  },
  {
   "cell_type": "markdown",
   "id": "wicked-toner",
   "metadata": {},
   "source": [
    "### Friction velocity and pressure loss for each calculation"
   ]
  },
  {
   "cell_type": "code",
   "execution_count": null,
   "id": "tamil-nurse",
   "metadata": {},
   "outputs": [],
   "source": [
    "pressN9 =plot.loadText(\"./Ny9/press.dat\" )\n",
    "pressN17=plot.loadText(\"./Ny17/press.dat\")\n",
    "pressN25=plot.loadText(\"./Ny25/press.dat\")\n",
    "\n",
    "columns=[r\"U* Trio_U \",r\" U* theo \",r\" Error on U* in $\\%$ \",r\" $\\Delta$P Trio_U \",r\" $\\Delta$P theo \",r\" Error on $\\Delta$P in $\\%$\"]\n",
    "t=plot.Table(columns)  \n",
    "t.addLine([pressN9 ],\"Ny9 \")      \n",
    "t.addLine([pressN17],\"Ny17\")      \n",
    "t.addLine([pressN25],\"Ny25\")    \n",
    "display(t)"
   ]
  },
  {
   "cell_type": "markdown",
   "id": "electronic-worse",
   "metadata": {},
   "source": [
    "## Effect of the alpha coefficient for EF_stab scheme\n",
    "\n",
    "For the thinest mesh we make a calculation including an alpha coefficient equal to 0.2 (default 1.)\n",
    "\n",
    "The Ef_stab scheme is a centered scheme stabilised with an upwind scheme according to this coefficient. The more alpha is low, the more the scheme is centered."
   ]
  },
  {
   "cell_type": "markdown",
   "id": "defined-reflection",
   "metadata": {},
   "source": [
    "### Velocity profile Vx\n",
    "\n",
    "The profiles with alpha=1. and alpha=0.2 are compared with the analytical one."
   ]
  },
  {
   "cell_type": "code",
   "execution_count": null,
   "id": "subjective-baker",
   "metadata": {},
   "outputs": [],
   "source": [
    "a = plot.Graph('Velocity profile Vx')\n",
    "\n",
    "#Fonction analytique*\n",
    "x=np.linspace(0,2,50)\n",
    "y=(-0.3/2.)*x*(x-2)\n",
    "a.add(x,y,\"-s\",label=\"analytique\")  \n",
    "\n",
    "x=plot.loadText(\"./Ny25/Moyennes_spatiales_vitesse_rho_mu\")\n",
    "a.add(x[0],x[1],\"-\",label=\"Trio U Ny=9\")  \n",
    "\n",
    "x=plot.loadText(\"./Ny25_02/Moyennes_spatiales_vitesse_rho_mu\")\n",
    "a.add(x[0],x[1],\"-\",label=\"Trio U Ny=17\")  \n",
    "\n",
    "a.label(\"y\",\"U\")\n",
    "a.visu(0,2,0,0.16)\n"
   ]
  },
  {
   "cell_type": "markdown",
   "id": "better-cartoon",
   "metadata": {},
   "source": [
    "### Relative error on Vx maximal value"
   ]
  },
  {
   "cell_type": "code",
   "execution_count": null,
   "id": "theoretical-lewis",
   "metadata": {},
   "outputs": [],
   "source": [
    "tmp=visit.export_lata_base(\"./Ny25/canalVEF.lata\",\"Pseudocolor\",\"VITESSE_X_FACES_dom_dual\",\"N25\")\n",
    "tmp.maximum()    \n",
    "tmp=visit.export_lata_base(\"./Ny25_02/canalVEF.lata\",\"Pseudocolor\",\"VITESSE_X_FACES_dom_dual\",\"N25_02\")\n",
    "tmp.maximum()  \n",
    "\n",
    "MaxN25   =plot.loadText(\"MaxN25\"   )\n",
    "MaxN25_02=plot.loadText(\"MaxN25_02\")\n",
    "\n",
    "columns=[\"Max analytic\",\"Max Trio_U\",r\"Error($\\%$)\"]\n",
    "t=plot.Table(columns)      \n",
    "t.addLine([[0.15,MaxN25   ,(0.15-MaxN25   )/0.15*100]],\"Ny25\")    \n",
    "t.addLine([[0.15,MaxN25_02,(0.15-MaxN25_02)/0.15*100]],\"Ny25\")    \n",
    "display(t)"
   ]
  },
  {
   "cell_type": "markdown",
   "id": "mathematical-trauma",
   "metadata": {},
   "source": [
    "### Friction velocity and pressure loss for each calculation"
   ]
  },
  {
   "cell_type": "code",
   "execution_count": null,
   "id": "unique-rouge",
   "metadata": {},
   "outputs": [],
   "source": [
    "pressN25   =plot.loadText(\"./Ny25/press.dat\")\n",
    "pressN25_02=plot.loadText(\"./Ny25_02/press.dat\")\n",
    "\n",
    "columns=[r\"U* Trio_U \",r\" U* theo \",r\" Error on U* in $\\%$ \",r\" $\\Delta$P Trio_U \",r\" $\\Delta$P theo \",r\" Error on $\\Delta$P in $\\%$\"]\n",
    "t=plot.Table(columns)        \n",
    "t.addLine([pressN25   ],\"Ny25\")   \n",
    "t.addLine([pressN25_02],\"Ny25_02\")    \n",
    "display(t)"
   ]
  },
  {
   "cell_type": "markdown",
   "id": "young-optics",
   "metadata": {},
   "source": [
    "## Conclusions\n",
    "\n",
    "In this laminar case, the use of a reduced value for alpha coefficient has an important positive effect on the calculated pressure loss.  But using a weak alpha value can make the calculation unstable.  So pay some attention for the time step not to be too high, especially using implicite scheme.\n",
    "\n",
    "The friction velocity is not so good despite the mesh refinement.  Some work has to be done to make it better."
   ]
  },
  {
   "cell_type": "markdown",
   "id": "executed-incentive",
   "metadata": {},
   "source": [
    "### Computer performance"
   ]
  },
  {
   "cell_type": "code",
   "execution_count": null,
   "id": "metric-arthritis",
   "metadata": {},
   "outputs": [],
   "source": [
    "run.tablePerf()"
   ]
  },
  {
   "cell_type": "markdown",
   "id": "steady-health",
   "metadata": {},
   "source": [
    "## Data Files"
   ]
  },
  {
   "cell_type": "markdown",
   "id": "centered-hostel",
   "metadata": {
    "tags": []
   },
   "source": [
    "### canalVEF"
   ]
  },
  {
   "cell_type": "code",
   "execution_count": null,
   "id": "compatible-chamber",
   "metadata": {
    "tags": []
   },
   "outputs": [],
   "source": [
    "run.dumpDataset(\"./canalVEF.data\")  "
   ]
  }
 ],
 "metadata": {
  "kernelspec": {
   "display_name": "Python 3 (ipykernel)",
   "language": "python",
   "name": "python3"
  },
  "language_info": {
   "codemirror_mode": {
    "name": "ipython",
    "version": 3
   },
   "file_extension": ".py",
   "mimetype": "text/x-python",
   "name": "python",
   "nbconvert_exporter": "python",
   "pygments_lexer": "ipython3",
   "version": "3.12.5"
  },
  "toc-autonumbering": false,
  "toc-showmarkdowntxt": false,
  "toc-showtags": false
 },
 "nbformat": 4,
 "nbformat_minor": 5
}
