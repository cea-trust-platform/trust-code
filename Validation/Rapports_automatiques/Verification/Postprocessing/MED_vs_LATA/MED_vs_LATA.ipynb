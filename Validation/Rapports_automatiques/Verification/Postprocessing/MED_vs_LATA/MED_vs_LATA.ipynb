{
 "cells": [
  {
   "cell_type": "markdown",
   "id": "ccc23b2e",
   "metadata": {},
   "source": [
    "# MED VS Lata Postprocessing and visualization\n"
   ]
  },
  {
   "cell_type": "markdown",
   "id": "54a02067",
   "metadata": {},
   "source": [
    "## Introduction\n",
    " \n",
    " Validation made by: ndjati\n",
    "\n",
    " Report generated 05/12/2023"
   ]
  },
  {
   "cell_type": "markdown",
   "id": "8283eee4",
   "metadata": {},
   "source": [
    "### Description\n",
    " \n",
    "This validation sheet aims to compare lata and med post-processing and visualization with visit (lata supported natively by VisIt, med supported thanks to plugins).\n",
    "\n",
    "\n",
    "This form does not generate any NR test since all the datasets are taken from already existing test cases.\n",
    "\n",
    "\n",
    "### Concluding remarks\n",
    "- Postprocessing fields on SOM and ELEM gives the same visu in med and lata\n",
    "- Postprocessing fields on FACES does not give similar visu in med and lata. Lata is correct and med is wrong! The reason is that for lata, the dom_dual is built by the plugin and the velocity field on faces lays on it (VITESSE_FACES_dom_dual_magnitude). For med, field is named as VITESSE_FACES_dom_ELEM_dom_magnitude.\n",
    "- in 3D EF, it is not possible to post-process the velocity on faces\n",
    "- in VDF_Axi (3D), the med format is wrong. Possible to post-process velocity on faces but field could not be found when loading lata file in visit."
   ]
  },
  {
   "cell_type": "code",
   "execution_count": null,
   "id": "1d92b756",
   "metadata": {},
   "outputs": [],
   "source": [
    "from trustutils import run \n",
    " \n",
    "run.TRUST_parameters(\"1.9.3\")"
   ]
  },
  {
   "cell_type": "markdown",
   "id": "80725392",
   "metadata": {},
   "source": [
    "## Computer Performance"
   ]
  },
  {
   "cell_type": "code",
   "execution_count": null,
   "id": "b5d65336",
   "metadata": {},
   "outputs": [],
   "source": [
    "from trustutils import run\n",
    "run.reset()\n",
    "run.addCase(\"EF_2D\",\"jdd.data\",nbProcs=1) \n",
    "run.addCase(\"EF_3D\",\"jdd.data\",nbProcs=1) \n",
    "run.addCase(\"VDF_2D\",\"jdd.data\",nbProcs=1) \n",
    "run.addCase(\"VDF_3D\",\"jdd.data\",nbProcs=1) \n",
    "run.addCase(\"VDF_3D_axi\",\"jdd.data\",nbProcs=1) \n",
    "run.addCase(\"VEF_2D\",\"jdd.data\",nbProcs=1) \n",
    "run.addCase(\"VEF_3D\",\"jdd.data\",nbProcs=1) \n",
    "run.printCases()\n",
    "run.runCases()"
   ]
  },
  {
   "cell_type": "code",
   "execution_count": null,
   "id": "58b657ec",
   "metadata": {},
   "outputs": [],
   "source": [
    "def med_vs_lata_visu(jdd,fields):\n",
    "    from trustutils import visit\n",
    "    for j, field in enumerate (fields):\n",
    "\n",
    "        if j == 0:\n",
    "            fig=visit.Show(f\"{jdd}/jdd_0000.med\",\"Pseudocolor\",f\"{field}\",plotmesh=False,title=\"med(left), lata(center), diff(right)\",nY=3,nX=4)\n",
    "        else:\n",
    "            fig.add(f\"{jdd}/jdd_0000.med\",\"Pseudocolor\",f\"{field}\",plotmesh=False,xIndice=j,yIndice=0)\n",
    "        fig.add(f\"{jdd}/jdd.lata\",\"Pseudocolor\",f\"{field}\",plotmesh=False,xIndice=j,yIndice=1)\n",
    "        fig.add(f\"{jdd}/jdd_0000.med\",\"Mesh\",\"dom\",plotmesh=False,xIndice=j,yIndice=2)\n",
    "        fig.visitCommand(f\"DefineScalarExpression('diff_{field}','{field}-pos_cmfe(<{jdd}/jdd.lata[0]id:{field}>,dom,0)')\")\n",
    "        fig.addField(f\"{jdd}/jdd_0000.med\",\"Pseudocolor\",f\"diff_{field}\")\n",
    "    fig.plot()\n",
    "    \n",
    "def med_vs_lata_visu_faces(jdd):\n",
    "    from trustutils import visit\n",
    "    if \"VDF_\" in jdd :\n",
    "        field = \"VITESSE_FACES_dom_ELEM_dom\"\n",
    "    else:\n",
    "        field = \"VITESSE_FACES_dom_ELEM_dom_magnitude\"\n",
    "    fig=visit.Show(f\"{jdd}/jdd_0000.med\",\"Pseudocolor\",f\"{field}\",plotmesh=False,title=\"med(left), lata(center), diff(right)\",nY=3,nX=1)\n",
    "    fig.add(f\"{jdd}/jdd.lata\",\"Pseudocolor\",\"VITESSE_FACES_dom_dual_magnitude\",plotmesh=False,xIndice=1,yIndice=1)\n",
    "    fig.add(f\"{jdd}/jdd_0000.med\",\"Mesh\",\"dom\",plotmesh=False,xIndice=1,yIndice=2)\n",
    "    fig.visitCommand(f\"DefineScalarExpression('dV_FACES_dom','{field}-pos_cmfe(<{jdd}/jdd.lata[0]id:VITESSE_FACES_dom_dual_magnitude>,dom,0)')\")\n",
    "    fig.addField(f\"{jdd}/jdd_0000.med\",\"Pseudocolor\",\"dV_FACES_dom\")\n",
    "    fig.plot()"
   ]
  },
  {
   "cell_type": "markdown",
   "id": "6fdb2cbb",
   "metadata": {},
   "source": [
    "# VEF 2D\n",
    "## Temperature and velocity on ELEM and SOM"
   ]
  },
  {
   "cell_type": "code",
   "execution_count": null,
   "id": "3338aa9c",
   "metadata": {},
   "outputs": [],
   "source": [
    "datafile = \"VEF_2D\"\n",
    "fields = [\"TEMPERATURE_ELEM_dom\",\"TEMPERATURE_SOM_dom\",\"VITESSE_ELEM_dom_magnitude\",\"VITESSE_SOM_dom_magnitude\"]\n",
    "med_vs_lata_visu(datafile, fields)"
   ]
  },
  {
   "cell_type": "markdown",
   "id": "daa7864d",
   "metadata": {},
   "source": [
    "## Velocity on faces"
   ]
  },
  {
   "cell_type": "code",
   "execution_count": null,
   "id": "f79cfb8f",
   "metadata": {},
   "outputs": [],
   "source": [
    "med_vs_lata_visu_faces(datafile)"
   ]
  },
  {
   "cell_type": "markdown",
   "id": "2d458db6",
   "metadata": {},
   "source": [
    "# VEF 3D\n",
    "## Temperature and velocity on ELEM and SOM"
   ]
  },
  {
   "cell_type": "code",
   "execution_count": null,
   "id": "c4bc20df",
   "metadata": {},
   "outputs": [],
   "source": [
    "datafile = \"VEF_3D\"\n",
    "fields = [\"TEMPERATURE_ELEM_dom\",\"TEMPERATURE_SOM_dom\",\"VITESSE_ELEM_dom_magnitude\",\"VITESSE_SOM_dom_magnitude\"]\n",
    "med_vs_lata_visu(datafile, fields)"
   ]
  },
  {
   "cell_type": "markdown",
   "id": "0f150fc2",
   "metadata": {},
   "source": [
    "## Velocity on faces"
   ]
  },
  {
   "cell_type": "code",
   "execution_count": null,
   "id": "499bb899",
   "metadata": {},
   "outputs": [],
   "source": [
    "med_vs_lata_visu_faces(datafile)"
   ]
  },
  {
   "cell_type": "markdown",
   "id": "3bee51d6",
   "metadata": {},
   "source": [
    "# EF 2D"
   ]
  },
  {
   "cell_type": "code",
   "execution_count": null,
   "id": "da5cfa0b",
   "metadata": {},
   "outputs": [],
   "source": [
    "datafile = \"EF_2D\"\n",
    "fields = [\"TEMPERATURE_ELEM_dom\",\"TEMPERATURE_SOM_dom\",\"VITESSE_ELEM_dom_magnitude\",\"VITESSE_SOM_dom_magnitude\"]\n",
    "med_vs_lata_visu(datafile, fields)"
   ]
  },
  {
   "cell_type": "markdown",
   "id": "b941ee22",
   "metadata": {},
   "source": [
    "## Velocity on faces"
   ]
  },
  {
   "cell_type": "code",
   "execution_count": null,
   "id": "9a39f6b4",
   "metadata": {},
   "outputs": [],
   "source": [
    "med_vs_lata_visu_faces(datafile)"
   ]
  },
  {
   "cell_type": "markdown",
   "id": "cc64de84",
   "metadata": {},
   "source": [
    "# EF 3D\n",
    "No VITESSE ON FACES"
   ]
  },
  {
   "cell_type": "code",
   "execution_count": null,
   "id": "1ef5f285",
   "metadata": {},
   "outputs": [],
   "source": [
    "datafile = \"EF_3D\"\n",
    "fields = [\"TEMPERATURE_ELEM_dom\",\"TEMPERATURE_SOM_dom\",\"VITESSE_ELEM_dom_magnitude\",\"VITESSE_SOM_dom_magnitude\"]\n",
    "med_vs_lata_visu(datafile, fields)"
   ]
  },
  {
   "cell_type": "markdown",
   "id": "1b0deea0",
   "metadata": {},
   "source": [
    "# VDF 2D"
   ]
  },
  {
   "cell_type": "code",
   "execution_count": null,
   "id": "d82f5848",
   "metadata": {},
   "outputs": [],
   "source": [
    "datafile = \"VDF_2D\"\n",
    "fields = [\"TEMPERATURE_ELEM_dom\",\"TEMPERATURE_SOM_dom\",\"VITESSE_ELEM_dom_magnitude\",\"VITESSE_SOM_dom_magnitude\"]\n",
    "med_vs_lata_visu(datafile, fields)"
   ]
  },
  {
   "cell_type": "markdown",
   "id": "eaea79ea",
   "metadata": {},
   "source": [
    "## Velocity on faces"
   ]
  },
  {
   "cell_type": "code",
   "execution_count": null,
   "id": "5a375296",
   "metadata": {},
   "outputs": [],
   "source": [
    "med_vs_lata_visu_faces(datafile)"
   ]
  },
  {
   "cell_type": "markdown",
   "id": "77f65faf",
   "metadata": {},
   "source": [
    "# VDF 3D"
   ]
  },
  {
   "cell_type": "code",
   "execution_count": null,
   "id": "ee055a77",
   "metadata": {},
   "outputs": [],
   "source": [
    "datafile = \"VDF_3D\"\n",
    "fields = [\"TEMPERATURE_ELEM_dom\",\"TEMPERATURE_SOM_dom\",\"VITESSE_ELEM_dom_magnitude\",\"VITESSE_SOM_dom_magnitude\"]\n",
    "med_vs_lata_visu(datafile, fields)"
   ]
  },
  {
   "cell_type": "markdown",
   "id": "71eede35",
   "metadata": {},
   "source": [
    "## Velocity on faces"
   ]
  },
  {
   "cell_type": "code",
   "execution_count": null,
   "id": "a6eefa6c",
   "metadata": {},
   "outputs": [],
   "source": [
    "med_vs_lata_visu_faces(datafile)"
   ]
  },
  {
   "cell_type": "markdown",
   "id": "2fe8f049",
   "metadata": {},
   "source": [
    "# VDF 3D Axi"
   ]
  },
  {
   "cell_type": "code",
   "execution_count": null,
   "id": "e41e8766",
   "metadata": {},
   "outputs": [],
   "source": [
    "datafile = \"VDF_3D_axi\"\n",
    "fields = [\"TEMPERATURE_ELEM_dom\",\"TEMPERATURE_SOM_dom\",\"VITESSE_ELEM_dom_magnitude\",\"VITESSE_SOM_dom_magnitude\"]\n",
    "med_vs_lata_visu(datafile, fields)"
   ]
  },
  {
   "cell_type": "markdown",
   "id": "0e2a8584",
   "metadata": {},
   "source": [
    "## Velocity on faces\n",
    "not possible to visualize velocity on faces in lata file"
   ]
  },
  {
   "cell_type": "code",
   "execution_count": null,
   "id": "eac4aa49",
   "metadata": {},
   "outputs": [],
   "source": [
    "#med_vs_lata_visu_faces(datafile)"
   ]
  }
 ],
 "metadata": {
  "kernelspec": {
   "display_name": "Python 3 (ipykernel)",
   "language": "python",
   "name": "python3"
  },
  "language_info": {
   "codemirror_mode": {
    "name": "ipython",
    "version": 3
   },
   "file_extension": ".py",
   "mimetype": "text/x-python",
   "name": "python",
   "nbconvert_exporter": "python",
   "pygments_lexer": "ipython3",
   "version": "3.12.5"
  }
 },
 "nbformat": 4,
 "nbformat_minor": 5
}
