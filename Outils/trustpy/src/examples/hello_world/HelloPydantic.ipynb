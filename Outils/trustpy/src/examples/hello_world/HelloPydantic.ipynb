{
 "cells": [
  {
   "cell_type": "markdown",
   "id": "2b5fbf83",
   "metadata": {},
   "source": [
    "# Hello World example using pydantic"
   ]
  },
  {
   "cell_type": "markdown",
   "id": "21b37db1",
   "metadata": {},
   "source": [
    "This is a simple hello world notebook illustrating what can be done with trustpy.\n",
    "\n",
    "The TRAD2_example has already been generated and is provided in the same folder as this notebook\n",
    "(if you care, it was generated with an intermediate TRUST version somewhere between 1.9.2 \n",
    "and 1.9.3).\n",
    "\n",
    "To run this notebook properly, you should ensure that the Python environment has been properly loaded\n",
    "with\n",
    "\n",
    "```\n",
    "    source $TRUST_ROOT/env_for_python.sh\n",
    "```"
   ]
  },
  {
   "cell_type": "markdown",
   "id": "75ce9de2",
   "metadata": {},
   "source": [
    "## Generate the data model schema\n",
    "\n",
    "The generated module TRAD2_example.py will contain the model schema : \n",
    "each possible class is described with its allowed attributes."
   ]
  },
  {
   "cell_type": "code",
   "execution_count": null,
   "id": "53f9e603",
   "metadata": {},
   "outputs": [],
   "source": [
    "from trustpy.trad2_pydantic import generate_pydantic\n",
    "generate_pydantic(trad2_filename=\"TRAD2_example\", output_filename=\"TRAD2_example.py\")"
   ]
  },
  {
   "cell_type": "markdown",
   "id": "e650e357",
   "metadata": {},
   "source": [
    "## Import the data model schema"
   ]
  },
  {
   "cell_type": "code",
   "execution_count": null,
   "id": "ab812693",
   "metadata": {},
   "outputs": [],
   "source": [
    "import TRAD2_example as schema"
   ]
  },
  {
   "cell_type": "markdown",
   "id": "20f867cf",
   "metadata": {},
   "source": [
    "## Create instances following the schema"
   ]
  },
  {
   "cell_type": "code",
   "execution_count": null,
   "id": "1a8e87a3",
   "metadata": {},
   "outputs": [],
   "source": [
    "# new instance of eqn_base\n",
    "eqn_base = schema.Eqn_base()\n",
    "\n",
    "# access and change property \"conditions_limites\"\n",
    "eqn_base.conditions_limites.append(\n",
    "    schema.Condlimlu(bord=\"le_nom_du_bord\", cl=schema.Paroi_fixe())\n",
    ")\n",
    "print(eqn_base.model_dump_json(indent=2))"
   ]
  },
  {
   "cell_type": "markdown",
   "id": "b24ad2d6",
   "metadata": {},
   "source": [
    "## Validate a model thanks to pydantic schema"
   ]
  },
  {
   "cell_type": "code",
   "execution_count": null,
   "id": "6c1c1567",
   "metadata": {},
   "outputs": [],
   "source": [
    "# setting wrong value is allowed\n",
    "eqn_base.convection = 123\n",
    "\n",
    "# but validation raises an error\n",
    "from pydantic import ValidationError\n",
    "try:\n",
    "    eqn_base.model_validate(eqn_base.model_dump())\n",
    "    print(\"no error\")\n",
    "except ValidationError as err:\n",
    "    print(err)"
   ]
  },
  {
   "cell_type": "code",
   "execution_count": null,
   "id": "3587b678",
   "metadata": {},
   "outputs": [],
   "source": []
  }
 ],
 "metadata": {
  "kernelspec": {
   "display_name": "Python 3 (ipykernel)",
   "language": "python",
   "name": "python3"
  },
  "language_info": {
   "codemirror_mode": {
    "name": "ipython",
    "version": 3
   },
   "file_extension": ".py",
   "mimetype": "text/x-python",
   "name": "python",
   "nbconvert_exporter": "python",
   "pygments_lexer": "ipython3",
   "version": "3.7.16"
  }
 },
 "nbformat": 4,
 "nbformat_minor": 5
}
